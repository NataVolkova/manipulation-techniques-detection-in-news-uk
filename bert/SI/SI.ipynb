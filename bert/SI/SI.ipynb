{
 "cells": [
  {
   "cell_type": "markdown",
   "source": [
    "## Span Identification\n",
    "\"model_name\": \"google-bert/bert-base-multilingual-uncased\",\n",
    "\"max_seq_length\": 128,\n",
    "\"train_batch_size\": 8,\n",
    "\"eval_batch_size\": 8,\n",
    "\"num_train_epochs\": 1"
   ],
   "metadata": {
    "collapsed": false
   },
   "id": "93c476612b274db1"
  },
  {
   "cell_type": "code",
   "execution_count": 77,
   "id": "initial_id",
   "metadata": {
    "collapsed": true,
    "ExecuteTime": {
     "end_time": "2024-05-16T16:17:59.379685300Z",
     "start_time": "2024-05-16T16:17:59.257686100Z"
    }
   },
   "outputs": [],
   "source": [
    "import os\n",
    "import glob\n",
    "import codecs\n",
    "import csv\n",
    "import pandas as pd\n",
    "import math\n",
    "import numpy as np\n",
    "from tqdm import tqdm, tqdm_notebook, trange\n",
    "import torch\n",
    "from torch.utils.data import (DataLoader, RandomSampler, SequentialSampler, TensorDataset)\n",
    "from transformers import (BertConfig, BertTokenizer, BertForSequenceClassification, AdamW, get_linear_schedule_with_warmup)"
   ]
  },
  {
   "cell_type": "markdown",
   "source": [
    "### Config"
   ],
   "metadata": {
    "collapsed": false
   },
   "id": "f4ba70e1ef2d68aa"
  },
  {
   "cell_type": "code",
   "outputs": [],
   "source": [
    "train_articles = \"datasets/train\"\n",
    "dev_articles = \"datasets/dev\"\n",
    "train_SI_labels = \"datasets/train_SI_labels\"\n",
    "dev_SI_labels = \"datasets/dev_SI_labels\""
   ],
   "metadata": {
    "collapsed": false
   },
   "id": "a8bc0394b1d36e54"
  },
  {
   "cell_type": "code",
   "outputs": [],
   "source": [
    "device = torch.device(\"cuda\")\n",
    "n_gpu = torch.cuda.device_count()"
   ],
   "metadata": {
    "collapsed": false
   },
   "id": "dab239e3d3b9e746"
  },
  {
   "cell_type": "code",
   "outputs": [],
   "source": [
    "MODEL_CLASSES = {\"bert\": (BertConfig, BertForSequenceClassification, BertTokenizer)}\n",
    "args = {\"data_dir\": \"bert/\",\n",
    "        \"model_type\": \"bert\",\n",
    "        \"model_name\": \"google-bert/bert-base-multilingual-uncased\",\n",
    "        \"output_dir\": \"output_dir/output_model_SI\",\n",
    "        \"max_seq_length\": 128,\n",
    "        \"train_batch_size\": 8,\n",
    "        \"eval_batch_size\": 8,\n",
    "        \"num_train_epochs\": 1,\n",
    "        \"weight_decay\": 0,\n",
    "        \"learning_rate\": 4e-5,\n",
    "        \"adam_epsilon\": 1e-8,\n",
    "        \"warmup_ratio\": 0.06,\n",
    "        \"warmup_steps\": 0,\n",
    "        \"max_grad_norm\": 1.0,\n",
    "        \"gradient_accumulation_steps\": 1,\n",
    "        \"save_steps\": 2000}"
   ],
   "metadata": {
    "collapsed": false,
    "ExecuteTime": {
     "end_time": "2024-05-13T21:04:10.963307400Z",
     "start_time": "2024-05-13T21:04:09.910073300Z"
    }
   },
   "id": "3fd40bda503a11e9",
   "execution_count": 2
  },
  {
   "cell_type": "markdown",
   "source": [
    "#### Data pre-processing"
   ],
   "metadata": {
    "collapsed": false
   },
   "id": "1321a9e344238181"
  },
  {
   "cell_type": "code",
   "outputs": [],
   "source": [
    "def merge_overlapping(indices_list):\n",
    "  \"\"\"\n",
    "  Merges overlapping indices and sorts indices from list of tuples\n",
    "  \"\"\"\n",
    "  # If no propaganda, return empty list\n",
    "  if indices_list == []:\n",
    "    return []\n",
    "\n",
    "  # Sort the list\n",
    "  indices_list = sorted(indices_list)\n",
    "  i = 0\n",
    "\n",
    "  # Going through tuples from the beginning, see if it overlaps with the nex one \n",
    "  # and merge it if so\n",
    "  while True:\n",
    "    if i == len(indices_list) - 1:\n",
    "      break\n",
    "    \n",
    "    # If the next one is within the range of current, just delete next one. If\n",
    "    # overlapping, then merge the range\n",
    "    elif indices_list[i][1] >= indices_list[i + 1][0]:\n",
    "      if indices_list[i][1] >= indices_list[i + 1][1]:\n",
    "        pass\n",
    "      else:\n",
    "        indices_list[i] = (indices_list[i][0], indices_list[i+1][1])\n",
    "      indices_list.pop(i+1)\n",
    "\n",
    "    # Go to next element if not overlapping\n",
    "    else:\n",
    "      i += 1\n",
    "\n",
    "  return indices_list"
   ],
   "metadata": {
    "collapsed": false,
    "ExecuteTime": {
     "end_time": "2024-05-13T21:04:10.981309100Z",
     "start_time": "2024-05-13T21:04:10.967315200Z"
    }
   },
   "id": "16bc7fe67d397e35",
   "execution_count": 3
  },
  {
   "cell_type": "code",
   "outputs": [],
   "source": [
    "def article_to_sequences(article_id, article, tokenizer):\n",
    "  \"\"\"\n",
    "  Divides article into sequences, dividing first by sentences then to powersets\n",
    "  of the sentences\n",
    "  \"\"\"\n",
    "  # Split the lines by sentences\n",
    "  curr = 0\n",
    "  lines = article.split(\"\\n\")\n",
    "  sequences = []\n",
    "  seq_starts = []\n",
    "  seq_ends = []\n",
    "\n",
    "  # For each lines, do:\n",
    "  for line in lines:\n",
    "    # If an empty line, just continue\n",
    "    if line == \"\":\n",
    "      curr += 1\n",
    "      continue\n",
    "\n",
    "    # Tokenize the line\n",
    "    tokenized = tokenizer.tokenize(line)\n",
    "\n",
    "    # For each token, do:\n",
    "    seq_start = 0\n",
    "    for ind, token in enumerate(tokenized):\n",
    "      # Get the token without ## sign\n",
    "      mod_start_token = token.replace(\"##\", \"\")\n",
    "\n",
    "      # Find the start of the sequence in line\n",
    "      seq_start = line.lower().find(mod_start_token, seq_start)\n",
    "\n",
    "      # Update the end of the sequence\n",
    "      seq_end = seq_start\n",
    "\n",
    "      # For each following tokens in the line, do\n",
    "      for iter in range(1, len(tokenized) + 1 - ind):\n",
    "        # Also modify this token\n",
    "        mod_end_token = tokenized[ind + iter - 1].replace(\"##\", \"\")\n",
    "        # Find the end of the token\n",
    "        seq_end = line.lower().find(mod_end_token, seq_end) + len(mod_end_token)\n",
    "\n",
    "        sequences.append(tokenizer.convert_tokens_to_string(tokenized[ind: ind + iter]))\n",
    "        seq_starts.append(curr + seq_start)\n",
    "        seq_ends.append(curr + seq_end)\n",
    "\n",
    "      # Update the start of the sequence\n",
    "      seq_start += len(mod_start_token)\n",
    "\n",
    "    # Update the current whereabouts\n",
    "    curr += len(line) + 1\n",
    "\n",
    "  dataframe = pd.DataFrame(None, range(len(sequences)), [\"id\", \"seq_starts\", \"seq_ends\", \"label\", \"text\"])\n",
    "  dataframe[\"id\"] = [article_id] * len(sequences)\n",
    "  dataframe[\"seq_starts\"] = seq_starts\n",
    "  dataframe[\"seq_ends\"] = seq_ends\n",
    "  dataframe[\"label\"] = [0] * len(sequences)\n",
    "  dataframe[\"text\"] = sequences\n",
    "  return dataframe\n"
   ],
   "metadata": {
    "collapsed": false,
    "ExecuteTime": {
     "end_time": "2024-05-13T21:04:11.008342400Z",
     "start_time": "2024-05-13T21:04:10.986308900Z"
    }
   },
   "id": "89511d0df25b2d8c",
   "execution_count": 4
  },
  {
   "cell_type": "code",
   "outputs": [],
   "source": [
    "def article_labels_to_sequences(article, indices_list):\n",
    "  \"\"\"\n",
    "  Divides article into sequences, where each are tagged to be propaganda or not\n",
    "  \"\"\"\n",
    "  # Start at 0 indices, and split the article into lines\n",
    "  curr = 0\n",
    "  lines = article.split(\"\\n\")\n",
    "  sequences = {}\n",
    "\n",
    "  # For each lines, do:\n",
    "  for line in lines:\n",
    "    # If an empty line, just continue after adding \\n character\n",
    "    if line == \"\":\n",
    "      curr += 1\n",
    "      continue\n",
    "\n",
    "    # If nothing in indices_list or current line is not part of propaganda, \n",
    "    # just mark it to be none \n",
    "    elif indices_list == [] or curr + len(line) <= indices_list[0][0]:\n",
    "      sequences[line] = 0\n",
    "\n",
    "    # If current line is part of propaganda, do:\n",
    "    else:\n",
    "      # If the propaganda is contained within the line, add it accordingly\n",
    "      # and pop that indices range\n",
    "      if curr + len(line) >= indices_list[0][1]:\n",
    "        sequences[line[:indices_list[0][0] - curr]] = 0\n",
    "        sequences[line[indices_list[0][0] - curr:indices_list[0][1] - curr]] = 1\n",
    "        sequences[line[indices_list[0][1] - curr:]] = 0\n",
    "        indices_list.pop(0)\n",
    "      # If the propaganda goes over to the next line, add accordingly and \n",
    "      # modify that indices range\n",
    "      else:\n",
    "        sequences[line[:indices_list[0][0] - curr]] = 0\n",
    "        sequences[line[indices_list[0][0] - curr:]] = 1\n",
    "        indices_list[0] = (curr + len(line) + 2, indices_list[0][1])  \n",
    "        indices_list[0] = tuple(indices_list[0])                       \n",
    "    # Add the current line length plus \\n character\n",
    "    curr += len(line) + 1\n",
    "\n",
    "  dataframe = pd.DataFrame(None, range(len(sequences)), [\"label\", \"text\"])\n",
    "  dataframe[\"label\"] = sequences.values()  \n",
    "  dataframe[\"text\"] = sequences.keys()\n",
    "  return dataframe"
   ],
   "metadata": {
    "collapsed": false,
    "ExecuteTime": {
     "end_time": "2024-05-13T21:04:11.024308200Z",
     "start_time": "2024-05-13T21:04:11.001308900Z"
    }
   },
   "id": "38c2edeb83e441c1",
   "execution_count": 5
  },
  {
   "cell_type": "code",
   "outputs": [],
   "source": [
    "def articles_to_dataframe(article_folder, label_folder):\n",
    "  \"\"\"\n",
    "  Preprocesses the articles into dataframes with sequences with binary tags\n",
    "  \"\"\"\n",
    "  # First sort the filenames and make sure we have label file for each articles\n",
    "  article_filenames = sorted(glob.glob(os.path.join(article_folder, \"*.txt\")))\n",
    "  label_filenames = sorted(glob.glob(os.path.join(label_folder, \"*.labels.tsv\"))) \n",
    "  assert len(article_filenames) == len(label_filenames)\n",
    "\n",
    "  # Initialize sequences\n",
    "  sequences = []\n",
    "\n",
    "  # For each article, do:\n",
    "  for i in range(len(article_filenames)):\n",
    "    # Read in the article\n",
    "    with codecs.open(article_filenames[i], \"r\", encoding=\"utf8\") as f:\n",
    "      article = f.read()\n",
    "\n",
    "    with open(label_filenames[i], \"r\") as f:\n",
    "      reader = csv.reader(f, delimiter=\"\\t\")\n",
    "      indices_list = []\n",
    "      for row in reader:\n",
    "        indices_list.append([int(row[1]), int(row[2])])\n",
    "\n",
    "      # Merge the indices if overlapping\n",
    "      indices_list = merge_overlapping(indices_list)\n",
    "\n",
    "    # Add to the sequences\n",
    "    sequences.append(article_labels_to_sequences(article, indices_list))\n",
    "\n",
    "  # Concatenate all dataframes\n",
    "  dataframe = pd.concat(sequences, ignore_index=True)\n",
    "\n",
    "  return dataframe"
   ],
   "metadata": {
    "collapsed": false,
    "ExecuteTime": {
     "end_time": "2024-05-13T21:04:11.051311500Z",
     "start_time": "2024-05-13T21:04:11.017308500Z"
    }
   },
   "id": "f13864f0979c6530",
   "execution_count": 6
  },
  {
   "cell_type": "code",
   "outputs": [],
   "source": [
    "def convert_dataframe_to_features(dataframe, max_seq_length, tokenizer):\n",
    "  \"\"\"\n",
    "  Converts dataframe into features dataframe, where each feature will\n",
    "  take form of [CLS] + A + [SEP]\n",
    "  \"\"\"\n",
    "  # Create features\n",
    "  features = pd.DataFrame(None, range(dataframe.shape[0]), \n",
    "                              [\"input_ids\", \"input_mask\", \"segment_ids\", \"label_ids\"])\n",
    "\n",
    "  # For each sequence, do:\n",
    "  for i in range(len(dataframe)):\n",
    "    # Set first and second part of the sequences\n",
    "    tokens = tokenizer.tokenize(dataframe[\"text\"][i])\n",
    "\n",
    "    # If length of the sequence is greater than max sequence length, truncate it\n",
    "    if len(tokens) > max_seq_length - 2:\n",
    "        tokens = tokens[:(max_seq_length - 2)]\n",
    "\n",
    "    # Concatenate the tokens\n",
    "    tokens = [tokenizer.cls_token] + tokens + [tokenizer.sep_token]\n",
    "\n",
    "    # Compute the ids\n",
    "    segment_ids = [0] * len(tokens)\n",
    "    input_ids = tokenizer.convert_tokens_to_ids(tokens)\n",
    "    input_mask = [1] * len(input_ids)\n",
    "\n",
    "    # Zero-pad up to the sequence length.\n",
    "    padding_length = max_seq_length - len(input_ids)\n",
    "    pad_token = tokenizer.convert_tokens_to_ids([tokenizer.pad_token])[0]\n",
    "    input_ids = input_ids + [pad_token] * padding_length\n",
    "    input_mask = input_mask + [0] * padding_length\n",
    "    segment_ids = segment_ids + [0] * padding_length\n",
    "    label_id = dataframe[\"label\"][i]\n",
    "\n",
    "    # Assert to make sure we have same length\n",
    "    assert len(input_ids) == max_seq_length\n",
    "    assert len(input_mask) == max_seq_length\n",
    "    assert len(segment_ids) == max_seq_length\n",
    "\n",
    "    # Put the data into features dataframe\n",
    "    features[\"input_ids\"][i] = input_ids\n",
    "    features[\"input_mask\"][i] = input_mask\n",
    "    features[\"segment_ids\"][i] = segment_ids\n",
    "    features[\"label_ids\"][i] = label_id   \n",
    "\n",
    "  return features"
   ],
   "metadata": {
    "collapsed": false,
    "ExecuteTime": {
     "end_time": "2024-05-13T21:04:11.053312700Z",
     "start_time": "2024-05-13T21:04:11.027308600Z"
    }
   },
   "id": "db3b2dfbd5f69d58",
   "execution_count": 7
  },
  {
   "cell_type": "code",
   "outputs": [],
   "source": [
    "def generate_training_dataset_from_articles(articles_folders, labels_folders, tokenizer):\n",
    "  \"\"\"\n",
    "  Generates dataset to go into BERT from articles and labels\n",
    "  \"\"\"\n",
    "  \n",
    "  # For each articles and labels folder set, turn them into dataframes\n",
    "  dataframe_list = []\n",
    "  for i in range(len(articles_folders)):\n",
    "    dataframe_list.append(articles_to_dataframe(articles_folders[i], labels_folders[i]))\n",
    "\n",
    "  # Concatenate the dataframes to make a total dataframe\n",
    "  dataframe = pd.concat(dataframe_list, ignore_index=True)\n",
    "  # Process into features dataframe\n",
    "  features = convert_dataframe_to_features(dataframe, args['max_seq_length'], tokenizer)\n",
    "      \n",
    "  # Creating TensorDataset from features\n",
    "  all_input_ids = torch.tensor(features[\"input_ids\"], dtype=torch.long)\n",
    "  all_input_mask = torch.tensor(features[\"input_mask\"], dtype=torch.long)\n",
    "  all_segment_ids = torch.tensor(features[\"segment_ids\"], dtype=torch.long)\n",
    "  all_label_ids = torch.tensor(features[\"label_ids\"], dtype=torch.long)\n",
    "\n",
    "  dataset = TensorDataset(all_input_ids, all_input_mask, all_segment_ids, all_label_ids)\n",
    "  return dataset"
   ],
   "metadata": {
    "collapsed": false,
    "ExecuteTime": {
     "end_time": "2024-05-13T21:04:11.081346900Z",
     "start_time": "2024-05-13T21:04:11.048310900Z"
    }
   },
   "id": "f46a32983cde1099",
   "execution_count": 8
  },
  {
   "cell_type": "markdown",
   "source": [
    "#### Train"
   ],
   "metadata": {
    "collapsed": false
   },
   "id": "b1ecddccae0234c4"
  },
  {
   "cell_type": "code",
   "outputs": [],
   "source": [
    "def train(train_dataset, model):\n",
    "  \"\"\"\n",
    "  Trains the model with training dataset\n",
    "  \"\"\"\n",
    "  # Initialize various necessary objects\n",
    "  train_sampler = RandomSampler(train_dataset)\n",
    "  train_dataloader = DataLoader(train_dataset, sampler=train_sampler, batch_size=args['train_batch_size'])\n",
    "    \n",
    "  # Compute the total time\n",
    "  t_total = len(train_dataloader) // args['gradient_accumulation_steps'] * args['num_train_epochs']\n",
    "  \n",
    "  # Set the grouped parameters for optimizer\n",
    "  no_decay = ['bias', 'LayerNorm.weight']\n",
    "  optimizer_grouped_parameters = [\n",
    "    {'params': [p for n, p in model.named_parameters() if not any(nd in n for nd in no_decay)], 'weight_decay': args['weight_decay']},\n",
    "    {'params': [p for n, p in model.named_parameters() if any(nd in n for nd in no_decay)], 'weight_decay': 0.0}\n",
    "    ]\n",
    "  \n",
    "  # Compute warmup steps\n",
    "  warmup_steps = math.ceil(t_total * args['warmup_ratio'])\n",
    "  args['warmup_steps'] = warmup_steps if args['warmup_steps'] == 0 else args['warmup_steps']\n",
    "  \n",
    "  # Initialize optimizer as Adam with constant weight decay and a linear scheduler with warmup\n",
    "  optimizer = AdamW(optimizer_grouped_parameters, lr=args['learning_rate'], eps=args['adam_epsilon'])\n",
    "  scheduler = get_linear_schedule_with_warmup(optimizer, num_warmup_steps=args['warmup_steps'], num_training_steps=t_total)\n",
    "\n",
    "  # Initialize variables for training\n",
    "  global_step = 0\n",
    "  tr_loss = 0.0\n",
    "  model.zero_grad()\n",
    "  train_iterator = trange(int(args['num_train_epochs']), desc=\"Epoch\")\n",
    "  \n",
    "  # Start training!\n",
    "  for _ in train_iterator:\n",
    "    epoch_iterator = tqdm_notebook(train_dataloader, desc=\"Iteration\")\n",
    "    for step, batch in enumerate(epoch_iterator):\n",
    "      model.train()\n",
    "      batch = tuple(t.to(device) for t in batch)\n",
    "      inputs = {'input_ids':      batch[0],\n",
    "                'attention_mask': batch[1],\n",
    "                'token_type_ids': batch[2], \n",
    "                'labels':         batch[3]}\n",
    "      outputs = model(**inputs)\n",
    "      loss = outputs[0]\n",
    "\n",
    "      if args['gradient_accumulation_steps'] > 1:\n",
    "        loss = loss / args['gradient_accumulation_steps']\n",
    "          \n",
    "      loss.backward()\n",
    "      torch.nn.utils.clip_grad_norm_(model.parameters(), args['max_grad_norm'])\n",
    "\n",
    "      tr_loss += loss.item()\n",
    "      if (step + 1) % args['gradient_accumulation_steps'] == 0:\n",
    "        optimizer.step()\n",
    "        scheduler.step() \n",
    "        model.zero_grad()\n",
    "        global_step += 1\n",
    "\n",
    "        if args['save_steps'] > 0 and global_step % args['save_steps'] == 0:\n",
    "          output_dir = os.path.join(args['output_dir'], 'checkpoint-{}'.format(global_step))\n",
    "          if not os.path.exists(output_dir):\n",
    "            os.makedirs(output_dir)\n",
    "          model_to_save = model.module if hasattr(model, 'module') else model\n",
    "          model_to_save.save_pretrained(output_dir)\n",
    "          logger.info(\"Saving model checkpoint to %s\", output_dir)\n",
    "\n",
    "  return global_step, tr_loss / global_step"
   ],
   "metadata": {
    "collapsed": false,
    "ExecuteTime": {
     "end_time": "2024-05-13T21:04:11.097308300Z",
     "start_time": "2024-05-13T21:04:11.066308200Z"
    }
   },
   "id": "88821a66be24259a",
   "execution_count": 9
  },
  {
   "cell_type": "code",
   "outputs": [
    {
     "name": "stderr",
     "output_type": "stream",
     "text": [
      "INFO:LOG:Generating training dataset...\n",
      "INFO:LOG:Generating dataframe for folder datasets/train\n",
      "INFO:LOG:Creating features from dataframe\n"
     ]
    },
    {
     "name": "stdout",
     "output_type": "stream",
     "text": [
      "      label                                               text\n",
      "0         0  буковинця засудили до довічного ув'язнення за ...\n",
      "1         1  чоловік побив її, потім наніс ножові поранення...\n",
      "2         0                                                 о.\n",
      "3         0                                     друзі, у мене \n",
      "4         1                                              шален\n",
      "...     ...                                                ...\n",
      "3994      1  нехай краще 10 років ведуть переговори про мир...\n",
      "3995      0  \", – сказав він. також у виступі на комітеті в...\n",
      "3996      0                                                   \n",
      "3997      1                повальна мобілізація теж не допомож\n",
      "3998      0  е. навіть якщо призвемо зараз 4 млн українців ...\n",
      "\n",
      "[3999 rows x 2 columns]\n",
      "(3999, 2)\n"
     ]
    },
    {
     "name": "stderr",
     "output_type": "stream",
     "text": [
      "INFO:LOG:Creating TensorDataset from features dataframe\n",
      "C:\\Users\\Ната\\AppData\\Local\\Programs\\Python\\Python310\\lib\\site-packages\\transformers\\optimization.py:521: FutureWarning: This implementation of AdamW is deprecated and will be removed in a future version. Use the PyTorch implementation torch.optim.AdamW instead, or set `no_deprecation_warning=True` to disable this warning\n",
      "  warnings.warn(\n",
      "Epoch:   0%|          | 0/1 [00:00<?, ?it/s]C:\\Windows\\Temp\\ipykernel_1144\\1346356067.py:36: TqdmDeprecationWarning: This function will be removed in tqdm==5.0.0\n",
      "Please use `tqdm.notebook.tqdm` instead of `tqdm.tqdm_notebook`\n",
      "  epoch_iterator = tqdm_notebook(train_dataloader, desc=\"Iteration\")\n"
     ]
    },
    {
     "data": {
      "text/plain": "Iteration:   0%|          | 0/500 [00:00<?, ?it/s]",
      "application/vnd.jupyter.widget-view+json": {
       "version_major": 2,
       "version_minor": 0,
       "model_id": "cd8165fd8d4d4901bbba7d9fcb482c05"
      },
      "application/json": {
       "n": 0,
       "total": 500,
       "elapsed": 0.005998373031616211,
       "ncols": null,
       "nrows": null,
       "prefix": "Iteration",
       "ascii": false,
       "unit": "it",
       "unit_scale": false,
       "rate": null,
       "bar_format": null,
       "postfix": null,
       "unit_divisor": 1000,
       "initial": 0,
       "colour": null
      }
     },
     "metadata": {},
     "output_type": "display_data"
    },
    {
     "name": "stderr",
     "output_type": "stream",
     "text": [
      "Epoch: 100%|██████████| 1/1 [03:34<00:00, 214.60s/it]\n",
      "INFO:LOG: global_step = 500, average loss = 0.31195589937455953\n",
      "INFO:LOG:Saving model checkpoint to output_model_SI\n"
     ]
    }
   ],
   "source": [
    "config_class, model_class, tokenizer_class = MODEL_CLASSES[args[\"model_type\"]]\n",
    "config = config_class.from_pretrained(args[\"model_name\"], num_labels=2, finetuning_task=\"binary\")\n",
    "tokenizer = tokenizer_class.from_pretrained(args[\"model_name\"])\n",
    "model = model_class(config)\n",
    "model.to(device)\n",
    "\n",
    "train_dataset = generate_training_dataset_from_articles([train_articles], [train_SI_labels], tokenizer)\n",
    "global_step, tr_loss = train(train_dataset, model)\n",
    "\n",
    "model_to_save = model.module if hasattr(model, 'module') else model\n",
    "model_to_save.save_pretrained(args['output_dir'])\n",
    "tokenizer.save_pretrained(args['output_dir'])\n",
    "torch.save(args, os.path.join(args['output_dir'], 'training_args.bin'))"
   ],
   "metadata": {
    "collapsed": false,
    "ExecuteTime": {
     "end_time": "2024-05-13T21:08:04.067486200Z",
     "start_time": "2024-05-13T21:04:11.079310900Z"
    }
   },
   "id": "b5cca90dbffd1d74",
   "execution_count": 10
  },
  {
   "cell_type": "markdown",
   "source": [
    "#### Evaluation"
   ],
   "metadata": {
    "collapsed": false
   },
   "id": "209a6dfb17c9db14"
  },
  {
   "cell_type": "code",
   "outputs": [],
   "source": [
    "def generate_SI_eval_dataset_from_article(article_file, tokenizer):\n",
    "  \"\"\"\n",
    "  Generates SI dataset to go into BERT from articles and labels\n",
    "  \"\"\"\n",
    "  # Get the id name\n",
    "  article_id = os.path.basename(article_file).split(\".\")[0][7:]\n",
    "\n",
    "  # Read in the article\n",
    "  with codecs.open(article_file, \"r\", encoding=\"utf8\") as f:\n",
    "    article = f.read()\n",
    "\n",
    "  # For evaluating, do:\n",
    "  dataframe = article_to_sequences(article_id, article, tokenizer)\n",
    "\n",
    "  # Only include sequences that has alphanumeric characters in them\n",
    "  bool_indices = [False] * len(dataframe)\n",
    "  for i in range(len(dataframe)):\n",
    "    if any(c.isalnum() for c in dataframe[\"text\"][i]):\n",
    "      bool_indices[i] = True\n",
    "  dataframe = dataframe.loc[bool_indices].reset_index(drop=True)\n",
    "\n",
    "\n",
    "  # Process into features dataframe\n",
    "  features = convert_dataframe_to_features(dataframe, args['max_seq_length'], tokenizer)\n",
    "      \n",
    "  # Creating TensorDataset from features\n",
    "  all_input_ids = torch.tensor(features[\"input_ids\"], dtype=torch.long)\n",
    "  all_input_mask = torch.tensor(features[\"input_mask\"], dtype=torch.long)\n",
    "  all_segment_ids = torch.tensor(features[\"segment_ids\"], dtype=torch.long)\n",
    "  all_label_ids = torch.tensor(features[\"label_ids\"], dtype=torch.long)\n",
    "\n",
    "  dataset = TensorDataset(all_input_ids, all_input_mask, all_segment_ids, all_label_ids)\n",
    "  return dataset, dataframe\n"
   ],
   "metadata": {
    "collapsed": false,
    "ExecuteTime": {
     "end_time": "2024-05-13T21:08:04.082454100Z",
     "start_time": "2024-05-13T21:08:04.074461500Z"
    }
   },
   "id": "bf95b3ad723daf7a",
   "execution_count": 11
  },
  {
   "cell_type": "code",
   "outputs": [],
   "source": [
    "def classify_per_article(eval_dataframe, eval_dataset, model):\n",
    "  \"\"\"\n",
    "  Classifies a single article dataset and returns article id with indices list\n",
    "  \"\"\"\n",
    "  # Load the eval data and initialize sampler\n",
    "  eval_sampler = SequentialSampler(eval_dataset)\n",
    "  eval_dataloader = DataLoader(eval_dataset, sampler=eval_sampler, batch_size=args['eval_batch_size'])\n",
    "\n",
    "  # Start Classification\n",
    "  preds = np.empty((0, 2)) \n",
    "\n",
    "  # For each batch, evaluate\n",
    "  for batch in tqdm_notebook(eval_dataloader, desc=\"Evaluating\"):\n",
    "    model.eval()\n",
    "    batch = tuple(t.to(device) for t in batch)\n",
    "\n",
    "    with torch.no_grad():\n",
    "      inputs = {'input_ids':      batch[0],\n",
    "                'attention_mask': batch[1],\n",
    "                'token_type_ids': batch[2],\n",
    "                'labels':         batch[3]}\n",
    "      outputs = model(**inputs)\n",
    "      logits = outputs[1]\n",
    "\n",
    "      preds = np.append(preds, logits.detach().cpu().numpy(), axis=0)\n",
    "\n",
    "  # Get the most probable prediction\n",
    "  preds = np.argmax(preds, axis=1)\n",
    "  eval_dataframe[\"label\"] = preds\n",
    "\n",
    "  # Get the propaganda indices and return them\n",
    "  eval_dataframe = eval_dataframe.loc[eval_dataframe[\"label\"] ==1].reset_index(drop=True)\n",
    "  indices_list = []\n",
    "  for i in range(len(eval_dataframe)):\n",
    "    indices_list.append(tuple([eval_dataframe[\"seq_starts\"][i], eval_dataframe[\"seq_ends\"][i]]))\n",
    "  indices_list = merge_overlapping(indices_list)\n",
    "\n",
    "  return eval_dataframe[\"id\"][0], indices_list"
   ],
   "metadata": {
    "collapsed": false,
    "ExecuteTime": {
     "end_time": "2024-05-13T21:08:04.116488500Z",
     "start_time": "2024-05-13T21:08:04.090455Z"
    }
   },
   "id": "2d8f418a99e488e5",
   "execution_count": 12
  },
  {
   "cell_type": "code",
   "outputs": [
    {
     "name": "stderr",
     "output_type": "stream",
     "text": [
      "INFO:LOG:Generating evaluation dataset...\n",
      "INFO:LOG:Creating features from dataframe\n"
     ]
    },
    {
     "name": "stdout",
     "output_type": "stream",
     "text": [
      "          id  seq_starts  seq_ends  label           text\n",
      "0     477814           0         2      0             за\n",
      "1     477814           0         4      0           запр\n",
      "2     477814           0         6      0         запрош\n",
      "3     477814           0        11      0    запрошувати\n",
      "4     477814           0        13      0  запрошувати у\n",
      "...      ...         ...       ...    ...            ...\n",
      "5872  477814         328       335      0      ##ть ново\n",
      "5873  477814         328       338      0   ##ть новость\n",
      "5874  477814         331       335      0           ново\n",
      "5875  477814         331       338      0        новость\n",
      "5876  477814         335       338      0          ##сть\n",
      "\n",
      "[5877 rows x 5 columns]\n",
      "(5877, 5)\n"
     ]
    },
    {
     "name": "stderr",
     "output_type": "stream",
     "text": [
      "INFO:LOG:Creating TensorDataset from features dataframe\n",
      "C:\\Windows\\Temp\\ipykernel_1144\\1158175120.py:14: TqdmDeprecationWarning: This function will be removed in tqdm==5.0.0\n",
      "Please use `tqdm.notebook.tqdm` instead of `tqdm.tqdm_notebook`\n",
      "  for batch in tqdm_notebook(eval_dataloader, desc=\"Evaluating\"):\n"
     ]
    },
    {
     "data": {
      "text/plain": "Evaluating:   0%|          | 0/735 [00:00<?, ?it/s]",
      "application/vnd.jupyter.widget-view+json": {
       "version_major": 2,
       "version_minor": 0,
       "model_id": "654dbd0caa53477193675b9bbe24724f"
      },
      "application/json": {
       "n": 0,
       "total": 735,
       "elapsed": 0.006057262420654297,
       "ncols": null,
       "nrows": null,
       "prefix": "Evaluating",
       "ascii": false,
       "unit": "it",
       "unit_scale": false,
       "rate": null,
       "bar_format": null,
       "postfix": null,
       "unit_divisor": 1000,
       "initial": 0,
       "colour": null
      }
     },
     "metadata": {},
     "output_type": "display_data"
    },
    {
     "name": "stderr",
     "output_type": "stream",
     "text": [
      "INFO:LOG:Generating evaluation dataset...\n",
      "INFO:LOG:Creating features from dataframe\n"
     ]
    },
    {
     "name": "stdout",
     "output_type": "stream",
     "text": [
      "          id  seq_starts  seq_ends  label           text\n",
      "0     477814           0         2      1             за\n",
      "1     477814           0         4      1           запр\n",
      "2     477814           0         6      1         запрош\n",
      "3     477814           0        11      1    запрошувати\n",
      "4     477814           0        13      1  запрошувати у\n",
      "...      ...         ...       ...    ...            ...\n",
      "5872  477814         328       335      1      ##ть ново\n",
      "5873  477814         328       338      1   ##ть новость\n",
      "5874  477814         331       335      0           ново\n",
      "5875  477814         331       338      1        новость\n",
      "5876  477814         335       338      1          ##сть\n",
      "\n",
      "[5877 rows x 5 columns]\n",
      "           id  seq_starts  seq_ends  label           text\n",
      "0      477842           0         2      0             по\n",
      "1      477842           0         6      0         посили\n",
      "2      477842           0         8      0       посилимо\n",
      "3      477842           0        11      0    посилимо мо\n",
      "4      477842           0        13      0  посилимо мобі\n",
      "...       ...         ...       ...    ...            ...\n",
      "14688  477842         511       518      0      ##ть ново\n",
      "14689  477842         511       521      0   ##ть новость\n",
      "14690  477842         514       518      0           ново\n",
      "14691  477842         514       521      0        новость\n",
      "14692  477842         518       521      0          ##сть\n",
      "\n",
      "[14693 rows x 5 columns]\n",
      "(14693, 5)\n"
     ]
    },
    {
     "name": "stderr",
     "output_type": "stream",
     "text": [
      "INFO:LOG:Creating TensorDataset from features dataframe\n",
      "C:\\Windows\\Temp\\ipykernel_1144\\1158175120.py:14: TqdmDeprecationWarning: This function will be removed in tqdm==5.0.0\n",
      "Please use `tqdm.notebook.tqdm` instead of `tqdm.tqdm_notebook`\n",
      "  for batch in tqdm_notebook(eval_dataloader, desc=\"Evaluating\"):\n"
     ]
    },
    {
     "data": {
      "text/plain": "Evaluating:   0%|          | 0/1837 [00:00<?, ?it/s]",
      "application/vnd.jupyter.widget-view+json": {
       "version_major": 2,
       "version_minor": 0,
       "model_id": "91019559b6fa4503ae9fb8b51b0fd170"
      },
      "application/json": {
       "n": 0,
       "total": 1837,
       "elapsed": 0.004000425338745117,
       "ncols": null,
       "nrows": null,
       "prefix": "Evaluating",
       "ascii": false,
       "unit": "it",
       "unit_scale": false,
       "rate": null,
       "bar_format": null,
       "postfix": null,
       "unit_divisor": 1000,
       "initial": 0,
       "colour": null
      }
     },
     "metadata": {},
     "output_type": "display_data"
    },
    {
     "name": "stderr",
     "output_type": "stream",
     "text": [
      "INFO:LOG:Generating evaluation dataset...\n",
      "INFO:LOG:Creating features from dataframe\n"
     ]
    },
    {
     "name": "stdout",
     "output_type": "stream",
     "text": [
      "           id  seq_starts  seq_ends  label           text\n",
      "0      477842           0         2      1             по\n",
      "1      477842           0         6      1         посили\n",
      "2      477842           0         8      1       посилимо\n",
      "3      477842           0        11      1    посилимо мо\n",
      "4      477842           0        13      1  посилимо мобі\n",
      "...       ...         ...       ...    ...            ...\n",
      "14688  477842         511       518      1      ##ть ново\n",
      "14689  477842         511       521      1   ##ть новость\n",
      "14690  477842         514       518      0           ново\n",
      "14691  477842         514       521      1        новость\n",
      "14692  477842         518       521      1          ##сть\n",
      "\n",
      "[14693 rows x 5 columns]\n",
      "          id  seq_starts  seq_ends  label           text\n",
      "0     477920           0         3      0            125\n",
      "1     477920           0         7      0        125 млн\n",
      "2     477920           0        10      0     125 млн гр\n",
      "3     477920           0        11      0    125 млн грн\n",
      "4     477920           0        12      0  125 млн грн .\n",
      "...      ...         ...       ...    ...            ...\n",
      "4647  477920         270       277      0      ##ть ново\n",
      "4648  477920         270       280      0   ##ть новость\n",
      "4649  477920         273       277      0           ново\n",
      "4650  477920         273       280      0        новость\n",
      "4651  477920         277       280      0          ##сть\n",
      "\n",
      "[4652 rows x 5 columns]\n",
      "(4652, 5)\n"
     ]
    },
    {
     "name": "stderr",
     "output_type": "stream",
     "text": [
      "INFO:LOG:Creating TensorDataset from features dataframe\n",
      "C:\\Windows\\Temp\\ipykernel_1144\\1158175120.py:14: TqdmDeprecationWarning: This function will be removed in tqdm==5.0.0\n",
      "Please use `tqdm.notebook.tqdm` instead of `tqdm.tqdm_notebook`\n",
      "  for batch in tqdm_notebook(eval_dataloader, desc=\"Evaluating\"):\n"
     ]
    },
    {
     "data": {
      "text/plain": "Evaluating:   0%|          | 0/582 [00:00<?, ?it/s]",
      "application/vnd.jupyter.widget-view+json": {
       "version_major": 2,
       "version_minor": 0,
       "model_id": "863cea59459047df906f92571f03ec8c"
      },
      "application/json": {
       "n": 0,
       "total": 582,
       "elapsed": 0.003034353256225586,
       "ncols": null,
       "nrows": null,
       "prefix": "Evaluating",
       "ascii": false,
       "unit": "it",
       "unit_scale": false,
       "rate": null,
       "bar_format": null,
       "postfix": null,
       "unit_divisor": 1000,
       "initial": 0,
       "colour": null
      }
     },
     "metadata": {},
     "output_type": "display_data"
    },
    {
     "name": "stderr",
     "output_type": "stream",
     "text": [
      "INFO:LOG:Generating evaluation dataset...\n",
      "INFO:LOG:Creating features from dataframe\n"
     ]
    },
    {
     "name": "stdout",
     "output_type": "stream",
     "text": [
      "          id  seq_starts  seq_ends  label           text\n",
      "0     477920           0         3      0            125\n",
      "1     477920           0         7      1        125 млн\n",
      "2     477920           0        10      1     125 млн гр\n",
      "3     477920           0        11      1    125 млн грн\n",
      "4     477920           0        12      0  125 млн грн .\n",
      "...      ...         ...       ...    ...            ...\n",
      "4647  477920         270       277      1      ##ть ново\n",
      "4648  477920         270       280      1   ##ть новость\n",
      "4649  477920         273       277      0           ново\n",
      "4650  477920         273       280      1        новость\n",
      "4651  477920         277       280      1          ##сть\n",
      "\n",
      "[4652 rows x 5 columns]\n",
      "          id  seq_starts  seq_ends  label               text\n",
      "0     477934           0         2      0                 ні\n",
      "1     477934           0         6      0             нічого\n",
      "2     477934           0         9      0          нічого не\n",
      "3     477934           0        11      0        нічого незв\n",
      "4     477934           0         5      0  нічого незвичаино\n",
      "...      ...         ...       ...    ...                ...\n",
      "3228  477934         230       232      0               ##те\n",
      "3229  477934         230       236      0           ##те тут\n",
      "3230  477934         230       237      0         ##те тут :\n",
      "3231  477934         233       236      0                тут\n",
      "3232  477934         233       237      0              тут :\n",
      "\n",
      "[3233 rows x 5 columns]\n",
      "(3233, 5)\n"
     ]
    },
    {
     "name": "stderr",
     "output_type": "stream",
     "text": [
      "INFO:LOG:Creating TensorDataset from features dataframe\n",
      "C:\\Windows\\Temp\\ipykernel_1144\\1158175120.py:14: TqdmDeprecationWarning: This function will be removed in tqdm==5.0.0\n",
      "Please use `tqdm.notebook.tqdm` instead of `tqdm.tqdm_notebook`\n",
      "  for batch in tqdm_notebook(eval_dataloader, desc=\"Evaluating\"):\n"
     ]
    },
    {
     "data": {
      "text/plain": "Evaluating:   0%|          | 0/405 [00:00<?, ?it/s]",
      "application/vnd.jupyter.widget-view+json": {
       "version_major": 2,
       "version_minor": 0,
       "model_id": "3e3fab854e0e4fc1b85ca2084c4e675f"
      },
      "application/json": {
       "n": 0,
       "total": 405,
       "elapsed": 0.003966331481933594,
       "ncols": null,
       "nrows": null,
       "prefix": "Evaluating",
       "ascii": false,
       "unit": "it",
       "unit_scale": false,
       "rate": null,
       "bar_format": null,
       "postfix": null,
       "unit_divisor": 1000,
       "initial": 0,
       "colour": null
      }
     },
     "metadata": {},
     "output_type": "display_data"
    },
    {
     "name": "stderr",
     "output_type": "stream",
     "text": [
      "INFO:LOG:Generating evaluation dataset...\n",
      "INFO:LOG:Creating features from dataframe\n"
     ]
    },
    {
     "name": "stdout",
     "output_type": "stream",
     "text": [
      "          id  seq_starts  seq_ends  label               text\n",
      "0     477934           0         2      0                 ні\n",
      "1     477934           0         6      1             нічого\n",
      "2     477934           0         9      1          нічого не\n",
      "3     477934           0        11      1        нічого незв\n",
      "4     477934           0         5      1  нічого незвичаино\n",
      "...      ...         ...       ...    ...                ...\n",
      "3228  477934         230       232      1               ##те\n",
      "3229  477934         230       236      1           ##те тут\n",
      "3230  477934         230       237      1         ##те тут :\n",
      "3231  477934         233       236      0                тут\n",
      "3232  477934         233       237      1              тут :\n",
      "\n",
      "[3233 rows x 5 columns]\n",
      "          id  seq_starts  seq_ends  label                            text\n",
      "0     478085           0         7      0                         близько\n",
      "1     478085           0         9      0                       близько 6\n",
      "2     478085           0        15      0                 близько 6 тисяч\n",
      "3     478085           0        25      0       близько 6 тисяч чоловіків\n",
      "4     478085           0        30      0  близько 6 тисяч чоловіків приз\n",
      "...      ...         ...       ...    ...                             ...\n",
      "4838  478085         290       297      0                       ##ть ново\n",
      "4839  478085         290       300      0                    ##ть новость\n",
      "4840  478085         293       297      0                            ново\n",
      "4841  478085         293       300      0                         новость\n",
      "4842  478085         297       300      0                           ##сть\n",
      "\n",
      "[4843 rows x 5 columns]\n",
      "(4843, 5)\n"
     ]
    },
    {
     "name": "stderr",
     "output_type": "stream",
     "text": [
      "INFO:LOG:Creating TensorDataset from features dataframe\n",
      "C:\\Windows\\Temp\\ipykernel_1144\\1158175120.py:14: TqdmDeprecationWarning: This function will be removed in tqdm==5.0.0\n",
      "Please use `tqdm.notebook.tqdm` instead of `tqdm.tqdm_notebook`\n",
      "  for batch in tqdm_notebook(eval_dataloader, desc=\"Evaluating\"):\n"
     ]
    },
    {
     "data": {
      "text/plain": "Evaluating:   0%|          | 0/606 [00:00<?, ?it/s]",
      "application/vnd.jupyter.widget-view+json": {
       "version_major": 2,
       "version_minor": 0,
       "model_id": "adf7a41be89f4300a2f2bc09827d3ef4"
      },
      "application/json": {
       "n": 0,
       "total": 606,
       "elapsed": 0.0040018558502197266,
       "ncols": null,
       "nrows": null,
       "prefix": "Evaluating",
       "ascii": false,
       "unit": "it",
       "unit_scale": false,
       "rate": null,
       "bar_format": null,
       "postfix": null,
       "unit_divisor": 1000,
       "initial": 0,
       "colour": null
      }
     },
     "metadata": {},
     "output_type": "display_data"
    },
    {
     "name": "stderr",
     "output_type": "stream",
     "text": [
      "INFO:LOG:Generating evaluation dataset...\n",
      "INFO:LOG:Creating features from dataframe\n"
     ]
    },
    {
     "name": "stdout",
     "output_type": "stream",
     "text": [
      "          id  seq_starts  seq_ends  label                            text\n",
      "0     478085           0         7      0                         близько\n",
      "1     478085           0         9      1                       близько 6\n",
      "2     478085           0        15      1                 близько 6 тисяч\n",
      "3     478085           0        25      1       близько 6 тисяч чоловіків\n",
      "4     478085           0        30      1  близько 6 тисяч чоловіків приз\n",
      "...      ...         ...       ...    ...                             ...\n",
      "4838  478085         290       297      1                       ##ть ново\n",
      "4839  478085         290       300      1                    ##ть новость\n",
      "4840  478085         293       297      0                            ново\n",
      "4841  478085         293       300      1                         новость\n",
      "4842  478085         297       300      1                           ##сть\n",
      "\n",
      "[4843 rows x 5 columns]\n",
      "          id  seq_starts  seq_ends  label          text\n",
      "0     478237           0         1      0             т\n",
      "1     478237           0         3      0           тру\n",
      "2     478237           0         6      0        труять\n",
      "3     478237           0        10      0    труять гри\n",
      "4     478237           0        12      0  труять гризу\n",
      "...      ...         ...       ...    ...           ...\n",
      "3230  478237         214       221      0     ##ть ново\n",
      "3231  478237         214       224      0  ##ть новость\n",
      "3232  478237         217       221      0          ново\n",
      "3233  478237         217       224      0       новость\n",
      "3234  478237         221       224      0         ##сть\n",
      "\n",
      "[3235 rows x 5 columns]\n",
      "(3235, 5)\n"
     ]
    },
    {
     "name": "stderr",
     "output_type": "stream",
     "text": [
      "INFO:LOG:Creating TensorDataset from features dataframe\n",
      "C:\\Windows\\Temp\\ipykernel_1144\\1158175120.py:14: TqdmDeprecationWarning: This function will be removed in tqdm==5.0.0\n",
      "Please use `tqdm.notebook.tqdm` instead of `tqdm.tqdm_notebook`\n",
      "  for batch in tqdm_notebook(eval_dataloader, desc=\"Evaluating\"):\n"
     ]
    },
    {
     "data": {
      "text/plain": "Evaluating:   0%|          | 0/405 [00:00<?, ?it/s]",
      "application/vnd.jupyter.widget-view+json": {
       "version_major": 2,
       "version_minor": 0,
       "model_id": "acd7202c4f484fc48a6847bea3fb08cb"
      },
      "application/json": {
       "n": 0,
       "total": 405,
       "elapsed": 0.005000591278076172,
       "ncols": null,
       "nrows": null,
       "prefix": "Evaluating",
       "ascii": false,
       "unit": "it",
       "unit_scale": false,
       "rate": null,
       "bar_format": null,
       "postfix": null,
       "unit_divisor": 1000,
       "initial": 0,
       "colour": null
      }
     },
     "metadata": {},
     "output_type": "display_data"
    },
    {
     "name": "stderr",
     "output_type": "stream",
     "text": [
      "INFO:LOG:Generating evaluation dataset...\n",
      "INFO:LOG:Creating features from dataframe\n"
     ]
    },
    {
     "name": "stdout",
     "output_type": "stream",
     "text": [
      "          id  seq_starts  seq_ends  label          text\n",
      "0     478237           0         1      0             т\n",
      "1     478237           0         3      0           тру\n",
      "2     478237           0         6      1        труять\n",
      "3     478237           0        10      1    труять гри\n",
      "4     478237           0        12      1  труять гризу\n",
      "...      ...         ...       ...    ...           ...\n",
      "3230  478237         214       221      1     ##ть ново\n",
      "3231  478237         214       224      1  ##ть новость\n",
      "3232  478237         217       221      0          ново\n",
      "3233  478237         217       224      1       новость\n",
      "3234  478237         221       224      1         ##сть\n",
      "\n",
      "[3235 rows x 5 columns]\n",
      "          id  seq_starts  seq_ends  label          text\n",
      "0     478610           0         1      0             п\n",
      "1     478610           0         2      0            пз\n",
      "2     478610           0         3      0           пзд\n",
      "3     478610           0         4      0          пздц\n",
      "4     478610           0         5      0        пздц !\n",
      "...      ...         ...       ...    ...           ...\n",
      "6541  478610         310       317      0     ##ть ново\n",
      "6542  478610         310       320      0  ##ть новость\n",
      "6543  478610         313       317      0          ново\n",
      "6544  478610         313       320      0       новость\n",
      "6545  478610         317       320      0         ##сть\n",
      "\n",
      "[6546 rows x 5 columns]\n",
      "(6546, 5)\n"
     ]
    },
    {
     "name": "stderr",
     "output_type": "stream",
     "text": [
      "INFO:LOG:Creating TensorDataset from features dataframe\n",
      "C:\\Windows\\Temp\\ipykernel_1144\\1158175120.py:14: TqdmDeprecationWarning: This function will be removed in tqdm==5.0.0\n",
      "Please use `tqdm.notebook.tqdm` instead of `tqdm.tqdm_notebook`\n",
      "  for batch in tqdm_notebook(eval_dataloader, desc=\"Evaluating\"):\n"
     ]
    },
    {
     "data": {
      "text/plain": "Evaluating:   0%|          | 0/819 [00:00<?, ?it/s]",
      "application/vnd.jupyter.widget-view+json": {
       "version_major": 2,
       "version_minor": 0,
       "model_id": "803a18b5ed0044b6bc9bfd600b08f832"
      },
      "application/json": {
       "n": 0,
       "total": 819,
       "elapsed": 0.0050201416015625,
       "ncols": null,
       "nrows": null,
       "prefix": "Evaluating",
       "ascii": false,
       "unit": "it",
       "unit_scale": false,
       "rate": null,
       "bar_format": null,
       "postfix": null,
       "unit_divisor": 1000,
       "initial": 0,
       "colour": null
      }
     },
     "metadata": {},
     "output_type": "display_data"
    },
    {
     "name": "stderr",
     "output_type": "stream",
     "text": [
      "INFO:LOG:Generating evaluation dataset...\n",
      "INFO:LOG:Creating features from dataframe\n"
     ]
    },
    {
     "name": "stdout",
     "output_type": "stream",
     "text": [
      "          id  seq_starts  seq_ends  label          text\n",
      "0     478610           0         1      0             п\n",
      "1     478610           0         2      1            пз\n",
      "2     478610           0         3      1           пзд\n",
      "3     478610           0         4      1          пздц\n",
      "4     478610           0         5      1        пздц !\n",
      "...      ...         ...       ...    ...           ...\n",
      "6541  478610         310       317      1     ##ть ново\n",
      "6542  478610         310       320      1  ##ть новость\n",
      "6543  478610         313       317      0          ново\n",
      "6544  478610         313       320      1       новость\n",
      "6545  478610         317       320      1         ##сть\n",
      "\n",
      "[6546 rows x 5 columns]\n",
      "          id  seq_starts  seq_ends  label            text\n",
      "0     478644           0         2      0              че\n",
      "1     478644           0         5      0           черга\n",
      "2     478644           0         8      0        черга за\n",
      "3     478644           0        12      0    черга за сім\n",
      "4     478644           0        13      0  черга за сім -\n",
      "...      ...         ...       ...    ...             ...\n",
      "2765  478644         220       227      0       ##ть ново\n",
      "2766  478644         220       230      0    ##ть новость\n",
      "2767  478644         223       227      0            ново\n",
      "2768  478644         223       230      0         новость\n",
      "2769  478644         227       230      0           ##сть\n",
      "\n",
      "[2770 rows x 5 columns]\n",
      "(2770, 5)\n"
     ]
    },
    {
     "name": "stderr",
     "output_type": "stream",
     "text": [
      "INFO:LOG:Creating TensorDataset from features dataframe\n",
      "C:\\Windows\\Temp\\ipykernel_1144\\1158175120.py:14: TqdmDeprecationWarning: This function will be removed in tqdm==5.0.0\n",
      "Please use `tqdm.notebook.tqdm` instead of `tqdm.tqdm_notebook`\n",
      "  for batch in tqdm_notebook(eval_dataloader, desc=\"Evaluating\"):\n"
     ]
    },
    {
     "data": {
      "text/plain": "Evaluating:   0%|          | 0/347 [00:00<?, ?it/s]",
      "application/vnd.jupyter.widget-view+json": {
       "version_major": 2,
       "version_minor": 0,
       "model_id": "43cccf0771e4424a88dec18bbe1eab06"
      },
      "application/json": {
       "n": 0,
       "total": 347,
       "elapsed": 0.003997802734375,
       "ncols": null,
       "nrows": null,
       "prefix": "Evaluating",
       "ascii": false,
       "unit": "it",
       "unit_scale": false,
       "rate": null,
       "bar_format": null,
       "postfix": null,
       "unit_divisor": 1000,
       "initial": 0,
       "colour": null
      }
     },
     "metadata": {},
     "output_type": "display_data"
    },
    {
     "name": "stderr",
     "output_type": "stream",
     "text": [
      "INFO:LOG:Generating evaluation dataset...\n",
      "INFO:LOG:Creating features from dataframe\n"
     ]
    },
    {
     "name": "stdout",
     "output_type": "stream",
     "text": [
      "          id  seq_starts  seq_ends  label            text\n",
      "0     478644           0         2      0              че\n",
      "1     478644           0         5      1           черга\n",
      "2     478644           0         8      1        черга за\n",
      "3     478644           0        12      1    черга за сім\n",
      "4     478644           0        13      1  черга за сім -\n",
      "...      ...         ...       ...    ...             ...\n",
      "2765  478644         220       227      1       ##ть ново\n",
      "2766  478644         220       230      1    ##ть новость\n",
      "2767  478644         223       227      0            ново\n",
      "2768  478644         223       230      1         новость\n",
      "2769  478644         227       230      1           ##сть\n",
      "\n",
      "[2770 rows x 5 columns]\n",
      "          id  seq_starts  seq_ends  label           text\n",
      "0     478691           0         2      0             ун\n",
      "1     478691           0         5      0          уніка\n",
      "2     478691           0         9      0      унікальну\n",
      "3     478691           0        11      0    унікальну а\n",
      "4     478691           0        13      0  унікальну аві\n",
      "...      ...         ...       ...    ...            ...\n",
      "6206  478691         305       312      0      ##ть ново\n",
      "6207  478691         305       315      0   ##ть новость\n",
      "6208  478691         308       312      0           ново\n",
      "6209  478691         308       315      0        новость\n",
      "6210  478691         312       315      0          ##сть\n",
      "\n",
      "[6211 rows x 5 columns]\n",
      "(6211, 5)\n"
     ]
    },
    {
     "name": "stderr",
     "output_type": "stream",
     "text": [
      "INFO:LOG:Creating TensorDataset from features dataframe\n",
      "C:\\Windows\\Temp\\ipykernel_1144\\1158175120.py:14: TqdmDeprecationWarning: This function will be removed in tqdm==5.0.0\n",
      "Please use `tqdm.notebook.tqdm` instead of `tqdm.tqdm_notebook`\n",
      "  for batch in tqdm_notebook(eval_dataloader, desc=\"Evaluating\"):\n"
     ]
    },
    {
     "data": {
      "text/plain": "Evaluating:   0%|          | 0/777 [00:00<?, ?it/s]",
      "application/vnd.jupyter.widget-view+json": {
       "version_major": 2,
       "version_minor": 0,
       "model_id": "301aeb2d449d4f95b2aadbd8218f28cb"
      },
      "application/json": {
       "n": 0,
       "total": 777,
       "elapsed": 0.002997159957885742,
       "ncols": null,
       "nrows": null,
       "prefix": "Evaluating",
       "ascii": false,
       "unit": "it",
       "unit_scale": false,
       "rate": null,
       "bar_format": null,
       "postfix": null,
       "unit_divisor": 1000,
       "initial": 0,
       "colour": null
      }
     },
     "metadata": {},
     "output_type": "display_data"
    },
    {
     "name": "stderr",
     "output_type": "stream",
     "text": [
      "INFO:LOG:Generating evaluation dataset...\n",
      "INFO:LOG:Creating features from dataframe\n"
     ]
    },
    {
     "name": "stdout",
     "output_type": "stream",
     "text": [
      "          id  seq_starts  seq_ends  label           text\n",
      "0     478691           0         2      0             ун\n",
      "1     478691           0         5      1          уніка\n",
      "2     478691           0         9      1      унікальну\n",
      "3     478691           0        11      1    унікальну а\n",
      "4     478691           0        13      1  унікальну аві\n",
      "...      ...         ...       ...    ...            ...\n",
      "6206  478691         305       312      1      ##ть ново\n",
      "6207  478691         305       315      1   ##ть новость\n",
      "6208  478691         308       312      0           ново\n",
      "6209  478691         308       315      1        новость\n",
      "6210  478691         312       315      1          ##сть\n",
      "\n",
      "[6211 rows x 5 columns]\n",
      "           id  seq_starts  seq_ends  label             text\n",
      "0      478705           1         3      0               до\n",
      "1      478705           1         7      0           до над\n",
      "2      478705           1         9      0         до надзв\n",
      "3      478705           1         5      0   до надзвичаино\n",
      "4      478705           1        24      0  до надзвичаиноі\n",
      "...       ...         ...       ...    ...              ...\n",
      "10715  478705         471       478      0        ##ть ново\n",
      "10716  478705         471       481      0     ##ть новость\n",
      "10717  478705         474       478      0             ново\n",
      "10718  478705         474       481      0          новость\n",
      "10719  478705         478       481      0            ##сть\n",
      "\n",
      "[10720 rows x 5 columns]\n",
      "(10720, 5)\n"
     ]
    },
    {
     "name": "stderr",
     "output_type": "stream",
     "text": [
      "INFO:LOG:Creating TensorDataset from features dataframe\n",
      "C:\\Windows\\Temp\\ipykernel_1144\\1158175120.py:14: TqdmDeprecationWarning: This function will be removed in tqdm==5.0.0\n",
      "Please use `tqdm.notebook.tqdm` instead of `tqdm.tqdm_notebook`\n",
      "  for batch in tqdm_notebook(eval_dataloader, desc=\"Evaluating\"):\n"
     ]
    },
    {
     "data": {
      "text/plain": "Evaluating:   0%|          | 0/1340 [00:00<?, ?it/s]",
      "application/vnd.jupyter.widget-view+json": {
       "version_major": 2,
       "version_minor": 0,
       "model_id": "4ce1d9b656fc4e2c9cd4cae54da36927"
      },
      "application/json": {
       "n": 0,
       "total": 1340,
       "elapsed": 0.0039997100830078125,
       "ncols": null,
       "nrows": null,
       "prefix": "Evaluating",
       "ascii": false,
       "unit": "it",
       "unit_scale": false,
       "rate": null,
       "bar_format": null,
       "postfix": null,
       "unit_divisor": 1000,
       "initial": 0,
       "colour": null
      }
     },
     "metadata": {},
     "output_type": "display_data"
    },
    {
     "name": "stderr",
     "output_type": "stream",
     "text": [
      "INFO:LOG:Generating evaluation dataset...\n",
      "INFO:LOG:Creating features from dataframe\n"
     ]
    },
    {
     "name": "stdout",
     "output_type": "stream",
     "text": [
      "           id  seq_starts  seq_ends  label             text\n",
      "0      478705           1         3      0               до\n",
      "1      478705           1         7      1           до над\n",
      "2      478705           1         9      1         до надзв\n",
      "3      478705           1         5      1   до надзвичаино\n",
      "4      478705           1        24      1  до надзвичаиноі\n",
      "...       ...         ...       ...    ...              ...\n",
      "10715  478705         471       478      1        ##ть ново\n",
      "10716  478705         471       481      1     ##ть новость\n",
      "10717  478705         474       478      0             ново\n",
      "10718  478705         474       481      1          новость\n",
      "10719  478705         478       481      1            ##сть\n",
      "\n",
      "[10720 rows x 5 columns]\n",
      "          id  seq_starts  seq_ends  label              text\n",
      "0     478749           0         2      0                ім\n",
      "1     478749           0         8      0          імовірно\n",
      "2     478749           0         9      0        імовірно ,\n",
      "3     478749           0        12      0     імовірно , рф\n",
      "4     478749           0        15      0  імовірно , рф на\n",
      "...      ...         ...       ...    ...               ...\n",
      "4453  478749         256       263      0         ##ть ново\n",
      "4454  478749         256       266      0      ##ть новость\n",
      "4455  478749         259       263      0              ново\n",
      "4456  478749         259       266      0           новость\n",
      "4457  478749         263       266      0             ##сть\n",
      "\n",
      "[4458 rows x 5 columns]\n",
      "(4458, 5)\n"
     ]
    },
    {
     "name": "stderr",
     "output_type": "stream",
     "text": [
      "INFO:LOG:Creating TensorDataset from features dataframe\n",
      "C:\\Windows\\Temp\\ipykernel_1144\\1158175120.py:14: TqdmDeprecationWarning: This function will be removed in tqdm==5.0.0\n",
      "Please use `tqdm.notebook.tqdm` instead of `tqdm.tqdm_notebook`\n",
      "  for batch in tqdm_notebook(eval_dataloader, desc=\"Evaluating\"):\n"
     ]
    },
    {
     "data": {
      "text/plain": "Evaluating:   0%|          | 0/558 [00:00<?, ?it/s]",
      "application/vnd.jupyter.widget-view+json": {
       "version_major": 2,
       "version_minor": 0,
       "model_id": "0a7e8eb3898147beb81a6b82cb795ca0"
      },
      "application/json": {
       "n": 0,
       "total": 558,
       "elapsed": 0.004999876022338867,
       "ncols": null,
       "nrows": null,
       "prefix": "Evaluating",
       "ascii": false,
       "unit": "it",
       "unit_scale": false,
       "rate": null,
       "bar_format": null,
       "postfix": null,
       "unit_divisor": 1000,
       "initial": 0,
       "colour": null
      }
     },
     "metadata": {},
     "output_type": "display_data"
    },
    {
     "name": "stderr",
     "output_type": "stream",
     "text": [
      "INFO:LOG:Generating evaluation dataset...\n",
      "INFO:LOG:Creating features from dataframe\n"
     ]
    },
    {
     "name": "stdout",
     "output_type": "stream",
     "text": [
      "          id  seq_starts  seq_ends  label              text\n",
      "0     478749           0         2      0                ім\n",
      "1     478749           0         8      1          імовірно\n",
      "2     478749           0         9      1        імовірно ,\n",
      "3     478749           0        12      1     імовірно , рф\n",
      "4     478749           0        15      1  імовірно , рф на\n",
      "...      ...         ...       ...    ...               ...\n",
      "4453  478749         256       263      1         ##ть ново\n",
      "4454  478749         256       266      1      ##ть новость\n",
      "4455  478749         259       263      0              ново\n",
      "4456  478749         259       266      1           новость\n",
      "4457  478749         263       266      1             ##сть\n",
      "\n",
      "[4458 rows x 5 columns]\n",
      "          id  seq_starts  seq_ends  label          text\n",
      "0     478916           0         4      0          реке\n",
      "1     478916           0         5      0         рекет\n",
      "2     478916           0         8      0      рекет та\n",
      "3     478916           0        10      0    рекет та р\n",
      "4     478916           0         1      0  рекет та реи\n",
      "...      ...         ...       ...    ...           ...\n",
      "8766  478916         371       375      0        ##уков\n",
      "8767  478916         371       378      0     ##уковича\n",
      "8768  478916         371       379      0   ##уковича .\n",
      "8769  478916         375       378      0         ##ича\n",
      "8770  478916         375       379      0       ##ича .\n",
      "\n",
      "[8771 rows x 5 columns]\n",
      "(8771, 5)\n"
     ]
    },
    {
     "name": "stderr",
     "output_type": "stream",
     "text": [
      "INFO:LOG:Creating TensorDataset from features dataframe\n",
      "C:\\Windows\\Temp\\ipykernel_1144\\1158175120.py:14: TqdmDeprecationWarning: This function will be removed in tqdm==5.0.0\n",
      "Please use `tqdm.notebook.tqdm` instead of `tqdm.tqdm_notebook`\n",
      "  for batch in tqdm_notebook(eval_dataloader, desc=\"Evaluating\"):\n"
     ]
    },
    {
     "data": {
      "text/plain": "Evaluating:   0%|          | 0/1097 [00:00<?, ?it/s]",
      "application/vnd.jupyter.widget-view+json": {
       "version_major": 2,
       "version_minor": 0,
       "model_id": "bee7ec2a25d44f4a873c916d80811557"
      },
      "application/json": {
       "n": 0,
       "total": 1097,
       "elapsed": 0.0039980411529541016,
       "ncols": null,
       "nrows": null,
       "prefix": "Evaluating",
       "ascii": false,
       "unit": "it",
       "unit_scale": false,
       "rate": null,
       "bar_format": null,
       "postfix": null,
       "unit_divisor": 1000,
       "initial": 0,
       "colour": null
      }
     },
     "metadata": {},
     "output_type": "display_data"
    },
    {
     "name": "stderr",
     "output_type": "stream",
     "text": [
      "INFO:LOG:Generating evaluation dataset...\n",
      "INFO:LOG:Creating features from dataframe\n"
     ]
    },
    {
     "name": "stdout",
     "output_type": "stream",
     "text": [
      "          id  seq_starts  seq_ends  label          text\n",
      "0     478916           0         4      0          реке\n",
      "1     478916           0         5      1         рекет\n",
      "2     478916           0         8      1      рекет та\n",
      "3     478916           0        10      1    рекет та р\n",
      "4     478916           0         1      1  рекет та реи\n",
      "...      ...         ...       ...    ...           ...\n",
      "8766  478916         371       375      1        ##уков\n",
      "8767  478916         371       378      1     ##уковича\n",
      "8768  478916         371       379      0   ##уковича .\n",
      "8769  478916         375       378      1         ##ича\n",
      "8770  478916         375       379      0       ##ича .\n",
      "\n",
      "[8771 rows x 5 columns]\n",
      "          id  seq_starts  seq_ends  label              text\n",
      "0     478923           0         2      0                29\n",
      "1     478923           0         6      0            29 тис\n",
      "2     478923           0         7      0          29 тис .\n",
      "3     478923           0        12      0     29 тис . один\n",
      "4     478923           0        15      0  29 тис . одиниць\n",
      "...      ...         ...       ...    ...               ...\n",
      "5240  478923         291       298      0         ##ть ново\n",
      "5241  478923         291       301      0      ##ть новость\n",
      "5242  478923         294       298      0              ново\n",
      "5243  478923         294       301      0           новость\n",
      "5244  478923         298       301      0             ##сть\n",
      "\n",
      "[5245 rows x 5 columns]\n",
      "(5245, 5)\n"
     ]
    },
    {
     "name": "stderr",
     "output_type": "stream",
     "text": [
      "INFO:LOG:Creating TensorDataset from features dataframe\n",
      "C:\\Windows\\Temp\\ipykernel_1144\\1158175120.py:14: TqdmDeprecationWarning: This function will be removed in tqdm==5.0.0\n",
      "Please use `tqdm.notebook.tqdm` instead of `tqdm.tqdm_notebook`\n",
      "  for batch in tqdm_notebook(eval_dataloader, desc=\"Evaluating\"):\n"
     ]
    },
    {
     "data": {
      "text/plain": "Evaluating:   0%|          | 0/656 [00:00<?, ?it/s]",
      "application/vnd.jupyter.widget-view+json": {
       "version_major": 2,
       "version_minor": 0,
       "model_id": "a4f676460b2c4d33b203636a8f33c554"
      },
      "application/json": {
       "n": 0,
       "total": 656,
       "elapsed": 0.00500035285949707,
       "ncols": null,
       "nrows": null,
       "prefix": "Evaluating",
       "ascii": false,
       "unit": "it",
       "unit_scale": false,
       "rate": null,
       "bar_format": null,
       "postfix": null,
       "unit_divisor": 1000,
       "initial": 0,
       "colour": null
      }
     },
     "metadata": {},
     "output_type": "display_data"
    },
    {
     "name": "stderr",
     "output_type": "stream",
     "text": [
      "INFO:LOG:Generating evaluation dataset...\n",
      "INFO:LOG:Creating features from dataframe\n"
     ]
    },
    {
     "name": "stdout",
     "output_type": "stream",
     "text": [
      "          id  seq_starts  seq_ends  label              text\n",
      "0     478923           0         2      0                29\n",
      "1     478923           0         6      1            29 тис\n",
      "2     478923           0         7      0          29 тис .\n",
      "3     478923           0        12      0     29 тис . один\n",
      "4     478923           0        15      0  29 тис . одиниць\n",
      "...      ...         ...       ...    ...               ...\n",
      "5240  478923         291       298      1         ##ть ново\n",
      "5241  478923         291       301      1      ##ть новость\n",
      "5242  478923         294       298      0              ново\n",
      "5243  478923         294       301      1           новость\n",
      "5244  478923         298       301      1             ##сть\n",
      "\n",
      "[5245 rows x 5 columns]\n",
      "          id  seq_starts  seq_ends  label                  text\n",
      "0     479109           0         5      0                 помер\n",
      "1     479109           0         7      0               померли\n",
      "2     479109           0        10      0            померли 13\n",
      "3     479109           0         4      0      померли 13 людеи\n",
      "4     479109           0        20      0  померли 13 людеи від\n",
      "...      ...         ...       ...    ...                   ...\n",
      "5554  479109         308       315      0             ##ть ново\n",
      "5555  479109         308       318      0          ##ть новость\n",
      "5556  479109         311       315      0                  ново\n",
      "5557  479109         311       318      0               новость\n",
      "5558  479109         315       318      0                 ##сть\n",
      "\n",
      "[5559 rows x 5 columns]\n",
      "(5559, 5)\n"
     ]
    },
    {
     "name": "stderr",
     "output_type": "stream",
     "text": [
      "INFO:LOG:Creating TensorDataset from features dataframe\n",
      "C:\\Windows\\Temp\\ipykernel_1144\\1158175120.py:14: TqdmDeprecationWarning: This function will be removed in tqdm==5.0.0\n",
      "Please use `tqdm.notebook.tqdm` instead of `tqdm.tqdm_notebook`\n",
      "  for batch in tqdm_notebook(eval_dataloader, desc=\"Evaluating\"):\n"
     ]
    },
    {
     "data": {
      "text/plain": "Evaluating:   0%|          | 0/695 [00:00<?, ?it/s]",
      "application/vnd.jupyter.widget-view+json": {
       "version_major": 2,
       "version_minor": 0,
       "model_id": "d9aa21fb667748a798ead2aab1abe0e3"
      },
      "application/json": {
       "n": 0,
       "total": 695,
       "elapsed": 0.003966569900512695,
       "ncols": null,
       "nrows": null,
       "prefix": "Evaluating",
       "ascii": false,
       "unit": "it",
       "unit_scale": false,
       "rate": null,
       "bar_format": null,
       "postfix": null,
       "unit_divisor": 1000,
       "initial": 0,
       "colour": null
      }
     },
     "metadata": {},
     "output_type": "display_data"
    },
    {
     "name": "stderr",
     "output_type": "stream",
     "text": [
      "INFO:LOG:Generating evaluation dataset...\n",
      "INFO:LOG:Creating features from dataframe\n"
     ]
    },
    {
     "name": "stdout",
     "output_type": "stream",
     "text": [
      "          id  seq_starts  seq_ends  label                  text\n",
      "0     479109           0         5      0                 помер\n",
      "1     479109           0         7      1               померли\n",
      "2     479109           0        10      1            померли 13\n",
      "3     479109           0         4      1      померли 13 людеи\n",
      "4     479109           0        20      1  померли 13 людеи від\n",
      "...      ...         ...       ...    ...                   ...\n",
      "5554  479109         308       315      1             ##ть ново\n",
      "5555  479109         308       318      1          ##ть новость\n",
      "5556  479109         311       315      0                  ново\n",
      "5557  479109         311       318      1               новость\n",
      "5558  479109         315       318      1                 ##сть\n",
      "\n",
      "[5559 rows x 5 columns]\n",
      "          id  seq_starts  seq_ends  label           text\n",
      "0     479331           0         1      0              в\n",
      "1     479331           0         4      0           вдар\n",
      "2     479331           0         7      0        вдарила\n",
      "3     479331           0        10      0     вдарила но\n",
      "4     479331           0        13      0  вдарила ножем\n",
      "...      ...         ...       ...    ...            ...\n",
      "4266  479331         246       253      0      ##ть ново\n",
      "4267  479331         246       256      0   ##ть новость\n",
      "4268  479331         249       253      0           ново\n",
      "4269  479331         249       256      0        новость\n",
      "4270  479331         253       256      0          ##сть\n",
      "\n",
      "[4271 rows x 5 columns]\n",
      "(4271, 5)\n"
     ]
    },
    {
     "name": "stderr",
     "output_type": "stream",
     "text": [
      "INFO:LOG:Creating TensorDataset from features dataframe\n",
      "C:\\Windows\\Temp\\ipykernel_1144\\1158175120.py:14: TqdmDeprecationWarning: This function will be removed in tqdm==5.0.0\n",
      "Please use `tqdm.notebook.tqdm` instead of `tqdm.tqdm_notebook`\n",
      "  for batch in tqdm_notebook(eval_dataloader, desc=\"Evaluating\"):\n"
     ]
    },
    {
     "data": {
      "text/plain": "Evaluating:   0%|          | 0/534 [00:00<?, ?it/s]",
      "application/vnd.jupyter.widget-view+json": {
       "version_major": 2,
       "version_minor": 0,
       "model_id": "43d3d6d2425d4c80b70ff5249be778a3"
      },
      "application/json": {
       "n": 0,
       "total": 534,
       "elapsed": 0.0033006668090820312,
       "ncols": null,
       "nrows": null,
       "prefix": "Evaluating",
       "ascii": false,
       "unit": "it",
       "unit_scale": false,
       "rate": null,
       "bar_format": null,
       "postfix": null,
       "unit_divisor": 1000,
       "initial": 0,
       "colour": null
      }
     },
     "metadata": {},
     "output_type": "display_data"
    },
    {
     "name": "stderr",
     "output_type": "stream",
     "text": [
      "INFO:LOG:Generating evaluation dataset...\n",
      "INFO:LOG:Creating features from dataframe\n"
     ]
    },
    {
     "name": "stdout",
     "output_type": "stream",
     "text": [
      "          id  seq_starts  seq_ends  label           text\n",
      "0     479331           0         1      0              в\n",
      "1     479331           0         4      1           вдар\n",
      "2     479331           0         7      1        вдарила\n",
      "3     479331           0        10      1     вдарила но\n",
      "4     479331           0        13      1  вдарила ножем\n",
      "...      ...         ...       ...    ...            ...\n",
      "4266  479331         246       253      1      ##ть ново\n",
      "4267  479331         246       256      1   ##ть новость\n",
      "4268  479331         249       253      0           ново\n",
      "4269  479331         249       256      1        новость\n",
      "4270  479331         253       256      1          ##сть\n",
      "\n",
      "[4271 rows x 5 columns]\n",
      "          id  seq_starts  seq_ends  label          text\n",
      "0     479338           0         2      0            ен\n",
      "1     479338           0         4      0          енер\n",
      "2     479338           0         8      0      енергода\n",
      "3     479338           0         9      0     енергодар\n",
      "4     479338           0        12      0  енергодар за\n",
      "...      ...         ...       ...    ...           ...\n",
      "7001  479338         359       366      0     ##ть ново\n",
      "7002  479338         359       369      0  ##ть новость\n",
      "7003  479338         362       366      0          ново\n",
      "7004  479338         362       369      0       новость\n",
      "7005  479338         366       369      0         ##сть\n",
      "\n",
      "[7006 rows x 5 columns]\n",
      "(7006, 5)\n"
     ]
    },
    {
     "name": "stderr",
     "output_type": "stream",
     "text": [
      "INFO:LOG:Creating TensorDataset from features dataframe\n",
      "C:\\Windows\\Temp\\ipykernel_1144\\1158175120.py:14: TqdmDeprecationWarning: This function will be removed in tqdm==5.0.0\n",
      "Please use `tqdm.notebook.tqdm` instead of `tqdm.tqdm_notebook`\n",
      "  for batch in tqdm_notebook(eval_dataloader, desc=\"Evaluating\"):\n"
     ]
    },
    {
     "data": {
      "text/plain": "Evaluating:   0%|          | 0/876 [00:00<?, ?it/s]",
      "application/vnd.jupyter.widget-view+json": {
       "version_major": 2,
       "version_minor": 0,
       "model_id": "2910dcd9574e41638f0fcac1ad7a8553"
      },
      "application/json": {
       "n": 0,
       "total": 876,
       "elapsed": 0.0039975643157958984,
       "ncols": null,
       "nrows": null,
       "prefix": "Evaluating",
       "ascii": false,
       "unit": "it",
       "unit_scale": false,
       "rate": null,
       "bar_format": null,
       "postfix": null,
       "unit_divisor": 1000,
       "initial": 0,
       "colour": null
      }
     },
     "metadata": {},
     "output_type": "display_data"
    },
    {
     "name": "stderr",
     "output_type": "stream",
     "text": [
      "INFO:LOG:Generating evaluation dataset...\n",
      "INFO:LOG:Creating features from dataframe\n"
     ]
    },
    {
     "name": "stdout",
     "output_type": "stream",
     "text": [
      "          id  seq_starts  seq_ends  label          text\n",
      "0     479338           0         2      0            ен\n",
      "1     479338           0         4      1          енер\n",
      "2     479338           0         8      1      енергода\n",
      "3     479338           0         9      1     енергодар\n",
      "4     479338           0        12      1  енергодар за\n",
      "...      ...         ...       ...    ...           ...\n",
      "7001  479338         359       366      1     ##ть ново\n",
      "7002  479338         359       369      1  ##ть новость\n",
      "7003  479338         362       366      0          ново\n",
      "7004  479338         362       369      1       новость\n",
      "7005  479338         366       369      1         ##сть\n",
      "\n",
      "[7006 rows x 5 columns]\n",
      "          id  seq_starts  seq_ends  label          text\n",
      "0     543165           0         1      0             с\n",
      "1     543165           0         3      0           ска\n",
      "2     543165           0         4      0          скаб\n",
      "3     543165           0         5      0         скабє\n",
      "4     543165           0         7      0       скабєєв\n",
      "...      ...         ...       ...    ...           ...\n",
      "7369  543165         360       367      0     ##ть ново\n",
      "7370  543165         360       370      0  ##ть новость\n",
      "7371  543165         363       367      0          ново\n",
      "7372  543165         363       370      0       новость\n",
      "7373  543165         367       370      0         ##сть\n",
      "\n",
      "[7374 rows x 5 columns]\n",
      "(7374, 5)\n"
     ]
    },
    {
     "name": "stderr",
     "output_type": "stream",
     "text": [
      "INFO:LOG:Creating TensorDataset from features dataframe\n",
      "C:\\Windows\\Temp\\ipykernel_1144\\1158175120.py:14: TqdmDeprecationWarning: This function will be removed in tqdm==5.0.0\n",
      "Please use `tqdm.notebook.tqdm` instead of `tqdm.tqdm_notebook`\n",
      "  for batch in tqdm_notebook(eval_dataloader, desc=\"Evaluating\"):\n"
     ]
    },
    {
     "data": {
      "text/plain": "Evaluating:   0%|          | 0/922 [00:00<?, ?it/s]",
      "application/vnd.jupyter.widget-view+json": {
       "version_major": 2,
       "version_minor": 0,
       "model_id": "4f1c9f90e66443cba86e2f1a28b7d4d9"
      },
      "application/json": {
       "n": 0,
       "total": 922,
       "elapsed": 0.003999233245849609,
       "ncols": null,
       "nrows": null,
       "prefix": "Evaluating",
       "ascii": false,
       "unit": "it",
       "unit_scale": false,
       "rate": null,
       "bar_format": null,
       "postfix": null,
       "unit_divisor": 1000,
       "initial": 0,
       "colour": null
      }
     },
     "metadata": {},
     "output_type": "display_data"
    },
    {
     "name": "stderr",
     "output_type": "stream",
     "text": [
      "INFO:LOG:Generating evaluation dataset...\n",
      "INFO:LOG:Creating features from dataframe\n"
     ]
    },
    {
     "name": "stdout",
     "output_type": "stream",
     "text": [
      "          id  seq_starts  seq_ends  label          text\n",
      "0     543165           0         1      0             с\n",
      "1     543165           0         3      1           ска\n",
      "2     543165           0         4      1          скаб\n",
      "3     543165           0         5      1         скабє\n",
      "4     543165           0         7      1       скабєєв\n",
      "...      ...         ...       ...    ...           ...\n",
      "7369  543165         360       367      1     ##ть ново\n",
      "7370  543165         360       370      1  ##ть новость\n",
      "7371  543165         363       367      0          ново\n",
      "7372  543165         363       370      1       новость\n",
      "7373  543165         367       370      1         ##сть\n",
      "\n",
      "[7374 rows x 5 columns]\n",
      "          id  seq_starts  seq_ends  label    text\n",
      "0     543177           0         1      0       п\n",
      "1     543177           0         2      0      пз\n",
      "2     543177           0         3      0     пзд\n",
      "3     543177           0         4      0    пздц\n",
      "4     543177           0         5      0  пздц :\n",
      "...      ...         ...       ...    ...     ...\n",
      "4455  543177         254       258      0    на з\n",
      "4456  543177         254       260      0  на зсу\n",
      "4457  543177         257       258      0       з\n",
      "4458  543177         257       260      0     зсу\n",
      "4459  543177         258       260      0    ##су\n",
      "\n",
      "[4460 rows x 5 columns]\n",
      "(4460, 5)\n"
     ]
    },
    {
     "name": "stderr",
     "output_type": "stream",
     "text": [
      "INFO:LOG:Creating TensorDataset from features dataframe\n",
      "C:\\Windows\\Temp\\ipykernel_1144\\1158175120.py:14: TqdmDeprecationWarning: This function will be removed in tqdm==5.0.0\n",
      "Please use `tqdm.notebook.tqdm` instead of `tqdm.tqdm_notebook`\n",
      "  for batch in tqdm_notebook(eval_dataloader, desc=\"Evaluating\"):\n"
     ]
    },
    {
     "data": {
      "text/plain": "Evaluating:   0%|          | 0/558 [00:00<?, ?it/s]",
      "application/vnd.jupyter.widget-view+json": {
       "version_major": 2,
       "version_minor": 0,
       "model_id": "32597fe0d5c54400a7cae1b0fedd76b7"
      },
      "application/json": {
       "n": 0,
       "total": 558,
       "elapsed": 0.005027055740356445,
       "ncols": null,
       "nrows": null,
       "prefix": "Evaluating",
       "ascii": false,
       "unit": "it",
       "unit_scale": false,
       "rate": null,
       "bar_format": null,
       "postfix": null,
       "unit_divisor": 1000,
       "initial": 0,
       "colour": null
      }
     },
     "metadata": {},
     "output_type": "display_data"
    },
    {
     "name": "stderr",
     "output_type": "stream",
     "text": [
      "INFO:LOG:Generating evaluation dataset...\n",
      "INFO:LOG:Creating features from dataframe\n"
     ]
    },
    {
     "name": "stdout",
     "output_type": "stream",
     "text": [
      "          id  seq_starts  seq_ends  label    text\n",
      "0     543177           0         1      0       п\n",
      "1     543177           0         2      1      пз\n",
      "2     543177           0         3      1     пзд\n",
      "3     543177           0         4      1    пздц\n",
      "4     543177           0         5      1  пздц :\n",
      "...      ...         ...       ...    ...     ...\n",
      "4455  543177         254       258      1    на з\n",
      "4456  543177         254       260      1  на зсу\n",
      "4457  543177         257       258      0       з\n",
      "4458  543177         257       260      1     зсу\n",
      "4459  543177         258       260      1    ##су\n",
      "\n",
      "[4460 rows x 5 columns]\n",
      "          id  seq_starts  seq_ends  label              text\n",
      "0     543315          -1         6      0           украіні\n",
      "1     543315          -1        10      0        украіні за\n",
      "2     543315          -1        12      0      украіні загр\n",
      "3     543315          -1        13      0     украіні загро\n",
      "4     543315          -1        16      0  украіні загрожує\n",
      "...      ...         ...       ...    ...               ...\n",
      "9718  543315         423       426      0               кор\n",
      "9719  543315         423       433      0        корецького\n",
      "9720  543315         423       434      0      корецького .\n",
      "9721  543315         426       433      0         ##ецького\n",
      "9722  543315         426       434      0       ##ецького .\n",
      "\n",
      "[9723 rows x 5 columns]\n",
      "(9723, 5)\n"
     ]
    },
    {
     "name": "stderr",
     "output_type": "stream",
     "text": [
      "INFO:LOG:Creating TensorDataset from features dataframe\n",
      "C:\\Windows\\Temp\\ipykernel_1144\\1158175120.py:14: TqdmDeprecationWarning: This function will be removed in tqdm==5.0.0\n",
      "Please use `tqdm.notebook.tqdm` instead of `tqdm.tqdm_notebook`\n",
      "  for batch in tqdm_notebook(eval_dataloader, desc=\"Evaluating\"):\n"
     ]
    },
    {
     "data": {
      "text/plain": "Evaluating:   0%|          | 0/1216 [00:00<?, ?it/s]",
      "application/vnd.jupyter.widget-view+json": {
       "version_major": 2,
       "version_minor": 0,
       "model_id": "12b6d0fad31046df8c28a3c2908eed5b"
      },
      "application/json": {
       "n": 0,
       "total": 1216,
       "elapsed": 0.0030100345611572266,
       "ncols": null,
       "nrows": null,
       "prefix": "Evaluating",
       "ascii": false,
       "unit": "it",
       "unit_scale": false,
       "rate": null,
       "bar_format": null,
       "postfix": null,
       "unit_divisor": 1000,
       "initial": 0,
       "colour": null
      }
     },
     "metadata": {},
     "output_type": "display_data"
    },
    {
     "name": "stderr",
     "output_type": "stream",
     "text": [
      "INFO:LOG:Generating evaluation dataset...\n",
      "INFO:LOG:Creating features from dataframe\n"
     ]
    },
    {
     "name": "stdout",
     "output_type": "stream",
     "text": [
      "          id  seq_starts  seq_ends  label              text\n",
      "0     543315          -1         6      0           украіні\n",
      "1     543315          -1        10      1        украіні за\n",
      "2     543315          -1        12      1      украіні загр\n",
      "3     543315          -1        13      1     украіні загро\n",
      "4     543315          -1        16      1  украіні загрожує\n",
      "...      ...         ...       ...    ...               ...\n",
      "9718  543315         423       426      0               кор\n",
      "9719  543315         423       433      1        корецького\n",
      "9720  543315         423       434      0      корецького .\n",
      "9721  543315         426       433      1         ##ецького\n",
      "9722  543315         426       434      0       ##ецького .\n",
      "\n",
      "[9723 rows x 5 columns]\n",
      "          id  seq_starts  seq_ends  label            text\n",
      "0     543353           0         2      0              ла\n",
      "1     543353           0         5      0           лазер\n",
      "2     543353           0         7      0         лазерна\n",
      "3     543353           0         9      0       лазерна з\n",
      "4     543353           0        11      0     лазерна збр\n",
      "...      ...         ...       ...    ...             ...\n",
      "4838  543353         282       286      0          ##руха\n",
      "4839  543353         282       294      0  ##руха израиль\n",
      "4840  543353         284       286      0            ##ха\n",
      "4841  543353         284       294      0    ##ха израиль\n",
      "4842  543353         287       294      0         израиль\n",
      "\n",
      "[4843 rows x 5 columns]\n",
      "(4843, 5)\n"
     ]
    },
    {
     "name": "stderr",
     "output_type": "stream",
     "text": [
      "INFO:LOG:Creating TensorDataset from features dataframe\n",
      "C:\\Windows\\Temp\\ipykernel_1144\\1158175120.py:14: TqdmDeprecationWarning: This function will be removed in tqdm==5.0.0\n",
      "Please use `tqdm.notebook.tqdm` instead of `tqdm.tqdm_notebook`\n",
      "  for batch in tqdm_notebook(eval_dataloader, desc=\"Evaluating\"):\n"
     ]
    },
    {
     "data": {
      "text/plain": "Evaluating:   0%|          | 0/606 [00:00<?, ?it/s]",
      "application/vnd.jupyter.widget-view+json": {
       "version_major": 2,
       "version_minor": 0,
       "model_id": "c73e1251e52d4728bd6190f5f616bca2"
      },
      "application/json": {
       "n": 0,
       "total": 606,
       "elapsed": 0.004024028778076172,
       "ncols": null,
       "nrows": null,
       "prefix": "Evaluating",
       "ascii": false,
       "unit": "it",
       "unit_scale": false,
       "rate": null,
       "bar_format": null,
       "postfix": null,
       "unit_divisor": 1000,
       "initial": 0,
       "colour": null
      }
     },
     "metadata": {},
     "output_type": "display_data"
    },
    {
     "name": "stderr",
     "output_type": "stream",
     "text": [
      "INFO:LOG:Generating evaluation dataset...\n",
      "INFO:LOG:Creating features from dataframe\n"
     ]
    },
    {
     "name": "stdout",
     "output_type": "stream",
     "text": [
      "          id  seq_starts  seq_ends  label            text\n",
      "0     543353           0         2      0              ла\n",
      "1     543353           0         5      1           лазер\n",
      "2     543353           0         7      1         лазерна\n",
      "3     543353           0         9      1       лазерна з\n",
      "4     543353           0        11      1     лазерна збр\n",
      "...      ...         ...       ...    ...             ...\n",
      "4838  543353         282       286      1          ##руха\n",
      "4839  543353         282       294      1  ##руха израиль\n",
      "4840  543353         284       286      1            ##ха\n",
      "4841  543353         284       294      1    ##ха израиль\n",
      "4842  543353         287       294      0         израиль\n",
      "\n",
      "[4843 rows x 5 columns]\n",
      "          id  seq_starts  seq_ends  label                 text\n",
      "0     543458           0         5      0                немає\n",
      "1     543458           0         8      0             немає по\n",
      "2     543458           0        13      0        немає поняття\n",
      "3     543458           0        17      0    немає поняття рос\n",
      "4     543458           0         1      0  немає поняття росіи\n",
      "...      ...         ...       ...    ...                  ...\n",
      "3228  543458         240       245      0                запит\n",
      "3229  543458         240       248      0             запитань\n",
      "3230  543458         242       245      0                ##пит\n",
      "3231  543458         242       248      0             ##питань\n",
      "3232  543458         245       248      0                ##ань\n",
      "\n",
      "[3233 rows x 5 columns]\n",
      "(3233, 5)\n"
     ]
    },
    {
     "name": "stderr",
     "output_type": "stream",
     "text": [
      "INFO:LOG:Creating TensorDataset from features dataframe\n",
      "C:\\Windows\\Temp\\ipykernel_1144\\1158175120.py:14: TqdmDeprecationWarning: This function will be removed in tqdm==5.0.0\n",
      "Please use `tqdm.notebook.tqdm` instead of `tqdm.tqdm_notebook`\n",
      "  for batch in tqdm_notebook(eval_dataloader, desc=\"Evaluating\"):\n"
     ]
    },
    {
     "data": {
      "text/plain": "Evaluating:   0%|          | 0/405 [00:00<?, ?it/s]",
      "application/vnd.jupyter.widget-view+json": {
       "version_major": 2,
       "version_minor": 0,
       "model_id": "4aa18fe32f224849a07fbc36f0d2a8d7"
      },
      "application/json": {
       "n": 0,
       "total": 405,
       "elapsed": 0.002997159957885742,
       "ncols": null,
       "nrows": null,
       "prefix": "Evaluating",
       "ascii": false,
       "unit": "it",
       "unit_scale": false,
       "rate": null,
       "bar_format": null,
       "postfix": null,
       "unit_divisor": 1000,
       "initial": 0,
       "colour": null
      }
     },
     "metadata": {},
     "output_type": "display_data"
    },
    {
     "name": "stderr",
     "output_type": "stream",
     "text": [
      "INFO:LOG:Generating evaluation dataset...\n"
     ]
    },
    {
     "name": "stdout",
     "output_type": "stream",
     "text": [
      "          id  seq_starts  seq_ends  label                 text\n",
      "0     543458           0         5      0                немає\n",
      "1     543458           0         8      1             немає по\n",
      "2     543458           0        13      1        немає поняття\n",
      "3     543458           0        17      1    немає поняття рос\n",
      "4     543458           0         1      1  немає поняття росіи\n",
      "...      ...         ...       ...    ...                  ...\n",
      "3228  543458         240       245      1                запит\n",
      "3229  543458         240       248      1             запитань\n",
      "3230  543458         242       245      1                ##пит\n",
      "3231  543458         242       248      1             ##питань\n",
      "3232  543458         245       248      1                ##ань\n",
      "\n",
      "[3233 rows x 5 columns]\n"
     ]
    },
    {
     "name": "stderr",
     "output_type": "stream",
     "text": [
      "INFO:LOG:Creating features from dataframe\n"
     ]
    },
    {
     "name": "stdout",
     "output_type": "stream",
     "text": [
      "           id  seq_starts  seq_ends  label                        text\n",
      "0      543646           0         3      0                         нам\n",
      "1      543646           0         6      0                      нам по\n",
      "2      543646           0        12      0                нам потрібно\n",
      "3      543646           0        19      0         нам потрібно більше\n",
      "4      543646           0        26      0  нам потрібно більше солдат\n",
      "...       ...         ...       ...    ...                         ...\n",
      "16632  543646         631       633      0                        ##уп\n",
      "16633  543646         631       637      0                    ##упація\n",
      "16634  543646         631       638      0                  ##упація .\n",
      "16635  543646         633       637      0                      ##ація\n",
      "16636  543646         633       638      0                    ##ація .\n",
      "\n",
      "[16637 rows x 5 columns]\n",
      "(16637, 5)\n"
     ]
    },
    {
     "name": "stderr",
     "output_type": "stream",
     "text": [
      "INFO:LOG:Creating TensorDataset from features dataframe\n",
      "C:\\Windows\\Temp\\ipykernel_1144\\1158175120.py:14: TqdmDeprecationWarning: This function will be removed in tqdm==5.0.0\n",
      "Please use `tqdm.notebook.tqdm` instead of `tqdm.tqdm_notebook`\n",
      "  for batch in tqdm_notebook(eval_dataloader, desc=\"Evaluating\"):\n"
     ]
    },
    {
     "data": {
      "text/plain": "Evaluating:   0%|          | 0/2080 [00:00<?, ?it/s]",
      "application/vnd.jupyter.widget-view+json": {
       "version_major": 2,
       "version_minor": 0,
       "model_id": "2beb19281fa84827add546a455b5711d"
      },
      "application/json": {
       "n": 0,
       "total": 2080,
       "elapsed": 0.003978252410888672,
       "ncols": null,
       "nrows": null,
       "prefix": "Evaluating",
       "ascii": false,
       "unit": "it",
       "unit_scale": false,
       "rate": null,
       "bar_format": null,
       "postfix": null,
       "unit_divisor": 1000,
       "initial": 0,
       "colour": null
      }
     },
     "metadata": {},
     "output_type": "display_data"
    },
    {
     "name": "stderr",
     "output_type": "stream",
     "text": [
      "INFO:LOG:Generating evaluation dataset...\n"
     ]
    },
    {
     "name": "stdout",
     "output_type": "stream",
     "text": [
      "           id  seq_starts  seq_ends  label                        text\n",
      "0      543646           0         3      0                         нам\n",
      "1      543646           0         6      1                      нам по\n",
      "2      543646           0        12      1                нам потрібно\n",
      "3      543646           0        19      1         нам потрібно більше\n",
      "4      543646           0        26      1  нам потрібно більше солдат\n",
      "...       ...         ...       ...    ...                         ...\n",
      "16632  543646         631       633      1                        ##уп\n",
      "16633  543646         631       637      1                    ##упація\n",
      "16634  543646         631       638      0                  ##упація .\n",
      "16635  543646         633       637      1                      ##ація\n",
      "16636  543646         633       638      0                    ##ація .\n",
      "\n",
      "[16637 rows x 5 columns]\n"
     ]
    },
    {
     "name": "stderr",
     "output_type": "stream",
     "text": [
      "INFO:LOG:Creating features from dataframe\n"
     ]
    },
    {
     "name": "stdout",
     "output_type": "stream",
     "text": [
      "           id  seq_starts  seq_ends  label           text\n",
      "0      543688           0         2      0             ел\n",
      "1      543688           0         4      0           елек\n",
      "2      543688           0         7      0        електри\n",
      "3      543688           0         9      0      електрика\n",
      "4      543688           0        13      0  електрика под\n",
      "...       ...         ...       ...    ...            ...\n",
      "21510  543688         568       572      0           прем\n",
      "21511  543688         568         1      0         преміи\n",
      "21512  543688         568       226      0       преміи .\n",
      "21513  543688          -1         1      0           ##іи\n",
      "21514  543688          -1       226      0         ##іи .\n",
      "\n",
      "[21515 rows x 5 columns]\n",
      "(21515, 5)\n"
     ]
    },
    {
     "name": "stderr",
     "output_type": "stream",
     "text": [
      "INFO:LOG:Creating TensorDataset from features dataframe\n",
      "C:\\Windows\\Temp\\ipykernel_1144\\1158175120.py:14: TqdmDeprecationWarning: This function will be removed in tqdm==5.0.0\n",
      "Please use `tqdm.notebook.tqdm` instead of `tqdm.tqdm_notebook`\n",
      "  for batch in tqdm_notebook(eval_dataloader, desc=\"Evaluating\"):\n"
     ]
    },
    {
     "data": {
      "text/plain": "Evaluating:   0%|          | 0/2690 [00:00<?, ?it/s]",
      "application/vnd.jupyter.widget-view+json": {
       "version_major": 2,
       "version_minor": 0,
       "model_id": "f88e9ef2225144b3a137b142660caf3e"
      },
      "application/json": {
       "n": 0,
       "total": 2690,
       "elapsed": 0.003996610641479492,
       "ncols": null,
       "nrows": null,
       "prefix": "Evaluating",
       "ascii": false,
       "unit": "it",
       "unit_scale": false,
       "rate": null,
       "bar_format": null,
       "postfix": null,
       "unit_divisor": 1000,
       "initial": 0,
       "colour": null
      }
     },
     "metadata": {},
     "output_type": "display_data"
    },
    {
     "name": "stderr",
     "output_type": "stream",
     "text": [
      "INFO:LOG:Generating evaluation dataset...\n",
      "INFO:LOG:Creating features from dataframe\n"
     ]
    },
    {
     "name": "stdout",
     "output_type": "stream",
     "text": [
      "           id  seq_starts  seq_ends  label           text\n",
      "0      543688           0         2      0             ел\n",
      "1      543688           0         4      1           елек\n",
      "2      543688           0         7      1        електри\n",
      "3      543688           0         9      1      електрика\n",
      "4      543688           0        13      1  електрика под\n",
      "...       ...         ...       ...    ...            ...\n",
      "21510  543688         568       572      0           прем\n",
      "21511  543688         568         1      1         преміи\n",
      "21512  543688         568       226      0       преміи .\n",
      "21513  543688          -1         1      1           ##іи\n",
      "21514  543688          -1       226      0         ##іи .\n",
      "\n",
      "[21515 rows x 5 columns]\n",
      "          id  seq_starts  seq_ends  label                text\n",
      "0     543780          -1         4      0               віина\n",
      "1     543780          -1         8      0            віина не\n",
      "2     543780          -1        11      0         віина не за\n",
      "3     543780          -1        14      0      віина не завер\n",
      "4     543780          -1        18      0  віина не завершить\n",
      "...      ...         ...       ...    ...                 ...\n",
      "3066  543780         239       242      0               ##бен\n",
      "3067  543780         239       246      0           ##бен час\n",
      "3068  543780         239       247      0         ##бен час .\n",
      "3069  543780         243       246      0                 час\n",
      "3070  543780         243       247      0               час .\n",
      "\n",
      "[3071 rows x 5 columns]\n",
      "(3071, 5)\n"
     ]
    },
    {
     "name": "stderr",
     "output_type": "stream",
     "text": [
      "INFO:LOG:Creating TensorDataset from features dataframe\n",
      "C:\\Windows\\Temp\\ipykernel_1144\\1158175120.py:14: TqdmDeprecationWarning: This function will be removed in tqdm==5.0.0\n",
      "Please use `tqdm.notebook.tqdm` instead of `tqdm.tqdm_notebook`\n",
      "  for batch in tqdm_notebook(eval_dataloader, desc=\"Evaluating\"):\n"
     ]
    },
    {
     "data": {
      "text/plain": "Evaluating:   0%|          | 0/384 [00:00<?, ?it/s]",
      "application/vnd.jupyter.widget-view+json": {
       "version_major": 2,
       "version_minor": 0,
       "model_id": "baf0ee7e5e274e1784a7cf4fb3d0c09c"
      },
      "application/json": {
       "n": 0,
       "total": 384,
       "elapsed": 0.003999233245849609,
       "ncols": null,
       "nrows": null,
       "prefix": "Evaluating",
       "ascii": false,
       "unit": "it",
       "unit_scale": false,
       "rate": null,
       "bar_format": null,
       "postfix": null,
       "unit_divisor": 1000,
       "initial": 0,
       "colour": null
      }
     },
     "metadata": {},
     "output_type": "display_data"
    },
    {
     "name": "stderr",
     "output_type": "stream",
     "text": [
      "INFO:LOG:Generating evaluation dataset...\n",
      "INFO:LOG:Creating features from dataframe\n"
     ]
    },
    {
     "name": "stdout",
     "output_type": "stream",
     "text": [
      "          id  seq_starts  seq_ends  label                text\n",
      "0     543780          -1         4      0               віина\n",
      "1     543780          -1         8      1            віина не\n",
      "2     543780          -1        11      1         віина не за\n",
      "3     543780          -1        14      1      віина не завер\n",
      "4     543780          -1        18      1  віина не завершить\n",
      "...      ...         ...       ...    ...                 ...\n",
      "3066  543780         239       242      1               ##бен\n",
      "3067  543780         239       246      1           ##бен час\n",
      "3068  543780         239       247      0         ##бен час .\n",
      "3069  543780         243       246      0                 час\n",
      "3070  543780         243       247      0               час .\n",
      "\n",
      "[3071 rows x 5 columns]\n",
      "          id  seq_starts  seq_ends  label               text\n",
      "0     544007           0         5      0              серія\n",
      "1     544007           0         9      0          серія під\n",
      "2     544007           0        11      0        серія підлі\n",
      "3     544007           0        15      0    серія підлітков\n",
      "4     544007           0        17      0  серія підліткових\n",
      "...      ...         ...       ...    ...                ...\n",
      "3559  544007         221       228      0          ##ть ново\n",
      "3560  544007         221       231      0       ##ть новость\n",
      "3561  544007         224       228      0               ново\n",
      "3562  544007         224       231      0            новость\n",
      "3563  544007         228       231      0              ##сть\n",
      "\n",
      "[3564 rows x 5 columns]\n",
      "(3564, 5)\n"
     ]
    },
    {
     "name": "stderr",
     "output_type": "stream",
     "text": [
      "INFO:LOG:Creating TensorDataset from features dataframe\n",
      "C:\\Windows\\Temp\\ipykernel_1144\\1158175120.py:14: TqdmDeprecationWarning: This function will be removed in tqdm==5.0.0\n",
      "Please use `tqdm.notebook.tqdm` instead of `tqdm.tqdm_notebook`\n",
      "  for batch in tqdm_notebook(eval_dataloader, desc=\"Evaluating\"):\n"
     ]
    },
    {
     "data": {
      "text/plain": "Evaluating:   0%|          | 0/446 [00:00<?, ?it/s]",
      "application/vnd.jupyter.widget-view+json": {
       "version_major": 2,
       "version_minor": 0,
       "model_id": "3a8683a9b4174900b036d18415537f36"
      },
      "application/json": {
       "n": 0,
       "total": 446,
       "elapsed": 0.004000186920166016,
       "ncols": null,
       "nrows": null,
       "prefix": "Evaluating",
       "ascii": false,
       "unit": "it",
       "unit_scale": false,
       "rate": null,
       "bar_format": null,
       "postfix": null,
       "unit_divisor": 1000,
       "initial": 0,
       "colour": null
      }
     },
     "metadata": {},
     "output_type": "display_data"
    },
    {
     "name": "stderr",
     "output_type": "stream",
     "text": [
      "INFO:LOG:Generating evaluation dataset...\n",
      "INFO:LOG:Creating features from dataframe\n"
     ]
    },
    {
     "name": "stdout",
     "output_type": "stream",
     "text": [
      "          id  seq_starts  seq_ends  label               text\n",
      "0     544007           0         5      0              серія\n",
      "1     544007           0         9      1          серія під\n",
      "2     544007           0        11      1        серія підлі\n",
      "3     544007           0        15      1    серія підлітков\n",
      "4     544007           0        17      1  серія підліткових\n",
      "...      ...         ...       ...    ...                ...\n",
      "3559  544007         221       228      1          ##ть ново\n",
      "3560  544007         221       231      1       ##ть новость\n",
      "3561  544007         224       228      0               ново\n",
      "3562  544007         224       231      1            новость\n",
      "3563  544007         228       231      1              ##сть\n",
      "\n",
      "[3564 rows x 5 columns]\n",
      "          id  seq_starts  seq_ends  label            text\n",
      "0     544053           0         3      0             мал\n",
      "1     544053           0         5      0           малюк\n",
      "2     544053           0         9      0       малюк пер\n",
      "3     544053           0        11      0     малюк перет\n",
      "4     544053           0        14      0  малюк перетвор\n",
      "...      ...         ...       ...    ...             ...\n",
      "7007  544053         343       350      0       ##ть ново\n",
      "7008  544053         343       353      0    ##ть новость\n",
      "7009  544053         346       350      0            ново\n",
      "7010  544053         346       353      0         новость\n",
      "7011  544053         350       353      0           ##сть\n",
      "\n",
      "[7012 rows x 5 columns]\n",
      "(7012, 5)\n"
     ]
    },
    {
     "name": "stderr",
     "output_type": "stream",
     "text": [
      "INFO:LOG:Creating TensorDataset from features dataframe\n",
      "C:\\Windows\\Temp\\ipykernel_1144\\1158175120.py:14: TqdmDeprecationWarning: This function will be removed in tqdm==5.0.0\n",
      "Please use `tqdm.notebook.tqdm` instead of `tqdm.tqdm_notebook`\n",
      "  for batch in tqdm_notebook(eval_dataloader, desc=\"Evaluating\"):\n"
     ]
    },
    {
     "data": {
      "text/plain": "Evaluating:   0%|          | 0/877 [00:00<?, ?it/s]",
      "application/vnd.jupyter.widget-view+json": {
       "version_major": 2,
       "version_minor": 0,
       "model_id": "cd536a6c57834dbfba1ac7abbe9a89de"
      },
      "application/json": {
       "n": 0,
       "total": 877,
       "elapsed": 0.004003286361694336,
       "ncols": null,
       "nrows": null,
       "prefix": "Evaluating",
       "ascii": false,
       "unit": "it",
       "unit_scale": false,
       "rate": null,
       "bar_format": null,
       "postfix": null,
       "unit_divisor": 1000,
       "initial": 0,
       "colour": null
      }
     },
     "metadata": {},
     "output_type": "display_data"
    },
    {
     "name": "stderr",
     "output_type": "stream",
     "text": [
      "INFO:LOG:Generating evaluation dataset...\n",
      "INFO:LOG:Creating features from dataframe\n"
     ]
    },
    {
     "name": "stdout",
     "output_type": "stream",
     "text": [
      "          id  seq_starts  seq_ends  label            text\n",
      "0     544053           0         3      0             мал\n",
      "1     544053           0         5      1           малюк\n",
      "2     544053           0         9      1       малюк пер\n",
      "3     544053           0        11      1     малюк перет\n",
      "4     544053           0        14      1  малюк перетвор\n",
      "...      ...         ...       ...    ...             ...\n",
      "7007  544053         343       350      1       ##ть ново\n",
      "7008  544053         343       353      1    ##ть новость\n",
      "7009  544053         346       350      0            ново\n",
      "7010  544053         346       353      1         новость\n",
      "7011  544053         350       353      1           ##сть\n",
      "\n",
      "[7012 rows x 5 columns]\n",
      "          id  seq_starts  seq_ends  label            text\n",
      "0     544105           0         3      0             бел\n",
      "1     544105           0         4      0            бель\n",
      "2     544105           0         7      0         бельгія\n",
      "3     544105           0        11      0     бельгія від\n",
      "4     544105           0        14      0  бельгія відпра\n",
      "...      ...         ...       ...    ...             ...\n",
      "2402  544105         216       223      0       ##ть ново\n",
      "2403  544105         216       226      0    ##ть новость\n",
      "2404  544105         219       223      0            ново\n",
      "2405  544105         219       226      0         новость\n",
      "2406  544105         223       226      0           ##сть\n",
      "\n",
      "[2407 rows x 5 columns]\n",
      "(2407, 5)\n"
     ]
    },
    {
     "name": "stderr",
     "output_type": "stream",
     "text": [
      "INFO:LOG:Creating TensorDataset from features dataframe\n",
      "C:\\Windows\\Temp\\ipykernel_1144\\1158175120.py:14: TqdmDeprecationWarning: This function will be removed in tqdm==5.0.0\n",
      "Please use `tqdm.notebook.tqdm` instead of `tqdm.tqdm_notebook`\n",
      "  for batch in tqdm_notebook(eval_dataloader, desc=\"Evaluating\"):\n"
     ]
    },
    {
     "data": {
      "text/plain": "Evaluating:   0%|          | 0/301 [00:00<?, ?it/s]",
      "application/vnd.jupyter.widget-view+json": {
       "version_major": 2,
       "version_minor": 0,
       "model_id": "4b91b4bc50b8462aae2a63964d9eab83"
      },
      "application/json": {
       "n": 0,
       "total": 301,
       "elapsed": 0.0029931068420410156,
       "ncols": null,
       "nrows": null,
       "prefix": "Evaluating",
       "ascii": false,
       "unit": "it",
       "unit_scale": false,
       "rate": null,
       "bar_format": null,
       "postfix": null,
       "unit_divisor": 1000,
       "initial": 0,
       "colour": null
      }
     },
     "metadata": {},
     "output_type": "display_data"
    },
    {
     "name": "stderr",
     "output_type": "stream",
     "text": [
      "INFO:LOG:Generating evaluation dataset...\n",
      "INFO:LOG:Creating features from dataframe\n"
     ]
    },
    {
     "name": "stdout",
     "output_type": "stream",
     "text": [
      "          id  seq_starts  seq_ends  label            text\n",
      "0     544105           0         3      0             бел\n",
      "1     544105           0         4      1            бель\n",
      "2     544105           0         7      1         бельгія\n",
      "3     544105           0        11      1     бельгія від\n",
      "4     544105           0        14      1  бельгія відпра\n",
      "...      ...         ...       ...    ...             ...\n",
      "2402  544105         216       223      1       ##ть ново\n",
      "2403  544105         216       226      1    ##ть новость\n",
      "2404  544105         219       223      0            ново\n",
      "2405  544105         219       226      1         новость\n",
      "2406  544105         223       226      1           ##сть\n",
      "\n",
      "[2407 rows x 5 columns]\n",
      "          id  seq_starts  seq_ends  label                 text\n",
      "0     544274           0         6      0               голова\n",
      "1     544274           0         8      0             голова н\n",
      "2     544274           0        10      0           голова нбу\n",
      "3     544274           0         5      0    голова нбу андріи\n",
      "4     544274           0        19      0  голова нбу андріи п\n",
      "...      ...         ...       ...    ...                  ...\n",
      "5983  544274         334       341      0            ##ть ново\n",
      "5984  544274         334       344      0         ##ть новость\n",
      "5985  544274         337       341      0                 ново\n",
      "5986  544274         337       344      0              новость\n",
      "5987  544274         341       344      0                ##сть\n",
      "\n",
      "[5988 rows x 5 columns]\n",
      "(5988, 5)\n"
     ]
    },
    {
     "name": "stderr",
     "output_type": "stream",
     "text": [
      "INFO:LOG:Creating TensorDataset from features dataframe\n",
      "C:\\Windows\\Temp\\ipykernel_1144\\1158175120.py:14: TqdmDeprecationWarning: This function will be removed in tqdm==5.0.0\n",
      "Please use `tqdm.notebook.tqdm` instead of `tqdm.tqdm_notebook`\n",
      "  for batch in tqdm_notebook(eval_dataloader, desc=\"Evaluating\"):\n"
     ]
    },
    {
     "data": {
      "text/plain": "Evaluating:   0%|          | 0/749 [00:00<?, ?it/s]",
      "application/vnd.jupyter.widget-view+json": {
       "version_major": 2,
       "version_minor": 0,
       "model_id": "1a8e249444d34235aa56d79d08a958ca"
      },
      "application/json": {
       "n": 0,
       "total": 749,
       "elapsed": 0.003981113433837891,
       "ncols": null,
       "nrows": null,
       "prefix": "Evaluating",
       "ascii": false,
       "unit": "it",
       "unit_scale": false,
       "rate": null,
       "bar_format": null,
       "postfix": null,
       "unit_divisor": 1000,
       "initial": 0,
       "colour": null
      }
     },
     "metadata": {},
     "output_type": "display_data"
    },
    {
     "name": "stderr",
     "output_type": "stream",
     "text": [
      "INFO:LOG:Generating evaluation dataset...\n",
      "INFO:LOG:Creating features from dataframe\n"
     ]
    },
    {
     "name": "stdout",
     "output_type": "stream",
     "text": [
      "          id  seq_starts  seq_ends  label                 text\n",
      "0     544274           0         6      0               голова\n",
      "1     544274           0         8      1             голова н\n",
      "2     544274           0        10      1           голова нбу\n",
      "3     544274           0         5      1    голова нбу андріи\n",
      "4     544274           0        19      1  голова нбу андріи п\n",
      "...      ...         ...       ...    ...                  ...\n",
      "5983  544274         334       341      1            ##ть ново\n",
      "5984  544274         334       344      1         ##ть новость\n",
      "5985  544274         337       341      0                 ново\n",
      "5986  544274         337       344      1              новость\n",
      "5987  544274         341       344      1                ##сть\n",
      "\n",
      "[5988 rows x 5 columns]\n",
      "          id  seq_starts  seq_ends  label                  text\n",
      "0     544511           0         7      0               загинув\n",
      "1     544511           0        11      0           загинув пом\n",
      "2     544511           0        13      0         загинув поміч\n",
      "3     544511           0        16      0      загинув помічник\n",
      "4     544511           0        20      0  загинув помічник зал\n",
      "...      ...         ...       ...    ...                   ...\n",
      "3559  544511         262       269      0             ##ть ново\n",
      "3560  544511         262       272      0          ##ть новость\n",
      "3561  544511         265       269      0                  ново\n",
      "3562  544511         265       272      0               новость\n",
      "3563  544511         269       272      0                 ##сть\n",
      "\n",
      "[3564 rows x 5 columns]\n",
      "(3564, 5)\n"
     ]
    },
    {
     "name": "stderr",
     "output_type": "stream",
     "text": [
      "INFO:LOG:Creating TensorDataset from features dataframe\n",
      "C:\\Windows\\Temp\\ipykernel_1144\\1158175120.py:14: TqdmDeprecationWarning: This function will be removed in tqdm==5.0.0\n",
      "Please use `tqdm.notebook.tqdm` instead of `tqdm.tqdm_notebook`\n",
      "  for batch in tqdm_notebook(eval_dataloader, desc=\"Evaluating\"):\n"
     ]
    },
    {
     "data": {
      "text/plain": "Evaluating:   0%|          | 0/446 [00:00<?, ?it/s]",
      "application/vnd.jupyter.widget-view+json": {
       "version_major": 2,
       "version_minor": 0,
       "model_id": "2340391c902840a495ca3e2acc337020"
      },
      "application/json": {
       "n": 0,
       "total": 446,
       "elapsed": 0.004999637603759766,
       "ncols": null,
       "nrows": null,
       "prefix": "Evaluating",
       "ascii": false,
       "unit": "it",
       "unit_scale": false,
       "rate": null,
       "bar_format": null,
       "postfix": null,
       "unit_divisor": 1000,
       "initial": 0,
       "colour": null
      }
     },
     "metadata": {},
     "output_type": "display_data"
    },
    {
     "name": "stderr",
     "output_type": "stream",
     "text": [
      "INFO:LOG:Generating evaluation dataset...\n",
      "INFO:LOG:Creating features from dataframe\n"
     ]
    },
    {
     "name": "stdout",
     "output_type": "stream",
     "text": [
      "          id  seq_starts  seq_ends  label                  text\n",
      "0     544511           0         7      0               загинув\n",
      "1     544511           0        11      1           загинув пом\n",
      "2     544511           0        13      1         загинув поміч\n",
      "3     544511           0        16      1      загинув помічник\n",
      "4     544511           0        20      1  загинув помічник зал\n",
      "...      ...         ...       ...    ...                   ...\n",
      "3559  544511         262       269      1             ##ть ново\n",
      "3560  544511         262       272      1          ##ть новость\n",
      "3561  544511         265       269      0                  ново\n",
      "3562  544511         265       272      1               новость\n",
      "3563  544511         269       272      1                 ##сть\n",
      "\n",
      "[3564 rows x 5 columns]\n",
      "          id  seq_starts  seq_ends  label           text\n",
      "0     544701           0         3      0            сам\n",
      "1     544701           0         5      0          сам о\n",
      "2     544701           0         6      0         сам ор\n",
      "3     544701           0         9      0      сам орбан\n",
      "4     544701           0        13      0  сам орбан про\n",
      "...      ...         ...       ...    ...            ...\n",
      "2135  544701         205       209      0           мраз\n",
      "2136  544701         205       210      0          мразь\n",
      "2137  544701         206       209      0          ##раз\n",
      "2138  544701         206       210      0         ##разь\n",
      "2139  544701         209       210      0            ##ь\n",
      "\n",
      "[2140 rows x 5 columns]\n",
      "(2140, 5)\n"
     ]
    },
    {
     "name": "stderr",
     "output_type": "stream",
     "text": [
      "INFO:LOG:Creating TensorDataset from features dataframe\n",
      "C:\\Windows\\Temp\\ipykernel_1144\\1158175120.py:14: TqdmDeprecationWarning: This function will be removed in tqdm==5.0.0\n",
      "Please use `tqdm.notebook.tqdm` instead of `tqdm.tqdm_notebook`\n",
      "  for batch in tqdm_notebook(eval_dataloader, desc=\"Evaluating\"):\n"
     ]
    },
    {
     "data": {
      "text/plain": "Evaluating:   0%|          | 0/268 [00:00<?, ?it/s]",
      "application/vnd.jupyter.widget-view+json": {
       "version_major": 2,
       "version_minor": 0,
       "model_id": "bb668426d0504f83a28201fb9fbb5ae3"
      },
      "application/json": {
       "n": 0,
       "total": 268,
       "elapsed": 0.003989696502685547,
       "ncols": null,
       "nrows": null,
       "prefix": "Evaluating",
       "ascii": false,
       "unit": "it",
       "unit_scale": false,
       "rate": null,
       "bar_format": null,
       "postfix": null,
       "unit_divisor": 1000,
       "initial": 0,
       "colour": null
      }
     },
     "metadata": {},
     "output_type": "display_data"
    },
    {
     "name": "stderr",
     "output_type": "stream",
     "text": [
      "INFO:LOG:Generating evaluation dataset...\n",
      "INFO:LOG:Creating features from dataframe\n"
     ]
    },
    {
     "name": "stdout",
     "output_type": "stream",
     "text": [
      "          id  seq_starts  seq_ends  label           text\n",
      "0     544701           0         3      0            сам\n",
      "1     544701           0         5      1          сам о\n",
      "2     544701           0         6      1         сам ор\n",
      "3     544701           0         9      1      сам орбан\n",
      "4     544701           0        13      1  сам орбан про\n",
      "...      ...         ...       ...    ...            ...\n",
      "2135  544701         205       209      1           мраз\n",
      "2136  544701         205       210      1          мразь\n",
      "2137  544701         206       209      1          ##раз\n",
      "2138  544701         206       210      1         ##разь\n",
      "2139  544701         209       210      1            ##ь\n",
      "\n",
      "[2140 rows x 5 columns]\n",
      "          id  seq_starts  seq_ends  label                text\n",
      "0     545090           0         6      0              рекорд\n",
      "1     545090           0         7      0             рекорді\n",
      "2     545090           0        11      0         рекорді 100\n",
      "3     545090           0        16      0    рекорді 100 млрд\n",
      "4     545090           0        17      0  рекорді 100 млрд :\n",
      "...      ...         ...       ...    ...                 ...\n",
      "3729  545090         315       317      0                ##нц\n",
      "3730  545090         315       320      0             ##нцями\n",
      "3731  545090         315       321      0           ##нцями .\n",
      "3732  545090         317       320      0               ##ями\n",
      "3733  545090         317       321      0             ##ями .\n",
      "\n",
      "[3734 rows x 5 columns]\n",
      "(3734, 5)\n"
     ]
    },
    {
     "name": "stderr",
     "output_type": "stream",
     "text": [
      "INFO:LOG:Creating TensorDataset from features dataframe\n",
      "C:\\Windows\\Temp\\ipykernel_1144\\1158175120.py:14: TqdmDeprecationWarning: This function will be removed in tqdm==5.0.0\n",
      "Please use `tqdm.notebook.tqdm` instead of `tqdm.tqdm_notebook`\n",
      "  for batch in tqdm_notebook(eval_dataloader, desc=\"Evaluating\"):\n"
     ]
    },
    {
     "data": {
      "text/plain": "Evaluating:   0%|          | 0/467 [00:00<?, ?it/s]",
      "application/vnd.jupyter.widget-view+json": {
       "version_major": 2,
       "version_minor": 0,
       "model_id": "233995afa8b940f1bd437e0c34512a52"
      },
      "application/json": {
       "n": 0,
       "total": 467,
       "elapsed": 0.002998828887939453,
       "ncols": null,
       "nrows": null,
       "prefix": "Evaluating",
       "ascii": false,
       "unit": "it",
       "unit_scale": false,
       "rate": null,
       "bar_format": null,
       "postfix": null,
       "unit_divisor": 1000,
       "initial": 0,
       "colour": null
      }
     },
     "metadata": {},
     "output_type": "display_data"
    },
    {
     "name": "stderr",
     "output_type": "stream",
     "text": [
      "INFO:LOG:Generating evaluation dataset...\n",
      "INFO:LOG:Creating features from dataframe\n"
     ]
    },
    {
     "name": "stdout",
     "output_type": "stream",
     "text": [
      "          id  seq_starts  seq_ends  label                text\n",
      "0     545090           0         6      0              рекорд\n",
      "1     545090           0         7      1             рекорді\n",
      "2     545090           0        11      1         рекорді 100\n",
      "3     545090           0        16      1    рекорді 100 млрд\n",
      "4     545090           0        17      1  рекорді 100 млрд :\n",
      "...      ...         ...       ...    ...                 ...\n",
      "3729  545090         315       317      1                ##нц\n",
      "3730  545090         315       320      1             ##нцями\n",
      "3731  545090         315       321      0           ##нцями .\n",
      "3732  545090         317       320      1               ##ями\n",
      "3733  545090         317       321      0             ##ями .\n",
      "\n",
      "[3734 rows x 5 columns]\n",
      "          id  seq_starts  seq_ends  label               text\n",
      "0     545232           0         1      0                  в\n",
      "1     545232           0         3      0                взи\n",
      "2     545232           0         6      0             взимку\n",
      "3     545232           0         9      0          взимку по\n",
      "4     545232           0         6      0  взимку по украіні\n",
      "...      ...         ...       ...    ...                ...\n",
      "3731  545232         260       267      0          ##ть ново\n",
      "3732  545232         260       270      0       ##ть новость\n",
      "3733  545232         263       267      0               ново\n",
      "3734  545232         263       270      0            новость\n",
      "3735  545232         267       270      0              ##сть\n",
      "\n",
      "[3736 rows x 5 columns]\n",
      "(3736, 5)\n"
     ]
    },
    {
     "name": "stderr",
     "output_type": "stream",
     "text": [
      "INFO:LOG:Creating TensorDataset from features dataframe\n",
      "C:\\Windows\\Temp\\ipykernel_1144\\1158175120.py:14: TqdmDeprecationWarning: This function will be removed in tqdm==5.0.0\n",
      "Please use `tqdm.notebook.tqdm` instead of `tqdm.tqdm_notebook`\n",
      "  for batch in tqdm_notebook(eval_dataloader, desc=\"Evaluating\"):\n"
     ]
    },
    {
     "data": {
      "text/plain": "Evaluating:   0%|          | 0/467 [00:00<?, ?it/s]",
      "application/vnd.jupyter.widget-view+json": {
       "version_major": 2,
       "version_minor": 0,
       "model_id": "46bde7742787430480283838fa460ce9"
      },
      "application/json": {
       "n": 0,
       "total": 467,
       "elapsed": 0.003997087478637695,
       "ncols": null,
       "nrows": null,
       "prefix": "Evaluating",
       "ascii": false,
       "unit": "it",
       "unit_scale": false,
       "rate": null,
       "bar_format": null,
       "postfix": null,
       "unit_divisor": 1000,
       "initial": 0,
       "colour": null
      }
     },
     "metadata": {},
     "output_type": "display_data"
    },
    {
     "name": "stderr",
     "output_type": "stream",
     "text": [
      "INFO:LOG:Generating evaluation dataset...\n"
     ]
    },
    {
     "name": "stdout",
     "output_type": "stream",
     "text": [
      "          id  seq_starts  seq_ends  label               text\n",
      "0     545232           0         1      0                  в\n",
      "1     545232           0         3      1                взи\n",
      "2     545232           0         6      1             взимку\n",
      "3     545232           0         9      1          взимку по\n",
      "4     545232           0         6      1  взимку по украіні\n",
      "...      ...         ...       ...    ...                ...\n",
      "3731  545232         260       267      1          ##ть ново\n",
      "3732  545232         260       270      1       ##ть новость\n",
      "3733  545232         263       267      0               ново\n",
      "3734  545232         263       270      1            новость\n",
      "3735  545232         267       270      1              ##сть\n",
      "\n",
      "[3736 rows x 5 columns]\n"
     ]
    },
    {
     "name": "stderr",
     "output_type": "stream",
     "text": [
      "INFO:LOG:Creating features from dataframe\n"
     ]
    },
    {
     "name": "stdout",
     "output_type": "stream",
     "text": [
      "           id  seq_starts  seq_ends  label                text\n",
      "0      545315          -1         6      0             украіна\n",
      "1      545315          -1        10      0          украіна зі\n",
      "2      545315          -1        14      0      украіна зі сша\n",
      "3      545315          -1        17      0   украіна зі сша ро\n",
      "4      545315          -1        18      0  украіна зі сша роз\n",
      "...       ...         ...       ...    ...                 ...\n",
      "16814  545315         583       584      0                   я\n",
      "16815  545315         583       591      0            я раніше\n",
      "16816  545315         583       592      0          я раніше .\n",
      "16817  545315         585       591      0              раніше\n",
      "16818  545315         585       592      0            раніше .\n",
      "\n",
      "[16819 rows x 5 columns]\n",
      "(16819, 5)\n"
     ]
    },
    {
     "name": "stderr",
     "output_type": "stream",
     "text": [
      "INFO:LOG:Creating TensorDataset from features dataframe\n",
      "C:\\Windows\\Temp\\ipykernel_1144\\1158175120.py:14: TqdmDeprecationWarning: This function will be removed in tqdm==5.0.0\n",
      "Please use `tqdm.notebook.tqdm` instead of `tqdm.tqdm_notebook`\n",
      "  for batch in tqdm_notebook(eval_dataloader, desc=\"Evaluating\"):\n"
     ]
    },
    {
     "data": {
      "text/plain": "Evaluating:   0%|          | 0/2103 [00:00<?, ?it/s]",
      "application/vnd.jupyter.widget-view+json": {
       "version_major": 2,
       "version_minor": 0,
       "model_id": "ee5a63d0899b4c73a9f7dc553d7c3eef"
      },
      "application/json": {
       "n": 0,
       "total": 2103,
       "elapsed": 0.003995656967163086,
       "ncols": null,
       "nrows": null,
       "prefix": "Evaluating",
       "ascii": false,
       "unit": "it",
       "unit_scale": false,
       "rate": null,
       "bar_format": null,
       "postfix": null,
       "unit_divisor": 1000,
       "initial": 0,
       "colour": null
      }
     },
     "metadata": {},
     "output_type": "display_data"
    },
    {
     "name": "stderr",
     "output_type": "stream",
     "text": [
      "INFO:LOG:Generating evaluation dataset...\n",
      "INFO:LOG:Creating features from dataframe\n"
     ]
    },
    {
     "name": "stdout",
     "output_type": "stream",
     "text": [
      "           id  seq_starts  seq_ends  label                text\n",
      "0      545315          -1         6      0             украіна\n",
      "1      545315          -1        10      1          украіна зі\n",
      "2      545315          -1        14      1      украіна зі сша\n",
      "3      545315          -1        17      1   украіна зі сша ро\n",
      "4      545315          -1        18      1  украіна зі сша роз\n",
      "...       ...         ...       ...    ...                 ...\n",
      "16814  545315         583       584      0                   я\n",
      "16815  545315         583       591      1            я раніше\n",
      "16816  545315         583       592      0          я раніше .\n",
      "16817  545315         585       591      0              раніше\n",
      "16818  545315         585       592      0            раніше .\n",
      "\n",
      "[16819 rows x 5 columns]\n",
      "          id  seq_starts  seq_ends  label             text\n",
      "0     545668           0         3      0              про\n",
      "1     545668           0         6      0           продов\n",
      "2     545668           0         9      0        продовжує\n",
      "3     545668           0        14      0   продовжує зато\n",
      "4     545668           0        15      0  продовжує затоп\n",
      "...      ...         ...       ...    ...              ...\n",
      "3817  545668         240       249      0        цього при\n",
      "3818  545668         240       253      0    цього приводу\n",
      "3819  545668         246       249      0              при\n",
      "3820  545668         246       253      0          приводу\n",
      "3821  545668         249       253      0           ##воду\n",
      "\n",
      "[3822 rows x 5 columns]\n",
      "(3822, 5)\n"
     ]
    },
    {
     "name": "stderr",
     "output_type": "stream",
     "text": [
      "INFO:LOG:Creating TensorDataset from features dataframe\n",
      "C:\\Windows\\Temp\\ipykernel_1144\\1158175120.py:14: TqdmDeprecationWarning: This function will be removed in tqdm==5.0.0\n",
      "Please use `tqdm.notebook.tqdm` instead of `tqdm.tqdm_notebook`\n",
      "  for batch in tqdm_notebook(eval_dataloader, desc=\"Evaluating\"):\n"
     ]
    },
    {
     "data": {
      "text/plain": "Evaluating:   0%|          | 0/478 [00:00<?, ?it/s]",
      "application/vnd.jupyter.widget-view+json": {
       "version_major": 2,
       "version_minor": 0,
       "model_id": "e4a9eb7c35304fc09bb1474134d02ae2"
      },
      "application/json": {
       "n": 0,
       "total": 478,
       "elapsed": 0.0039958953857421875,
       "ncols": null,
       "nrows": null,
       "prefix": "Evaluating",
       "ascii": false,
       "unit": "it",
       "unit_scale": false,
       "rate": null,
       "bar_format": null,
       "postfix": null,
       "unit_divisor": 1000,
       "initial": 0,
       "colour": null
      }
     },
     "metadata": {},
     "output_type": "display_data"
    },
    {
     "name": "stderr",
     "output_type": "stream",
     "text": [
      "INFO:LOG:Generating evaluation dataset...\n",
      "INFO:LOG:Creating features from dataframe\n"
     ]
    },
    {
     "name": "stdout",
     "output_type": "stream",
     "text": [
      "          id  seq_starts  seq_ends  label             text\n",
      "0     545668           0         3      0              про\n",
      "1     545668           0         6      1           продов\n",
      "2     545668           0         9      1        продовжує\n",
      "3     545668           0        14      1   продовжує зато\n",
      "4     545668           0        15      1  продовжує затоп\n",
      "...      ...         ...       ...    ...              ...\n",
      "3817  545668         240       249      1        цього при\n",
      "3818  545668         240       253      1    цього приводу\n",
      "3819  545668         246       249      0              при\n",
      "3820  545668         246       253      1          приводу\n",
      "3821  545668         249       253      1           ##воду\n",
      "\n",
      "[3822 rows x 5 columns]\n",
      "          id  seq_starts  seq_ends  label          text\n",
      "0     545752           0         2      0            як\n",
      "1     545752           0         4      0          як в\n",
      "2     545752           0         5      0         як вп\n",
      "3     545752           0         7      0       як впіз\n",
      "4     545752           0        11      0   як впізнати\n",
      "...      ...         ...       ...    ...           ...\n",
      "5556  545752         300       307      0     ##ть ново\n",
      "5557  545752         300       310      0  ##ть новость\n",
      "5558  545752         303       307      0          ново\n",
      "5559  545752         303       310      0       новость\n",
      "5560  545752         307       310      0         ##сть\n",
      "\n",
      "[5561 rows x 5 columns]\n",
      "(5561, 5)\n"
     ]
    },
    {
     "name": "stderr",
     "output_type": "stream",
     "text": [
      "INFO:LOG:Creating TensorDataset from features dataframe\n",
      "C:\\Windows\\Temp\\ipykernel_1144\\1158175120.py:14: TqdmDeprecationWarning: This function will be removed in tqdm==5.0.0\n",
      "Please use `tqdm.notebook.tqdm` instead of `tqdm.tqdm_notebook`\n",
      "  for batch in tqdm_notebook(eval_dataloader, desc=\"Evaluating\"):\n"
     ]
    },
    {
     "data": {
      "text/plain": "Evaluating:   0%|          | 0/696 [00:00<?, ?it/s]",
      "application/vnd.jupyter.widget-view+json": {
       "version_major": 2,
       "version_minor": 0,
       "model_id": "6f36c6a7afa3477caf3d8a7279573678"
      },
      "application/json": {
       "n": 0,
       "total": 696,
       "elapsed": 0.00397801399230957,
       "ncols": null,
       "nrows": null,
       "prefix": "Evaluating",
       "ascii": false,
       "unit": "it",
       "unit_scale": false,
       "rate": null,
       "bar_format": null,
       "postfix": null,
       "unit_divisor": 1000,
       "initial": 0,
       "colour": null
      }
     },
     "metadata": {},
     "output_type": "display_data"
    },
    {
     "name": "stderr",
     "output_type": "stream",
     "text": [
      "INFO:LOG:Generating evaluation dataset...\n",
      "INFO:LOG:Creating features from dataframe\n"
     ]
    },
    {
     "name": "stdout",
     "output_type": "stream",
     "text": [
      "          id  seq_starts  seq_ends  label          text\n",
      "0     545752           0         2      0            як\n",
      "1     545752           0         4      1          як в\n",
      "2     545752           0         5      1         як вп\n",
      "3     545752           0         7      1       як впіз\n",
      "4     545752           0        11      1   як впізнати\n",
      "...      ...         ...       ...    ...           ...\n",
      "5556  545752         300       307      1     ##ть ново\n",
      "5557  545752         300       310      1  ##ть новость\n",
      "5558  545752         303       307      0          ново\n",
      "5559  545752         303       310      1       новость\n",
      "5560  545752         307       310      1         ##сть\n",
      "\n",
      "[5561 rows x 5 columns]\n",
      "          id  seq_starts  seq_ends  label          text\n",
      "0     545767           0         1      0             ж\n",
      "1     545767           0         3      0           жор\n",
      "2     545767           0         7      0       жорсток\n",
      "3     545767           0         8      0      жорстоко\n",
      "4     545767           0        11      0   жорстоко по\n",
      "...      ...         ...       ...    ...           ...\n",
      "4741  545767         279       286      0     ##ть ново\n",
      "4742  545767         279       289      0  ##ть новость\n",
      "4743  545767         282       286      0          ново\n",
      "4744  545767         282       289      0       новость\n",
      "4745  545767         286       289      0         ##сть\n",
      "\n",
      "[4746 rows x 5 columns]\n",
      "(4746, 5)\n"
     ]
    },
    {
     "name": "stderr",
     "output_type": "stream",
     "text": [
      "INFO:LOG:Creating TensorDataset from features dataframe\n",
      "C:\\Windows\\Temp\\ipykernel_1144\\1158175120.py:14: TqdmDeprecationWarning: This function will be removed in tqdm==5.0.0\n",
      "Please use `tqdm.notebook.tqdm` instead of `tqdm.tqdm_notebook`\n",
      "  for batch in tqdm_notebook(eval_dataloader, desc=\"Evaluating\"):\n"
     ]
    },
    {
     "data": {
      "text/plain": "Evaluating:   0%|          | 0/594 [00:00<?, ?it/s]",
      "application/vnd.jupyter.widget-view+json": {
       "version_major": 2,
       "version_minor": 0,
       "model_id": "0e976d9501cf426fa1ad7419971e4bd2"
      },
      "application/json": {
       "n": 0,
       "total": 594,
       "elapsed": 0.003963470458984375,
       "ncols": null,
       "nrows": null,
       "prefix": "Evaluating",
       "ascii": false,
       "unit": "it",
       "unit_scale": false,
       "rate": null,
       "bar_format": null,
       "postfix": null,
       "unit_divisor": 1000,
       "initial": 0,
       "colour": null
      }
     },
     "metadata": {},
     "output_type": "display_data"
    },
    {
     "name": "stderr",
     "output_type": "stream",
     "text": [
      "INFO:LOG:Generating evaluation dataset...\n",
      "INFO:LOG:Creating features from dataframe\n"
     ]
    },
    {
     "name": "stdout",
     "output_type": "stream",
     "text": [
      "          id  seq_starts  seq_ends  label          text\n",
      "0     545767           0         1      0             ж\n",
      "1     545767           0         3      1           жор\n",
      "2     545767           0         7      1       жорсток\n",
      "3     545767           0         8      1      жорстоко\n",
      "4     545767           0        11      1   жорстоко по\n",
      "...      ...         ...       ...    ...           ...\n",
      "4741  545767         279       286      1     ##ть ново\n",
      "4742  545767         279       289      1  ##ть новость\n",
      "4743  545767         282       286      0          ново\n",
      "4744  545767         282       289      1       новость\n",
      "4745  545767         286       289      1         ##сть\n",
      "\n",
      "[4746 rows x 5 columns]\n",
      "           id  seq_starts  seq_ends  label           text\n",
      "0      545832           0         2      0             др\n",
      "1      545832           0         5      0          дрони\n",
      "2      545832           0         9      0      дрони від\n",
      "3      545832           0        12      0   дрони від сб\n",
      "4      545832           0        13      0  дрони від сбу\n",
      "...       ...         ...       ...    ...            ...\n",
      "10141  545832         443       450      0      ##ть ново\n",
      "10142  545832         443       453      0   ##ть новость\n",
      "10143  545832         446       450      0           ново\n",
      "10144  545832         446       453      0        новость\n",
      "10145  545832         450       453      0          ##сть\n",
      "\n",
      "[10146 rows x 5 columns]\n",
      "(10146, 5)\n"
     ]
    },
    {
     "name": "stderr",
     "output_type": "stream",
     "text": [
      "INFO:LOG:Creating TensorDataset from features dataframe\n",
      "C:\\Windows\\Temp\\ipykernel_1144\\1158175120.py:14: TqdmDeprecationWarning: This function will be removed in tqdm==5.0.0\n",
      "Please use `tqdm.notebook.tqdm` instead of `tqdm.tqdm_notebook`\n",
      "  for batch in tqdm_notebook(eval_dataloader, desc=\"Evaluating\"):\n"
     ]
    },
    {
     "data": {
      "text/plain": "Evaluating:   0%|          | 0/1269 [00:00<?, ?it/s]",
      "application/vnd.jupyter.widget-view+json": {
       "version_major": 2,
       "version_minor": 0,
       "model_id": "2c22c34d28cd4f07af162369b5a15a4a"
      },
      "application/json": {
       "n": 0,
       "total": 1269,
       "elapsed": 0.005025625228881836,
       "ncols": null,
       "nrows": null,
       "prefix": "Evaluating",
       "ascii": false,
       "unit": "it",
       "unit_scale": false,
       "rate": null,
       "bar_format": null,
       "postfix": null,
       "unit_divisor": 1000,
       "initial": 0,
       "colour": null
      }
     },
     "metadata": {},
     "output_type": "display_data"
    },
    {
     "name": "stderr",
     "output_type": "stream",
     "text": [
      "INFO:LOG:Generating evaluation dataset...\n",
      "INFO:LOG:Creating features from dataframe\n"
     ]
    },
    {
     "name": "stdout",
     "output_type": "stream",
     "text": [
      "           id  seq_starts  seq_ends  label           text\n",
      "0      545832           0         2      0             др\n",
      "1      545832           0         5      1          дрони\n",
      "2      545832           0         9      1      дрони від\n",
      "3      545832           0        12      1   дрони від сб\n",
      "4      545832           0        13      1  дрони від сбу\n",
      "...       ...         ...       ...    ...            ...\n",
      "10141  545832         443       450      1      ##ть ново\n",
      "10142  545832         443       453      1   ##ть новость\n",
      "10143  545832         446       450      0           ново\n",
      "10144  545832         446       453      1        новость\n",
      "10145  545832         450       453      1          ##сть\n",
      "\n",
      "[10146 rows x 5 columns]\n",
      "          id  seq_starts  seq_ends  label            text\n",
      "0     645654           0         1      0               с\n",
      "1     645654           0         4      0            скіл\n",
      "2     645654           0         7      0         скільки\n",
      "3     645654           0        10      0      скільки за\n",
      "4     645654           0        14      0  скільки зароби\n",
      "...      ...         ...       ...    ...             ...\n",
      "7612  645654         376       385      0     ##лати нови\n",
      "7613  645654         376       387      0   ##лати новину\n",
      "7614  645654         381       385      0            нови\n",
      "7615  645654         381       387      0          новину\n",
      "7616  645654         385       387      0            ##ну\n",
      "\n",
      "[7617 rows x 5 columns]\n",
      "(7617, 5)\n"
     ]
    },
    {
     "name": "stderr",
     "output_type": "stream",
     "text": [
      "INFO:LOG:Creating TensorDataset from features dataframe\n",
      "C:\\Windows\\Temp\\ipykernel_1144\\1158175120.py:14: TqdmDeprecationWarning: This function will be removed in tqdm==5.0.0\n",
      "Please use `tqdm.notebook.tqdm` instead of `tqdm.tqdm_notebook`\n",
      "  for batch in tqdm_notebook(eval_dataloader, desc=\"Evaluating\"):\n"
     ]
    },
    {
     "data": {
      "text/plain": "Evaluating:   0%|          | 0/953 [00:00<?, ?it/s]",
      "application/vnd.jupyter.widget-view+json": {
       "version_major": 2,
       "version_minor": 0,
       "model_id": "5ff80565350c48449b374fd255e28d81"
      },
      "application/json": {
       "n": 0,
       "total": 953,
       "elapsed": 0.00400090217590332,
       "ncols": null,
       "nrows": null,
       "prefix": "Evaluating",
       "ascii": false,
       "unit": "it",
       "unit_scale": false,
       "rate": null,
       "bar_format": null,
       "postfix": null,
       "unit_divisor": 1000,
       "initial": 0,
       "colour": null
      }
     },
     "metadata": {},
     "output_type": "display_data"
    },
    {
     "name": "stderr",
     "output_type": "stream",
     "text": [
      "INFO:LOG:Generating evaluation dataset...\n",
      "INFO:LOG:Creating features from dataframe\n"
     ]
    },
    {
     "name": "stdout",
     "output_type": "stream",
     "text": [
      "          id  seq_starts  seq_ends  label            text\n",
      "0     645654           0         1      0               с\n",
      "1     645654           0         4      1            скіл\n",
      "2     645654           0         7      1         скільки\n",
      "3     645654           0        10      1      скільки за\n",
      "4     645654           0        14      1  скільки зароби\n",
      "...      ...         ...       ...    ...             ...\n",
      "7612  645654         376       385      1     ##лати нови\n",
      "7613  645654         376       387      1   ##лати новину\n",
      "7614  645654         381       385      0            нови\n",
      "7615  645654         381       387      0          новину\n",
      "7616  645654         385       387      1            ##ну\n",
      "\n",
      "[7617 rows x 5 columns]\n",
      "          id  seq_starts  seq_ends  label           text\n",
      "0     645756           0         1      0              п\n",
      "1     645756           0         3      0            пив\n",
      "2     645756           0         4      0           пиво\n",
      "3     645756           0        11      0    пиво значно\n",
      "4     645756           0        13      0  пиво значно з\n",
      "...      ...         ...       ...    ...            ...\n",
      "7011  645756         317       326      0    ##лати нови\n",
      "7012  645756         317       328      0  ##лати новину\n",
      "7013  645756         322       326      0           нови\n",
      "7014  645756         322       328      0         новину\n",
      "7015  645756         326       328      0           ##ну\n",
      "\n",
      "[7016 rows x 5 columns]\n",
      "(7016, 5)\n"
     ]
    },
    {
     "name": "stderr",
     "output_type": "stream",
     "text": [
      "INFO:LOG:Creating TensorDataset from features dataframe\n",
      "C:\\Windows\\Temp\\ipykernel_1144\\1158175120.py:14: TqdmDeprecationWarning: This function will be removed in tqdm==5.0.0\n",
      "Please use `tqdm.notebook.tqdm` instead of `tqdm.tqdm_notebook`\n",
      "  for batch in tqdm_notebook(eval_dataloader, desc=\"Evaluating\"):\n"
     ]
    },
    {
     "data": {
      "text/plain": "Evaluating:   0%|          | 0/877 [00:00<?, ?it/s]",
      "application/vnd.jupyter.widget-view+json": {
       "version_major": 2,
       "version_minor": 0,
       "model_id": "169f0a8db3174fe8b7c74ccf3292352c"
      },
      "application/json": {
       "n": 0,
       "total": 877,
       "elapsed": 0.0029909610748291016,
       "ncols": null,
       "nrows": null,
       "prefix": "Evaluating",
       "ascii": false,
       "unit": "it",
       "unit_scale": false,
       "rate": null,
       "bar_format": null,
       "postfix": null,
       "unit_divisor": 1000,
       "initial": 0,
       "colour": null
      }
     },
     "metadata": {},
     "output_type": "display_data"
    },
    {
     "name": "stderr",
     "output_type": "stream",
     "text": [
      "INFO:LOG:Generating evaluation dataset...\n",
      "INFO:LOG:Creating features from dataframe\n"
     ]
    },
    {
     "name": "stdout",
     "output_type": "stream",
     "text": [
      "          id  seq_starts  seq_ends  label           text\n",
      "0     645756           0         1      0              п\n",
      "1     645756           0         3      1            пив\n",
      "2     645756           0         4      1           пиво\n",
      "3     645756           0        11      1    пиво значно\n",
      "4     645756           0        13      1  пиво значно з\n",
      "...      ...         ...       ...    ...            ...\n",
      "7011  645756         317       326      1    ##лати нови\n",
      "7012  645756         317       328      1  ##лати новину\n",
      "7013  645756         322       326      0           нови\n",
      "7014  645756         322       328      0         новину\n",
      "7015  645756         326       328      1           ##ну\n",
      "\n",
      "[7016 rows x 5 columns]\n",
      "          id  seq_starts  seq_ends  label           text\n",
      "0     645811           0         2      0             че\n",
      "1     645811           0         4      0           черг\n",
      "2     645811           0         3      0       черговии\n",
      "3     645811           0        10      0     черговии с\n",
      "4     645811           0        13      0  черговии скан\n",
      "...      ...         ...       ...    ...            ...\n",
      "2204  645811         183       192      0    ##лати нови\n",
      "2205  645811         183       194      0  ##лати новину\n",
      "2206  645811         188       192      0           нови\n",
      "2207  645811         188       194      0         новину\n",
      "2208  645811         192       194      0           ##ну\n",
      "\n",
      "[2209 rows x 5 columns]\n",
      "(2209, 5)\n"
     ]
    },
    {
     "name": "stderr",
     "output_type": "stream",
     "text": [
      "INFO:LOG:Creating TensorDataset from features dataframe\n",
      "C:\\Windows\\Temp\\ipykernel_1144\\1158175120.py:14: TqdmDeprecationWarning: This function will be removed in tqdm==5.0.0\n",
      "Please use `tqdm.notebook.tqdm` instead of `tqdm.tqdm_notebook`\n",
      "  for batch in tqdm_notebook(eval_dataloader, desc=\"Evaluating\"):\n"
     ]
    },
    {
     "data": {
      "text/plain": "Evaluating:   0%|          | 0/277 [00:00<?, ?it/s]",
      "application/vnd.jupyter.widget-view+json": {
       "version_major": 2,
       "version_minor": 0,
       "model_id": "20fa9320af624c77acceadc4c7977e06"
      },
      "application/json": {
       "n": 0,
       "total": 277,
       "elapsed": 0.004966259002685547,
       "ncols": null,
       "nrows": null,
       "prefix": "Evaluating",
       "ascii": false,
       "unit": "it",
       "unit_scale": false,
       "rate": null,
       "bar_format": null,
       "postfix": null,
       "unit_divisor": 1000,
       "initial": 0,
       "colour": null
      }
     },
     "metadata": {},
     "output_type": "display_data"
    },
    {
     "name": "stderr",
     "output_type": "stream",
     "text": [
      "INFO:LOG:Generating evaluation dataset...\n",
      "INFO:LOG:Creating features from dataframe\n"
     ]
    },
    {
     "name": "stdout",
     "output_type": "stream",
     "text": [
      "          id  seq_starts  seq_ends  label           text\n",
      "0     645811           0         2      0             че\n",
      "1     645811           0         4      1           черг\n",
      "2     645811           0         3      1       черговии\n",
      "3     645811           0        10      1     черговии с\n",
      "4     645811           0        13      1  черговии скан\n",
      "...      ...         ...       ...    ...            ...\n",
      "2204  645811         183       192      1    ##лати нови\n",
      "2205  645811         183       194      1  ##лати новину\n",
      "2206  645811         188       192      0           нови\n",
      "2207  645811         188       194      0         новину\n",
      "2208  645811         192       194      1           ##ну\n",
      "\n",
      "[2209 rows x 5 columns]\n",
      "          id  seq_starts  seq_ends  label              text\n",
      "0     645844           0         3      0               від\n",
      "1     645844           0         7      0           відмова\n",
      "2     645844           0        11      0       відмова від\n",
      "3     645844           0        14      0    відмова від се\n",
      "4     645844           0        16      0  відмова від секс\n",
      "...      ...         ...       ...    ...               ...\n",
      "5448  645844         320       329      0       ##лати нови\n",
      "5449  645844         320       331      0     ##лати новину\n",
      "5450  645844         325       329      0              нови\n",
      "5451  645844         325       331      0            новину\n",
      "5452  645844         329       331      0              ##ну\n",
      "\n",
      "[5453 rows x 5 columns]\n",
      "(5453, 5)\n"
     ]
    },
    {
     "name": "stderr",
     "output_type": "stream",
     "text": [
      "INFO:LOG:Creating TensorDataset from features dataframe\n",
      "C:\\Windows\\Temp\\ipykernel_1144\\1158175120.py:14: TqdmDeprecationWarning: This function will be removed in tqdm==5.0.0\n",
      "Please use `tqdm.notebook.tqdm` instead of `tqdm.tqdm_notebook`\n",
      "  for batch in tqdm_notebook(eval_dataloader, desc=\"Evaluating\"):\n"
     ]
    },
    {
     "data": {
      "text/plain": "Evaluating:   0%|          | 0/682 [00:00<?, ?it/s]",
      "application/vnd.jupyter.widget-view+json": {
       "version_major": 2,
       "version_minor": 0,
       "model_id": "6a5a8763714e46e6974a0a683ac0a569"
      },
      "application/json": {
       "n": 0,
       "total": 682,
       "elapsed": 0.003968238830566406,
       "ncols": null,
       "nrows": null,
       "prefix": "Evaluating",
       "ascii": false,
       "unit": "it",
       "unit_scale": false,
       "rate": null,
       "bar_format": null,
       "postfix": null,
       "unit_divisor": 1000,
       "initial": 0,
       "colour": null
      }
     },
     "metadata": {},
     "output_type": "display_data"
    },
    {
     "name": "stderr",
     "output_type": "stream",
     "text": [
      "INFO:LOG:Generating evaluation dataset...\n",
      "INFO:LOG:Creating features from dataframe\n"
     ]
    },
    {
     "name": "stdout",
     "output_type": "stream",
     "text": [
      "          id  seq_starts  seq_ends  label              text\n",
      "0     645844           0         3      0               від\n",
      "1     645844           0         7      1           відмова\n",
      "2     645844           0        11      1       відмова від\n",
      "3     645844           0        14      1    відмова від се\n",
      "4     645844           0        16      1  відмова від секс\n",
      "...      ...         ...       ...    ...               ...\n",
      "5448  645844         320       329      1       ##лати нови\n",
      "5449  645844         320       331      1     ##лати новину\n",
      "5450  645844         325       329      0              нови\n",
      "5451  645844         325       331      0            новину\n",
      "5452  645844         329       331      1              ##ну\n",
      "\n",
      "[5453 rows x 5 columns]\n",
      "          id  seq_starts  seq_ends  label           text\n",
      "0     645977           0         3      0            під\n",
      "1     645977           0         5      0          підви\n",
      "2     645977           0         7      0        підвищи\n",
      "3     645977           0         9      0      підвищити\n",
      "4     645977           0        12      0   підвищити ці\n",
      "...      ...         ...       ...    ...            ...\n",
      "4080  645977         221       230      0    ##лати нови\n",
      "4081  645977         221       232      0  ##лати новину\n",
      "4082  645977         226       230      0           нови\n",
      "4083  645977         226       232      0         новину\n",
      "4084  645977         230       232      0           ##ну\n",
      "\n",
      "[4085 rows x 5 columns]\n",
      "(4085, 5)\n"
     ]
    },
    {
     "name": "stderr",
     "output_type": "stream",
     "text": [
      "INFO:LOG:Creating TensorDataset from features dataframe\n",
      "C:\\Windows\\Temp\\ipykernel_1144\\1158175120.py:14: TqdmDeprecationWarning: This function will be removed in tqdm==5.0.0\n",
      "Please use `tqdm.notebook.tqdm` instead of `tqdm.tqdm_notebook`\n",
      "  for batch in tqdm_notebook(eval_dataloader, desc=\"Evaluating\"):\n"
     ]
    },
    {
     "data": {
      "text/plain": "Evaluating:   0%|          | 0/511 [00:00<?, ?it/s]",
      "application/vnd.jupyter.widget-view+json": {
       "version_major": 2,
       "version_minor": 0,
       "model_id": "e7907eeb324b4f5ca0acd1ac9fef7645"
      },
      "application/json": {
       "n": 0,
       "total": 511,
       "elapsed": 0.003992557525634766,
       "ncols": null,
       "nrows": null,
       "prefix": "Evaluating",
       "ascii": false,
       "unit": "it",
       "unit_scale": false,
       "rate": null,
       "bar_format": null,
       "postfix": null,
       "unit_divisor": 1000,
       "initial": 0,
       "colour": null
      }
     },
     "metadata": {},
     "output_type": "display_data"
    },
    {
     "name": "stderr",
     "output_type": "stream",
     "text": [
      "INFO:LOG:Generating evaluation dataset...\n",
      "INFO:LOG:Creating features from dataframe\n"
     ]
    },
    {
     "name": "stdout",
     "output_type": "stream",
     "text": [
      "          id  seq_starts  seq_ends  label           text\n",
      "0     645977           0         3      0            під\n",
      "1     645977           0         5      1          підви\n",
      "2     645977           0         7      1        підвищи\n",
      "3     645977           0         9      1      підвищити\n",
      "4     645977           0        12      1   підвищити ці\n",
      "...      ...         ...       ...    ...            ...\n",
      "4080  645977         221       230      1    ##лати нови\n",
      "4081  645977         221       232      1  ##лати новину\n",
      "4082  645977         226       230      0           нови\n",
      "4083  645977         226       232      0         новину\n",
      "4084  645977         230       232      1           ##ну\n",
      "\n",
      "[4085 rows x 5 columns]\n",
      "          id  seq_starts  seq_ends  label            text\n",
      "0     646035           0         2      0              ко\n",
      "1     646035           0         4      0            кому\n",
      "2     646035           0         4      0      кому віина\n",
      "3     646035           0        11      0    кому віина ,\n",
      "4     646035           0        13      0  кому віина , а\n",
      "...      ...         ...       ...    ...             ...\n",
      "2993  646035         196       205      0     ##лати нови\n",
      "2994  646035         196       207      0   ##лати новину\n",
      "2995  646035         201       205      0            нови\n",
      "2996  646035         201       207      0          новину\n",
      "2997  646035         205       207      0            ##ну\n",
      "\n",
      "[2998 rows x 5 columns]\n",
      "(2998, 5)\n"
     ]
    },
    {
     "name": "stderr",
     "output_type": "stream",
     "text": [
      "INFO:LOG:Creating TensorDataset from features dataframe\n",
      "C:\\Windows\\Temp\\ipykernel_1144\\1158175120.py:14: TqdmDeprecationWarning: This function will be removed in tqdm==5.0.0\n",
      "Please use `tqdm.notebook.tqdm` instead of `tqdm.tqdm_notebook`\n",
      "  for batch in tqdm_notebook(eval_dataloader, desc=\"Evaluating\"):\n"
     ]
    },
    {
     "data": {
      "text/plain": "Evaluating:   0%|          | 0/375 [00:00<?, ?it/s]",
      "application/vnd.jupyter.widget-view+json": {
       "version_major": 2,
       "version_minor": 0,
       "model_id": "c52f51adc3794ab18c8f5d8d1a27b9d1"
      },
      "application/json": {
       "n": 0,
       "total": 375,
       "elapsed": 0.004035234451293945,
       "ncols": null,
       "nrows": null,
       "prefix": "Evaluating",
       "ascii": false,
       "unit": "it",
       "unit_scale": false,
       "rate": null,
       "bar_format": null,
       "postfix": null,
       "unit_divisor": 1000,
       "initial": 0,
       "colour": null
      }
     },
     "metadata": {},
     "output_type": "display_data"
    },
    {
     "name": "stderr",
     "output_type": "stream",
     "text": [
      "INFO:LOG:Generating evaluation dataset...\n",
      "INFO:LOG:Creating features from dataframe\n"
     ]
    },
    {
     "name": "stdout",
     "output_type": "stream",
     "text": [
      "          id  seq_starts  seq_ends  label            text\n",
      "0     646035           0         2      1              ко\n",
      "1     646035           0         4      1            кому\n",
      "2     646035           0         4      1      кому віина\n",
      "3     646035           0        11      1    кому віина ,\n",
      "4     646035           0        13      1  кому віина , а\n",
      "...      ...         ...       ...    ...             ...\n",
      "2993  646035         196       205      1     ##лати нови\n",
      "2994  646035         196       207      1   ##лати новину\n",
      "2995  646035         201       205      0            нови\n",
      "2996  646035         201       207      0          новину\n",
      "2997  646035         205       207      1            ##ну\n",
      "\n",
      "[2998 rows x 5 columns]\n",
      "          id  seq_starts  seq_ends  label         text\n",
      "0     646053           0         2      0           не\n",
      "1     646053           0         3      0          нео\n",
      "2     646053           0         5      0        неочі\n",
      "3     646053           0         7      0      неочіку\n",
      "4     646053           0        11      0  неочікуване\n",
      "...      ...         ...       ...    ...          ...\n",
      "6425  646053         314       318      0       ##lviv\n",
      "6426  646053         314       321      0    ##lvivbot\n",
      "6427  646053         316       318      0         ##iv\n",
      "6428  646053         316       321      0      ##ivbot\n",
      "6429  646053         318       321      0        ##bot\n",
      "\n",
      "[6430 rows x 5 columns]\n",
      "(6430, 5)\n"
     ]
    },
    {
     "name": "stderr",
     "output_type": "stream",
     "text": [
      "INFO:LOG:Creating TensorDataset from features dataframe\n",
      "C:\\Windows\\Temp\\ipykernel_1144\\1158175120.py:14: TqdmDeprecationWarning: This function will be removed in tqdm==5.0.0\n",
      "Please use `tqdm.notebook.tqdm` instead of `tqdm.tqdm_notebook`\n",
      "  for batch in tqdm_notebook(eval_dataloader, desc=\"Evaluating\"):\n"
     ]
    },
    {
     "data": {
      "text/plain": "Evaluating:   0%|          | 0/804 [00:00<?, ?it/s]",
      "application/vnd.jupyter.widget-view+json": {
       "version_major": 2,
       "version_minor": 0,
       "model_id": "77994a443f494013b44dfbbfb44d6fb0"
      },
      "application/json": {
       "n": 0,
       "total": 804,
       "elapsed": 0.003964900970458984,
       "ncols": null,
       "nrows": null,
       "prefix": "Evaluating",
       "ascii": false,
       "unit": "it",
       "unit_scale": false,
       "rate": null,
       "bar_format": null,
       "postfix": null,
       "unit_divisor": 1000,
       "initial": 0,
       "colour": null
      }
     },
     "metadata": {},
     "output_type": "display_data"
    },
    {
     "name": "stderr",
     "output_type": "stream",
     "text": [
      "INFO:LOG:Generating evaluation dataset...\n",
      "INFO:LOG:Creating features from dataframe\n"
     ]
    },
    {
     "name": "stdout",
     "output_type": "stream",
     "text": [
      "          id  seq_starts  seq_ends  label         text\n",
      "0     646053           0         2      1           не\n",
      "1     646053           0         3      1          нео\n",
      "2     646053           0         5      1        неочі\n",
      "3     646053           0         7      1      неочіку\n",
      "4     646053           0        11      1  неочікуване\n",
      "...      ...         ...       ...    ...          ...\n",
      "6425  646053         314       318      1       ##lviv\n",
      "6426  646053         314       321      1    ##lvivbot\n",
      "6427  646053         316       318      1         ##iv\n",
      "6428  646053         316       321      1      ##ivbot\n",
      "6429  646053         318       321      1        ##bot\n",
      "\n",
      "[6430 rows x 5 columns]\n",
      "          id  seq_starts  seq_ends  label           text\n",
      "0     646255           0         1      0              т\n",
      "1     646255           0         3      0            тре\n",
      "2     646255           0         4      0           треш\n",
      "3     646255           0         5      0         треш !\n",
      "4     646255           0         7      0       треш ! ф\n",
      "...      ...         ...       ...    ...            ...\n",
      "5039  646255         287       296      0    ##лати нови\n",
      "5040  646255         287       298      0  ##лати новину\n",
      "5041  646255         292       296      0           нови\n",
      "5042  646255         292       298      0         новину\n",
      "5043  646255         296       298      0           ##ну\n",
      "\n",
      "[5044 rows x 5 columns]\n",
      "(5044, 5)\n"
     ]
    },
    {
     "name": "stderr",
     "output_type": "stream",
     "text": [
      "INFO:LOG:Creating TensorDataset from features dataframe\n",
      "C:\\Windows\\Temp\\ipykernel_1144\\1158175120.py:14: TqdmDeprecationWarning: This function will be removed in tqdm==5.0.0\n",
      "Please use `tqdm.notebook.tqdm` instead of `tqdm.tqdm_notebook`\n",
      "  for batch in tqdm_notebook(eval_dataloader, desc=\"Evaluating\"):\n"
     ]
    },
    {
     "data": {
      "text/plain": "Evaluating:   0%|          | 0/631 [00:00<?, ?it/s]",
      "application/vnd.jupyter.widget-view+json": {
       "version_major": 2,
       "version_minor": 0,
       "model_id": "160e7e38c5154116bcb78350f4485d20"
      },
      "application/json": {
       "n": 0,
       "total": 631,
       "elapsed": 0.004001617431640625,
       "ncols": null,
       "nrows": null,
       "prefix": "Evaluating",
       "ascii": false,
       "unit": "it",
       "unit_scale": false,
       "rate": null,
       "bar_format": null,
       "postfix": null,
       "unit_divisor": 1000,
       "initial": 0,
       "colour": null
      }
     },
     "metadata": {},
     "output_type": "display_data"
    },
    {
     "name": "stderr",
     "output_type": "stream",
     "text": [
      "INFO:LOG:Generating evaluation dataset...\n",
      "INFO:LOG:Creating features from dataframe\n"
     ]
    },
    {
     "name": "stdout",
     "output_type": "stream",
     "text": [
      "          id  seq_starts  seq_ends  label           text\n",
      "0     646255           0         1      0              т\n",
      "1     646255           0         3      1            тре\n",
      "2     646255           0         4      1           треш\n",
      "3     646255           0         5      1         треш !\n",
      "4     646255           0         7      1       треш ! ф\n",
      "...      ...         ...       ...    ...            ...\n",
      "5039  646255         287       296      1    ##лати нови\n",
      "5040  646255         287       298      1  ##лати новину\n",
      "5041  646255         292       296      0           нови\n",
      "5042  646255         292       298      0         новину\n",
      "5043  646255         296       298      1           ##ну\n",
      "\n",
      "[5044 rows x 5 columns]\n",
      "          id  seq_starts  seq_ends  label           text\n",
      "0     646434           0         2      0             31\n",
      "1     646434           0         6      0         31 млн\n",
      "2     646434           0         9      0      31 млн гр\n",
      "3     646434           0        10      0     31 млн грн\n",
      "4     646434           0        13      0  31 млн грн на\n",
      "...      ...         ...       ...    ...            ...\n",
      "5239  646434         289       298      0    ##лати нови\n",
      "5240  646434         289       300      0  ##лати новину\n",
      "5241  646434         294       298      0           нови\n",
      "5242  646434         294       300      0         новину\n",
      "5243  646434         298       300      0           ##ну\n",
      "\n",
      "[5244 rows x 5 columns]\n",
      "(5244, 5)\n"
     ]
    },
    {
     "name": "stderr",
     "output_type": "stream",
     "text": [
      "INFO:LOG:Creating TensorDataset from features dataframe\n",
      "C:\\Windows\\Temp\\ipykernel_1144\\1158175120.py:14: TqdmDeprecationWarning: This function will be removed in tqdm==5.0.0\n",
      "Please use `tqdm.notebook.tqdm` instead of `tqdm.tqdm_notebook`\n",
      "  for batch in tqdm_notebook(eval_dataloader, desc=\"Evaluating\"):\n"
     ]
    },
    {
     "data": {
      "text/plain": "Evaluating:   0%|          | 0/656 [00:00<?, ?it/s]",
      "application/vnd.jupyter.widget-view+json": {
       "version_major": 2,
       "version_minor": 0,
       "model_id": "b3b3102ed4a546618a722b29a05fce64"
      },
      "application/json": {
       "n": 0,
       "total": 656,
       "elapsed": 0.0039675235748291016,
       "ncols": null,
       "nrows": null,
       "prefix": "Evaluating",
       "ascii": false,
       "unit": "it",
       "unit_scale": false,
       "rate": null,
       "bar_format": null,
       "postfix": null,
       "unit_divisor": 1000,
       "initial": 0,
       "colour": null
      }
     },
     "metadata": {},
     "output_type": "display_data"
    },
    {
     "name": "stderr",
     "output_type": "stream",
     "text": [
      "INFO:LOG:Generating evaluation dataset...\n",
      "INFO:LOG:Creating features from dataframe\n"
     ]
    },
    {
     "name": "stdout",
     "output_type": "stream",
     "text": [
      "          id  seq_starts  seq_ends  label           text\n",
      "0     646434           0         2      0             31\n",
      "1     646434           0         6      1         31 млн\n",
      "2     646434           0         9      1      31 млн гр\n",
      "3     646434           0        10      1     31 млн грн\n",
      "4     646434           0        13      1  31 млн грн на\n",
      "...      ...         ...       ...    ...            ...\n",
      "5239  646434         289       298      1    ##лати нови\n",
      "5240  646434         289       300      1  ##лати новину\n",
      "5241  646434         294       298      0           нови\n",
      "5242  646434         294       300      0         новину\n",
      "5243  646434         298       300      1           ##ну\n",
      "\n",
      "[5244 rows x 5 columns]\n",
      "          id  seq_starts  seq_ends  label           text\n",
      "0     646460           0         2      0             ви\n",
      "1     646460           0         4      0           вибу\n",
      "2     646460           0         5      0          вибух\n",
      "3     646460           0        10      0     вибух став\n",
      "4     646460           0        12      0   вибух стався\n",
      "...      ...         ...       ...    ...            ...\n",
      "4086  646460         257       266      0    ##лати нови\n",
      "4087  646460         257       268      0  ##лати новину\n",
      "4088  646460         262       266      0           нови\n",
      "4089  646460         262       268      0         новину\n",
      "4090  646460         266       268      0           ##ну\n",
      "\n",
      "[4091 rows x 5 columns]\n",
      "(4091, 5)\n"
     ]
    },
    {
     "name": "stderr",
     "output_type": "stream",
     "text": [
      "INFO:LOG:Creating TensorDataset from features dataframe\n",
      "C:\\Windows\\Temp\\ipykernel_1144\\1158175120.py:14: TqdmDeprecationWarning: This function will be removed in tqdm==5.0.0\n",
      "Please use `tqdm.notebook.tqdm` instead of `tqdm.tqdm_notebook`\n",
      "  for batch in tqdm_notebook(eval_dataloader, desc=\"Evaluating\"):\n"
     ]
    },
    {
     "data": {
      "text/plain": "Evaluating:   0%|          | 0/512 [00:00<?, ?it/s]",
      "application/vnd.jupyter.widget-view+json": {
       "version_major": 2,
       "version_minor": 0,
       "model_id": "c038647f61964876a4842db3b65c04b5"
      },
      "application/json": {
       "n": 0,
       "total": 512,
       "elapsed": 0.005028486251831055,
       "ncols": null,
       "nrows": null,
       "prefix": "Evaluating",
       "ascii": false,
       "unit": "it",
       "unit_scale": false,
       "rate": null,
       "bar_format": null,
       "postfix": null,
       "unit_divisor": 1000,
       "initial": 0,
       "colour": null
      }
     },
     "metadata": {},
     "output_type": "display_data"
    },
    {
     "name": "stderr",
     "output_type": "stream",
     "text": [
      "INFO:LOG:Generating evaluation dataset...\n",
      "INFO:LOG:Creating features from dataframe\n"
     ]
    },
    {
     "name": "stdout",
     "output_type": "stream",
     "text": [
      "          id  seq_starts  seq_ends  label           text\n",
      "0     646460           0         2      0             ви\n",
      "1     646460           0         4      1           вибу\n",
      "2     646460           0         5      1          вибух\n",
      "3     646460           0        10      1     вибух став\n",
      "4     646460           0        12      1   вибух стався\n",
      "...      ...         ...       ...    ...            ...\n",
      "4086  646460         257       266      1    ##лати нови\n",
      "4087  646460         257       268      1  ##лати новину\n",
      "4088  646460         262       266      0           нови\n",
      "4089  646460         262       268      0         новину\n",
      "4090  646460         266       268      1           ##ну\n",
      "\n",
      "[4091 rows x 5 columns]\n",
      "          id  seq_starts  seq_ends  label           text\n",
      "0     646557           0         2      0             жа\n",
      "1     646557           0         3      0            жах\n",
      "2     646557           0         4      0          жах !\n",
      "3     646557           0         8      0      жах ! нам\n",
      "4     646557           0        11      0   жах ! намага\n",
      "...      ...         ...       ...    ...            ...\n",
      "3231  646557         227       236      0    ##лати нови\n",
      "3232  646557         227       238      0  ##лати новину\n",
      "3233  646557         232       236      0           нови\n",
      "3234  646557         232       238      0         новину\n",
      "3235  646557         236       238      0           ##ну\n",
      "\n",
      "[3236 rows x 5 columns]\n",
      "(3236, 5)\n"
     ]
    },
    {
     "name": "stderr",
     "output_type": "stream",
     "text": [
      "INFO:LOG:Creating TensorDataset from features dataframe\n",
      "C:\\Windows\\Temp\\ipykernel_1144\\1158175120.py:14: TqdmDeprecationWarning: This function will be removed in tqdm==5.0.0\n",
      "Please use `tqdm.notebook.tqdm` instead of `tqdm.tqdm_notebook`\n",
      "  for batch in tqdm_notebook(eval_dataloader, desc=\"Evaluating\"):\n"
     ]
    },
    {
     "data": {
      "text/plain": "Evaluating:   0%|          | 0/405 [00:00<?, ?it/s]",
      "application/vnd.jupyter.widget-view+json": {
       "version_major": 2,
       "version_minor": 0,
       "model_id": "f347e63121434c638595ebf265d59c22"
      },
      "application/json": {
       "n": 0,
       "total": 405,
       "elapsed": 0.003958702087402344,
       "ncols": null,
       "nrows": null,
       "prefix": "Evaluating",
       "ascii": false,
       "unit": "it",
       "unit_scale": false,
       "rate": null,
       "bar_format": null,
       "postfix": null,
       "unit_divisor": 1000,
       "initial": 0,
       "colour": null
      }
     },
     "metadata": {},
     "output_type": "display_data"
    },
    {
     "name": "stderr",
     "output_type": "stream",
     "text": [
      "INFO:LOG:Generating evaluation dataset...\n",
      "INFO:LOG:Creating features from dataframe\n"
     ]
    },
    {
     "name": "stdout",
     "output_type": "stream",
     "text": [
      "          id  seq_starts  seq_ends  label           text\n",
      "0     646557           0         2      1             жа\n",
      "1     646557           0         3      1            жах\n",
      "2     646557           0         4      1          жах !\n",
      "3     646557           0         8      1      жах ! нам\n",
      "4     646557           0        11      1   жах ! намага\n",
      "...      ...         ...       ...    ...            ...\n",
      "3231  646557         227       236      1    ##лати нови\n",
      "3232  646557         227       238      1  ##лати новину\n",
      "3233  646557         232       236      0           нови\n",
      "3234  646557         232       238      0         новину\n",
      "3235  646557         236       238      1           ##ну\n",
      "\n",
      "[3236 rows x 5 columns]\n",
      "          id  seq_starts  seq_ends  label              text\n",
      "0     646593           0         2      0                на\n",
      "1     646593           0         9      0         на смерть\n",
      "2     646593           0        11      0       на смерть з\n",
      "3     646593           0        14      0    на смерть збив\n",
      "4     646593           0        16      0  на смерть збив п\n",
      "...      ...         ...       ...    ...               ...\n",
      "3475  646593         222       231      0       ##лати нови\n",
      "3476  646593         222       233      0     ##лати новину\n",
      "3477  646593         227       231      0              нови\n",
      "3478  646593         227       233      0            новину\n",
      "3479  646593         231       233      0              ##ну\n",
      "\n",
      "[3480 rows x 5 columns]\n",
      "(3480, 5)\n"
     ]
    },
    {
     "name": "stderr",
     "output_type": "stream",
     "text": [
      "INFO:LOG:Creating TensorDataset from features dataframe\n",
      "C:\\Windows\\Temp\\ipykernel_1144\\1158175120.py:14: TqdmDeprecationWarning: This function will be removed in tqdm==5.0.0\n",
      "Please use `tqdm.notebook.tqdm` instead of `tqdm.tqdm_notebook`\n",
      "  for batch in tqdm_notebook(eval_dataloader, desc=\"Evaluating\"):\n"
     ]
    },
    {
     "data": {
      "text/plain": "Evaluating:   0%|          | 0/435 [00:00<?, ?it/s]",
      "application/vnd.jupyter.widget-view+json": {
       "version_major": 2,
       "version_minor": 0,
       "model_id": "a038728af7aa4b79b95d44c309920897"
      },
      "application/json": {
       "n": 0,
       "total": 435,
       "elapsed": 0.0029630661010742188,
       "ncols": null,
       "nrows": null,
       "prefix": "Evaluating",
       "ascii": false,
       "unit": "it",
       "unit_scale": false,
       "rate": null,
       "bar_format": null,
       "postfix": null,
       "unit_divisor": 1000,
       "initial": 0,
       "colour": null
      }
     },
     "metadata": {},
     "output_type": "display_data"
    },
    {
     "name": "stderr",
     "output_type": "stream",
     "text": [
      "INFO:LOG:Generating evaluation dataset...\n",
      "INFO:LOG:Creating features from dataframe\n"
     ]
    },
    {
     "name": "stdout",
     "output_type": "stream",
     "text": [
      "          id  seq_starts  seq_ends  label              text\n",
      "0     646593           0         2      0                на\n",
      "1     646593           0         9      1         на смерть\n",
      "2     646593           0        11      1       на смерть з\n",
      "3     646593           0        14      1    на смерть збив\n",
      "4     646593           0        16      1  на смерть збив п\n",
      "...      ...         ...       ...    ...               ...\n",
      "3475  646593         222       231      1       ##лати нови\n",
      "3476  646593         222       233      1     ##лати новину\n",
      "3477  646593         227       231      0              нови\n",
      "3478  646593         227       233      0            новину\n",
      "3479  646593         231       233      1              ##ну\n",
      "\n",
      "[3480 rows x 5 columns]\n",
      "          id  seq_starts  seq_ends  label            text\n",
      "0     646653           0         3      0             все\n",
      "1     646653           0         5      0           все ж\n",
      "2     646653           0        10      0      все ж таки\n",
      "3     646653           0        12      0    все ж таки у\n",
      "4     646653           0        14      0  все ж таки уск\n",
      "...      ...         ...       ...    ...             ...\n",
      "6774  646653         359       368      0     ##лати нови\n",
      "6775  646653         359       370      0   ##лати новину\n",
      "6776  646653         364       368      0            нови\n",
      "6777  646653         364       370      0          новину\n",
      "6778  646653         368       370      0            ##ну\n",
      "\n",
      "[6779 rows x 5 columns]\n",
      "(6779, 5)\n"
     ]
    },
    {
     "name": "stderr",
     "output_type": "stream",
     "text": [
      "INFO:LOG:Creating TensorDataset from features dataframe\n",
      "C:\\Windows\\Temp\\ipykernel_1144\\1158175120.py:14: TqdmDeprecationWarning: This function will be removed in tqdm==5.0.0\n",
      "Please use `tqdm.notebook.tqdm` instead of `tqdm.tqdm_notebook`\n",
      "  for batch in tqdm_notebook(eval_dataloader, desc=\"Evaluating\"):\n"
     ]
    },
    {
     "data": {
      "text/plain": "Evaluating:   0%|          | 0/848 [00:00<?, ?it/s]",
      "application/vnd.jupyter.widget-view+json": {
       "version_major": 2,
       "version_minor": 0,
       "model_id": "f433975b57004104bcad4d24ccfdf01a"
      },
      "application/json": {
       "n": 0,
       "total": 848,
       "elapsed": 0.004036664962768555,
       "ncols": null,
       "nrows": null,
       "prefix": "Evaluating",
       "ascii": false,
       "unit": "it",
       "unit_scale": false,
       "rate": null,
       "bar_format": null,
       "postfix": null,
       "unit_divisor": 1000,
       "initial": 0,
       "colour": null
      }
     },
     "metadata": {},
     "output_type": "display_data"
    },
    {
     "name": "stderr",
     "output_type": "stream",
     "text": [
      "INFO:LOG:Generating evaluation dataset...\n",
      "INFO:LOG:Creating features from dataframe\n"
     ]
    },
    {
     "name": "stdout",
     "output_type": "stream",
     "text": [
      "          id  seq_starts  seq_ends  label            text\n",
      "0     646653           0         3      0             все\n",
      "1     646653           0         5      1           все ж\n",
      "2     646653           0        10      1      все ж таки\n",
      "3     646653           0        12      1    все ж таки у\n",
      "4     646653           0        14      1  все ж таки уск\n",
      "...      ...         ...       ...    ...             ...\n",
      "6774  646653         359       368      1     ##лати нови\n",
      "6775  646653         359       370      1   ##лати новину\n",
      "6776  646653         364       368      0            нови\n",
      "6777  646653         364       370      0          новину\n",
      "6778  646653         368       370      1            ##ну\n",
      "\n",
      "[6779 rows x 5 columns]\n",
      "          id  seq_starts  seq_ends  label           text\n",
      "0     646761           0         1      0              1\n",
      "1     646761           0         4      0           1 ла\n",
      "2     646761           0         5      0          1 лак\n",
      "3     646761           0         8      0       1 лакшер\n",
      "4     646761           0         9      0      1 лакшері\n",
      "...      ...         ...       ...    ...            ...\n",
      "6429  646761         326       335      0    ##лати нови\n",
      "6430  646761         326       337      0  ##лати новину\n",
      "6431  646761         331       335      0           нови\n",
      "6432  646761         331       337      0         новину\n",
      "6433  646761         335       337      0           ##ну\n",
      "\n",
      "[6434 rows x 5 columns]\n",
      "(6434, 5)\n"
     ]
    },
    {
     "name": "stderr",
     "output_type": "stream",
     "text": [
      "INFO:LOG:Creating TensorDataset from features dataframe\n",
      "C:\\Windows\\Temp\\ipykernel_1144\\1158175120.py:14: TqdmDeprecationWarning: This function will be removed in tqdm==5.0.0\n",
      "Please use `tqdm.notebook.tqdm` instead of `tqdm.tqdm_notebook`\n",
      "  for batch in tqdm_notebook(eval_dataloader, desc=\"Evaluating\"):\n"
     ]
    },
    {
     "data": {
      "text/plain": "Evaluating:   0%|          | 0/805 [00:00<?, ?it/s]",
      "application/vnd.jupyter.widget-view+json": {
       "version_major": 2,
       "version_minor": 0,
       "model_id": "6d2edd4345f24d21b63f66051ecdc56f"
      },
      "application/json": {
       "n": 0,
       "total": 805,
       "elapsed": 0.0039975643157958984,
       "ncols": null,
       "nrows": null,
       "prefix": "Evaluating",
       "ascii": false,
       "unit": "it",
       "unit_scale": false,
       "rate": null,
       "bar_format": null,
       "postfix": null,
       "unit_divisor": 1000,
       "initial": 0,
       "colour": null
      }
     },
     "metadata": {},
     "output_type": "display_data"
    },
    {
     "name": "stderr",
     "output_type": "stream",
     "text": [
      "INFO:LOG:Generating evaluation dataset...\n",
      "INFO:LOG:Creating features from dataframe\n"
     ]
    },
    {
     "name": "stdout",
     "output_type": "stream",
     "text": [
      "          id  seq_starts  seq_ends  label           text\n",
      "0     646761           0         1      0              1\n",
      "1     646761           0         4      1           1 ла\n",
      "2     646761           0         5      1          1 лак\n",
      "3     646761           0         8      1       1 лакшер\n",
      "4     646761           0         9      1      1 лакшері\n",
      "...      ...         ...       ...    ...            ...\n",
      "6429  646761         326       335      1    ##лати нови\n",
      "6430  646761         326       337      1  ##лати новину\n",
      "6431  646761         331       335      0           нови\n",
      "6432  646761         331       337      0         новину\n",
      "6433  646761         335       337      1           ##ну\n",
      "\n",
      "[6434 rows x 5 columns]\n",
      "          id  seq_starts  seq_ends  label           text\n",
      "0     646866           0         2      0             зі\n",
      "1     646866           0         4      0           зі с\n",
      "2     646866           0         6      0         зі ске\n",
      "3     646866           0         8      0       зі скелі\n",
      "4     646866           0        10      0     зі скелі в\n",
      "...      ...         ...       ...    ...            ...\n",
      "3232  646866         218       227      0    ##лати нови\n",
      "3233  646866         218       229      0  ##лати новину\n",
      "3234  646866         223       227      0           нови\n",
      "3235  646866         223       229      0         новину\n",
      "3236  646866         227       229      0           ##ну\n",
      "\n",
      "[3237 rows x 5 columns]\n",
      "(3237, 5)\n"
     ]
    },
    {
     "name": "stderr",
     "output_type": "stream",
     "text": [
      "INFO:LOG:Creating TensorDataset from features dataframe\n",
      "C:\\Windows\\Temp\\ipykernel_1144\\1158175120.py:14: TqdmDeprecationWarning: This function will be removed in tqdm==5.0.0\n",
      "Please use `tqdm.notebook.tqdm` instead of `tqdm.tqdm_notebook`\n",
      "  for batch in tqdm_notebook(eval_dataloader, desc=\"Evaluating\"):\n"
     ]
    },
    {
     "data": {
      "text/plain": "Evaluating:   0%|          | 0/405 [00:00<?, ?it/s]",
      "application/vnd.jupyter.widget-view+json": {
       "version_major": 2,
       "version_minor": 0,
       "model_id": "699f8c9f23b7476b8c93f2d0fe18bd25"
      },
      "application/json": {
       "n": 0,
       "total": 405,
       "elapsed": 0.003989696502685547,
       "ncols": null,
       "nrows": null,
       "prefix": "Evaluating",
       "ascii": false,
       "unit": "it",
       "unit_scale": false,
       "rate": null,
       "bar_format": null,
       "postfix": null,
       "unit_divisor": 1000,
       "initial": 0,
       "colour": null
      }
     },
     "metadata": {},
     "output_type": "display_data"
    },
    {
     "name": "stderr",
     "output_type": "stream",
     "text": [
      "INFO:LOG:Generating evaluation dataset...\n",
      "INFO:LOG:Creating features from dataframe\n"
     ]
    },
    {
     "name": "stdout",
     "output_type": "stream",
     "text": [
      "          id  seq_starts  seq_ends  label           text\n",
      "0     646866           0         2      0             зі\n",
      "1     646866           0         4      1           зі с\n",
      "2     646866           0         6      1         зі ске\n",
      "3     646866           0         8      1       зі скелі\n",
      "4     646866           0        10      1     зі скелі в\n",
      "...      ...         ...       ...    ...            ...\n",
      "3232  646866         218       227      1    ##лати нови\n",
      "3233  646866         218       229      1  ##лати новину\n",
      "3234  646866         223       227      0           нови\n",
      "3235  646866         223       229      0         новину\n",
      "3236  646866         227       229      1           ##ну\n",
      "\n",
      "[3237 rows x 5 columns]\n",
      "          id  seq_starts  seq_ends  label           text\n",
      "0     647048           0         4      0           виду\n",
      "1     647048           0         7      0        видурив\n",
      "2     647048           0        10      0     видурив гр\n",
      "3     647048           0        12      0   видурив грош\n",
      "4     647048           0        13      0  видурив гроші\n",
      "...      ...         ...       ...    ...            ...\n",
      "3816  647048         242       251      0    ##лати нови\n",
      "3817  647048         242       253      0  ##лати новину\n",
      "3818  647048         247       251      0           нови\n",
      "3819  647048         247       253      0         новину\n",
      "3820  647048         251       253      0           ##ну\n",
      "\n",
      "[3821 rows x 5 columns]\n",
      "(3821, 5)\n"
     ]
    },
    {
     "name": "stderr",
     "output_type": "stream",
     "text": [
      "INFO:LOG:Creating TensorDataset from features dataframe\n",
      "C:\\Windows\\Temp\\ipykernel_1144\\1158175120.py:14: TqdmDeprecationWarning: This function will be removed in tqdm==5.0.0\n",
      "Please use `tqdm.notebook.tqdm` instead of `tqdm.tqdm_notebook`\n",
      "  for batch in tqdm_notebook(eval_dataloader, desc=\"Evaluating\"):\n"
     ]
    },
    {
     "data": {
      "text/plain": "Evaluating:   0%|          | 0/478 [00:00<?, ?it/s]",
      "application/vnd.jupyter.widget-view+json": {
       "version_major": 2,
       "version_minor": 0,
       "model_id": "e1ae08f6c2d7447a9abe78ec8da186c5"
      },
      "application/json": {
       "n": 0,
       "total": 478,
       "elapsed": 0.002964496612548828,
       "ncols": null,
       "nrows": null,
       "prefix": "Evaluating",
       "ascii": false,
       "unit": "it",
       "unit_scale": false,
       "rate": null,
       "bar_format": null,
       "postfix": null,
       "unit_divisor": 1000,
       "initial": 0,
       "colour": null
      }
     },
     "metadata": {},
     "output_type": "display_data"
    },
    {
     "name": "stderr",
     "output_type": "stream",
     "text": [
      "INFO:LOG:Generating evaluation dataset...\n",
      "INFO:LOG:Creating features from dataframe\n"
     ]
    },
    {
     "name": "stdout",
     "output_type": "stream",
     "text": [
      "          id  seq_starts  seq_ends  label           text\n",
      "0     647048           0         4      0           виду\n",
      "1     647048           0         7      1        видурив\n",
      "2     647048           0        10      1     видурив гр\n",
      "3     647048           0        12      1   видурив грош\n",
      "4     647048           0        13      1  видурив гроші\n",
      "...      ...         ...       ...    ...            ...\n",
      "3816  647048         242       251      1    ##лати нови\n",
      "3817  647048         242       253      1  ##лати новину\n",
      "3818  647048         247       251      0           нови\n",
      "3819  647048         247       253      0         новину\n",
      "3820  647048         251       253      1           ##ну\n",
      "\n",
      "[3821 rows x 5 columns]\n",
      "          id  seq_starts  seq_ends  label               text\n",
      "0     647161           0         5      0              львів\n",
      "1     647161           0         4      0        львів [UNK]\n",
      "2     647161           0         9      0      львів [UNK] л\n",
      "3     647161           0        11      0    львів [UNK] лід\n",
      "4     647161           0        13      0  львів [UNK] лідер\n",
      "...      ...         ...       ...    ...                ...\n",
      "4451  647161         269       270      0                ##ж\n",
      "4452  647161         269       272      0              ##жче\n",
      "4453  647161         269       273      0            ##жче .\n",
      "4454  647161         270       272      0               ##че\n",
      "4455  647161         270       273      0             ##че .\n",
      "\n",
      "[4456 rows x 5 columns]\n",
      "(4456, 5)\n"
     ]
    },
    {
     "name": "stderr",
     "output_type": "stream",
     "text": [
      "INFO:LOG:Creating TensorDataset from features dataframe\n",
      "C:\\Windows\\Temp\\ipykernel_1144\\1158175120.py:14: TqdmDeprecationWarning: This function will be removed in tqdm==5.0.0\n",
      "Please use `tqdm.notebook.tqdm` instead of `tqdm.tqdm_notebook`\n",
      "  for batch in tqdm_notebook(eval_dataloader, desc=\"Evaluating\"):\n"
     ]
    },
    {
     "data": {
      "text/plain": "Evaluating:   0%|          | 0/557 [00:00<?, ?it/s]",
      "application/vnd.jupyter.widget-view+json": {
       "version_major": 2,
       "version_minor": 0,
       "model_id": "c0220c46019146968799459442859e72"
      },
      "application/json": {
       "n": 0,
       "total": 557,
       "elapsed": 0.002963542938232422,
       "ncols": null,
       "nrows": null,
       "prefix": "Evaluating",
       "ascii": false,
       "unit": "it",
       "unit_scale": false,
       "rate": null,
       "bar_format": null,
       "postfix": null,
       "unit_divisor": 1000,
       "initial": 0,
       "colour": null
      }
     },
     "metadata": {},
     "output_type": "display_data"
    },
    {
     "name": "stderr",
     "output_type": "stream",
     "text": [
      "INFO:LOG:Generating evaluation dataset...\n",
      "INFO:LOG:Creating features from dataframe\n"
     ]
    },
    {
     "name": "stdout",
     "output_type": "stream",
     "text": [
      "          id  seq_starts  seq_ends  label               text\n",
      "0     647161           0         5      0              львів\n",
      "1     647161           0         4      1        львів [UNK]\n",
      "2     647161           0         9      1      львів [UNK] л\n",
      "3     647161           0        11      1    львів [UNK] лід\n",
      "4     647161           0        13      1  львів [UNK] лідер\n",
      "...      ...         ...       ...    ...                ...\n",
      "4451  647161         269       270      1                ##ж\n",
      "4452  647161         269       272      1              ##жче\n",
      "4453  647161         269       273      0            ##жче .\n",
      "4454  647161         270       272      1               ##че\n",
      "4455  647161         270       273      0             ##че .\n",
      "\n",
      "[4456 rows x 5 columns]\n",
      "          id  seq_starts  seq_ends  label            text\n",
      "0     647164           0         1      0               с\n",
      "1     647164           0         4      0            сказ\n",
      "2     647164           0         8      0        сказ під\n",
      "3     647164           0        11      0     сказ підтве\n",
      "4     647164           0        14      0  сказ підтверди\n",
      "...      ...         ...       ...    ...             ...\n",
      "2764  647164         209       212      0           ##хід\n",
      "2765  647164         209       214      0         ##хідно\n",
      "2766  647164         209       215      0       ##хідно .\n",
      "2767  647164         212       214      0            ##но\n",
      "2768  647164         212       215      0          ##но .\n",
      "\n",
      "[2769 rows x 5 columns]\n",
      "(2769, 5)\n"
     ]
    },
    {
     "name": "stderr",
     "output_type": "stream",
     "text": [
      "INFO:LOG:Creating TensorDataset from features dataframe\n",
      "C:\\Windows\\Temp\\ipykernel_1144\\1158175120.py:14: TqdmDeprecationWarning: This function will be removed in tqdm==5.0.0\n",
      "Please use `tqdm.notebook.tqdm` instead of `tqdm.tqdm_notebook`\n",
      "  for batch in tqdm_notebook(eval_dataloader, desc=\"Evaluating\"):\n"
     ]
    },
    {
     "data": {
      "text/plain": "Evaluating:   0%|          | 0/347 [00:00<?, ?it/s]",
      "application/vnd.jupyter.widget-view+json": {
       "version_major": 2,
       "version_minor": 0,
       "model_id": "c7caa70b4d44496c808de55d3399c2d4"
      },
      "application/json": {
       "n": 0,
       "total": 347,
       "elapsed": 0.003999948501586914,
       "ncols": null,
       "nrows": null,
       "prefix": "Evaluating",
       "ascii": false,
       "unit": "it",
       "unit_scale": false,
       "rate": null,
       "bar_format": null,
       "postfix": null,
       "unit_divisor": 1000,
       "initial": 0,
       "colour": null
      }
     },
     "metadata": {},
     "output_type": "display_data"
    },
    {
     "name": "stderr",
     "output_type": "stream",
     "text": [
      "INFO:LOG:Generating evaluation dataset...\n",
      "INFO:LOG:Creating features from dataframe\n"
     ]
    },
    {
     "name": "stdout",
     "output_type": "stream",
     "text": [
      "          id  seq_starts  seq_ends  label            text\n",
      "0     647164           0         1      0               с\n",
      "1     647164           0         4      1            сказ\n",
      "2     647164           0         8      1        сказ під\n",
      "3     647164           0        11      1     сказ підтве\n",
      "4     647164           0        14      1  сказ підтверди\n",
      "...      ...         ...       ...    ...             ...\n",
      "2764  647164         209       212      1           ##хід\n",
      "2765  647164         209       214      1         ##хідно\n",
      "2766  647164         209       215      0       ##хідно .\n",
      "2767  647164         212       214      1            ##но\n",
      "2768  647164         212       215      0          ##но .\n",
      "\n",
      "[2769 rows x 5 columns]\n",
      "          id  seq_starts  seq_ends  label           text\n",
      "0     647174           0         1      0              с\n",
      "1     647174           0         3      0            ска\n",
      "2     647174           0         6      0         скажен\n",
      "3     647174           0         7      0        скажену\n",
      "4     647174           0        10      0     скажену ли\n",
      "...      ...         ...       ...    ...            ...\n",
      "7126  647174         335       344      0    ##лати нови\n",
      "7127  647174         335       346      0  ##лати новину\n",
      "7128  647174         340       344      0           нови\n",
      "7129  647174         340       346      0         новину\n",
      "7130  647174         344       346      0           ##ну\n",
      "\n",
      "[7131 rows x 5 columns]\n",
      "(7131, 5)\n"
     ]
    },
    {
     "name": "stderr",
     "output_type": "stream",
     "text": [
      "INFO:LOG:Creating TensorDataset from features dataframe\n",
      "C:\\Windows\\Temp\\ipykernel_1144\\1158175120.py:14: TqdmDeprecationWarning: This function will be removed in tqdm==5.0.0\n",
      "Please use `tqdm.notebook.tqdm` instead of `tqdm.tqdm_notebook`\n",
      "  for batch in tqdm_notebook(eval_dataloader, desc=\"Evaluating\"):\n"
     ]
    },
    {
     "data": {
      "text/plain": "Evaluating:   0%|          | 0/892 [00:00<?, ?it/s]",
      "application/vnd.jupyter.widget-view+json": {
       "version_major": 2,
       "version_minor": 0,
       "model_id": "727ea9f400144c0f8157c1ad26495eb4"
      },
      "application/json": {
       "n": 0,
       "total": 892,
       "elapsed": 0.004000663757324219,
       "ncols": null,
       "nrows": null,
       "prefix": "Evaluating",
       "ascii": false,
       "unit": "it",
       "unit_scale": false,
       "rate": null,
       "bar_format": null,
       "postfix": null,
       "unit_divisor": 1000,
       "initial": 0,
       "colour": null
      }
     },
     "metadata": {},
     "output_type": "display_data"
    },
    {
     "name": "stderr",
     "output_type": "stream",
     "text": [
      "INFO:LOG:Generating evaluation dataset...\n",
      "INFO:LOG:Creating features from dataframe\n"
     ]
    },
    {
     "name": "stdout",
     "output_type": "stream",
     "text": [
      "          id  seq_starts  seq_ends  label           text\n",
      "0     647174           0         1      0              с\n",
      "1     647174           0         3      1            ска\n",
      "2     647174           0         6      1         скажен\n",
      "3     647174           0         7      1        скажену\n",
      "4     647174           0        10      1     скажену ли\n",
      "...      ...         ...       ...    ...            ...\n",
      "7126  647174         335       344      1    ##лати нови\n",
      "7127  647174         335       346      1  ##лати новину\n",
      "7128  647174         340       344      0           нови\n",
      "7129  647174         340       346      0         новину\n",
      "7130  647174         344       346      1           ##ну\n",
      "\n",
      "[7131 rows x 5 columns]\n",
      "          id  seq_starts  seq_ends  label             text\n",
      "0     647187           0         5      0            росія\n",
      "1     647187           0         8      0         росіянка\n",
      "2     647187           0        10      0       росіянка х\n",
      "3     647187           0        12      0     росіянка хот\n",
      "4     647187           0        15      0  росіянка хотіла\n",
      "...      ...         ...       ...    ...              ...\n",
      "7009  647187         347       356      0      ##лати нови\n",
      "7010  647187         347       358      0    ##лати новину\n",
      "7011  647187         352       356      0             нови\n",
      "7012  647187         352       358      0           новину\n",
      "7013  647187         356       358      0             ##ну\n",
      "\n",
      "[7014 rows x 5 columns]\n",
      "(7014, 5)\n"
     ]
    },
    {
     "name": "stderr",
     "output_type": "stream",
     "text": [
      "INFO:LOG:Creating TensorDataset from features dataframe\n",
      "C:\\Windows\\Temp\\ipykernel_1144\\1158175120.py:14: TqdmDeprecationWarning: This function will be removed in tqdm==5.0.0\n",
      "Please use `tqdm.notebook.tqdm` instead of `tqdm.tqdm_notebook`\n",
      "  for batch in tqdm_notebook(eval_dataloader, desc=\"Evaluating\"):\n"
     ]
    },
    {
     "data": {
      "text/plain": "Evaluating:   0%|          | 0/877 [00:00<?, ?it/s]",
      "application/vnd.jupyter.widget-view+json": {
       "version_major": 2,
       "version_minor": 0,
       "model_id": "ae6041ece58140769e8fdc61d209cd0c"
      },
      "application/json": {
       "n": 0,
       "total": 877,
       "elapsed": 0.004000663757324219,
       "ncols": null,
       "nrows": null,
       "prefix": "Evaluating",
       "ascii": false,
       "unit": "it",
       "unit_scale": false,
       "rate": null,
       "bar_format": null,
       "postfix": null,
       "unit_divisor": 1000,
       "initial": 0,
       "colour": null
      }
     },
     "metadata": {},
     "output_type": "display_data"
    },
    {
     "name": "stderr",
     "output_type": "stream",
     "text": [
      "INFO:LOG:Generating evaluation dataset...\n",
      "INFO:LOG:Creating features from dataframe\n"
     ]
    },
    {
     "name": "stdout",
     "output_type": "stream",
     "text": [
      "          id  seq_starts  seq_ends  label             text\n",
      "0     647187           0         5      0            росія\n",
      "1     647187           0         8      1         росіянка\n",
      "2     647187           0        10      1       росіянка х\n",
      "3     647187           0        12      1     росіянка хот\n",
      "4     647187           0        15      1  росіянка хотіла\n",
      "...      ...         ...       ...    ...              ...\n",
      "7009  647187         347       356      1      ##лати нови\n",
      "7010  647187         347       358      1    ##лати новину\n",
      "7011  647187         352       356      0             нови\n",
      "7012  647187         352       358      0           новину\n",
      "7013  647187         356       358      1             ##ну\n",
      "\n",
      "[7014 rows x 5 columns]\n",
      "          id  seq_starts  seq_ends  label           text\n",
      "0     647199           0         1      0              2\n",
      "1     647199           0         4      0           2 не\n",
      "2     647199           0         6      0         2 неле\n",
      "3     647199           0         9      0      2 нелегал\n",
      "4     647199           0        13      0  2 нелегальних\n",
      "...      ...         ...       ...    ...            ...\n",
      "3905  647199         235       244      0    ##лати нови\n",
      "3906  647199         235       246      0  ##лати новину\n",
      "3907  647199         240       244      0           нови\n",
      "3908  647199         240       246      0         новину\n",
      "3909  647199         244       246      0           ##ну\n",
      "\n",
      "[3910 rows x 5 columns]\n",
      "(3910, 5)\n"
     ]
    },
    {
     "name": "stderr",
     "output_type": "stream",
     "text": [
      "INFO:LOG:Creating TensorDataset from features dataframe\n",
      "C:\\Windows\\Temp\\ipykernel_1144\\1158175120.py:14: TqdmDeprecationWarning: This function will be removed in tqdm==5.0.0\n",
      "Please use `tqdm.notebook.tqdm` instead of `tqdm.tqdm_notebook`\n",
      "  for batch in tqdm_notebook(eval_dataloader, desc=\"Evaluating\"):\n"
     ]
    },
    {
     "data": {
      "text/plain": "Evaluating:   0%|          | 0/489 [00:00<?, ?it/s]",
      "application/vnd.jupyter.widget-view+json": {
       "version_major": 2,
       "version_minor": 0,
       "model_id": "82b93395de454d0dabbb33cd17c5db3d"
      },
      "application/json": {
       "n": 0,
       "total": 489,
       "elapsed": 0.0029671192169189453,
       "ncols": null,
       "nrows": null,
       "prefix": "Evaluating",
       "ascii": false,
       "unit": "it",
       "unit_scale": false,
       "rate": null,
       "bar_format": null,
       "postfix": null,
       "unit_divisor": 1000,
       "initial": 0,
       "colour": null
      }
     },
     "metadata": {},
     "output_type": "display_data"
    },
    {
     "name": "stderr",
     "output_type": "stream",
     "text": [
      "INFO:LOG:Generating evaluation dataset...\n",
      "INFO:LOG:Creating features from dataframe\n"
     ]
    },
    {
     "name": "stdout",
     "output_type": "stream",
     "text": [
      "          id  seq_starts  seq_ends  label           text\n",
      "0     647199           0         1      0              2\n",
      "1     647199           0         4      1           2 не\n",
      "2     647199           0         6      1         2 неле\n",
      "3     647199           0         9      1      2 нелегал\n",
      "4     647199           0        13      1  2 нелегальних\n",
      "...      ...         ...       ...    ...            ...\n",
      "3905  647199         235       244      1    ##лати нови\n",
      "3906  647199         235       246      1  ##лати новину\n",
      "3907  647199         240       244      0           нови\n",
      "3908  647199         240       246      0         новину\n",
      "3909  647199         244       246      1           ##ну\n",
      "\n",
      "[3910 rows x 5 columns]\n",
      "          id  seq_starts  seq_ends  label              text\n",
      "0     647279           0         3      0               сад\n",
      "1     647279           0         3      0           садовии\n",
      "2     647279           0        11      0       садовии під\n",
      "3     647279           0        14      0    садовии підтри\n",
      "4     647279           0        16      0  садовии підтрима\n",
      "...      ...         ...       ...    ...               ...\n",
      "3070  647279         209       218      0       ##лати нови\n",
      "3071  647279         209       220      0     ##лати новину\n",
      "3072  647279         214       218      0              нови\n",
      "3073  647279         214       220      0            новину\n",
      "3074  647279         218       220      0              ##ну\n",
      "\n",
      "[3075 rows x 5 columns]\n",
      "(3075, 5)\n"
     ]
    },
    {
     "name": "stderr",
     "output_type": "stream",
     "text": [
      "INFO:LOG:Creating TensorDataset from features dataframe\n",
      "C:\\Windows\\Temp\\ipykernel_1144\\1158175120.py:14: TqdmDeprecationWarning: This function will be removed in tqdm==5.0.0\n",
      "Please use `tqdm.notebook.tqdm` instead of `tqdm.tqdm_notebook`\n",
      "  for batch in tqdm_notebook(eval_dataloader, desc=\"Evaluating\"):\n"
     ]
    },
    {
     "data": {
      "text/plain": "Evaluating:   0%|          | 0/385 [00:00<?, ?it/s]",
      "application/vnd.jupyter.widget-view+json": {
       "version_major": 2,
       "version_minor": 0,
       "model_id": "8bf9a471e26244958318ae3446bf7d67"
      },
      "application/json": {
       "n": 0,
       "total": 385,
       "elapsed": 0.004970073699951172,
       "ncols": null,
       "nrows": null,
       "prefix": "Evaluating",
       "ascii": false,
       "unit": "it",
       "unit_scale": false,
       "rate": null,
       "bar_format": null,
       "postfix": null,
       "unit_divisor": 1000,
       "initial": 0,
       "colour": null
      }
     },
     "metadata": {},
     "output_type": "display_data"
    },
    {
     "name": "stderr",
     "output_type": "stream",
     "text": [
      "INFO:LOG:Generating evaluation dataset...\n",
      "INFO:LOG:Creating features from dataframe\n"
     ]
    },
    {
     "name": "stdout",
     "output_type": "stream",
     "text": [
      "          id  seq_starts  seq_ends  label              text\n",
      "0     647279           0         3      0               сад\n",
      "1     647279           0         3      1           садовии\n",
      "2     647279           0        11      1       садовии під\n",
      "3     647279           0        14      1    садовии підтри\n",
      "4     647279           0        16      1  садовии підтрима\n",
      "...      ...         ...       ...    ...               ...\n",
      "3070  647279         209       218      1       ##лати нови\n",
      "3071  647279         209       220      1     ##лати новину\n",
      "3072  647279         214       218      0              нови\n",
      "3073  647279         214       220      0            новину\n",
      "3074  647279         218       220      1              ##ну\n",
      "\n",
      "[3075 rows x 5 columns]\n",
      "          id  seq_starts  seq_ends  label              text\n",
      "0     647335           0         5      0             львів\n",
      "1     647335           0         8      0          львівяни\n",
      "2     647335           0         9      0        львівяни ,\n",
      "3     647335           0        12      0     львівяни , за\n",
      "4     647335           0        15      0  львівяни , запас\n",
      "...      ...         ...       ...    ...               ...\n",
      "2764  647335         233       242      0       ##лати нови\n",
      "2765  647335         233       244      0     ##лати новину\n",
      "2766  647335         238       242      0              нови\n",
      "2767  647335         238       244      0            новину\n",
      "2768  647335         242       244      0              ##ну\n",
      "\n",
      "[2769 rows x 5 columns]\n",
      "(2769, 5)\n"
     ]
    },
    {
     "name": "stderr",
     "output_type": "stream",
     "text": [
      "INFO:LOG:Creating TensorDataset from features dataframe\n",
      "C:\\Windows\\Temp\\ipykernel_1144\\1158175120.py:14: TqdmDeprecationWarning: This function will be removed in tqdm==5.0.0\n",
      "Please use `tqdm.notebook.tqdm` instead of `tqdm.tqdm_notebook`\n",
      "  for batch in tqdm_notebook(eval_dataloader, desc=\"Evaluating\"):\n"
     ]
    },
    {
     "data": {
      "text/plain": "Evaluating:   0%|          | 0/347 [00:00<?, ?it/s]",
      "application/vnd.jupyter.widget-view+json": {
       "version_major": 2,
       "version_minor": 0,
       "model_id": "55f070702fec400a8fd5eab2a42f4742"
      },
      "application/json": {
       "n": 0,
       "total": 347,
       "elapsed": 0.002999544143676758,
       "ncols": null,
       "nrows": null,
       "prefix": "Evaluating",
       "ascii": false,
       "unit": "it",
       "unit_scale": false,
       "rate": null,
       "bar_format": null,
       "postfix": null,
       "unit_divisor": 1000,
       "initial": 0,
       "colour": null
      }
     },
     "metadata": {},
     "output_type": "display_data"
    },
    {
     "name": "stderr",
     "output_type": "stream",
     "text": [
      "INFO:LOG:Generating evaluation dataset...\n",
      "INFO:LOG:Creating features from dataframe\n"
     ]
    },
    {
     "name": "stdout",
     "output_type": "stream",
     "text": [
      "          id  seq_starts  seq_ends  label              text\n",
      "0     647335           0         5      0             львів\n",
      "1     647335           0         8      1          львівяни\n",
      "2     647335           0         9      1        львівяни ,\n",
      "3     647335           0        12      1     львівяни , за\n",
      "4     647335           0        15      1  львівяни , запас\n",
      "...      ...         ...       ...    ...               ...\n",
      "2764  647335         233       242      1       ##лати нови\n",
      "2765  647335         233       244      1     ##лати новину\n",
      "2766  647335         238       242      0              нови\n",
      "2767  647335         238       244      0            новину\n",
      "2768  647335         242       244      1              ##ну\n",
      "\n",
      "[2769 rows x 5 columns]\n",
      "          id  seq_starts  seq_ends  label             text\n",
      "0     647376           0         2      0               14\n",
      "1     647376           0         8      0         14 тисяч\n",
      "2     647376           0        10      0       14 тисяч а\n",
      "3     647376           0        13      0    14 тисяч авар\n",
      "4     647376           0         1      0  14 тисяч аваріи\n",
      "...      ...         ...       ...    ...              ...\n",
      "2994  647376         243       252      0      ##лати нови\n",
      "2995  647376         243       254      0    ##лати новину\n",
      "2996  647376         248       252      0             нови\n",
      "2997  647376         248       254      0           новину\n",
      "2998  647376         252       254      0             ##ну\n",
      "\n",
      "[2999 rows x 5 columns]\n",
      "(2999, 5)\n"
     ]
    },
    {
     "name": "stderr",
     "output_type": "stream",
     "text": [
      "INFO:LOG:Creating TensorDataset from features dataframe\n",
      "C:\\Windows\\Temp\\ipykernel_1144\\1158175120.py:14: TqdmDeprecationWarning: This function will be removed in tqdm==5.0.0\n",
      "Please use `tqdm.notebook.tqdm` instead of `tqdm.tqdm_notebook`\n",
      "  for batch in tqdm_notebook(eval_dataloader, desc=\"Evaluating\"):\n"
     ]
    },
    {
     "data": {
      "text/plain": "Evaluating:   0%|          | 0/375 [00:00<?, ?it/s]",
      "application/vnd.jupyter.widget-view+json": {
       "version_major": 2,
       "version_minor": 0,
       "model_id": "2ffb090ef03c49c8bb0695917a7d08db"
      },
      "application/json": {
       "n": 0,
       "total": 375,
       "elapsed": 0.004000663757324219,
       "ncols": null,
       "nrows": null,
       "prefix": "Evaluating",
       "ascii": false,
       "unit": "it",
       "unit_scale": false,
       "rate": null,
       "bar_format": null,
       "postfix": null,
       "unit_divisor": 1000,
       "initial": 0,
       "colour": null
      }
     },
     "metadata": {},
     "output_type": "display_data"
    },
    {
     "name": "stderr",
     "output_type": "stream",
     "text": [
      "INFO:LOG:Generating evaluation dataset...\n",
      "INFO:LOG:Creating features from dataframe\n"
     ]
    },
    {
     "name": "stdout",
     "output_type": "stream",
     "text": [
      "          id  seq_starts  seq_ends  label             text\n",
      "0     647376           0         2      0               14\n",
      "1     647376           0         8      1         14 тисяч\n",
      "2     647376           0        10      1       14 тисяч а\n",
      "3     647376           0        13      1    14 тисяч авар\n",
      "4     647376           0         1      1  14 тисяч аваріи\n",
      "...      ...         ...       ...    ...              ...\n",
      "2994  647376         243       252      1      ##лати нови\n",
      "2995  647376         243       254      1    ##лати новину\n",
      "2996  647376         248       252      0             нови\n",
      "2997  647376         248       254      0           новину\n",
      "2998  647376         252       254      1             ##ну\n",
      "\n",
      "[2999 rows x 5 columns]\n",
      "          id  seq_starts  seq_ends  label                  text\n",
      "0     714627           0         4      0                  полі\n",
      "1     714627           0         7      0               поліція\n",
      "2     714627           0        14      0        поліція польщі\n",
      "3     714627           0        16      0      поліція польщі в\n",
      "4     714627           0        20      0  поліція польщі вбила\n",
      "...      ...         ...       ...    ...                   ...\n",
      "6426  714627         352       361      0           ##лати нови\n",
      "6427  714627         352       363      0         ##лати новини\n",
      "6428  714627         357       361      0                  нови\n",
      "6429  714627         357       363      0                новини\n",
      "6430  714627         361       363      0                  ##ни\n",
      "\n",
      "[6431 rows x 5 columns]\n",
      "(6431, 5)\n"
     ]
    },
    {
     "name": "stderr",
     "output_type": "stream",
     "text": [
      "INFO:LOG:Creating TensorDataset from features dataframe\n",
      "C:\\Windows\\Temp\\ipykernel_1144\\1158175120.py:14: TqdmDeprecationWarning: This function will be removed in tqdm==5.0.0\n",
      "Please use `tqdm.notebook.tqdm` instead of `tqdm.tqdm_notebook`\n",
      "  for batch in tqdm_notebook(eval_dataloader, desc=\"Evaluating\"):\n"
     ]
    },
    {
     "data": {
      "text/plain": "Evaluating:   0%|          | 0/804 [00:00<?, ?it/s]",
      "application/vnd.jupyter.widget-view+json": {
       "version_major": 2,
       "version_minor": 0,
       "model_id": "30e97e61d5ea46ef87ca2a6c2881c64a"
      },
      "application/json": {
       "n": 0,
       "total": 804,
       "elapsed": 0.0039997100830078125,
       "ncols": null,
       "nrows": null,
       "prefix": "Evaluating",
       "ascii": false,
       "unit": "it",
       "unit_scale": false,
       "rate": null,
       "bar_format": null,
       "postfix": null,
       "unit_divisor": 1000,
       "initial": 0,
       "colour": null
      }
     },
     "metadata": {},
     "output_type": "display_data"
    },
    {
     "name": "stderr",
     "output_type": "stream",
     "text": [
      "INFO:LOG:Generating evaluation dataset...\n",
      "INFO:LOG:Creating features from dataframe\n"
     ]
    },
    {
     "name": "stdout",
     "output_type": "stream",
     "text": [
      "          id  seq_starts  seq_ends  label                  text\n",
      "0     714627           0         4      0                  полі\n",
      "1     714627           0         7      1               поліція\n",
      "2     714627           0        14      1        поліція польщі\n",
      "3     714627           0        16      1      поліція польщі в\n",
      "4     714627           0        20      1  поліція польщі вбила\n",
      "...      ...         ...       ...    ...                   ...\n",
      "6426  714627         352       361      1           ##лати нови\n",
      "6427  714627         352       363      1         ##лати новини\n",
      "6428  714627         357       361      0                  нови\n",
      "6429  714627         357       363      1                новини\n",
      "6430  714627         361       363      1                  ##ни\n",
      "\n",
      "[6431 rows x 5 columns]\n",
      "          id  seq_starts  seq_ends  label         text\n",
      "0     714669           0         1      0            х\n",
      "1     714669           0         4      0         хвор\n",
      "2     714669           0         6      0       хворих\n",
      "3     714669           0         9      0    хворих на\n",
      "4     714669           0        11      0  хворих на с\n",
      "...      ...         ...       ...    ...          ...\n",
      "7491  714669         373       374      0            с\n",
      "7492  714669         373       377      0         сказ\n",
      "7493  714669         373       378      0       сказ .\n",
      "7494  714669         374       377      0        ##каз\n",
      "7495  714669         374       378      0      ##каз .\n",
      "\n",
      "[7496 rows x 5 columns]\n",
      "(7496, 5)\n"
     ]
    },
    {
     "name": "stderr",
     "output_type": "stream",
     "text": [
      "INFO:LOG:Creating TensorDataset from features dataframe\n",
      "C:\\Windows\\Temp\\ipykernel_1144\\1158175120.py:14: TqdmDeprecationWarning: This function will be removed in tqdm==5.0.0\n",
      "Please use `tqdm.notebook.tqdm` instead of `tqdm.tqdm_notebook`\n",
      "  for batch in tqdm_notebook(eval_dataloader, desc=\"Evaluating\"):\n"
     ]
    },
    {
     "data": {
      "text/plain": "Evaluating:   0%|          | 0/937 [00:00<?, ?it/s]",
      "application/vnd.jupyter.widget-view+json": {
       "version_major": 2,
       "version_minor": 0,
       "model_id": "7ff548f11c484986ba6ab473b5ed49e5"
      },
      "application/json": {
       "n": 0,
       "total": 937,
       "elapsed": 0.004021644592285156,
       "ncols": null,
       "nrows": null,
       "prefix": "Evaluating",
       "ascii": false,
       "unit": "it",
       "unit_scale": false,
       "rate": null,
       "bar_format": null,
       "postfix": null,
       "unit_divisor": 1000,
       "initial": 0,
       "colour": null
      }
     },
     "metadata": {},
     "output_type": "display_data"
    },
    {
     "name": "stderr",
     "output_type": "stream",
     "text": [
      "INFO:LOG:Generating evaluation dataset...\n",
      "INFO:LOG:Creating features from dataframe\n"
     ]
    },
    {
     "name": "stdout",
     "output_type": "stream",
     "text": [
      "          id  seq_starts  seq_ends  label         text\n",
      "0     714669           0         1      0            х\n",
      "1     714669           0         4      1         хвор\n",
      "2     714669           0         6      1       хворих\n",
      "3     714669           0         9      1    хворих на\n",
      "4     714669           0        11      1  хворих на с\n",
      "...      ...         ...       ...    ...          ...\n",
      "7491  714669         373       374      0            с\n",
      "7492  714669         373       377      1         сказ\n",
      "7493  714669         373       378      0       сказ .\n",
      "7494  714669         374       377      1        ##каз\n",
      "7495  714669         374       378      0      ##каз .\n",
      "\n",
      "[7496 rows x 5 columns]\n",
      "          id  seq_starts  seq_ends  label                     text\n",
      "0     714721           0         6      0                   рекорд\n",
      "1     714721           0         8      0                 рекордну\n",
      "2     714721           0        18      0       рекордну кількість\n",
      "3     714721           0        22      0   рекордну кількість без\n",
      "4     714721           0        23      0  рекордну кількість безп\n",
      "...      ...         ...       ...    ...                      ...\n",
      "2692  714721         235       244      0              ##лати нови\n",
      "2693  714721         235       246      0            ##лати новини\n",
      "2694  714721         240       244      0                     нови\n",
      "2695  714721         240       246      0                   новини\n",
      "2696  714721         244       246      0                     ##ни\n",
      "\n",
      "[2697 rows x 5 columns]\n",
      "(2697, 5)\n"
     ]
    },
    {
     "name": "stderr",
     "output_type": "stream",
     "text": [
      "INFO:LOG:Creating TensorDataset from features dataframe\n",
      "C:\\Windows\\Temp\\ipykernel_1144\\1158175120.py:14: TqdmDeprecationWarning: This function will be removed in tqdm==5.0.0\n",
      "Please use `tqdm.notebook.tqdm` instead of `tqdm.tqdm_notebook`\n",
      "  for batch in tqdm_notebook(eval_dataloader, desc=\"Evaluating\"):\n"
     ]
    },
    {
     "data": {
      "text/plain": "Evaluating:   0%|          | 0/338 [00:00<?, ?it/s]",
      "application/vnd.jupyter.widget-view+json": {
       "version_major": 2,
       "version_minor": 0,
       "model_id": "0ed6591533bf490885739824f1e04898"
      },
      "application/json": {
       "n": 0,
       "total": 338,
       "elapsed": 0.003977775573730469,
       "ncols": null,
       "nrows": null,
       "prefix": "Evaluating",
       "ascii": false,
       "unit": "it",
       "unit_scale": false,
       "rate": null,
       "bar_format": null,
       "postfix": null,
       "unit_divisor": 1000,
       "initial": 0,
       "colour": null
      }
     },
     "metadata": {},
     "output_type": "display_data"
    },
    {
     "name": "stderr",
     "output_type": "stream",
     "text": [
      "INFO:LOG:Generating evaluation dataset...\n",
      "INFO:LOG:Creating features from dataframe\n"
     ]
    },
    {
     "name": "stdout",
     "output_type": "stream",
     "text": [
      "          id  seq_starts  seq_ends  label                     text\n",
      "0     714721           0         6      0                   рекорд\n",
      "1     714721           0         8      1                 рекордну\n",
      "2     714721           0        18      1       рекордну кількість\n",
      "3     714721           0        22      1   рекордну кількість без\n",
      "4     714721           0        23      1  рекордну кількість безп\n",
      "...      ...         ...       ...    ...                      ...\n",
      "2692  714721         235       244      1              ##лати нови\n",
      "2693  714721         235       246      1            ##лати новини\n",
      "2694  714721         240       244      0                     нови\n",
      "2695  714721         240       246      1                   новини\n",
      "2696  714721         244       246      1                     ##ни\n",
      "\n",
      "[2697 rows x 5 columns]\n",
      "          id  seq_starts  seq_ends  label           text\n",
      "0     714729           0         2      0             та\n",
      "1     714729           0         7      0        та сама\n",
      "2     714729           0         9      0      та сама з\n",
      "3     714729           0        11      0    та сама зуп\n",
      "4     714729           0        13      0  та сама зупин\n",
      "...      ...         ...       ...    ...            ...\n",
      "3647  714729         240       249      0    ##лати нови\n",
      "3648  714729         240       251      0  ##лати новину\n",
      "3649  714729         245       249      0           нови\n",
      "3650  714729         245       251      0         новину\n",
      "3651  714729         249       251      0           ##ну\n",
      "\n",
      "[3652 rows x 5 columns]\n",
      "(3652, 5)\n"
     ]
    },
    {
     "name": "stderr",
     "output_type": "stream",
     "text": [
      "INFO:LOG:Creating TensorDataset from features dataframe\n",
      "C:\\Windows\\Temp\\ipykernel_1144\\1158175120.py:14: TqdmDeprecationWarning: This function will be removed in tqdm==5.0.0\n",
      "Please use `tqdm.notebook.tqdm` instead of `tqdm.tqdm_notebook`\n",
      "  for batch in tqdm_notebook(eval_dataloader, desc=\"Evaluating\"):\n"
     ]
    },
    {
     "data": {
      "text/plain": "Evaluating:   0%|          | 0/457 [00:00<?, ?it/s]",
      "application/vnd.jupyter.widget-view+json": {
       "version_major": 2,
       "version_minor": 0,
       "model_id": "17a8bb13019742d4997a615f927fef2e"
      },
      "application/json": {
       "n": 0,
       "total": 457,
       "elapsed": 0.0029659271240234375,
       "ncols": null,
       "nrows": null,
       "prefix": "Evaluating",
       "ascii": false,
       "unit": "it",
       "unit_scale": false,
       "rate": null,
       "bar_format": null,
       "postfix": null,
       "unit_divisor": 1000,
       "initial": 0,
       "colour": null
      }
     },
     "metadata": {},
     "output_type": "display_data"
    },
    {
     "name": "stderr",
     "output_type": "stream",
     "text": [
      "INFO:LOG:Generating evaluation dataset...\n",
      "INFO:LOG:Creating features from dataframe\n"
     ]
    },
    {
     "name": "stdout",
     "output_type": "stream",
     "text": [
      "          id  seq_starts  seq_ends  label           text\n",
      "0     714729           0         2      0             та\n",
      "1     714729           0         7      1        та сама\n",
      "2     714729           0         9      1      та сама з\n",
      "3     714729           0        11      1    та сама зуп\n",
      "4     714729           0        13      1  та сама зупин\n",
      "...      ...         ...       ...    ...            ...\n",
      "3647  714729         240       249      1    ##лати нови\n",
      "3648  714729         240       251      1  ##лати новину\n",
      "3649  714729         245       249      0           нови\n",
      "3650  714729         245       251      0         новину\n",
      "3651  714729         249       251      1           ##ну\n",
      "\n",
      "[3652 rows x 5 columns]\n",
      "           id  seq_starts  seq_ends  label           text\n",
      "0      714759           0         1      0              п\n",
      "1      714759           0         2      0             пз\n",
      "2      714759           0         3      0            пзд\n",
      "3      714759           0         4      0           пздц\n",
      "4      714759           0         5      0         пздц !\n",
      "...       ...         ...       ...    ...            ...\n",
      "11457  714759         414       423      0    ##лати нови\n",
      "11458  714759         414       425      0  ##лати новини\n",
      "11459  714759         419       423      0           нови\n",
      "11460  714759         419       425      0         новини\n",
      "11461  714759         423       425      0           ##ни\n",
      "\n",
      "[11462 rows x 5 columns]\n",
      "(11462, 5)\n"
     ]
    },
    {
     "name": "stderr",
     "output_type": "stream",
     "text": [
      "INFO:LOG:Creating TensorDataset from features dataframe\n",
      "C:\\Windows\\Temp\\ipykernel_1144\\1158175120.py:14: TqdmDeprecationWarning: This function will be removed in tqdm==5.0.0\n",
      "Please use `tqdm.notebook.tqdm` instead of `tqdm.tqdm_notebook`\n",
      "  for batch in tqdm_notebook(eval_dataloader, desc=\"Evaluating\"):\n"
     ]
    },
    {
     "data": {
      "text/plain": "Evaluating:   0%|          | 0/1433 [00:00<?, ?it/s]",
      "application/vnd.jupyter.widget-view+json": {
       "version_major": 2,
       "version_minor": 0,
       "model_id": "9d440cc0112d4026a1d056bb1b526ea0"
      },
      "application/json": {
       "n": 0,
       "total": 1433,
       "elapsed": 0.0029985904693603516,
       "ncols": null,
       "nrows": null,
       "prefix": "Evaluating",
       "ascii": false,
       "unit": "it",
       "unit_scale": false,
       "rate": null,
       "bar_format": null,
       "postfix": null,
       "unit_divisor": 1000,
       "initial": 0,
       "colour": null
      }
     },
     "metadata": {},
     "output_type": "display_data"
    },
    {
     "name": "stderr",
     "output_type": "stream",
     "text": [
      "INFO:LOG:Generating evaluation dataset...\n"
     ]
    },
    {
     "name": "stdout",
     "output_type": "stream",
     "text": [
      "           id  seq_starts  seq_ends  label           text\n",
      "0      714759           0         1      0              п\n",
      "1      714759           0         2      1             пз\n",
      "2      714759           0         3      1            пзд\n",
      "3      714759           0         4      1           пздц\n",
      "4      714759           0         5      1         пздц !\n",
      "...       ...         ...       ...    ...            ...\n",
      "11457  714759         414       423      1    ##лати нови\n",
      "11458  714759         414       425      1  ##лати новини\n",
      "11459  714759         419       423      0           нови\n",
      "11460  714759         419       425      1         новини\n",
      "11461  714759         423       425      1           ##ни\n",
      "\n",
      "[11462 rows x 5 columns]\n"
     ]
    },
    {
     "name": "stderr",
     "output_type": "stream",
     "text": [
      "INFO:LOG:Creating features from dataframe\n"
     ]
    },
    {
     "name": "stdout",
     "output_type": "stream",
     "text": [
      "           id  seq_starts  seq_ends  label                               text\n",
      "0      714918           0         8      0                           директор\n",
      "1      714918           0        12      0                       директор він\n",
      "2      714918           0        20      0               директор вінницького\n",
      "3      714918           0        26      0         директор вінницького ринку\n",
      "4      714918           0        33      0  директор вінницького ринку центра\n",
      "...       ...         ...       ...    ...                                ...\n",
      "71596  714918        1164      1167      0                              ##дал\n",
      "71597  714918        1164      1169      0                            ##далів\n",
      "71598  714918        1164      1170      0                          ##далів .\n",
      "71599  714918        1167      1169      0                               ##ів\n",
      "71600  714918        1167      1170      0                             ##ів .\n",
      "\n",
      "[71601 rows x 5 columns]\n",
      "(71601, 5)\n"
     ]
    },
    {
     "name": "stderr",
     "output_type": "stream",
     "text": [
      "INFO:LOG:Creating TensorDataset from features dataframe\n",
      "C:\\Windows\\Temp\\ipykernel_1144\\1158175120.py:14: TqdmDeprecationWarning: This function will be removed in tqdm==5.0.0\n",
      "Please use `tqdm.notebook.tqdm` instead of `tqdm.tqdm_notebook`\n",
      "  for batch in tqdm_notebook(eval_dataloader, desc=\"Evaluating\"):\n"
     ]
    },
    {
     "data": {
      "text/plain": "Evaluating:   0%|          | 0/8951 [00:00<?, ?it/s]",
      "application/vnd.jupyter.widget-view+json": {
       "version_major": 2,
       "version_minor": 0,
       "model_id": "ec8b7290eb434d2d8530fa1ed2d6df05"
      },
      "application/json": {
       "n": 0,
       "total": 8951,
       "elapsed": 0.003998279571533203,
       "ncols": null,
       "nrows": null,
       "prefix": "Evaluating",
       "ascii": false,
       "unit": "it",
       "unit_scale": false,
       "rate": null,
       "bar_format": null,
       "postfix": null,
       "unit_divisor": 1000,
       "initial": 0,
       "colour": null
      }
     },
     "metadata": {},
     "output_type": "display_data"
    },
    {
     "name": "stderr",
     "output_type": "stream",
     "text": [
      "INFO:LOG:Generating evaluation dataset...\n",
      "INFO:LOG:Creating features from dataframe\n"
     ]
    },
    {
     "name": "stdout",
     "output_type": "stream",
     "text": [
      "           id  seq_starts  seq_ends  label                               text\n",
      "0      714918           0         8      0                           директор\n",
      "1      714918           0        12      1                       директор він\n",
      "2      714918           0        20      1               директор вінницького\n",
      "3      714918           0        26      1         директор вінницького ринку\n",
      "4      714918           0        33      1  директор вінницького ринку центра\n",
      "...       ...         ...       ...    ...                                ...\n",
      "71596  714918        1164      1167      1                              ##дал\n",
      "71597  714918        1164      1169      1                            ##далів\n",
      "71598  714918        1164      1170      0                          ##далів .\n",
      "71599  714918        1167      1169      1                               ##ів\n",
      "71600  714918        1167      1170      0                             ##ів .\n",
      "\n",
      "[71601 rows x 5 columns]\n",
      "          id  seq_starts  seq_ends  label           text\n",
      "0     714943           0         1      0              з\n",
      "1     714943           0         4      0           згор\n",
      "2     714943           0         6      0         згорів\n",
      "3     714943           0         9      0      згорів за\n",
      "4     714943           0        12      0   згорів зажив\n",
      "...      ...         ...       ...    ...            ...\n",
      "3392  714943         235       244      0    ##лати нови\n",
      "3393  714943         235       246      0  ##лати новини\n",
      "3394  714943         240       244      0           нови\n",
      "3395  714943         240       246      0         новини\n",
      "3396  714943         244       246      0           ##ни\n",
      "\n",
      "[3397 rows x 5 columns]\n",
      "(3397, 5)\n"
     ]
    },
    {
     "name": "stderr",
     "output_type": "stream",
     "text": [
      "INFO:LOG:Creating TensorDataset from features dataframe\n",
      "C:\\Windows\\Temp\\ipykernel_1144\\1158175120.py:14: TqdmDeprecationWarning: This function will be removed in tqdm==5.0.0\n",
      "Please use `tqdm.notebook.tqdm` instead of `tqdm.tqdm_notebook`\n",
      "  for batch in tqdm_notebook(eval_dataloader, desc=\"Evaluating\"):\n"
     ]
    },
    {
     "data": {
      "text/plain": "Evaluating:   0%|          | 0/425 [00:00<?, ?it/s]",
      "application/vnd.jupyter.widget-view+json": {
       "version_major": 2,
       "version_minor": 0,
       "model_id": "f2fe5c31925b4901aa4adba56dd0d5aa"
      },
      "application/json": {
       "n": 0,
       "total": 425,
       "elapsed": 0.003999233245849609,
       "ncols": null,
       "nrows": null,
       "prefix": "Evaluating",
       "ascii": false,
       "unit": "it",
       "unit_scale": false,
       "rate": null,
       "bar_format": null,
       "postfix": null,
       "unit_divisor": 1000,
       "initial": 0,
       "colour": null
      }
     },
     "metadata": {},
     "output_type": "display_data"
    },
    {
     "name": "stderr",
     "output_type": "stream",
     "text": [
      "INFO:LOG:Generating evaluation dataset...\n",
      "INFO:LOG:Creating features from dataframe\n"
     ]
    },
    {
     "name": "stdout",
     "output_type": "stream",
     "text": [
      "          id  seq_starts  seq_ends  label           text\n",
      "0     714943           0         1      0              з\n",
      "1     714943           0         4      1           згор\n",
      "2     714943           0         6      1         згорів\n",
      "3     714943           0         9      1      згорів за\n",
      "4     714943           0        12      1   згорів зажив\n",
      "...      ...         ...       ...    ...            ...\n",
      "3392  714943         235       244      1    ##лати нови\n",
      "3393  714943         235       246      1  ##лати новини\n",
      "3394  714943         240       244      0           нови\n",
      "3395  714943         240       246      1         новини\n",
      "3396  714943         244       246      1           ##ни\n",
      "\n",
      "[3397 rows x 5 columns]\n",
      "          id  seq_starts  seq_ends  label              text\n",
      "0     714982           0         6      0            батько\n",
      "1     714982           0         8      0          батько г\n",
      "2     714982           0        11      0       батько гвал\n",
      "3     714982           0        13      0     батько гвалту\n",
      "4     714982           0        16      0  батько гвалтував\n",
      "...      ...         ...       ...    ...               ...\n",
      "5873  714982         305       314      0       ##лати нови\n",
      "5874  714982         305       316      0     ##лати новини\n",
      "5875  714982         310       314      0              нови\n",
      "5876  714982         310       316      0            новини\n",
      "5877  714982         314       316      0              ##ни\n",
      "\n",
      "[5878 rows x 5 columns]\n",
      "(5878, 5)\n"
     ]
    },
    {
     "name": "stderr",
     "output_type": "stream",
     "text": [
      "INFO:LOG:Creating TensorDataset from features dataframe\n",
      "C:\\Windows\\Temp\\ipykernel_1144\\1158175120.py:14: TqdmDeprecationWarning: This function will be removed in tqdm==5.0.0\n",
      "Please use `tqdm.notebook.tqdm` instead of `tqdm.tqdm_notebook`\n",
      "  for batch in tqdm_notebook(eval_dataloader, desc=\"Evaluating\"):\n"
     ]
    },
    {
     "data": {
      "text/plain": "Evaluating:   0%|          | 0/735 [00:00<?, ?it/s]",
      "application/vnd.jupyter.widget-view+json": {
       "version_major": 2,
       "version_minor": 0,
       "model_id": "a1c6fd063e3445b6afda90b7e2393dbc"
      },
      "application/json": {
       "n": 0,
       "total": 735,
       "elapsed": 0.004004716873168945,
       "ncols": null,
       "nrows": null,
       "prefix": "Evaluating",
       "ascii": false,
       "unit": "it",
       "unit_scale": false,
       "rate": null,
       "bar_format": null,
       "postfix": null,
       "unit_divisor": 1000,
       "initial": 0,
       "colour": null
      }
     },
     "metadata": {},
     "output_type": "display_data"
    },
    {
     "name": "stderr",
     "output_type": "stream",
     "text": [
      "INFO:LOG:Generating evaluation dataset...\n",
      "INFO:LOG:Creating features from dataframe\n"
     ]
    },
    {
     "name": "stdout",
     "output_type": "stream",
     "text": [
      "          id  seq_starts  seq_ends  label              text\n",
      "0     714982           0         6      0            батько\n",
      "1     714982           0         8      1          батько г\n",
      "2     714982           0        11      1       батько гвал\n",
      "3     714982           0        13      1     батько гвалту\n",
      "4     714982           0        16      1  батько гвалтував\n",
      "...      ...         ...       ...    ...               ...\n",
      "5873  714982         305       314      1       ##лати нови\n",
      "5874  714982         305       316      1     ##лати новини\n",
      "5875  714982         310       314      0              нови\n",
      "5876  714982         310       316      1            новини\n",
      "5877  714982         314       316      1              ##ни\n",
      "\n",
      "[5878 rows x 5 columns]\n",
      "          id  seq_starts  seq_ends  label            text\n",
      "0     715048         102       104      0              із\n",
      "1     715048         102         2      0           іздив\n",
      "2     715048         102         9      0       іздив під\n",
      "3     715048         102        12      0    іздив під ді\n",
      "4     715048         102        14      0  іздив під дією\n",
      "...      ...         ...       ...    ...             ...\n",
      "3071  715048         210       219      0     ##лати нови\n",
      "3072  715048         210       221      0   ##лати новини\n",
      "3073  715048         215       219      0            нови\n",
      "3074  715048         215       221      0          новини\n",
      "3075  715048         219       221      0            ##ни\n",
      "\n",
      "[3076 rows x 5 columns]\n",
      "(3076, 5)\n"
     ]
    },
    {
     "name": "stderr",
     "output_type": "stream",
     "text": [
      "INFO:LOG:Creating TensorDataset from features dataframe\n",
      "C:\\Windows\\Temp\\ipykernel_1144\\1158175120.py:14: TqdmDeprecationWarning: This function will be removed in tqdm==5.0.0\n",
      "Please use `tqdm.notebook.tqdm` instead of `tqdm.tqdm_notebook`\n",
      "  for batch in tqdm_notebook(eval_dataloader, desc=\"Evaluating\"):\n"
     ]
    },
    {
     "data": {
      "text/plain": "Evaluating:   0%|          | 0/385 [00:00<?, ?it/s]",
      "application/vnd.jupyter.widget-view+json": {
       "version_major": 2,
       "version_minor": 0,
       "model_id": "ea3cada2a481421b98526f9d47381f12"
      },
      "application/json": {
       "n": 0,
       "total": 385,
       "elapsed": 0.003975868225097656,
       "ncols": null,
       "nrows": null,
       "prefix": "Evaluating",
       "ascii": false,
       "unit": "it",
       "unit_scale": false,
       "rate": null,
       "bar_format": null,
       "postfix": null,
       "unit_divisor": 1000,
       "initial": 0,
       "colour": null
      }
     },
     "metadata": {},
     "output_type": "display_data"
    },
    {
     "name": "stderr",
     "output_type": "stream",
     "text": [
      "INFO:LOG:Generating evaluation dataset...\n",
      "INFO:LOG:Creating features from dataframe\n"
     ]
    },
    {
     "name": "stdout",
     "output_type": "stream",
     "text": [
      "          id  seq_starts  seq_ends  label            text\n",
      "0     715048         102       104      0              із\n",
      "1     715048         102         2      1           іздив\n",
      "2     715048         102         9      1       іздив під\n",
      "3     715048         102        12      1    іздив під ді\n",
      "4     715048         102        14      1  іздив під дією\n",
      "...      ...         ...       ...    ...             ...\n",
      "3071  715048         210       219      1     ##лати нови\n",
      "3072  715048         210       221      1   ##лати новини\n",
      "3073  715048         215       219      0            нови\n",
      "3074  715048         215       221      1          новини\n",
      "3075  715048         219       221      1            ##ни\n",
      "\n",
      "[3076 rows x 5 columns]\n",
      "          id  seq_starts  seq_ends  label                      text\n",
      "0     715117           1         8      0                   переход\n",
      "1     715117           1         9      0                  переходь\n",
      "2     715117           1        12      0               переходь на\n",
      "3     715117           1         4      0         переходь на новии\n",
      "4     715117           1        25      0  переходь на новии рівень\n",
      "...      ...         ...       ...    ...                       ...\n",
      "5551  715117         313       315      0                      ##сь\n",
      "5552  715117         313       321      0                ##сь зараз\n",
      "5553  715117         313       322      0              ##сь зараз !\n",
      "5554  715117         316       321      0                     зараз\n",
      "5555  715117         316       322      0                   зараз !\n",
      "\n",
      "[5556 rows x 5 columns]\n",
      "(5556, 5)\n"
     ]
    },
    {
     "name": "stderr",
     "output_type": "stream",
     "text": [
      "INFO:LOG:Creating TensorDataset from features dataframe\n",
      "C:\\Windows\\Temp\\ipykernel_1144\\1158175120.py:14: TqdmDeprecationWarning: This function will be removed in tqdm==5.0.0\n",
      "Please use `tqdm.notebook.tqdm` instead of `tqdm.tqdm_notebook`\n",
      "  for batch in tqdm_notebook(eval_dataloader, desc=\"Evaluating\"):\n"
     ]
    },
    {
     "data": {
      "text/plain": "Evaluating:   0%|          | 0/695 [00:00<?, ?it/s]",
      "application/vnd.jupyter.widget-view+json": {
       "version_major": 2,
       "version_minor": 0,
       "model_id": "dc5cf60b605e43d89c9348fad7472705"
      },
      "application/json": {
       "n": 0,
       "total": 695,
       "elapsed": 0.0037283897399902344,
       "ncols": null,
       "nrows": null,
       "prefix": "Evaluating",
       "ascii": false,
       "unit": "it",
       "unit_scale": false,
       "rate": null,
       "bar_format": null,
       "postfix": null,
       "unit_divisor": 1000,
       "initial": 0,
       "colour": null
      }
     },
     "metadata": {},
     "output_type": "display_data"
    },
    {
     "name": "stderr",
     "output_type": "stream",
     "text": [
      "INFO:LOG:Generating evaluation dataset...\n",
      "INFO:LOG:Creating features from dataframe\n"
     ]
    },
    {
     "name": "stdout",
     "output_type": "stream",
     "text": [
      "          id  seq_starts  seq_ends  label                      text\n",
      "0     715117           1         8      0                   переход\n",
      "1     715117           1         9      1                  переходь\n",
      "2     715117           1        12      1               переходь на\n",
      "3     715117           1         4      1         переходь на новии\n",
      "4     715117           1        25      1  переходь на новии рівень\n",
      "...      ...         ...       ...    ...                       ...\n",
      "5551  715117         313       315      1                      ##сь\n",
      "5552  715117         313       321      1                ##сь зараз\n",
      "5553  715117         313       322      1              ##сь зараз !\n",
      "5554  715117         316       321      0                     зараз\n",
      "5555  715117         316       322      1                   зараз !\n",
      "\n",
      "[5556 rows x 5 columns]\n",
      "          id  seq_starts  seq_ends  label                             text\n",
      "0     715171           0         9      0                        більшість\n",
      "1     715171           0         8      0              більшість украінців\n",
      "2     715171           0        22      0           більшість украінців не\n",
      "3     715171           0        28      0     більшість украінців не мають\n",
      "4     715171           0        31      0  більшість украінців не мають ім\n",
      "...      ...         ...       ...    ...                              ...\n",
      "8629  715171         395       404      0                      ##лати нови\n",
      "8630  715171         395       406      0                    ##лати новини\n",
      "8631  715171         400       404      0                             нови\n",
      "8632  715171         400       406      0                           новини\n",
      "8633  715171         404       406      0                             ##ни\n",
      "\n",
      "[8634 rows x 5 columns]\n",
      "(8634, 5)\n"
     ]
    },
    {
     "name": "stderr",
     "output_type": "stream",
     "text": [
      "INFO:LOG:Creating TensorDataset from features dataframe\n",
      "C:\\Windows\\Temp\\ipykernel_1144\\1158175120.py:14: TqdmDeprecationWarning: This function will be removed in tqdm==5.0.0\n",
      "Please use `tqdm.notebook.tqdm` instead of `tqdm.tqdm_notebook`\n",
      "  for batch in tqdm_notebook(eval_dataloader, desc=\"Evaluating\"):\n"
     ]
    },
    {
     "data": {
      "text/plain": "Evaluating:   0%|          | 0/1080 [00:00<?, ?it/s]",
      "application/vnd.jupyter.widget-view+json": {
       "version_major": 2,
       "version_minor": 0,
       "model_id": "e1223a50baf44081bab691fe2946f188"
      },
      "application/json": {
       "n": 0,
       "total": 1080,
       "elapsed": 0.0030210018157958984,
       "ncols": null,
       "nrows": null,
       "prefix": "Evaluating",
       "ascii": false,
       "unit": "it",
       "unit_scale": false,
       "rate": null,
       "bar_format": null,
       "postfix": null,
       "unit_divisor": 1000,
       "initial": 0,
       "colour": null
      }
     },
     "metadata": {},
     "output_type": "display_data"
    },
    {
     "name": "stderr",
     "output_type": "stream",
     "text": [
      "INFO:LOG:Generating evaluation dataset...\n",
      "INFO:LOG:Creating features from dataframe\n"
     ]
    },
    {
     "name": "stdout",
     "output_type": "stream",
     "text": [
      "          id  seq_starts  seq_ends  label                             text\n",
      "0     715171           0         9      0                        більшість\n",
      "1     715171           0         8      1              більшість украінців\n",
      "2     715171           0        22      1           більшість украінців не\n",
      "3     715171           0        28      1     більшість украінців не мають\n",
      "4     715171           0        31      1  більшість украінців не мають ім\n",
      "...      ...         ...       ...    ...                              ...\n",
      "8629  715171         395       404      1                      ##лати нови\n",
      "8630  715171         395       406      1                    ##лати новини\n",
      "8631  715171         400       404      0                             нови\n",
      "8632  715171         400       406      1                           новини\n",
      "8633  715171         404       406      1                             ##ни\n",
      "\n",
      "[8634 rows x 5 columns]\n",
      "          id  seq_starts  seq_ends  label           text\n",
      "0     715592           0         2      0             во\n",
      "1     715592           0         4      0           воро\n",
      "2     715592           0         5      0          ворог\n",
      "3     715592           0         9      0      ворог нам\n",
      "4     715592           0        12      0   ворог намага\n",
      "...      ...         ...       ...    ...            ...\n",
      "6311  715592         331       340      0    ##лати нови\n",
      "6312  715592         331       342      0  ##лати новини\n",
      "6313  715592         336       340      0           нови\n",
      "6314  715592         336       342      0         новини\n",
      "6315  715592         340       342      0           ##ни\n",
      "\n",
      "[6316 rows x 5 columns]\n",
      "(6316, 5)\n"
     ]
    },
    {
     "name": "stderr",
     "output_type": "stream",
     "text": [
      "INFO:LOG:Creating TensorDataset from features dataframe\n",
      "C:\\Windows\\Temp\\ipykernel_1144\\1158175120.py:14: TqdmDeprecationWarning: This function will be removed in tqdm==5.0.0\n",
      "Please use `tqdm.notebook.tqdm` instead of `tqdm.tqdm_notebook`\n",
      "  for batch in tqdm_notebook(eval_dataloader, desc=\"Evaluating\"):\n"
     ]
    },
    {
     "data": {
      "text/plain": "Evaluating:   0%|          | 0/790 [00:00<?, ?it/s]",
      "application/vnd.jupyter.widget-view+json": {
       "version_major": 2,
       "version_minor": 0,
       "model_id": "7955c8ddcef34f1f8819eafbb75c7980"
      },
      "application/json": {
       "n": 0,
       "total": 790,
       "elapsed": 0.0029954910278320312,
       "ncols": null,
       "nrows": null,
       "prefix": "Evaluating",
       "ascii": false,
       "unit": "it",
       "unit_scale": false,
       "rate": null,
       "bar_format": null,
       "postfix": null,
       "unit_divisor": 1000,
       "initial": 0,
       "colour": null
      }
     },
     "metadata": {},
     "output_type": "display_data"
    },
    {
     "name": "stderr",
     "output_type": "stream",
     "text": [
      "INFO:LOG:Generating evaluation dataset...\n",
      "INFO:LOG:Creating features from dataframe\n"
     ]
    },
    {
     "name": "stdout",
     "output_type": "stream",
     "text": [
      "          id  seq_starts  seq_ends  label           text\n",
      "0     715592           0         2      0             во\n",
      "1     715592           0         4      1           воро\n",
      "2     715592           0         5      1          ворог\n",
      "3     715592           0         9      1      ворог нам\n",
      "4     715592           0        12      1   ворог намага\n",
      "...      ...         ...       ...    ...            ...\n",
      "6311  715592         331       340      1    ##лати нови\n",
      "6312  715592         331       342      1  ##лати новини\n",
      "6313  715592         336       340      0           нови\n",
      "6314  715592         336       342      1         новини\n",
      "6315  715592         340       342      1           ##ни\n",
      "\n",
      "[6316 rows x 5 columns]\n",
      "          id  seq_starts  seq_ends  label            text\n",
      "0     715770           0         1      0               п\n",
      "1     715770           0         2      0             п *\n",
      "2     715770           0         5      0         п * дар\n",
      "3     715770           0         8      0      п * дариси\n",
      "4     715770           0        12      0  п * дариси укр\n",
      "...      ...         ...       ...    ...             ...\n",
      "3476  715770         210       219      0     ##лати нови\n",
      "3477  715770         210       221      0   ##лати новини\n",
      "3478  715770         215       219      0            нови\n",
      "3479  715770         215       221      0          новини\n",
      "3480  715770         219       221      0            ##ни\n",
      "\n",
      "[3481 rows x 5 columns]\n",
      "(3481, 5)\n"
     ]
    },
    {
     "name": "stderr",
     "output_type": "stream",
     "text": [
      "INFO:LOG:Creating TensorDataset from features dataframe\n",
      "C:\\Windows\\Temp\\ipykernel_1144\\1158175120.py:14: TqdmDeprecationWarning: This function will be removed in tqdm==5.0.0\n",
      "Please use `tqdm.notebook.tqdm` instead of `tqdm.tqdm_notebook`\n",
      "  for batch in tqdm_notebook(eval_dataloader, desc=\"Evaluating\"):\n"
     ]
    },
    {
     "data": {
      "text/plain": "Evaluating:   0%|          | 0/436 [00:00<?, ?it/s]",
      "application/vnd.jupyter.widget-view+json": {
       "version_major": 2,
       "version_minor": 0,
       "model_id": "ccea8d8bba8c4eb599bf291be8221704"
      },
      "application/json": {
       "n": 0,
       "total": 436,
       "elapsed": 0.0040013790130615234,
       "ncols": null,
       "nrows": null,
       "prefix": "Evaluating",
       "ascii": false,
       "unit": "it",
       "unit_scale": false,
       "rate": null,
       "bar_format": null,
       "postfix": null,
       "unit_divisor": 1000,
       "initial": 0,
       "colour": null
      }
     },
     "metadata": {},
     "output_type": "display_data"
    },
    {
     "name": "stderr",
     "output_type": "stream",
     "text": [
      "INFO:LOG:Generating evaluation dataset...\n",
      "INFO:LOG:Creating features from dataframe\n"
     ]
    },
    {
     "name": "stdout",
     "output_type": "stream",
     "text": [
      "          id  seq_starts  seq_ends  label            text\n",
      "0     715770           0         1      0               п\n",
      "1     715770           0         2      1             п *\n",
      "2     715770           0         5      1         п * дар\n",
      "3     715770           0         8      1      п * дариси\n",
      "4     715770           0        12      1  п * дариси укр\n",
      "...      ...         ...       ...    ...             ...\n",
      "3476  715770         210       219      1     ##лати нови\n",
      "3477  715770         210       221      1   ##лати новини\n",
      "3478  715770         215       219      0            нови\n",
      "3479  715770         215       221      1          новини\n",
      "3480  715770         219       221      1            ##ни\n",
      "\n",
      "[3481 rows x 5 columns]\n",
      "          id  seq_starts  seq_ends  label                text\n",
      "0     715806           1         4      0                 без\n",
      "1     715806           1         9      0            без води\n",
      "2     715806           1        12      0         без води на\n",
      "3     715806           1        15      0      без води на 36\n",
      "4     715806           1        19      0  без води на 36 год\n",
      "...      ...         ...       ...    ...                 ...\n",
      "5977  715806         321       328      0           ##чень на\n",
      "5978  715806         321       333      0      ##чень на фото\n",
      "5979  715806         326       328      0                  на\n",
      "5980  715806         326       333      0             на фото\n",
      "5981  715806         329       333      0                фото\n",
      "\n",
      "[5982 rows x 5 columns]\n",
      "(5982, 5)\n"
     ]
    },
    {
     "name": "stderr",
     "output_type": "stream",
     "text": [
      "INFO:LOG:Creating TensorDataset from features dataframe\n",
      "C:\\Windows\\Temp\\ipykernel_1144\\1158175120.py:14: TqdmDeprecationWarning: This function will be removed in tqdm==5.0.0\n",
      "Please use `tqdm.notebook.tqdm` instead of `tqdm.tqdm_notebook`\n",
      "  for batch in tqdm_notebook(eval_dataloader, desc=\"Evaluating\"):\n"
     ]
    },
    {
     "data": {
      "text/plain": "Evaluating:   0%|          | 0/748 [00:00<?, ?it/s]",
      "application/vnd.jupyter.widget-view+json": {
       "version_major": 2,
       "version_minor": 0,
       "model_id": "583a0cc5d6234bb3a94bb73b96f6c8b6"
      },
      "application/json": {
       "n": 0,
       "total": 748,
       "elapsed": 0.002996206283569336,
       "ncols": null,
       "nrows": null,
       "prefix": "Evaluating",
       "ascii": false,
       "unit": "it",
       "unit_scale": false,
       "rate": null,
       "bar_format": null,
       "postfix": null,
       "unit_divisor": 1000,
       "initial": 0,
       "colour": null
      }
     },
     "metadata": {},
     "output_type": "display_data"
    },
    {
     "name": "stderr",
     "output_type": "stream",
     "text": [
      "INFO:LOG:Generating evaluation dataset...\n",
      "INFO:LOG:Creating features from dataframe\n"
     ]
    },
    {
     "name": "stdout",
     "output_type": "stream",
     "text": [
      "          id  seq_starts  seq_ends  label                text\n",
      "0     715806           1         4      0                 без\n",
      "1     715806           1         9      1            без води\n",
      "2     715806           1        12      1         без води на\n",
      "3     715806           1        15      1      без води на 36\n",
      "4     715806           1        19      1  без води на 36 год\n",
      "...      ...         ...       ...    ...                 ...\n",
      "5977  715806         321       328      1           ##чень на\n",
      "5978  715806         321       333      1      ##чень на фото\n",
      "5979  715806         326       328      0                  на\n",
      "5980  715806         326       333      1             на фото\n",
      "5981  715806         329       333      0                фото\n",
      "\n",
      "[5982 rows x 5 columns]\n",
      "          id  seq_starts  seq_ends  label            text\n",
      "0     716099           0         3      0             доп\n",
      "1     716099           0         6      0          допома\n",
      "2     716099           0         9      0       допомагав\n",
      "3     716099           0        12      0    допомагав го\n",
      "4     716099           0        14      0  допомагав готу\n",
      "...      ...         ...       ...    ...             ...\n",
      "4644  716099         283       292      0     ##лати нови\n",
      "4645  716099         283       294      0   ##лати новини\n",
      "4646  716099         288       292      0            нови\n",
      "4647  716099         288       294      0          новини\n",
      "4648  716099         292       294      0            ##ни\n",
      "\n",
      "[4649 rows x 5 columns]\n",
      "(4649, 5)\n"
     ]
    },
    {
     "name": "stderr",
     "output_type": "stream",
     "text": [
      "INFO:LOG:Creating TensorDataset from features dataframe\n",
      "C:\\Windows\\Temp\\ipykernel_1144\\1158175120.py:14: TqdmDeprecationWarning: This function will be removed in tqdm==5.0.0\n",
      "Please use `tqdm.notebook.tqdm` instead of `tqdm.tqdm_notebook`\n",
      "  for batch in tqdm_notebook(eval_dataloader, desc=\"Evaluating\"):\n"
     ]
    },
    {
     "data": {
      "text/plain": "Evaluating:   0%|          | 0/582 [00:00<?, ?it/s]",
      "application/vnd.jupyter.widget-view+json": {
       "version_major": 2,
       "version_minor": 0,
       "model_id": "2912c38f60eb41ce87dbc7b274aaef71"
      },
      "application/json": {
       "n": 0,
       "total": 582,
       "elapsed": 0.003998994827270508,
       "ncols": null,
       "nrows": null,
       "prefix": "Evaluating",
       "ascii": false,
       "unit": "it",
       "unit_scale": false,
       "rate": null,
       "bar_format": null,
       "postfix": null,
       "unit_divisor": 1000,
       "initial": 0,
       "colour": null
      }
     },
     "metadata": {},
     "output_type": "display_data"
    },
    {
     "name": "stderr",
     "output_type": "stream",
     "text": [
      "INFO:LOG:Generating evaluation dataset...\n",
      "INFO:LOG:Creating features from dataframe\n"
     ]
    },
    {
     "name": "stdout",
     "output_type": "stream",
     "text": [
      "          id  seq_starts  seq_ends  label            text\n",
      "0     716099           0         3      0             доп\n",
      "1     716099           0         6      1          допома\n",
      "2     716099           0         9      1       допомагав\n",
      "3     716099           0        12      1    допомагав го\n",
      "4     716099           0        14      1  допомагав готу\n",
      "...      ...         ...       ...    ...             ...\n",
      "4644  716099         283       292      1     ##лати нови\n",
      "4645  716099         283       294      1   ##лати новини\n",
      "4646  716099         288       292      0            нови\n",
      "4647  716099         288       294      1          новини\n",
      "4648  716099         292       294      1            ##ни\n",
      "\n",
      "[4649 rows x 5 columns]\n",
      "          id  seq_starts  seq_ends  label              text\n",
      "0     716138           0         3      0               над\n",
      "1     716138           0         1      0             надіи\n",
      "2     716138           0         8      0          надіишло\n",
      "3     716138           0        12      0      надіишло 311\n",
      "4     716138           0        16      0  надіишло 311 пов\n",
      "...      ...         ...       ...    ...               ...\n",
      "3477  716138         237       246      0       ##лати нови\n",
      "3478  716138         237       248      0     ##лати новини\n",
      "3479  716138         242       246      0              нови\n",
      "3480  716138         242       248      0            новини\n",
      "3481  716138         246       248      0              ##ни\n",
      "\n",
      "[3482 rows x 5 columns]\n",
      "(3482, 5)\n"
     ]
    },
    {
     "name": "stderr",
     "output_type": "stream",
     "text": [
      "INFO:LOG:Creating TensorDataset from features dataframe\n",
      "C:\\Windows\\Temp\\ipykernel_1144\\1158175120.py:14: TqdmDeprecationWarning: This function will be removed in tqdm==5.0.0\n",
      "Please use `tqdm.notebook.tqdm` instead of `tqdm.tqdm_notebook`\n",
      "  for batch in tqdm_notebook(eval_dataloader, desc=\"Evaluating\"):\n"
     ]
    },
    {
     "data": {
      "text/plain": "Evaluating:   0%|          | 0/436 [00:00<?, ?it/s]",
      "application/vnd.jupyter.widget-view+json": {
       "version_major": 2,
       "version_minor": 0,
       "model_id": "6bac583ee73b4c81a1e02f37b88be100"
      },
      "application/json": {
       "n": 0,
       "total": 436,
       "elapsed": 0.00395965576171875,
       "ncols": null,
       "nrows": null,
       "prefix": "Evaluating",
       "ascii": false,
       "unit": "it",
       "unit_scale": false,
       "rate": null,
       "bar_format": null,
       "postfix": null,
       "unit_divisor": 1000,
       "initial": 0,
       "colour": null
      }
     },
     "metadata": {},
     "output_type": "display_data"
    },
    {
     "name": "stderr",
     "output_type": "stream",
     "text": [
      "INFO:LOG:Generating evaluation dataset...\n",
      "INFO:LOG:Creating features from dataframe\n"
     ]
    },
    {
     "name": "stdout",
     "output_type": "stream",
     "text": [
      "          id  seq_starts  seq_ends  label              text\n",
      "0     716138           0         3      0               над\n",
      "1     716138           0         1      1             надіи\n",
      "2     716138           0         8      1          надіишло\n",
      "3     716138           0        12      1      надіишло 311\n",
      "4     716138           0        16      1  надіишло 311 пов\n",
      "...      ...         ...       ...    ...               ...\n",
      "3477  716138         237       246      1       ##лати нови\n",
      "3478  716138         237       248      1     ##лати новини\n",
      "3479  716138         242       246      0              нови\n",
      "3480  716138         242       248      1            новини\n",
      "3481  716138         246       248      1              ##ни\n",
      "\n",
      "[3482 rows x 5 columns]\n",
      "          id  seq_starts  seq_ends  label           text\n",
      "0     716140           0         1      0              п\n",
      "1     716140           0         2      0             пз\n",
      "2     716140           0         3      0            пзд\n",
      "3     716140           0         4      0           пздц\n",
      "4     716140           0         5      0         пздц !\n",
      "...      ...         ...       ...    ...            ...\n",
      "2993  716140         219       228      0    ##лати нови\n",
      "2994  716140         219       230      0  ##лати новини\n",
      "2995  716140         224       228      0           нови\n",
      "2996  716140         224       230      0         новини\n",
      "2997  716140         228       230      0           ##ни\n",
      "\n",
      "[2998 rows x 5 columns]\n",
      "(2998, 5)\n"
     ]
    },
    {
     "name": "stderr",
     "output_type": "stream",
     "text": [
      "INFO:LOG:Creating TensorDataset from features dataframe\n",
      "C:\\Windows\\Temp\\ipykernel_1144\\1158175120.py:14: TqdmDeprecationWarning: This function will be removed in tqdm==5.0.0\n",
      "Please use `tqdm.notebook.tqdm` instead of `tqdm.tqdm_notebook`\n",
      "  for batch in tqdm_notebook(eval_dataloader, desc=\"Evaluating\"):\n"
     ]
    },
    {
     "data": {
      "text/plain": "Evaluating:   0%|          | 0/375 [00:00<?, ?it/s]",
      "application/vnd.jupyter.widget-view+json": {
       "version_major": 2,
       "version_minor": 0,
       "model_id": "a6f1df76140d482787cc3cb3b90de9aa"
      },
      "application/json": {
       "n": 0,
       "total": 375,
       "elapsed": 0.004034280776977539,
       "ncols": null,
       "nrows": null,
       "prefix": "Evaluating",
       "ascii": false,
       "unit": "it",
       "unit_scale": false,
       "rate": null,
       "bar_format": null,
       "postfix": null,
       "unit_divisor": 1000,
       "initial": 0,
       "colour": null
      }
     },
     "metadata": {},
     "output_type": "display_data"
    },
    {
     "name": "stderr",
     "output_type": "stream",
     "text": [
      "INFO:LOG:Generating evaluation dataset...\n",
      "INFO:LOG:Creating features from dataframe\n"
     ]
    },
    {
     "name": "stdout",
     "output_type": "stream",
     "text": [
      "          id  seq_starts  seq_ends  label           text\n",
      "0     716140           0         1      0              п\n",
      "1     716140           0         2      1             пз\n",
      "2     716140           0         3      1            пзд\n",
      "3     716140           0         4      1           пздц\n",
      "4     716140           0         5      1         пздц !\n",
      "...      ...         ...       ...    ...            ...\n",
      "2993  716140         219       228      1    ##лати нови\n",
      "2994  716140         219       230      1  ##лати новини\n",
      "2995  716140         224       228      0           нови\n",
      "2996  716140         224       230      1         новини\n",
      "2997  716140         228       230      1           ##ни\n",
      "\n",
      "[2998 rows x 5 columns]\n",
      "          id  seq_starts  seq_ends  label             text\n",
      "0     716163           0         4      0             нова\n",
      "1     716163           0         7      0          нова па\n",
      "2     716163           0        10      0       нова панде\n",
      "3     716163           0        13      0    нова пандемія\n",
      "4     716163           0        14      0  нова пандемія ?\n",
      "...      ...         ...       ...    ...              ...\n",
      "5873  716163         307       316      0      ##лати нови\n",
      "5874  716163         307       318      0    ##лати новини\n",
      "5875  716163         312       316      0             нови\n",
      "5876  716163         312       318      0           новини\n",
      "5877  716163         316       318      0             ##ни\n",
      "\n",
      "[5878 rows x 5 columns]\n",
      "(5878, 5)\n"
     ]
    },
    {
     "name": "stderr",
     "output_type": "stream",
     "text": [
      "INFO:LOG:Creating TensorDataset from features dataframe\n",
      "C:\\Windows\\Temp\\ipykernel_1144\\1158175120.py:14: TqdmDeprecationWarning: This function will be removed in tqdm==5.0.0\n",
      "Please use `tqdm.notebook.tqdm` instead of `tqdm.tqdm_notebook`\n",
      "  for batch in tqdm_notebook(eval_dataloader, desc=\"Evaluating\"):\n"
     ]
    },
    {
     "data": {
      "text/plain": "Evaluating:   0%|          | 0/735 [00:00<?, ?it/s]",
      "application/vnd.jupyter.widget-view+json": {
       "version_major": 2,
       "version_minor": 0,
       "model_id": "b71053bffd6b450f898d2c43377c717a"
      },
      "application/json": {
       "n": 0,
       "total": 735,
       "elapsed": 0.0039479732513427734,
       "ncols": null,
       "nrows": null,
       "prefix": "Evaluating",
       "ascii": false,
       "unit": "it",
       "unit_scale": false,
       "rate": null,
       "bar_format": null,
       "postfix": null,
       "unit_divisor": 1000,
       "initial": 0,
       "colour": null
      }
     },
     "metadata": {},
     "output_type": "display_data"
    },
    {
     "name": "stderr",
     "output_type": "stream",
     "text": [
      "INFO:LOG:Generating evaluation dataset...\n",
      "INFO:LOG:Creating features from dataframe\n"
     ]
    },
    {
     "name": "stdout",
     "output_type": "stream",
     "text": [
      "          id  seq_starts  seq_ends  label             text\n",
      "0     716163           0         4      0             нова\n",
      "1     716163           0         7      1          нова па\n",
      "2     716163           0        10      1       нова панде\n",
      "3     716163           0        13      1    нова пандемія\n",
      "4     716163           0        14      1  нова пандемія ?\n",
      "...      ...         ...       ...    ...              ...\n",
      "5873  716163         307       316      1      ##лати нови\n",
      "5874  716163         307       318      1    ##лати новини\n",
      "5875  716163         312       316      0             нови\n",
      "5876  716163         312       318      1           новини\n",
      "5877  716163         316       318      1             ##ни\n",
      "\n",
      "[5878 rows x 5 columns]\n",
      "          id  seq_starts  seq_ends  label             text\n",
      "0     716214           0         2      0               на\n",
      "1     716214           0         9      0        на службу\n",
      "2     716214           0        11      0      на службу з\n",
      "3     716214           0        13      0    на службу змо\n",
      "4     716214           0        15      0  на службу зможу\n",
      "...      ...         ...       ...    ...              ...\n",
      "6427  716214         339       348      0      ##лати нови\n",
      "6428  716214         339       350      0    ##лати новини\n",
      "6429  716214         344       348      0             нови\n",
      "6430  716214         344       350      0           новини\n",
      "6431  716214         348       350      0             ##ни\n",
      "\n",
      "[6432 rows x 5 columns]\n",
      "(6432, 5)\n"
     ]
    },
    {
     "name": "stderr",
     "output_type": "stream",
     "text": [
      "INFO:LOG:Creating TensorDataset from features dataframe\n",
      "C:\\Windows\\Temp\\ipykernel_1144\\1158175120.py:14: TqdmDeprecationWarning: This function will be removed in tqdm==5.0.0\n",
      "Please use `tqdm.notebook.tqdm` instead of `tqdm.tqdm_notebook`\n",
      "  for batch in tqdm_notebook(eval_dataloader, desc=\"Evaluating\"):\n"
     ]
    },
    {
     "data": {
      "text/plain": "Evaluating:   0%|          | 0/804 [00:00<?, ?it/s]",
      "application/vnd.jupyter.widget-view+json": {
       "version_major": 2,
       "version_minor": 0,
       "model_id": "e9bc1d55176d4a84baa16445dacc3e10"
      },
      "application/json": {
       "n": 0,
       "total": 804,
       "elapsed": 0.0039997100830078125,
       "ncols": null,
       "nrows": null,
       "prefix": "Evaluating",
       "ascii": false,
       "unit": "it",
       "unit_scale": false,
       "rate": null,
       "bar_format": null,
       "postfix": null,
       "unit_divisor": 1000,
       "initial": 0,
       "colour": null
      }
     },
     "metadata": {},
     "output_type": "display_data"
    },
    {
     "name": "stderr",
     "output_type": "stream",
     "text": [
      "INFO:LOG:Generating evaluation dataset...\n",
      "INFO:LOG:Creating features from dataframe\n"
     ]
    },
    {
     "name": "stdout",
     "output_type": "stream",
     "text": [
      "          id  seq_starts  seq_ends  label             text\n",
      "0     716214           0         2      0               на\n",
      "1     716214           0         9      1        на службу\n",
      "2     716214           0        11      1      на службу з\n",
      "3     716214           0        13      1    на службу змо\n",
      "4     716214           0        15      1  на службу зможу\n",
      "...      ...         ...       ...    ...              ...\n",
      "6427  716214         339       348      1      ##лати нови\n",
      "6428  716214         339       350      1    ##лати новини\n",
      "6429  716214         344       348      0             нови\n",
      "6430  716214         344       350      1           новини\n",
      "6431  716214         348       350      1             ##ни\n",
      "\n",
      "[6432 rows x 5 columns]\n",
      "          id  seq_starts  seq_ends  label           text\n",
      "0     716277           1         3      0             см\n",
      "1     716277           1         5      0           смер\n",
      "2     716277           1         9      0       смертель\n",
      "3     716277           1        11      0     смертельна\n",
      "4     716277           1        13      0   смертельна д\n",
      "...      ...         ...       ...    ...            ...\n",
      "7246  716277         330       339      0    ##лати нови\n",
      "7247  716277         330       341      0  ##лати новини\n",
      "7248  716277         335       339      0           нови\n",
      "7249  716277         335       341      0         новини\n",
      "7250  716277         339       341      0           ##ни\n",
      "\n",
      "[7251 rows x 5 columns]\n",
      "(7251, 5)\n"
     ]
    },
    {
     "name": "stderr",
     "output_type": "stream",
     "text": [
      "INFO:LOG:Creating TensorDataset from features dataframe\n",
      "C:\\Windows\\Temp\\ipykernel_1144\\1158175120.py:14: TqdmDeprecationWarning: This function will be removed in tqdm==5.0.0\n",
      "Please use `tqdm.notebook.tqdm` instead of `tqdm.tqdm_notebook`\n",
      "  for batch in tqdm_notebook(eval_dataloader, desc=\"Evaluating\"):\n"
     ]
    },
    {
     "data": {
      "text/plain": "Evaluating:   0%|          | 0/907 [00:00<?, ?it/s]",
      "application/vnd.jupyter.widget-view+json": {
       "version_major": 2,
       "version_minor": 0,
       "model_id": "b07a41f505904f718896793f8fb1e663"
      },
      "application/json": {
       "n": 0,
       "total": 907,
       "elapsed": 0.0029985904693603516,
       "ncols": null,
       "nrows": null,
       "prefix": "Evaluating",
       "ascii": false,
       "unit": "it",
       "unit_scale": false,
       "rate": null,
       "bar_format": null,
       "postfix": null,
       "unit_divisor": 1000,
       "initial": 0,
       "colour": null
      }
     },
     "metadata": {},
     "output_type": "display_data"
    },
    {
     "name": "stderr",
     "output_type": "stream",
     "text": [
      "INFO:LOG:Generating evaluation dataset...\n",
      "INFO:LOG:Creating features from dataframe\n"
     ]
    },
    {
     "name": "stdout",
     "output_type": "stream",
     "text": [
      "          id  seq_starts  seq_ends  label           text\n",
      "0     716277           1         3      0             см\n",
      "1     716277           1         5      1           смер\n",
      "2     716277           1         9      1       смертель\n",
      "3     716277           1        11      1     смертельна\n",
      "4     716277           1        13      1   смертельна д\n",
      "...      ...         ...       ...    ...            ...\n",
      "7246  716277         330       339      1    ##лати нови\n",
      "7247  716277         330       341      1  ##лати новини\n",
      "7248  716277         335       339      0           нови\n",
      "7249  716277         335       341      1         новини\n",
      "7250  716277         339       341      1           ##ни\n",
      "\n",
      "[7251 rows x 5 columns]\n",
      "          id  seq_starts  seq_ends  label            text\n",
      "0     716353           0         3      0             куп\n",
      "1     716353           0         7      0         купував\n",
      "2     716353           0        10      0      купував кв\n",
      "3     716353           0        12      0    купував квит\n",
      "4     716353           0        14      0  купував квитки\n",
      "...      ...         ...       ...    ...             ...\n",
      "5139  716353         286       288      0            ##яз\n",
      "5140  716353         286       292      0        ##язниці\n",
      "5141  716353         286       293      0      ##язниці .\n",
      "5142  716353         288       292      0          ##ниці\n",
      "5143  716353         288       293      0        ##ниці .\n",
      "\n",
      "[5144 rows x 5 columns]\n",
      "(5144, 5)\n"
     ]
    },
    {
     "name": "stderr",
     "output_type": "stream",
     "text": [
      "INFO:LOG:Creating TensorDataset from features dataframe\n",
      "C:\\Windows\\Temp\\ipykernel_1144\\1158175120.py:14: TqdmDeprecationWarning: This function will be removed in tqdm==5.0.0\n",
      "Please use `tqdm.notebook.tqdm` instead of `tqdm.tqdm_notebook`\n",
      "  for batch in tqdm_notebook(eval_dataloader, desc=\"Evaluating\"):\n"
     ]
    },
    {
     "data": {
      "text/plain": "Evaluating:   0%|          | 0/643 [00:00<?, ?it/s]",
      "application/vnd.jupyter.widget-view+json": {
       "version_major": 2,
       "version_minor": 0,
       "model_id": "83f215eb2a264ec1b6be1e5da1e12c3f"
      },
      "application/json": {
       "n": 0,
       "total": 643,
       "elapsed": 0.00500035285949707,
       "ncols": null,
       "nrows": null,
       "prefix": "Evaluating",
       "ascii": false,
       "unit": "it",
       "unit_scale": false,
       "rate": null,
       "bar_format": null,
       "postfix": null,
       "unit_divisor": 1000,
       "initial": 0,
       "colour": null
      }
     },
     "metadata": {},
     "output_type": "display_data"
    },
    {
     "name": "stderr",
     "output_type": "stream",
     "text": [
      "INFO:LOG:Generating evaluation dataset...\n",
      "INFO:LOG:Creating features from dataframe\n"
     ]
    },
    {
     "name": "stdout",
     "output_type": "stream",
     "text": [
      "          id  seq_starts  seq_ends  label            text\n",
      "0     716353           0         3      0             куп\n",
      "1     716353           0         7      1         купував\n",
      "2     716353           0        10      1      купував кв\n",
      "3     716353           0        12      1    купував квит\n",
      "4     716353           0        14      1  купував квитки\n",
      "...      ...         ...       ...    ...             ...\n",
      "5139  716353         286       288      1            ##яз\n",
      "5140  716353         286       292      1        ##язниці\n",
      "5141  716353         286       293      0      ##язниці .\n",
      "5142  716353         288       292      1          ##ниці\n",
      "5143  716353         288       293      0        ##ниці .\n",
      "\n",
      "[5144 rows x 5 columns]\n",
      "          id  seq_starts  seq_ends  label                text\n",
      "0     716354           0         2      0                  по\n",
      "1     716354           0         4      0                поту\n",
      "2     716354           0         3      0            потужнии\n",
      "3     716354           0        15      0     потужнии дерево\n",
      "4     716354           0        18      0  потужнии деревопад\n",
      "...      ...         ...       ...    ...                 ...\n",
      "5765  716354         308       309      0                 ##є\n",
      "5766  716354         308       312      0              ##єчку\n",
      "5767  716354         308       313      0            ##єчку .\n",
      "5768  716354         309       312      0               ##чку\n",
      "5769  716354         309       313      0             ##чку .\n",
      "\n",
      "[5770 rows x 5 columns]\n",
      "(5770, 5)\n"
     ]
    },
    {
     "name": "stderr",
     "output_type": "stream",
     "text": [
      "INFO:LOG:Creating TensorDataset from features dataframe\n",
      "C:\\Windows\\Temp\\ipykernel_1144\\1158175120.py:14: TqdmDeprecationWarning: This function will be removed in tqdm==5.0.0\n",
      "Please use `tqdm.notebook.tqdm` instead of `tqdm.tqdm_notebook`\n",
      "  for batch in tqdm_notebook(eval_dataloader, desc=\"Evaluating\"):\n"
     ]
    },
    {
     "data": {
      "text/plain": "Evaluating:   0%|          | 0/722 [00:00<?, ?it/s]",
      "application/vnd.jupyter.widget-view+json": {
       "version_major": 2,
       "version_minor": 0,
       "model_id": "b119e7e9e9544166afb6961fd634afc0"
      },
      "application/json": {
       "n": 0,
       "total": 722,
       "elapsed": 0.005015134811401367,
       "ncols": null,
       "nrows": null,
       "prefix": "Evaluating",
       "ascii": false,
       "unit": "it",
       "unit_scale": false,
       "rate": null,
       "bar_format": null,
       "postfix": null,
       "unit_divisor": 1000,
       "initial": 0,
       "colour": null
      }
     },
     "metadata": {},
     "output_type": "display_data"
    },
    {
     "name": "stderr",
     "output_type": "stream",
     "text": [
      "INFO:LOG:Generating evaluation dataset...\n",
      "INFO:LOG:Creating features from dataframe\n"
     ]
    },
    {
     "name": "stdout",
     "output_type": "stream",
     "text": [
      "          id  seq_starts  seq_ends  label                text\n",
      "0     716354           0         2      1                  по\n",
      "1     716354           0         4      1                поту\n",
      "2     716354           0         3      1            потужнии\n",
      "3     716354           0        15      1     потужнии дерево\n",
      "4     716354           0        18      1  потужнии деревопад\n",
      "...      ...         ...       ...    ...                 ...\n",
      "5765  716354         308       309      1                 ##є\n",
      "5766  716354         308       312      1              ##єчку\n",
      "5767  716354         308       313      0            ##єчку .\n",
      "5768  716354         309       312      1               ##чку\n",
      "5769  716354         309       313      0             ##чку .\n",
      "\n",
      "[5770 rows x 5 columns]\n",
      "          id  seq_starts  seq_ends  label              text\n",
      "0     716540           0         5      0             залив\n",
      "1     716540           0         9      0         залив пер\n",
      "2     716540           0        12      0      залив перцем\n",
      "3     716540           0        15      0   залив перцем ді\n",
      "4     716540           0        16      0  залив перцем дів\n",
      "...      ...         ...       ...    ...               ...\n",
      "2693  716540         212       219      0         ##ть ново\n",
      "2694  716540         212       222      0      ##ть новость\n",
      "2695  716540         215       219      0              ново\n",
      "2696  716540         215       222      0           новость\n",
      "2697  716540         219       222      0             ##сть\n",
      "\n",
      "[2698 rows x 5 columns]\n",
      "(2698, 5)\n"
     ]
    },
    {
     "name": "stderr",
     "output_type": "stream",
     "text": [
      "INFO:LOG:Creating TensorDataset from features dataframe\n",
      "C:\\Windows\\Temp\\ipykernel_1144\\1158175120.py:14: TqdmDeprecationWarning: This function will be removed in tqdm==5.0.0\n",
      "Please use `tqdm.notebook.tqdm` instead of `tqdm.tqdm_notebook`\n",
      "  for batch in tqdm_notebook(eval_dataloader, desc=\"Evaluating\"):\n"
     ]
    },
    {
     "data": {
      "text/plain": "Evaluating:   0%|          | 0/338 [00:00<?, ?it/s]",
      "application/vnd.jupyter.widget-view+json": {
       "version_major": 2,
       "version_minor": 0,
       "model_id": "cccc7f6d33824f0598b4b69d4e35da77"
      },
      "application/json": {
       "n": 0,
       "total": 338,
       "elapsed": 0.004030466079711914,
       "ncols": null,
       "nrows": null,
       "prefix": "Evaluating",
       "ascii": false,
       "unit": "it",
       "unit_scale": false,
       "rate": null,
       "bar_format": null,
       "postfix": null,
       "unit_divisor": 1000,
       "initial": 0,
       "colour": null
      }
     },
     "metadata": {},
     "output_type": "display_data"
    },
    {
     "name": "stderr",
     "output_type": "stream",
     "text": [
      "INFO:LOG:Generating evaluation dataset...\n",
      "INFO:LOG:Creating features from dataframe\n"
     ]
    },
    {
     "name": "stdout",
     "output_type": "stream",
     "text": [
      "          id  seq_starts  seq_ends  label              text\n",
      "0     716540           0         5      0             залив\n",
      "1     716540           0         9      1         залив пер\n",
      "2     716540           0        12      1      залив перцем\n",
      "3     716540           0        15      1   залив перцем ді\n",
      "4     716540           0        16      1  залив перцем дів\n",
      "...      ...         ...       ...    ...               ...\n",
      "2693  716540         212       219      1         ##ть ново\n",
      "2694  716540         212       222      1      ##ть новость\n",
      "2695  716540         215       219      0              ново\n",
      "2696  716540         215       222      1           новость\n",
      "2697  716540         219       222      1             ##сть\n",
      "\n",
      "[2698 rows x 5 columns]\n",
      "          id  seq_starts  seq_ends  label          text\n",
      "0     716636           0         2      0            от\n",
      "1     716636           0         4      0          отру\n",
      "2     716636           0       196      0       отруина\n",
      "3     716636           0       204      0    отруина ка\n",
      "4     716636           0         1      0  отруина кава\n",
      "...      ...         ...       ...    ...           ...\n",
      "5036  716636         300       307      0     ##ть ново\n",
      "5037  716636         300       310      0  ##ть новость\n",
      "5038  716636         303       307      0          ново\n",
      "5039  716636         303       310      0       новость\n",
      "5040  716636         307       310      0         ##сть\n",
      "\n",
      "[5041 rows x 5 columns]\n",
      "(5041, 5)\n"
     ]
    },
    {
     "name": "stderr",
     "output_type": "stream",
     "text": [
      "INFO:LOG:Creating TensorDataset from features dataframe\n",
      "C:\\Windows\\Temp\\ipykernel_1144\\1158175120.py:14: TqdmDeprecationWarning: This function will be removed in tqdm==5.0.0\n",
      "Please use `tqdm.notebook.tqdm` instead of `tqdm.tqdm_notebook`\n",
      "  for batch in tqdm_notebook(eval_dataloader, desc=\"Evaluating\"):\n"
     ]
    },
    {
     "data": {
      "text/plain": "Evaluating:   0%|          | 0/631 [00:00<?, ?it/s]",
      "application/vnd.jupyter.widget-view+json": {
       "version_major": 2,
       "version_minor": 0,
       "model_id": "0726742daeb7428487dca4080b3c6070"
      },
      "application/json": {
       "n": 0,
       "total": 631,
       "elapsed": 0.0039653778076171875,
       "ncols": null,
       "nrows": null,
       "prefix": "Evaluating",
       "ascii": false,
       "unit": "it",
       "unit_scale": false,
       "rate": null,
       "bar_format": null,
       "postfix": null,
       "unit_divisor": 1000,
       "initial": 0,
       "colour": null
      }
     },
     "metadata": {},
     "output_type": "display_data"
    },
    {
     "name": "stderr",
     "output_type": "stream",
     "text": [
      "INFO:LOG:Generating evaluation dataset...\n"
     ]
    },
    {
     "name": "stdout",
     "output_type": "stream",
     "text": [
      "          id  seq_starts  seq_ends  label          text\n",
      "0     716636           0         2      1            от\n",
      "1     716636           0         4      1          отру\n",
      "2     716636           0       196      1       отруина\n",
      "3     716636           0       204      1    отруина ка\n",
      "4     716636           0         1      1  отруина кава\n",
      "...      ...         ...       ...    ...           ...\n",
      "5036  716636         300       307      1     ##ть ново\n",
      "5037  716636         300       310      1  ##ть новость\n",
      "5038  716636         303       307      0          ново\n",
      "5039  716636         303       310      1       новость\n",
      "5040  716636         307       310      1         ##сть\n",
      "\n",
      "[5041 rows x 5 columns]\n"
     ]
    },
    {
     "name": "stderr",
     "output_type": "stream",
     "text": [
      "INFO:LOG:Creating features from dataframe\n"
     ]
    },
    {
     "name": "stdout",
     "output_type": "stream",
     "text": [
      "           id  seq_starts  seq_ends  label           text\n",
      "0      717056           0         2      0             по\n",
      "1      717056           0         6      0         посили\n",
      "2      717056           0         8      0       посилимо\n",
      "3      717056           0        11      0    посилимо мо\n",
      "4      717056           0        13      0  посилимо мобі\n",
      "...       ...         ...       ...    ...            ...\n",
      "14178  717056         510       517      0      ##ть ново\n",
      "14179  717056         510       520      0   ##ть новость\n",
      "14180  717056         513       517      0           ново\n",
      "14181  717056         513       520      0        новость\n",
      "14182  717056         517       520      0          ##сть\n",
      "\n",
      "[14183 rows x 5 columns]\n",
      "(14183, 5)\n"
     ]
    },
    {
     "name": "stderr",
     "output_type": "stream",
     "text": [
      "INFO:LOG:Creating TensorDataset from features dataframe\n",
      "C:\\Windows\\Temp\\ipykernel_1144\\1158175120.py:14: TqdmDeprecationWarning: This function will be removed in tqdm==5.0.0\n",
      "Please use `tqdm.notebook.tqdm` instead of `tqdm.tqdm_notebook`\n",
      "  for batch in tqdm_notebook(eval_dataloader, desc=\"Evaluating\"):\n"
     ]
    },
    {
     "data": {
      "text/plain": "Evaluating:   0%|          | 0/1773 [00:00<?, ?it/s]",
      "application/vnd.jupyter.widget-view+json": {
       "version_major": 2,
       "version_minor": 0,
       "model_id": "c6abff4e5b2b470d871d14a7dc1c2dcc"
      },
      "application/json": {
       "n": 0,
       "total": 1773,
       "elapsed": 0.003997087478637695,
       "ncols": null,
       "nrows": null,
       "prefix": "Evaluating",
       "ascii": false,
       "unit": "it",
       "unit_scale": false,
       "rate": null,
       "bar_format": null,
       "postfix": null,
       "unit_divisor": 1000,
       "initial": 0,
       "colour": null
      }
     },
     "metadata": {},
     "output_type": "display_data"
    },
    {
     "name": "stderr",
     "output_type": "stream",
     "text": [
      "INFO:LOG:Generating evaluation dataset...\n",
      "INFO:LOG:Creating features from dataframe\n"
     ]
    },
    {
     "name": "stdout",
     "output_type": "stream",
     "text": [
      "           id  seq_starts  seq_ends  label           text\n",
      "0      717056           0         2      1             по\n",
      "1      717056           0         6      1         посили\n",
      "2      717056           0         8      1       посилимо\n",
      "3      717056           0        11      1    посилимо мо\n",
      "4      717056           0        13      1  посилимо мобі\n",
      "...       ...         ...       ...    ...            ...\n",
      "14178  717056         510       517      1      ##ть ново\n",
      "14179  717056         510       520      1   ##ть новость\n",
      "14180  717056         513       517      0           ново\n",
      "14181  717056         513       520      1        новость\n",
      "14182  717056         517       520      1          ##сть\n",
      "\n",
      "[14183 rows x 5 columns]\n",
      "          id  seq_starts  seq_ends  label          text\n",
      "0     717062           0         1      0             з\n",
      "1     717062           0         4      0          зрос\n",
      "2     717062           0         8      0      зростати\n",
      "3     717062           0        10      0    зростатиму\n",
      "4     717062           0        12      0  зростатимуть\n",
      "...      ...         ...       ...    ...           ...\n",
      "5655  717062         297       304      0     ##ть ново\n",
      "5656  717062         297       307      0  ##ть новость\n",
      "5657  717062         300       304      0          ново\n",
      "5658  717062         300       307      0       новость\n",
      "5659  717062         304       307      0         ##сть\n",
      "\n",
      "[5660 rows x 5 columns]\n",
      "(5660, 5)\n"
     ]
    },
    {
     "name": "stderr",
     "output_type": "stream",
     "text": [
      "INFO:LOG:Creating TensorDataset from features dataframe\n",
      "C:\\Windows\\Temp\\ipykernel_1144\\1158175120.py:14: TqdmDeprecationWarning: This function will be removed in tqdm==5.0.0\n",
      "Please use `tqdm.notebook.tqdm` instead of `tqdm.tqdm_notebook`\n",
      "  for batch in tqdm_notebook(eval_dataloader, desc=\"Evaluating\"):\n"
     ]
    },
    {
     "data": {
      "text/plain": "Evaluating:   0%|          | 0/708 [00:00<?, ?it/s]",
      "application/vnd.jupyter.widget-view+json": {
       "version_major": 2,
       "version_minor": 0,
       "model_id": "28c8fdd27bba4415a2171aac93cdbe89"
      },
      "application/json": {
       "n": 0,
       "total": 708,
       "elapsed": 0.004973411560058594,
       "ncols": null,
       "nrows": null,
       "prefix": "Evaluating",
       "ascii": false,
       "unit": "it",
       "unit_scale": false,
       "rate": null,
       "bar_format": null,
       "postfix": null,
       "unit_divisor": 1000,
       "initial": 0,
       "colour": null
      }
     },
     "metadata": {},
     "output_type": "display_data"
    },
    {
     "name": "stderr",
     "output_type": "stream",
     "text": [
      "INFO:LOG:Generating evaluation dataset...\n",
      "INFO:LOG:Creating features from dataframe\n"
     ]
    },
    {
     "name": "stdout",
     "output_type": "stream",
     "text": [
      "          id  seq_starts  seq_ends  label          text\n",
      "0     717062           0         1      0             з\n",
      "1     717062           0         4      1          зрос\n",
      "2     717062           0         8      1      зростати\n",
      "3     717062           0        10      1    зростатиму\n",
      "4     717062           0        12      1  зростатимуть\n",
      "...      ...         ...       ...    ...           ...\n",
      "5655  717062         297       304      1     ##ть ново\n",
      "5656  717062         297       307      1  ##ть новость\n",
      "5657  717062         300       304      0          ново\n",
      "5658  717062         300       307      1       новость\n",
      "5659  717062         304       307      1         ##сть\n",
      "\n",
      "[5660 rows x 5 columns]\n",
      "           id  seq_starts  seq_ends  label                      text\n",
      "0      717181           0         6      0                    микола\n",
      "1      717181           0         6      0             миколаівськии\n",
      "2      717181           0        19      0       миколаівськии судно\n",
      "3      717181           0        21      0     миколаівськии суднобу\n",
      "4      717181           0        24      0  миколаівськии суднобудів\n",
      "...       ...         ...       ...    ...                       ...\n",
      "12228  717181         509       516      0                 ##ть ново\n",
      "12229  717181         509       519      0              ##ть новость\n",
      "12230  717181         512       516      0                      ново\n",
      "12231  717181         512       519      0                   новость\n",
      "12232  717181         516       519      0                     ##сть\n",
      "\n",
      "[12233 rows x 5 columns]\n",
      "(12233, 5)\n"
     ]
    },
    {
     "name": "stderr",
     "output_type": "stream",
     "text": [
      "INFO:LOG:Creating TensorDataset from features dataframe\n",
      "C:\\Windows\\Temp\\ipykernel_1144\\1158175120.py:14: TqdmDeprecationWarning: This function will be removed in tqdm==5.0.0\n",
      "Please use `tqdm.notebook.tqdm` instead of `tqdm.tqdm_notebook`\n",
      "  for batch in tqdm_notebook(eval_dataloader, desc=\"Evaluating\"):\n"
     ]
    },
    {
     "data": {
      "text/plain": "Evaluating:   0%|          | 0/1530 [00:00<?, ?it/s]",
      "application/vnd.jupyter.widget-view+json": {
       "version_major": 2,
       "version_minor": 0,
       "model_id": "04a465f9811d4d8a858b50cf5ef97fef"
      },
      "application/json": {
       "n": 0,
       "total": 1530,
       "elapsed": 0.003993034362792969,
       "ncols": null,
       "nrows": null,
       "prefix": "Evaluating",
       "ascii": false,
       "unit": "it",
       "unit_scale": false,
       "rate": null,
       "bar_format": null,
       "postfix": null,
       "unit_divisor": 1000,
       "initial": 0,
       "colour": null
      }
     },
     "metadata": {},
     "output_type": "display_data"
    },
    {
     "name": "stderr",
     "output_type": "stream",
     "text": [
      "INFO:LOG:Generating evaluation dataset...\n",
      "INFO:LOG:Creating features from dataframe\n"
     ]
    },
    {
     "name": "stdout",
     "output_type": "stream",
     "text": [
      "           id  seq_starts  seq_ends  label                      text\n",
      "0      717181           0         6      0                    микола\n",
      "1      717181           0         6      1             миколаівськии\n",
      "2      717181           0        19      1       миколаівськии судно\n",
      "3      717181           0        21      1     миколаівськии суднобу\n",
      "4      717181           0        24      1  миколаівськии суднобудів\n",
      "...       ...         ...       ...    ...                       ...\n",
      "12228  717181         509       516      1                 ##ть ново\n",
      "12229  717181         509       519      1              ##ть новость\n",
      "12230  717181         512       516      0                      ново\n",
      "12231  717181         512       519      1                   новость\n",
      "12232  717181         516       519      1                     ##сть\n",
      "\n",
      "[12233 rows x 5 columns]\n",
      "          id  seq_starts  seq_ends  label            text\n",
      "0     717315           0         4      0            може\n",
      "1     717315           0         7      0         може по\n",
      "2     717315           0         9      0       може погі\n",
      "3     717315           0        10      0      може погір\n",
      "4     717315           0        14      0  може погіршити\n",
      "...      ...         ...       ...    ...             ...\n",
      "4452  717315         255       262      0       ##ть ново\n",
      "4453  717315         255       265      0    ##ть новость\n",
      "4454  717315         258       262      0            ново\n",
      "4455  717315         258       265      0         новость\n",
      "4456  717315         262       265      0           ##сть\n",
      "\n",
      "[4457 rows x 5 columns]\n",
      "(4457, 5)\n"
     ]
    },
    {
     "name": "stderr",
     "output_type": "stream",
     "text": [
      "INFO:LOG:Creating TensorDataset from features dataframe\n",
      "C:\\Windows\\Temp\\ipykernel_1144\\1158175120.py:14: TqdmDeprecationWarning: This function will be removed in tqdm==5.0.0\n",
      "Please use `tqdm.notebook.tqdm` instead of `tqdm.tqdm_notebook`\n",
      "  for batch in tqdm_notebook(eval_dataloader, desc=\"Evaluating\"):\n"
     ]
    },
    {
     "data": {
      "text/plain": "Evaluating:   0%|          | 0/558 [00:00<?, ?it/s]",
      "application/vnd.jupyter.widget-view+json": {
       "version_major": 2,
       "version_minor": 0,
       "model_id": "41153e09209b4f85b3eb7cc9d1c52c22"
      },
      "application/json": {
       "n": 0,
       "total": 558,
       "elapsed": 0.00396275520324707,
       "ncols": null,
       "nrows": null,
       "prefix": "Evaluating",
       "ascii": false,
       "unit": "it",
       "unit_scale": false,
       "rate": null,
       "bar_format": null,
       "postfix": null,
       "unit_divisor": 1000,
       "initial": 0,
       "colour": null
      }
     },
     "metadata": {},
     "output_type": "display_data"
    },
    {
     "name": "stderr",
     "output_type": "stream",
     "text": [
      "INFO:LOG:Generating evaluation dataset...\n",
      "INFO:LOG:Creating features from dataframe\n"
     ]
    },
    {
     "name": "stdout",
     "output_type": "stream",
     "text": [
      "          id  seq_starts  seq_ends  label            text\n",
      "0     717315           0         4      0            може\n",
      "1     717315           0         7      1         може по\n",
      "2     717315           0         9      1       може погі\n",
      "3     717315           0        10      1      може погір\n",
      "4     717315           0        14      1  може погіршити\n",
      "...      ...         ...       ...    ...             ...\n",
      "4452  717315         255       262      1       ##ть ново\n",
      "4453  717315         255       265      1    ##ть новость\n",
      "4454  717315         258       262      0            ново\n",
      "4455  717315         258       265      1         новость\n",
      "4456  717315         262       265      1           ##сть\n",
      "\n",
      "[4457 rows x 5 columns]\n",
      "           id  seq_starts  seq_ends  label              text\n",
      "0      717428           0         2      0                об\n",
      "1      717428           0         6      0            обвали\n",
      "2      717428           0        10      0        обвалилася\n",
      "3      717428           0        13      0     обвалилася ст\n",
      "4      717428           0        16      0  обвалилася стеля\n",
      "...       ...         ...       ...    ...               ...\n",
      "10861  717428         407       414      0         ##ть ново\n",
      "10862  717428         407       417      0      ##ть новость\n",
      "10863  717428         410       414      0              ново\n",
      "10864  717428         410       417      0           новость\n",
      "10865  717428         414       417      0             ##сть\n",
      "\n",
      "[10866 rows x 5 columns]\n",
      "(10866, 5)\n"
     ]
    },
    {
     "name": "stderr",
     "output_type": "stream",
     "text": [
      "INFO:LOG:Creating TensorDataset from features dataframe\n",
      "C:\\Windows\\Temp\\ipykernel_1144\\1158175120.py:14: TqdmDeprecationWarning: This function will be removed in tqdm==5.0.0\n",
      "Please use `tqdm.notebook.tqdm` instead of `tqdm.tqdm_notebook`\n",
      "  for batch in tqdm_notebook(eval_dataloader, desc=\"Evaluating\"):\n"
     ]
    },
    {
     "data": {
      "text/plain": "Evaluating:   0%|          | 0/1359 [00:00<?, ?it/s]",
      "application/vnd.jupyter.widget-view+json": {
       "version_major": 2,
       "version_minor": 0,
       "model_id": "0999cde0a5094f299d09194d920b3097"
      },
      "application/json": {
       "n": 0,
       "total": 1359,
       "elapsed": 0.0029997825622558594,
       "ncols": null,
       "nrows": null,
       "prefix": "Evaluating",
       "ascii": false,
       "unit": "it",
       "unit_scale": false,
       "rate": null,
       "bar_format": null,
       "postfix": null,
       "unit_divisor": 1000,
       "initial": 0,
       "colour": null
      }
     },
     "metadata": {},
     "output_type": "display_data"
    },
    {
     "name": "stderr",
     "output_type": "stream",
     "text": [
      "INFO:LOG:Generating evaluation dataset...\n",
      "INFO:LOG:Creating features from dataframe\n"
     ]
    },
    {
     "name": "stdout",
     "output_type": "stream",
     "text": [
      "           id  seq_starts  seq_ends  label              text\n",
      "0      717428           0         2      0                об\n",
      "1      717428           0         6      1            обвали\n",
      "2      717428           0        10      1        обвалилася\n",
      "3      717428           0        13      1     обвалилася ст\n",
      "4      717428           0        16      1  обвалилася стеля\n",
      "...       ...         ...       ...    ...               ...\n",
      "10861  717428         407       414      1         ##ть ново\n",
      "10862  717428         407       417      1      ##ть новость\n",
      "10863  717428         410       414      0              ново\n",
      "10864  717428         410       417      1           новость\n",
      "10865  717428         414       417      1             ##сть\n",
      "\n",
      "[10866 rows x 5 columns]\n",
      "          id  seq_starts  seq_ends  label       text\n",
      "0     717523           0         2      0         бу\n",
      "1     717523           0         2      0      бухии\n",
      "2     717523           0         7      0    бухии ч\n",
      "3     717523           0         8      0   бухии чє\n",
      "4     717523           0         9      0  бухии чєл\n",
      "...      ...         ...       ...    ...        ...\n",
      "3151  717523         264       266      0       ##ар\n",
      "3152  717523         264       268      0     ##арні\n",
      "3153  717523         264       269      0   ##арні .\n",
      "3154  717523         266       268      0       ##ні\n",
      "3155  717523         266       269      0     ##ні .\n",
      "\n",
      "[3156 rows x 5 columns]\n",
      "(3156, 5)\n"
     ]
    },
    {
     "name": "stderr",
     "output_type": "stream",
     "text": [
      "INFO:LOG:Creating TensorDataset from features dataframe\n",
      "C:\\Windows\\Temp\\ipykernel_1144\\1158175120.py:14: TqdmDeprecationWarning: This function will be removed in tqdm==5.0.0\n",
      "Please use `tqdm.notebook.tqdm` instead of `tqdm.tqdm_notebook`\n",
      "  for batch in tqdm_notebook(eval_dataloader, desc=\"Evaluating\"):\n"
     ]
    },
    {
     "data": {
      "text/plain": "Evaluating:   0%|          | 0/395 [00:00<?, ?it/s]",
      "application/vnd.jupyter.widget-view+json": {
       "version_major": 2,
       "version_minor": 0,
       "model_id": "bd9f2002e98045da8a5c944a41b77e43"
      },
      "application/json": {
       "n": 0,
       "total": 395,
       "elapsed": 0.003008604049682617,
       "ncols": null,
       "nrows": null,
       "prefix": "Evaluating",
       "ascii": false,
       "unit": "it",
       "unit_scale": false,
       "rate": null,
       "bar_format": null,
       "postfix": null,
       "unit_divisor": 1000,
       "initial": 0,
       "colour": null
      }
     },
     "metadata": {},
     "output_type": "display_data"
    },
    {
     "name": "stderr",
     "output_type": "stream",
     "text": [
      "INFO:LOG:Generating evaluation dataset...\n",
      "INFO:LOG:Creating features from dataframe\n"
     ]
    },
    {
     "name": "stdout",
     "output_type": "stream",
     "text": [
      "          id  seq_starts  seq_ends  label       text\n",
      "0     717523           0         2      0         бу\n",
      "1     717523           0         2      1      бухии\n",
      "2     717523           0         7      1    бухии ч\n",
      "3     717523           0         8      1   бухии чє\n",
      "4     717523           0         9      1  бухии чєл\n",
      "...      ...         ...       ...    ...        ...\n",
      "3151  717523         264       266      1       ##ар\n",
      "3152  717523         264       268      1     ##арні\n",
      "3153  717523         264       269      1   ##арні .\n",
      "3154  717523         266       268      1       ##ні\n",
      "3155  717523         266       269      0     ##ні .\n",
      "\n",
      "[3156 rows x 5 columns]\n",
      "          id  seq_starts  seq_ends  label           text\n",
      "0     717533           0         6      0         зробив\n",
      "1     717533           0         8      0       зробив д\n",
      "2     717533           0         9      0      зробив дт\n",
      "3     717533           0        10      0     зробив дтп\n",
      "4     717533           0        13      0  зробив дтп із\n",
      "...      ...         ...       ...    ...            ...\n",
      "9716  717533         382       388      0       ##тельно\n",
      "9717  717533         382       389      0      ##тельною\n",
      "9718  717533         382       390      0    ##тельною .\n",
      "9719  717533         388       389      0            ##ю\n",
      "9720  717533         388       390      0          ##ю .\n",
      "\n",
      "[9721 rows x 5 columns]\n",
      "(9721, 5)\n"
     ]
    },
    {
     "name": "stderr",
     "output_type": "stream",
     "text": [
      "INFO:LOG:Creating TensorDataset from features dataframe\n",
      "C:\\Windows\\Temp\\ipykernel_1144\\1158175120.py:14: TqdmDeprecationWarning: This function will be removed in tqdm==5.0.0\n",
      "Please use `tqdm.notebook.tqdm` instead of `tqdm.tqdm_notebook`\n",
      "  for batch in tqdm_notebook(eval_dataloader, desc=\"Evaluating\"):\n"
     ]
    },
    {
     "data": {
      "text/plain": "Evaluating:   0%|          | 0/1216 [00:00<?, ?it/s]",
      "application/vnd.jupyter.widget-view+json": {
       "version_major": 2,
       "version_minor": 0,
       "model_id": "0554e5a4705a4901895b54d013e993ef"
      },
      "application/json": {
       "n": 0,
       "total": 1216,
       "elapsed": 0.005002021789550781,
       "ncols": null,
       "nrows": null,
       "prefix": "Evaluating",
       "ascii": false,
       "unit": "it",
       "unit_scale": false,
       "rate": null,
       "bar_format": null,
       "postfix": null,
       "unit_divisor": 1000,
       "initial": 0,
       "colour": null
      }
     },
     "metadata": {},
     "output_type": "display_data"
    },
    {
     "name": "stderr",
     "output_type": "stream",
     "text": [
      "INFO:LOG:Generating evaluation dataset...\n",
      "INFO:LOG:Creating features from dataframe\n"
     ]
    },
    {
     "name": "stdout",
     "output_type": "stream",
     "text": [
      "          id  seq_starts  seq_ends  label           text\n",
      "0     717533           0         6      0         зробив\n",
      "1     717533           0         8      1       зробив д\n",
      "2     717533           0         9      1      зробив дт\n",
      "3     717533           0        10      1     зробив дтп\n",
      "4     717533           0        13      1  зробив дтп із\n",
      "...      ...         ...       ...    ...            ...\n",
      "9716  717533         382       388      1       ##тельно\n",
      "9717  717533         382       389      1      ##тельною\n",
      "9718  717533         382       390      0    ##тельною .\n",
      "9719  717533         388       389      1            ##ю\n",
      "9720  717533         388       390      0          ##ю .\n",
      "\n",
      "[9721 rows x 5 columns]\n",
      "          id  seq_starts  seq_ends  label             text\n",
      "0     717610           0         4      0             буде\n",
      "1     717610           0         6      0           будемо\n",
      "2     717610           0         9      0        будемо ло\n",
      "3     717610           0        13      0    будемо ловити\n",
      "4     717610           0        15      0  будемо ловити у\n",
      "...      ...         ...       ...    ...              ...\n",
      "4254  717610         277        94      0        більшии \"\n",
      "4255  717610         277       134      0      більшии \" .\n",
      "4256  717610          -1         1      0             ##ии\n",
      "4257  717610          -1        94      0           ##ии \"\n",
      "4258  717610          -1       134      0         ##ии \" .\n",
      "\n",
      "[4259 rows x 5 columns]\n",
      "(4259, 5)\n"
     ]
    },
    {
     "name": "stderr",
     "output_type": "stream",
     "text": [
      "INFO:LOG:Creating TensorDataset from features dataframe\n",
      "C:\\Windows\\Temp\\ipykernel_1144\\1158175120.py:14: TqdmDeprecationWarning: This function will be removed in tqdm==5.0.0\n",
      "Please use `tqdm.notebook.tqdm` instead of `tqdm.tqdm_notebook`\n",
      "  for batch in tqdm_notebook(eval_dataloader, desc=\"Evaluating\"):\n"
     ]
    },
    {
     "data": {
      "text/plain": "Evaluating:   0%|          | 0/533 [00:00<?, ?it/s]",
      "application/vnd.jupyter.widget-view+json": {
       "version_major": 2,
       "version_minor": 0,
       "model_id": "dc7ff70de2af428d93566e680e45b920"
      },
      "application/json": {
       "n": 0,
       "total": 533,
       "elapsed": 0.0039632320404052734,
       "ncols": null,
       "nrows": null,
       "prefix": "Evaluating",
       "ascii": false,
       "unit": "it",
       "unit_scale": false,
       "rate": null,
       "bar_format": null,
       "postfix": null,
       "unit_divisor": 1000,
       "initial": 0,
       "colour": null
      }
     },
     "metadata": {},
     "output_type": "display_data"
    },
    {
     "name": "stderr",
     "output_type": "stream",
     "text": [
      "INFO:LOG:Generating evaluation dataset...\n"
     ]
    },
    {
     "name": "stdout",
     "output_type": "stream",
     "text": [
      "          id  seq_starts  seq_ends  label             text\n",
      "0     717610           0         4      0             буде\n",
      "1     717610           0         6      1           будемо\n",
      "2     717610           0         9      1        будемо ло\n",
      "3     717610           0        13      1    будемо ловити\n",
      "4     717610           0        15      1  будемо ловити у\n",
      "...      ...         ...       ...    ...              ...\n",
      "4254  717610         277        94      1        більшии \"\n",
      "4255  717610         277       134      0      більшии \" .\n",
      "4256  717610          -1         1      1             ##ии\n",
      "4257  717610          -1        94      1           ##ии \"\n",
      "4258  717610          -1       134      0         ##ии \" .\n",
      "\n",
      "[4259 rows x 5 columns]\n"
     ]
    },
    {
     "name": "stderr",
     "output_type": "stream",
     "text": [
      "INFO:LOG:Creating features from dataframe\n"
     ]
    },
    {
     "name": "stdout",
     "output_type": "stream",
     "text": [
      "           id  seq_starts  seq_ends  label                 text\n",
      "0      717690           0         2      0                   сп\n",
      "1      717690           0         5      0                спала\n",
      "2      717690           0         6      0               спалах\n",
      "3      717690           0        13      0        спалах африка\n",
      "4      717690           0         5      0  спалах африканськоі\n",
      "...       ...         ...       ...    ...                  ...\n",
      "12543  717690         494       501      0            ##ть ново\n",
      "12544  717690         494       504      0         ##ть новость\n",
      "12545  717690         497       501      0                 ново\n",
      "12546  717690         497       504      0              новость\n",
      "12547  717690         501       504      0                ##сть\n",
      "\n",
      "[12548 rows x 5 columns]\n",
      "(12548, 5)\n"
     ]
    },
    {
     "name": "stderr",
     "output_type": "stream",
     "text": [
      "INFO:LOG:Creating TensorDataset from features dataframe\n",
      "C:\\Windows\\Temp\\ipykernel_1144\\1158175120.py:14: TqdmDeprecationWarning: This function will be removed in tqdm==5.0.0\n",
      "Please use `tqdm.notebook.tqdm` instead of `tqdm.tqdm_notebook`\n",
      "  for batch in tqdm_notebook(eval_dataloader, desc=\"Evaluating\"):\n"
     ]
    },
    {
     "data": {
      "text/plain": "Evaluating:   0%|          | 0/1569 [00:00<?, ?it/s]",
      "application/vnd.jupyter.widget-view+json": {
       "version_major": 2,
       "version_minor": 0,
       "model_id": "dd93e5bff2ff4c199b4366b28373743b"
      },
      "application/json": {
       "n": 0,
       "total": 1569,
       "elapsed": 0.00399470329284668,
       "ncols": null,
       "nrows": null,
       "prefix": "Evaluating",
       "ascii": false,
       "unit": "it",
       "unit_scale": false,
       "rate": null,
       "bar_format": null,
       "postfix": null,
       "unit_divisor": 1000,
       "initial": 0,
       "colour": null
      }
     },
     "metadata": {},
     "output_type": "display_data"
    },
    {
     "name": "stderr",
     "output_type": "stream",
     "text": [
      "INFO:LOG:Generating evaluation dataset...\n",
      "INFO:LOG:Creating features from dataframe\n"
     ]
    },
    {
     "name": "stdout",
     "output_type": "stream",
     "text": [
      "           id  seq_starts  seq_ends  label                 text\n",
      "0      717690           0         2      0                   сп\n",
      "1      717690           0         5      1                спала\n",
      "2      717690           0         6      1               спалах\n",
      "3      717690           0        13      1        спалах африка\n",
      "4      717690           0         5      1  спалах африканськоі\n",
      "...       ...         ...       ...    ...                  ...\n",
      "12543  717690         494       501      1            ##ть ново\n",
      "12544  717690         494       504      1         ##ть новость\n",
      "12545  717690         497       501      0                 ново\n",
      "12546  717690         497       504      1              новость\n",
      "12547  717690         501       504      1                ##сть\n",
      "\n",
      "[12548 rows x 5 columns]\n",
      "          id  seq_starts  seq_ends  label            text\n",
      "0     717871           0         3      0             366\n",
      "1     717871           0         6      0          366 ви\n",
      "2     717871           0         9      0       366 випад\n",
      "3     717871           0        12      0    366 випадків\n",
      "4     717871           0        14      0  366 випадків с\n",
      "...      ...         ...       ...    ...             ...\n",
      "3994  717871         279       286      0       ##ть ново\n",
      "3995  717871         279       289      0    ##ть новость\n",
      "3996  717871         282       286      0            ново\n",
      "3997  717871         282       289      0         новость\n",
      "3998  717871         286       289      0           ##сть\n",
      "\n",
      "[3999 rows x 5 columns]\n",
      "(3999, 5)\n"
     ]
    },
    {
     "name": "stderr",
     "output_type": "stream",
     "text": [
      "INFO:LOG:Creating TensorDataset from features dataframe\n",
      "C:\\Windows\\Temp\\ipykernel_1144\\1158175120.py:14: TqdmDeprecationWarning: This function will be removed in tqdm==5.0.0\n",
      "Please use `tqdm.notebook.tqdm` instead of `tqdm.tqdm_notebook`\n",
      "  for batch in tqdm_notebook(eval_dataloader, desc=\"Evaluating\"):\n"
     ]
    },
    {
     "data": {
      "text/plain": "Evaluating:   0%|          | 0/500 [00:00<?, ?it/s]",
      "application/vnd.jupyter.widget-view+json": {
       "version_major": 2,
       "version_minor": 0,
       "model_id": "b1a7064707214dd3a6a96a2d04cd3ca8"
      },
      "application/json": {
       "n": 0,
       "total": 500,
       "elapsed": 0.004001617431640625,
       "ncols": null,
       "nrows": null,
       "prefix": "Evaluating",
       "ascii": false,
       "unit": "it",
       "unit_scale": false,
       "rate": null,
       "bar_format": null,
       "postfix": null,
       "unit_divisor": 1000,
       "initial": 0,
       "colour": null
      }
     },
     "metadata": {},
     "output_type": "display_data"
    },
    {
     "name": "stderr",
     "output_type": "stream",
     "text": [
      "INFO:LOG:Generating evaluation dataset...\n",
      "INFO:LOG:Creating features from dataframe\n"
     ]
    },
    {
     "name": "stdout",
     "output_type": "stream",
     "text": [
      "          id  seq_starts  seq_ends  label            text\n",
      "0     717871           0         3      0             366\n",
      "1     717871           0         6      1          366 ви\n",
      "2     717871           0         9      1       366 випад\n",
      "3     717871           0        12      1    366 випадків\n",
      "4     717871           0        14      1  366 випадків с\n",
      "...      ...         ...       ...    ...             ...\n",
      "3994  717871         279       286      1       ##ть ново\n",
      "3995  717871         279       289      1    ##ть новость\n",
      "3996  717871         282       286      0            ново\n",
      "3997  717871         282       289      1         новость\n",
      "3998  717871         286       289      1           ##сть\n",
      "\n",
      "[3999 rows x 5 columns]\n",
      "          id  seq_starts  seq_ends  label          text\n",
      "0     718060           0         1      0             п\n",
      "1     718060           0         2      0            пз\n",
      "2     718060           0         3      0           пзд\n",
      "3     718060           0         4      0          пздц\n",
      "4     718060           0         5      0        пздц !\n",
      "...      ...         ...       ...    ...           ...\n",
      "9574  718060         377       384      0     ##ть ново\n",
      "9575  718060         377       387      0  ##ть новость\n",
      "9576  718060         380       384      0          ново\n",
      "9577  718060         380       387      0       новость\n",
      "9578  718060         384       387      0         ##сть\n",
      "\n",
      "[9579 rows x 5 columns]\n",
      "(9579, 5)\n"
     ]
    },
    {
     "name": "stderr",
     "output_type": "stream",
     "text": [
      "INFO:LOG:Creating TensorDataset from features dataframe\n",
      "C:\\Windows\\Temp\\ipykernel_1144\\1158175120.py:14: TqdmDeprecationWarning: This function will be removed in tqdm==5.0.0\n",
      "Please use `tqdm.notebook.tqdm` instead of `tqdm.tqdm_notebook`\n",
      "  for batch in tqdm_notebook(eval_dataloader, desc=\"Evaluating\"):\n"
     ]
    },
    {
     "data": {
      "text/plain": "Evaluating:   0%|          | 0/1198 [00:00<?, ?it/s]",
      "application/vnd.jupyter.widget-view+json": {
       "version_major": 2,
       "version_minor": 0,
       "model_id": "8391950cdbbc4c8b83af089459924bef"
      },
      "application/json": {
       "n": 0,
       "total": 1198,
       "elapsed": 0.004966259002685547,
       "ncols": null,
       "nrows": null,
       "prefix": "Evaluating",
       "ascii": false,
       "unit": "it",
       "unit_scale": false,
       "rate": null,
       "bar_format": null,
       "postfix": null,
       "unit_divisor": 1000,
       "initial": 0,
       "colour": null
      }
     },
     "metadata": {},
     "output_type": "display_data"
    },
    {
     "name": "stderr",
     "output_type": "stream",
     "text": [
      "INFO:LOG:Generating evaluation dataset...\n",
      "INFO:LOG:Creating features from dataframe\n"
     ]
    },
    {
     "name": "stdout",
     "output_type": "stream",
     "text": [
      "          id  seq_starts  seq_ends  label          text\n",
      "0     718060           0         1      0             п\n",
      "1     718060           0         2      1            пз\n",
      "2     718060           0         3      1           пзд\n",
      "3     718060           0         4      1          пздц\n",
      "4     718060           0         5      1        пздц !\n",
      "...      ...         ...       ...    ...           ...\n",
      "9574  718060         377       384      1     ##ть ново\n",
      "9575  718060         377       387      1  ##ть новость\n",
      "9576  718060         380       384      0          ново\n",
      "9577  718060         380       387      1       новость\n",
      "9578  718060         384       387      1         ##сть\n",
      "\n",
      "[9579 rows x 5 columns]\n",
      "          id  seq_starts  seq_ends  label             text\n",
      "0     718132           0         5      0            агент\n",
      "1     718132           0         6      0           агента\n",
      "2     718132           0         9      0        агента рф\n",
      "3     718132           0        12      0     агента рф за\n",
      "4     718132           0        15      0  агента рф затри\n",
      "...      ...         ...       ...    ...              ...\n",
      "3732  718132         242       249      0        ##ть ново\n",
      "3733  718132         242       252      0     ##ть новость\n",
      "3734  718132         245       249      0             ново\n",
      "3735  718132         245       252      0          новость\n",
      "3736  718132         249       252      0            ##сть\n",
      "\n",
      "[3737 rows x 5 columns]\n",
      "(3737, 5)\n"
     ]
    },
    {
     "name": "stderr",
     "output_type": "stream",
     "text": [
      "INFO:LOG:Creating TensorDataset from features dataframe\n",
      "C:\\Windows\\Temp\\ipykernel_1144\\1158175120.py:14: TqdmDeprecationWarning: This function will be removed in tqdm==5.0.0\n",
      "Please use `tqdm.notebook.tqdm` instead of `tqdm.tqdm_notebook`\n",
      "  for batch in tqdm_notebook(eval_dataloader, desc=\"Evaluating\"):\n"
     ]
    },
    {
     "data": {
      "text/plain": "Evaluating:   0%|          | 0/468 [00:00<?, ?it/s]",
      "application/vnd.jupyter.widget-view+json": {
       "version_major": 2,
       "version_minor": 0,
       "model_id": "cc9c882a8d7a4053951ee9578d82faf0"
      },
      "application/json": {
       "n": 0,
       "total": 468,
       "elapsed": 0.004029512405395508,
       "ncols": null,
       "nrows": null,
       "prefix": "Evaluating",
       "ascii": false,
       "unit": "it",
       "unit_scale": false,
       "rate": null,
       "bar_format": null,
       "postfix": null,
       "unit_divisor": 1000,
       "initial": 0,
       "colour": null
      }
     },
     "metadata": {},
     "output_type": "display_data"
    },
    {
     "name": "stderr",
     "output_type": "stream",
     "text": [
      "INFO:LOG:Generating evaluation dataset...\n",
      "INFO:LOG:Creating features from dataframe\n"
     ]
    },
    {
     "name": "stdout",
     "output_type": "stream",
     "text": [
      "          id  seq_starts  seq_ends  label             text\n",
      "0     718132           0         5      0            агент\n",
      "1     718132           0         6      1           агента\n",
      "2     718132           0         9      1        агента рф\n",
      "3     718132           0        12      1     агента рф за\n",
      "4     718132           0        15      1  агента рф затри\n",
      "...      ...         ...       ...    ...              ...\n",
      "3732  718132         242       249      1        ##ть ново\n",
      "3733  718132         242       252      1     ##ть новость\n",
      "3734  718132         245       249      0             ново\n",
      "3735  718132         245       252      1          новость\n",
      "3736  718132         249       252      1            ##сть\n",
      "\n",
      "[3737 rows x 5 columns]\n",
      "          id  seq_starts  seq_ends  label          text\n",
      "0     718142           0         1      0             т\n",
      "1     718142           0         3      0           тро\n",
      "2     718142           0         5      0         трощи\n",
      "3     718142           0         6      0        трощив\n",
      "4     718142           0        10      0    трощив мог\n",
      "...      ...         ...       ...    ...           ...\n",
      "7006  718142         331       338      0     ##ть ново\n",
      "7007  718142         331       341      0  ##ть новость\n",
      "7008  718142         334       338      0          ново\n",
      "7009  718142         334       341      0       новость\n",
      "7010  718142         338       341      0         ##сть\n",
      "\n",
      "[7011 rows x 5 columns]\n",
      "(7011, 5)\n"
     ]
    },
    {
     "name": "stderr",
     "output_type": "stream",
     "text": [
      "INFO:LOG:Creating TensorDataset from features dataframe\n",
      "C:\\Windows\\Temp\\ipykernel_1144\\1158175120.py:14: TqdmDeprecationWarning: This function will be removed in tqdm==5.0.0\n",
      "Please use `tqdm.notebook.tqdm` instead of `tqdm.tqdm_notebook`\n",
      "  for batch in tqdm_notebook(eval_dataloader, desc=\"Evaluating\"):\n"
     ]
    },
    {
     "data": {
      "text/plain": "Evaluating:   0%|          | 0/877 [00:00<?, ?it/s]",
      "application/vnd.jupyter.widget-view+json": {
       "version_major": 2,
       "version_minor": 0,
       "model_id": "a9bb44978e004f47a88765e6621b0523"
      },
      "application/json": {
       "n": 0,
       "total": 877,
       "elapsed": 0.003998517990112305,
       "ncols": null,
       "nrows": null,
       "prefix": "Evaluating",
       "ascii": false,
       "unit": "it",
       "unit_scale": false,
       "rate": null,
       "bar_format": null,
       "postfix": null,
       "unit_divisor": 1000,
       "initial": 0,
       "colour": null
      }
     },
     "metadata": {},
     "output_type": "display_data"
    },
    {
     "name": "stderr",
     "output_type": "stream",
     "text": [
      "INFO:LOG:Generating evaluation dataset...\n"
     ]
    },
    {
     "name": "stdout",
     "output_type": "stream",
     "text": [
      "          id  seq_starts  seq_ends  label          text\n",
      "0     718142           0         1      0             т\n",
      "1     718142           0         3      1           тро\n",
      "2     718142           0         5      1         трощи\n",
      "3     718142           0         6      1        трощив\n",
      "4     718142           0        10      1    трощив мог\n",
      "...      ...         ...       ...    ...           ...\n",
      "7006  718142         331       338      1     ##ть ново\n",
      "7007  718142         331       341      1  ##ть новость\n",
      "7008  718142         334       338      0          ново\n",
      "7009  718142         334       341      1       новость\n",
      "7010  718142         338       341      1         ##сть\n",
      "\n",
      "[7011 rows x 5 columns]\n"
     ]
    },
    {
     "name": "stderr",
     "output_type": "stream",
     "text": [
      "INFO:LOG:Creating features from dataframe\n"
     ]
    },
    {
     "name": "stdout",
     "output_type": "stream",
     "text": [
      "           id  seq_starts  seq_ends  label                   text\n",
      "0      718354           0         8      0               компанія\n",
      "1      718354           0        10      0             компанія з\n",
      "2      718354           0        14      0         компанія з рос\n",
      "3      718354           0         1      0       компанія з росіи\n",
      "4      718354           0        21      0  компанія з росіиським\n",
      "...       ...         ...       ...    ...                    ...\n",
      "89225  718354        1318      1321      0                  ##бак\n",
      "89226  718354        1318      1323      0                ##баков\n",
      "89227  718354        1318      1324      0              ##баков .\n",
      "89228  718354        1321      1323      0                   ##ов\n",
      "89229  718354        1321      1324      0                 ##ов .\n",
      "\n",
      "[89230 rows x 5 columns]\n",
      "(89230, 5)\n"
     ]
    },
    {
     "name": "stderr",
     "output_type": "stream",
     "text": [
      "INFO:LOG:Creating TensorDataset from features dataframe\n",
      "C:\\Windows\\Temp\\ipykernel_1144\\1158175120.py:14: TqdmDeprecationWarning: This function will be removed in tqdm==5.0.0\n",
      "Please use `tqdm.notebook.tqdm` instead of `tqdm.tqdm_notebook`\n",
      "  for batch in tqdm_notebook(eval_dataloader, desc=\"Evaluating\"):\n"
     ]
    },
    {
     "data": {
      "text/plain": "Evaluating:   0%|          | 0/11154 [00:00<?, ?it/s]",
      "application/vnd.jupyter.widget-view+json": {
       "version_major": 2,
       "version_minor": 0,
       "model_id": "aca68b9126714fa8b5337bd923ef75ca"
      },
      "application/json": {
       "n": 0,
       "total": 11154,
       "elapsed": 0.004026651382446289,
       "ncols": null,
       "nrows": null,
       "prefix": "Evaluating",
       "ascii": false,
       "unit": "it",
       "unit_scale": false,
       "rate": null,
       "bar_format": null,
       "postfix": null,
       "unit_divisor": 1000,
       "initial": 0,
       "colour": null
      }
     },
     "metadata": {},
     "output_type": "display_data"
    },
    {
     "name": "stderr",
     "output_type": "stream",
     "text": [
      "INFO:LOG:Generating evaluation dataset...\n"
     ]
    },
    {
     "name": "stdout",
     "output_type": "stream",
     "text": [
      "           id  seq_starts  seq_ends  label                   text\n",
      "0      718354           0         8      0               компанія\n",
      "1      718354           0        10      1             компанія з\n",
      "2      718354           0        14      1         компанія з рос\n",
      "3      718354           0         1      1       компанія з росіи\n",
      "4      718354           0        21      1  компанія з росіиським\n",
      "...       ...         ...       ...    ...                    ...\n",
      "89225  718354        1318      1321      1                  ##бак\n",
      "89226  718354        1318      1323      1                ##баков\n",
      "89227  718354        1318      1324      0              ##баков .\n",
      "89228  718354        1321      1323      1                   ##ов\n",
      "89229  718354        1321      1324      0                 ##ов .\n",
      "\n",
      "[89230 rows x 5 columns]\n"
     ]
    },
    {
     "name": "stderr",
     "output_type": "stream",
     "text": [
      "INFO:LOG:Creating features from dataframe\n"
     ]
    },
    {
     "name": "stdout",
     "output_type": "stream",
     "text": [
      "           id  seq_starts  seq_ends  label             text\n",
      "0      742432           0         2      0               ок\n",
      "1      742432           0         4      0             окру\n",
      "2      742432           0         9      0        окружение\n",
      "3      742432           0        11      0      окружение з\n",
      "4      742432           0        15      0  окружение зелен\n",
      "...       ...         ...       ...    ...              ...\n",
      "95656  742432        1448      1453      0          ##бинск\n",
      "95657  742432        1448         1      0        ##бинскии\n",
      "95658  742432        1448       204      0      ##бинскии .\n",
      "95659  742432          -1         1      0             ##ии\n",
      "95660  742432          -1       204      0           ##ии .\n",
      "\n",
      "[95661 rows x 5 columns]\n",
      "(95661, 5)\n"
     ]
    },
    {
     "name": "stderr",
     "output_type": "stream",
     "text": [
      "INFO:LOG:Creating TensorDataset from features dataframe\n",
      "C:\\Windows\\Temp\\ipykernel_1144\\1158175120.py:14: TqdmDeprecationWarning: This function will be removed in tqdm==5.0.0\n",
      "Please use `tqdm.notebook.tqdm` instead of `tqdm.tqdm_notebook`\n",
      "  for batch in tqdm_notebook(eval_dataloader, desc=\"Evaluating\"):\n"
     ]
    },
    {
     "data": {
      "text/plain": "Evaluating:   0%|          | 0/11958 [00:00<?, ?it/s]",
      "application/vnd.jupyter.widget-view+json": {
       "version_major": 2,
       "version_minor": 0,
       "model_id": "0719a419bbaa4038b2eeb8bfe0d683b3"
      },
      "application/json": {
       "n": 0,
       "total": 11958,
       "elapsed": 0.0039942264556884766,
       "ncols": null,
       "nrows": null,
       "prefix": "Evaluating",
       "ascii": false,
       "unit": "it",
       "unit_scale": false,
       "rate": null,
       "bar_format": null,
       "postfix": null,
       "unit_divisor": 1000,
       "initial": 0,
       "colour": null
      }
     },
     "metadata": {},
     "output_type": "display_data"
    },
    {
     "name": "stderr",
     "output_type": "stream",
     "text": [
      "INFO:LOG:Generating evaluation dataset...\n",
      "INFO:LOG:Creating features from dataframe\n"
     ]
    },
    {
     "name": "stdout",
     "output_type": "stream",
     "text": [
      "           id  seq_starts  seq_ends  label             text\n",
      "0      742432           0         2      0               ок\n",
      "1      742432           0         4      1             окру\n",
      "2      742432           0         9      1        окружение\n",
      "3      742432           0        11      1      окружение з\n",
      "4      742432           0        15      1  окружение зелен\n",
      "...       ...         ...       ...    ...              ...\n",
      "95656  742432        1448      1453      1          ##бинск\n",
      "95657  742432        1448         1      1        ##бинскии\n",
      "95658  742432        1448       204      0      ##бинскии .\n",
      "95659  742432          -1         1      1             ##ии\n",
      "95660  742432          -1       204      0           ##ии .\n",
      "\n",
      "[95661 rows x 5 columns]\n",
      "          id  seq_starts  seq_ends  label            text\n",
      "0     745402           0         1      0               з\n",
      "1     745402           0         4      0            збив\n",
      "2     745402           0         9      0       збив люди\n",
      "3     745402           0        11      0     збив людину\n",
      "4     745402           0        14      0  збив людину та\n",
      "...      ...         ...       ...    ...             ...\n",
      "2691  745402         212       219      0       ##ть ново\n",
      "2692  745402         212       222      0    ##ть новость\n",
      "2693  745402         215       219      0            ново\n",
      "2694  745402         215       222      0         новость\n",
      "2695  745402         219       222      0           ##сть\n",
      "\n",
      "[2696 rows x 5 columns]\n",
      "(2696, 5)\n"
     ]
    },
    {
     "name": "stderr",
     "output_type": "stream",
     "text": [
      "INFO:LOG:Creating TensorDataset from features dataframe\n",
      "C:\\Windows\\Temp\\ipykernel_1144\\1158175120.py:14: TqdmDeprecationWarning: This function will be removed in tqdm==5.0.0\n",
      "Please use `tqdm.notebook.tqdm` instead of `tqdm.tqdm_notebook`\n",
      "  for batch in tqdm_notebook(eval_dataloader, desc=\"Evaluating\"):\n"
     ]
    },
    {
     "data": {
      "text/plain": "Evaluating:   0%|          | 0/337 [00:00<?, ?it/s]",
      "application/vnd.jupyter.widget-view+json": {
       "version_major": 2,
       "version_minor": 0,
       "model_id": "147991fd44c949e78dfc1d4b71f21c52"
      },
      "application/json": {
       "n": 0,
       "total": 337,
       "elapsed": 0.003992557525634766,
       "ncols": null,
       "nrows": null,
       "prefix": "Evaluating",
       "ascii": false,
       "unit": "it",
       "unit_scale": false,
       "rate": null,
       "bar_format": null,
       "postfix": null,
       "unit_divisor": 1000,
       "initial": 0,
       "colour": null
      }
     },
     "metadata": {},
     "output_type": "display_data"
    },
    {
     "name": "stderr",
     "output_type": "stream",
     "text": [
      "INFO:LOG:Generating evaluation dataset...\n",
      "INFO:LOG:Creating features from dataframe\n"
     ]
    },
    {
     "name": "stdout",
     "output_type": "stream",
     "text": [
      "          id  seq_starts  seq_ends  label            text\n",
      "0     745402           0         1      0               з\n",
      "1     745402           0         4      1            збив\n",
      "2     745402           0         9      1       збив люди\n",
      "3     745402           0        11      1     збив людину\n",
      "4     745402           0        14      1  збив людину та\n",
      "...      ...         ...       ...    ...             ...\n",
      "2691  745402         212       219      1       ##ть ново\n",
      "2692  745402         212       222      1    ##ть новость\n",
      "2693  745402         215       219      0            ново\n",
      "2694  745402         215       222      1         новость\n",
      "2695  745402         219       222      1           ##сть\n",
      "\n",
      "[2696 rows x 5 columns]\n",
      "          id  seq_starts  seq_ends  label            text\n",
      "0     745876           0         2      0              зв\n",
      "1     745876           0         4      0            звер\n",
      "2     745876           0         9      0       звернення\n",
      "3     745876           0        11      0     звернення х\n",
      "4     745876           0        14      0  звернення хаті\n",
      "...      ...         ...       ...    ...             ...\n",
      "4173  745876         257       263      0          контен\n",
      "4174  745876         257       264      0         контент\n",
      "4175  745876         260       263      0           ##тен\n",
      "4176  745876         260       264      0          ##тент\n",
      "4177  745876         263       264      0             ##т\n",
      "\n",
      "[4178 rows x 5 columns]\n",
      "(4178, 5)\n"
     ]
    },
    {
     "name": "stderr",
     "output_type": "stream",
     "text": [
      "INFO:LOG:Creating TensorDataset from features dataframe\n",
      "C:\\Windows\\Temp\\ipykernel_1144\\1158175120.py:14: TqdmDeprecationWarning: This function will be removed in tqdm==5.0.0\n",
      "Please use `tqdm.notebook.tqdm` instead of `tqdm.tqdm_notebook`\n",
      "  for batch in tqdm_notebook(eval_dataloader, desc=\"Evaluating\"):\n"
     ]
    },
    {
     "data": {
      "text/plain": "Evaluating:   0%|          | 0/523 [00:00<?, ?it/s]",
      "application/vnd.jupyter.widget-view+json": {
       "version_major": 2,
       "version_minor": 0,
       "model_id": "821706c5ccf2433d9f1f544bfae89766"
      },
      "application/json": {
       "n": 0,
       "total": 523,
       "elapsed": 0.005032539367675781,
       "ncols": null,
       "nrows": null,
       "prefix": "Evaluating",
       "ascii": false,
       "unit": "it",
       "unit_scale": false,
       "rate": null,
       "bar_format": null,
       "postfix": null,
       "unit_divisor": 1000,
       "initial": 0,
       "colour": null
      }
     },
     "metadata": {},
     "output_type": "display_data"
    },
    {
     "name": "stderr",
     "output_type": "stream",
     "text": [
      "INFO:LOG:Generating evaluation dataset...\n",
      "INFO:LOG:Creating features from dataframe\n"
     ]
    },
    {
     "name": "stdout",
     "output_type": "stream",
     "text": [
      "          id  seq_starts  seq_ends  label            text\n",
      "0     745876           0         2      0              зв\n",
      "1     745876           0         4      1            звер\n",
      "2     745876           0         9      1       звернення\n",
      "3     745876           0        11      1     звернення х\n",
      "4     745876           0        14      1  звернення хаті\n",
      "...      ...         ...       ...    ...             ...\n",
      "4173  745876         257       263      1          контен\n",
      "4174  745876         257       264      1         контент\n",
      "4175  745876         260       263      1           ##тен\n",
      "4176  745876         260       264      1          ##тент\n",
      "4177  745876         263       264      1             ##т\n",
      "\n",
      "[4178 rows x 5 columns]\n",
      "          id  seq_starts  seq_ends  label            text\n",
      "0     745974           0         1      0               з\n",
      "1     745974           0         4      0            зрад\n",
      "2     745974           0         7      0         зрадник\n",
      "3     745974           0        10      0      зрадник із\n",
      "4     745974           0        14      0  зрадник із дні\n",
      "...      ...         ...       ...    ...             ...\n",
      "6545  745974         344       351      0       ##ть ново\n",
      "6546  745974         344       354      0    ##ть новость\n",
      "6547  745974         347       351      0            ново\n",
      "6548  745974         347       354      0         новость\n",
      "6549  745974         351       354      0           ##сть\n",
      "\n",
      "[6550 rows x 5 columns]\n",
      "(6550, 5)\n"
     ]
    },
    {
     "name": "stderr",
     "output_type": "stream",
     "text": [
      "INFO:LOG:Creating TensorDataset from features dataframe\n",
      "C:\\Windows\\Temp\\ipykernel_1144\\1158175120.py:14: TqdmDeprecationWarning: This function will be removed in tqdm==5.0.0\n",
      "Please use `tqdm.notebook.tqdm` instead of `tqdm.tqdm_notebook`\n",
      "  for batch in tqdm_notebook(eval_dataloader, desc=\"Evaluating\"):\n"
     ]
    },
    {
     "data": {
      "text/plain": "Evaluating:   0%|          | 0/819 [00:00<?, ?it/s]",
      "application/vnd.jupyter.widget-view+json": {
       "version_major": 2,
       "version_minor": 0,
       "model_id": "8bc64792973041419eb38d64696a3b22"
      },
      "application/json": {
       "n": 0,
       "total": 819,
       "elapsed": 0.003002166748046875,
       "ncols": null,
       "nrows": null,
       "prefix": "Evaluating",
       "ascii": false,
       "unit": "it",
       "unit_scale": false,
       "rate": null,
       "bar_format": null,
       "postfix": null,
       "unit_divisor": 1000,
       "initial": 0,
       "colour": null
      }
     },
     "metadata": {},
     "output_type": "display_data"
    },
    {
     "name": "stderr",
     "output_type": "stream",
     "text": [
      "INFO:LOG:Generating evaluation dataset...\n",
      "INFO:LOG:Creating features from dataframe\n"
     ]
    },
    {
     "name": "stdout",
     "output_type": "stream",
     "text": [
      "          id  seq_starts  seq_ends  label            text\n",
      "0     745974           0         1      0               з\n",
      "1     745974           0         4      1            зрад\n",
      "2     745974           0         7      1         зрадник\n",
      "3     745974           0        10      1      зрадник із\n",
      "4     745974           0        14      1  зрадник із дні\n",
      "...      ...         ...       ...    ...             ...\n",
      "6545  745974         344       351      1       ##ть ново\n",
      "6546  745974         344       354      1    ##ть новость\n",
      "6547  745974         347       351      0            ново\n",
      "6548  745974         347       354      1         новость\n",
      "6549  745974         351       354      1           ##сть\n",
      "\n",
      "[6550 rows x 5 columns]\n",
      "          id  seq_starts  seq_ends  label          text\n",
      "0     746033           0         1      0             п\n",
      "1     746033           0         2      0            пз\n",
      "2     746033           0         3      0           пзд\n",
      "3     746033           0         4      0          пздц\n",
      "4     746033           0         5      0        пздц .\n",
      "...      ...         ...       ...    ...           ...\n",
      "3991  746033         221       228      0     ##ть ново\n",
      "3992  746033         221       231      0  ##ть новость\n",
      "3993  746033         224       228      0          ново\n",
      "3994  746033         224       231      0       новость\n",
      "3995  746033         228       231      0         ##сть\n",
      "\n",
      "[3996 rows x 5 columns]\n",
      "(3996, 5)\n"
     ]
    },
    {
     "name": "stderr",
     "output_type": "stream",
     "text": [
      "INFO:LOG:Creating TensorDataset from features dataframe\n",
      "C:\\Windows\\Temp\\ipykernel_1144\\1158175120.py:14: TqdmDeprecationWarning: This function will be removed in tqdm==5.0.0\n",
      "Please use `tqdm.notebook.tqdm` instead of `tqdm.tqdm_notebook`\n",
      "  for batch in tqdm_notebook(eval_dataloader, desc=\"Evaluating\"):\n"
     ]
    },
    {
     "data": {
      "text/plain": "Evaluating:   0%|          | 0/500 [00:00<?, ?it/s]",
      "application/vnd.jupyter.widget-view+json": {
       "version_major": 2,
       "version_minor": 0,
       "model_id": "5ae485fa61984fb68bd638d4309d5540"
      },
      "application/json": {
       "n": 0,
       "total": 500,
       "elapsed": 0.005011796951293945,
       "ncols": null,
       "nrows": null,
       "prefix": "Evaluating",
       "ascii": false,
       "unit": "it",
       "unit_scale": false,
       "rate": null,
       "bar_format": null,
       "postfix": null,
       "unit_divisor": 1000,
       "initial": 0,
       "colour": null
      }
     },
     "metadata": {},
     "output_type": "display_data"
    },
    {
     "name": "stderr",
     "output_type": "stream",
     "text": [
      "INFO:LOG:Generating evaluation dataset...\n",
      "INFO:LOG:Creating features from dataframe\n"
     ]
    },
    {
     "name": "stdout",
     "output_type": "stream",
     "text": [
      "          id  seq_starts  seq_ends  label          text\n",
      "0     746033           0         1      0             п\n",
      "1     746033           0         2      1            пз\n",
      "2     746033           0         3      1           пзд\n",
      "3     746033           0         4      1          пздц\n",
      "4     746033           0         5      1        пздц .\n",
      "...      ...         ...       ...    ...           ...\n",
      "3991  746033         221       228      1     ##ть ново\n",
      "3992  746033         221       231      1  ##ть новость\n",
      "3993  746033         224       228      0          ново\n",
      "3994  746033         224       231      1       новость\n",
      "3995  746033         228       231      1         ##сть\n",
      "\n",
      "[3996 rows x 5 columns]\n",
      "          id  seq_starts  seq_ends  label           text\n",
      "0     746058           0         1      0              т\n",
      "1     746058           0         3      0            тро\n",
      "2     746058           0         4      0           троє\n",
      "3     746058           0         4      0     троє людеи\n",
      "4     746058           0        13      0  троє людеи по\n",
      "...      ...         ...       ...    ...            ...\n",
      "2337  746058         193       200      0      ##ть ново\n",
      "2338  746058         193       203      0   ##ть новость\n",
      "2339  746058         196       200      0           ново\n",
      "2340  746058         196       203      0        новость\n",
      "2341  746058         200       203      0          ##сть\n",
      "\n",
      "[2342 rows x 5 columns]\n",
      "(2342, 5)\n"
     ]
    },
    {
     "name": "stderr",
     "output_type": "stream",
     "text": [
      "INFO:LOG:Creating TensorDataset from features dataframe\n",
      "C:\\Windows\\Temp\\ipykernel_1144\\1158175120.py:14: TqdmDeprecationWarning: This function will be removed in tqdm==5.0.0\n",
      "Please use `tqdm.notebook.tqdm` instead of `tqdm.tqdm_notebook`\n",
      "  for batch in tqdm_notebook(eval_dataloader, desc=\"Evaluating\"):\n"
     ]
    },
    {
     "data": {
      "text/plain": "Evaluating:   0%|          | 0/293 [00:00<?, ?it/s]",
      "application/vnd.jupyter.widget-view+json": {
       "version_major": 2,
       "version_minor": 0,
       "model_id": "108f6fa809bb4333b3026d1d1b90ae8c"
      },
      "application/json": {
       "n": 0,
       "total": 293,
       "elapsed": 0.003012418746948242,
       "ncols": null,
       "nrows": null,
       "prefix": "Evaluating",
       "ascii": false,
       "unit": "it",
       "unit_scale": false,
       "rate": null,
       "bar_format": null,
       "postfix": null,
       "unit_divisor": 1000,
       "initial": 0,
       "colour": null
      }
     },
     "metadata": {},
     "output_type": "display_data"
    },
    {
     "name": "stderr",
     "output_type": "stream",
     "text": [
      "INFO:LOG:Generating evaluation dataset...\n",
      "INFO:LOG:Creating features from dataframe\n"
     ]
    },
    {
     "name": "stdout",
     "output_type": "stream",
     "text": [
      "          id  seq_starts  seq_ends  label           text\n",
      "0     746058           0         1      0              т\n",
      "1     746058           0         3      1            тро\n",
      "2     746058           0         4      1           троє\n",
      "3     746058           0         4      1     троє людеи\n",
      "4     746058           0        13      1  троє людеи по\n",
      "...      ...         ...       ...    ...            ...\n",
      "2337  746058         193       200      1      ##ть ново\n",
      "2338  746058         193       203      1   ##ть новость\n",
      "2339  746058         196       200      0           ново\n",
      "2340  746058         196       203      1        новость\n",
      "2341  746058         200       203      1          ##сть\n",
      "\n",
      "[2342 rows x 5 columns]\n",
      "          id  seq_starts  seq_ends  label             text\n",
      "0     746139           0         3      0              від\n",
      "1     746139           0         8      0         від удар\n",
      "2     746139           0         9      0        від удару\n",
      "3     746139           0        13      0    від удару стр\n",
      "4     746139           0        15      0  від удару струм\n",
      "...      ...         ...       ...    ...              ...\n",
      "3994  746139         268       275      0        ##ть ново\n",
      "3995  746139         268       278      0     ##ть новость\n",
      "3996  746139         271       275      0             ново\n",
      "3997  746139         271       278      0          новость\n",
      "3998  746139         275       278      0            ##сть\n",
      "\n",
      "[3999 rows x 5 columns]\n",
      "(3999, 5)\n"
     ]
    },
    {
     "name": "stderr",
     "output_type": "stream",
     "text": [
      "INFO:LOG:Creating TensorDataset from features dataframe\n",
      "C:\\Windows\\Temp\\ipykernel_1144\\1158175120.py:14: TqdmDeprecationWarning: This function will be removed in tqdm==5.0.0\n",
      "Please use `tqdm.notebook.tqdm` instead of `tqdm.tqdm_notebook`\n",
      "  for batch in tqdm_notebook(eval_dataloader, desc=\"Evaluating\"):\n"
     ]
    },
    {
     "data": {
      "text/plain": "Evaluating:   0%|          | 0/500 [00:00<?, ?it/s]",
      "application/vnd.jupyter.widget-view+json": {
       "version_major": 2,
       "version_minor": 0,
       "model_id": "b04778fb62094be4860eec495c3b703a"
      },
      "application/json": {
       "n": 0,
       "total": 500,
       "elapsed": 0.004002809524536133,
       "ncols": null,
       "nrows": null,
       "prefix": "Evaluating",
       "ascii": false,
       "unit": "it",
       "unit_scale": false,
       "rate": null,
       "bar_format": null,
       "postfix": null,
       "unit_divisor": 1000,
       "initial": 0,
       "colour": null
      }
     },
     "metadata": {},
     "output_type": "display_data"
    },
    {
     "name": "stderr",
     "output_type": "stream",
     "text": [
      "INFO:LOG:Generating evaluation dataset...\n",
      "INFO:LOG:Creating features from dataframe\n"
     ]
    },
    {
     "name": "stdout",
     "output_type": "stream",
     "text": [
      "          id  seq_starts  seq_ends  label             text\n",
      "0     746139           0         3      0              від\n",
      "1     746139           0         8      1         від удар\n",
      "2     746139           0         9      1        від удару\n",
      "3     746139           0        13      1    від удару стр\n",
      "4     746139           0        15      1  від удару струм\n",
      "...      ...         ...       ...    ...              ...\n",
      "3994  746139         268       275      1        ##ть ново\n",
      "3995  746139         268       278      1     ##ть новость\n",
      "3996  746139         271       275      0             ново\n",
      "3997  746139         271       278      1          новость\n",
      "3998  746139         275       278      1            ##сть\n",
      "\n",
      "[3999 rows x 5 columns]\n",
      "          id  seq_starts  seq_ends  label             text\n",
      "0     746169           0         1      0                в\n",
      "1     746169           0         5      0            вбили\n",
      "2     746169           0         8      0         вбили та\n",
      "3     746169           0        12      0     вбили та зал\n",
      "4     746169           0        15      0  вбили та залили\n",
      "...      ...         ...       ...    ...              ...\n",
      "3818  746169         231       238      0        ##ть ново\n",
      "3819  746169         231       241      0     ##ть новость\n",
      "3820  746169         234       238      0             ново\n",
      "3821  746169         234       241      0          новость\n",
      "3822  746169         238       241      0            ##сть\n",
      "\n",
      "[3823 rows x 5 columns]\n",
      "(3823, 5)\n"
     ]
    },
    {
     "name": "stderr",
     "output_type": "stream",
     "text": [
      "INFO:LOG:Creating TensorDataset from features dataframe\n",
      "C:\\Windows\\Temp\\ipykernel_1144\\1158175120.py:14: TqdmDeprecationWarning: This function will be removed in tqdm==5.0.0\n",
      "Please use `tqdm.notebook.tqdm` instead of `tqdm.tqdm_notebook`\n",
      "  for batch in tqdm_notebook(eval_dataloader, desc=\"Evaluating\"):\n"
     ]
    },
    {
     "data": {
      "text/plain": "Evaluating:   0%|          | 0/478 [00:00<?, ?it/s]",
      "application/vnd.jupyter.widget-view+json": {
       "version_major": 2,
       "version_minor": 0,
       "model_id": "404d6ca7dda747f8acf9f8f344bcbc37"
      },
      "application/json": {
       "n": 0,
       "total": 478,
       "elapsed": 0.004967212677001953,
       "ncols": null,
       "nrows": null,
       "prefix": "Evaluating",
       "ascii": false,
       "unit": "it",
       "unit_scale": false,
       "rate": null,
       "bar_format": null,
       "postfix": null,
       "unit_divisor": 1000,
       "initial": 0,
       "colour": null
      }
     },
     "metadata": {},
     "output_type": "display_data"
    },
    {
     "name": "stderr",
     "output_type": "stream",
     "text": [
      "INFO:LOG:Generating evaluation dataset...\n",
      "INFO:LOG:Creating features from dataframe\n"
     ]
    },
    {
     "name": "stdout",
     "output_type": "stream",
     "text": [
      "          id  seq_starts  seq_ends  label             text\n",
      "0     746169           0         1      0                в\n",
      "1     746169           0         5      1            вбили\n",
      "2     746169           0         8      1         вбили та\n",
      "3     746169           0        12      1     вбили та зал\n",
      "4     746169           0        15      1  вбили та залили\n",
      "...      ...         ...       ...    ...              ...\n",
      "3818  746169         231       238      1        ##ть ново\n",
      "3819  746169         231       241      1     ##ть новость\n",
      "3820  746169         234       238      0             ново\n",
      "3821  746169         234       241      1          новость\n",
      "3822  746169         238       241      1            ##сть\n",
      "\n",
      "[3823 rows x 5 columns]\n",
      "          id  seq_starts  seq_ends  label          text\n",
      "0     746699           0         3      0           час\n",
      "1     746699           0         6      0        час мо\n",
      "2     746699           0         8      0      час мобі\n",
      "3     746699           0        10      0    час мобілі\n",
      "4     746699           0        12      0  час мобілізу\n",
      "...      ...         ...       ...    ...           ...\n",
      "7357  746699         354       361      0     ##ть ново\n",
      "7358  746699         354       364      0  ##ть новость\n",
      "7359  746699         357       361      0          ново\n",
      "7360  746699         357       364      0       новость\n",
      "7361  746699         361       364      0         ##сть\n",
      "\n",
      "[7362 rows x 5 columns]\n",
      "(7362, 5)\n"
     ]
    },
    {
     "name": "stderr",
     "output_type": "stream",
     "text": [
      "INFO:LOG:Creating TensorDataset from features dataframe\n",
      "C:\\Windows\\Temp\\ipykernel_1144\\1158175120.py:14: TqdmDeprecationWarning: This function will be removed in tqdm==5.0.0\n",
      "Please use `tqdm.notebook.tqdm` instead of `tqdm.tqdm_notebook`\n",
      "  for batch in tqdm_notebook(eval_dataloader, desc=\"Evaluating\"):\n"
     ]
    },
    {
     "data": {
      "text/plain": "Evaluating:   0%|          | 0/921 [00:00<?, ?it/s]",
      "application/vnd.jupyter.widget-view+json": {
       "version_major": 2,
       "version_minor": 0,
       "model_id": "65f0b395a23942dc9c2051dc8843bae1"
      },
      "application/json": {
       "n": 0,
       "total": 921,
       "elapsed": 0.00398707389831543,
       "ncols": null,
       "nrows": null,
       "prefix": "Evaluating",
       "ascii": false,
       "unit": "it",
       "unit_scale": false,
       "rate": null,
       "bar_format": null,
       "postfix": null,
       "unit_divisor": 1000,
       "initial": 0,
       "colour": null
      }
     },
     "metadata": {},
     "output_type": "display_data"
    },
    {
     "name": "stderr",
     "output_type": "stream",
     "text": [
      "INFO:LOG:Generating evaluation dataset...\n",
      "INFO:LOG:Creating features from dataframe\n"
     ]
    },
    {
     "name": "stdout",
     "output_type": "stream",
     "text": [
      "          id  seq_starts  seq_ends  label          text\n",
      "0     746699           0         3      0           час\n",
      "1     746699           0         6      1        час мо\n",
      "2     746699           0         8      1      час мобі\n",
      "3     746699           0        10      1    час мобілі\n",
      "4     746699           0        12      1  час мобілізу\n",
      "...      ...         ...       ...    ...           ...\n",
      "7357  746699         354       361      1     ##ть ново\n",
      "7358  746699         354       364      1  ##ть новость\n",
      "7359  746699         357       361      0          ново\n",
      "7360  746699         357       364      1       новость\n",
      "7361  746699         361       364      1         ##сть\n",
      "\n",
      "[7362 rows x 5 columns]\n",
      "          id  seq_starts  seq_ends  label            text\n",
      "0     747170           0         2      0              ро\n",
      "1     747170           0         3      0             роз\n",
      "2     747170           0         7      0         розклад\n",
      "3     747170           0        10      0      розкладала\n",
      "4     747170           0        14      0  розкладала сол\n",
      "...      ...         ...       ...    ...             ...\n",
      "7368  747170         322       329      0       ##ть ново\n",
      "7369  747170         322       332      0    ##ть новость\n",
      "7370  747170         325       329      0            ново\n",
      "7371  747170         325       332      0         новость\n",
      "7372  747170         329       332      0           ##сть\n",
      "\n",
      "[7373 rows x 5 columns]\n",
      "(7373, 5)\n"
     ]
    },
    {
     "name": "stderr",
     "output_type": "stream",
     "text": [
      "INFO:LOG:Creating TensorDataset from features dataframe\n",
      "C:\\Windows\\Temp\\ipykernel_1144\\1158175120.py:14: TqdmDeprecationWarning: This function will be removed in tqdm==5.0.0\n",
      "Please use `tqdm.notebook.tqdm` instead of `tqdm.tqdm_notebook`\n",
      "  for batch in tqdm_notebook(eval_dataloader, desc=\"Evaluating\"):\n"
     ]
    },
    {
     "data": {
      "text/plain": "Evaluating:   0%|          | 0/922 [00:00<?, ?it/s]",
      "application/vnd.jupyter.widget-view+json": {
       "version_major": 2,
       "version_minor": 0,
       "model_id": "7ce73afd918e47048be039833f1e2908"
      },
      "application/json": {
       "n": 0,
       "total": 922,
       "elapsed": 0.003973722457885742,
       "ncols": null,
       "nrows": null,
       "prefix": "Evaluating",
       "ascii": false,
       "unit": "it",
       "unit_scale": false,
       "rate": null,
       "bar_format": null,
       "postfix": null,
       "unit_divisor": 1000,
       "initial": 0,
       "colour": null
      }
     },
     "metadata": {},
     "output_type": "display_data"
    },
    {
     "name": "stderr",
     "output_type": "stream",
     "text": [
      "INFO:LOG:Generating evaluation dataset...\n",
      "INFO:LOG:Creating features from dataframe\n"
     ]
    },
    {
     "name": "stdout",
     "output_type": "stream",
     "text": [
      "          id  seq_starts  seq_ends  label            text\n",
      "0     747170           0         2      0              ро\n",
      "1     747170           0         3      1             роз\n",
      "2     747170           0         7      1         розклад\n",
      "3     747170           0        10      1      розкладала\n",
      "4     747170           0        14      1  розкладала сол\n",
      "...      ...         ...       ...    ...             ...\n",
      "7368  747170         322       329      1       ##ть ново\n",
      "7369  747170         322       332      1    ##ть новость\n",
      "7370  747170         325       329      0            ново\n",
      "7371  747170         325       332      1         новость\n",
      "7372  747170         329       332      1           ##сть\n",
      "\n",
      "[7373 rows x 5 columns]\n",
      "          id  seq_starts  seq_ends  label                   text\n",
      "0     747198          -1         7      0               наибільш\n",
      "1     747198          -1        11      0            наибільш ма\n",
      "2     747198          -1        15      0        наибільш масова\n",
      "3     747198          -1        17      0      наибільш масована\n",
      "4     747198          -1        21      0  наибільш масована ата\n",
      "...      ...         ...       ...    ...                    ...\n",
      "6887  747198         362       369      0              ##ть ново\n",
      "6888  747198         362       372      0           ##ть новость\n",
      "6889  747198         365       369      0                   ново\n",
      "6890  747198         365       372      0                новость\n",
      "6891  747198         369       372      0                  ##сть\n",
      "\n",
      "[6892 rows x 5 columns]\n",
      "(6892, 5)\n"
     ]
    },
    {
     "name": "stderr",
     "output_type": "stream",
     "text": [
      "INFO:LOG:Creating TensorDataset from features dataframe\n",
      "C:\\Windows\\Temp\\ipykernel_1144\\1158175120.py:14: TqdmDeprecationWarning: This function will be removed in tqdm==5.0.0\n",
      "Please use `tqdm.notebook.tqdm` instead of `tqdm.tqdm_notebook`\n",
      "  for batch in tqdm_notebook(eval_dataloader, desc=\"Evaluating\"):\n"
     ]
    },
    {
     "data": {
      "text/plain": "Evaluating:   0%|          | 0/862 [00:00<?, ?it/s]",
      "application/vnd.jupyter.widget-view+json": {
       "version_major": 2,
       "version_minor": 0,
       "model_id": "dde748e5a62b45d28e95c7e46f498ccf"
      },
      "application/json": {
       "n": 0,
       "total": 862,
       "elapsed": 0.0030078887939453125,
       "ncols": null,
       "nrows": null,
       "prefix": "Evaluating",
       "ascii": false,
       "unit": "it",
       "unit_scale": false,
       "rate": null,
       "bar_format": null,
       "postfix": null,
       "unit_divisor": 1000,
       "initial": 0,
       "colour": null
      }
     },
     "metadata": {},
     "output_type": "display_data"
    },
    {
     "name": "stderr",
     "output_type": "stream",
     "text": [
      "INFO:LOG:Generating evaluation dataset...\n",
      "INFO:LOG:Creating features from dataframe\n"
     ]
    },
    {
     "name": "stdout",
     "output_type": "stream",
     "text": [
      "          id  seq_starts  seq_ends  label                   text\n",
      "0     747198          -1         7      0               наибільш\n",
      "1     747198          -1        11      1            наибільш ма\n",
      "2     747198          -1        15      1        наибільш масова\n",
      "3     747198          -1        17      1      наибільш масована\n",
      "4     747198          -1        21      1  наибільш масована ата\n",
      "...      ...         ...       ...    ...                    ...\n",
      "6887  747198         362       369      1              ##ть ново\n",
      "6888  747198         362       372      1           ##ть новость\n",
      "6889  747198         365       369      0                   ново\n",
      "6890  747198         365       372      1                новость\n",
      "6891  747198         369       372      1                  ##сть\n",
      "\n",
      "[6892 rows x 5 columns]\n",
      "          id  seq_starts  seq_ends  label              text\n",
      "0     747214           0         5      0             забив\n",
      "1     747214           0         8      0          забив со\n",
      "2     747214           0        10      0        забив соки\n",
      "3     747214           0        13      0     забив сокирою\n",
      "4     747214           0        16      0  забив сокирою до\n",
      "...      ...         ...       ...    ...               ...\n",
      "3730  747214         254       261      0         ##ть ново\n",
      "3731  747214         254       264      0      ##ть новость\n",
      "3732  747214         257       261      0              ново\n",
      "3733  747214         257       264      0           новость\n",
      "3734  747214         261       264      0             ##сть\n",
      "\n",
      "[3735 rows x 5 columns]\n",
      "(3735, 5)\n"
     ]
    },
    {
     "name": "stderr",
     "output_type": "stream",
     "text": [
      "INFO:LOG:Creating TensorDataset from features dataframe\n",
      "C:\\Windows\\Temp\\ipykernel_1144\\1158175120.py:14: TqdmDeprecationWarning: This function will be removed in tqdm==5.0.0\n",
      "Please use `tqdm.notebook.tqdm` instead of `tqdm.tqdm_notebook`\n",
      "  for batch in tqdm_notebook(eval_dataloader, desc=\"Evaluating\"):\n"
     ]
    },
    {
     "data": {
      "text/plain": "Evaluating:   0%|          | 0/467 [00:00<?, ?it/s]",
      "application/vnd.jupyter.widget-view+json": {
       "version_major": 2,
       "version_minor": 0,
       "model_id": "fe9e024cf26849caa90a73be5a054e4a"
      },
      "application/json": {
       "n": 0,
       "total": 467,
       "elapsed": 0.004000425338745117,
       "ncols": null,
       "nrows": null,
       "prefix": "Evaluating",
       "ascii": false,
       "unit": "it",
       "unit_scale": false,
       "rate": null,
       "bar_format": null,
       "postfix": null,
       "unit_divisor": 1000,
       "initial": 0,
       "colour": null
      }
     },
     "metadata": {},
     "output_type": "display_data"
    },
    {
     "name": "stderr",
     "output_type": "stream",
     "text": [
      "INFO:LOG:Generating evaluation dataset...\n",
      "INFO:LOG:Creating features from dataframe\n"
     ]
    },
    {
     "name": "stdout",
     "output_type": "stream",
     "text": [
      "          id  seq_starts  seq_ends  label              text\n",
      "0     747214           0         5      0             забив\n",
      "1     747214           0         8      1          забив со\n",
      "2     747214           0        10      1        забив соки\n",
      "3     747214           0        13      1     забив сокирою\n",
      "4     747214           0        16      1  забив сокирою до\n",
      "...      ...         ...       ...    ...               ...\n",
      "3730  747214         254       261      1         ##ть ново\n",
      "3731  747214         254       264      1      ##ть новость\n",
      "3732  747214         257       261      0              ново\n",
      "3733  747214         257       264      1           новость\n",
      "3734  747214         261       264      1             ##сть\n",
      "\n",
      "[3735 rows x 5 columns]\n",
      "          id  seq_starts  seq_ends  label            text\n",
      "0     747259           0         2      0              че\n",
      "1     747259           0         4      0            черг\n",
      "2     747259           0         3      0        черговии\n",
      "3     747259           0        11      0     черговии те\n",
      "4     747259           0        14      0  черговии терак\n",
      "...      ...         ...       ...    ...             ...\n",
      "5763  747259         319       322      0           ##нюю\n",
      "5764  747259         319       326      0       ##нюються\n",
      "5765  747259         319       327      0     ##нюються .\n",
      "5766  747259         322       326      0          ##ться\n",
      "5767  747259         322       327      0        ##ться .\n",
      "\n",
      "[5768 rows x 5 columns]\n",
      "(5768, 5)\n"
     ]
    },
    {
     "name": "stderr",
     "output_type": "stream",
     "text": [
      "INFO:LOG:Creating TensorDataset from features dataframe\n",
      "C:\\Windows\\Temp\\ipykernel_1144\\1158175120.py:14: TqdmDeprecationWarning: This function will be removed in tqdm==5.0.0\n",
      "Please use `tqdm.notebook.tqdm` instead of `tqdm.tqdm_notebook`\n",
      "  for batch in tqdm_notebook(eval_dataloader, desc=\"Evaluating\"):\n"
     ]
    },
    {
     "data": {
      "text/plain": "Evaluating:   0%|          | 0/721 [00:00<?, ?it/s]",
      "application/vnd.jupyter.widget-view+json": {
       "version_major": 2,
       "version_minor": 0,
       "model_id": "a93e764a4a634e49a4beea44cdac5f71"
      },
      "application/json": {
       "n": 0,
       "total": 721,
       "elapsed": 0.002967357635498047,
       "ncols": null,
       "nrows": null,
       "prefix": "Evaluating",
       "ascii": false,
       "unit": "it",
       "unit_scale": false,
       "rate": null,
       "bar_format": null,
       "postfix": null,
       "unit_divisor": 1000,
       "initial": 0,
       "colour": null
      }
     },
     "metadata": {},
     "output_type": "display_data"
    },
    {
     "name": "stderr",
     "output_type": "stream",
     "text": [
      "INFO:LOG:Generating evaluation dataset...\n",
      "INFO:LOG:Creating features from dataframe\n"
     ]
    },
    {
     "name": "stdout",
     "output_type": "stream",
     "text": [
      "          id  seq_starts  seq_ends  label            text\n",
      "0     747259           0         2      0              че\n",
      "1     747259           0         4      1            черг\n",
      "2     747259           0         3      1        черговии\n",
      "3     747259           0        11      1     черговии те\n",
      "4     747259           0        14      1  черговии терак\n",
      "...      ...         ...       ...    ...             ...\n",
      "5763  747259         319       322      1           ##нюю\n",
      "5764  747259         319       326      1       ##нюються\n",
      "5765  747259         319       327      0     ##нюються .\n",
      "5766  747259         322       326      1          ##ться\n",
      "5767  747259         322       327      0        ##ться .\n",
      "\n",
      "[5768 rows x 5 columns]\n",
      "          id  seq_starts  seq_ends  label           text\n",
      "0     747283           0         2      0             ви\n",
      "1     747283           0         4      0       ви [UNK]\n",
      "2     747283           0         6      0     ви [UNK] у\n",
      "3     747283           0        11      0    ви [UNK] уи\n",
      "4     747283           0       216      0  ви [UNK] уи *\n",
      "...      ...         ...       ...    ...            ...\n",
      "5979  747283         253       260      0      ##ть ново\n",
      "5980  747283         253       263      0   ##ть новость\n",
      "5981  747283         256       260      0           ново\n",
      "5982  747283         256       263      0        новость\n",
      "5983  747283         260       263      0          ##сть\n",
      "\n",
      "[5984 rows x 5 columns]\n",
      "(5984, 5)\n"
     ]
    },
    {
     "name": "stderr",
     "output_type": "stream",
     "text": [
      "INFO:LOG:Creating TensorDataset from features dataframe\n",
      "C:\\Windows\\Temp\\ipykernel_1144\\1158175120.py:14: TqdmDeprecationWarning: This function will be removed in tqdm==5.0.0\n",
      "Please use `tqdm.notebook.tqdm` instead of `tqdm.tqdm_notebook`\n",
      "  for batch in tqdm_notebook(eval_dataloader, desc=\"Evaluating\"):\n"
     ]
    },
    {
     "data": {
      "text/plain": "Evaluating:   0%|          | 0/748 [00:00<?, ?it/s]",
      "application/vnd.jupyter.widget-view+json": {
       "version_major": 2,
       "version_minor": 0,
       "model_id": "9f06cf2221d04e56a2ffa4b1298d79d8"
      },
      "application/json": {
       "n": 0,
       "total": 748,
       "elapsed": 0.0029747486114501953,
       "ncols": null,
       "nrows": null,
       "prefix": "Evaluating",
       "ascii": false,
       "unit": "it",
       "unit_scale": false,
       "rate": null,
       "bar_format": null,
       "postfix": null,
       "unit_divisor": 1000,
       "initial": 0,
       "colour": null
      }
     },
     "metadata": {},
     "output_type": "display_data"
    },
    {
     "name": "stderr",
     "output_type": "stream",
     "text": [
      "INFO:LOG:Generating evaluation dataset...\n",
      "INFO:LOG:Creating features from dataframe\n"
     ]
    },
    {
     "name": "stdout",
     "output_type": "stream",
     "text": [
      "          id  seq_starts  seq_ends  label           text\n",
      "0     747283           0         2      0             ви\n",
      "1     747283           0         4      1       ви [UNK]\n",
      "2     747283           0         6      1     ви [UNK] у\n",
      "3     747283           0        11      1    ви [UNK] уи\n",
      "4     747283           0       216      1  ви [UNK] уи *\n",
      "...      ...         ...       ...    ...            ...\n",
      "5979  747283         253       260      1      ##ть ново\n",
      "5980  747283         253       263      1   ##ть новость\n",
      "5981  747283         256       260      0           ново\n",
      "5982  747283         256       263      1        новость\n",
      "5983  747283         260       263      1          ##сть\n",
      "\n",
      "[5984 rows x 5 columns]\n",
      "           id  seq_starts  seq_ends  label                 text\n",
      "0      747301           0         7      0              чоловік\n",
      "1      747301           0         9      0            чоловікам\n",
      "2      747301           0        15      0      чоловікам треба\n",
      "3      747301           0        18      0   чоловікам треба за\n",
      "4      747301           0        19      0  чоловікам треба зап\n",
      "...       ...         ...       ...    ...                  ...\n",
      "10284  747301         471       478      0            ##ть ново\n",
      "10285  747301         471       481      0         ##ть новость\n",
      "10286  747301         474       478      0                 ново\n",
      "10287  747301         474       481      0              новость\n",
      "10288  747301         478       481      0                ##сть\n",
      "\n",
      "[10289 rows x 5 columns]\n",
      "(10289, 5)\n"
     ]
    },
    {
     "name": "stderr",
     "output_type": "stream",
     "text": [
      "INFO:LOG:Creating TensorDataset from features dataframe\n",
      "C:\\Windows\\Temp\\ipykernel_1144\\1158175120.py:14: TqdmDeprecationWarning: This function will be removed in tqdm==5.0.0\n",
      "Please use `tqdm.notebook.tqdm` instead of `tqdm.tqdm_notebook`\n",
      "  for batch in tqdm_notebook(eval_dataloader, desc=\"Evaluating\"):\n"
     ]
    },
    {
     "data": {
      "text/plain": "Evaluating:   0%|          | 0/1287 [00:00<?, ?it/s]",
      "application/vnd.jupyter.widget-view+json": {
       "version_major": 2,
       "version_minor": 0,
       "model_id": "6a890bf22d8d4c05bc610715bae3c6bb"
      },
      "application/json": {
       "n": 0,
       "total": 1287,
       "elapsed": 0.002975940704345703,
       "ncols": null,
       "nrows": null,
       "prefix": "Evaluating",
       "ascii": false,
       "unit": "it",
       "unit_scale": false,
       "rate": null,
       "bar_format": null,
       "postfix": null,
       "unit_divisor": 1000,
       "initial": 0,
       "colour": null
      }
     },
     "metadata": {},
     "output_type": "display_data"
    },
    {
     "name": "stderr",
     "output_type": "stream",
     "text": [
      "INFO:LOG:Generating evaluation dataset...\n",
      "INFO:LOG:Creating features from dataframe\n"
     ]
    },
    {
     "name": "stdout",
     "output_type": "stream",
     "text": [
      "           id  seq_starts  seq_ends  label                 text\n",
      "0      747301           0         7      0              чоловік\n",
      "1      747301           0         9      1            чоловікам\n",
      "2      747301           0        15      1      чоловікам треба\n",
      "3      747301           0        18      1   чоловікам треба за\n",
      "4      747301           0        19      1  чоловікам треба зап\n",
      "...       ...         ...       ...    ...                  ...\n",
      "10284  747301         471       478      1            ##ть ново\n",
      "10285  747301         471       481      1         ##ть новость\n",
      "10286  747301         474       478      0                 ново\n",
      "10287  747301         474       481      1              новость\n",
      "10288  747301         478       481      1                ##сть\n",
      "\n",
      "[10289 rows x 5 columns]\n",
      "          id  seq_starts  seq_ends  label                 text\n",
      "0     747346           0         8      0             працював\n",
      "1     747346           0        11      0          працював на\n",
      "2     747346           0        13      0        працював на к\n",
      "3     747346           0        16      0     працював на крем\n",
      "4     747346           0        19      0  працював на кремлів\n",
      "...      ...         ...       ...    ...                  ...\n",
      "6544  747346         327       334      0            ##ть ново\n",
      "6545  747346         327       337      0         ##ть новость\n",
      "6546  747346         330       334      0                 ново\n",
      "6547  747346         330       337      0              новость\n",
      "6548  747346         334       337      0                ##сть\n",
      "\n",
      "[6549 rows x 5 columns]\n",
      "(6549, 5)\n"
     ]
    },
    {
     "name": "stderr",
     "output_type": "stream",
     "text": [
      "INFO:LOG:Creating TensorDataset from features dataframe\n",
      "C:\\Windows\\Temp\\ipykernel_1144\\1158175120.py:14: TqdmDeprecationWarning: This function will be removed in tqdm==5.0.0\n",
      "Please use `tqdm.notebook.tqdm` instead of `tqdm.tqdm_notebook`\n",
      "  for batch in tqdm_notebook(eval_dataloader, desc=\"Evaluating\"):\n"
     ]
    },
    {
     "data": {
      "text/plain": "Evaluating:   0%|          | 0/819 [00:00<?, ?it/s]",
      "application/vnd.jupyter.widget-view+json": {
       "version_major": 2,
       "version_minor": 0,
       "model_id": "cff131587f4f404e9d61a5053a7efdb7"
      },
      "application/json": {
       "n": 0,
       "total": 819,
       "elapsed": 0.004001617431640625,
       "ncols": null,
       "nrows": null,
       "prefix": "Evaluating",
       "ascii": false,
       "unit": "it",
       "unit_scale": false,
       "rate": null,
       "bar_format": null,
       "postfix": null,
       "unit_divisor": 1000,
       "initial": 0,
       "colour": null
      }
     },
     "metadata": {},
     "output_type": "display_data"
    },
    {
     "name": "stderr",
     "output_type": "stream",
     "text": [
      "INFO:LOG:Generating evaluation dataset...\n"
     ]
    },
    {
     "name": "stdout",
     "output_type": "stream",
     "text": [
      "          id  seq_starts  seq_ends  label                 text\n",
      "0     747346           0         8      0             працював\n",
      "1     747346           0        11      1          працював на\n",
      "2     747346           0        13      1        працював на к\n",
      "3     747346           0        16      1     працював на крем\n",
      "4     747346           0        19      1  працював на кремлів\n",
      "...      ...         ...       ...    ...                  ...\n",
      "6544  747346         327       334      1            ##ть ново\n",
      "6545  747346         327       337      1         ##ть новость\n",
      "6546  747346         330       334      0                 ново\n",
      "6547  747346         330       337      1              новость\n",
      "6548  747346         334       337      1                ##сть\n",
      "\n",
      "[6549 rows x 5 columns]\n"
     ]
    },
    {
     "name": "stderr",
     "output_type": "stream",
     "text": [
      "INFO:LOG:Creating features from dataframe\n"
     ]
    },
    {
     "name": "stdout",
     "output_type": "stream",
     "text": [
      "           id  seq_starts  seq_ends  label          text\n",
      "0      747353           0         2      0            на\n",
      "1      747353           0         6      0        на дні\n",
      "2      747353           0         8      0      на дніпр\n",
      "3      747353           0        10      0    на дніпроп\n",
      "4      747353           0        12      0  на дніпропет\n",
      "...       ...         ...       ...    ...           ...\n",
      "15731  747353         534       537      0         ##ілі\n",
      "15732  747353         534       538      0        ##ілів\n",
      "15733  747353         534       539      0      ##ілів .\n",
      "15734  747353         537       538      0           ##в\n",
      "15735  747353         537       539      0         ##в .\n",
      "\n",
      "[15736 rows x 5 columns]\n",
      "(15736, 5)\n"
     ]
    },
    {
     "name": "stderr",
     "output_type": "stream",
     "text": [
      "INFO:LOG:Creating TensorDataset from features dataframe\n",
      "C:\\Windows\\Temp\\ipykernel_1144\\1158175120.py:14: TqdmDeprecationWarning: This function will be removed in tqdm==5.0.0\n",
      "Please use `tqdm.notebook.tqdm` instead of `tqdm.tqdm_notebook`\n",
      "  for batch in tqdm_notebook(eval_dataloader, desc=\"Evaluating\"):\n"
     ]
    },
    {
     "data": {
      "text/plain": "Evaluating:   0%|          | 0/1967 [00:00<?, ?it/s]",
      "application/vnd.jupyter.widget-view+json": {
       "version_major": 2,
       "version_minor": 0,
       "model_id": "710ee94705dd49f7822378b0d71be891"
      },
      "application/json": {
       "n": 0,
       "total": 1967,
       "elapsed": 0.004000186920166016,
       "ncols": null,
       "nrows": null,
       "prefix": "Evaluating",
       "ascii": false,
       "unit": "it",
       "unit_scale": false,
       "rate": null,
       "bar_format": null,
       "postfix": null,
       "unit_divisor": 1000,
       "initial": 0,
       "colour": null
      }
     },
     "metadata": {},
     "output_type": "display_data"
    },
    {
     "name": "stderr",
     "output_type": "stream",
     "text": [
      "INFO:LOG:Generating evaluation dataset...\n",
      "INFO:LOG:Creating features from dataframe\n"
     ]
    },
    {
     "name": "stdout",
     "output_type": "stream",
     "text": [
      "           id  seq_starts  seq_ends  label          text\n",
      "0      747353           0         2      0            на\n",
      "1      747353           0         6      1        на дні\n",
      "2      747353           0         8      1      на дніпр\n",
      "3      747353           0        10      1    на дніпроп\n",
      "4      747353           0        12      1  на дніпропет\n",
      "...       ...         ...       ...    ...           ...\n",
      "15731  747353         534       537      1         ##ілі\n",
      "15732  747353         534       538      1        ##ілів\n",
      "15733  747353         534       539      0      ##ілів .\n",
      "15734  747353         537       538      1           ##в\n",
      "15735  747353         537       539      0         ##в .\n",
      "\n",
      "[15736 rows x 5 columns]\n",
      "          id  seq_starts  seq_ends  label                   text\n",
      "0     747417           0         1      0                      з\n",
      "1     747417           0         6      0                 зросла\n",
      "2     747417           0        16      0       зросла кількість\n",
      "3     747417           0        18      0     зросла кількість х\n",
      "4     747417           0        21      0  зросла кількість хвор\n",
      "...      ...         ...       ...    ...                    ...\n",
      "2693  747417         199       206      0              ##ть ново\n",
      "2694  747417         199       209      0           ##ть новость\n",
      "2695  747417         202       206      0                   ново\n",
      "2696  747417         202       209      0                новость\n",
      "2697  747417         206       209      0                  ##сть\n",
      "\n",
      "[2698 rows x 5 columns]\n",
      "(2698, 5)\n"
     ]
    },
    {
     "name": "stderr",
     "output_type": "stream",
     "text": [
      "INFO:LOG:Creating TensorDataset from features dataframe\n",
      "C:\\Windows\\Temp\\ipykernel_1144\\1158175120.py:14: TqdmDeprecationWarning: This function will be removed in tqdm==5.0.0\n",
      "Please use `tqdm.notebook.tqdm` instead of `tqdm.tqdm_notebook`\n",
      "  for batch in tqdm_notebook(eval_dataloader, desc=\"Evaluating\"):\n"
     ]
    },
    {
     "data": {
      "text/plain": "Evaluating:   0%|          | 0/338 [00:00<?, ?it/s]",
      "application/vnd.jupyter.widget-view+json": {
       "version_major": 2,
       "version_minor": 0,
       "model_id": "cac9e7723b9e42d19d33c054b4396146"
      },
      "application/json": {
       "n": 0,
       "total": 338,
       "elapsed": 0.0029981136322021484,
       "ncols": null,
       "nrows": null,
       "prefix": "Evaluating",
       "ascii": false,
       "unit": "it",
       "unit_scale": false,
       "rate": null,
       "bar_format": null,
       "postfix": null,
       "unit_divisor": 1000,
       "initial": 0,
       "colour": null
      }
     },
     "metadata": {},
     "output_type": "display_data"
    },
    {
     "name": "stderr",
     "output_type": "stream",
     "text": [
      "INFO:LOG:Generating evaluation dataset...\n",
      "INFO:LOG:Creating features from dataframe\n"
     ]
    },
    {
     "name": "stdout",
     "output_type": "stream",
     "text": [
      "          id  seq_starts  seq_ends  label                   text\n",
      "0     747417           0         1      0                      з\n",
      "1     747417           0         6      1                 зросла\n",
      "2     747417           0        16      1       зросла кількість\n",
      "3     747417           0        18      1     зросла кількість х\n",
      "4     747417           0        21      1  зросла кількість хвор\n",
      "...      ...         ...       ...    ...                    ...\n",
      "2693  747417         199       206      1              ##ть ново\n",
      "2694  747417         199       209      1           ##ть новость\n",
      "2695  747417         202       206      0                   ново\n",
      "2696  747417         202       209      1                новость\n",
      "2697  747417         206       209      1                  ##сть\n",
      "\n",
      "[2698 rows x 5 columns]\n",
      "          id  seq_starts  seq_ends  label          text\n",
      "0     747481           0         3      0           дні\n",
      "1     747481           0         5      0         дніпр\n",
      "2     747481           0         7      0       дніпроп\n",
      "3     747481           0         9      0     дніпропет\n",
      "4     747481           0        12      0  дніпропетров\n",
      "...      ...         ...       ...    ...           ...\n",
      "4839  747481         286       293      0     ##ть ново\n",
      "4840  747481         286       296      0  ##ть новость\n",
      "4841  747481         289       293      0          ново\n",
      "4842  747481         289       296      0       новость\n",
      "4843  747481         293       296      0         ##сть\n",
      "\n",
      "[4844 rows x 5 columns]\n",
      "(4844, 5)\n"
     ]
    },
    {
     "name": "stderr",
     "output_type": "stream",
     "text": [
      "INFO:LOG:Creating TensorDataset from features dataframe\n",
      "C:\\Windows\\Temp\\ipykernel_1144\\1158175120.py:14: TqdmDeprecationWarning: This function will be removed in tqdm==5.0.0\n",
      "Please use `tqdm.notebook.tqdm` instead of `tqdm.tqdm_notebook`\n",
      "  for batch in tqdm_notebook(eval_dataloader, desc=\"Evaluating\"):\n"
     ]
    },
    {
     "data": {
      "text/plain": "Evaluating:   0%|          | 0/606 [00:00<?, ?it/s]",
      "application/vnd.jupyter.widget-view+json": {
       "version_major": 2,
       "version_minor": 0,
       "model_id": "27ed1a95d2f3426d9095cec9a73edae8"
      },
      "application/json": {
       "n": 0,
       "total": 606,
       "elapsed": 0.003958940505981445,
       "ncols": null,
       "nrows": null,
       "prefix": "Evaluating",
       "ascii": false,
       "unit": "it",
       "unit_scale": false,
       "rate": null,
       "bar_format": null,
       "postfix": null,
       "unit_divisor": 1000,
       "initial": 0,
       "colour": null
      }
     },
     "metadata": {},
     "output_type": "display_data"
    },
    {
     "name": "stderr",
     "output_type": "stream",
     "text": [
      "INFO:LOG:Generating evaluation dataset...\n",
      "INFO:LOG:Creating features from dataframe\n"
     ]
    },
    {
     "name": "stdout",
     "output_type": "stream",
     "text": [
      "          id  seq_starts  seq_ends  label          text\n",
      "0     747481           0         3      0           дні\n",
      "1     747481           0         5      1         дніпр\n",
      "2     747481           0         7      1       дніпроп\n",
      "3     747481           0         9      1     дніпропет\n",
      "4     747481           0        12      1  дніпропетров\n",
      "...      ...         ...       ...    ...           ...\n",
      "4839  747481         286       293      1     ##ть ново\n",
      "4840  747481         286       296      1  ##ть новость\n",
      "4841  747481         289       293      0          ново\n",
      "4842  747481         289       296      1       новость\n",
      "4843  747481         293       296      1         ##сть\n",
      "\n",
      "[4844 rows x 5 columns]\n",
      "           id  seq_starts  seq_ends  label          text\n",
      "0      747489           0         3      0           без\n",
      "1      747489           0         6      0        без те\n",
      "2      747489           0         7      0       без теп\n",
      "3      747489           0         9      0     без тепло\n",
      "4      747489           0        10      0   без тепло -\n",
      "...       ...         ...       ...    ...           ...\n",
      "10993  747489         402       409      0     ##ть ново\n",
      "10994  747489         402       412      0  ##ть новость\n",
      "10995  747489         405       409      0          ново\n",
      "10996  747489         405       412      0       новость\n",
      "10997  747489         409       412      0         ##сть\n",
      "\n",
      "[10998 rows x 5 columns]\n",
      "(10998, 5)\n"
     ]
    },
    {
     "name": "stderr",
     "output_type": "stream",
     "text": [
      "INFO:LOG:Creating TensorDataset from features dataframe\n",
      "C:\\Windows\\Temp\\ipykernel_1144\\1158175120.py:14: TqdmDeprecationWarning: This function will be removed in tqdm==5.0.0\n",
      "Please use `tqdm.notebook.tqdm` instead of `tqdm.tqdm_notebook`\n",
      "  for batch in tqdm_notebook(eval_dataloader, desc=\"Evaluating\"):\n"
     ]
    },
    {
     "data": {
      "text/plain": "Evaluating:   0%|          | 0/1375 [00:00<?, ?it/s]",
      "application/vnd.jupyter.widget-view+json": {
       "version_major": 2,
       "version_minor": 0,
       "model_id": "ef63620cfcac416a98588102d25d56cb"
      },
      "application/json": {
       "n": 0,
       "total": 1375,
       "elapsed": 0.003956317901611328,
       "ncols": null,
       "nrows": null,
       "prefix": "Evaluating",
       "ascii": false,
       "unit": "it",
       "unit_scale": false,
       "rate": null,
       "bar_format": null,
       "postfix": null,
       "unit_divisor": 1000,
       "initial": 0,
       "colour": null
      }
     },
     "metadata": {},
     "output_type": "display_data"
    },
    {
     "name": "stderr",
     "output_type": "stream",
     "text": [
      "INFO:LOG:Generating evaluation dataset...\n",
      "INFO:LOG:Creating features from dataframe\n"
     ]
    },
    {
     "name": "stdout",
     "output_type": "stream",
     "text": [
      "           id  seq_starts  seq_ends  label          text\n",
      "0      747489           0         3      0           без\n",
      "1      747489           0         6      1        без те\n",
      "2      747489           0         7      1       без теп\n",
      "3      747489           0         9      1     без тепло\n",
      "4      747489           0        10      1   без тепло -\n",
      "...       ...         ...       ...    ...           ...\n",
      "10993  747489         402       409      1     ##ть ново\n",
      "10994  747489         402       412      1  ##ть новость\n",
      "10995  747489         405       409      0          ново\n",
      "10996  747489         405       412      1       новость\n",
      "10997  747489         409       412      1         ##сть\n",
      "\n",
      "[10998 rows x 5 columns]\n",
      "          id  seq_starts  seq_ends  label              text\n",
      "0     747502           0         3      0               дні\n",
      "1     747502           0         5      0             дніпр\n",
      "2     747502           0         8      0          дніпрята\n",
      "3     747502           0         9      0        дніпрята ,\n",
      "4     747502           0        15      0  дніпрята , влада\n",
      "...      ...         ...       ...    ...               ...\n",
      "9302  747502         375       382      0         ##ть ново\n",
      "9303  747502         375       385      0      ##ть новость\n",
      "9304  747502         378       382      0              ново\n",
      "9305  747502         378       385      0           новость\n",
      "9306  747502         382       385      0             ##сть\n",
      "\n",
      "[9307 rows x 5 columns]\n",
      "(9307, 5)\n"
     ]
    },
    {
     "name": "stderr",
     "output_type": "stream",
     "text": [
      "INFO:LOG:Creating TensorDataset from features dataframe\n",
      "C:\\Windows\\Temp\\ipykernel_1144\\1158175120.py:14: TqdmDeprecationWarning: This function will be removed in tqdm==5.0.0\n",
      "Please use `tqdm.notebook.tqdm` instead of `tqdm.tqdm_notebook`\n",
      "  for batch in tqdm_notebook(eval_dataloader, desc=\"Evaluating\"):\n"
     ]
    },
    {
     "data": {
      "text/plain": "Evaluating:   0%|          | 0/1164 [00:00<?, ?it/s]",
      "application/vnd.jupyter.widget-view+json": {
       "version_major": 2,
       "version_minor": 0,
       "model_id": "bceb0508455b427a885d85fe07e44dd4"
      },
      "application/json": {
       "n": 0,
       "total": 1164,
       "elapsed": 0.004003047943115234,
       "ncols": null,
       "nrows": null,
       "prefix": "Evaluating",
       "ascii": false,
       "unit": "it",
       "unit_scale": false,
       "rate": null,
       "bar_format": null,
       "postfix": null,
       "unit_divisor": 1000,
       "initial": 0,
       "colour": null
      }
     },
     "metadata": {},
     "output_type": "display_data"
    },
    {
     "name": "stderr",
     "output_type": "stream",
     "text": [
      "INFO:LOG:Generating evaluation dataset...\n",
      "INFO:LOG:Creating features from dataframe\n"
     ]
    },
    {
     "name": "stdout",
     "output_type": "stream",
     "text": [
      "          id  seq_starts  seq_ends  label              text\n",
      "0     747502           0         3      0               дні\n",
      "1     747502           0         5      1             дніпр\n",
      "2     747502           0         8      1          дніпрята\n",
      "3     747502           0         9      1        дніпрята ,\n",
      "4     747502           0        15      1  дніпрята , влада\n",
      "...      ...         ...       ...    ...               ...\n",
      "9302  747502         375       382      1         ##ть ново\n",
      "9303  747502         375       385      1      ##ть новость\n",
      "9304  747502         378       382      0              ново\n",
      "9305  747502         378       385      1           новость\n",
      "9306  747502         382       385      1             ##сть\n",
      "\n",
      "[9307 rows x 5 columns]\n",
      "          id  seq_starts  seq_ends  label                    text\n",
      "0     772625           0         9      0               володимир\n",
      "1     772625           0        11      0             володимир з\n",
      "2     772625           0        15      0         володимир зелен\n",
      "3     772625           0         4      0    володимир зеленськии\n",
      "4     772625           0        21      0  володимир зеленськии :\n",
      "...      ...         ...       ...    ...                     ...\n",
      "4175  772625         302       311      0             ##вати інші\n",
      "4176  772625         302         5      0      ##вати інші краіни\n",
      "4177  772625         307       311      0                    інші\n",
      "4178  772625         307         5      0             інші краіни\n",
      "4179  772625          -1         5      0                  краіни\n",
      "\n",
      "[4180 rows x 5 columns]\n",
      "(4180, 5)\n"
     ]
    },
    {
     "name": "stderr",
     "output_type": "stream",
     "text": [
      "INFO:LOG:Creating TensorDataset from features dataframe\n",
      "C:\\Windows\\Temp\\ipykernel_1144\\1158175120.py:14: TqdmDeprecationWarning: This function will be removed in tqdm==5.0.0\n",
      "Please use `tqdm.notebook.tqdm` instead of `tqdm.tqdm_notebook`\n",
      "  for batch in tqdm_notebook(eval_dataloader, desc=\"Evaluating\"):\n"
     ]
    },
    {
     "data": {
      "text/plain": "Evaluating:   0%|          | 0/523 [00:00<?, ?it/s]",
      "application/vnd.jupyter.widget-view+json": {
       "version_major": 2,
       "version_minor": 0,
       "model_id": "19eea28b4e8d485a88ed95578164b45d"
      },
      "application/json": {
       "n": 0,
       "total": 523,
       "elapsed": 0.0030031204223632812,
       "ncols": null,
       "nrows": null,
       "prefix": "Evaluating",
       "ascii": false,
       "unit": "it",
       "unit_scale": false,
       "rate": null,
       "bar_format": null,
       "postfix": null,
       "unit_divisor": 1000,
       "initial": 0,
       "colour": null
      }
     },
     "metadata": {},
     "output_type": "display_data"
    },
    {
     "name": "stderr",
     "output_type": "stream",
     "text": [
      "INFO:LOG:Generating evaluation dataset...\n",
      "INFO:LOG:Creating features from dataframe\n"
     ]
    },
    {
     "name": "stdout",
     "output_type": "stream",
     "text": [
      "          id  seq_starts  seq_ends  label                    text\n",
      "0     772625           0         9      0               володимир\n",
      "1     772625           0        11      1             володимир з\n",
      "2     772625           0        15      1         володимир зелен\n",
      "3     772625           0         4      1    володимир зеленськии\n",
      "4     772625           0        21      1  володимир зеленськии :\n",
      "...      ...         ...       ...    ...                     ...\n",
      "4175  772625         302       311      1             ##вати інші\n",
      "4176  772625         302         5      1      ##вати інші краіни\n",
      "4177  772625         307       311      0                    інші\n",
      "4178  772625         307         5      1             інші краіни\n",
      "4179  772625          -1         5      0                  краіни\n",
      "\n",
      "[4180 rows x 5 columns]\n",
      "          id  seq_starts  seq_ends  label         text\n",
      "0     792284           0         2      0           за\n",
      "1     792284           0         4      0         заги\n",
      "2     792284           0         6      0       загибл\n",
      "3     792284           0         8      0     загиблих\n",
      "4     792284           0        11      0  загиблих за\n",
      "...      ...         ...       ...    ...          ...\n",
      "4737  792284         332       337      0        героя\n",
      "4738  792284         332       338      0       героям\n",
      "4739  792284         332       339      0     героям !\n",
      "4740  792284         337       338      0          ##м\n",
      "4741  792284         337       339      0        ##м !\n",
      "\n",
      "[4742 rows x 5 columns]\n",
      "(4742, 5)\n"
     ]
    },
    {
     "name": "stderr",
     "output_type": "stream",
     "text": [
      "INFO:LOG:Creating TensorDataset from features dataframe\n",
      "C:\\Windows\\Temp\\ipykernel_1144\\1158175120.py:14: TqdmDeprecationWarning: This function will be removed in tqdm==5.0.0\n",
      "Please use `tqdm.notebook.tqdm` instead of `tqdm.tqdm_notebook`\n",
      "  for batch in tqdm_notebook(eval_dataloader, desc=\"Evaluating\"):\n"
     ]
    },
    {
     "data": {
      "text/plain": "Evaluating:   0%|          | 0/593 [00:00<?, ?it/s]",
      "application/vnd.jupyter.widget-view+json": {
       "version_major": 2,
       "version_minor": 0,
       "model_id": "7ee78e71ebda45779dbdd7aaba12338e"
      },
      "application/json": {
       "n": 0,
       "total": 593,
       "elapsed": 0.003996372222900391,
       "ncols": null,
       "nrows": null,
       "prefix": "Evaluating",
       "ascii": false,
       "unit": "it",
       "unit_scale": false,
       "rate": null,
       "bar_format": null,
       "postfix": null,
       "unit_divisor": 1000,
       "initial": 0,
       "colour": null
      }
     },
     "metadata": {},
     "output_type": "display_data"
    },
    {
     "name": "stderr",
     "output_type": "stream",
     "text": [
      "INFO:LOG:Generating evaluation dataset...\n",
      "INFO:LOG:Creating features from dataframe\n"
     ]
    },
    {
     "name": "stdout",
     "output_type": "stream",
     "text": [
      "          id  seq_starts  seq_ends  label         text\n",
      "0     792284           0         2      1           за\n",
      "1     792284           0         4      1         заги\n",
      "2     792284           0         6      1       загибл\n",
      "3     792284           0         8      1     загиблих\n",
      "4     792284           0        11      1  загиблих за\n",
      "...      ...         ...       ...    ...          ...\n",
      "4737  792284         332       337      0        героя\n",
      "4738  792284         332       338      1       героям\n",
      "4739  792284         332       339      1     героям !\n",
      "4740  792284         337       338      1          ##м\n",
      "4741  792284         337       339      1        ##м !\n",
      "\n",
      "[4742 rows x 5 columns]\n",
      "           id  seq_starts  seq_ends  label             text\n",
      "0      801846           0         2      0               чи\n",
      "1      801846           0         7      0          читання\n",
      "2      801846           0        12      0     читання нови\n",
      "3      801846           0        13      0    читання новин\n",
      "4      801846           0        15      0  читання новин в\n",
      "...       ...         ...       ...    ...              ...\n",
      "11157  801846         407       416      0      ##лати нови\n",
      "11158  801846         407       418      0    ##лати новину\n",
      "11159  801846         412       416      0             нови\n",
      "11160  801846         412       418      0           новину\n",
      "11161  801846         416       418      0             ##ну\n",
      "\n",
      "[11162 rows x 5 columns]\n",
      "(11162, 5)\n"
     ]
    },
    {
     "name": "stderr",
     "output_type": "stream",
     "text": [
      "INFO:LOG:Creating TensorDataset from features dataframe\n",
      "C:\\Windows\\Temp\\ipykernel_1144\\1158175120.py:14: TqdmDeprecationWarning: This function will be removed in tqdm==5.0.0\n",
      "Please use `tqdm.notebook.tqdm` instead of `tqdm.tqdm_notebook`\n",
      "  for batch in tqdm_notebook(eval_dataloader, desc=\"Evaluating\"):\n"
     ]
    },
    {
     "data": {
      "text/plain": "Evaluating:   0%|          | 0/1396 [00:00<?, ?it/s]",
      "application/vnd.jupyter.widget-view+json": {
       "version_major": 2,
       "version_minor": 0,
       "model_id": "4c7e469f85554401aedeacca44b7a1b9"
      },
      "application/json": {
       "n": 0,
       "total": 1396,
       "elapsed": 0.0040285587310791016,
       "ncols": null,
       "nrows": null,
       "prefix": "Evaluating",
       "ascii": false,
       "unit": "it",
       "unit_scale": false,
       "rate": null,
       "bar_format": null,
       "postfix": null,
       "unit_divisor": 1000,
       "initial": 0,
       "colour": null
      }
     },
     "metadata": {},
     "output_type": "display_data"
    },
    {
     "name": "stderr",
     "output_type": "stream",
     "text": [
      "INFO:LOG:Generating evaluation dataset...\n",
      "INFO:LOG:Creating features from dataframe\n"
     ]
    },
    {
     "name": "stdout",
     "output_type": "stream",
     "text": [
      "           id  seq_starts  seq_ends  label             text\n",
      "0      801846           0         2      0               чи\n",
      "1      801846           0         7      1          читання\n",
      "2      801846           0        12      1     читання нови\n",
      "3      801846           0        13      1    читання новин\n",
      "4      801846           0        15      1  читання новин в\n",
      "...       ...         ...       ...    ...              ...\n",
      "11157  801846         407       416      1      ##лати нови\n",
      "11158  801846         407       418      1    ##лати новину\n",
      "11159  801846         412       416      0             нови\n",
      "11160  801846         412       418      0           новину\n",
      "11161  801846         416       418      1             ##ну\n",
      "\n",
      "[11162 rows x 5 columns]\n",
      "          id  seq_starts  seq_ends  label             text\n",
      "0     801849           0         5      0            орден\n",
      "1     801849           0         8      0         орден по\n",
      "2     801849           0        11      0      орден пошан\n",
      "3     801849           0        12      0     орден пошани\n",
      "4     801849           0        15      0  орден пошани за\n",
      "...      ...         ...       ...    ...              ...\n",
      "8372  801849         369       378      0      ##лати нови\n",
      "8373  801849         369       380      0    ##лати новину\n",
      "8374  801849         374       378      0             нови\n",
      "8375  801849         374       380      0           новину\n",
      "8376  801849         378       380      0             ##ну\n",
      "\n",
      "[8377 rows x 5 columns]\n",
      "(8377, 5)\n"
     ]
    },
    {
     "name": "stderr",
     "output_type": "stream",
     "text": [
      "INFO:LOG:Creating TensorDataset from features dataframe\n",
      "C:\\Windows\\Temp\\ipykernel_1144\\1158175120.py:14: TqdmDeprecationWarning: This function will be removed in tqdm==5.0.0\n",
      "Please use `tqdm.notebook.tqdm` instead of `tqdm.tqdm_notebook`\n",
      "  for batch in tqdm_notebook(eval_dataloader, desc=\"Evaluating\"):\n"
     ]
    },
    {
     "data": {
      "text/plain": "Evaluating:   0%|          | 0/1048 [00:00<?, ?it/s]",
      "application/vnd.jupyter.widget-view+json": {
       "version_major": 2,
       "version_minor": 0,
       "model_id": "82e28e3c9f8e4c6f9bceafaa11146ba6"
      },
      "application/json": {
       "n": 0,
       "total": 1048,
       "elapsed": 0.0039670467376708984,
       "ncols": null,
       "nrows": null,
       "prefix": "Evaluating",
       "ascii": false,
       "unit": "it",
       "unit_scale": false,
       "rate": null,
       "bar_format": null,
       "postfix": null,
       "unit_divisor": 1000,
       "initial": 0,
       "colour": null
      }
     },
     "metadata": {},
     "output_type": "display_data"
    },
    {
     "name": "stderr",
     "output_type": "stream",
     "text": [
      "INFO:LOG:Generating evaluation dataset...\n",
      "INFO:LOG:Creating features from dataframe\n"
     ]
    },
    {
     "name": "stdout",
     "output_type": "stream",
     "text": [
      "          id  seq_starts  seq_ends  label             text\n",
      "0     801849           0         5      0            орден\n",
      "1     801849           0         8      1         орден по\n",
      "2     801849           0        11      1      орден пошан\n",
      "3     801849           0        12      1     орден пошани\n",
      "4     801849           0        15      1  орден пошани за\n",
      "...      ...         ...       ...    ...              ...\n",
      "8372  801849         369       378      1      ##лати нови\n",
      "8373  801849         369       380      1    ##лати новину\n",
      "8374  801849         374       378      0             нови\n",
      "8375  801849         374       380      0           новину\n",
      "8376  801849         378       380      1             ##ну\n",
      "\n",
      "[8377 rows x 5 columns]\n",
      "          id  seq_starts  seq_ends  label           text\n",
      "0     801904           0         3      0            нар\n",
      "1     801904           0         5      0          нареш\n",
      "2     801904           0         7      0        нарешті\n",
      "3     801904           0        11      0    нарешті обл\n",
      "4     801904           0        13      0  нарешті облаш\n",
      "...      ...         ...       ...    ...            ...\n",
      "2619  801904         213       215      0           ##ит\n",
      "2620  801904         213       218      0        ##иттів\n",
      "2621  801904         213       219      0      ##иттів .\n",
      "2622  801904         215       218      0          ##тів\n",
      "2623  801904         215       219      0        ##тів .\n",
      "\n",
      "[2624 rows x 5 columns]\n",
      "(2624, 5)\n"
     ]
    },
    {
     "name": "stderr",
     "output_type": "stream",
     "text": [
      "INFO:LOG:Creating TensorDataset from features dataframe\n",
      "C:\\Windows\\Temp\\ipykernel_1144\\1158175120.py:14: TqdmDeprecationWarning: This function will be removed in tqdm==5.0.0\n",
      "Please use `tqdm.notebook.tqdm` instead of `tqdm.tqdm_notebook`\n",
      "  for batch in tqdm_notebook(eval_dataloader, desc=\"Evaluating\"):\n"
     ]
    },
    {
     "data": {
      "text/plain": "Evaluating:   0%|          | 0/328 [00:00<?, ?it/s]",
      "application/vnd.jupyter.widget-view+json": {
       "version_major": 2,
       "version_minor": 0,
       "model_id": "e0d126255d8e450198becb5f4c00399d"
      },
      "application/json": {
       "n": 0,
       "total": 328,
       "elapsed": 0.002999544143676758,
       "ncols": null,
       "nrows": null,
       "prefix": "Evaluating",
       "ascii": false,
       "unit": "it",
       "unit_scale": false,
       "rate": null,
       "bar_format": null,
       "postfix": null,
       "unit_divisor": 1000,
       "initial": 0,
       "colour": null
      }
     },
     "metadata": {},
     "output_type": "display_data"
    },
    {
     "name": "stderr",
     "output_type": "stream",
     "text": [
      "INFO:LOG:Generating evaluation dataset...\n",
      "INFO:LOG:Creating features from dataframe\n"
     ]
    },
    {
     "name": "stdout",
     "output_type": "stream",
     "text": [
      "          id  seq_starts  seq_ends  label           text\n",
      "0     801904           0         3      0            нар\n",
      "1     801904           0         5      1          нареш\n",
      "2     801904           0         7      1        нарешті\n",
      "3     801904           0        11      1    нарешті обл\n",
      "4     801904           0        13      1  нарешті облаш\n",
      "...      ...         ...       ...    ...            ...\n",
      "2619  801904         213       215      1           ##ит\n",
      "2620  801904         213       218      1        ##иттів\n",
      "2621  801904         213       219      0      ##иттів .\n",
      "2622  801904         215       218      1          ##тів\n",
      "2623  801904         215       219      0        ##тів .\n",
      "\n",
      "[2624 rows x 5 columns]\n",
      "          id  seq_starts  seq_ends  label              text\n",
      "0     802130           0         2      0                ар\n",
      "1     802130           0         6      0            арсена\n",
      "2     802130           0         7      0           арсенал\n",
      "3     802130           0         4      0     арсенал зброі\n",
      "4     802130           0        16      0  арсенал зброі ви\n",
      "...      ...         ...       ...    ...               ...\n",
      "2993  802130         218       227      0       ##лати нови\n",
      "2994  802130         218       229      0     ##лати новину\n",
      "2995  802130         223       227      0              нови\n",
      "2996  802130         223       229      0            новину\n",
      "2997  802130         227       229      0              ##ну\n",
      "\n",
      "[2998 rows x 5 columns]\n",
      "(2998, 5)\n"
     ]
    },
    {
     "name": "stderr",
     "output_type": "stream",
     "text": [
      "INFO:LOG:Creating TensorDataset from features dataframe\n",
      "C:\\Windows\\Temp\\ipykernel_1144\\1158175120.py:14: TqdmDeprecationWarning: This function will be removed in tqdm==5.0.0\n",
      "Please use `tqdm.notebook.tqdm` instead of `tqdm.tqdm_notebook`\n",
      "  for batch in tqdm_notebook(eval_dataloader, desc=\"Evaluating\"):\n"
     ]
    },
    {
     "data": {
      "text/plain": "Evaluating:   0%|          | 0/375 [00:00<?, ?it/s]",
      "application/vnd.jupyter.widget-view+json": {
       "version_major": 2,
       "version_minor": 0,
       "model_id": "d1d9bffc6f7148aa9e25fb67dc1b23f5"
      },
      "application/json": {
       "n": 0,
       "total": 375,
       "elapsed": 0.004004001617431641,
       "ncols": null,
       "nrows": null,
       "prefix": "Evaluating",
       "ascii": false,
       "unit": "it",
       "unit_scale": false,
       "rate": null,
       "bar_format": null,
       "postfix": null,
       "unit_divisor": 1000,
       "initial": 0,
       "colour": null
      }
     },
     "metadata": {},
     "output_type": "display_data"
    },
    {
     "name": "stderr",
     "output_type": "stream",
     "text": [
      "INFO:LOG:Generating evaluation dataset...\n",
      "INFO:LOG:Creating features from dataframe\n"
     ]
    },
    {
     "name": "stdout",
     "output_type": "stream",
     "text": [
      "          id  seq_starts  seq_ends  label              text\n",
      "0     802130           0         2      0                ар\n",
      "1     802130           0         6      1            арсена\n",
      "2     802130           0         7      1           арсенал\n",
      "3     802130           0         4      1     арсенал зброі\n",
      "4     802130           0        16      1  арсенал зброі ви\n",
      "...      ...         ...       ...    ...               ...\n",
      "2993  802130         218       227      1       ##лати нови\n",
      "2994  802130         218       229      1     ##лати новину\n",
      "2995  802130         223       227      0              нови\n",
      "2996  802130         223       229      0            новину\n",
      "2997  802130         227       229      1              ##ну\n",
      "\n",
      "[2998 rows x 5 columns]\n",
      "          id  seq_starts  seq_ends  label           text\n",
      "0     802152           0         1      0              ж\n",
      "1     802152           0         3      0            жін\n",
      "2     802152           0         5      0          жінці\n",
      "3     802152           0         7      0        жінці в\n",
      "4     802152           0        12      0   жінці в кафе\n",
      "...      ...         ...       ...    ...            ...\n",
      "9714  802152         408       417      0    ##лати нови\n",
      "9715  802152         408       419      0  ##лати новину\n",
      "9716  802152         413       417      0           нови\n",
      "9717  802152         413       419      0         новину\n",
      "9718  802152         417       419      0           ##ну\n",
      "\n",
      "[9719 rows x 5 columns]\n",
      "(9719, 5)\n"
     ]
    },
    {
     "name": "stderr",
     "output_type": "stream",
     "text": [
      "INFO:LOG:Creating TensorDataset from features dataframe\n",
      "C:\\Windows\\Temp\\ipykernel_1144\\1158175120.py:14: TqdmDeprecationWarning: This function will be removed in tqdm==5.0.0\n",
      "Please use `tqdm.notebook.tqdm` instead of `tqdm.tqdm_notebook`\n",
      "  for batch in tqdm_notebook(eval_dataloader, desc=\"Evaluating\"):\n"
     ]
    },
    {
     "data": {
      "text/plain": "Evaluating:   0%|          | 0/1215 [00:00<?, ?it/s]",
      "application/vnd.jupyter.widget-view+json": {
       "version_major": 2,
       "version_minor": 0,
       "model_id": "88dc9f77d29e40a5ae0923746cc41db7"
      },
      "application/json": {
       "n": 0,
       "total": 1215,
       "elapsed": 0.003971099853515625,
       "ncols": null,
       "nrows": null,
       "prefix": "Evaluating",
       "ascii": false,
       "unit": "it",
       "unit_scale": false,
       "rate": null,
       "bar_format": null,
       "postfix": null,
       "unit_divisor": 1000,
       "initial": 0,
       "colour": null
      }
     },
     "metadata": {},
     "output_type": "display_data"
    },
    {
     "name": "stderr",
     "output_type": "stream",
     "text": [
      "INFO:LOG:Generating evaluation dataset...\n",
      "INFO:LOG:Creating features from dataframe\n"
     ]
    },
    {
     "name": "stdout",
     "output_type": "stream",
     "text": [
      "          id  seq_starts  seq_ends  label           text\n",
      "0     802152           0         1      0              ж\n",
      "1     802152           0         3      1            жін\n",
      "2     802152           0         5      1          жінці\n",
      "3     802152           0         7      1        жінці в\n",
      "4     802152           0        12      1   жінці в кафе\n",
      "...      ...         ...       ...    ...            ...\n",
      "9714  802152         408       417      1    ##лати нови\n",
      "9715  802152         408       419      1  ##лати новину\n",
      "9716  802152         413       417      0           нови\n",
      "9717  802152         413       419      0         новину\n",
      "9718  802152         417       419      1           ##ну\n",
      "\n",
      "[9719 rows x 5 columns]\n",
      "          id  seq_starts  seq_ends  label           text\n",
      "0     802156           0         2      0             на\n",
      "1     802156           0         6      0         на кор\n",
      "2     802156           0         9      0      на кордон\n",
      "3     802156           0        10      0     на кордоні\n",
      "4     802156           0        12      0   на кордоні з\n",
      "...      ...         ...       ...    ...            ...\n",
      "7612  802156         374       383      0    ##лати нови\n",
      "7613  802156         374       385      0  ##лати новину\n",
      "7614  802156         379       383      0           нови\n",
      "7615  802156         379       385      0         новину\n",
      "7616  802156         383       385      0           ##ну\n",
      "\n",
      "[7617 rows x 5 columns]\n",
      "(7617, 5)\n"
     ]
    },
    {
     "name": "stderr",
     "output_type": "stream",
     "text": [
      "INFO:LOG:Creating TensorDataset from features dataframe\n",
      "C:\\Windows\\Temp\\ipykernel_1144\\1158175120.py:14: TqdmDeprecationWarning: This function will be removed in tqdm==5.0.0\n",
      "Please use `tqdm.notebook.tqdm` instead of `tqdm.tqdm_notebook`\n",
      "  for batch in tqdm_notebook(eval_dataloader, desc=\"Evaluating\"):\n"
     ]
    },
    {
     "data": {
      "text/plain": "Evaluating:   0%|          | 0/953 [00:00<?, ?it/s]",
      "application/vnd.jupyter.widget-view+json": {
       "version_major": 2,
       "version_minor": 0,
       "model_id": "b501ef481d8447839e22bce54966a80c"
      },
      "application/json": {
       "n": 0,
       "total": 953,
       "elapsed": 0.0030031204223632812,
       "ncols": null,
       "nrows": null,
       "prefix": "Evaluating",
       "ascii": false,
       "unit": "it",
       "unit_scale": false,
       "rate": null,
       "bar_format": null,
       "postfix": null,
       "unit_divisor": 1000,
       "initial": 0,
       "colour": null
      }
     },
     "metadata": {},
     "output_type": "display_data"
    },
    {
     "name": "stderr",
     "output_type": "stream",
     "text": [
      "INFO:LOG:Generating evaluation dataset...\n",
      "INFO:LOG:Creating features from dataframe\n"
     ]
    },
    {
     "name": "stdout",
     "output_type": "stream",
     "text": [
      "          id  seq_starts  seq_ends  label           text\n",
      "0     802156           0         2      0             на\n",
      "1     802156           0         6      1         на кор\n",
      "2     802156           0         9      1      на кордон\n",
      "3     802156           0        10      1     на кордоні\n",
      "4     802156           0        12      1   на кордоні з\n",
      "...      ...         ...       ...    ...            ...\n",
      "7612  802156         374       383      1    ##лати нови\n",
      "7613  802156         374       385      1  ##лати новину\n",
      "7614  802156         379       383      0           нови\n",
      "7615  802156         379       385      0         новину\n",
      "7616  802156         383       385      1           ##ну\n",
      "\n",
      "[7617 rows x 5 columns]\n",
      "          id  seq_starts  seq_ends  label              text\n",
      "0     802416           0         3      0               мал\n",
      "1     802416           0         5      0         малецькии\n",
      "2     802416           0        12      0      малецькии за\n",
      "3     802416           0        14      0    малецькии загу\n",
      "4     802416           0        16      0  малецькии загуля\n",
      "...      ...         ...       ...    ...               ...\n",
      "2406  802416         206       215      0       ##лати нови\n",
      "2407  802416         206       217      0     ##лати новину\n",
      "2408  802416         211       215      0              нови\n",
      "2409  802416         211       217      0            новину\n",
      "2410  802416         215       217      0              ##ну\n",
      "\n",
      "[2411 rows x 5 columns]\n",
      "(2411, 5)\n"
     ]
    },
    {
     "name": "stderr",
     "output_type": "stream",
     "text": [
      "INFO:LOG:Creating TensorDataset from features dataframe\n",
      "C:\\Windows\\Temp\\ipykernel_1144\\1158175120.py:14: TqdmDeprecationWarning: This function will be removed in tqdm==5.0.0\n",
      "Please use `tqdm.notebook.tqdm` instead of `tqdm.tqdm_notebook`\n",
      "  for batch in tqdm_notebook(eval_dataloader, desc=\"Evaluating\"):\n"
     ]
    },
    {
     "data": {
      "text/plain": "Evaluating:   0%|          | 0/302 [00:00<?, ?it/s]",
      "application/vnd.jupyter.widget-view+json": {
       "version_major": 2,
       "version_minor": 0,
       "model_id": "554d2710bcf343a68a8314e5b00fc937"
      },
      "application/json": {
       "n": 0,
       "total": 302,
       "elapsed": 0.003989696502685547,
       "ncols": null,
       "nrows": null,
       "prefix": "Evaluating",
       "ascii": false,
       "unit": "it",
       "unit_scale": false,
       "rate": null,
       "bar_format": null,
       "postfix": null,
       "unit_divisor": 1000,
       "initial": 0,
       "colour": null
      }
     },
     "metadata": {},
     "output_type": "display_data"
    },
    {
     "name": "stderr",
     "output_type": "stream",
     "text": [
      "INFO:LOG:Generating evaluation dataset...\n",
      "INFO:LOG:Creating features from dataframe\n"
     ]
    },
    {
     "name": "stdout",
     "output_type": "stream",
     "text": [
      "          id  seq_starts  seq_ends  label              text\n",
      "0     802416           0         3      0               мал\n",
      "1     802416           0         5      1         малецькии\n",
      "2     802416           0        12      1      малецькии за\n",
      "3     802416           0        14      1    малецькии загу\n",
      "4     802416           0        16      1  малецькии загуля\n",
      "...      ...         ...       ...    ...               ...\n",
      "2406  802416         206       215      1       ##лати нови\n",
      "2407  802416         206       217      1     ##лати новину\n",
      "2408  802416         211       215      0              нови\n",
      "2409  802416         211       217      0            новину\n",
      "2410  802416         215       217      1              ##ну\n",
      "\n",
      "[2411 rows x 5 columns]\n",
      "          id  seq_starts  seq_ends  label               text\n",
      "0     802534           0         5      0              добро\n",
      "1     802534           0         7      0            доброго\n",
      "2     802534           0        12      0       доброго рано\n",
      "3     802534           0        15      0    доброго раночку\n",
      "4     802534           0        16      0  доброго раночку ,\n",
      "...      ...         ...       ...    ...                ...\n",
      "4936  802534         286       295      0        ##лати нови\n",
      "4937  802534         286       297      0      ##лати новину\n",
      "4938  802534         291       295      0               нови\n",
      "4939  802534         291       297      0             новину\n",
      "4940  802534         295       297      0               ##ну\n",
      "\n",
      "[4941 rows x 5 columns]\n",
      "(4941, 5)\n"
     ]
    },
    {
     "name": "stderr",
     "output_type": "stream",
     "text": [
      "INFO:LOG:Creating TensorDataset from features dataframe\n",
      "C:\\Windows\\Temp\\ipykernel_1144\\1158175120.py:14: TqdmDeprecationWarning: This function will be removed in tqdm==5.0.0\n",
      "Please use `tqdm.notebook.tqdm` instead of `tqdm.tqdm_notebook`\n",
      "  for batch in tqdm_notebook(eval_dataloader, desc=\"Evaluating\"):\n"
     ]
    },
    {
     "data": {
      "text/plain": "Evaluating:   0%|          | 0/618 [00:00<?, ?it/s]",
      "application/vnd.jupyter.widget-view+json": {
       "version_major": 2,
       "version_minor": 0,
       "model_id": "8d75be42fbac4fdd9f27d4e6b256e098"
      },
      "application/json": {
       "n": 0,
       "total": 618,
       "elapsed": 0.003989458084106445,
       "ncols": null,
       "nrows": null,
       "prefix": "Evaluating",
       "ascii": false,
       "unit": "it",
       "unit_scale": false,
       "rate": null,
       "bar_format": null,
       "postfix": null,
       "unit_divisor": 1000,
       "initial": 0,
       "colour": null
      }
     },
     "metadata": {},
     "output_type": "display_data"
    },
    {
     "name": "stderr",
     "output_type": "stream",
     "text": [
      "INFO:LOG:Generating evaluation dataset...\n"
     ]
    },
    {
     "name": "stdout",
     "output_type": "stream",
     "text": [
      "          id  seq_starts  seq_ends  label               text\n",
      "0     802534           0         5      0              добро\n",
      "1     802534           0         7      1            доброго\n",
      "2     802534           0        12      1       доброго рано\n",
      "3     802534           0        15      1    доброго раночку\n",
      "4     802534           0        16      1  доброго раночку ,\n",
      "...      ...         ...       ...    ...                ...\n",
      "4936  802534         286       295      1        ##лати нови\n",
      "4937  802534         286       297      1      ##лати новину\n",
      "4938  802534         291       295      0               нови\n",
      "4939  802534         291       297      0             новину\n",
      "4940  802534         295       297      1               ##ну\n",
      "\n",
      "[4941 rows x 5 columns]\n"
     ]
    },
    {
     "name": "stderr",
     "output_type": "stream",
     "text": [
      "INFO:LOG:Creating features from dataframe\n"
     ]
    },
    {
     "name": "stdout",
     "output_type": "stream",
     "text": [
      "           id  seq_starts  seq_ends  label             text\n",
      "0      802635           0         2      0               ша\n",
      "1      802635           0         5      0            шапов\n",
      "2      802635           0         8      0         шаповало\n",
      "3      802635           0         9      0        шаповалов\n",
      "4      802635           0        15      0  шаповалов почав\n",
      "...       ...         ...       ...    ...              ...\n",
      "17001  802635         534       537      0            ##лат\n",
      "17002  802635         534       539      0          ##латню\n",
      "17003  802635         534       540      0        ##латню ?\n",
      "17004  802635         537       539      0             ##ню\n",
      "17005  802635         537       540      0           ##ню ?\n",
      "\n",
      "[17006 rows x 5 columns]\n",
      "(17006, 5)\n"
     ]
    },
    {
     "name": "stderr",
     "output_type": "stream",
     "text": [
      "INFO:LOG:Creating TensorDataset from features dataframe\n",
      "C:\\Windows\\Temp\\ipykernel_1144\\1158175120.py:14: TqdmDeprecationWarning: This function will be removed in tqdm==5.0.0\n",
      "Please use `tqdm.notebook.tqdm` instead of `tqdm.tqdm_notebook`\n",
      "  for batch in tqdm_notebook(eval_dataloader, desc=\"Evaluating\"):\n"
     ]
    },
    {
     "data": {
      "text/plain": "Evaluating:   0%|          | 0/2126 [00:00<?, ?it/s]",
      "application/vnd.jupyter.widget-view+json": {
       "version_major": 2,
       "version_minor": 0,
       "model_id": "f485f6da52904a2abc9d2da5d97a0836"
      },
      "application/json": {
       "n": 0,
       "total": 2126,
       "elapsed": 0.0039675235748291016,
       "ncols": null,
       "nrows": null,
       "prefix": "Evaluating",
       "ascii": false,
       "unit": "it",
       "unit_scale": false,
       "rate": null,
       "bar_format": null,
       "postfix": null,
       "unit_divisor": 1000,
       "initial": 0,
       "colour": null
      }
     },
     "metadata": {},
     "output_type": "display_data"
    },
    {
     "name": "stderr",
     "output_type": "stream",
     "text": [
      "INFO:LOG:Generating evaluation dataset...\n",
      "INFO:LOG:Creating features from dataframe\n"
     ]
    },
    {
     "name": "stdout",
     "output_type": "stream",
     "text": [
      "           id  seq_starts  seq_ends  label             text\n",
      "0      802635           0         2      0               ша\n",
      "1      802635           0         5      1            шапов\n",
      "2      802635           0         8      1         шаповало\n",
      "3      802635           0         9      1        шаповалов\n",
      "4      802635           0        15      1  шаповалов почав\n",
      "...       ...         ...       ...    ...              ...\n",
      "17001  802635         534       537      1            ##лат\n",
      "17002  802635         534       539      1          ##латню\n",
      "17003  802635         534       540      1        ##латню ?\n",
      "17004  802635         537       539      1             ##ню\n",
      "17005  802635         537       540      1           ##ню ?\n",
      "\n",
      "[17006 rows x 5 columns]\n",
      "          id  seq_starts  seq_ends  label          text\n",
      "0     802717           0         2      0            ка\n",
      "1     802717           0         4      0          каца\n",
      "2     802717           0         6      0        кацапи\n",
      "3     802717           0         9      0     кацапи те\n",
      "4     802717           0        12      0  кацапи тесту\n",
      "...      ...         ...       ...    ...           ...\n",
      "3560  802717         256       258      0          ##пе\n",
      "3561  802717         256       260      0        ##пека\n",
      "3562  802717         256       261      0      ##пека .\n",
      "3563  802717         258       260      0          ##ка\n",
      "3564  802717         258       261      0        ##ка .\n",
      "\n",
      "[3565 rows x 5 columns]\n",
      "(3565, 5)\n"
     ]
    },
    {
     "name": "stderr",
     "output_type": "stream",
     "text": [
      "INFO:LOG:Creating TensorDataset from features dataframe\n",
      "C:\\Windows\\Temp\\ipykernel_1144\\1158175120.py:14: TqdmDeprecationWarning: This function will be removed in tqdm==5.0.0\n",
      "Please use `tqdm.notebook.tqdm` instead of `tqdm.tqdm_notebook`\n",
      "  for batch in tqdm_notebook(eval_dataloader, desc=\"Evaluating\"):\n"
     ]
    },
    {
     "data": {
      "text/plain": "Evaluating:   0%|          | 0/446 [00:00<?, ?it/s]",
      "application/vnd.jupyter.widget-view+json": {
       "version_major": 2,
       "version_minor": 0,
       "model_id": "d1c783e3b6014285b43f85f3ffff8276"
      },
      "application/json": {
       "n": 0,
       "total": 446,
       "elapsed": 0.0029997825622558594,
       "ncols": null,
       "nrows": null,
       "prefix": "Evaluating",
       "ascii": false,
       "unit": "it",
       "unit_scale": false,
       "rate": null,
       "bar_format": null,
       "postfix": null,
       "unit_divisor": 1000,
       "initial": 0,
       "colour": null
      }
     },
     "metadata": {},
     "output_type": "display_data"
    },
    {
     "name": "stderr",
     "output_type": "stream",
     "text": [
      "INFO:LOG:Generating evaluation dataset...\n",
      "INFO:LOG:Creating features from dataframe\n"
     ]
    },
    {
     "name": "stdout",
     "output_type": "stream",
     "text": [
      "          id  seq_starts  seq_ends  label          text\n",
      "0     802717           0         2      0            ка\n",
      "1     802717           0         4      1          каца\n",
      "2     802717           0         6      1        кацапи\n",
      "3     802717           0         9      1     кацапи те\n",
      "4     802717           0        12      1  кацапи тесту\n",
      "...      ...         ...       ...    ...           ...\n",
      "3560  802717         256       258      1          ##пе\n",
      "3561  802717         256       260      1        ##пека\n",
      "3562  802717         256       261      0      ##пека .\n",
      "3563  802717         258       260      1          ##ка\n",
      "3564  802717         258       261      0        ##ка .\n",
      "\n",
      "[3565 rows x 5 columns]\n",
      "          id  seq_starts  seq_ends  label           text\n",
      "0     802824           0         3      0            нар\n",
      "1     802824           0         7      0        наркото\n",
      "2     802824           0         9      0      наркоторг\n",
      "3     802824           0        11      0    наркоторгів\n",
      "4     802824           0        13      0  наркоторгівця\n",
      "...      ...         ...       ...    ...            ...\n",
      "4362  802824         252       261      0    ##лати нови\n",
      "4363  802824         252       263      0  ##лати новину\n",
      "4364  802824         257       261      0           нови\n",
      "4365  802824         257       263      0         новину\n",
      "4366  802824         261       263      0           ##ну\n",
      "\n",
      "[4367 rows x 5 columns]\n",
      "(4367, 5)\n"
     ]
    },
    {
     "name": "stderr",
     "output_type": "stream",
     "text": [
      "INFO:LOG:Creating TensorDataset from features dataframe\n",
      "C:\\Windows\\Temp\\ipykernel_1144\\1158175120.py:14: TqdmDeprecationWarning: This function will be removed in tqdm==5.0.0\n",
      "Please use `tqdm.notebook.tqdm` instead of `tqdm.tqdm_notebook`\n",
      "  for batch in tqdm_notebook(eval_dataloader, desc=\"Evaluating\"):\n"
     ]
    },
    {
     "data": {
      "text/plain": "Evaluating:   0%|          | 0/546 [00:00<?, ?it/s]",
      "application/vnd.jupyter.widget-view+json": {
       "version_major": 2,
       "version_minor": 0,
       "model_id": "3a0a75267a3846948ffb8c7ea7c5c4c9"
      },
      "application/json": {
       "n": 0,
       "total": 546,
       "elapsed": 0.003998994827270508,
       "ncols": null,
       "nrows": null,
       "prefix": "Evaluating",
       "ascii": false,
       "unit": "it",
       "unit_scale": false,
       "rate": null,
       "bar_format": null,
       "postfix": null,
       "unit_divisor": 1000,
       "initial": 0,
       "colour": null
      }
     },
     "metadata": {},
     "output_type": "display_data"
    },
    {
     "name": "stderr",
     "output_type": "stream",
     "text": [
      "INFO:LOG:Generating evaluation dataset...\n",
      "INFO:LOG:Creating features from dataframe\n"
     ]
    },
    {
     "name": "stdout",
     "output_type": "stream",
     "text": [
      "          id  seq_starts  seq_ends  label           text\n",
      "0     802824           0         3      0            нар\n",
      "1     802824           0         7      1        наркото\n",
      "2     802824           0         9      1      наркоторг\n",
      "3     802824           0        11      1    наркоторгів\n",
      "4     802824           0        13      1  наркоторгівця\n",
      "...      ...         ...       ...    ...            ...\n",
      "4362  802824         252       261      1    ##лати нови\n",
      "4363  802824         252       263      1  ##лати новину\n",
      "4364  802824         257       261      0           нови\n",
      "4365  802824         257       263      0         новину\n",
      "4366  802824         261       263      1           ##ну\n",
      "\n",
      "[4367 rows x 5 columns]\n",
      "          id  seq_starts  seq_ends  label                 text\n",
      "0     802873           0         3      0                  мал\n",
      "1     802873           0         5      0            малецькии\n",
      "2     802873           0        15      0      малецькии назва\n",
      "3     802873           0        16      0     малецькии назвав\n",
      "4     802873           0        19      0  малецькии назвав пр\n",
      "...      ...         ...       ...    ...                  ...\n",
      "5657  802873         284       293      0          ##лати нови\n",
      "5658  802873         284       295      0        ##лати новину\n",
      "5659  802873         289       293      0                 нови\n",
      "5660  802873         289       295      0               новину\n",
      "5661  802873         293       295      0                 ##ну\n",
      "\n",
      "[5662 rows x 5 columns]\n",
      "(5662, 5)\n"
     ]
    },
    {
     "name": "stderr",
     "output_type": "stream",
     "text": [
      "INFO:LOG:Creating TensorDataset from features dataframe\n",
      "C:\\Windows\\Temp\\ipykernel_1144\\1158175120.py:14: TqdmDeprecationWarning: This function will be removed in tqdm==5.0.0\n",
      "Please use `tqdm.notebook.tqdm` instead of `tqdm.tqdm_notebook`\n",
      "  for batch in tqdm_notebook(eval_dataloader, desc=\"Evaluating\"):\n"
     ]
    },
    {
     "data": {
      "text/plain": "Evaluating:   0%|          | 0/708 [00:00<?, ?it/s]",
      "application/vnd.jupyter.widget-view+json": {
       "version_major": 2,
       "version_minor": 0,
       "model_id": "4b456db20b7f4de0bad882d715ce8157"
      },
      "application/json": {
       "n": 0,
       "total": 708,
       "elapsed": 0.0029985904693603516,
       "ncols": null,
       "nrows": null,
       "prefix": "Evaluating",
       "ascii": false,
       "unit": "it",
       "unit_scale": false,
       "rate": null,
       "bar_format": null,
       "postfix": null,
       "unit_divisor": 1000,
       "initial": 0,
       "colour": null
      }
     },
     "metadata": {},
     "output_type": "display_data"
    },
    {
     "name": "stderr",
     "output_type": "stream",
     "text": [
      "INFO:LOG:Generating evaluation dataset...\n",
      "INFO:LOG:Creating features from dataframe\n"
     ]
    },
    {
     "name": "stdout",
     "output_type": "stream",
     "text": [
      "          id  seq_starts  seq_ends  label                 text\n",
      "0     802873           0         3      0                  мал\n",
      "1     802873           0         5      1            малецькии\n",
      "2     802873           0        15      1      малецькии назва\n",
      "3     802873           0        16      1     малецькии назвав\n",
      "4     802873           0        19      1  малецькии назвав пр\n",
      "...      ...         ...       ...    ...                  ...\n",
      "5657  802873         284       293      1          ##лати нови\n",
      "5658  802873         284       295      1        ##лати новину\n",
      "5659  802873         289       293      0                 нови\n",
      "5660  802873         289       295      0               новину\n",
      "5661  802873         293       295      1                 ##ну\n",
      "\n",
      "[5662 rows x 5 columns]\n",
      "          id  seq_starts  seq_ends  label               text\n",
      "0     803167           0         2      0                 ви\n",
      "1     803167           0         4      0               вилу\n",
      "2     803167           0         8      0           вилучили\n",
      "3     803167           0        14      0     вилучили понад\n",
      "4     803167           0        17      0  вилучили понад 80\n",
      "...      ...         ...       ...    ...                ...\n",
      "3311  803167         227       236      0        ##лати нови\n",
      "3312  803167         227       238      0      ##лати новину\n",
      "3313  803167         232       236      0               нови\n",
      "3314  803167         232       238      0             новину\n",
      "3315  803167         236       238      0               ##ну\n",
      "\n",
      "[3316 rows x 5 columns]\n",
      "(3316, 5)\n"
     ]
    },
    {
     "name": "stderr",
     "output_type": "stream",
     "text": [
      "INFO:LOG:Creating TensorDataset from features dataframe\n",
      "C:\\Windows\\Temp\\ipykernel_1144\\1158175120.py:14: TqdmDeprecationWarning: This function will be removed in tqdm==5.0.0\n",
      "Please use `tqdm.notebook.tqdm` instead of `tqdm.tqdm_notebook`\n",
      "  for batch in tqdm_notebook(eval_dataloader, desc=\"Evaluating\"):\n"
     ]
    },
    {
     "data": {
      "text/plain": "Evaluating:   0%|          | 0/415 [00:00<?, ?it/s]",
      "application/vnd.jupyter.widget-view+json": {
       "version_major": 2,
       "version_minor": 0,
       "model_id": "86ec41106f9d4210aa0d67144efca7fd"
      },
      "application/json": {
       "n": 0,
       "total": 415,
       "elapsed": 0.002997875213623047,
       "ncols": null,
       "nrows": null,
       "prefix": "Evaluating",
       "ascii": false,
       "unit": "it",
       "unit_scale": false,
       "rate": null,
       "bar_format": null,
       "postfix": null,
       "unit_divisor": 1000,
       "initial": 0,
       "colour": null
      }
     },
     "metadata": {},
     "output_type": "display_data"
    },
    {
     "name": "stderr",
     "output_type": "stream",
     "text": [
      "INFO:LOG:Generating evaluation dataset...\n",
      "INFO:LOG:Creating features from dataframe\n"
     ]
    },
    {
     "name": "stdout",
     "output_type": "stream",
     "text": [
      "          id  seq_starts  seq_ends  label               text\n",
      "0     803167           0         2      0                 ви\n",
      "1     803167           0         4      1               вилу\n",
      "2     803167           0         8      1           вилучили\n",
      "3     803167           0        14      1     вилучили понад\n",
      "4     803167           0        17      1  вилучили понад 80\n",
      "...      ...         ...       ...    ...                ...\n",
      "3311  803167         227       236      1        ##лати нови\n",
      "3312  803167         227       238      1      ##лати новину\n",
      "3313  803167         232       236      0               нови\n",
      "3314  803167         232       238      0             новину\n",
      "3315  803167         236       238      1               ##ну\n",
      "\n",
      "[3316 rows x 5 columns]\n",
      "          id  seq_starts  seq_ends  label            text\n",
      "0     803349           0         3      0             пол\n",
      "1     803349           0         4      0            поль\n",
      "2     803349           0         8      0        польські\n",
      "3     803349           0        12      0    польські пер\n",
      "4     803349           0        14      0  польські перев\n",
      "...      ...         ...       ...    ...             ...\n",
      "4362  803349         293       302      0     ##лати нови\n",
      "4363  803349         293       304      0   ##лати новину\n",
      "4364  803349         298       302      0            нови\n",
      "4365  803349         298       304      0          новину\n",
      "4366  803349         302       304      0            ##ну\n",
      "\n",
      "[4367 rows x 5 columns]\n",
      "(4367, 5)\n"
     ]
    },
    {
     "name": "stderr",
     "output_type": "stream",
     "text": [
      "INFO:LOG:Creating TensorDataset from features dataframe\n",
      "C:\\Windows\\Temp\\ipykernel_1144\\1158175120.py:14: TqdmDeprecationWarning: This function will be removed in tqdm==5.0.0\n",
      "Please use `tqdm.notebook.tqdm` instead of `tqdm.tqdm_notebook`\n",
      "  for batch in tqdm_notebook(eval_dataloader, desc=\"Evaluating\"):\n"
     ]
    },
    {
     "data": {
      "text/plain": "Evaluating:   0%|          | 0/546 [00:00<?, ?it/s]",
      "application/vnd.jupyter.widget-view+json": {
       "version_major": 2,
       "version_minor": 0,
       "model_id": "a8ba43afc8254fbabb208995391d4bf5"
      },
      "application/json": {
       "n": 0,
       "total": 546,
       "elapsed": 0.0029990673065185547,
       "ncols": null,
       "nrows": null,
       "prefix": "Evaluating",
       "ascii": false,
       "unit": "it",
       "unit_scale": false,
       "rate": null,
       "bar_format": null,
       "postfix": null,
       "unit_divisor": 1000,
       "initial": 0,
       "colour": null
      }
     },
     "metadata": {},
     "output_type": "display_data"
    },
    {
     "name": "stderr",
     "output_type": "stream",
     "text": [
      "INFO:LOG:Generating evaluation dataset...\n",
      "INFO:LOG:Creating features from dataframe\n"
     ]
    },
    {
     "name": "stdout",
     "output_type": "stream",
     "text": [
      "          id  seq_starts  seq_ends  label            text\n",
      "0     803349           0         3      0             пол\n",
      "1     803349           0         4      1            поль\n",
      "2     803349           0         8      1        польські\n",
      "3     803349           0        12      1    польські пер\n",
      "4     803349           0        14      1  польські перев\n",
      "...      ...         ...       ...    ...             ...\n",
      "4362  803349         293       302      1     ##лати нови\n",
      "4363  803349         293       304      1   ##лати новину\n",
      "4364  803349         298       302      0            нови\n",
      "4365  803349         298       304      0          новину\n",
      "4366  803349         302       304      1            ##ну\n",
      "\n",
      "[4367 rows x 5 columns]\n",
      "          id  seq_starts  seq_ends  label           text\n",
      "0     876018           0         3      0            дні\n",
      "1     876018           0         5      0          дніпр\n",
      "2     876018           0         6      0         дніпро\n",
      "3     876018           0         9      0      дніпро не\n",
      "4     876018           0        13      0  дніпро не пер\n",
      "...      ...         ...       ...    ...            ...\n",
      "7364  876018         328       335      0      ##ть ново\n",
      "7365  876018         328       338      0   ##ть новость\n",
      "7366  876018         331       335      0           ново\n",
      "7367  876018         331       338      0        новость\n",
      "7368  876018         335       338      0          ##сть\n",
      "\n",
      "[7369 rows x 5 columns]\n",
      "(7369, 5)\n"
     ]
    },
    {
     "name": "stderr",
     "output_type": "stream",
     "text": [
      "INFO:LOG:Creating TensorDataset from features dataframe\n",
      "C:\\Windows\\Temp\\ipykernel_1144\\1158175120.py:14: TqdmDeprecationWarning: This function will be removed in tqdm==5.0.0\n",
      "Please use `tqdm.notebook.tqdm` instead of `tqdm.tqdm_notebook`\n",
      "  for batch in tqdm_notebook(eval_dataloader, desc=\"Evaluating\"):\n"
     ]
    },
    {
     "data": {
      "text/plain": "Evaluating:   0%|          | 0/922 [00:00<?, ?it/s]",
      "application/vnd.jupyter.widget-view+json": {
       "version_major": 2,
       "version_minor": 0,
       "model_id": "d5cab4eca2964518926f55d33692ea4f"
      },
      "application/json": {
       "n": 0,
       "total": 922,
       "elapsed": 0.003995418548583984,
       "ncols": null,
       "nrows": null,
       "prefix": "Evaluating",
       "ascii": false,
       "unit": "it",
       "unit_scale": false,
       "rate": null,
       "bar_format": null,
       "postfix": null,
       "unit_divisor": 1000,
       "initial": 0,
       "colour": null
      }
     },
     "metadata": {},
     "output_type": "display_data"
    },
    {
     "name": "stderr",
     "output_type": "stream",
     "text": [
      "INFO:LOG:Generating evaluation dataset...\n"
     ]
    },
    {
     "name": "stdout",
     "output_type": "stream",
     "text": [
      "          id  seq_starts  seq_ends  label           text\n",
      "0     876018           0         3      0            дні\n",
      "1     876018           0         5      1          дніпр\n",
      "2     876018           0         6      1         дніпро\n",
      "3     876018           0         9      1      дніпро не\n",
      "4     876018           0        13      1  дніпро не пер\n",
      "...      ...         ...       ...    ...            ...\n",
      "7364  876018         328       335      1      ##ть ново\n",
      "7365  876018         328       338      1   ##ть новость\n",
      "7366  876018         331       335      0           ново\n",
      "7367  876018         331       338      1        новость\n",
      "7368  876018         335       338      1          ##сть\n",
      "\n",
      "[7369 rows x 5 columns]\n"
     ]
    },
    {
     "name": "stderr",
     "output_type": "stream",
     "text": [
      "INFO:LOG:Creating features from dataframe\n"
     ]
    },
    {
     "name": "stdout",
     "output_type": "stream",
     "text": [
      "           id  seq_starts  seq_ends  label                 text\n",
      "0      876042           0         2      0                   на\n",
      "1      876042           0         4      0                 наяв\n",
      "2      876042           0         9      0            наявність\n",
      "3      876042           0        14      0       наявність дома\n",
      "4      876042           0         4      0  наявність домашньоі\n",
      "...       ...         ...       ...    ...                  ...\n",
      "12231  876042         441       448      0            ##ть ново\n",
      "12232  876042         441       451      0         ##ть новость\n",
      "12233  876042         444       448      0                 ново\n",
      "12234  876042         444       451      0              новость\n",
      "12235  876042         448       451      0                ##сть\n",
      "\n",
      "[12236 rows x 5 columns]\n",
      "(12236, 5)\n"
     ]
    },
    {
     "name": "stderr",
     "output_type": "stream",
     "text": [
      "INFO:LOG:Creating TensorDataset from features dataframe\n",
      "C:\\Windows\\Temp\\ipykernel_1144\\1158175120.py:14: TqdmDeprecationWarning: This function will be removed in tqdm==5.0.0\n",
      "Please use `tqdm.notebook.tqdm` instead of `tqdm.tqdm_notebook`\n",
      "  for batch in tqdm_notebook(eval_dataloader, desc=\"Evaluating\"):\n"
     ]
    },
    {
     "data": {
      "text/plain": "Evaluating:   0%|          | 0/1530 [00:00<?, ?it/s]",
      "application/vnd.jupyter.widget-view+json": {
       "version_major": 2,
       "version_minor": 0,
       "model_id": "6b9d35b023314aaf8a54ce13cf2cc618"
      },
      "application/json": {
       "n": 0,
       "total": 1530,
       "elapsed": 0.002994537353515625,
       "ncols": null,
       "nrows": null,
       "prefix": "Evaluating",
       "ascii": false,
       "unit": "it",
       "unit_scale": false,
       "rate": null,
       "bar_format": null,
       "postfix": null,
       "unit_divisor": 1000,
       "initial": 0,
       "colour": null
      }
     },
     "metadata": {},
     "output_type": "display_data"
    },
    {
     "name": "stderr",
     "output_type": "stream",
     "text": [
      "INFO:LOG:Generating evaluation dataset...\n",
      "INFO:LOG:Creating features from dataframe\n"
     ]
    },
    {
     "name": "stdout",
     "output_type": "stream",
     "text": [
      "           id  seq_starts  seq_ends  label                 text\n",
      "0      876042           0         2      0                   на\n",
      "1      876042           0         4      1                 наяв\n",
      "2      876042           0         9      1            наявність\n",
      "3      876042           0        14      1       наявність дома\n",
      "4      876042           0         4      1  наявність домашньоі\n",
      "...       ...         ...       ...    ...                  ...\n",
      "12231  876042         441       448      1            ##ть ново\n",
      "12232  876042         441       451      1         ##ть новость\n",
      "12233  876042         444       448      0                 ново\n",
      "12234  876042         444       451      1              новость\n",
      "12235  876042         448       451      1                ##сть\n",
      "\n",
      "[12236 rows x 5 columns]\n",
      "          id  seq_starts  seq_ends  label          text\n",
      "0     876107           0         1      0             к\n",
      "1     876107           0         4      0          крив\n",
      "2     876107           0         6      0        кривор\n",
      "3     876107           0         8      0      криворіз\n",
      "4     876107           0        11      0   криворізькі\n",
      "...      ...         ...       ...    ...           ...\n",
      "5767  876107         275       282      0     ##ть ново\n",
      "5768  876107         275       285      0  ##ть новость\n",
      "5769  876107         278       282      0          ново\n",
      "5770  876107         278       285      0       новость\n",
      "5771  876107         282       285      0         ##сть\n",
      "\n",
      "[5772 rows x 5 columns]\n",
      "(5772, 5)\n"
     ]
    },
    {
     "name": "stderr",
     "output_type": "stream",
     "text": [
      "INFO:LOG:Creating TensorDataset from features dataframe\n",
      "C:\\Windows\\Temp\\ipykernel_1144\\1158175120.py:14: TqdmDeprecationWarning: This function will be removed in tqdm==5.0.0\n",
      "Please use `tqdm.notebook.tqdm` instead of `tqdm.tqdm_notebook`\n",
      "  for batch in tqdm_notebook(eval_dataloader, desc=\"Evaluating\"):\n"
     ]
    },
    {
     "data": {
      "text/plain": "Evaluating:   0%|          | 0/722 [00:00<?, ?it/s]",
      "application/vnd.jupyter.widget-view+json": {
       "version_major": 2,
       "version_minor": 0,
       "model_id": "46992ce2fe364d11ba5c6a1232c00f5e"
      },
      "application/json": {
       "n": 0,
       "total": 722,
       "elapsed": 0.0029582977294921875,
       "ncols": null,
       "nrows": null,
       "prefix": "Evaluating",
       "ascii": false,
       "unit": "it",
       "unit_scale": false,
       "rate": null,
       "bar_format": null,
       "postfix": null,
       "unit_divisor": 1000,
       "initial": 0,
       "colour": null
      }
     },
     "metadata": {},
     "output_type": "display_data"
    },
    {
     "name": "stderr",
     "output_type": "stream",
     "text": [
      "INFO:LOG:Generating evaluation dataset...\n",
      "INFO:LOG:Creating features from dataframe\n"
     ]
    },
    {
     "name": "stdout",
     "output_type": "stream",
     "text": [
      "          id  seq_starts  seq_ends  label          text\n",
      "0     876107           0         1      0             к\n",
      "1     876107           0         4      1          крив\n",
      "2     876107           0         6      1        кривор\n",
      "3     876107           0         8      1      криворіз\n",
      "4     876107           0        11      1   криворізькі\n",
      "...      ...         ...       ...    ...           ...\n",
      "5767  876107         275       282      1     ##ть ново\n",
      "5768  876107         275       285      1  ##ть новость\n",
      "5769  876107         278       282      0          ново\n",
      "5770  876107         278       285      1       новость\n",
      "5771  876107         282       285      1         ##сть\n",
      "\n",
      "[5772 rows x 5 columns]\n",
      "           id  seq_starts  seq_ends  label                text\n",
      "0      876114           0         3      0                 акт\n",
      "1      876114           0         5      0               актив\n",
      "2      876114           0         7      0             активіз\n",
      "3      876114           0        14      0      активізувалися\n",
      "4      876114           0        18      0  активізувалися шах\n",
      "...       ...         ...       ...    ...                 ...\n",
      "10277  876114         408       410      0                ##ні\n",
      "10278  876114         408       417      0         ##ні органи\n",
      "10279  876114         408       418      0       ##ні органи .\n",
      "10280  876114         411       417      0              органи\n",
      "10281  876114         411       418      0            органи .\n",
      "\n",
      "[10282 rows x 5 columns]\n",
      "(10282, 5)\n"
     ]
    },
    {
     "name": "stderr",
     "output_type": "stream",
     "text": [
      "INFO:LOG:Creating TensorDataset from features dataframe\n",
      "C:\\Windows\\Temp\\ipykernel_1144\\1158175120.py:14: TqdmDeprecationWarning: This function will be removed in tqdm==5.0.0\n",
      "Please use `tqdm.notebook.tqdm` instead of `tqdm.tqdm_notebook`\n",
      "  for batch in tqdm_notebook(eval_dataloader, desc=\"Evaluating\"):\n"
     ]
    },
    {
     "data": {
      "text/plain": "Evaluating:   0%|          | 0/1286 [00:00<?, ?it/s]",
      "application/vnd.jupyter.widget-view+json": {
       "version_major": 2,
       "version_minor": 0,
       "model_id": "fc46e62d2e73422aa8788ec1eeeed6e9"
      },
      "application/json": {
       "n": 0,
       "total": 1286,
       "elapsed": 0.0029993057250976562,
       "ncols": null,
       "nrows": null,
       "prefix": "Evaluating",
       "ascii": false,
       "unit": "it",
       "unit_scale": false,
       "rate": null,
       "bar_format": null,
       "postfix": null,
       "unit_divisor": 1000,
       "initial": 0,
       "colour": null
      }
     },
     "metadata": {},
     "output_type": "display_data"
    },
    {
     "name": "stderr",
     "output_type": "stream",
     "text": [
      "INFO:LOG:Generating evaluation dataset...\n",
      "INFO:LOG:Creating features from dataframe\n"
     ]
    },
    {
     "name": "stdout",
     "output_type": "stream",
     "text": [
      "           id  seq_starts  seq_ends  label                text\n",
      "0      876114           0         3      0                 акт\n",
      "1      876114           0         5      1               актив\n",
      "2      876114           0         7      1             активіз\n",
      "3      876114           0        14      1      активізувалися\n",
      "4      876114           0        18      1  активізувалися шах\n",
      "...       ...         ...       ...    ...                 ...\n",
      "10277  876114         408       410      1                ##ні\n",
      "10278  876114         408       417      1         ##ні органи\n",
      "10279  876114         408       418      0       ##ні органи .\n",
      "10280  876114         411       417      0              органи\n",
      "10281  876114         411       418      0            органи .\n",
      "\n",
      "[10282 rows x 5 columns]\n",
      "          id  seq_starts  seq_ends  label           text\n",
      "0     876373           0         2      0             ун\n",
      "1     876373           0         4      0           уник\n",
      "2     876373           0         8      0       уникнути\n",
      "3     876373           0        11      0    уникнути мо\n",
      "4     876373           0        13      0  уникнути мобі\n",
      "...      ...         ...       ...    ...            ...\n",
      "6656  876373         315       322      0      ##ть ново\n",
      "6657  876373         315       325      0   ##ть новость\n",
      "6658  876373         318       322      0           ново\n",
      "6659  876373         318       325      0        новость\n",
      "6660  876373         322       325      0          ##сть\n",
      "\n",
      "[6661 rows x 5 columns]\n",
      "(6661, 5)\n"
     ]
    },
    {
     "name": "stderr",
     "output_type": "stream",
     "text": [
      "INFO:LOG:Creating TensorDataset from features dataframe\n",
      "C:\\Windows\\Temp\\ipykernel_1144\\1158175120.py:14: TqdmDeprecationWarning: This function will be removed in tqdm==5.0.0\n",
      "Please use `tqdm.notebook.tqdm` instead of `tqdm.tqdm_notebook`\n",
      "  for batch in tqdm_notebook(eval_dataloader, desc=\"Evaluating\"):\n"
     ]
    },
    {
     "data": {
      "text/plain": "Evaluating:   0%|          | 0/833 [00:00<?, ?it/s]",
      "application/vnd.jupyter.widget-view+json": {
       "version_major": 2,
       "version_minor": 0,
       "model_id": "2331514b0f6f4273ab2fa3d1dba9c7c0"
      },
      "application/json": {
       "n": 0,
       "total": 833,
       "elapsed": 0.003999948501586914,
       "ncols": null,
       "nrows": null,
       "prefix": "Evaluating",
       "ascii": false,
       "unit": "it",
       "unit_scale": false,
       "rate": null,
       "bar_format": null,
       "postfix": null,
       "unit_divisor": 1000,
       "initial": 0,
       "colour": null
      }
     },
     "metadata": {},
     "output_type": "display_data"
    },
    {
     "name": "stderr",
     "output_type": "stream",
     "text": [
      "INFO:LOG:Generating evaluation dataset...\n",
      "INFO:LOG:Creating features from dataframe\n"
     ]
    },
    {
     "name": "stdout",
     "output_type": "stream",
     "text": [
      "          id  seq_starts  seq_ends  label           text\n",
      "0     876373           0         2      0             ун\n",
      "1     876373           0         4      1           уник\n",
      "2     876373           0         8      1       уникнути\n",
      "3     876373           0        11      1    уникнути мо\n",
      "4     876373           0        13      1  уникнути мобі\n",
      "...      ...         ...       ...    ...            ...\n",
      "6656  876373         315       322      1      ##ть ново\n",
      "6657  876373         315       325      1   ##ть новость\n",
      "6658  876373         318       322      0           ново\n",
      "6659  876373         318       325      1        новость\n",
      "6660  876373         322       325      1          ##сть\n",
      "\n",
      "[6661 rows x 5 columns]\n",
      "          id  seq_starts  seq_ends  label             text\n",
      "0     876423           0         3      0              під\n",
      "1     876423           0         6      0           підпис\n",
      "2     876423           0        10      0       підписники\n",
      "3     876423           0        13      0    підписники жа\n",
      "4     876423           0        15      0  підписники жалі\n",
      "...      ...         ...       ...    ...              ...\n",
      "3311  876423         231       238      0        ##ть ново\n",
      "3312  876423         231       241      0     ##ть новость\n",
      "3313  876423         234       238      0             ново\n",
      "3314  876423         234       241      0          новость\n",
      "3315  876423         238       241      0            ##сть\n",
      "\n",
      "[3316 rows x 5 columns]\n",
      "(3316, 5)\n"
     ]
    },
    {
     "name": "stderr",
     "output_type": "stream",
     "text": [
      "INFO:LOG:Creating TensorDataset from features dataframe\n",
      "C:\\Windows\\Temp\\ipykernel_1144\\1158175120.py:14: TqdmDeprecationWarning: This function will be removed in tqdm==5.0.0\n",
      "Please use `tqdm.notebook.tqdm` instead of `tqdm.tqdm_notebook`\n",
      "  for batch in tqdm_notebook(eval_dataloader, desc=\"Evaluating\"):\n"
     ]
    },
    {
     "data": {
      "text/plain": "Evaluating:   0%|          | 0/415 [00:00<?, ?it/s]",
      "application/vnd.jupyter.widget-view+json": {
       "version_major": 2,
       "version_minor": 0,
       "model_id": "cb2ff2e8fcfc4193bdb398df1f01d579"
      },
      "application/json": {
       "n": 0,
       "total": 415,
       "elapsed": 0.004033565521240234,
       "ncols": null,
       "nrows": null,
       "prefix": "Evaluating",
       "ascii": false,
       "unit": "it",
       "unit_scale": false,
       "rate": null,
       "bar_format": null,
       "postfix": null,
       "unit_divisor": 1000,
       "initial": 0,
       "colour": null
      }
     },
     "metadata": {},
     "output_type": "display_data"
    },
    {
     "name": "stderr",
     "output_type": "stream",
     "text": [
      "INFO:LOG:Generating evaluation dataset...\n",
      "INFO:LOG:Creating features from dataframe\n"
     ]
    },
    {
     "name": "stdout",
     "output_type": "stream",
     "text": [
      "          id  seq_starts  seq_ends  label             text\n",
      "0     876423           0         3      0              під\n",
      "1     876423           0         6      1           підпис\n",
      "2     876423           0        10      1       підписники\n",
      "3     876423           0        13      1    підписники жа\n",
      "4     876423           0        15      1  підписники жалі\n",
      "...      ...         ...       ...    ...              ...\n",
      "3311  876423         231       238      1        ##ть ново\n",
      "3312  876423         231       241      1     ##ть новость\n",
      "3313  876423         234       238      0             ново\n",
      "3314  876423         234       241      1          новость\n",
      "3315  876423         238       241      1            ##сть\n",
      "\n",
      "[3316 rows x 5 columns]\n",
      "          id  seq_starts  seq_ends  label              text\n",
      "0     876440           0         2      0                ця\n",
      "1     876440           0         4      0          ця віина\n",
      "2     876440           0        12      0      ця віина над\n",
      "3     876440           0        14      0    ця віина надов\n",
      "4     876440           0        16      0  ця віина надовго\n",
      "...      ...         ...       ...    ...               ...\n",
      "4081  876440         270       277      0         ##ть ново\n",
      "4082  876440         270       280      0      ##ть новость\n",
      "4083  876440         273       277      0              ново\n",
      "4084  876440         273       280      0           новость\n",
      "4085  876440         277       280      0             ##сть\n",
      "\n",
      "[4086 rows x 5 columns]\n",
      "(4086, 5)\n"
     ]
    },
    {
     "name": "stderr",
     "output_type": "stream",
     "text": [
      "INFO:LOG:Creating TensorDataset from features dataframe\n",
      "C:\\Windows\\Temp\\ipykernel_1144\\1158175120.py:14: TqdmDeprecationWarning: This function will be removed in tqdm==5.0.0\n",
      "Please use `tqdm.notebook.tqdm` instead of `tqdm.tqdm_notebook`\n",
      "  for batch in tqdm_notebook(eval_dataloader, desc=\"Evaluating\"):\n"
     ]
    },
    {
     "data": {
      "text/plain": "Evaluating:   0%|          | 0/511 [00:00<?, ?it/s]",
      "application/vnd.jupyter.widget-view+json": {
       "version_major": 2,
       "version_minor": 0,
       "model_id": "7bac5dacb34e4aecabc2c1227d2bbb94"
      },
      "application/json": {
       "n": 0,
       "total": 511,
       "elapsed": 0.0050008296966552734,
       "ncols": null,
       "nrows": null,
       "prefix": "Evaluating",
       "ascii": false,
       "unit": "it",
       "unit_scale": false,
       "rate": null,
       "bar_format": null,
       "postfix": null,
       "unit_divisor": 1000,
       "initial": 0,
       "colour": null
      }
     },
     "metadata": {},
     "output_type": "display_data"
    },
    {
     "name": "stderr",
     "output_type": "stream",
     "text": [
      "INFO:LOG:Generating evaluation dataset...\n"
     ]
    },
    {
     "name": "stdout",
     "output_type": "stream",
     "text": [
      "          id  seq_starts  seq_ends  label              text\n",
      "0     876440           0         2      0                ця\n",
      "1     876440           0         4      1          ця віина\n",
      "2     876440           0        12      1      ця віина над\n",
      "3     876440           0        14      1    ця віина надов\n",
      "4     876440           0        16      1  ця віина надовго\n",
      "...      ...         ...       ...    ...               ...\n",
      "4081  876440         270       277      1         ##ть ново\n",
      "4082  876440         270       280      1      ##ть новость\n",
      "4083  876440         273       277      0              ново\n",
      "4084  876440         273       280      1           новость\n",
      "4085  876440         277       280      1             ##сть\n",
      "\n",
      "[4086 rows x 5 columns]\n"
     ]
    },
    {
     "name": "stderr",
     "output_type": "stream",
     "text": [
      "INFO:LOG:Creating features from dataframe\n"
     ]
    },
    {
     "name": "stdout",
     "output_type": "stream",
     "text": [
      "           id  seq_starts  seq_ends  label                  text\n",
      "0      876460           0         4      0                  якщо\n",
      "1      876460           0         7      0               якщо не\n",
      "2      876460           0        13      0         якщо не можна\n",
      "3      876460           0        17      0     якщо не можна куп\n",
      "4      876460           0        20      0  якщо не можна купити\n",
      "...       ...         ...       ...    ...                   ...\n",
      "25627  876460         652       656      0                  полі\n",
      "25628  876460         652       660      0              політику\n",
      "25629  876460         652       661      0            політику .\n",
      "25630  876460         656       660      0                ##тику\n",
      "25631  876460         656       661      0              ##тику .\n",
      "\n",
      "[25632 rows x 5 columns]\n",
      "(25632, 5)\n"
     ]
    },
    {
     "name": "stderr",
     "output_type": "stream",
     "text": [
      "INFO:LOG:Creating TensorDataset from features dataframe\n",
      "C:\\Windows\\Temp\\ipykernel_1144\\1158175120.py:14: TqdmDeprecationWarning: This function will be removed in tqdm==5.0.0\n",
      "Please use `tqdm.notebook.tqdm` instead of `tqdm.tqdm_notebook`\n",
      "  for batch in tqdm_notebook(eval_dataloader, desc=\"Evaluating\"):\n"
     ]
    },
    {
     "data": {
      "text/plain": "Evaluating:   0%|          | 0/3204 [00:00<?, ?it/s]",
      "application/vnd.jupyter.widget-view+json": {
       "version_major": 2,
       "version_minor": 0,
       "model_id": "8e746ed815f24bb596dce920fe8acdee"
      },
      "application/json": {
       "n": 0,
       "total": 3204,
       "elapsed": 0.0029594898223876953,
       "ncols": null,
       "nrows": null,
       "prefix": "Evaluating",
       "ascii": false,
       "unit": "it",
       "unit_scale": false,
       "rate": null,
       "bar_format": null,
       "postfix": null,
       "unit_divisor": 1000,
       "initial": 0,
       "colour": null
      }
     },
     "metadata": {},
     "output_type": "display_data"
    },
    {
     "name": "stderr",
     "output_type": "stream",
     "text": [
      "INFO:LOG:Generating evaluation dataset...\n"
     ]
    },
    {
     "name": "stdout",
     "output_type": "stream",
     "text": [
      "           id  seq_starts  seq_ends  label                  text\n",
      "0      876460           0         4      0                  якщо\n",
      "1      876460           0         7      1               якщо не\n",
      "2      876460           0        13      1         якщо не можна\n",
      "3      876460           0        17      1     якщо не можна куп\n",
      "4      876460           0        20      1  якщо не можна купити\n",
      "...       ...         ...       ...    ...                   ...\n",
      "25627  876460         652       656      0                  полі\n",
      "25628  876460         652       660      1              політику\n",
      "25629  876460         652       661      0            політику .\n",
      "25630  876460         656       660      1                ##тику\n",
      "25631  876460         656       661      0              ##тику .\n",
      "\n",
      "[25632 rows x 5 columns]\n"
     ]
    },
    {
     "name": "stderr",
     "output_type": "stream",
     "text": [
      "INFO:LOG:Creating features from dataframe\n"
     ]
    },
    {
     "name": "stdout",
     "output_type": "stream",
     "text": [
      "           id  seq_starts  seq_ends  label                  text\n",
      "0      876756           0         3      0                   хто\n",
      "1      876756           0         5      0                 хтось\n",
      "2      876756           0         9      0             хтось або\n",
      "3      876756           0        15      0       хтось або група\n",
      "4      876756           0        20      0  хтось або група осіб\n",
      "...       ...         ...       ...    ...                   ...\n",
      "23197  876756         610       617      0             ##ть ново\n",
      "23198  876756         610       620      0          ##ть новость\n",
      "23199  876756         613       617      0                  ново\n",
      "23200  876756         613       620      0               новость\n",
      "23201  876756         617       620      0                 ##сть\n",
      "\n",
      "[23202 rows x 5 columns]\n",
      "(23202, 5)\n"
     ]
    },
    {
     "name": "stderr",
     "output_type": "stream",
     "text": [
      "INFO:LOG:Creating TensorDataset from features dataframe\n",
      "C:\\Windows\\Temp\\ipykernel_1144\\1158175120.py:14: TqdmDeprecationWarning: This function will be removed in tqdm==5.0.0\n",
      "Please use `tqdm.notebook.tqdm` instead of `tqdm.tqdm_notebook`\n",
      "  for batch in tqdm_notebook(eval_dataloader, desc=\"Evaluating\"):\n"
     ]
    },
    {
     "data": {
      "text/plain": "Evaluating:   0%|          | 0/2901 [00:00<?, ?it/s]",
      "application/vnd.jupyter.widget-view+json": {
       "version_major": 2,
       "version_minor": 0,
       "model_id": "1ed16d2138434d94a6d1e970079ed05d"
      },
      "application/json": {
       "n": 0,
       "total": 2901,
       "elapsed": 0.0030028820037841797,
       "ncols": null,
       "nrows": null,
       "prefix": "Evaluating",
       "ascii": false,
       "unit": "it",
       "unit_scale": false,
       "rate": null,
       "bar_format": null,
       "postfix": null,
       "unit_divisor": 1000,
       "initial": 0,
       "colour": null
      }
     },
     "metadata": {},
     "output_type": "display_data"
    },
    {
     "name": "stderr",
     "output_type": "stream",
     "text": [
      "INFO:LOG:Generating evaluation dataset...\n",
      "INFO:LOG:Creating features from dataframe\n"
     ]
    },
    {
     "name": "stdout",
     "output_type": "stream",
     "text": [
      "           id  seq_starts  seq_ends  label                  text\n",
      "0      876756           0         3      0                   хто\n",
      "1      876756           0         5      1                 хтось\n",
      "2      876756           0         9      1             хтось або\n",
      "3      876756           0        15      1       хтось або група\n",
      "4      876756           0        20      1  хтось або група осіб\n",
      "...       ...         ...       ...    ...                   ...\n",
      "23197  876756         610       617      1             ##ть ново\n",
      "23198  876756         610       620      1          ##ть новость\n",
      "23199  876756         613       617      0                  ново\n",
      "23200  876756         613       620      1               новость\n",
      "23201  876756         617       620      1                 ##сть\n",
      "\n",
      "[23202 rows x 5 columns]\n",
      "          id  seq_starts  seq_ends  label                    text\n",
      "0     876788           0         9      0               відкриття\n",
      "1     876788           0        16      0        відкриття нового\n",
      "2     876788           0        19      0     відкриття нового ат\n",
      "3     876788           0        20      0    відкриття нового атб\n",
      "4     876788           0        22      0  відкриття нового атб у\n",
      "...      ...         ...       ...    ...                     ...\n",
      "3478  876788         242       249      0               ##ть ново\n",
      "3479  876788         242       252      0            ##ть новость\n",
      "3480  876788         245       249      0                    ново\n",
      "3481  876788         245       252      0                 новость\n",
      "3482  876788         249       252      0                   ##сть\n",
      "\n",
      "[3483 rows x 5 columns]\n",
      "(3483, 5)\n"
     ]
    },
    {
     "name": "stderr",
     "output_type": "stream",
     "text": [
      "INFO:LOG:Creating TensorDataset from features dataframe\n",
      "C:\\Windows\\Temp\\ipykernel_1144\\1158175120.py:14: TqdmDeprecationWarning: This function will be removed in tqdm==5.0.0\n",
      "Please use `tqdm.notebook.tqdm` instead of `tqdm.tqdm_notebook`\n",
      "  for batch in tqdm_notebook(eval_dataloader, desc=\"Evaluating\"):\n"
     ]
    },
    {
     "data": {
      "text/plain": "Evaluating:   0%|          | 0/436 [00:00<?, ?it/s]",
      "application/vnd.jupyter.widget-view+json": {
       "version_major": 2,
       "version_minor": 0,
       "model_id": "f1f8486c2f864b22a12a095c74b74616"
      },
      "application/json": {
       "n": 0,
       "total": 436,
       "elapsed": 0.004003047943115234,
       "ncols": null,
       "nrows": null,
       "prefix": "Evaluating",
       "ascii": false,
       "unit": "it",
       "unit_scale": false,
       "rate": null,
       "bar_format": null,
       "postfix": null,
       "unit_divisor": 1000,
       "initial": 0,
       "colour": null
      }
     },
     "metadata": {},
     "output_type": "display_data"
    },
    {
     "name": "stderr",
     "output_type": "stream",
     "text": [
      "INFO:LOG:Generating evaluation dataset...\n",
      "INFO:LOG:Creating features from dataframe\n"
     ]
    },
    {
     "name": "stdout",
     "output_type": "stream",
     "text": [
      "          id  seq_starts  seq_ends  label                    text\n",
      "0     876788           0         9      0               відкриття\n",
      "1     876788           0        16      1        відкриття нового\n",
      "2     876788           0        19      1     відкриття нового ат\n",
      "3     876788           0        20      1    відкриття нового атб\n",
      "4     876788           0        22      1  відкриття нового атб у\n",
      "...      ...         ...       ...    ...                     ...\n",
      "3478  876788         242       249      1               ##ть ново\n",
      "3479  876788         242       252      1            ##ть новость\n",
      "3480  876788         245       249      0                    ново\n",
      "3481  876788         245       252      1                 новость\n",
      "3482  876788         249       252      1                   ##сть\n",
      "\n",
      "[3483 rows x 5 columns]\n",
      "          id  seq_starts  seq_ends  label           text\n",
      "0     876856           0         2      0             ви\n",
      "1     876856           0         1      0           вииш\n",
      "2     876856           0         6      0         виишло\n",
      "3     876856           0        10      0     виишло топ\n",
      "4     876856           0        13      0  виишло топове\n",
      "...      ...         ...       ...    ...            ...\n",
      "4175  876856         241       248      0      ##ть ново\n",
      "4176  876856         241       251      0   ##ть новость\n",
      "4177  876856         244       248      0           ново\n",
      "4178  876856         244       251      0        новость\n",
      "4179  876856         248       251      0          ##сть\n",
      "\n",
      "[4180 rows x 5 columns]\n",
      "(4180, 5)\n"
     ]
    },
    {
     "name": "stderr",
     "output_type": "stream",
     "text": [
      "INFO:LOG:Creating TensorDataset from features dataframe\n",
      "C:\\Windows\\Temp\\ipykernel_1144\\1158175120.py:14: TqdmDeprecationWarning: This function will be removed in tqdm==5.0.0\n",
      "Please use `tqdm.notebook.tqdm` instead of `tqdm.tqdm_notebook`\n",
      "  for batch in tqdm_notebook(eval_dataloader, desc=\"Evaluating\"):\n"
     ]
    },
    {
     "data": {
      "text/plain": "Evaluating:   0%|          | 0/523 [00:00<?, ?it/s]",
      "application/vnd.jupyter.widget-view+json": {
       "version_major": 2,
       "version_minor": 0,
       "model_id": "aef94ef0b2af459f8dfa8fa733732460"
      },
      "application/json": {
       "n": 0,
       "total": 523,
       "elapsed": 0.003998994827270508,
       "ncols": null,
       "nrows": null,
       "prefix": "Evaluating",
       "ascii": false,
       "unit": "it",
       "unit_scale": false,
       "rate": null,
       "bar_format": null,
       "postfix": null,
       "unit_divisor": 1000,
       "initial": 0,
       "colour": null
      }
     },
     "metadata": {},
     "output_type": "display_data"
    },
    {
     "name": "stderr",
     "output_type": "stream",
     "text": [
      "INFO:LOG:Generating evaluation dataset...\n",
      "INFO:LOG:Creating features from dataframe\n"
     ]
    },
    {
     "name": "stdout",
     "output_type": "stream",
     "text": [
      "          id  seq_starts  seq_ends  label           text\n",
      "0     876856           0         2      0             ви\n",
      "1     876856           0         1      1           вииш\n",
      "2     876856           0         6      1         виишло\n",
      "3     876856           0        10      1     виишло топ\n",
      "4     876856           0        13      1  виишло топове\n",
      "...      ...         ...       ...    ...            ...\n",
      "4175  876856         241       248      1      ##ть ново\n",
      "4176  876856         241       251      1   ##ть новость\n",
      "4177  876856         244       248      0           ново\n",
      "4178  876856         244       251      1        новость\n",
      "4179  876856         248       251      1          ##сть\n",
      "\n",
      "[4180 rows x 5 columns]\n",
      "          id  seq_starts  seq_ends  label           text\n",
      "0     877009           0         5      0          росія\n",
      "1     877009           0         7      0        росіяни\n",
      "2     877009           0        10      0     росіяни за\n",
      "3     877009           0        11      0    росіяни зав\n",
      "4     877009           0        13      0  росіяни завда\n",
      "...      ...         ...       ...    ...            ...\n",
      "6201  877009         281       288      0      ##ть ново\n",
      "6202  877009         281       291      0   ##ть новость\n",
      "6203  877009         284       288      0           ново\n",
      "6204  877009         284       291      0        новость\n",
      "6205  877009         288       291      0          ##сть\n",
      "\n",
      "[6206 rows x 5 columns]\n",
      "(6206, 5)\n"
     ]
    },
    {
     "name": "stderr",
     "output_type": "stream",
     "text": [
      "INFO:LOG:Creating TensorDataset from features dataframe\n",
      "C:\\Windows\\Temp\\ipykernel_1144\\1158175120.py:14: TqdmDeprecationWarning: This function will be removed in tqdm==5.0.0\n",
      "Please use `tqdm.notebook.tqdm` instead of `tqdm.tqdm_notebook`\n",
      "  for batch in tqdm_notebook(eval_dataloader, desc=\"Evaluating\"):\n"
     ]
    },
    {
     "data": {
      "text/plain": "Evaluating:   0%|          | 0/776 [00:00<?, ?it/s]",
      "application/vnd.jupyter.widget-view+json": {
       "version_major": 2,
       "version_minor": 0,
       "model_id": "912049c1344a4d0db42189d679189197"
      },
      "application/json": {
       "n": 0,
       "total": 776,
       "elapsed": 0.003998279571533203,
       "ncols": null,
       "nrows": null,
       "prefix": "Evaluating",
       "ascii": false,
       "unit": "it",
       "unit_scale": false,
       "rate": null,
       "bar_format": null,
       "postfix": null,
       "unit_divisor": 1000,
       "initial": 0,
       "colour": null
      }
     },
     "metadata": {},
     "output_type": "display_data"
    },
    {
     "name": "stderr",
     "output_type": "stream",
     "text": [
      "INFO:LOG:Generating evaluation dataset...\n",
      "INFO:LOG:Creating features from dataframe\n"
     ]
    },
    {
     "name": "stdout",
     "output_type": "stream",
     "text": [
      "          id  seq_starts  seq_ends  label           text\n",
      "0     877009           0         5      0          росія\n",
      "1     877009           0         7      1        росіяни\n",
      "2     877009           0        10      1     росіяни за\n",
      "3     877009           0        11      1    росіяни зав\n",
      "4     877009           0        13      1  росіяни завда\n",
      "...      ...         ...       ...    ...            ...\n",
      "6201  877009         281       288      1      ##ть ново\n",
      "6202  877009         281       291      1   ##ть новость\n",
      "6203  877009         284       288      0           ново\n",
      "6204  877009         284       291      1        новость\n",
      "6205  877009         288       291      1          ##сть\n",
      "\n",
      "[6206 rows x 5 columns]\n",
      "          id  seq_starts  seq_ends  label             text\n",
      "0     877225           0         3      0              ана\n",
      "1     877225           0         7      0          анально\n",
      "2     877225           0        10      0       анально та\n",
      "3     877225           0        12      0     анально та о\n",
      "4     877225           0        15      0  анально та орал\n",
      "...      ...         ...       ...    ...              ...\n",
      "8628  877225         361       368      0        ##ть ново\n",
      "8629  877225         361       371      0     ##ть новость\n",
      "8630  877225         364       368      0             ново\n",
      "8631  877225         364       371      0          новость\n",
      "8632  877225         368       371      0            ##сть\n",
      "\n",
      "[8633 rows x 5 columns]\n",
      "(8633, 5)\n"
     ]
    },
    {
     "name": "stderr",
     "output_type": "stream",
     "text": [
      "INFO:LOG:Creating TensorDataset from features dataframe\n",
      "C:\\Windows\\Temp\\ipykernel_1144\\1158175120.py:14: TqdmDeprecationWarning: This function will be removed in tqdm==5.0.0\n",
      "Please use `tqdm.notebook.tqdm` instead of `tqdm.tqdm_notebook`\n",
      "  for batch in tqdm_notebook(eval_dataloader, desc=\"Evaluating\"):\n"
     ]
    },
    {
     "data": {
      "text/plain": "Evaluating:   0%|          | 0/1080 [00:00<?, ?it/s]",
      "application/vnd.jupyter.widget-view+json": {
       "version_major": 2,
       "version_minor": 0,
       "model_id": "3babab53c8294f57904ded3d86629988"
      },
      "application/json": {
       "n": 0,
       "total": 1080,
       "elapsed": 0.005014181137084961,
       "ncols": null,
       "nrows": null,
       "prefix": "Evaluating",
       "ascii": false,
       "unit": "it",
       "unit_scale": false,
       "rate": null,
       "bar_format": null,
       "postfix": null,
       "unit_divisor": 1000,
       "initial": 0,
       "colour": null
      }
     },
     "metadata": {},
     "output_type": "display_data"
    },
    {
     "name": "stderr",
     "output_type": "stream",
     "text": [
      "INFO:LOG:Generating evaluation dataset...\n",
      "INFO:LOG:Creating features from dataframe\n"
     ]
    },
    {
     "name": "stdout",
     "output_type": "stream",
     "text": [
      "          id  seq_starts  seq_ends  label             text\n",
      "0     877225           0         3      0              ана\n",
      "1     877225           0         7      1          анально\n",
      "2     877225           0        10      1       анально та\n",
      "3     877225           0        12      1     анально та о\n",
      "4     877225           0        15      1  анально та орал\n",
      "...      ...         ...       ...    ...              ...\n",
      "8628  877225         361       368      1        ##ть ново\n",
      "8629  877225         361       371      1     ##ть новость\n",
      "8630  877225         364       368      0             ново\n",
      "8631  877225         364       371      1          новость\n",
      "8632  877225         368       371      1            ##сть\n",
      "\n",
      "[8633 rows x 5 columns]\n",
      "          id  seq_starts  seq_ends  label               text\n",
      "0     877270           0         3      0                обе\n",
      "1     877270           0         5      0              обере\n",
      "2     877270           0         8      0           обережно\n",
      "3     877270           0         9      0         обережно .\n",
      "4     877270           0        16      0  обережно . дерево\n",
      "...      ...         ...       ...    ...                ...\n",
      "3994  877270         251       258      0          ##ть ново\n",
      "3995  877270         251       261      0       ##ть новость\n",
      "3996  877270         254       258      0               ново\n",
      "3997  877270         254       261      0            новость\n",
      "3998  877270         258       261      0              ##сть\n",
      "\n",
      "[3999 rows x 5 columns]\n",
      "(3999, 5)\n"
     ]
    },
    {
     "name": "stderr",
     "output_type": "stream",
     "text": [
      "INFO:LOG:Creating TensorDataset from features dataframe\n",
      "C:\\Windows\\Temp\\ipykernel_1144\\1158175120.py:14: TqdmDeprecationWarning: This function will be removed in tqdm==5.0.0\n",
      "Please use `tqdm.notebook.tqdm` instead of `tqdm.tqdm_notebook`\n",
      "  for batch in tqdm_notebook(eval_dataloader, desc=\"Evaluating\"):\n"
     ]
    },
    {
     "data": {
      "text/plain": "Evaluating:   0%|          | 0/500 [00:00<?, ?it/s]",
      "application/vnd.jupyter.widget-view+json": {
       "version_major": 2,
       "version_minor": 0,
       "model_id": "3a6b4dea241946e48c5a795c81df9704"
      },
      "application/json": {
       "n": 0,
       "total": 500,
       "elapsed": 0.004029273986816406,
       "ncols": null,
       "nrows": null,
       "prefix": "Evaluating",
       "ascii": false,
       "unit": "it",
       "unit_scale": false,
       "rate": null,
       "bar_format": null,
       "postfix": null,
       "unit_divisor": 1000,
       "initial": 0,
       "colour": null
      }
     },
     "metadata": {},
     "output_type": "display_data"
    },
    {
     "name": "stderr",
     "output_type": "stream",
     "text": [
      "INFO:LOG:Generating evaluation dataset...\n",
      "INFO:LOG:Creating features from dataframe\n"
     ]
    },
    {
     "name": "stdout",
     "output_type": "stream",
     "text": [
      "          id  seq_starts  seq_ends  label               text\n",
      "0     877270           0         3      0                обе\n",
      "1     877270           0         5      1              обере\n",
      "2     877270           0         8      1           обережно\n",
      "3     877270           0         9      0         обережно .\n",
      "4     877270           0        16      1  обережно . дерево\n",
      "...      ...         ...       ...    ...                ...\n",
      "3994  877270         251       258      1          ##ть ново\n",
      "3995  877270         251       261      1       ##ть новость\n",
      "3996  877270         254       258      0               ново\n",
      "3997  877270         254       261      1            новость\n",
      "3998  877270         258       261      1              ##сть\n",
      "\n",
      "[3999 rows x 5 columns]\n",
      "          id  seq_starts  seq_ends  label            text\n",
      "0     877285           0         3      0             під\n",
      "1     877285           0         5      0           підлі\n",
      "2     877285           0         8      0        підліток\n",
      "3     877285           0        11      0     підліток ви\n",
      "4     877285           0        14      0  підліток випив\n",
      "...      ...         ...       ...    ...             ...\n",
      "3394  877285         217       224      0       ##ть ново\n",
      "3395  877285         217       227      0    ##ть новость\n",
      "3396  877285         220       224      0            ново\n",
      "3397  877285         220       227      0         новость\n",
      "3398  877285         224       227      0           ##сть\n",
      "\n",
      "[3399 rows x 5 columns]\n",
      "(3399, 5)\n"
     ]
    },
    {
     "name": "stderr",
     "output_type": "stream",
     "text": [
      "INFO:LOG:Creating TensorDataset from features dataframe\n",
      "C:\\Windows\\Temp\\ipykernel_1144\\1158175120.py:14: TqdmDeprecationWarning: This function will be removed in tqdm==5.0.0\n",
      "Please use `tqdm.notebook.tqdm` instead of `tqdm.tqdm_notebook`\n",
      "  for batch in tqdm_notebook(eval_dataloader, desc=\"Evaluating\"):\n"
     ]
    },
    {
     "data": {
      "text/plain": "Evaluating:   0%|          | 0/425 [00:00<?, ?it/s]",
      "application/vnd.jupyter.widget-view+json": {
       "version_major": 2,
       "version_minor": 0,
       "model_id": "4a23ad815144424fa81af85d00c1508e"
      },
      "application/json": {
       "n": 0,
       "total": 425,
       "elapsed": 0.004003047943115234,
       "ncols": null,
       "nrows": null,
       "prefix": "Evaluating",
       "ascii": false,
       "unit": "it",
       "unit_scale": false,
       "rate": null,
       "bar_format": null,
       "postfix": null,
       "unit_divisor": 1000,
       "initial": 0,
       "colour": null
      }
     },
     "metadata": {},
     "output_type": "display_data"
    },
    {
     "name": "stderr",
     "output_type": "stream",
     "text": [
      "INFO:LOG:Generating evaluation dataset...\n",
      "INFO:LOG:Creating features from dataframe\n"
     ]
    },
    {
     "name": "stdout",
     "output_type": "stream",
     "text": [
      "          id  seq_starts  seq_ends  label            text\n",
      "0     877285           0         3      0             під\n",
      "1     877285           0         5      1           підлі\n",
      "2     877285           0         8      1        підліток\n",
      "3     877285           0        11      1     підліток ви\n",
      "4     877285           0        14      1  підліток випив\n",
      "...      ...         ...       ...    ...             ...\n",
      "3394  877285         217       224      1       ##ть ново\n",
      "3395  877285         217       227      1    ##ть новость\n",
      "3396  877285         220       224      0            ново\n",
      "3397  877285         220       227      1         новость\n",
      "3398  877285         224       227      1           ##сть\n",
      "\n",
      "[3399 rows x 5 columns]\n",
      "           id  seq_starts  seq_ends  label            text\n",
      "0      877549           0         3      0             муж\n",
      "1      877549           0         5      0           мужик\n",
      "2      877549           0         9      0       мужик ран\n",
      "3      877549           0        11      0     мужик ранив\n",
      "4      877549           0        14      0  мужик ранив ко\n",
      "...       ...         ...       ...    ...             ...\n",
      "11013  877549         407       414      0       ##ть ново\n",
      "11014  877549         407       417      0    ##ть новость\n",
      "11015  877549         410       414      0            ново\n",
      "11016  877549         410       417      0         новость\n",
      "11017  877549         414       417      0           ##сть\n",
      "\n",
      "[11018 rows x 5 columns]\n",
      "(11018, 5)\n"
     ]
    },
    {
     "name": "stderr",
     "output_type": "stream",
     "text": [
      "INFO:LOG:Creating TensorDataset from features dataframe\n",
      "C:\\Windows\\Temp\\ipykernel_1144\\1158175120.py:14: TqdmDeprecationWarning: This function will be removed in tqdm==5.0.0\n",
      "Please use `tqdm.notebook.tqdm` instead of `tqdm.tqdm_notebook`\n",
      "  for batch in tqdm_notebook(eval_dataloader, desc=\"Evaluating\"):\n"
     ]
    },
    {
     "data": {
      "text/plain": "Evaluating:   0%|          | 0/1378 [00:00<?, ?it/s]",
      "application/vnd.jupyter.widget-view+json": {
       "version_major": 2,
       "version_minor": 0,
       "model_id": "9226857b159b42358fb0b02858b3be4b"
      },
      "application/json": {
       "n": 0,
       "total": 1378,
       "elapsed": 0.004027366638183594,
       "ncols": null,
       "nrows": null,
       "prefix": "Evaluating",
       "ascii": false,
       "unit": "it",
       "unit_scale": false,
       "rate": null,
       "bar_format": null,
       "postfix": null,
       "unit_divisor": 1000,
       "initial": 0,
       "colour": null
      }
     },
     "metadata": {},
     "output_type": "display_data"
    },
    {
     "name": "stderr",
     "output_type": "stream",
     "text": [
      "INFO:LOG:Generating evaluation dataset...\n",
      "INFO:LOG:Creating features from dataframe\n"
     ]
    },
    {
     "name": "stdout",
     "output_type": "stream",
     "text": [
      "           id  seq_starts  seq_ends  label            text\n",
      "0      877549           0         3      0             муж\n",
      "1      877549           0         5      1           мужик\n",
      "2      877549           0         9      1       мужик ран\n",
      "3      877549           0        11      1     мужик ранив\n",
      "4      877549           0        14      1  мужик ранив ко\n",
      "...       ...         ...       ...    ...             ...\n",
      "11013  877549         407       414      1       ##ть ново\n",
      "11014  877549         407       417      1    ##ть новость\n",
      "11015  877549         410       414      0            ново\n",
      "11016  877549         410       417      1         новость\n",
      "11017  877549         414       417      1           ##сть\n",
      "\n",
      "[11018 rows x 5 columns]\n",
      "          id  seq_starts  seq_ends  label          text\n",
      "0     877550           0         1      0             п\n",
      "1     877550           0         2      0            пз\n",
      "2     877550           0         3      0           пзд\n",
      "3     877550           0         4      0          пздц\n",
      "4     877550           0         5      0        пздц .\n",
      "...      ...         ...       ...    ...           ...\n",
      "2914  877550         214       221      0     ##ть ново\n",
      "2915  877550         214       224      0  ##ть новость\n",
      "2916  877550         217       221      0          ново\n",
      "2917  877550         217       224      0       новость\n",
      "2918  877550         221       224      0         ##сть\n",
      "\n",
      "[2919 rows x 5 columns]\n",
      "(2919, 5)\n"
     ]
    },
    {
     "name": "stderr",
     "output_type": "stream",
     "text": [
      "INFO:LOG:Creating TensorDataset from features dataframe\n",
      "C:\\Windows\\Temp\\ipykernel_1144\\1158175120.py:14: TqdmDeprecationWarning: This function will be removed in tqdm==5.0.0\n",
      "Please use `tqdm.notebook.tqdm` instead of `tqdm.tqdm_notebook`\n",
      "  for batch in tqdm_notebook(eval_dataloader, desc=\"Evaluating\"):\n"
     ]
    },
    {
     "data": {
      "text/plain": "Evaluating:   0%|          | 0/365 [00:00<?, ?it/s]",
      "application/vnd.jupyter.widget-view+json": {
       "version_major": 2,
       "version_minor": 0,
       "model_id": "94bae640c1cf4935a03a54f4d2ace11e"
      },
      "application/json": {
       "n": 0,
       "total": 365,
       "elapsed": 0.003971099853515625,
       "ncols": null,
       "nrows": null,
       "prefix": "Evaluating",
       "ascii": false,
       "unit": "it",
       "unit_scale": false,
       "rate": null,
       "bar_format": null,
       "postfix": null,
       "unit_divisor": 1000,
       "initial": 0,
       "colour": null
      }
     },
     "metadata": {},
     "output_type": "display_data"
    },
    {
     "name": "stderr",
     "output_type": "stream",
     "text": [
      "INFO:LOG:Generating evaluation dataset...\n",
      "INFO:LOG:Creating features from dataframe\n"
     ]
    },
    {
     "name": "stdout",
     "output_type": "stream",
     "text": [
      "          id  seq_starts  seq_ends  label          text\n",
      "0     877550           0         1      0             п\n",
      "1     877550           0         2      1            пз\n",
      "2     877550           0         3      1           пзд\n",
      "3     877550           0         4      1          пздц\n",
      "4     877550           0         5      1        пздц .\n",
      "...      ...         ...       ...    ...           ...\n",
      "2914  877550         214       221      1     ##ть ново\n",
      "2915  877550         214       224      1  ##ть новость\n",
      "2916  877550         217       221      0          ново\n",
      "2917  877550         217       224      1       новость\n",
      "2918  877550         221       224      1         ##сть\n",
      "\n",
      "[2919 rows x 5 columns]\n",
      "          id  seq_starts  seq_ends  label                   text\n",
      "0     877553           0         1      0                      з\n",
      "1     877553           0         6      0                 зросла\n",
      "2     877553           0        16      0       зросла кількість\n",
      "3     877553           0        18      0     зросла кількість х\n",
      "4     877553           0        21      0  зросла кількість хвор\n",
      "...      ...         ...       ...    ...                    ...\n",
      "3645  877553         224       231      0              ##ть ново\n",
      "3646  877553         224       234      0           ##ть новость\n",
      "3647  877553         227       231      0                   ново\n",
      "3648  877553         227       234      0                новость\n",
      "3649  877553         231       234      0                  ##сть\n",
      "\n",
      "[3650 rows x 5 columns]\n",
      "(3650, 5)\n"
     ]
    },
    {
     "name": "stderr",
     "output_type": "stream",
     "text": [
      "INFO:LOG:Creating TensorDataset from features dataframe\n",
      "C:\\Windows\\Temp\\ipykernel_1144\\1158175120.py:14: TqdmDeprecationWarning: This function will be removed in tqdm==5.0.0\n",
      "Please use `tqdm.notebook.tqdm` instead of `tqdm.tqdm_notebook`\n",
      "  for batch in tqdm_notebook(eval_dataloader, desc=\"Evaluating\"):\n"
     ]
    },
    {
     "data": {
      "text/plain": "Evaluating:   0%|          | 0/457 [00:00<?, ?it/s]",
      "application/vnd.jupyter.widget-view+json": {
       "version_major": 2,
       "version_minor": 0,
       "model_id": "bc97072bfdbe4e3f8af99ebf63009414"
      },
      "application/json": {
       "n": 0,
       "total": 457,
       "elapsed": 0.004000425338745117,
       "ncols": null,
       "nrows": null,
       "prefix": "Evaluating",
       "ascii": false,
       "unit": "it",
       "unit_scale": false,
       "rate": null,
       "bar_format": null,
       "postfix": null,
       "unit_divisor": 1000,
       "initial": 0,
       "colour": null
      }
     },
     "metadata": {},
     "output_type": "display_data"
    },
    {
     "name": "stderr",
     "output_type": "stream",
     "text": [
      "INFO:LOG:Generating evaluation dataset...\n",
      "INFO:LOG:Creating features from dataframe\n"
     ]
    },
    {
     "name": "stdout",
     "output_type": "stream",
     "text": [
      "          id  seq_starts  seq_ends  label                   text\n",
      "0     877553           0         1      0                      з\n",
      "1     877553           0         6      1                 зросла\n",
      "2     877553           0        16      1       зросла кількість\n",
      "3     877553           0        18      1     зросла кількість х\n",
      "4     877553           0        21      1  зросла кількість хвор\n",
      "...      ...         ...       ...    ...                    ...\n",
      "3645  877553         224       231      1              ##ть ново\n",
      "3646  877553         224       234      1           ##ть новость\n",
      "3647  877553         227       231      0                   ново\n",
      "3648  877553         227       234      1                новость\n",
      "3649  877553         231       234      1                  ##сть\n",
      "\n",
      "[3650 rows x 5 columns]\n",
      "          id  seq_starts  seq_ends  label          text\n",
      "0     877660           0         1      0             п\n",
      "1     877660           0         2      0            пз\n",
      "2     877660           0         3      0           пзд\n",
      "3     877660           0         4      0          пздц\n",
      "4     877660           0         5      0        пздц :\n",
      "...      ...         ...       ...    ...           ...\n",
      "4549  877660         272       279      0     ##ть ново\n",
      "4550  877660         272       282      0  ##ть новость\n",
      "4551  877660         275       279      0          ново\n",
      "4552  877660         275       282      0       новость\n",
      "4553  877660         279       282      0         ##сть\n",
      "\n",
      "[4554 rows x 5 columns]\n",
      "(4554, 5)\n"
     ]
    },
    {
     "name": "stderr",
     "output_type": "stream",
     "text": [
      "INFO:LOG:Creating TensorDataset from features dataframe\n",
      "C:\\Windows\\Temp\\ipykernel_1144\\1158175120.py:14: TqdmDeprecationWarning: This function will be removed in tqdm==5.0.0\n",
      "Please use `tqdm.notebook.tqdm` instead of `tqdm.tqdm_notebook`\n",
      "  for batch in tqdm_notebook(eval_dataloader, desc=\"Evaluating\"):\n"
     ]
    },
    {
     "data": {
      "text/plain": "Evaluating:   0%|          | 0/570 [00:00<?, ?it/s]",
      "application/vnd.jupyter.widget-view+json": {
       "version_major": 2,
       "version_minor": 0,
       "model_id": "ae3e7065b2b446c6b026482356f7f22f"
      },
      "application/json": {
       "n": 0,
       "total": 570,
       "elapsed": 0.004999876022338867,
       "ncols": null,
       "nrows": null,
       "prefix": "Evaluating",
       "ascii": false,
       "unit": "it",
       "unit_scale": false,
       "rate": null,
       "bar_format": null,
       "postfix": null,
       "unit_divisor": 1000,
       "initial": 0,
       "colour": null
      }
     },
     "metadata": {},
     "output_type": "display_data"
    },
    {
     "name": "stderr",
     "output_type": "stream",
     "text": [
      "INFO:LOG:Generating evaluation dataset...\n"
     ]
    },
    {
     "name": "stdout",
     "output_type": "stream",
     "text": [
      "          id  seq_starts  seq_ends  label          text\n",
      "0     877660           0         1      0             п\n",
      "1     877660           0         2      1            пз\n",
      "2     877660           0         3      1           пзд\n",
      "3     877660           0         4      1          пздц\n",
      "4     877660           0         5      1        пздц :\n",
      "...      ...         ...       ...    ...           ...\n",
      "4549  877660         272       279      1     ##ть ново\n",
      "4550  877660         272       282      1  ##ть новость\n",
      "4551  877660         275       279      0          ново\n",
      "4552  877660         275       282      1       новость\n",
      "4553  877660         279       282      1         ##сть\n",
      "\n",
      "[4554 rows x 5 columns]\n"
     ]
    },
    {
     "name": "stderr",
     "output_type": "stream",
     "text": [
      "INFO:LOG:Creating features from dataframe\n"
     ]
    },
    {
     "name": "stdout",
     "output_type": "stream",
     "text": [
      "          id  seq_starts  seq_ends  label                     text\n",
      "0     877715           0         5      0                    через\n",
      "1     877715           0        10      0               через нові\n",
      "2     877715           0        14      0           через нові рос\n",
      "3     877715           0         5      0     через нові росіиські\n",
      "4     877715           0        23      0  через нові росіиські др\n",
      "...      ...         ...       ...    ...                      ...\n",
      "6315  877715         348       355      0                ##ть ново\n",
      "6316  877715         348       358      0             ##ть новость\n",
      "6317  877715         351       355      0                     ново\n",
      "6318  877715         351       358      0                  новость\n",
      "6319  877715         355       358      0                    ##сть\n",
      "\n",
      "[6320 rows x 5 columns]\n",
      "(6320, 5)\n"
     ]
    },
    {
     "name": "stderr",
     "output_type": "stream",
     "text": [
      "INFO:LOG:Creating TensorDataset from features dataframe\n",
      "C:\\Windows\\Temp\\ipykernel_1144\\1158175120.py:14: TqdmDeprecationWarning: This function will be removed in tqdm==5.0.0\n",
      "Please use `tqdm.notebook.tqdm` instead of `tqdm.tqdm_notebook`\n",
      "  for batch in tqdm_notebook(eval_dataloader, desc=\"Evaluating\"):\n"
     ]
    },
    {
     "data": {
      "text/plain": "Evaluating:   0%|          | 0/790 [00:00<?, ?it/s]",
      "application/vnd.jupyter.widget-view+json": {
       "version_major": 2,
       "version_minor": 0,
       "model_id": "284af940d75f48bbba2df4fcbb54d4c2"
      },
      "application/json": {
       "n": 0,
       "total": 790,
       "elapsed": 0.0030045509338378906,
       "ncols": null,
       "nrows": null,
       "prefix": "Evaluating",
       "ascii": false,
       "unit": "it",
       "unit_scale": false,
       "rate": null,
       "bar_format": null,
       "postfix": null,
       "unit_divisor": 1000,
       "initial": 0,
       "colour": null
      }
     },
     "metadata": {},
     "output_type": "display_data"
    },
    {
     "name": "stderr",
     "output_type": "stream",
     "text": [
      "INFO:LOG:Generating evaluation dataset...\n",
      "INFO:LOG:Creating features from dataframe\n"
     ]
    },
    {
     "name": "stdout",
     "output_type": "stream",
     "text": [
      "          id  seq_starts  seq_ends  label                     text\n",
      "0     877715           0         5      0                    через\n",
      "1     877715           0        10      1               через нові\n",
      "2     877715           0        14      1           через нові рос\n",
      "3     877715           0         5      1     через нові росіиські\n",
      "4     877715           0        23      1  через нові росіиські др\n",
      "...      ...         ...       ...    ...                      ...\n",
      "6315  877715         348       355      1                ##ть ново\n",
      "6316  877715         348       358      1             ##ть новость\n",
      "6317  877715         351       355      0                     ново\n",
      "6318  877715         351       358      1                  новость\n",
      "6319  877715         355       358      1                    ##сть\n",
      "\n",
      "[6320 rows x 5 columns]\n",
      "          id  seq_starts  seq_ends  label                text\n",
      "0     891096           0         1      0                   з\n",
      "1     891096           0         4      0                зрад\n",
      "2     891096           0         8      0            зрадниця\n",
      "3     891096           0        13      0       зрадниця anna\n",
      "4     891096           0        18      0  зрадниця anna asti\n",
      "...      ...         ...       ...    ...                 ...\n",
      "3908  891096         253       262      0         ##лати нови\n",
      "3909  891096         253       264      0       ##лати новину\n",
      "3910  891096         258       262      0                нови\n",
      "3911  891096         258       264      0              новину\n",
      "3912  891096         262       264      0                ##ну\n",
      "\n",
      "[3913 rows x 5 columns]\n",
      "(3913, 5)\n"
     ]
    },
    {
     "name": "stderr",
     "output_type": "stream",
     "text": [
      "INFO:LOG:Creating TensorDataset from features dataframe\n",
      "C:\\Windows\\Temp\\ipykernel_1144\\1158175120.py:14: TqdmDeprecationWarning: This function will be removed in tqdm==5.0.0\n",
      "Please use `tqdm.notebook.tqdm` instead of `tqdm.tqdm_notebook`\n",
      "  for batch in tqdm_notebook(eval_dataloader, desc=\"Evaluating\"):\n"
     ]
    },
    {
     "data": {
      "text/plain": "Evaluating:   0%|          | 0/490 [00:00<?, ?it/s]",
      "application/vnd.jupyter.widget-view+json": {
       "version_major": 2,
       "version_minor": 0,
       "model_id": "446cfacba1e54ca6a0587c614f766c94"
      },
      "application/json": {
       "n": 0,
       "total": 490,
       "elapsed": 0.0030012130737304688,
       "ncols": null,
       "nrows": null,
       "prefix": "Evaluating",
       "ascii": false,
       "unit": "it",
       "unit_scale": false,
       "rate": null,
       "bar_format": null,
       "postfix": null,
       "unit_divisor": 1000,
       "initial": 0,
       "colour": null
      }
     },
     "metadata": {},
     "output_type": "display_data"
    },
    {
     "name": "stderr",
     "output_type": "stream",
     "text": [
      "INFO:LOG:Generating evaluation dataset...\n",
      "INFO:LOG:Creating features from dataframe\n"
     ]
    },
    {
     "name": "stdout",
     "output_type": "stream",
     "text": [
      "          id  seq_starts  seq_ends  label                text\n",
      "0     891096           0         1      0                   з\n",
      "1     891096           0         4      1                зрад\n",
      "2     891096           0         8      1            зрадниця\n",
      "3     891096           0        13      1       зрадниця anna\n",
      "4     891096           0        18      1  зрадниця anna asti\n",
      "...      ...         ...       ...    ...                 ...\n",
      "3908  891096         253       262      1         ##лати нови\n",
      "3909  891096         253       264      1       ##лати новину\n",
      "3910  891096         258       262      0                нови\n",
      "3911  891096         258       264      0              новину\n",
      "3912  891096         262       264      1                ##ну\n",
      "\n",
      "[3913 rows x 5 columns]\n",
      "           id  seq_starts  seq_ends  label           text\n",
      "0      891286           0         2      0             ба\n",
      "1      891286           0         4      0           банд\n",
      "2      891286           0         5      0          банду\n",
      "3      891286           0         9      0      банду нар\n",
      "4      891286           0        12      0   банду наркос\n",
      "...       ...         ...       ...    ...            ...\n",
      "11163  891286         402       411      0    ##лати нови\n",
      "11164  891286         402       413      0  ##лати новину\n",
      "11165  891286         407       411      0           нови\n",
      "11166  891286         407       413      0         новину\n",
      "11167  891286         411       413      0           ##ну\n",
      "\n",
      "[11168 rows x 5 columns]\n",
      "(11168, 5)\n"
     ]
    },
    {
     "name": "stderr",
     "output_type": "stream",
     "text": [
      "INFO:LOG:Creating TensorDataset from features dataframe\n",
      "C:\\Windows\\Temp\\ipykernel_1144\\1158175120.py:14: TqdmDeprecationWarning: This function will be removed in tqdm==5.0.0\n",
      "Please use `tqdm.notebook.tqdm` instead of `tqdm.tqdm_notebook`\n",
      "  for batch in tqdm_notebook(eval_dataloader, desc=\"Evaluating\"):\n"
     ]
    },
    {
     "data": {
      "text/plain": "Evaluating:   0%|          | 0/1396 [00:00<?, ?it/s]",
      "application/vnd.jupyter.widget-view+json": {
       "version_major": 2,
       "version_minor": 0,
       "model_id": "5f5276aad63945eb9b2b09a7b36d4486"
      },
      "application/json": {
       "n": 0,
       "total": 1396,
       "elapsed": 0.003999948501586914,
       "ncols": null,
       "nrows": null,
       "prefix": "Evaluating",
       "ascii": false,
       "unit": "it",
       "unit_scale": false,
       "rate": null,
       "bar_format": null,
       "postfix": null,
       "unit_divisor": 1000,
       "initial": 0,
       "colour": null
      }
     },
     "metadata": {},
     "output_type": "display_data"
    },
    {
     "name": "stderr",
     "output_type": "stream",
     "text": [
      "INFO:LOG:Generating evaluation dataset...\n",
      "INFO:LOG:Creating features from dataframe\n"
     ]
    },
    {
     "name": "stdout",
     "output_type": "stream",
     "text": [
      "           id  seq_starts  seq_ends  label           text\n",
      "0      891286           0         2      0             ба\n",
      "1      891286           0         4      1           банд\n",
      "2      891286           0         5      1          банду\n",
      "3      891286           0         9      1      банду нар\n",
      "4      891286           0        12      1   банду наркос\n",
      "...       ...         ...       ...    ...            ...\n",
      "11163  891286         402       411      1    ##лати нови\n",
      "11164  891286         402       413      1  ##лати новину\n",
      "11165  891286         407       411      0           нови\n",
      "11166  891286         407       413      0         новину\n",
      "11167  891286         411       413      1           ##ну\n",
      "\n",
      "[11168 rows x 5 columns]\n",
      "          id  seq_starts  seq_ends  label           text\n",
      "0     891298           0         1      0              б\n",
      "1     891298           0         3      0            бля\n",
      "2     891298           0         5      0          блядь\n",
      "3     891298           0         6      0        блядь ,\n",
      "4     891298           0        11      0      блядь , и\n",
      "...      ...         ...       ...    ...            ...\n",
      "3640  891298         216       225      0    ##лати нови\n",
      "3641  891298         216       227      0  ##лати новину\n",
      "3642  891298         221       225      0           нови\n",
      "3643  891298         221       227      0         новину\n",
      "3644  891298         225       227      0           ##ну\n",
      "\n",
      "[3645 rows x 5 columns]\n",
      "(3645, 5)\n"
     ]
    },
    {
     "name": "stderr",
     "output_type": "stream",
     "text": [
      "INFO:LOG:Creating TensorDataset from features dataframe\n",
      "C:\\Windows\\Temp\\ipykernel_1144\\1158175120.py:14: TqdmDeprecationWarning: This function will be removed in tqdm==5.0.0\n",
      "Please use `tqdm.notebook.tqdm` instead of `tqdm.tqdm_notebook`\n",
      "  for batch in tqdm_notebook(eval_dataloader, desc=\"Evaluating\"):\n"
     ]
    },
    {
     "data": {
      "text/plain": "Evaluating:   0%|          | 0/456 [00:00<?, ?it/s]",
      "application/vnd.jupyter.widget-view+json": {
       "version_major": 2,
       "version_minor": 0,
       "model_id": "b6331f5549a441c2b61bca88d436de7a"
      },
      "application/json": {
       "n": 0,
       "total": 456,
       "elapsed": 0.0040013790130615234,
       "ncols": null,
       "nrows": null,
       "prefix": "Evaluating",
       "ascii": false,
       "unit": "it",
       "unit_scale": false,
       "rate": null,
       "bar_format": null,
       "postfix": null,
       "unit_divisor": 1000,
       "initial": 0,
       "colour": null
      }
     },
     "metadata": {},
     "output_type": "display_data"
    },
    {
     "name": "stderr",
     "output_type": "stream",
     "text": [
      "INFO:LOG:Generating evaluation dataset...\n",
      "INFO:LOG:Creating features from dataframe\n"
     ]
    },
    {
     "name": "stdout",
     "output_type": "stream",
     "text": [
      "          id  seq_starts  seq_ends  label           text\n",
      "0     891298           0         1      0              б\n",
      "1     891298           0         3      1            бля\n",
      "2     891298           0         5      1          блядь\n",
      "3     891298           0         6      1        блядь ,\n",
      "4     891298           0        11      1      блядь , и\n",
      "...      ...         ...       ...    ...            ...\n",
      "3640  891298         216       225      1    ##лати нови\n",
      "3641  891298         216       227      1  ##лати новину\n",
      "3642  891298         221       225      0           нови\n",
      "3643  891298         221       227      0         новину\n",
      "3644  891298         225       227      1           ##ну\n",
      "\n",
      "[3645 rows x 5 columns]\n",
      "          id  seq_starts  seq_ends  label           text\n",
      "0     891573           1         3      0             за\n",
      "1     891573           1         5      0           зарі\n",
      "2     891573           1         7      0         заріза\n",
      "3     891573           1         8      0        зарізав\n",
      "4     891573           1        10      0      зарізав і\n",
      "...      ...         ...       ...    ...            ...\n",
      "5037  891573         268       277      0    ##лати нови\n",
      "5038  891573         268       279      0  ##лати новину\n",
      "5039  891573         273       277      0           нови\n",
      "5040  891573         273       279      0         новину\n",
      "5041  891573         277       279      0           ##ну\n",
      "\n",
      "[5042 rows x 5 columns]\n",
      "(5042, 5)\n"
     ]
    },
    {
     "name": "stderr",
     "output_type": "stream",
     "text": [
      "INFO:LOG:Creating TensorDataset from features dataframe\n",
      "C:\\Windows\\Temp\\ipykernel_1144\\1158175120.py:14: TqdmDeprecationWarning: This function will be removed in tqdm==5.0.0\n",
      "Please use `tqdm.notebook.tqdm` instead of `tqdm.tqdm_notebook`\n",
      "  for batch in tqdm_notebook(eval_dataloader, desc=\"Evaluating\"):\n"
     ]
    },
    {
     "data": {
      "text/plain": "Evaluating:   0%|          | 0/631 [00:00<?, ?it/s]",
      "application/vnd.jupyter.widget-view+json": {
       "version_major": 2,
       "version_minor": 0,
       "model_id": "a322227aa532443ca19d73715b5c687c"
      },
      "application/json": {
       "n": 0,
       "total": 631,
       "elapsed": 0.004000186920166016,
       "ncols": null,
       "nrows": null,
       "prefix": "Evaluating",
       "ascii": false,
       "unit": "it",
       "unit_scale": false,
       "rate": null,
       "bar_format": null,
       "postfix": null,
       "unit_divisor": 1000,
       "initial": 0,
       "colour": null
      }
     },
     "metadata": {},
     "output_type": "display_data"
    },
    {
     "name": "stderr",
     "output_type": "stream",
     "text": [
      "INFO:LOG:Generating evaluation dataset...\n",
      "INFO:LOG:Creating features from dataframe\n"
     ]
    },
    {
     "name": "stdout",
     "output_type": "stream",
     "text": [
      "          id  seq_starts  seq_ends  label           text\n",
      "0     891573           1         3      1             за\n",
      "1     891573           1         5      1           зарі\n",
      "2     891573           1         7      1         заріза\n",
      "3     891573           1         8      1        зарізав\n",
      "4     891573           1        10      1      зарізав і\n",
      "...      ...         ...       ...    ...            ...\n",
      "5037  891573         268       277      1    ##лати нови\n",
      "5038  891573         268       279      1  ##лати новину\n",
      "5039  891573         273       277      0           нови\n",
      "5040  891573         273       279      0         новину\n",
      "5041  891573         277       279      1           ##ну\n",
      "\n",
      "[5042 rows x 5 columns]\n",
      "          id  seq_starts  seq_ends  label           text\n",
      "0     891635           0         2      0             не\n",
      "1     891635           0         4      0           небе\n",
      "2     891635           0         5      0          небез\n",
      "3     891635           0         7      0        небезпе\n",
      "4     891635           0        10      0     небезпечно\n",
      "...      ...         ...       ...    ...            ...\n",
      "6658  891635         319       328      0    ##лати нови\n",
      "6659  891635         319       330      0  ##лати новину\n",
      "6660  891635         324       328      0           нови\n",
      "6661  891635         324       330      0         новину\n",
      "6662  891635         328       330      0           ##ну\n",
      "\n",
      "[6663 rows x 5 columns]\n",
      "(6663, 5)\n"
     ]
    },
    {
     "name": "stderr",
     "output_type": "stream",
     "text": [
      "INFO:LOG:Creating TensorDataset from features dataframe\n",
      "C:\\Windows\\Temp\\ipykernel_1144\\1158175120.py:14: TqdmDeprecationWarning: This function will be removed in tqdm==5.0.0\n",
      "Please use `tqdm.notebook.tqdm` instead of `tqdm.tqdm_notebook`\n",
      "  for batch in tqdm_notebook(eval_dataloader, desc=\"Evaluating\"):\n"
     ]
    },
    {
     "data": {
      "text/plain": "Evaluating:   0%|          | 0/833 [00:00<?, ?it/s]",
      "application/vnd.jupyter.widget-view+json": {
       "version_major": 2,
       "version_minor": 0,
       "model_id": "f62182c787a049f3af9999d67888a903"
      },
      "application/json": {
       "n": 0,
       "total": 833,
       "elapsed": 0.0040013790130615234,
       "ncols": null,
       "nrows": null,
       "prefix": "Evaluating",
       "ascii": false,
       "unit": "it",
       "unit_scale": false,
       "rate": null,
       "bar_format": null,
       "postfix": null,
       "unit_divisor": 1000,
       "initial": 0,
       "colour": null
      }
     },
     "metadata": {},
     "output_type": "display_data"
    },
    {
     "name": "stderr",
     "output_type": "stream",
     "text": [
      "INFO:LOG:Generating evaluation dataset...\n",
      "INFO:LOG:Creating features from dataframe\n"
     ]
    },
    {
     "name": "stdout",
     "output_type": "stream",
     "text": [
      "          id  seq_starts  seq_ends  label           text\n",
      "0     891635           0         2      1             не\n",
      "1     891635           0         4      1           небе\n",
      "2     891635           0         5      1          небез\n",
      "3     891635           0         7      1        небезпе\n",
      "4     891635           0        10      1     небезпечно\n",
      "...      ...         ...       ...    ...            ...\n",
      "6658  891635         319       328      1    ##лати нови\n",
      "6659  891635         319       330      1  ##лати новину\n",
      "6660  891635         324       328      0           нови\n",
      "6661  891635         324       330      0         новину\n",
      "6662  891635         328       330      1           ##ну\n",
      "\n",
      "[6663 rows x 5 columns]\n",
      "          id  seq_starts  seq_ends  label            text\n",
      "0     891698           0         3      0             нар\n",
      "1     891698           0         6      0          наркол\n",
      "2     891698           0         8      0        нарколаб\n",
      "3     891698           0        11      0     нарколабора\n",
      "4     891698           0        14      0  нарколаборатор\n",
      "...      ...         ...       ...    ...             ...\n",
      "3393  891698         243       252      0     ##лати нови\n",
      "3394  891698         243       254      0   ##лати новину\n",
      "3395  891698         248       252      0            нови\n",
      "3396  891698         248       254      0          новину\n",
      "3397  891698         252       254      0            ##ну\n",
      "\n",
      "[3398 rows x 5 columns]\n",
      "(3398, 5)\n"
     ]
    },
    {
     "name": "stderr",
     "output_type": "stream",
     "text": [
      "INFO:LOG:Creating TensorDataset from features dataframe\n",
      "C:\\Windows\\Temp\\ipykernel_1144\\1158175120.py:14: TqdmDeprecationWarning: This function will be removed in tqdm==5.0.0\n",
      "Please use `tqdm.notebook.tqdm` instead of `tqdm.tqdm_notebook`\n",
      "  for batch in tqdm_notebook(eval_dataloader, desc=\"Evaluating\"):\n"
     ]
    },
    {
     "data": {
      "text/plain": "Evaluating:   0%|          | 0/425 [00:00<?, ?it/s]",
      "application/vnd.jupyter.widget-view+json": {
       "version_major": 2,
       "version_minor": 0,
       "model_id": "edd1b726c20943f68f80f17ea4d59604"
      },
      "application/json": {
       "n": 0,
       "total": 425,
       "elapsed": 0.003036022186279297,
       "ncols": null,
       "nrows": null,
       "prefix": "Evaluating",
       "ascii": false,
       "unit": "it",
       "unit_scale": false,
       "rate": null,
       "bar_format": null,
       "postfix": null,
       "unit_divisor": 1000,
       "initial": 0,
       "colour": null
      }
     },
     "metadata": {},
     "output_type": "display_data"
    },
    {
     "name": "stderr",
     "output_type": "stream",
     "text": [
      "INFO:LOG:Generating evaluation dataset...\n",
      "INFO:LOG:Creating features from dataframe\n"
     ]
    },
    {
     "name": "stdout",
     "output_type": "stream",
     "text": [
      "          id  seq_starts  seq_ends  label            text\n",
      "0     891698           0         3      0             нар\n",
      "1     891698           0         6      1          наркол\n",
      "2     891698           0         8      1        нарколаб\n",
      "3     891698           0        11      1     нарколабора\n",
      "4     891698           0        14      1  нарколаборатор\n",
      "...      ...         ...       ...    ...             ...\n",
      "3393  891698         243       252      1     ##лати нови\n",
      "3394  891698         243       254      1   ##лати новину\n",
      "3395  891698         248       252      0            нови\n",
      "3396  891698         248       254      0          новину\n",
      "3397  891698         252       254      1            ##ну\n",
      "\n",
      "[3398 rows x 5 columns]\n",
      "          id  seq_starts  seq_ends  label           text\n",
      "0     891774           0         3      0            стр\n",
      "1     891774           0         5      0          страш\n",
      "2     891774           0         7      0        страшна\n",
      "3     891774           0         9      0      страшна д\n",
      "4     891774           0        10      0     страшна дт\n",
      "...      ...         ...       ...    ...            ...\n",
      "8897  891774         376       385      0    ##лати нови\n",
      "8898  891774         376       387      0  ##лати новину\n",
      "8899  891774         381       385      0           нови\n",
      "8900  891774         381       387      0         новину\n",
      "8901  891774         385       387      0           ##ну\n",
      "\n",
      "[8902 rows x 5 columns]\n",
      "(8902, 5)\n"
     ]
    },
    {
     "name": "stderr",
     "output_type": "stream",
     "text": [
      "INFO:LOG:Creating TensorDataset from features dataframe\n",
      "C:\\Windows\\Temp\\ipykernel_1144\\1158175120.py:14: TqdmDeprecationWarning: This function will be removed in tqdm==5.0.0\n",
      "Please use `tqdm.notebook.tqdm` instead of `tqdm.tqdm_notebook`\n",
      "  for batch in tqdm_notebook(eval_dataloader, desc=\"Evaluating\"):\n"
     ]
    },
    {
     "data": {
      "text/plain": "Evaluating:   0%|          | 0/1113 [00:00<?, ?it/s]",
      "application/vnd.jupyter.widget-view+json": {
       "version_major": 2,
       "version_minor": 0,
       "model_id": "4c4a454b6bce4ba4b06faebd0c7ec251"
      },
      "application/json": {
       "n": 0,
       "total": 1113,
       "elapsed": 0.005002260208129883,
       "ncols": null,
       "nrows": null,
       "prefix": "Evaluating",
       "ascii": false,
       "unit": "it",
       "unit_scale": false,
       "rate": null,
       "bar_format": null,
       "postfix": null,
       "unit_divisor": 1000,
       "initial": 0,
       "colour": null
      }
     },
     "metadata": {},
     "output_type": "display_data"
    },
    {
     "name": "stderr",
     "output_type": "stream",
     "text": [
      "INFO:LOG:Generating evaluation dataset...\n",
      "INFO:LOG:Creating features from dataframe\n"
     ]
    },
    {
     "name": "stdout",
     "output_type": "stream",
     "text": [
      "          id  seq_starts  seq_ends  label           text\n",
      "0     891774           0         3      0            стр\n",
      "1     891774           0         5      1          страш\n",
      "2     891774           0         7      1        страшна\n",
      "3     891774           0         9      1      страшна д\n",
      "4     891774           0        10      1     страшна дт\n",
      "...      ...         ...       ...    ...            ...\n",
      "8897  891774         376       385      1    ##лати нови\n",
      "8898  891774         376       387      1  ##лати новину\n",
      "8899  891774         381       385      0           нови\n",
      "8900  891774         381       387      0         новину\n",
      "8901  891774         385       387      1           ##ну\n",
      "\n",
      "[8902 rows x 5 columns]\n",
      "          id  seq_starts  seq_ends  label                     text\n",
      "0     891809           0         2      0                       не\n",
      "1     891809           0         7      0                  не буде\n",
      "2     891809           0        12      0             не буде води\n",
      "3     891809           0        14      0           не буде води в\n",
      "4     891809           0        23      0  не буде води в південно\n",
      "...      ...         ...       ...    ...                      ...\n",
      "4727  891809         244       253      0              ##лати нови\n",
      "4728  891809         244       255      0            ##лати новину\n",
      "4729  891809         249       253      0                     нови\n",
      "4730  891809         249       255      0                   новину\n",
      "4731  891809         253       255      0                     ##ну\n",
      "\n",
      "[4732 rows x 5 columns]\n",
      "(4732, 5)\n"
     ]
    },
    {
     "name": "stderr",
     "output_type": "stream",
     "text": [
      "INFO:LOG:Creating TensorDataset from features dataframe\n",
      "C:\\Windows\\Temp\\ipykernel_1144\\1158175120.py:14: TqdmDeprecationWarning: This function will be removed in tqdm==5.0.0\n",
      "Please use `tqdm.notebook.tqdm` instead of `tqdm.tqdm_notebook`\n",
      "  for batch in tqdm_notebook(eval_dataloader, desc=\"Evaluating\"):\n"
     ]
    },
    {
     "data": {
      "text/plain": "Evaluating:   0%|          | 0/592 [00:00<?, ?it/s]",
      "application/vnd.jupyter.widget-view+json": {
       "version_major": 2,
       "version_minor": 0,
       "model_id": "e8469302055a48d9beb2e4ea8ac89b7a"
      },
      "application/json": {
       "n": 0,
       "total": 592,
       "elapsed": 0.00421142578125,
       "ncols": null,
       "nrows": null,
       "prefix": "Evaluating",
       "ascii": false,
       "unit": "it",
       "unit_scale": false,
       "rate": null,
       "bar_format": null,
       "postfix": null,
       "unit_divisor": 1000,
       "initial": 0,
       "colour": null
      }
     },
     "metadata": {},
     "output_type": "display_data"
    },
    {
     "name": "stderr",
     "output_type": "stream",
     "text": [
      "INFO:LOG:Generating evaluation dataset...\n",
      "INFO:LOG:Creating features from dataframe\n"
     ]
    },
    {
     "name": "stdout",
     "output_type": "stream",
     "text": [
      "          id  seq_starts  seq_ends  label                     text\n",
      "0     891809           0         2      1                       не\n",
      "1     891809           0         7      1                  не буде\n",
      "2     891809           0        12      1             не буде води\n",
      "3     891809           0        14      1           не буде води в\n",
      "4     891809           0        23      1  не буде води в південно\n",
      "...      ...         ...       ...    ...                      ...\n",
      "4727  891809         244       253      1              ##лати нови\n",
      "4728  891809         244       255      1            ##лати новину\n",
      "4729  891809         249       253      0                     нови\n",
      "4730  891809         249       255      0                   новину\n",
      "4731  891809         253       255      1                     ##ну\n",
      "\n",
      "[4732 rows x 5 columns]\n",
      "          id  seq_starts  seq_ends  label            text\n",
      "0     891820           0         3      0             500\n",
      "1     891820           0         7      0         500 млн\n",
      "2     891820           0        10      0      500 млн гр\n",
      "3     891820           0        11      0     500 млн грн\n",
      "4     891820           0        14      0  500 млн грн на\n",
      "...      ...         ...       ...    ...             ...\n",
      "2202  891820         200       203      0           ##чул\n",
      "2203  891820         200       204      0          ##чули\n",
      "2204  891820         200       205      0        ##чули !\n",
      "2205  891820         203       204      0             ##и\n",
      "2206  891820         203       205      0           ##и !\n",
      "\n",
      "[2207 rows x 5 columns]\n",
      "(2207, 5)\n"
     ]
    },
    {
     "name": "stderr",
     "output_type": "stream",
     "text": [
      "INFO:LOG:Creating TensorDataset from features dataframe\n",
      "C:\\Windows\\Temp\\ipykernel_1144\\1158175120.py:14: TqdmDeprecationWarning: This function will be removed in tqdm==5.0.0\n",
      "Please use `tqdm.notebook.tqdm` instead of `tqdm.tqdm_notebook`\n",
      "  for batch in tqdm_notebook(eval_dataloader, desc=\"Evaluating\"):\n"
     ]
    },
    {
     "data": {
      "text/plain": "Evaluating:   0%|          | 0/276 [00:00<?, ?it/s]",
      "application/vnd.jupyter.widget-view+json": {
       "version_major": 2,
       "version_minor": 0,
       "model_id": "a90781342f464e0197390fa64738ec3f"
      },
      "application/json": {
       "n": 0,
       "total": 276,
       "elapsed": 0.004000425338745117,
       "ncols": null,
       "nrows": null,
       "prefix": "Evaluating",
       "ascii": false,
       "unit": "it",
       "unit_scale": false,
       "rate": null,
       "bar_format": null,
       "postfix": null,
       "unit_divisor": 1000,
       "initial": 0,
       "colour": null
      }
     },
     "metadata": {},
     "output_type": "display_data"
    },
    {
     "name": "stderr",
     "output_type": "stream",
     "text": [
      "INFO:LOG:Generating evaluation dataset...\n",
      "INFO:LOG:Creating features from dataframe\n"
     ]
    },
    {
     "name": "stdout",
     "output_type": "stream",
     "text": [
      "          id  seq_starts  seq_ends  label            text\n",
      "0     891820           0         3      0             500\n",
      "1     891820           0         7      1         500 млн\n",
      "2     891820           0        10      1      500 млн гр\n",
      "3     891820           0        11      1     500 млн грн\n",
      "4     891820           0        14      1  500 млн грн на\n",
      "...      ...         ...       ...    ...             ...\n",
      "2202  891820         200       203      1           ##чул\n",
      "2203  891820         200       204      1          ##чули\n",
      "2204  891820         200       205      1        ##чули !\n",
      "2205  891820         203       204      1             ##и\n",
      "2206  891820         203       205      1           ##и !\n",
      "\n",
      "[2207 rows x 5 columns]\n",
      "          id  seq_starts  seq_ends  label           text\n",
      "0     892222           0         2      0             сб\n",
      "1     892222           0         3      0            сбу\n",
      "2     892222           0         7      0        сбу пов\n",
      "3     892222           0         9      0      сбу повід\n",
      "4     892222           0        12      0   сбу повідоми\n",
      "...      ...         ...       ...    ...            ...\n",
      "7007  892222         343       352      0    ##лати нови\n",
      "7008  892222         343       354      0  ##лати новину\n",
      "7009  892222         348       352      0           нови\n",
      "7010  892222         348       354      0         новину\n",
      "7011  892222         352       354      0           ##ну\n",
      "\n",
      "[7012 rows x 5 columns]\n",
      "(7012, 5)\n"
     ]
    },
    {
     "name": "stderr",
     "output_type": "stream",
     "text": [
      "INFO:LOG:Creating TensorDataset from features dataframe\n",
      "C:\\Windows\\Temp\\ipykernel_1144\\1158175120.py:14: TqdmDeprecationWarning: This function will be removed in tqdm==5.0.0\n",
      "Please use `tqdm.notebook.tqdm` instead of `tqdm.tqdm_notebook`\n",
      "  for batch in tqdm_notebook(eval_dataloader, desc=\"Evaluating\"):\n"
     ]
    },
    {
     "data": {
      "text/plain": "Evaluating:   0%|          | 0/877 [00:00<?, ?it/s]",
      "application/vnd.jupyter.widget-view+json": {
       "version_major": 2,
       "version_minor": 0,
       "model_id": "4403c550fbb84e81a4397897af1b2066"
      },
      "application/json": {
       "n": 0,
       "total": 877,
       "elapsed": 0.004002094268798828,
       "ncols": null,
       "nrows": null,
       "prefix": "Evaluating",
       "ascii": false,
       "unit": "it",
       "unit_scale": false,
       "rate": null,
       "bar_format": null,
       "postfix": null,
       "unit_divisor": 1000,
       "initial": 0,
       "colour": null
      }
     },
     "metadata": {},
     "output_type": "display_data"
    },
    {
     "name": "stderr",
     "output_type": "stream",
     "text": [
      "INFO:LOG:Generating evaluation dataset...\n",
      "INFO:LOG:Creating features from dataframe\n"
     ]
    },
    {
     "name": "stdout",
     "output_type": "stream",
     "text": [
      "          id  seq_starts  seq_ends  label           text\n",
      "0     892222           0         2      0             сб\n",
      "1     892222           0         3      1            сбу\n",
      "2     892222           0         7      1        сбу пов\n",
      "3     892222           0         9      1      сбу повід\n",
      "4     892222           0        12      1   сбу повідоми\n",
      "...      ...         ...       ...    ...            ...\n",
      "7007  892222         343       352      1    ##лати нови\n",
      "7008  892222         343       354      1  ##лати новину\n",
      "7009  892222         348       352      0           нови\n",
      "7010  892222         348       354      0         новину\n",
      "7011  892222         352       354      1           ##ну\n",
      "\n",
      "[7012 rows x 5 columns]\n",
      "           id  seq_starts  seq_ends  label                text\n",
      "0      892319           0         5      0               росія\n",
      "1      892319           0         9      0           росія про\n",
      "2      892319           0        12      0        росія продов\n",
      "3      892319           0        15      0     росія продовжує\n",
      "4      892319           0        18      0  росія продовжує те\n",
      "...       ...         ...       ...    ...                 ...\n",
      "11154  892319         475       477      0                ##во\n",
      "11155  892319         475       479      0              ##воги\n",
      "11156  892319         475       480      0            ##воги .\n",
      "11157  892319         477       479      0                ##ги\n",
      "11158  892319         477       480      0              ##ги .\n",
      "\n",
      "[11159 rows x 5 columns]\n",
      "(11159, 5)\n"
     ]
    },
    {
     "name": "stderr",
     "output_type": "stream",
     "text": [
      "INFO:LOG:Creating TensorDataset from features dataframe\n",
      "C:\\Windows\\Temp\\ipykernel_1144\\1158175120.py:14: TqdmDeprecationWarning: This function will be removed in tqdm==5.0.0\n",
      "Please use `tqdm.notebook.tqdm` instead of `tqdm.tqdm_notebook`\n",
      "  for batch in tqdm_notebook(eval_dataloader, desc=\"Evaluating\"):\n"
     ]
    },
    {
     "data": {
      "text/plain": "Evaluating:   0%|          | 0/1395 [00:00<?, ?it/s]",
      "application/vnd.jupyter.widget-view+json": {
       "version_major": 2,
       "version_minor": 0,
       "model_id": "b6563ffe88644dd8b9e08e2733d02d88"
      },
      "application/json": {
       "n": 0,
       "total": 1395,
       "elapsed": 0.0039632320404052734,
       "ncols": null,
       "nrows": null,
       "prefix": "Evaluating",
       "ascii": false,
       "unit": "it",
       "unit_scale": false,
       "rate": null,
       "bar_format": null,
       "postfix": null,
       "unit_divisor": 1000,
       "initial": 0,
       "colour": null
      }
     },
     "metadata": {},
     "output_type": "display_data"
    },
    {
     "name": "stderr",
     "output_type": "stream",
     "text": [
      "INFO:LOG:Generating evaluation dataset...\n",
      "INFO:LOG:Creating features from dataframe\n"
     ]
    },
    {
     "name": "stdout",
     "output_type": "stream",
     "text": [
      "           id  seq_starts  seq_ends  label                text\n",
      "0      892319           0         5      0               росія\n",
      "1      892319           0         9      1           росія про\n",
      "2      892319           0        12      1        росія продов\n",
      "3      892319           0        15      1     росія продовжує\n",
      "4      892319           0        18      1  росія продовжує те\n",
      "...       ...         ...       ...    ...                 ...\n",
      "11154  892319         475       477      1                ##во\n",
      "11155  892319         475       479      1              ##воги\n",
      "11156  892319         475       480      0            ##воги .\n",
      "11157  892319         477       479      1                ##ги\n",
      "11158  892319         477       480      0              ##ги .\n",
      "\n",
      "[11159 rows x 5 columns]\n",
      "          id  seq_starts  seq_ends  label           text\n",
      "0     892328           0         1      0              п\n",
      "1     892328           0         2      0             пз\n",
      "2     892328           0         3      0            пзд\n",
      "3     892328           0         4      0           пздц\n",
      "4     892328           0         5      0         пздц .\n",
      "...      ...         ...       ...    ...            ...\n",
      "5555  892328         300       309      0    ##лати нови\n",
      "5556  892328         300       311      0  ##лати новину\n",
      "5557  892328         305       309      0           нови\n",
      "5558  892328         305       311      0         новину\n",
      "5559  892328         309       311      0           ##ну\n",
      "\n",
      "[5560 rows x 5 columns]\n",
      "(5560, 5)\n"
     ]
    },
    {
     "name": "stderr",
     "output_type": "stream",
     "text": [
      "INFO:LOG:Creating TensorDataset from features dataframe\n",
      "C:\\Windows\\Temp\\ipykernel_1144\\1158175120.py:14: TqdmDeprecationWarning: This function will be removed in tqdm==5.0.0\n",
      "Please use `tqdm.notebook.tqdm` instead of `tqdm.tqdm_notebook`\n",
      "  for batch in tqdm_notebook(eval_dataloader, desc=\"Evaluating\"):\n"
     ]
    },
    {
     "data": {
      "text/plain": "Evaluating:   0%|          | 0/695 [00:00<?, ?it/s]",
      "application/vnd.jupyter.widget-view+json": {
       "version_major": 2,
       "version_minor": 0,
       "model_id": "4ad3769757614af6b705f93381fdb425"
      },
      "application/json": {
       "n": 0,
       "total": 695,
       "elapsed": 0.004005908966064453,
       "ncols": null,
       "nrows": null,
       "prefix": "Evaluating",
       "ascii": false,
       "unit": "it",
       "unit_scale": false,
       "rate": null,
       "bar_format": null,
       "postfix": null,
       "unit_divisor": 1000,
       "initial": 0,
       "colour": null
      }
     },
     "metadata": {},
     "output_type": "display_data"
    },
    {
     "name": "stderr",
     "output_type": "stream",
     "text": [
      "INFO:LOG:Generating evaluation dataset...\n",
      "INFO:LOG:Creating features from dataframe\n"
     ]
    },
    {
     "name": "stdout",
     "output_type": "stream",
     "text": [
      "          id  seq_starts  seq_ends  label           text\n",
      "0     892328           0         1      0              п\n",
      "1     892328           0         2      1             пз\n",
      "2     892328           0         3      1            пзд\n",
      "3     892328           0         4      1           пздц\n",
      "4     892328           0         5      1         пздц .\n",
      "...      ...         ...       ...    ...            ...\n",
      "5555  892328         300       309      1    ##лати нови\n",
      "5556  892328         300       311      1  ##лати новину\n",
      "5557  892328         305       309      0           нови\n",
      "5558  892328         305       311      0         новину\n",
      "5559  892328         309       311      1           ##ну\n",
      "\n",
      "[5560 rows x 5 columns]\n",
      "          id  seq_starts  seq_ends  label              text\n",
      "0     892422           0         5      0             знову\n",
      "1     892422           0         8      0          знову па\n",
      "2     892422           0        11      0       знову панде\n",
      "3     892422           0        14      0    знову пандемія\n",
      "4     892422           0        15      0  знову пандемія ?\n",
      "...      ...         ...       ...    ...               ...\n",
      "4739  892422         286       295      0       ##лати нови\n",
      "4740  892422         286       297      0     ##лати новину\n",
      "4741  892422         291       295      0              нови\n",
      "4742  892422         291       297      0            новину\n",
      "4743  892422         295       297      0              ##ну\n",
      "\n",
      "[4744 rows x 5 columns]\n",
      "(4744, 5)\n"
     ]
    },
    {
     "name": "stderr",
     "output_type": "stream",
     "text": [
      "INFO:LOG:Creating TensorDataset from features dataframe\n",
      "C:\\Windows\\Temp\\ipykernel_1144\\1158175120.py:14: TqdmDeprecationWarning: This function will be removed in tqdm==5.0.0\n",
      "Please use `tqdm.notebook.tqdm` instead of `tqdm.tqdm_notebook`\n",
      "  for batch in tqdm_notebook(eval_dataloader, desc=\"Evaluating\"):\n"
     ]
    },
    {
     "data": {
      "text/plain": "Evaluating:   0%|          | 0/593 [00:00<?, ?it/s]",
      "application/vnd.jupyter.widget-view+json": {
       "version_major": 2,
       "version_minor": 0,
       "model_id": "d18daab695084f8a8f3eb1aeed620a19"
      },
      "application/json": {
       "n": 0,
       "total": 593,
       "elapsed": 0.0040013790130615234,
       "ncols": null,
       "nrows": null,
       "prefix": "Evaluating",
       "ascii": false,
       "unit": "it",
       "unit_scale": false,
       "rate": null,
       "bar_format": null,
       "postfix": null,
       "unit_divisor": 1000,
       "initial": 0,
       "colour": null
      }
     },
     "metadata": {},
     "output_type": "display_data"
    },
    {
     "name": "stderr",
     "output_type": "stream",
     "text": [
      "INFO:LOG:Generating evaluation dataset...\n",
      "INFO:LOG:Creating features from dataframe\n"
     ]
    },
    {
     "name": "stdout",
     "output_type": "stream",
     "text": [
      "          id  seq_starts  seq_ends  label              text\n",
      "0     892422           0         5      0             знову\n",
      "1     892422           0         8      1          знову па\n",
      "2     892422           0        11      1       знову панде\n",
      "3     892422           0        14      1    знову пандемія\n",
      "4     892422           0        15      1  знову пандемія ?\n",
      "...      ...         ...       ...    ...               ...\n",
      "4739  892422         286       295      1       ##лати нови\n",
      "4740  892422         286       297      1     ##лати новину\n",
      "4741  892422         291       295      0              нови\n",
      "4742  892422         291       297      0            новину\n",
      "4743  892422         295       297      1              ##ну\n",
      "\n",
      "[4744 rows x 5 columns]\n",
      "          id  seq_starts  seq_ends  label                 text\n",
      "0     892462           0         2      0                   на\n",
      "1     892462           0         8      0             на фронт\n",
      "2     892462           0         9      0            на фронті\n",
      "3     892462           0        15      0      на фронті зараз\n",
      "4     892462           0        19      0  на фронті зараз наш\n",
      "...      ...         ...       ...    ...                  ...\n",
      "2991  892462         224       233      0          ##лати нови\n",
      "2992  892462         224       235      0        ##лати новину\n",
      "2993  892462         229       233      0                 нови\n",
      "2994  892462         229       235      0               новину\n",
      "2995  892462         233       235      0                 ##ну\n",
      "\n",
      "[2996 rows x 5 columns]\n",
      "(2996, 5)\n"
     ]
    },
    {
     "name": "stderr",
     "output_type": "stream",
     "text": [
      "INFO:LOG:Creating TensorDataset from features dataframe\n",
      "C:\\Windows\\Temp\\ipykernel_1144\\1158175120.py:14: TqdmDeprecationWarning: This function will be removed in tqdm==5.0.0\n",
      "Please use `tqdm.notebook.tqdm` instead of `tqdm.tqdm_notebook`\n",
      "  for batch in tqdm_notebook(eval_dataloader, desc=\"Evaluating\"):\n"
     ]
    },
    {
     "data": {
      "text/plain": "Evaluating:   0%|          | 0/375 [00:00<?, ?it/s]",
      "application/vnd.jupyter.widget-view+json": {
       "version_major": 2,
       "version_minor": 0,
       "model_id": "96afb605155246728e3f7d2248cb8779"
      },
      "application/json": {
       "n": 0,
       "total": 375,
       "elapsed": 0.004000663757324219,
       "ncols": null,
       "nrows": null,
       "prefix": "Evaluating",
       "ascii": false,
       "unit": "it",
       "unit_scale": false,
       "rate": null,
       "bar_format": null,
       "postfix": null,
       "unit_divisor": 1000,
       "initial": 0,
       "colour": null
      }
     },
     "metadata": {},
     "output_type": "display_data"
    },
    {
     "name": "stderr",
     "output_type": "stream",
     "text": [
      "INFO:LOG:Generating evaluation dataset...\n",
      "INFO:LOG:Creating features from dataframe\n"
     ]
    },
    {
     "name": "stdout",
     "output_type": "stream",
     "text": [
      "          id  seq_starts  seq_ends  label                 text\n",
      "0     892462           0         2      0                   на\n",
      "1     892462           0         8      1             на фронт\n",
      "2     892462           0         9      1            на фронті\n",
      "3     892462           0        15      1      на фронті зараз\n",
      "4     892462           0        19      1  на фронті зараз наш\n",
      "...      ...         ...       ...    ...                  ...\n",
      "2991  892462         224       233      1          ##лати нови\n",
      "2992  892462         224       235      1        ##лати новину\n",
      "2993  892462         229       233      0                 нови\n",
      "2994  892462         229       235      0               новину\n",
      "2995  892462         233       235      1                 ##ну\n",
      "\n",
      "[2996 rows x 5 columns]\n",
      "          id  seq_starts  seq_ends  label            text\n",
      "0     892611           0         3      0             усе\n",
      "1     892611           0         6      0          усе ще\n",
      "2     892611           0         8      0        усе ще з\n",
      "3     892611           0        11      0     усе ще зрос\n",
      "4     892611           0        14      0  усе ще зростає\n",
      "...      ...         ...       ...    ...             ...\n",
      "4939  892611         297       306      0     ##лати нови\n",
      "4940  892611         297       308      0   ##лати новину\n",
      "4941  892611         302       306      0            нови\n",
      "4942  892611         302       308      0          новину\n",
      "4943  892611         306       308      0            ##ну\n",
      "\n",
      "[4944 rows x 5 columns]\n",
      "(4944, 5)\n"
     ]
    },
    {
     "name": "stderr",
     "output_type": "stream",
     "text": [
      "INFO:LOG:Creating TensorDataset from features dataframe\n",
      "C:\\Windows\\Temp\\ipykernel_1144\\1158175120.py:14: TqdmDeprecationWarning: This function will be removed in tqdm==5.0.0\n",
      "Please use `tqdm.notebook.tqdm` instead of `tqdm.tqdm_notebook`\n",
      "  for batch in tqdm_notebook(eval_dataloader, desc=\"Evaluating\"):\n"
     ]
    },
    {
     "data": {
      "text/plain": "Evaluating:   0%|          | 0/618 [00:00<?, ?it/s]",
      "application/vnd.jupyter.widget-view+json": {
       "version_major": 2,
       "version_minor": 0,
       "model_id": "0d09c5768f404811ab9f91488a5b5a98"
      },
      "application/json": {
       "n": 0,
       "total": 618,
       "elapsed": 0.004967689514160156,
       "ncols": null,
       "nrows": null,
       "prefix": "Evaluating",
       "ascii": false,
       "unit": "it",
       "unit_scale": false,
       "rate": null,
       "bar_format": null,
       "postfix": null,
       "unit_divisor": 1000,
       "initial": 0,
       "colour": null
      }
     },
     "metadata": {},
     "output_type": "display_data"
    },
    {
     "name": "stderr",
     "output_type": "stream",
     "text": [
      "INFO:LOG:Generating evaluation dataset...\n",
      "INFO:LOG:Creating features from dataframe\n"
     ]
    },
    {
     "name": "stdout",
     "output_type": "stream",
     "text": [
      "          id  seq_starts  seq_ends  label            text\n",
      "0     892611           0         3      0             усе\n",
      "1     892611           0         6      1          усе ще\n",
      "2     892611           0         8      1        усе ще з\n",
      "3     892611           0        11      1     усе ще зрос\n",
      "4     892611           0        14      1  усе ще зростає\n",
      "...      ...         ...       ...    ...             ...\n",
      "4939  892611         297       306      1     ##лати нови\n",
      "4940  892611         297       308      1   ##лати новину\n",
      "4941  892611         302       306      0            нови\n",
      "4942  892611         302       308      0          новину\n",
      "4943  892611         306       308      1            ##ну\n",
      "\n",
      "[4944 rows x 5 columns]\n",
      "          id  seq_starts  seq_ends  label              text\n",
      "0     892635           0         5      0             немає\n",
      "1     892635           0         7      0           немає о\n",
      "2     892635           0        10      0        немає опал\n",
      "3     892635           0        14      0    немає опалення\n",
      "4     892635           0        16      0  немає опалення в\n",
      "...      ...         ...       ...    ...               ...\n",
      "4359  892635         257       266      0       ##лати нови\n",
      "4360  892635         257       268      0     ##лати новину\n",
      "4361  892635         262       266      0              нови\n",
      "4362  892635         262       268      0            новину\n",
      "4363  892635         266       268      0              ##ну\n",
      "\n",
      "[4364 rows x 5 columns]\n",
      "(4364, 5)\n"
     ]
    },
    {
     "name": "stderr",
     "output_type": "stream",
     "text": [
      "INFO:LOG:Creating TensorDataset from features dataframe\n",
      "C:\\Windows\\Temp\\ipykernel_1144\\1158175120.py:14: TqdmDeprecationWarning: This function will be removed in tqdm==5.0.0\n",
      "Please use `tqdm.notebook.tqdm` instead of `tqdm.tqdm_notebook`\n",
      "  for batch in tqdm_notebook(eval_dataloader, desc=\"Evaluating\"):\n"
     ]
    },
    {
     "data": {
      "text/plain": "Evaluating:   0%|          | 0/546 [00:00<?, ?it/s]",
      "application/vnd.jupyter.widget-view+json": {
       "version_major": 2,
       "version_minor": 0,
       "model_id": "4b01e5eb0276465c90f655d30d5ae182"
      },
      "application/json": {
       "n": 0,
       "total": 546,
       "elapsed": 0.004000425338745117,
       "ncols": null,
       "nrows": null,
       "prefix": "Evaluating",
       "ascii": false,
       "unit": "it",
       "unit_scale": false,
       "rate": null,
       "bar_format": null,
       "postfix": null,
       "unit_divisor": 1000,
       "initial": 0,
       "colour": null
      }
     },
     "metadata": {},
     "output_type": "display_data"
    },
    {
     "name": "stderr",
     "output_type": "stream",
     "text": [
      "INFO:LOG:Generating evaluation dataset...\n",
      "INFO:LOG:Creating features from dataframe\n"
     ]
    },
    {
     "name": "stdout",
     "output_type": "stream",
     "text": [
      "          id  seq_starts  seq_ends  label              text\n",
      "0     892635           0         5      0             немає\n",
      "1     892635           0         7      1           немає о\n",
      "2     892635           0        10      1        немає опал\n",
      "3     892635           0        14      1    немає опалення\n",
      "4     892635           0        16      1  немає опалення в\n",
      "...      ...         ...       ...    ...               ...\n",
      "4359  892635         257       266      1       ##лати нови\n",
      "4360  892635         257       268      1     ##лати новину\n",
      "4361  892635         262       266      0              нови\n",
      "4362  892635         262       268      0            новину\n",
      "4363  892635         266       268      1              ##ну\n",
      "\n",
      "[4364 rows x 5 columns]\n",
      "          id  seq_starts  seq_ends  label             text\n",
      "0     976074           0         1      0                у\n",
      "1     976074           0         5      0            у сша\n",
      "2     976074           0        10      0       у сша школ\n",
      "3     976074           0        12      0     у сша школяр\n",
      "4     976074           0        15      0  у сша школяр зі\n",
      "...      ...         ...       ...    ...              ...\n",
      "6431  976074         345       354      0      ##лати нови\n",
      "6432  976074         345       356      0    ##лати новину\n",
      "6433  976074         350       354      0             нови\n",
      "6434  976074         350       356      0           новину\n",
      "6435  976074         354       356      0             ##ну\n",
      "\n",
      "[6436 rows x 5 columns]\n",
      "(6436, 5)\n"
     ]
    },
    {
     "name": "stderr",
     "output_type": "stream",
     "text": [
      "INFO:LOG:Creating TensorDataset from features dataframe\n",
      "C:\\Windows\\Temp\\ipykernel_1144\\1158175120.py:14: TqdmDeprecationWarning: This function will be removed in tqdm==5.0.0\n",
      "Please use `tqdm.notebook.tqdm` instead of `tqdm.tqdm_notebook`\n",
      "  for batch in tqdm_notebook(eval_dataloader, desc=\"Evaluating\"):\n"
     ]
    },
    {
     "data": {
      "text/plain": "Evaluating:   0%|          | 0/805 [00:00<?, ?it/s]",
      "application/vnd.jupyter.widget-view+json": {
       "version_major": 2,
       "version_minor": 0,
       "model_id": "5a804989e90a43e68ed3e3e756abd3bb"
      },
      "application/json": {
       "n": 0,
       "total": 805,
       "elapsed": 0.003966093063354492,
       "ncols": null,
       "nrows": null,
       "prefix": "Evaluating",
       "ascii": false,
       "unit": "it",
       "unit_scale": false,
       "rate": null,
       "bar_format": null,
       "postfix": null,
       "unit_divisor": 1000,
       "initial": 0,
       "colour": null
      }
     },
     "metadata": {},
     "output_type": "display_data"
    },
    {
     "name": "stderr",
     "output_type": "stream",
     "text": [
      "INFO:LOG:Generating evaluation dataset...\n",
      "INFO:LOG:Creating features from dataframe\n"
     ]
    },
    {
     "name": "stdout",
     "output_type": "stream",
     "text": [
      "          id  seq_starts  seq_ends  label             text\n",
      "0     976074           0         1      0                у\n",
      "1     976074           0         5      1            у сша\n",
      "2     976074           0        10      1       у сша школ\n",
      "3     976074           0        12      1     у сша школяр\n",
      "4     976074           0        15      1  у сша школяр зі\n",
      "...      ...         ...       ...    ...              ...\n",
      "6431  976074         345       354      1      ##лати нови\n",
      "6432  976074         345       356      1    ##лати новину\n",
      "6433  976074         350       354      0             нови\n",
      "6434  976074         350       356      0           новину\n",
      "6435  976074         354       356      1             ##ну\n",
      "\n",
      "[6436 rows x 5 columns]\n",
      "           id  seq_starts  seq_ends  label             text\n",
      "0      976130           0         2      0               чи\n",
      "1      976130           0         7      0          читання\n",
      "2      976130           0        12      0     читання нови\n",
      "3      976130           0        13      0    читання новин\n",
      "4      976130           0        15      0  читання новин в\n",
      "...       ...         ...       ...    ...              ...\n",
      "11307  976130         411       420      0      ##лати нови\n",
      "11308  976130         411       422      0    ##лати новину\n",
      "11309  976130         416       420      0             нови\n",
      "11310  976130         416       422      0           новину\n",
      "11311  976130         420       422      0             ##ну\n",
      "\n",
      "[11312 rows x 5 columns]\n",
      "(11312, 5)\n"
     ]
    },
    {
     "name": "stderr",
     "output_type": "stream",
     "text": [
      "INFO:LOG:Creating TensorDataset from features dataframe\n",
      "C:\\Windows\\Temp\\ipykernel_1144\\1158175120.py:14: TqdmDeprecationWarning: This function will be removed in tqdm==5.0.0\n",
      "Please use `tqdm.notebook.tqdm` instead of `tqdm.tqdm_notebook`\n",
      "  for batch in tqdm_notebook(eval_dataloader, desc=\"Evaluating\"):\n"
     ]
    },
    {
     "data": {
      "text/plain": "Evaluating:   0%|          | 0/1414 [00:00<?, ?it/s]",
      "application/vnd.jupyter.widget-view+json": {
       "version_major": 2,
       "version_minor": 0,
       "model_id": "5fac018f326e49f5b55ba2e596dafe57"
      },
      "application/json": {
       "n": 0,
       "total": 1414,
       "elapsed": 0.0049974918365478516,
       "ncols": null,
       "nrows": null,
       "prefix": "Evaluating",
       "ascii": false,
       "unit": "it",
       "unit_scale": false,
       "rate": null,
       "bar_format": null,
       "postfix": null,
       "unit_divisor": 1000,
       "initial": 0,
       "colour": null
      }
     },
     "metadata": {},
     "output_type": "display_data"
    },
    {
     "name": "stderr",
     "output_type": "stream",
     "text": [
      "INFO:LOG:Generating evaluation dataset...\n",
      "INFO:LOG:Creating features from dataframe\n"
     ]
    },
    {
     "name": "stdout",
     "output_type": "stream",
     "text": [
      "           id  seq_starts  seq_ends  label             text\n",
      "0      976130           0         2      0               чи\n",
      "1      976130           0         7      1          читання\n",
      "2      976130           0        12      1     читання нови\n",
      "3      976130           0        13      1    читання новин\n",
      "4      976130           0        15      1  читання новин в\n",
      "...       ...         ...       ...    ...              ...\n",
      "11307  976130         411       420      1      ##лати нови\n",
      "11308  976130         411       422      1    ##лати новину\n",
      "11309  976130         416       420      0             нови\n",
      "11310  976130         416       422      0           новину\n",
      "11311  976130         420       422      1             ##ну\n",
      "\n",
      "[11312 rows x 5 columns]\n",
      "          id  seq_starts  seq_ends  label           text\n",
      "0     976175           0         2      0             не\n",
      "1     976175           0         4      0           небе\n",
      "2     976175           0         5      0          небез\n",
      "3     976175           0         7      0        небезпе\n",
      "4     976175           0         3      0    небезпечнии\n",
      "...      ...         ...       ...    ...            ...\n",
      "4453  976175         251       260      0    ##лати нови\n",
      "4454  976175         251       262      0  ##лати новину\n",
      "4455  976175         256       260      0           нови\n",
      "4456  976175         256       262      0         новину\n",
      "4457  976175         260       262      0           ##ну\n",
      "\n",
      "[4458 rows x 5 columns]\n",
      "(4458, 5)\n"
     ]
    },
    {
     "name": "stderr",
     "output_type": "stream",
     "text": [
      "INFO:LOG:Creating TensorDataset from features dataframe\n",
      "C:\\Windows\\Temp\\ipykernel_1144\\1158175120.py:14: TqdmDeprecationWarning: This function will be removed in tqdm==5.0.0\n",
      "Please use `tqdm.notebook.tqdm` instead of `tqdm.tqdm_notebook`\n",
      "  for batch in tqdm_notebook(eval_dataloader, desc=\"Evaluating\"):\n"
     ]
    },
    {
     "data": {
      "text/plain": "Evaluating:   0%|          | 0/558 [00:00<?, ?it/s]",
      "application/vnd.jupyter.widget-view+json": {
       "version_major": 2,
       "version_minor": 0,
       "model_id": "da603f794e7c416493604c8b6fded6a3"
      },
      "application/json": {
       "n": 0,
       "total": 558,
       "elapsed": 0.00400090217590332,
       "ncols": null,
       "nrows": null,
       "prefix": "Evaluating",
       "ascii": false,
       "unit": "it",
       "unit_scale": false,
       "rate": null,
       "bar_format": null,
       "postfix": null,
       "unit_divisor": 1000,
       "initial": 0,
       "colour": null
      }
     },
     "metadata": {},
     "output_type": "display_data"
    },
    {
     "name": "stderr",
     "output_type": "stream",
     "text": [
      "INFO:LOG:Generating evaluation dataset...\n",
      "INFO:LOG:Creating features from dataframe\n"
     ]
    },
    {
     "name": "stdout",
     "output_type": "stream",
     "text": [
      "          id  seq_starts  seq_ends  label           text\n",
      "0     976175           0         2      1             не\n",
      "1     976175           0         4      1           небе\n",
      "2     976175           0         5      1          небез\n",
      "3     976175           0         7      1        небезпе\n",
      "4     976175           0         3      1    небезпечнии\n",
      "...      ...         ...       ...    ...            ...\n",
      "4453  976175         251       260      1    ##лати нови\n",
      "4454  976175         251       262      1  ##лати новину\n",
      "4455  976175         256       260      0           нови\n",
      "4456  976175         256       262      0         новину\n",
      "4457  976175         260       262      1           ##ну\n",
      "\n",
      "[4458 rows x 5 columns]\n",
      "          id  seq_starts  seq_ends  label           text\n",
      "0     976196           0         1      0              я\n",
      "1     976196           0         3      0            ябл\n",
      "2     976196           0         7      0        яблучни\n",
      "3     976196           0        11      0       яблучнии\n",
      "4     976196           0        90      0    яблучнии си\n",
      "...      ...         ...       ...    ...            ...\n",
      "6775  976196         335       344      0    ##лати нови\n",
      "6776  976196         335       346      0  ##лати новину\n",
      "6777  976196         340       344      0           нови\n",
      "6778  976196         340       346      0         новину\n",
      "6779  976196         344       346      0           ##ну\n",
      "\n",
      "[6780 rows x 5 columns]\n",
      "(6780, 5)\n"
     ]
    },
    {
     "name": "stderr",
     "output_type": "stream",
     "text": [
      "INFO:LOG:Creating TensorDataset from features dataframe\n",
      "C:\\Windows\\Temp\\ipykernel_1144\\1158175120.py:14: TqdmDeprecationWarning: This function will be removed in tqdm==5.0.0\n",
      "Please use `tqdm.notebook.tqdm` instead of `tqdm.tqdm_notebook`\n",
      "  for batch in tqdm_notebook(eval_dataloader, desc=\"Evaluating\"):\n"
     ]
    },
    {
     "data": {
      "text/plain": "Evaluating:   0%|          | 0/848 [00:00<?, ?it/s]",
      "application/vnd.jupyter.widget-view+json": {
       "version_major": 2,
       "version_minor": 0,
       "model_id": "7ff31f3b7b644c8190879d46066730bd"
      },
      "application/json": {
       "n": 0,
       "total": 848,
       "elapsed": 0.0029630661010742188,
       "ncols": null,
       "nrows": null,
       "prefix": "Evaluating",
       "ascii": false,
       "unit": "it",
       "unit_scale": false,
       "rate": null,
       "bar_format": null,
       "postfix": null,
       "unit_divisor": 1000,
       "initial": 0,
       "colour": null
      }
     },
     "metadata": {},
     "output_type": "display_data"
    },
    {
     "name": "stderr",
     "output_type": "stream",
     "text": [
      "INFO:LOG:Generating evaluation dataset...\n",
      "INFO:LOG:Creating features from dataframe\n"
     ]
    },
    {
     "name": "stdout",
     "output_type": "stream",
     "text": [
      "          id  seq_starts  seq_ends  label           text\n",
      "0     976196           0         1      0              я\n",
      "1     976196           0         3      1            ябл\n",
      "2     976196           0         7      1        яблучни\n",
      "3     976196           0        11      1       яблучнии\n",
      "4     976196           0        90      1    яблучнии си\n",
      "...      ...         ...       ...    ...            ...\n",
      "6775  976196         335       344      1    ##лати нови\n",
      "6776  976196         335       346      1  ##лати новину\n",
      "6777  976196         340       344      0           нови\n",
      "6778  976196         340       346      0         новину\n",
      "6779  976196         344       346      1           ##ну\n",
      "\n",
      "[6780 rows x 5 columns]\n",
      "          id  seq_starts  seq_ends  label           text\n",
      "0     976271           0         2      0             жа\n",
      "1     976271           0         4      0           жахл\n",
      "2     976271           0         7      0        жахлива\n",
      "3     976271           0         9      0      жахлива д\n",
      "4     976271           0        10      0     жахлива дт\n",
      "...      ...         ...       ...    ...            ...\n",
      "3819  976271         236       245      0    ##лати нови\n",
      "3820  976271         236       247      0  ##лати новину\n",
      "3821  976271         241       245      0           нови\n",
      "3822  976271         241       247      0         новину\n",
      "3823  976271         245       247      0           ##ну\n",
      "\n",
      "[3824 rows x 5 columns]\n",
      "(3824, 5)\n"
     ]
    },
    {
     "name": "stderr",
     "output_type": "stream",
     "text": [
      "INFO:LOG:Creating TensorDataset from features dataframe\n",
      "C:\\Windows\\Temp\\ipykernel_1144\\1158175120.py:14: TqdmDeprecationWarning: This function will be removed in tqdm==5.0.0\n",
      "Please use `tqdm.notebook.tqdm` instead of `tqdm.tqdm_notebook`\n",
      "  for batch in tqdm_notebook(eval_dataloader, desc=\"Evaluating\"):\n"
     ]
    },
    {
     "data": {
      "text/plain": "Evaluating:   0%|          | 0/478 [00:00<?, ?it/s]",
      "application/vnd.jupyter.widget-view+json": {
       "version_major": 2,
       "version_minor": 0,
       "model_id": "d6a35ea5128e44e687e4b4620923eb6f"
      },
      "application/json": {
       "n": 0,
       "total": 478,
       "elapsed": 0.003999948501586914,
       "ncols": null,
       "nrows": null,
       "prefix": "Evaluating",
       "ascii": false,
       "unit": "it",
       "unit_scale": false,
       "rate": null,
       "bar_format": null,
       "postfix": null,
       "unit_divisor": 1000,
       "initial": 0,
       "colour": null
      }
     },
     "metadata": {},
     "output_type": "display_data"
    },
    {
     "name": "stderr",
     "output_type": "stream",
     "text": [
      "INFO:LOG:Generating evaluation dataset...\n",
      "INFO:LOG:Creating features from dataframe\n"
     ]
    },
    {
     "name": "stdout",
     "output_type": "stream",
     "text": [
      "          id  seq_starts  seq_ends  label           text\n",
      "0     976271           0         2      1             жа\n",
      "1     976271           0         4      1           жахл\n",
      "2     976271           0         7      1        жахлива\n",
      "3     976271           0         9      1      жахлива д\n",
      "4     976271           0        10      1     жахлива дт\n",
      "...      ...         ...       ...    ...            ...\n",
      "3819  976271         236       245      1    ##лати нови\n",
      "3820  976271         236       247      1  ##лати новину\n",
      "3821  976271         241       245      0           нови\n",
      "3822  976271         241       247      0         новину\n",
      "3823  976271         245       247      1           ##ну\n",
      "\n",
      "[3824 rows x 5 columns]\n",
      "          id  seq_starts  seq_ends  label           text\n",
      "0     976277           0         2      0             не\n",
      "1     976277           0         4      0           небе\n",
      "2     976277           0         5      0          небез\n",
      "3     976277           0         7      0        небезпе\n",
      "4     976277           0        10      0     небезпечні\n",
      "...      ...         ...       ...    ...            ...\n",
      "4363  976277         228       237      0    ##лати нови\n",
      "4364  976277         228       239      0  ##лати новину\n",
      "4365  976277         233       237      0           нови\n",
      "4366  976277         233       239      0         новину\n",
      "4367  976277         237       239      0           ##ну\n",
      "\n",
      "[4368 rows x 5 columns]\n",
      "(4368, 5)\n"
     ]
    },
    {
     "name": "stderr",
     "output_type": "stream",
     "text": [
      "INFO:LOG:Creating TensorDataset from features dataframe\n",
      "C:\\Windows\\Temp\\ipykernel_1144\\1158175120.py:14: TqdmDeprecationWarning: This function will be removed in tqdm==5.0.0\n",
      "Please use `tqdm.notebook.tqdm` instead of `tqdm.tqdm_notebook`\n",
      "  for batch in tqdm_notebook(eval_dataloader, desc=\"Evaluating\"):\n"
     ]
    },
    {
     "data": {
      "text/plain": "Evaluating:   0%|          | 0/546 [00:00<?, ?it/s]",
      "application/vnd.jupyter.widget-view+json": {
       "version_major": 2,
       "version_minor": 0,
       "model_id": "1377c2aa83c74332882dc5cc476d8f9f"
      },
      "application/json": {
       "n": 0,
       "total": 546,
       "elapsed": 0.003999948501586914,
       "ncols": null,
       "nrows": null,
       "prefix": "Evaluating",
       "ascii": false,
       "unit": "it",
       "unit_scale": false,
       "rate": null,
       "bar_format": null,
       "postfix": null,
       "unit_divisor": 1000,
       "initial": 0,
       "colour": null
      }
     },
     "metadata": {},
     "output_type": "display_data"
    },
    {
     "name": "stderr",
     "output_type": "stream",
     "text": [
      "INFO:LOG:Generating evaluation dataset...\n",
      "INFO:LOG:Creating features from dataframe\n"
     ]
    },
    {
     "name": "stdout",
     "output_type": "stream",
     "text": [
      "          id  seq_starts  seq_ends  label           text\n",
      "0     976277           0         2      1             не\n",
      "1     976277           0         4      1           небе\n",
      "2     976277           0         5      1          небез\n",
      "3     976277           0         7      1        небезпе\n",
      "4     976277           0        10      1     небезпечні\n",
      "...      ...         ...       ...    ...            ...\n",
      "4363  976277         228       237      1    ##лати нови\n",
      "4364  976277         228       239      1  ##лати новину\n",
      "4365  976277         233       237      0           нови\n",
      "4366  976277         233       239      0         новину\n",
      "4367  976277         237       239      1           ##ну\n",
      "\n",
      "[4368 rows x 5 columns]\n",
      "          id  seq_starts  seq_ends  label           text\n",
      "0     976282           0         2      0             по\n",
      "1     976282           0         5      0          потон\n",
      "2     976282           0         8      0       потонула\n",
      "3     976282           0        10      0     потонула а\n",
      "4     976282           0        12      0   потонула авт\n",
      "...      ...         ...       ...    ...            ...\n",
      "2839  976282         227       236      0    ##лати нови\n",
      "2840  976282         227       238      0  ##лати новину\n",
      "2841  976282         232       236      0           нови\n",
      "2842  976282         232       238      0         новину\n",
      "2843  976282         236       238      0           ##ну\n",
      "\n",
      "[2844 rows x 5 columns]\n",
      "(2844, 5)\n"
     ]
    },
    {
     "name": "stderr",
     "output_type": "stream",
     "text": [
      "INFO:LOG:Creating TensorDataset from features dataframe\n",
      "C:\\Windows\\Temp\\ipykernel_1144\\1158175120.py:14: TqdmDeprecationWarning: This function will be removed in tqdm==5.0.0\n",
      "Please use `tqdm.notebook.tqdm` instead of `tqdm.tqdm_notebook`\n",
      "  for batch in tqdm_notebook(eval_dataloader, desc=\"Evaluating\"):\n"
     ]
    },
    {
     "data": {
      "text/plain": "Evaluating:   0%|          | 0/356 [00:00<?, ?it/s]",
      "application/vnd.jupyter.widget-view+json": {
       "version_major": 2,
       "version_minor": 0,
       "model_id": "ad3cf460c337443195bc6112d63045ae"
      },
      "application/json": {
       "n": 0,
       "total": 356,
       "elapsed": 0.002966165542602539,
       "ncols": null,
       "nrows": null,
       "prefix": "Evaluating",
       "ascii": false,
       "unit": "it",
       "unit_scale": false,
       "rate": null,
       "bar_format": null,
       "postfix": null,
       "unit_divisor": 1000,
       "initial": 0,
       "colour": null
      }
     },
     "metadata": {},
     "output_type": "display_data"
    },
    {
     "name": "stderr",
     "output_type": "stream",
     "text": [
      "INFO:LOG:Generating evaluation dataset...\n",
      "INFO:LOG:Creating features from dataframe\n"
     ]
    },
    {
     "name": "stdout",
     "output_type": "stream",
     "text": [
      "          id  seq_starts  seq_ends  label           text\n",
      "0     976282           0         2      1             по\n",
      "1     976282           0         5      1          потон\n",
      "2     976282           0         8      1       потонула\n",
      "3     976282           0        10      1     потонула а\n",
      "4     976282           0        12      1   потонула авт\n",
      "...      ...         ...       ...    ...            ...\n",
      "2839  976282         227       236      1    ##лати нови\n",
      "2840  976282         227       238      1  ##лати новину\n",
      "2841  976282         232       236      0           нови\n",
      "2842  976282         232       238      0         новину\n",
      "2843  976282         236       238      1           ##ну\n",
      "\n",
      "[2844 rows x 5 columns]\n",
      "          id  seq_starts  seq_ends  label           text\n",
      "0     976418           0         2      0             98\n",
      "1     976418           0         6      0         98 про\n",
      "2     976418           0         8      0       98 прова\n",
      "3     976418           0        10      0     98 провадж\n",
      "4     976418           0        13      0  98 проваджень\n",
      "...      ...         ...       ...    ...            ...\n",
      "5344  976418         292       301      0    ##лати нови\n",
      "5345  976418         292       303      0  ##лати новину\n",
      "5346  976418         297       301      0           нови\n",
      "5347  976418         297       303      0         новину\n",
      "5348  976418         301       303      0           ##ну\n",
      "\n",
      "[5349 rows x 5 columns]\n",
      "(5349, 5)\n"
     ]
    },
    {
     "name": "stderr",
     "output_type": "stream",
     "text": [
      "INFO:LOG:Creating TensorDataset from features dataframe\n",
      "C:\\Windows\\Temp\\ipykernel_1144\\1158175120.py:14: TqdmDeprecationWarning: This function will be removed in tqdm==5.0.0\n",
      "Please use `tqdm.notebook.tqdm` instead of `tqdm.tqdm_notebook`\n",
      "  for batch in tqdm_notebook(eval_dataloader, desc=\"Evaluating\"):\n"
     ]
    },
    {
     "data": {
      "text/plain": "Evaluating:   0%|          | 0/669 [00:00<?, ?it/s]",
      "application/vnd.jupyter.widget-view+json": {
       "version_major": 2,
       "version_minor": 0,
       "model_id": "eb85de89ab504c4fb352216bffdf32c5"
      },
      "application/json": {
       "n": 0,
       "total": 669,
       "elapsed": 0.003994464874267578,
       "ncols": null,
       "nrows": null,
       "prefix": "Evaluating",
       "ascii": false,
       "unit": "it",
       "unit_scale": false,
       "rate": null,
       "bar_format": null,
       "postfix": null,
       "unit_divisor": 1000,
       "initial": 0,
       "colour": null
      }
     },
     "metadata": {},
     "output_type": "display_data"
    },
    {
     "name": "stderr",
     "output_type": "stream",
     "text": [
      "INFO:LOG:Generating evaluation dataset...\n",
      "INFO:LOG:Creating features from dataframe\n"
     ]
    },
    {
     "name": "stdout",
     "output_type": "stream",
     "text": [
      "          id  seq_starts  seq_ends  label           text\n",
      "0     976418           0         2      0             98\n",
      "1     976418           0         6      1         98 про\n",
      "2     976418           0         8      1       98 прова\n",
      "3     976418           0        10      1     98 провадж\n",
      "4     976418           0        13      1  98 проваджень\n",
      "...      ...         ...       ...    ...            ...\n",
      "5344  976418         292       301      1    ##лати нови\n",
      "5345  976418         292       303      1  ##лати новину\n",
      "5346  976418         297       301      0           нови\n",
      "5347  976418         297       303      0         новину\n",
      "5348  976418         301       303      1           ##ну\n",
      "\n",
      "[5349 rows x 5 columns]\n",
      "          id  seq_starts  seq_ends  label           text\n",
      "0     976469           0         1      0              в\n",
      "1     976469           0         3      0            вчо\n",
      "2     976469           0         5      0          вчора\n",
      "3     976469           0         3      0      вчорашніи\n",
      "4     976469           0         5      0   вчорашніи ра\n",
      "...      ...         ...       ...    ...            ...\n",
      "5984  976469         312       321      0    ##лати нови\n",
      "5985  976469         312       323      0  ##лати новину\n",
      "5986  976469         317       321      0           нови\n",
      "5987  976469         317       323      0         новину\n",
      "5988  976469         321       323      0           ##ну\n",
      "\n",
      "[5989 rows x 5 columns]\n",
      "(5989, 5)\n"
     ]
    },
    {
     "name": "stderr",
     "output_type": "stream",
     "text": [
      "INFO:LOG:Creating TensorDataset from features dataframe\n",
      "C:\\Windows\\Temp\\ipykernel_1144\\1158175120.py:14: TqdmDeprecationWarning: This function will be removed in tqdm==5.0.0\n",
      "Please use `tqdm.notebook.tqdm` instead of `tqdm.tqdm_notebook`\n",
      "  for batch in tqdm_notebook(eval_dataloader, desc=\"Evaluating\"):\n"
     ]
    },
    {
     "data": {
      "text/plain": "Evaluating:   0%|          | 0/749 [00:00<?, ?it/s]",
      "application/vnd.jupyter.widget-view+json": {
       "version_major": 2,
       "version_minor": 0,
       "model_id": "83f7ddd660dc4b57ba10d91cf34b8f8c"
      },
      "application/json": {
       "n": 0,
       "total": 749,
       "elapsed": 0.004004478454589844,
       "ncols": null,
       "nrows": null,
       "prefix": "Evaluating",
       "ascii": false,
       "unit": "it",
       "unit_scale": false,
       "rate": null,
       "bar_format": null,
       "postfix": null,
       "unit_divisor": 1000,
       "initial": 0,
       "colour": null
      }
     },
     "metadata": {},
     "output_type": "display_data"
    },
    {
     "name": "stderr",
     "output_type": "stream",
     "text": [
      "INFO:LOG:Generating evaluation dataset...\n",
      "INFO:LOG:Creating features from dataframe\n"
     ]
    },
    {
     "name": "stdout",
     "output_type": "stream",
     "text": [
      "          id  seq_starts  seq_ends  label           text\n",
      "0     976469           0         1      0              в\n",
      "1     976469           0         3      1            вчо\n",
      "2     976469           0         5      1          вчора\n",
      "3     976469           0         3      1      вчорашніи\n",
      "4     976469           0         5      1   вчорашніи ра\n",
      "...      ...         ...       ...    ...            ...\n",
      "5984  976469         312       321      1    ##лати нови\n",
      "5985  976469         312       323      1  ##лати новину\n",
      "5986  976469         317       321      0           нови\n",
      "5987  976469         317       323      0         новину\n",
      "5988  976469         321       323      1           ##ну\n",
      "\n",
      "[5989 rows x 5 columns]\n",
      "          id  seq_starts  seq_ends  label           text\n",
      "0     976483           0         3      0            від\n",
      "1     976483           0         6      0         відвер\n",
      "2     976483           0         8      0       відверте\n",
      "3     976483           0        11      0    відверте зв\n",
      "4     976483           0        13      0  відверте звер\n",
      "...      ...         ...       ...    ...            ...\n",
      "8370  976483         341       347      0       ##asendb\n",
      "8371  976483         341       349      0     ##asendbot\n",
      "8372  976483         345       347      0           ##db\n",
      "8373  976483         345       349      0         ##dbot\n",
      "8374  976483         347       349      0           ##ot\n",
      "\n",
      "[8375 rows x 5 columns]\n",
      "(8375, 5)\n"
     ]
    },
    {
     "name": "stderr",
     "output_type": "stream",
     "text": [
      "INFO:LOG:Creating TensorDataset from features dataframe\n",
      "C:\\Windows\\Temp\\ipykernel_1144\\1158175120.py:14: TqdmDeprecationWarning: This function will be removed in tqdm==5.0.0\n",
      "Please use `tqdm.notebook.tqdm` instead of `tqdm.tqdm_notebook`\n",
      "  for batch in tqdm_notebook(eval_dataloader, desc=\"Evaluating\"):\n"
     ]
    },
    {
     "data": {
      "text/plain": "Evaluating:   0%|          | 0/1047 [00:00<?, ?it/s]",
      "application/vnd.jupyter.widget-view+json": {
       "version_major": 2,
       "version_minor": 0,
       "model_id": "6facc59b6f0b4a9f8a9f79913a439094"
      },
      "application/json": {
       "n": 0,
       "total": 1047,
       "elapsed": 0.004003047943115234,
       "ncols": null,
       "nrows": null,
       "prefix": "Evaluating",
       "ascii": false,
       "unit": "it",
       "unit_scale": false,
       "rate": null,
       "bar_format": null,
       "postfix": null,
       "unit_divisor": 1000,
       "initial": 0,
       "colour": null
      }
     },
     "metadata": {},
     "output_type": "display_data"
    },
    {
     "name": "stderr",
     "output_type": "stream",
     "text": [
      "INFO:LOG:Generating evaluation dataset...\n",
      "INFO:LOG:Creating features from dataframe\n"
     ]
    },
    {
     "name": "stdout",
     "output_type": "stream",
     "text": [
      "          id  seq_starts  seq_ends  label           text\n",
      "0     976483           0         3      0            від\n",
      "1     976483           0         6      1         відвер\n",
      "2     976483           0         8      1       відверте\n",
      "3     976483           0        11      1    відверте зв\n",
      "4     976483           0        13      1  відверте звер\n",
      "...      ...         ...       ...    ...            ...\n",
      "8370  976483         341       347      1       ##asendb\n",
      "8371  976483         341       349      1     ##asendbot\n",
      "8372  976483         345       347      1           ##db\n",
      "8373  976483         345       349      1         ##dbot\n",
      "8374  976483         347       349      1           ##ot\n",
      "\n",
      "[8375 rows x 5 columns]\n",
      "          id  seq_starts  seq_ends  label           text\n",
      "0     976655           0         1      0              з\n",
      "1     976655           0         3      0            зло\n",
      "2     976655           0         6      0         злочин\n",
      "3     976655           0         8      0       злочинне\n",
      "4     976655           0        10      0     злочинне у\n",
      "...      ...         ...       ...    ...            ...\n",
      "3394  976655         233       242      0    ##лати нови\n",
      "3395  976655         233       244      0  ##лати новину\n",
      "3396  976655         238       242      0           нови\n",
      "3397  976655         238       244      0         новину\n",
      "3398  976655         242       244      0           ##ну\n",
      "\n",
      "[3399 rows x 5 columns]\n",
      "(3399, 5)\n"
     ]
    },
    {
     "name": "stderr",
     "output_type": "stream",
     "text": [
      "INFO:LOG:Creating TensorDataset from features dataframe\n",
      "C:\\Windows\\Temp\\ipykernel_1144\\1158175120.py:14: TqdmDeprecationWarning: This function will be removed in tqdm==5.0.0\n",
      "Please use `tqdm.notebook.tqdm` instead of `tqdm.tqdm_notebook`\n",
      "  for batch in tqdm_notebook(eval_dataloader, desc=\"Evaluating\"):\n"
     ]
    },
    {
     "data": {
      "text/plain": "Evaluating:   0%|          | 0/425 [00:00<?, ?it/s]",
      "application/vnd.jupyter.widget-view+json": {
       "version_major": 2,
       "version_minor": 0,
       "model_id": "79297db40f2740c0bc674a3d462dfb19"
      },
      "application/json": {
       "n": 0,
       "total": 425,
       "elapsed": 0.0040018558502197266,
       "ncols": null,
       "nrows": null,
       "prefix": "Evaluating",
       "ascii": false,
       "unit": "it",
       "unit_scale": false,
       "rate": null,
       "bar_format": null,
       "postfix": null,
       "unit_divisor": 1000,
       "initial": 0,
       "colour": null
      }
     },
     "metadata": {},
     "output_type": "display_data"
    },
    {
     "name": "stderr",
     "output_type": "stream",
     "text": [
      "INFO:LOG:Generating evaluation dataset...\n",
      "INFO:LOG:Creating features from dataframe\n"
     ]
    },
    {
     "name": "stdout",
     "output_type": "stream",
     "text": [
      "          id  seq_starts  seq_ends  label           text\n",
      "0     976655           0         1      0              з\n",
      "1     976655           0         3      1            зло\n",
      "2     976655           0         6      1         злочин\n",
      "3     976655           0         8      1       злочинне\n",
      "4     976655           0        10      1     злочинне у\n",
      "...      ...         ...       ...    ...            ...\n",
      "3394  976655         233       242      1    ##лати нови\n",
      "3395  976655         233       244      1  ##лати новину\n",
      "3396  976655         238       242      0           нови\n",
      "3397  976655         238       244      0         новину\n",
      "3398  976655         242       244      1           ##ну\n",
      "\n",
      "[3399 rows x 5 columns]\n",
      "          id  seq_starts  seq_ends  label           text\n",
      "0     976743           0         1      0              с\n",
      "1     976743           0         3      0            ска\n",
      "2     976743           0         5      0          скасу\n",
      "3     976743           0         8      0       скасують\n",
      "4     976743           0        11      0    скасують ст\n",
      "...      ...         ...       ...    ...            ...\n",
      "3644  976743         247       256      0    ##лати нови\n",
      "3645  976743         247       258      0  ##лати новину\n",
      "3646  976743         252       256      0           нови\n",
      "3647  976743         252       258      0         новину\n",
      "3648  976743         256       258      0           ##ну\n",
      "\n",
      "[3649 rows x 5 columns]\n",
      "(3649, 5)\n"
     ]
    },
    {
     "name": "stderr",
     "output_type": "stream",
     "text": [
      "INFO:LOG:Creating TensorDataset from features dataframe\n",
      "C:\\Windows\\Temp\\ipykernel_1144\\1158175120.py:14: TqdmDeprecationWarning: This function will be removed in tqdm==5.0.0\n",
      "Please use `tqdm.notebook.tqdm` instead of `tqdm.tqdm_notebook`\n",
      "  for batch in tqdm_notebook(eval_dataloader, desc=\"Evaluating\"):\n"
     ]
    },
    {
     "data": {
      "text/plain": "Evaluating:   0%|          | 0/457 [00:00<?, ?it/s]",
      "application/vnd.jupyter.widget-view+json": {
       "version_major": 2,
       "version_minor": 0,
       "model_id": "15b86ff49da5498f85070af4d2bd53fb"
      },
      "application/json": {
       "n": 0,
       "total": 457,
       "elapsed": 0.004035234451293945,
       "ncols": null,
       "nrows": null,
       "prefix": "Evaluating",
       "ascii": false,
       "unit": "it",
       "unit_scale": false,
       "rate": null,
       "bar_format": null,
       "postfix": null,
       "unit_divisor": 1000,
       "initial": 0,
       "colour": null
      }
     },
     "metadata": {},
     "output_type": "display_data"
    },
    {
     "name": "stderr",
     "output_type": "stream",
     "text": [
      "INFO:LOG:Generating evaluation dataset...\n",
      "INFO:LOG:Creating features from dataframe\n"
     ]
    },
    {
     "name": "stdout",
     "output_type": "stream",
     "text": [
      "          id  seq_starts  seq_ends  label           text\n",
      "0     976743           0         1      0              с\n",
      "1     976743           0         3      1            ска\n",
      "2     976743           0         5      1          скасу\n",
      "3     976743           0         8      1       скасують\n",
      "4     976743           0        11      1    скасують ст\n",
      "...      ...         ...       ...    ...            ...\n",
      "3644  976743         247       256      1    ##лати нови\n",
      "3645  976743         247       258      1  ##лати новину\n",
      "3646  976743         252       256      0           нови\n",
      "3647  976743         252       258      0         новину\n",
      "3648  976743         256       258      1           ##ну\n",
      "\n",
      "[3649 rows x 5 columns]\n",
      "          id  seq_starts  seq_ends  label             text\n",
      "0     977061           0         7      0          депутат\n",
      "1     977061           0         8      0         депутати\n",
      "2     977061           0        12      0     депутати від\n",
      "3     977061           0        14      0   депутати від о\n",
      "4     977061           0        15      0  депутати від оп\n",
      "...      ...         ...       ...    ...              ...\n",
      "3733  977061         230       239      0      ##лати нови\n",
      "3734  977061         230       241      0    ##лати новину\n",
      "3735  977061         235       239      0             нови\n",
      "3736  977061         235       241      0           новину\n",
      "3737  977061         239       241      0             ##ну\n",
      "\n",
      "[3738 rows x 5 columns]\n",
      "(3738, 5)\n"
     ]
    },
    {
     "name": "stderr",
     "output_type": "stream",
     "text": [
      "INFO:LOG:Creating TensorDataset from features dataframe\n",
      "C:\\Windows\\Temp\\ipykernel_1144\\1158175120.py:14: TqdmDeprecationWarning: This function will be removed in tqdm==5.0.0\n",
      "Please use `tqdm.notebook.tqdm` instead of `tqdm.tqdm_notebook`\n",
      "  for batch in tqdm_notebook(eval_dataloader, desc=\"Evaluating\"):\n"
     ]
    },
    {
     "data": {
      "text/plain": "Evaluating:   0%|          | 0/468 [00:00<?, ?it/s]",
      "application/vnd.jupyter.widget-view+json": {
       "version_major": 2,
       "version_minor": 0,
       "model_id": "9c3d99b8ec5a41429984d332af9feb94"
      },
      "application/json": {
       "n": 0,
       "total": 468,
       "elapsed": 0.003969907760620117,
       "ncols": null,
       "nrows": null,
       "prefix": "Evaluating",
       "ascii": false,
       "unit": "it",
       "unit_scale": false,
       "rate": null,
       "bar_format": null,
       "postfix": null,
       "unit_divisor": 1000,
       "initial": 0,
       "colour": null
      }
     },
     "metadata": {},
     "output_type": "display_data"
    },
    {
     "name": "stderr",
     "output_type": "stream",
     "text": [
      "INFO:LOG:Generating evaluation dataset...\n",
      "INFO:LOG:Creating features from dataframe\n"
     ]
    },
    {
     "name": "stdout",
     "output_type": "stream",
     "text": [
      "          id  seq_starts  seq_ends  label             text\n",
      "0     977061           0         7      0          депутат\n",
      "1     977061           0         8      1         депутати\n",
      "2     977061           0        12      1     депутати від\n",
      "3     977061           0        14      1   депутати від о\n",
      "4     977061           0        15      1  депутати від оп\n",
      "...      ...         ...       ...    ...              ...\n",
      "3733  977061         230       239      1      ##лати нови\n",
      "3734  977061         230       241      1    ##лати новину\n",
      "3735  977061         235       239      0             нови\n",
      "3736  977061         235       241      0           новину\n",
      "3737  977061         239       241      1             ##ну\n",
      "\n",
      "[3738 rows x 5 columns]\n",
      "          id  seq_starts  seq_ends  label             text\n",
      "0     977111           0         3      0              174\n",
      "1     977111           0         6      0           174 кг\n",
      "2     977111           0        10      0       174 кг нар\n",
      "3     977111           0        13      0    174 кг наркот\n",
      "4     977111           0        15      0  174 кг наркотик\n",
      "...      ...         ...       ...    ...              ...\n",
      "3558  977111         225       234      0      ##лати нови\n",
      "3559  977111         225       236      0    ##лати новину\n",
      "3560  977111         230       234      0             нови\n",
      "3561  977111         230       236      0           новину\n",
      "3562  977111         234       236      0             ##ну\n",
      "\n",
      "[3563 rows x 5 columns]\n",
      "(3563, 5)\n"
     ]
    },
    {
     "name": "stderr",
     "output_type": "stream",
     "text": [
      "INFO:LOG:Creating TensorDataset from features dataframe\n",
      "C:\\Windows\\Temp\\ipykernel_1144\\1158175120.py:14: TqdmDeprecationWarning: This function will be removed in tqdm==5.0.0\n",
      "Please use `tqdm.notebook.tqdm` instead of `tqdm.tqdm_notebook`\n",
      "  for batch in tqdm_notebook(eval_dataloader, desc=\"Evaluating\"):\n"
     ]
    },
    {
     "data": {
      "text/plain": "Evaluating:   0%|          | 0/446 [00:00<?, ?it/s]",
      "application/vnd.jupyter.widget-view+json": {
       "version_major": 2,
       "version_minor": 0,
       "model_id": "4cb6b4225d224594b3bc56cf1139e683"
      },
      "application/json": {
       "n": 0,
       "total": 446,
       "elapsed": 0.0040018558502197266,
       "ncols": null,
       "nrows": null,
       "prefix": "Evaluating",
       "ascii": false,
       "unit": "it",
       "unit_scale": false,
       "rate": null,
       "bar_format": null,
       "postfix": null,
       "unit_divisor": 1000,
       "initial": 0,
       "colour": null
      }
     },
     "metadata": {},
     "output_type": "display_data"
    },
    {
     "name": "stderr",
     "output_type": "stream",
     "text": [
      "INFO:LOG:Generating evaluation dataset...\n",
      "INFO:LOG:Creating features from dataframe\n"
     ]
    },
    {
     "name": "stdout",
     "output_type": "stream",
     "text": [
      "          id  seq_starts  seq_ends  label             text\n",
      "0     977111           0         3      0              174\n",
      "1     977111           0         6      1           174 кг\n",
      "2     977111           0        10      1       174 кг нар\n",
      "3     977111           0        13      1    174 кг наркот\n",
      "4     977111           0        15      1  174 кг наркотик\n",
      "...      ...         ...       ...    ...              ...\n",
      "3558  977111         225       234      1      ##лати нови\n",
      "3559  977111         225       236      1    ##лати новину\n",
      "3560  977111         230       234      0             нови\n",
      "3561  977111         230       236      0           новину\n",
      "3562  977111         234       236      1             ##ну\n",
      "\n",
      "[3563 rows x 5 columns]\n",
      "          id  seq_starts  seq_ends  label            text\n",
      "0     977176           0         2      0              ці\n",
      "1     977176           0         4      0            ціни\n",
      "2     977176           0         7      0         ціни на\n",
      "3     977176           0        10      0      ціни на ди\n",
      "4     977176           0        14      0  ціни на дизель\n",
      "...      ...         ...       ...    ...             ...\n",
      "6539  977176         322       331      0     ##лати нови\n",
      "6540  977176         322       333      0   ##лати новину\n",
      "6541  977176         327       331      0            нови\n",
      "6542  977176         327       333      0          новину\n",
      "6543  977176         331       333      0            ##ну\n",
      "\n",
      "[6544 rows x 5 columns]\n",
      "(6544, 5)\n"
     ]
    },
    {
     "name": "stderr",
     "output_type": "stream",
     "text": [
      "INFO:LOG:Creating TensorDataset from features dataframe\n",
      "C:\\Windows\\Temp\\ipykernel_1144\\1158175120.py:14: TqdmDeprecationWarning: This function will be removed in tqdm==5.0.0\n",
      "Please use `tqdm.notebook.tqdm` instead of `tqdm.tqdm_notebook`\n",
      "  for batch in tqdm_notebook(eval_dataloader, desc=\"Evaluating\"):\n"
     ]
    },
    {
     "data": {
      "text/plain": "Evaluating:   0%|          | 0/818 [00:00<?, ?it/s]",
      "application/vnd.jupyter.widget-view+json": {
       "version_major": 2,
       "version_minor": 0,
       "model_id": "3d730096959d4cd79f216be4a6d1b223"
      },
      "application/json": {
       "n": 0,
       "total": 818,
       "elapsed": 0.002997875213623047,
       "ncols": null,
       "nrows": null,
       "prefix": "Evaluating",
       "ascii": false,
       "unit": "it",
       "unit_scale": false,
       "rate": null,
       "bar_format": null,
       "postfix": null,
       "unit_divisor": 1000,
       "initial": 0,
       "colour": null
      }
     },
     "metadata": {},
     "output_type": "display_data"
    },
    {
     "name": "stderr",
     "output_type": "stream",
     "text": [
      "INFO:LOG:Generating evaluation dataset...\n",
      "INFO:LOG:Creating features from dataframe\n"
     ]
    },
    {
     "name": "stdout",
     "output_type": "stream",
     "text": [
      "          id  seq_starts  seq_ends  label            text\n",
      "0     977176           0         2      0              ці\n",
      "1     977176           0         4      1            ціни\n",
      "2     977176           0         7      1         ціни на\n",
      "3     977176           0        10      1      ціни на ди\n",
      "4     977176           0        14      1  ціни на дизель\n",
      "...      ...         ...       ...    ...             ...\n",
      "6539  977176         322       331      1     ##лати нови\n",
      "6540  977176         322       333      1   ##лати новину\n",
      "6541  977176         327       331      0            нови\n",
      "6542  977176         327       333      0          новину\n",
      "6543  977176         331       333      1            ##ну\n",
      "\n",
      "[6544 rows x 5 columns]\n",
      "          id  seq_starts  seq_ends  label            text\n",
      "0     977216           0         1      0               к\n",
      "1     977216           0         3      0             кір\n",
      "2     977216           0         6      0          кірово\n",
      "3     977216           0        10      0      кіровоград\n",
      "4     977216           0        14      0  кіровоградщина\n",
      "...      ...         ...       ...    ...             ...\n",
      "4941  977216         270       279      0     ##лати нови\n",
      "4942  977216         270       281      0   ##лати новину\n",
      "4943  977216         275       279      0            нови\n",
      "4944  977216         275       281      0          новину\n",
      "4945  977216         279       281      0            ##ну\n",
      "\n",
      "[4946 rows x 5 columns]\n",
      "(4946, 5)\n"
     ]
    },
    {
     "name": "stderr",
     "output_type": "stream",
     "text": [
      "INFO:LOG:Creating TensorDataset from features dataframe\n",
      "C:\\Windows\\Temp\\ipykernel_1144\\1158175120.py:14: TqdmDeprecationWarning: This function will be removed in tqdm==5.0.0\n",
      "Please use `tqdm.notebook.tqdm` instead of `tqdm.tqdm_notebook`\n",
      "  for batch in tqdm_notebook(eval_dataloader, desc=\"Evaluating\"):\n"
     ]
    },
    {
     "data": {
      "text/plain": "Evaluating:   0%|          | 0/619 [00:00<?, ?it/s]",
      "application/vnd.jupyter.widget-view+json": {
       "version_major": 2,
       "version_minor": 0,
       "model_id": "063d52a795394353a8e5028fb431c324"
      },
      "application/json": {
       "n": 0,
       "total": 619,
       "elapsed": 0.003960132598876953,
       "ncols": null,
       "nrows": null,
       "prefix": "Evaluating",
       "ascii": false,
       "unit": "it",
       "unit_scale": false,
       "rate": null,
       "bar_format": null,
       "postfix": null,
       "unit_divisor": 1000,
       "initial": 0,
       "colour": null
      }
     },
     "metadata": {},
     "output_type": "display_data"
    },
    {
     "name": "stderr",
     "output_type": "stream",
     "text": [
      "INFO:LOG:Generating evaluation dataset...\n",
      "INFO:LOG:Creating features from dataframe\n"
     ]
    },
    {
     "name": "stdout",
     "output_type": "stream",
     "text": [
      "          id  seq_starts  seq_ends  label            text\n",
      "0     977216           0         1      0               к\n",
      "1     977216           0         3      1             кір\n",
      "2     977216           0         6      1          кірово\n",
      "3     977216           0        10      1      кіровоград\n",
      "4     977216           0        14      1  кіровоградщина\n",
      "...      ...         ...       ...    ...             ...\n",
      "4941  977216         270       279      1     ##лати нови\n",
      "4942  977216         270       281      1   ##лати новину\n",
      "4943  977216         275       279      0            нови\n",
      "4944  977216         275       281      0          новину\n",
      "4945  977216         279       281      1            ##ну\n",
      "\n",
      "[4946 rows x 5 columns]\n",
      "          id  seq_starts  seq_ends  label           text\n",
      "0     977229           0         3      0            тіл\n",
      "1     977229           0         4      0           тіло\n",
      "2     977229           0         8      0       тіло пен\n",
      "3     977229           0        10      0     тіло пенсі\n",
      "4     977229           0        13      0  тіло пенсіоне\n",
      "...      ...         ...       ...    ...            ...\n",
      "2270  977229         207         1      0          водои\n",
      "2271  977229         207        54      0        водоимі\n",
      "2272  977229          -1         1      0           ##ои\n",
      "2273  977229          -1        54      0         ##оимі\n",
      "2274  977229          52        54      0           ##мі\n",
      "\n",
      "[2275 rows x 5 columns]\n",
      "(2275, 5)\n"
     ]
    },
    {
     "name": "stderr",
     "output_type": "stream",
     "text": [
      "INFO:LOG:Creating TensorDataset from features dataframe\n",
      "C:\\Windows\\Temp\\ipykernel_1144\\1158175120.py:14: TqdmDeprecationWarning: This function will be removed in tqdm==5.0.0\n",
      "Please use `tqdm.notebook.tqdm` instead of `tqdm.tqdm_notebook`\n",
      "  for batch in tqdm_notebook(eval_dataloader, desc=\"Evaluating\"):\n"
     ]
    },
    {
     "data": {
      "text/plain": "Evaluating:   0%|          | 0/285 [00:00<?, ?it/s]",
      "application/vnd.jupyter.widget-view+json": {
       "version_major": 2,
       "version_minor": 0,
       "model_id": "722f606c88bc466581004eb5a164b0b8"
      },
      "application/json": {
       "n": 0,
       "total": 285,
       "elapsed": 0.004418373107910156,
       "ncols": null,
       "nrows": null,
       "prefix": "Evaluating",
       "ascii": false,
       "unit": "it",
       "unit_scale": false,
       "rate": null,
       "bar_format": null,
       "postfix": null,
       "unit_divisor": 1000,
       "initial": 0,
       "colour": null
      }
     },
     "metadata": {},
     "output_type": "display_data"
    },
    {
     "name": "stderr",
     "output_type": "stream",
     "text": [
      "INFO:LOG:Generating evaluation dataset...\n",
      "INFO:LOG:Creating features from dataframe\n"
     ]
    },
    {
     "name": "stdout",
     "output_type": "stream",
     "text": [
      "          id  seq_starts  seq_ends  label           text\n",
      "0     977229           0         3      0            тіл\n",
      "1     977229           0         4      1           тіло\n",
      "2     977229           0         8      1       тіло пен\n",
      "3     977229           0        10      1     тіло пенсі\n",
      "4     977229           0        13      1  тіло пенсіоне\n",
      "...      ...         ...       ...    ...            ...\n",
      "2270  977229         207         1      1          водои\n",
      "2271  977229         207        54      1        водоимі\n",
      "2272  977229          -1         1      1           ##ои\n",
      "2273  977229          -1        54      1         ##оимі\n",
      "2274  977229          52        54      1           ##мі\n",
      "\n",
      "[2275 rows x 5 columns]\n",
      "           id  seq_starts  seq_ends  label                 text\n",
      "0      977272           0         3      0                  184\n",
      "1      977272           0         7      0              184 нас\n",
      "2      977272           0        12      0         184 населени\n",
      "3      977272           0        13      0        184 населених\n",
      "4      977272           0        19      0  184 населених пункт\n",
      "...       ...         ...       ...    ...                  ...\n",
      "10565  977272         424       425      0                  ##о\n",
      "10566  977272         424       427      0                ##оже\n",
      "10567  977272         424       428      0              ##оже !\n",
      "10568  977272         425       427      0                 ##же\n",
      "10569  977272         425       428      0               ##же !\n",
      "\n",
      "[10570 rows x 5 columns]\n",
      "(10570, 5)\n"
     ]
    },
    {
     "name": "stderr",
     "output_type": "stream",
     "text": [
      "INFO:LOG:Creating TensorDataset from features dataframe\n",
      "C:\\Windows\\Temp\\ipykernel_1144\\1158175120.py:14: TqdmDeprecationWarning: This function will be removed in tqdm==5.0.0\n",
      "Please use `tqdm.notebook.tqdm` instead of `tqdm.tqdm_notebook`\n",
      "  for batch in tqdm_notebook(eval_dataloader, desc=\"Evaluating\"):\n"
     ]
    },
    {
     "data": {
      "text/plain": "Evaluating:   0%|          | 0/1322 [00:00<?, ?it/s]",
      "application/vnd.jupyter.widget-view+json": {
       "version_major": 2,
       "version_minor": 0,
       "model_id": "0426a989d6094f19a7117d0b6e7aa96d"
      },
      "application/json": {
       "n": 0,
       "total": 1322,
       "elapsed": 0.004000186920166016,
       "ncols": null,
       "nrows": null,
       "prefix": "Evaluating",
       "ascii": false,
       "unit": "it",
       "unit_scale": false,
       "rate": null,
       "bar_format": null,
       "postfix": null,
       "unit_divisor": 1000,
       "initial": 0,
       "colour": null
      }
     },
     "metadata": {},
     "output_type": "display_data"
    },
    {
     "name": "stderr",
     "output_type": "stream",
     "text": [
      "INFO:LOG:Generating evaluation dataset...\n",
      "INFO:LOG:Creating features from dataframe\n"
     ]
    },
    {
     "name": "stdout",
     "output_type": "stream",
     "text": [
      "           id  seq_starts  seq_ends  label                 text\n",
      "0      977272           0         3      0                  184\n",
      "1      977272           0         7      1              184 нас\n",
      "2      977272           0        12      1         184 населени\n",
      "3      977272           0        13      1        184 населених\n",
      "4      977272           0        19      1  184 населених пункт\n",
      "...       ...         ...       ...    ...                  ...\n",
      "10565  977272         424       425      1                  ##о\n",
      "10566  977272         424       427      1                ##оже\n",
      "10567  977272         424       428      1              ##оже !\n",
      "10568  977272         425       427      1                 ##же\n",
      "10569  977272         425       428      1               ##же !\n",
      "\n",
      "[10570 rows x 5 columns]\n",
      "          id  seq_starts  seq_ends  label              text\n",
      "0     977341           0         2      0                сп\n",
      "1     977341           0         3      0              сп *\n",
      "2     977341           0         4      0            сп * з\n",
      "3     977341           0         8      0        сп * здили\n",
      "4     977341           0        14      0  сп * здили парка\n",
      "...      ...         ...       ...    ...               ...\n",
      "3992  977341         244       253      0       ##лати нови\n",
      "3993  977341         244       255      0     ##лати новину\n",
      "3994  977341         249       253      0              нови\n",
      "3995  977341         249       255      0            новину\n",
      "3996  977341         253       255      0              ##ну\n",
      "\n",
      "[3997 rows x 5 columns]\n",
      "(3997, 5)\n"
     ]
    },
    {
     "name": "stderr",
     "output_type": "stream",
     "text": [
      "INFO:LOG:Creating TensorDataset from features dataframe\n",
      "C:\\Windows\\Temp\\ipykernel_1144\\1158175120.py:14: TqdmDeprecationWarning: This function will be removed in tqdm==5.0.0\n",
      "Please use `tqdm.notebook.tqdm` instead of `tqdm.tqdm_notebook`\n",
      "  for batch in tqdm_notebook(eval_dataloader, desc=\"Evaluating\"):\n"
     ]
    },
    {
     "data": {
      "text/plain": "Evaluating:   0%|          | 0/500 [00:00<?, ?it/s]",
      "application/vnd.jupyter.widget-view+json": {
       "version_major": 2,
       "version_minor": 0,
       "model_id": "04c7d05c40fc4375bd283d527b32849c"
      },
      "application/json": {
       "n": 0,
       "total": 500,
       "elapsed": 0.003994941711425781,
       "ncols": null,
       "nrows": null,
       "prefix": "Evaluating",
       "ascii": false,
       "unit": "it",
       "unit_scale": false,
       "rate": null,
       "bar_format": null,
       "postfix": null,
       "unit_divisor": 1000,
       "initial": 0,
       "colour": null
      }
     },
     "metadata": {},
     "output_type": "display_data"
    },
    {
     "name": "stderr",
     "output_type": "stream",
     "text": [
      "INFO:LOG:Generating evaluation dataset...\n",
      "INFO:LOG:Creating features from dataframe\n"
     ]
    },
    {
     "name": "stdout",
     "output_type": "stream",
     "text": [
      "          id  seq_starts  seq_ends  label              text\n",
      "0     977341           0         2      0                сп\n",
      "1     977341           0         3      1              сп *\n",
      "2     977341           0         4      1            сп * з\n",
      "3     977341           0         8      1        сп * здили\n",
      "4     977341           0        14      1  сп * здили парка\n",
      "...      ...         ...       ...    ...               ...\n",
      "3992  977341         244       253      1       ##лати нови\n",
      "3993  977341         244       255      1     ##лати новину\n",
      "3994  977341         249       253      0              нови\n",
      "3995  977341         249       255      0            новину\n",
      "3996  977341         253       255      1              ##ну\n",
      "\n",
      "[3997 rows x 5 columns]\n",
      "          id  seq_starts  seq_ends  label           text\n",
      "0     977536           0         2      0             на\n",
      "1     977536           0         4      0           на к\n",
      "2     977536           0         6      0         на кір\n",
      "3     977536           0         9      0      на кірово\n",
      "4     977536           0        13      0  на кіровоград\n",
      "...      ...         ...       ...    ...            ...\n",
      "3722  977536         213         3      0         раиков\n",
      "3723  977536         213        39      0       раикович\n",
      "3724  977536          -1         3      0         ##иков\n",
      "3725  977536          -1        39      0       ##икович\n",
      "3726  977536          37        39      0           ##ич\n",
      "\n",
      "[3727 rows x 5 columns]\n",
      "(3727, 5)\n"
     ]
    },
    {
     "name": "stderr",
     "output_type": "stream",
     "text": [
      "INFO:LOG:Creating TensorDataset from features dataframe\n",
      "C:\\Windows\\Temp\\ipykernel_1144\\1158175120.py:14: TqdmDeprecationWarning: This function will be removed in tqdm==5.0.0\n",
      "Please use `tqdm.notebook.tqdm` instead of `tqdm.tqdm_notebook`\n",
      "  for batch in tqdm_notebook(eval_dataloader, desc=\"Evaluating\"):\n"
     ]
    },
    {
     "data": {
      "text/plain": "Evaluating:   0%|          | 0/466 [00:00<?, ?it/s]",
      "application/vnd.jupyter.widget-view+json": {
       "version_major": 2,
       "version_minor": 0,
       "model_id": "921926fe799a440aacfb8bbcacadaeea"
      },
      "application/json": {
       "n": 0,
       "total": 466,
       "elapsed": 0.003969669342041016,
       "ncols": null,
       "nrows": null,
       "prefix": "Evaluating",
       "ascii": false,
       "unit": "it",
       "unit_scale": false,
       "rate": null,
       "bar_format": null,
       "postfix": null,
       "unit_divisor": 1000,
       "initial": 0,
       "colour": null
      }
     },
     "metadata": {},
     "output_type": "display_data"
    },
    {
     "name": "stderr",
     "output_type": "stream",
     "text": [
      "INFO:LOG:Generating evaluation dataset...\n",
      "INFO:LOG:Creating features from dataframe\n"
     ]
    },
    {
     "name": "stdout",
     "output_type": "stream",
     "text": [
      "          id  seq_starts  seq_ends  label           text\n",
      "0     977536           0         2      0             на\n",
      "1     977536           0         4      1           на к\n",
      "2     977536           0         6      1         на кір\n",
      "3     977536           0         9      1      на кірово\n",
      "4     977536           0        13      1  на кіровоград\n",
      "...      ...         ...       ...    ...            ...\n",
      "3722  977536         213         3      1         раиков\n",
      "3723  977536         213        39      1       раикович\n",
      "3724  977536          -1         3      1         ##иков\n",
      "3725  977536          -1        39      1       ##икович\n",
      "3726  977536          37        39      1           ##ич\n",
      "\n",
      "[3727 rows x 5 columns]\n",
      "          id  seq_starts  seq_ends  label            text\n",
      "0     977633           0         3      0             под\n",
      "1     977633           0         7      0         подроби\n",
      "2     977633           0         9      0       подробиці\n",
      "3     977633           0        12      0    подробиці по\n",
      "4     977633           0        14      0  подробиці потр\n",
      "...      ...         ...       ...    ...             ...\n",
      "4839  977633         273       282      0     ##лати нови\n",
      "4840  977633         273       284      0   ##лати новину\n",
      "4841  977633         278       282      0            нови\n",
      "4842  977633         278       284      0          новину\n",
      "4843  977633         282       284      0            ##ну\n",
      "\n",
      "[4844 rows x 5 columns]\n",
      "(4844, 5)\n"
     ]
    },
    {
     "name": "stderr",
     "output_type": "stream",
     "text": [
      "INFO:LOG:Creating TensorDataset from features dataframe\n",
      "C:\\Windows\\Temp\\ipykernel_1144\\1158175120.py:14: TqdmDeprecationWarning: This function will be removed in tqdm==5.0.0\n",
      "Please use `tqdm.notebook.tqdm` instead of `tqdm.tqdm_notebook`\n",
      "  for batch in tqdm_notebook(eval_dataloader, desc=\"Evaluating\"):\n"
     ]
    },
    {
     "data": {
      "text/plain": "Evaluating:   0%|          | 0/606 [00:00<?, ?it/s]",
      "application/vnd.jupyter.widget-view+json": {
       "version_major": 2,
       "version_minor": 0,
       "model_id": "b153c25d7f334975bc19666e53446fa2"
      },
      "application/json": {
       "n": 0,
       "total": 606,
       "elapsed": 0.003999948501586914,
       "ncols": null,
       "nrows": null,
       "prefix": "Evaluating",
       "ascii": false,
       "unit": "it",
       "unit_scale": false,
       "rate": null,
       "bar_format": null,
       "postfix": null,
       "unit_divisor": 1000,
       "initial": 0,
       "colour": null
      }
     },
     "metadata": {},
     "output_type": "display_data"
    },
    {
     "name": "stderr",
     "output_type": "stream",
     "text": [
      "INFO:LOG:Generating evaluation dataset...\n",
      "INFO:LOG:Creating features from dataframe\n"
     ]
    },
    {
     "name": "stdout",
     "output_type": "stream",
     "text": [
      "          id  seq_starts  seq_ends  label            text\n",
      "0     977633           0         3      0             под\n",
      "1     977633           0         7      1         подроби\n",
      "2     977633           0         9      1       подробиці\n",
      "3     977633           0        12      1    подробиці по\n",
      "4     977633           0        14      1  подробиці потр\n",
      "...      ...         ...       ...    ...             ...\n",
      "4839  977633         273       282      1     ##лати нови\n",
      "4840  977633         273       284      1   ##лати новину\n",
      "4841  977633         278       282      0            нови\n",
      "4842  977633         278       284      0          новину\n",
      "4843  977633         282       284      1            ##ну\n",
      "\n",
      "[4844 rows x 5 columns]\n",
      "          id  seq_starts  seq_ends  label              text\n",
      "0     977771           0         3      0               від\n",
      "1     977771           0         5      0             відкл\n",
      "2     977771           0         6      0            відклю\n",
      "3     977771           0        11      0       відключення\n",
      "4     977771           0        16      0  відключення світ\n",
      "...      ...         ...       ...    ...               ...\n",
      "3477  977771         254       263      0       ##лати нови\n",
      "3478  977771         254       265      0     ##лати новину\n",
      "3479  977771         259       263      0              нови\n",
      "3480  977771         259       265      0            новину\n",
      "3481  977771         263       265      0              ##ну\n",
      "\n",
      "[3482 rows x 5 columns]\n",
      "(3482, 5)\n"
     ]
    },
    {
     "name": "stderr",
     "output_type": "stream",
     "text": [
      "INFO:LOG:Creating TensorDataset from features dataframe\n",
      "C:\\Windows\\Temp\\ipykernel_1144\\1158175120.py:14: TqdmDeprecationWarning: This function will be removed in tqdm==5.0.0\n",
      "Please use `tqdm.notebook.tqdm` instead of `tqdm.tqdm_notebook`\n",
      "  for batch in tqdm_notebook(eval_dataloader, desc=\"Evaluating\"):\n"
     ]
    },
    {
     "data": {
      "text/plain": "Evaluating:   0%|          | 0/436 [00:00<?, ?it/s]",
      "application/vnd.jupyter.widget-view+json": {
       "version_major": 2,
       "version_minor": 0,
       "model_id": "002793be1bd742258835096889aa776b"
      },
      "application/json": {
       "n": 0,
       "total": 436,
       "elapsed": 0.004000425338745117,
       "ncols": null,
       "nrows": null,
       "prefix": "Evaluating",
       "ascii": false,
       "unit": "it",
       "unit_scale": false,
       "rate": null,
       "bar_format": null,
       "postfix": null,
       "unit_divisor": 1000,
       "initial": 0,
       "colour": null
      }
     },
     "metadata": {},
     "output_type": "display_data"
    },
    {
     "name": "stderr",
     "output_type": "stream",
     "text": [
      "INFO:LOG:Generating evaluation dataset...\n",
      "INFO:LOG:Creating features from dataframe\n"
     ]
    },
    {
     "name": "stdout",
     "output_type": "stream",
     "text": [
      "          id  seq_starts  seq_ends  label              text\n",
      "0     977771           0         3      0               від\n",
      "1     977771           0         5      1             відкл\n",
      "2     977771           0         6      1            відклю\n",
      "3     977771           0        11      1       відключення\n",
      "4     977771           0        16      1  відключення світ\n",
      "...      ...         ...       ...    ...               ...\n",
      "3477  977771         254       263      1       ##лати нови\n",
      "3478  977771         254       265      1     ##лати новину\n",
      "3479  977771         259       263      0              нови\n",
      "3480  977771         259       265      0            новину\n",
      "3481  977771         263       265      1              ##ну\n",
      "\n",
      "[3482 rows x 5 columns]\n",
      "           id  seq_starts  seq_ends  label           text\n",
      "0      977821           0         1      0              к\n",
      "1      977821           0         3      0            кро\n",
      "2      977821           0         6      0         кропив\n",
      "3      977821           0         8      0       кропивни\n",
      "4      977821           0        11      0    кропивничан\n",
      "...       ...         ...       ...    ...            ...\n",
      "10140  977821         377       386      0    ##лати нови\n",
      "10141  977821         377       388      0  ##лати новину\n",
      "10142  977821         382       386      0           нови\n",
      "10143  977821         382       388      0         новину\n",
      "10144  977821         386       388      0           ##ну\n",
      "\n",
      "[10145 rows x 5 columns]\n",
      "(10145, 5)\n"
     ]
    },
    {
     "name": "stderr",
     "output_type": "stream",
     "text": [
      "INFO:LOG:Creating TensorDataset from features dataframe\n",
      "C:\\Windows\\Temp\\ipykernel_1144\\1158175120.py:14: TqdmDeprecationWarning: This function will be removed in tqdm==5.0.0\n",
      "Please use `tqdm.notebook.tqdm` instead of `tqdm.tqdm_notebook`\n",
      "  for batch in tqdm_notebook(eval_dataloader, desc=\"Evaluating\"):\n"
     ]
    },
    {
     "data": {
      "text/plain": "Evaluating:   0%|          | 0/1269 [00:00<?, ?it/s]",
      "application/vnd.jupyter.widget-view+json": {
       "version_major": 2,
       "version_minor": 0,
       "model_id": "1fb7c213091a4016b8936f2cf17ce26b"
      },
      "application/json": {
       "n": 0,
       "total": 1269,
       "elapsed": 0.0030002593994140625,
       "ncols": null,
       "nrows": null,
       "prefix": "Evaluating",
       "ascii": false,
       "unit": "it",
       "unit_scale": false,
       "rate": null,
       "bar_format": null,
       "postfix": null,
       "unit_divisor": 1000,
       "initial": 0,
       "colour": null
      }
     },
     "metadata": {},
     "output_type": "display_data"
    },
    {
     "name": "stderr",
     "output_type": "stream",
     "text": [
      "INFO:LOG:Generating evaluation dataset...\n",
      "INFO:LOG:Creating features from dataframe\n"
     ]
    },
    {
     "name": "stdout",
     "output_type": "stream",
     "text": [
      "           id  seq_starts  seq_ends  label           text\n",
      "0      977821           0         1      0              к\n",
      "1      977821           0         3      1            кро\n",
      "2      977821           0         6      1         кропив\n",
      "3      977821           0         8      1       кропивни\n",
      "4      977821           0        11      1    кропивничан\n",
      "...       ...         ...       ...    ...            ...\n",
      "10140  977821         377       386      1    ##лати нови\n",
      "10141  977821         377       388      1  ##лати новину\n",
      "10142  977821         382       386      0           нови\n",
      "10143  977821         382       388      0         новину\n",
      "10144  977821         386       388      1           ##ну\n",
      "\n",
      "[10145 rows x 5 columns]\n",
      "          id  seq_starts  seq_ends  label                 text\n",
      "0     995043           0         5      0                росія\n",
      "1     995043           0         9      0            росія про\n",
      "2     995043           0        12      0         росія продов\n",
      "3     995043           0        16      0     росія продовжува\n",
      "4     995043           0        19      0  росія продовжуватим\n",
      "...      ...         ...       ...    ...                  ...\n",
      "3905  995043         313       319      0             ##писати\n",
      "3906  995043         313       321      0           ##писатись\n",
      "3907  995043         316       319      0                ##ати\n",
      "3908  995043         316       321      0              ##атись\n",
      "3909  995043         319       321      0                 ##сь\n",
      "\n",
      "[3910 rows x 5 columns]\n",
      "(3910, 5)\n"
     ]
    },
    {
     "name": "stderr",
     "output_type": "stream",
     "text": [
      "INFO:LOG:Creating TensorDataset from features dataframe\n",
      "C:\\Windows\\Temp\\ipykernel_1144\\1158175120.py:14: TqdmDeprecationWarning: This function will be removed in tqdm==5.0.0\n",
      "Please use `tqdm.notebook.tqdm` instead of `tqdm.tqdm_notebook`\n",
      "  for batch in tqdm_notebook(eval_dataloader, desc=\"Evaluating\"):\n"
     ]
    },
    {
     "data": {
      "text/plain": "Evaluating:   0%|          | 0/489 [00:00<?, ?it/s]",
      "application/vnd.jupyter.widget-view+json": {
       "version_major": 2,
       "version_minor": 0,
       "model_id": "13bc79a7d4444a41bb4142de645c934d"
      },
      "application/json": {
       "n": 0,
       "total": 489,
       "elapsed": 0.0029997825622558594,
       "ncols": null,
       "nrows": null,
       "prefix": "Evaluating",
       "ascii": false,
       "unit": "it",
       "unit_scale": false,
       "rate": null,
       "bar_format": null,
       "postfix": null,
       "unit_divisor": 1000,
       "initial": 0,
       "colour": null
      }
     },
     "metadata": {},
     "output_type": "display_data"
    },
    {
     "name": "stderr",
     "output_type": "stream",
     "text": [
      "INFO:LOG:Generating evaluation dataset...\n"
     ]
    },
    {
     "name": "stdout",
     "output_type": "stream",
     "text": [
      "          id  seq_starts  seq_ends  label                 text\n",
      "0     995043           0         5      0                росія\n",
      "1     995043           0         9      1            росія про\n",
      "2     995043           0        12      1         росія продов\n",
      "3     995043           0        16      1     росія продовжува\n",
      "4     995043           0        19      1  росія продовжуватим\n",
      "...      ...         ...       ...    ...                  ...\n",
      "3905  995043         313       319      1             ##писати\n",
      "3906  995043         313       321      1           ##писатись\n",
      "3907  995043         316       319      1                ##ати\n",
      "3908  995043         316       321      1              ##атись\n",
      "3909  995043         319       321      1                 ##сь\n",
      "\n",
      "[3910 rows x 5 columns]\n"
     ]
    },
    {
     "name": "stderr",
     "output_type": "stream",
     "text": [
      "INFO:LOG:Creating features from dataframe\n"
     ]
    },
    {
     "name": "stdout",
     "output_type": "stream",
     "text": [
      "           id  seq_starts  seq_ends  label                     text\n",
      "0      995233           0         2      0                       на\n",
      "1      995233           0         6      0                   на куп\n",
      "2      995233           0         8      0                 на купян\n",
      "3      995233           0        14      0           на купянському\n",
      "4      995233           0        23      0  на купянському напрямку\n",
      "...       ...         ...       ...    ...                      ...\n",
      "32878  995233         764       770      0                 ##писати\n",
      "32879  995233         764       772      0               ##писатись\n",
      "32880  995233         767       770      0                    ##ати\n",
      "32881  995233         767       772      0                  ##атись\n",
      "32882  995233         770       772      0                     ##сь\n",
      "\n",
      "[32883 rows x 5 columns]\n",
      "(32883, 5)\n"
     ]
    },
    {
     "name": "stderr",
     "output_type": "stream",
     "text": [
      "INFO:LOG:Creating TensorDataset from features dataframe\n",
      "C:\\Windows\\Temp\\ipykernel_1144\\1158175120.py:14: TqdmDeprecationWarning: This function will be removed in tqdm==5.0.0\n",
      "Please use `tqdm.notebook.tqdm` instead of `tqdm.tqdm_notebook`\n",
      "  for batch in tqdm_notebook(eval_dataloader, desc=\"Evaluating\"):\n"
     ]
    },
    {
     "data": {
      "text/plain": "Evaluating:   0%|          | 0/4111 [00:00<?, ?it/s]",
      "application/vnd.jupyter.widget-view+json": {
       "version_major": 2,
       "version_minor": 0,
       "model_id": "232e6514042c46d8a50e277efdb22d1c"
      },
      "application/json": {
       "n": 0,
       "total": 4111,
       "elapsed": 0.005001068115234375,
       "ncols": null,
       "nrows": null,
       "prefix": "Evaluating",
       "ascii": false,
       "unit": "it",
       "unit_scale": false,
       "rate": null,
       "bar_format": null,
       "postfix": null,
       "unit_divisor": 1000,
       "initial": 0,
       "colour": null
      }
     },
     "metadata": {},
     "output_type": "display_data"
    },
    {
     "name": "stderr",
     "output_type": "stream",
     "text": [
      "INFO:LOG:Generating evaluation dataset...\n"
     ]
    },
    {
     "name": "stdout",
     "output_type": "stream",
     "text": [
      "           id  seq_starts  seq_ends  label                     text\n",
      "0      995233           0         2      0                       на\n",
      "1      995233           0         6      1                   на куп\n",
      "2      995233           0         8      1                 на купян\n",
      "3      995233           0        14      1           на купянському\n",
      "4      995233           0        23      1  на купянському напрямку\n",
      "...       ...         ...       ...    ...                      ...\n",
      "32878  995233         764       770      1                 ##писати\n",
      "32879  995233         764       772      1               ##писатись\n",
      "32880  995233         767       770      1                    ##ати\n",
      "32881  995233         767       772      1                  ##атись\n",
      "32882  995233         770       772      1                     ##сь\n",
      "\n",
      "[32883 rows x 5 columns]\n"
     ]
    },
    {
     "name": "stderr",
     "output_type": "stream",
     "text": [
      "INFO:LOG:Creating features from dataframe\n"
     ]
    },
    {
     "name": "stdout",
     "output_type": "stream",
     "text": [
      "           id  seq_starts  seq_ends  label               text\n",
      "0      995279           0         5      0              росія\n",
      "1      995279           0        10      0         росія може\n",
      "2      995279           0        12      0       росія може в\n",
      "3      995279           0        14      0     росія може взи\n",
      "4      995279           0        17      0  росія може взимку\n",
      "...       ...         ...       ...    ...                ...\n",
      "13019  995279         527       533      0           ##писати\n",
      "13020  995279         527       535      0         ##писатись\n",
      "13021  995279         530       533      0              ##ати\n",
      "13022  995279         530       535      0            ##атись\n",
      "13023  995279         533       535      0               ##сь\n",
      "\n",
      "[13024 rows x 5 columns]\n",
      "(13024, 5)\n"
     ]
    },
    {
     "name": "stderr",
     "output_type": "stream",
     "text": [
      "INFO:LOG:Creating TensorDataset from features dataframe\n",
      "C:\\Windows\\Temp\\ipykernel_1144\\1158175120.py:14: TqdmDeprecationWarning: This function will be removed in tqdm==5.0.0\n",
      "Please use `tqdm.notebook.tqdm` instead of `tqdm.tqdm_notebook`\n",
      "  for batch in tqdm_notebook(eval_dataloader, desc=\"Evaluating\"):\n"
     ]
    },
    {
     "data": {
      "text/plain": "Evaluating:   0%|          | 0/1628 [00:00<?, ?it/s]",
      "application/vnd.jupyter.widget-view+json": {
       "version_major": 2,
       "version_minor": 0,
       "model_id": "43623c5e6ba3472e86e703d4cdfd564d"
      },
      "application/json": {
       "n": 0,
       "total": 1628,
       "elapsed": 0.0029997825622558594,
       "ncols": null,
       "nrows": null,
       "prefix": "Evaluating",
       "ascii": false,
       "unit": "it",
       "unit_scale": false,
       "rate": null,
       "bar_format": null,
       "postfix": null,
       "unit_divisor": 1000,
       "initial": 0,
       "colour": null
      }
     },
     "metadata": {},
     "output_type": "display_data"
    },
    {
     "name": "stderr",
     "output_type": "stream",
     "text": [
      "INFO:LOG:Generating evaluation dataset...\n",
      "INFO:LOG:Creating features from dataframe\n"
     ]
    },
    {
     "name": "stdout",
     "output_type": "stream",
     "text": [
      "           id  seq_starts  seq_ends  label               text\n",
      "0      995279           0         5      0              росія\n",
      "1      995279           0        10      1         росія може\n",
      "2      995279           0        12      1       росія може в\n",
      "3      995279           0        14      1     росія може взи\n",
      "4      995279           0        17      1  росія може взимку\n",
      "...       ...         ...       ...    ...                ...\n",
      "13019  995279         527       533      1           ##писати\n",
      "13020  995279         527       535      1         ##писатись\n",
      "13021  995279         530       533      1              ##ати\n",
      "13022  995279         530       535      1            ##атись\n",
      "13023  995279         533       535      1               ##сь\n",
      "\n",
      "[13024 rows x 5 columns]\n",
      "          id  seq_starts  seq_ends  label            text\n",
      "0     995304           0         4      0            граф\n",
      "1     995304           0         7      0         графіки\n",
      "2     995304           0        11      0     графіки від\n",
      "3     995304           0        13      0   графіки відкл\n",
      "4     995304           0        14      0  графіки відклю\n",
      "...      ...         ...       ...    ...             ...\n",
      "7609  995304         392       398      0        ##писати\n",
      "7610  995304         392       400      0      ##писатись\n",
      "7611  995304         395       398      0           ##ати\n",
      "7612  995304         395       400      0         ##атись\n",
      "7613  995304         398       400      0            ##сь\n",
      "\n",
      "[7614 rows x 5 columns]\n",
      "(7614, 5)\n"
     ]
    },
    {
     "name": "stderr",
     "output_type": "stream",
     "text": [
      "INFO:LOG:Creating TensorDataset from features dataframe\n",
      "C:\\Windows\\Temp\\ipykernel_1144\\1158175120.py:14: TqdmDeprecationWarning: This function will be removed in tqdm==5.0.0\n",
      "Please use `tqdm.notebook.tqdm` instead of `tqdm.tqdm_notebook`\n",
      "  for batch in tqdm_notebook(eval_dataloader, desc=\"Evaluating\"):\n"
     ]
    },
    {
     "data": {
      "text/plain": "Evaluating:   0%|          | 0/952 [00:00<?, ?it/s]",
      "application/vnd.jupyter.widget-view+json": {
       "version_major": 2,
       "version_minor": 0,
       "model_id": "dc0c7422e3ac44658379e83172981055"
      },
      "application/json": {
       "n": 0,
       "total": 952,
       "elapsed": 0.0030007362365722656,
       "ncols": null,
       "nrows": null,
       "prefix": "Evaluating",
       "ascii": false,
       "unit": "it",
       "unit_scale": false,
       "rate": null,
       "bar_format": null,
       "postfix": null,
       "unit_divisor": 1000,
       "initial": 0,
       "colour": null
      }
     },
     "metadata": {},
     "output_type": "display_data"
    },
    {
     "name": "stderr",
     "output_type": "stream",
     "text": [
      "INFO:LOG:Generating evaluation dataset...\n",
      "INFO:LOG:Creating features from dataframe\n"
     ]
    },
    {
     "name": "stdout",
     "output_type": "stream",
     "text": [
      "          id  seq_starts  seq_ends  label            text\n",
      "0     995304           0         4      0            граф\n",
      "1     995304           0         7      1         графіки\n",
      "2     995304           0        11      1     графіки від\n",
      "3     995304           0        13      1   графіки відкл\n",
      "4     995304           0        14      1  графіки відклю\n",
      "...      ...         ...       ...    ...             ...\n",
      "7609  995304         392       398      1        ##писати\n",
      "7610  995304         392       400      1      ##писатись\n",
      "7611  995304         395       398      1           ##ати\n",
      "7612  995304         395       400      1         ##атись\n",
      "7613  995304         398       400      1            ##сь\n",
      "\n",
      "[7614 rows x 5 columns]\n",
      "          id  seq_starts  seq_ends  label                         text\n",
      "0     995414           0         1      0                            у\n",
      "1     995414           0         4      0                      у росіі\n",
      "2     995414           0        12      0                 у росіі була\n",
      "3     995414           0        23      0      у росіі була інформація\n",
      "4     995414           0        27      0  у росіі була інформація про\n",
      "...      ...         ...       ...    ...                          ...\n",
      "7613  995414         387       393      0                     ##писати\n",
      "7614  995414         387       395      0                   ##писатись\n",
      "7615  995414         390       393      0                        ##ати\n",
      "7616  995414         390       395      0                      ##атись\n",
      "7617  995414         393       395      0                         ##сь\n",
      "\n",
      "[7618 rows x 5 columns]\n",
      "(7618, 5)\n"
     ]
    },
    {
     "name": "stderr",
     "output_type": "stream",
     "text": [
      "INFO:LOG:Creating TensorDataset from features dataframe\n",
      "C:\\Windows\\Temp\\ipykernel_1144\\1158175120.py:14: TqdmDeprecationWarning: This function will be removed in tqdm==5.0.0\n",
      "Please use `tqdm.notebook.tqdm` instead of `tqdm.tqdm_notebook`\n",
      "  for batch in tqdm_notebook(eval_dataloader, desc=\"Evaluating\"):\n"
     ]
    },
    {
     "data": {
      "text/plain": "Evaluating:   0%|          | 0/953 [00:00<?, ?it/s]",
      "application/vnd.jupyter.widget-view+json": {
       "version_major": 2,
       "version_minor": 0,
       "model_id": "fb3b5b21d1fe432d9a887ccd253e9607"
      },
      "application/json": {
       "n": 0,
       "total": 953,
       "elapsed": 0.0040013790130615234,
       "ncols": null,
       "nrows": null,
       "prefix": "Evaluating",
       "ascii": false,
       "unit": "it",
       "unit_scale": false,
       "rate": null,
       "bar_format": null,
       "postfix": null,
       "unit_divisor": 1000,
       "initial": 0,
       "colour": null
      }
     },
     "metadata": {},
     "output_type": "display_data"
    },
    {
     "name": "stderr",
     "output_type": "stream",
     "text": [
      "INFO:LOG:Generating evaluation dataset...\n",
      "INFO:LOG:Creating features from dataframe\n"
     ]
    },
    {
     "name": "stdout",
     "output_type": "stream",
     "text": [
      "          id  seq_starts  seq_ends  label                         text\n",
      "0     995414           0         1      0                            у\n",
      "1     995414           0         4      1                      у росіі\n",
      "2     995414           0        12      1                 у росіі була\n",
      "3     995414           0        23      1      у росіі була інформація\n",
      "4     995414           0        27      1  у росіі була інформація про\n",
      "...      ...         ...       ...    ...                          ...\n",
      "7613  995414         387       393      1                     ##писати\n",
      "7614  995414         387       395      1                   ##писатись\n",
      "7615  995414         390       393      1                        ##ати\n",
      "7616  995414         390       395      1                      ##атись\n",
      "7617  995414         393       395      1                         ##сь\n",
      "\n",
      "[7618 rows x 5 columns]\n",
      "          id  seq_starts  seq_ends  label              text\n",
      "0     995502           0         4      0              лука\n",
      "1     995502           0         7      0           лукашен\n",
      "2     995502           0         9      0         лукашенко\n",
      "3     995502           0        13      0     лукашенко при\n",
      "4     995502           0        16      0  лукашенко прилет\n",
      "...      ...         ...       ...    ...               ...\n",
      "2543  995502         217       223      0          ##писати\n",
      "2544  995502         217       225      0        ##писатись\n",
      "2545  995502         220       223      0             ##ати\n",
      "2546  995502         220       225      0           ##атись\n",
      "2547  995502         223       225      0              ##сь\n",
      "\n",
      "[2548 rows x 5 columns]\n",
      "(2548, 5)\n"
     ]
    },
    {
     "name": "stderr",
     "output_type": "stream",
     "text": [
      "INFO:LOG:Creating TensorDataset from features dataframe\n",
      "C:\\Windows\\Temp\\ipykernel_1144\\1158175120.py:14: TqdmDeprecationWarning: This function will be removed in tqdm==5.0.0\n",
      "Please use `tqdm.notebook.tqdm` instead of `tqdm.tqdm_notebook`\n",
      "  for batch in tqdm_notebook(eval_dataloader, desc=\"Evaluating\"):\n"
     ]
    },
    {
     "data": {
      "text/plain": "Evaluating:   0%|          | 0/319 [00:00<?, ?it/s]",
      "application/vnd.jupyter.widget-view+json": {
       "version_major": 2,
       "version_minor": 0,
       "model_id": "e24c7e87c7bd49259b87614183820efb"
      },
      "application/json": {
       "n": 0,
       "total": 319,
       "elapsed": 0.003999948501586914,
       "ncols": null,
       "nrows": null,
       "prefix": "Evaluating",
       "ascii": false,
       "unit": "it",
       "unit_scale": false,
       "rate": null,
       "bar_format": null,
       "postfix": null,
       "unit_divisor": 1000,
       "initial": 0,
       "colour": null
      }
     },
     "metadata": {},
     "output_type": "display_data"
    },
    {
     "name": "stderr",
     "output_type": "stream",
     "text": [
      "INFO:LOG:Generating evaluation dataset...\n",
      "INFO:LOG:Creating features from dataframe\n"
     ]
    },
    {
     "name": "stdout",
     "output_type": "stream",
     "text": [
      "          id  seq_starts  seq_ends  label              text\n",
      "0     995502           0         4      0              лука\n",
      "1     995502           0         7      1           лукашен\n",
      "2     995502           0         9      1         лукашенко\n",
      "3     995502           0        13      1     лукашенко при\n",
      "4     995502           0        16      1  лукашенко прилет\n",
      "...      ...         ...       ...    ...               ...\n",
      "2543  995502         217       223      1          ##писати\n",
      "2544  995502         217       225      1        ##писатись\n",
      "2545  995502         220       223      1             ##ати\n",
      "2546  995502         220       225      1           ##атись\n",
      "2547  995502         223       225      1              ##сь\n",
      "\n",
      "[2548 rows x 5 columns]\n",
      "          id  seq_starts  seq_ends  label        text\n",
      "0     995547           0         3      0         укр\n",
      "1     995547           0         4      0        укра\n",
      "2     995547           0         1      0      украін\n",
      "3     995547           0         8      0    украінці\n",
      "4     995547           0        10      0  украінці в\n",
      "...      ...         ...       ...    ...         ...\n",
      "4455  995547         296       302      0    ##писати\n",
      "4456  995547         296       304      0  ##писатись\n",
      "4457  995547         299       302      0       ##ати\n",
      "4458  995547         299       304      0     ##атись\n",
      "4459  995547         302       304      0        ##сь\n",
      "\n",
      "[4460 rows x 5 columns]\n",
      "(4460, 5)\n"
     ]
    },
    {
     "name": "stderr",
     "output_type": "stream",
     "text": [
      "INFO:LOG:Creating TensorDataset from features dataframe\n",
      "C:\\Windows\\Temp\\ipykernel_1144\\1158175120.py:14: TqdmDeprecationWarning: This function will be removed in tqdm==5.0.0\n",
      "Please use `tqdm.notebook.tqdm` instead of `tqdm.tqdm_notebook`\n",
      "  for batch in tqdm_notebook(eval_dataloader, desc=\"Evaluating\"):\n"
     ]
    },
    {
     "data": {
      "text/plain": "Evaluating:   0%|          | 0/558 [00:00<?, ?it/s]",
      "application/vnd.jupyter.widget-view+json": {
       "version_major": 2,
       "version_minor": 0,
       "model_id": "dd4d4a95b53e4108becac16e8a49fd56"
      },
      "application/json": {
       "n": 0,
       "total": 558,
       "elapsed": 0.004003047943115234,
       "ncols": null,
       "nrows": null,
       "prefix": "Evaluating",
       "ascii": false,
       "unit": "it",
       "unit_scale": false,
       "rate": null,
       "bar_format": null,
       "postfix": null,
       "unit_divisor": 1000,
       "initial": 0,
       "colour": null
      }
     },
     "metadata": {},
     "output_type": "display_data"
    },
    {
     "name": "stderr",
     "output_type": "stream",
     "text": [
      "INFO:LOG:Generating evaluation dataset...\n",
      "INFO:LOG:Creating features from dataframe\n"
     ]
    },
    {
     "name": "stdout",
     "output_type": "stream",
     "text": [
      "          id  seq_starts  seq_ends  label        text\n",
      "0     995547           0         3      0         укр\n",
      "1     995547           0         4      1        укра\n",
      "2     995547           0         1      1      украін\n",
      "3     995547           0         8      1    украінці\n",
      "4     995547           0        10      1  украінці в\n",
      "...      ...         ...       ...    ...         ...\n",
      "4455  995547         296       302      1    ##писати\n",
      "4456  995547         296       304      1  ##писатись\n",
      "4457  995547         299       302      1       ##ати\n",
      "4458  995547         299       304      1     ##атись\n",
      "4459  995547         302       304      1        ##сь\n",
      "\n",
      "[4460 rows x 5 columns]\n",
      "          id  seq_starts  seq_ends  label           text\n",
      "0     995599           0         3      0            740\n",
      "1     995599           0         4      0           7400\n",
      "2     995599           0         7      0        7400 ра\n",
      "3     995599           0        10      0     7400 ракет\n",
      "4     995599           0        13      0  7400 ракет ви\n",
      "...      ...         ...       ...    ...            ...\n",
      "4257  995599         256       262      0       ##писати\n",
      "4258  995599         256       264      0     ##писатись\n",
      "4259  995599         259       262      0          ##ати\n",
      "4260  995599         259       264      0        ##атись\n",
      "4261  995599         262       264      0           ##сь\n",
      "\n",
      "[4262 rows x 5 columns]\n",
      "(4262, 5)\n"
     ]
    },
    {
     "name": "stderr",
     "output_type": "stream",
     "text": [
      "INFO:LOG:Creating TensorDataset from features dataframe\n",
      "C:\\Windows\\Temp\\ipykernel_1144\\1158175120.py:14: TqdmDeprecationWarning: This function will be removed in tqdm==5.0.0\n",
      "Please use `tqdm.notebook.tqdm` instead of `tqdm.tqdm_notebook`\n",
      "  for batch in tqdm_notebook(eval_dataloader, desc=\"Evaluating\"):\n"
     ]
    },
    {
     "data": {
      "text/plain": "Evaluating:   0%|          | 0/533 [00:00<?, ?it/s]",
      "application/vnd.jupyter.widget-view+json": {
       "version_major": 2,
       "version_minor": 0,
       "model_id": "5024296d8963469c822bf1e67779d4f2"
      },
      "application/json": {
       "n": 0,
       "total": 533,
       "elapsed": 0.0030012130737304688,
       "ncols": null,
       "nrows": null,
       "prefix": "Evaluating",
       "ascii": false,
       "unit": "it",
       "unit_scale": false,
       "rate": null,
       "bar_format": null,
       "postfix": null,
       "unit_divisor": 1000,
       "initial": 0,
       "colour": null
      }
     },
     "metadata": {},
     "output_type": "display_data"
    },
    {
     "name": "stderr",
     "output_type": "stream",
     "text": [
      "INFO:LOG:Generating evaluation dataset...\n"
     ]
    },
    {
     "name": "stdout",
     "output_type": "stream",
     "text": [
      "          id  seq_starts  seq_ends  label           text\n",
      "0     995599           0         3      0            740\n",
      "1     995599           0         4      1           7400\n",
      "2     995599           0         7      1        7400 ра\n",
      "3     995599           0        10      1     7400 ракет\n",
      "4     995599           0        13      1  7400 ракет ви\n",
      "...      ...         ...       ...    ...            ...\n",
      "4257  995599         256       262      1       ##писати\n",
      "4258  995599         256       264      1     ##писатись\n",
      "4259  995599         259       262      1          ##ати\n",
      "4260  995599         259       264      1        ##атись\n",
      "4261  995599         262       264      1           ##сь\n",
      "\n",
      "[4262 rows x 5 columns]\n"
     ]
    },
    {
     "name": "stderr",
     "output_type": "stream",
     "text": [
      "INFO:LOG:Creating features from dataframe\n"
     ]
    },
    {
     "name": "stdout",
     "output_type": "stream",
     "text": [
      "           id  seq_starts  seq_ends  label          text\n",
      "0      996020           0         1      0             м\n",
      "1      996020           0         4      0          міну\n",
      "2      996020           0         5      0         мінус\n",
      "3      996020           0        10      0    мінус 1380\n",
      "4      996020           0        12      0  мінус 1380 п\n",
      "...       ...         ...       ...    ...           ...\n",
      "13514  996020         438       444      0      ##писати\n",
      "13515  996020         438       446      0    ##писатись\n",
      "13516  996020         441       444      0         ##ати\n",
      "13517  996020         441       446      0       ##атись\n",
      "13518  996020         444       446      0          ##сь\n",
      "\n",
      "[13519 rows x 5 columns]\n",
      "(13519, 5)\n"
     ]
    },
    {
     "name": "stderr",
     "output_type": "stream",
     "text": [
      "INFO:LOG:Creating TensorDataset from features dataframe\n",
      "C:\\Windows\\Temp\\ipykernel_1144\\1158175120.py:14: TqdmDeprecationWarning: This function will be removed in tqdm==5.0.0\n",
      "Please use `tqdm.notebook.tqdm` instead of `tqdm.tqdm_notebook`\n",
      "  for batch in tqdm_notebook(eval_dataloader, desc=\"Evaluating\"):\n"
     ]
    },
    {
     "data": {
      "text/plain": "Evaluating:   0%|          | 0/1690 [00:00<?, ?it/s]",
      "application/vnd.jupyter.widget-view+json": {
       "version_major": 2,
       "version_minor": 0,
       "model_id": "fcb8422ef8ea4ca2a88a63b527254359"
      },
      "application/json": {
       "n": 0,
       "total": 1690,
       "elapsed": 0.005028724670410156,
       "ncols": null,
       "nrows": null,
       "prefix": "Evaluating",
       "ascii": false,
       "unit": "it",
       "unit_scale": false,
       "rate": null,
       "bar_format": null,
       "postfix": null,
       "unit_divisor": 1000,
       "initial": 0,
       "colour": null
      }
     },
     "metadata": {},
     "output_type": "display_data"
    },
    {
     "name": "stderr",
     "output_type": "stream",
     "text": [
      "INFO:LOG:Generating evaluation dataset...\n",
      "INFO:LOG:Creating features from dataframe\n"
     ]
    },
    {
     "name": "stdout",
     "output_type": "stream",
     "text": [
      "           id  seq_starts  seq_ends  label          text\n",
      "0      996020           0         1      0             м\n",
      "1      996020           0         4      1          міну\n",
      "2      996020           0         5      1         мінус\n",
      "3      996020           0        10      1    мінус 1380\n",
      "4      996020           0        12      1  мінус 1380 п\n",
      "...       ...         ...       ...    ...           ...\n",
      "13514  996020         438       444      1      ##писати\n",
      "13515  996020         438       446      1    ##писатись\n",
      "13516  996020         441       444      1         ##ати\n",
      "13517  996020         441       446      1       ##атись\n",
      "13518  996020         444       446      1          ##сь\n",
      "\n",
      "[13519 rows x 5 columns]\n",
      "          id  seq_starts  seq_ends  label            text\n",
      "0     996063           0         3      0             рус\n",
      "1     996063           0         5      0           русня\n",
      "2     996063           0         8      0        русня че\n",
      "3     996063           0        11      0     русня четве\n",
      "4     996063           0        14      0  русня четверту\n",
      "...      ...         ...       ...    ...             ...\n",
      "6199  996063         315       321      0        ##писати\n",
      "6200  996063         315       323      0      ##писатись\n",
      "6201  996063         318       321      0           ##ати\n",
      "6202  996063         318       323      0         ##атись\n",
      "6203  996063         321       323      0            ##сь\n",
      "\n",
      "[6204 rows x 5 columns]\n",
      "(6204, 5)\n"
     ]
    },
    {
     "name": "stderr",
     "output_type": "stream",
     "text": [
      "INFO:LOG:Creating TensorDataset from features dataframe\n",
      "C:\\Windows\\Temp\\ipykernel_1144\\1158175120.py:14: TqdmDeprecationWarning: This function will be removed in tqdm==5.0.0\n",
      "Please use `tqdm.notebook.tqdm` instead of `tqdm.tqdm_notebook`\n",
      "  for batch in tqdm_notebook(eval_dataloader, desc=\"Evaluating\"):\n"
     ]
    },
    {
     "data": {
      "text/plain": "Evaluating:   0%|          | 0/776 [00:00<?, ?it/s]",
      "application/vnd.jupyter.widget-view+json": {
       "version_major": 2,
       "version_minor": 0,
       "model_id": "e31e867ffde640eebae20261007322e7"
      },
      "application/json": {
       "n": 0,
       "total": 776,
       "elapsed": 0.0039980411529541016,
       "ncols": null,
       "nrows": null,
       "prefix": "Evaluating",
       "ascii": false,
       "unit": "it",
       "unit_scale": false,
       "rate": null,
       "bar_format": null,
       "postfix": null,
       "unit_divisor": 1000,
       "initial": 0,
       "colour": null
      }
     },
     "metadata": {},
     "output_type": "display_data"
    },
    {
     "name": "stderr",
     "output_type": "stream",
     "text": [
      "INFO:LOG:Generating evaluation dataset...\n"
     ]
    },
    {
     "name": "stdout",
     "output_type": "stream",
     "text": [
      "          id  seq_starts  seq_ends  label            text\n",
      "0     996063           0         3      0             рус\n",
      "1     996063           0         5      1           русня\n",
      "2     996063           0         8      1        русня че\n",
      "3     996063           0        11      1     русня четве\n",
      "4     996063           0        14      1  русня четверту\n",
      "...      ...         ...       ...    ...             ...\n",
      "6199  996063         315       321      1        ##писати\n",
      "6200  996063         315       323      1      ##писатись\n",
      "6201  996063         318       321      1           ##ати\n",
      "6202  996063         318       323      1         ##атись\n",
      "6203  996063         321       323      1            ##сь\n",
      "\n",
      "[6204 rows x 5 columns]\n"
     ]
    },
    {
     "name": "stderr",
     "output_type": "stream",
     "text": [
      "INFO:LOG:Creating features from dataframe\n"
     ]
    },
    {
     "name": "stdout",
     "output_type": "stream",
     "text": [
      "           id  seq_starts  seq_ends  label         text\n",
      "0      996076           0         2      0           не\n",
      "1      996076           0         5      0        не ви\n",
      "2      996076           0         7      0      не викл\n",
      "3      996076           0         8      0     не виклю\n",
      "4      996076           0        11      0  не виключає\n",
      "...       ...         ...       ...    ...          ...\n",
      "13495  996076         464       470      0     ##писати\n",
      "13496  996076         464       472      0   ##писатись\n",
      "13497  996076         467       470      0        ##ати\n",
      "13498  996076         467       472      0      ##атись\n",
      "13499  996076         470       472      0         ##сь\n",
      "\n",
      "[13500 rows x 5 columns]\n",
      "(13500, 5)\n"
     ]
    },
    {
     "name": "stderr",
     "output_type": "stream",
     "text": [
      "INFO:LOG:Creating TensorDataset from features dataframe\n",
      "C:\\Windows\\Temp\\ipykernel_1144\\1158175120.py:14: TqdmDeprecationWarning: This function will be removed in tqdm==5.0.0\n",
      "Please use `tqdm.notebook.tqdm` instead of `tqdm.tqdm_notebook`\n",
      "  for batch in tqdm_notebook(eval_dataloader, desc=\"Evaluating\"):\n"
     ]
    },
    {
     "data": {
      "text/plain": "Evaluating:   0%|          | 0/1688 [00:00<?, ?it/s]",
      "application/vnd.jupyter.widget-view+json": {
       "version_major": 2,
       "version_minor": 0,
       "model_id": "2aa81e2646494683b50eccc15711b775"
      },
      "application/json": {
       "n": 0,
       "total": 1688,
       "elapsed": 0.005001068115234375,
       "ncols": null,
       "nrows": null,
       "prefix": "Evaluating",
       "ascii": false,
       "unit": "it",
       "unit_scale": false,
       "rate": null,
       "bar_format": null,
       "postfix": null,
       "unit_divisor": 1000,
       "initial": 0,
       "colour": null
      }
     },
     "metadata": {},
     "output_type": "display_data"
    },
    {
     "name": "stderr",
     "output_type": "stream",
     "text": [
      "INFO:LOG:Generating evaluation dataset...\n",
      "INFO:LOG:Creating features from dataframe\n"
     ]
    },
    {
     "name": "stdout",
     "output_type": "stream",
     "text": [
      "           id  seq_starts  seq_ends  label         text\n",
      "0      996076           0         2      1           не\n",
      "1      996076           0         5      1        не ви\n",
      "2      996076           0         7      1      не викл\n",
      "3      996076           0         8      1     не виклю\n",
      "4      996076           0        11      1  не виключає\n",
      "...       ...         ...       ...    ...          ...\n",
      "13495  996076         464       470      1     ##писати\n",
      "13496  996076         464       472      1   ##писатись\n",
      "13497  996076         467       470      1        ##ати\n",
      "13498  996076         467       472      1      ##атись\n",
      "13499  996076         470       472      1         ##сь\n",
      "\n",
      "[13500 rows x 5 columns]\n",
      "          id  seq_starts  seq_ends  label                   text\n",
      "0     996249           0         9      0              швидкість\n",
      "1     996249           0        11      0            швидкість в\n",
      "2     996249           0        13      0          швидкість віт\n",
      "3     996249           0        15      0        швидкість вітру\n",
      "4     996249           0        21      0  швидкість вітру понад\n",
      "...      ...         ...       ...    ...                    ...\n",
      "6654  996249         355       361      0               ##писати\n",
      "6655  996249         355       363      0             ##писатись\n",
      "6656  996249         358       361      0                  ##ати\n",
      "6657  996249         358       363      0                ##атись\n",
      "6658  996249         361       363      0                   ##сь\n",
      "\n",
      "[6659 rows x 5 columns]\n",
      "(6659, 5)\n"
     ]
    },
    {
     "name": "stderr",
     "output_type": "stream",
     "text": [
      "INFO:LOG:Creating TensorDataset from features dataframe\n",
      "C:\\Windows\\Temp\\ipykernel_1144\\1158175120.py:14: TqdmDeprecationWarning: This function will be removed in tqdm==5.0.0\n",
      "Please use `tqdm.notebook.tqdm` instead of `tqdm.tqdm_notebook`\n",
      "  for batch in tqdm_notebook(eval_dataloader, desc=\"Evaluating\"):\n"
     ]
    },
    {
     "data": {
      "text/plain": "Evaluating:   0%|          | 0/833 [00:00<?, ?it/s]",
      "application/vnd.jupyter.widget-view+json": {
       "version_major": 2,
       "version_minor": 0,
       "model_id": "099c56e7590d45dd8dc216edee29a034"
      },
      "application/json": {
       "n": 0,
       "total": 833,
       "elapsed": 0.004027843475341797,
       "ncols": null,
       "nrows": null,
       "prefix": "Evaluating",
       "ascii": false,
       "unit": "it",
       "unit_scale": false,
       "rate": null,
       "bar_format": null,
       "postfix": null,
       "unit_divisor": 1000,
       "initial": 0,
       "colour": null
      }
     },
     "metadata": {},
     "output_type": "display_data"
    },
    {
     "name": "stdout",
     "output_type": "stream",
     "text": [
      "          id  seq_starts  seq_ends  label                   text\n",
      "0     996249           0         9      0              швидкість\n",
      "1     996249           0        11      1            швидкість в\n",
      "2     996249           0        13      1          швидкість віт\n",
      "3     996249           0        15      1        швидкість вітру\n",
      "4     996249           0        21      1  швидкість вітру понад\n",
      "...      ...         ...       ...    ...                    ...\n",
      "6654  996249         355       361      1               ##писати\n",
      "6655  996249         355       363      1             ##писатись\n",
      "6656  996249         358       361      1                  ##ати\n",
      "6657  996249         358       363      1                ##атись\n",
      "6658  996249         361       363      1                   ##сь\n",
      "\n",
      "[6659 rows x 5 columns]\n"
     ]
    }
   ],
   "source": [
    "article_filenames = sorted(glob.glob(os.path.join(dev_articles, \"*.txt\")))   \n",
    "\n",
    "labels_dir = 'datasets/pred_SI_labels'\n",
    "if not os.path.exists(labels_dir):\n",
    "  os.makedirs(labels_dir)\n",
    "\n",
    "for i in range(len(article_filenames)):\n",
    "  eval_dataset, eval_dataframe = generate_SI_eval_dataset_from_article(article_filenames[i], tokenizer)\n",
    "  article_id, indices_list = classify_per_article(eval_dataframe, eval_dataset, model, tokenizer)\n",
    "  \n",
    "  f = open(labels_dir + '/article{}.labels.tsv'.format(article_id), 'w')\n",
    "  writer = csv.writer(f, delimiter='\\t')\n",
    "  for indices in indices_list:\n",
    "    writer.writerow([article_id, indices[0], indices[1]])\n",
    "  f.close()\n",
    "  \n"
   ],
   "metadata": {
    "collapsed": false,
    "ExecuteTime": {
     "end_time": "2024-05-14T05:11:29.358782800Z",
     "start_time": "2024-05-13T21:08:21.693977600Z"
    }
   },
   "id": "378280c506d08f97",
   "execution_count": 13
  },
  {
   "cell_type": "code",
   "outputs": [
    {
     "name": "stdout",
     "output_type": "stream",
     "text": [
      "<_io.TextIOWrapper name='datasets/SI.labels_pred.txt' mode='w' encoding='cp1251'>\n",
      "['datasets/pred_SI_labels\\\\article1062476.labels.tsv', 'datasets/pred_SI_labels\\\\article1062480.labels.tsv', 'datasets/pred_SI_labels\\\\article1062575.labels.tsv', 'datasets/pred_SI_labels\\\\article1062722.labels.tsv', 'datasets/pred_SI_labels\\\\article1062744.labels.tsv', 'datasets/pred_SI_labels\\\\article1062751.labels.tsv', 'datasets/pred_SI_labels\\\\article1063058.labels.tsv', 'datasets/pred_SI_labels\\\\article1063082.labels.tsv', 'datasets/pred_SI_labels\\\\article1063177.labels.tsv', 'datasets/pred_SI_labels\\\\article1063217.labels.tsv', 'datasets/pred_SI_labels\\\\article1063289.labels.tsv', 'datasets/pred_SI_labels\\\\article1063460.labels.tsv', 'datasets/pred_SI_labels\\\\article1063475.labels.tsv', 'datasets/pred_SI_labels\\\\article1063526.labels.tsv', 'datasets/pred_SI_labels\\\\article1063603.labels.tsv', 'datasets/pred_SI_labels\\\\article1063878.labels.tsv', 'datasets/pred_SI_labels\\\\article1063931.labels.tsv', 'datasets/pred_SI_labels\\\\article1063951.labels.tsv', 'datasets/pred_SI_labels\\\\article1063972.labels.tsv', 'datasets/pred_SI_labels\\\\article1064259.labels.tsv', 'datasets/pred_SI_labels\\\\article1064382.labels.tsv', 'datasets/pred_SI_labels\\\\article1064385.labels.tsv', 'datasets/pred_SI_labels\\\\article1064554.labels.tsv', 'datasets/pred_SI_labels\\\\article1064725.labels.tsv', 'datasets/pred_SI_labels\\\\article1064774.labels.tsv', 'datasets/pred_SI_labels\\\\article1064815.labels.tsv', 'datasets/pred_SI_labels\\\\article1064924.labels.tsv', 'datasets/pred_SI_labels\\\\article1065013.labels.tsv', 'datasets/pred_SI_labels\\\\article1065063.labels.tsv', 'datasets/pred_SI_labels\\\\article1065091.labels.tsv', 'datasets/pred_SI_labels\\\\article1065132.labels.tsv', 'datasets/pred_SI_labels\\\\article1065168.labels.tsv', 'datasets/pred_SI_labels\\\\article1065183.labels.tsv', 'datasets/pred_SI_labels\\\\article1065286.labels.tsv', 'datasets/pred_SI_labels\\\\article1065320.labels.tsv', 'datasets/pred_SI_labels\\\\article1065403.labels.tsv', 'datasets/pred_SI_labels\\\\article1065537.labels.tsv', 'datasets/pred_SI_labels\\\\article1065950.labels.tsv', 'datasets/pred_SI_labels\\\\article1066016.labels.tsv', 'datasets/pred_SI_labels\\\\article1066039.labels.tsv', 'datasets/pred_SI_labels\\\\article1066110.labels.tsv', 'datasets/pred_SI_labels\\\\article1066201.labels.tsv', 'datasets/pred_SI_labels\\\\article1066393.labels.tsv', 'datasets/pred_SI_labels\\\\article1066521.labels.tsv', 'datasets/pred_SI_labels\\\\article1066770.labels.tsv', 'datasets/pred_SI_labels\\\\article1066928.labels.tsv', 'datasets/pred_SI_labels\\\\article1066929.labels.tsv', 'datasets/pred_SI_labels\\\\article1066985.labels.tsv', 'datasets/pred_SI_labels\\\\article1067018.labels.tsv', 'datasets/pred_SI_labels\\\\article1067041.labels.tsv', 'datasets/pred_SI_labels\\\\article1067042.labels.tsv', 'datasets/pred_SI_labels\\\\article1067184.labels.tsv', 'datasets/pred_SI_labels\\\\article1067252.labels.tsv', 'datasets/pred_SI_labels\\\\article1067372.labels.tsv', 'datasets/pred_SI_labels\\\\article1067452.labels.tsv', 'datasets/pred_SI_labels\\\\article1067455.labels.tsv', 'datasets/pred_SI_labels\\\\article1067608.labels.tsv', 'datasets/pred_SI_labels\\\\article1067657.labels.tsv', 'datasets/pred_SI_labels\\\\article1067692.labels.tsv', 'datasets/pred_SI_labels\\\\article1067731.labels.tsv', 'datasets/pred_SI_labels\\\\article1067800.labels.tsv', 'datasets/pred_SI_labels\\\\article1067807.labels.tsv', 'datasets/pred_SI_labels\\\\article1067836.labels.tsv', 'datasets/pred_SI_labels\\\\article1067966.labels.tsv', 'datasets/pred_SI_labels\\\\article1068003.labels.tsv', 'datasets/pred_SI_labels\\\\article1068004.labels.tsv', 'datasets/pred_SI_labels\\\\article1068114.labels.tsv', 'datasets/pred_SI_labels\\\\article1068215.labels.tsv', 'datasets/pred_SI_labels\\\\article1068281.labels.tsv', 'datasets/pred_SI_labels\\\\article1068328.labels.tsv', 'datasets/pred_SI_labels\\\\article1068336.labels.tsv', 'datasets/pred_SI_labels\\\\article1074939.labels.tsv', 'datasets/pred_SI_labels\\\\article1074973.labels.tsv', 'datasets/pred_SI_labels\\\\article1075036.labels.tsv', 'datasets/pred_SI_labels\\\\article1075194.labels.tsv', 'datasets/pred_SI_labels\\\\article1075231.labels.tsv', 'datasets/pred_SI_labels\\\\article1075234.labels.tsv', 'datasets/pred_SI_labels\\\\article1075255.labels.tsv', 'datasets/pred_SI_labels\\\\article1075278.labels.tsv', 'datasets/pred_SI_labels\\\\article1075286.labels.tsv', 'datasets/pred_SI_labels\\\\article1075409.labels.tsv', 'datasets/pred_SI_labels\\\\article1075434.labels.tsv', 'datasets/pred_SI_labels\\\\article1075471.labels.tsv', 'datasets/pred_SI_labels\\\\article1075481.labels.tsv', 'datasets/pred_SI_labels\\\\article1075656.labels.tsv', 'datasets/pred_SI_labels\\\\article1075786.labels.tsv', 'datasets/pred_SI_labels\\\\article1075850.labels.tsv', 'datasets/pred_SI_labels\\\\article1076133.labels.tsv', 'datasets/pred_SI_labels\\\\article1076267.labels.tsv', 'datasets/pred_SI_labels\\\\article1079574.labels.tsv', 'datasets/pred_SI_labels\\\\article1079597.labels.tsv', 'datasets/pred_SI_labels\\\\article1079698.labels.tsv', 'datasets/pred_SI_labels\\\\article1079762.labels.tsv', 'datasets/pred_SI_labels\\\\article1079941.labels.tsv', 'datasets/pred_SI_labels\\\\article1079954.labels.tsv', 'datasets/pred_SI_labels\\\\article1079969.labels.tsv', 'datasets/pred_SI_labels\\\\article1079988.labels.tsv', 'datasets/pred_SI_labels\\\\article1080255.labels.tsv', 'datasets/pred_SI_labels\\\\article1080258.labels.tsv', 'datasets/pred_SI_labels\\\\article1080319.labels.tsv', 'datasets/pred_SI_labels\\\\article1080696.labels.tsv', 'datasets/pred_SI_labels\\\\article1080725.labels.tsv', 'datasets/pred_SI_labels\\\\article1080962.labels.tsv', 'datasets/pred_SI_labels\\\\article1082585.labels.tsv', 'datasets/pred_SI_labels\\\\article1082841.labels.tsv', 'datasets/pred_SI_labels\\\\article1082875.labels.tsv', 'datasets/pred_SI_labels\\\\article1082895.labels.tsv', 'datasets/pred_SI_labels\\\\article1083012.labels.tsv', 'datasets/pred_SI_labels\\\\article1083120.labels.tsv', 'datasets/pred_SI_labels\\\\article1083229.labels.tsv', 'datasets/pred_SI_labels\\\\article1083357.labels.tsv', 'datasets/pred_SI_labels\\\\article1083482.labels.tsv', 'datasets/pred_SI_labels\\\\article1083677.labels.tsv', 'datasets/pred_SI_labels\\\\article1083733.labels.tsv', 'datasets/pred_SI_labels\\\\article1083756.labels.tsv', 'datasets/pred_SI_labels\\\\article1083827.labels.tsv', 'datasets/pred_SI_labels\\\\article1083860.labels.tsv', 'datasets/pred_SI_labels\\\\article1083921.labels.tsv', 'datasets/pred_SI_labels\\\\article1084192.labels.tsv', 'datasets/pred_SI_labels\\\\article1084781.labels.tsv', 'datasets/pred_SI_labels\\\\article1110185.labels.tsv', 'datasets/pred_SI_labels\\\\article1110271.labels.tsv', 'datasets/pred_SI_labels\\\\article1110358.labels.tsv', 'datasets/pred_SI_labels\\\\article1110421.labels.tsv', 'datasets/pred_SI_labels\\\\article1110466.labels.tsv', 'datasets/pred_SI_labels\\\\article1110502.labels.tsv', 'datasets/pred_SI_labels\\\\article1110521.labels.tsv', 'datasets/pred_SI_labels\\\\article1110599.labels.tsv', 'datasets/pred_SI_labels\\\\article1110715.labels.tsv', 'datasets/pred_SI_labels\\\\article1110738.labels.tsv', 'datasets/pred_SI_labels\\\\article1110749.labels.tsv', 'datasets/pred_SI_labels\\\\article1110768.labels.tsv', 'datasets/pred_SI_labels\\\\article1110813.labels.tsv', 'datasets/pred_SI_labels\\\\article1110886.labels.tsv', 'datasets/pred_SI_labels\\\\article1110910.labels.tsv', 'datasets/pred_SI_labels\\\\article1110923.labels.tsv', 'datasets/pred_SI_labels\\\\article1110946.labels.tsv', 'datasets/pred_SI_labels\\\\article1110948.labels.tsv', 'datasets/pred_SI_labels\\\\article1111034.labels.tsv', 'datasets/pred_SI_labels\\\\article1111055.labels.tsv', 'datasets/pred_SI_labels\\\\article1111060.labels.tsv', 'datasets/pred_SI_labels\\\\article1111112.labels.tsv', 'datasets/pred_SI_labels\\\\article1111250.labels.tsv', 'datasets/pred_SI_labels\\\\article1111279.labels.tsv', 'datasets/pred_SI_labels\\\\article1111300.labels.tsv', 'datasets/pred_SI_labels\\\\article1111318.labels.tsv', 'datasets/pred_SI_labels\\\\article1111450.labels.tsv', 'datasets/pred_SI_labels\\\\article1111460.labels.tsv', 'datasets/pred_SI_labels\\\\article1111550.labels.tsv', 'datasets/pred_SI_labels\\\\article1113785.labels.tsv', 'datasets/pred_SI_labels\\\\article1113896.labels.tsv', 'datasets/pred_SI_labels\\\\article1114030.labels.tsv', 'datasets/pred_SI_labels\\\\article1114227.labels.tsv', 'datasets/pred_SI_labels\\\\article1114511.labels.tsv', 'datasets/pred_SI_labels\\\\article1114526.labels.tsv', 'datasets/pred_SI_labels\\\\article1115375.labels.tsv', 'datasets/pred_SI_labels\\\\article1115523.labels.tsv', 'datasets/pred_SI_labels\\\\article1115553.labels.tsv', 'datasets/pred_SI_labels\\\\article1115850.labels.tsv', 'datasets/pred_SI_labels\\\\article1115975.labels.tsv', 'datasets/pred_SI_labels\\\\article1115991.labels.tsv', 'datasets/pred_SI_labels\\\\article1116216.labels.tsv', 'datasets/pred_SI_labels\\\\article1116321.labels.tsv', 'datasets/pred_SI_labels\\\\article1116329.labels.tsv', 'datasets/pred_SI_labels\\\\article1116494.labels.tsv', 'datasets/pred_SI_labels\\\\article1116673.labels.tsv', 'datasets/pred_SI_labels\\\\article1116895.labels.tsv', 'datasets/pred_SI_labels\\\\article1116920.labels.tsv', 'datasets/pred_SI_labels\\\\article1117089.labels.tsv', 'datasets/pred_SI_labels\\\\article1117203.labels.tsv', 'datasets/pred_SI_labels\\\\article1117499.labels.tsv', 'datasets/pred_SI_labels\\\\article1117730.labels.tsv', 'datasets/pred_SI_labels\\\\article1117787.labels.tsv', 'datasets/pred_SI_labels\\\\article1117978.labels.tsv', 'datasets/pred_SI_labels\\\\article1118015.labels.tsv', 'datasets/pred_SI_labels\\\\article1118016.labels.tsv', 'datasets/pred_SI_labels\\\\article1118036.labels.tsv', 'datasets/pred_SI_labels\\\\article1128308.labels.tsv', 'datasets/pred_SI_labels\\\\article1128313.labels.tsv', 'datasets/pred_SI_labels\\\\article1128432.labels.tsv', 'datasets/pred_SI_labels\\\\article1128485.labels.tsv', 'datasets/pred_SI_labels\\\\article1128521.labels.tsv', 'datasets/pred_SI_labels\\\\article1128631.labels.tsv', 'datasets/pred_SI_labels\\\\article1128665.labels.tsv', 'datasets/pred_SI_labels\\\\article1128679.labels.tsv', 'datasets/pred_SI_labels\\\\article1128742.labels.tsv', 'datasets/pred_SI_labels\\\\article1128753.labels.tsv', 'datasets/pred_SI_labels\\\\article1128786.labels.tsv', 'datasets/pred_SI_labels\\\\article1129020.labels.tsv', 'datasets/pred_SI_labels\\\\article1129158.labels.tsv', 'datasets/pred_SI_labels\\\\article1129172.labels.tsv', 'datasets/pred_SI_labels\\\\article1129216.labels.tsv', 'datasets/pred_SI_labels\\\\article1129375.labels.tsv', 'datasets/pred_SI_labels\\\\article1129468.labels.tsv', 'datasets/pred_SI_labels\\\\article1129629.labels.tsv', 'datasets/pred_SI_labels\\\\article1129829.labels.tsv', 'datasets/pred_SI_labels\\\\article1129902.labels.tsv', 'datasets/pred_SI_labels\\\\article1149760.labels.tsv', 'datasets/pred_SI_labels\\\\article1152546.labels.tsv', 'datasets/pred_SI_labels\\\\article1155514.labels.tsv', 'datasets/pred_SI_labels\\\\article1161134.labels.tsv', 'datasets/pred_SI_labels\\\\article1223264.labels.tsv', 'datasets/pred_SI_labels\\\\article1223448.labels.tsv', 'datasets/pred_SI_labels\\\\article1223457.labels.tsv', 'datasets/pred_SI_labels\\\\article1223659.labels.tsv', 'datasets/pred_SI_labels\\\\article1223830.labels.tsv', 'datasets/pred_SI_labels\\\\article1223843.labels.tsv', 'datasets/pred_SI_labels\\\\article1223873.labels.tsv', 'datasets/pred_SI_labels\\\\article1223936.labels.tsv', 'datasets/pred_SI_labels\\\\article1224012.labels.tsv', 'datasets/pred_SI_labels\\\\article1224063.labels.tsv', 'datasets/pred_SI_labels\\\\article1224134.labels.tsv', 'datasets/pred_SI_labels\\\\article1224157.labels.tsv', 'datasets/pred_SI_labels\\\\article1224231.labels.tsv', 'datasets/pred_SI_labels\\\\article1224552.labels.tsv', 'datasets/pred_SI_labels\\\\article1224557.labels.tsv', 'datasets/pred_SI_labels\\\\article1224608.labels.tsv', 'datasets/pred_SI_labels\\\\article1224810.labels.tsv', 'datasets/pred_SI_labels\\\\article1224811.labels.tsv', 'datasets/pred_SI_labels\\\\article1225064.labels.tsv', 'datasets/pred_SI_labels\\\\article1225081.labels.tsv', 'datasets/pred_SI_labels\\\\article1329644.labels.tsv', 'datasets/pred_SI_labels\\\\article1330163.labels.tsv', 'datasets/pred_SI_labels\\\\article1330265.labels.tsv', 'datasets/pred_SI_labels\\\\article1330290.labels.tsv', 'datasets/pred_SI_labels\\\\article1330357.labels.tsv', 'datasets/pred_SI_labels\\\\article1330399.labels.tsv', 'datasets/pred_SI_labels\\\\article1330489.labels.tsv', 'datasets/pred_SI_labels\\\\article1330505.labels.tsv', 'datasets/pred_SI_labels\\\\article1330640.labels.tsv', 'datasets/pred_SI_labels\\\\article1334611.labels.tsv', 'datasets/pred_SI_labels\\\\article1335179.labels.tsv', 'datasets/pred_SI_labels\\\\article1365474.labels.tsv', 'datasets/pred_SI_labels\\\\article1368856.labels.tsv', 'datasets/pred_SI_labels\\\\article1371784.labels.tsv', 'datasets/pred_SI_labels\\\\article1384119.labels.tsv', 'datasets/pred_SI_labels\\\\article1494681.labels.tsv', 'datasets/pred_SI_labels\\\\article1494742.labels.tsv', 'datasets/pred_SI_labels\\\\article1512583.labels.tsv', 'datasets/pred_SI_labels\\\\article1512844.labels.tsv', 'datasets/pred_SI_labels\\\\article1538758.labels.tsv', 'datasets/pred_SI_labels\\\\article1538792.labels.tsv', 'datasets/pred_SI_labels\\\\article1539180.labels.tsv', 'datasets/pred_SI_labels\\\\article1539192.labels.tsv', 'datasets/pred_SI_labels\\\\article1539557.labels.tsv', 'datasets/pred_SI_labels\\\\article1539634.labels.tsv', 'datasets/pred_SI_labels\\\\article1539636.labels.tsv', 'datasets/pred_SI_labels\\\\article1539657.labels.tsv', 'datasets/pred_SI_labels\\\\article1539778.labels.tsv', 'datasets/pred_SI_labels\\\\article1539862.labels.tsv', 'datasets/pred_SI_labels\\\\article1540037.labels.tsv', 'datasets/pred_SI_labels\\\\article1540219.labels.tsv', 'datasets/pred_SI_labels\\\\article1544958.labels.tsv', 'datasets/pred_SI_labels\\\\article1546277.labels.tsv', 'datasets/pred_SI_labels\\\\article1547861.labels.tsv', 'datasets/pred_SI_labels\\\\article1566247.labels.tsv', 'datasets/pred_SI_labels\\\\article1567709.labels.tsv', 'datasets/pred_SI_labels\\\\article1571386.labels.tsv', 'datasets/pred_SI_labels\\\\article1583178.labels.tsv', 'datasets/pred_SI_labels\\\\article1608881.labels.tsv', 'datasets/pred_SI_labels\\\\article1613210.labels.tsv', 'datasets/pred_SI_labels\\\\article1620910.labels.tsv', 'datasets/pred_SI_labels\\\\article1622250.labels.tsv', 'datasets/pred_SI_labels\\\\article1624645.labels.tsv', 'datasets/pred_SI_labels\\\\article1627219.labels.tsv', 'datasets/pred_SI_labels\\\\article1631344.labels.tsv', 'datasets/pred_SI_labels\\\\article1631492.labels.tsv', 'datasets/pred_SI_labels\\\\article1632762.labels.tsv', 'datasets/pred_SI_labels\\\\article1632850.labels.tsv', 'datasets/pred_SI_labels\\\\article1633033.labels.tsv', 'datasets/pred_SI_labels\\\\article1636639.labels.tsv', 'datasets/pred_SI_labels\\\\article1636685.labels.tsv', 'datasets/pred_SI_labels\\\\article209813.labels.tsv', 'datasets/pred_SI_labels\\\\article210028.labels.tsv', 'datasets/pred_SI_labels\\\\article210117.labels.tsv', 'datasets/pred_SI_labels\\\\article210306.labels.tsv', 'datasets/pred_SI_labels\\\\article210365.labels.tsv', 'datasets/pred_SI_labels\\\\article210441.labels.tsv', 'datasets/pred_SI_labels\\\\article210456.labels.tsv', 'datasets/pred_SI_labels\\\\article210467.labels.tsv', 'datasets/pred_SI_labels\\\\article210725.labels.tsv', 'datasets/pred_SI_labels\\\\article210903.labels.tsv', 'datasets/pred_SI_labels\\\\article210911.labels.tsv', 'datasets/pred_SI_labels\\\\article211006.labels.tsv', 'datasets/pred_SI_labels\\\\article211041.labels.tsv', 'datasets/pred_SI_labels\\\\article211142.labels.tsv', 'datasets/pred_SI_labels\\\\article211258.labels.tsv', 'datasets/pred_SI_labels\\\\article211326.labels.tsv', 'datasets/pred_SI_labels\\\\article211430.labels.tsv', 'datasets/pred_SI_labels\\\\article211495.labels.tsv', 'datasets/pred_SI_labels\\\\article211692.labels.tsv', 'datasets/pred_SI_labels\\\\article211919.labels.tsv', 'datasets/pred_SI_labels\\\\article212018.labels.tsv', 'datasets/pred_SI_labels\\\\article212123.labels.tsv', 'datasets/pred_SI_labels\\\\article212219.labels.tsv', 'datasets/pred_SI_labels\\\\article212348.labels.tsv', 'datasets/pred_SI_labels\\\\article315138.labels.tsv', 'datasets/pred_SI_labels\\\\article315330.labels.tsv', 'datasets/pred_SI_labels\\\\article315353.labels.tsv', 'datasets/pred_SI_labels\\\\article315420.labels.tsv', 'datasets/pred_SI_labels\\\\article315425.labels.tsv', 'datasets/pred_SI_labels\\\\article315436.labels.tsv', 'datasets/pred_SI_labels\\\\article315556.labels.tsv', 'datasets/pred_SI_labels\\\\article315580.labels.tsv', 'datasets/pred_SI_labels\\\\article315588.labels.tsv', 'datasets/pred_SI_labels\\\\article315628.labels.tsv', 'datasets/pred_SI_labels\\\\article315716.labels.tsv', 'datasets/pred_SI_labels\\\\article315760.labels.tsv', 'datasets/pred_SI_labels\\\\article315916.labels.tsv', 'datasets/pred_SI_labels\\\\article315944.labels.tsv', 'datasets/pred_SI_labels\\\\article315993.labels.tsv', 'datasets/pred_SI_labels\\\\article316112.labels.tsv', 'datasets/pred_SI_labels\\\\article316139.labels.tsv', 'datasets/pred_SI_labels\\\\article316157.labels.tsv', 'datasets/pred_SI_labels\\\\article316222.labels.tsv', 'datasets/pred_SI_labels\\\\article316438.labels.tsv', 'datasets/pred_SI_labels\\\\article316544.labels.tsv', 'datasets/pred_SI_labels\\\\article316633.labels.tsv', 'datasets/pred_SI_labels\\\\article316644.labels.tsv', 'datasets/pred_SI_labels\\\\article316680.labels.tsv', 'datasets/pred_SI_labels\\\\article316702.labels.tsv', 'datasets/pred_SI_labels\\\\article316738.labels.tsv', 'datasets/pred_SI_labels\\\\article316797.labels.tsv', 'datasets/pred_SI_labels\\\\article316845.labels.tsv', 'datasets/pred_SI_labels\\\\article321591.labels.tsv', 'datasets/pred_SI_labels\\\\article321596.labels.tsv', 'datasets/pred_SI_labels\\\\article321621.labels.tsv', 'datasets/pred_SI_labels\\\\article321732.labels.tsv', 'datasets/pred_SI_labels\\\\article321798.labels.tsv', 'datasets/pred_SI_labels\\\\article321885.labels.tsv', 'datasets/pred_SI_labels\\\\article322136.labels.tsv', 'datasets/pred_SI_labels\\\\article322196.labels.tsv', 'datasets/pred_SI_labels\\\\article322226.labels.tsv', 'datasets/pred_SI_labels\\\\article322264.labels.tsv', 'datasets/pred_SI_labels\\\\article322316.labels.tsv', 'datasets/pred_SI_labels\\\\article322364.labels.tsv', 'datasets/pred_SI_labels\\\\article322393.labels.tsv', 'datasets/pred_SI_labels\\\\article322455.labels.tsv', 'datasets/pred_SI_labels\\\\article322543.labels.tsv', 'datasets/pred_SI_labels\\\\article322677.labels.tsv', 'datasets/pred_SI_labels\\\\article322745.labels.tsv', 'datasets/pred_SI_labels\\\\article322768.labels.tsv', 'datasets/pred_SI_labels\\\\article322796.labels.tsv', 'datasets/pred_SI_labels\\\\article322805.labels.tsv', 'datasets/pred_SI_labels\\\\article322833.labels.tsv', 'datasets/pred_SI_labels\\\\article322997.labels.tsv', 'datasets/pred_SI_labels\\\\article323103.labels.tsv', 'datasets/pred_SI_labels\\\\article323289.labels.tsv', 'datasets/pred_SI_labels\\\\article323304.labels.tsv', 'datasets/pred_SI_labels\\\\article323357.labels.tsv', 'datasets/pred_SI_labels\\\\article323726.labels.tsv', 'datasets/pred_SI_labels\\\\article334143.labels.tsv', 'datasets/pred_SI_labels\\\\article347649.labels.tsv', 'datasets/pred_SI_labels\\\\article371408.labels.tsv', 'datasets/pred_SI_labels\\\\article373014.labels.tsv', 'datasets/pred_SI_labels\\\\article398162.labels.tsv', 'datasets/pred_SI_labels\\\\article401299.labels.tsv', 'datasets/pred_SI_labels\\\\article406613.labels.tsv', 'datasets/pred_SI_labels\\\\article416563.labels.tsv', 'datasets/pred_SI_labels\\\\article436787.labels.tsv', 'datasets/pred_SI_labels\\\\article477294.labels.tsv', 'datasets/pred_SI_labels\\\\article477319.labels.tsv', 'datasets/pred_SI_labels\\\\article477328.labels.tsv', 'datasets/pred_SI_labels\\\\article477531.labels.tsv', 'datasets/pred_SI_labels\\\\article477620.labels.tsv', 'datasets/pred_SI_labels\\\\article477814.labels.tsv', 'datasets/pred_SI_labels\\\\article477842.labels.tsv', 'datasets/pred_SI_labels\\\\article477920.labels.tsv', 'datasets/pred_SI_labels\\\\article477934.labels.tsv', 'datasets/pred_SI_labels\\\\article478085.labels.tsv', 'datasets/pred_SI_labels\\\\article478237.labels.tsv', 'datasets/pred_SI_labels\\\\article478610.labels.tsv', 'datasets/pred_SI_labels\\\\article478644.labels.tsv', 'datasets/pred_SI_labels\\\\article478691.labels.tsv', 'datasets/pred_SI_labels\\\\article478705.labels.tsv', 'datasets/pred_SI_labels\\\\article478749.labels.tsv', 'datasets/pred_SI_labels\\\\article478916.labels.tsv', 'datasets/pred_SI_labels\\\\article478923.labels.tsv', 'datasets/pred_SI_labels\\\\article479109.labels.tsv', 'datasets/pred_SI_labels\\\\article479331.labels.tsv', 'datasets/pred_SI_labels\\\\article479338.labels.tsv', 'datasets/pred_SI_labels\\\\article543165.labels.tsv', 'datasets/pred_SI_labels\\\\article543177.labels.tsv', 'datasets/pred_SI_labels\\\\article543315.labels.tsv', 'datasets/pred_SI_labels\\\\article543353.labels.tsv', 'datasets/pred_SI_labels\\\\article543458.labels.tsv', 'datasets/pred_SI_labels\\\\article543646.labels.tsv', 'datasets/pred_SI_labels\\\\article543688.labels.tsv', 'datasets/pred_SI_labels\\\\article543780.labels.tsv', 'datasets/pred_SI_labels\\\\article544007.labels.tsv', 'datasets/pred_SI_labels\\\\article544053.labels.tsv', 'datasets/pred_SI_labels\\\\article544105.labels.tsv', 'datasets/pred_SI_labels\\\\article544274.labels.tsv', 'datasets/pred_SI_labels\\\\article544511.labels.tsv', 'datasets/pred_SI_labels\\\\article544701.labels.tsv', 'datasets/pred_SI_labels\\\\article545090.labels.tsv', 'datasets/pred_SI_labels\\\\article545232.labels.tsv', 'datasets/pred_SI_labels\\\\article545315.labels.tsv', 'datasets/pred_SI_labels\\\\article545668.labels.tsv', 'datasets/pred_SI_labels\\\\article545752.labels.tsv', 'datasets/pred_SI_labels\\\\article545767.labels.tsv', 'datasets/pred_SI_labels\\\\article545832.labels.tsv', 'datasets/pred_SI_labels\\\\article645654.labels.tsv', 'datasets/pred_SI_labels\\\\article645756.labels.tsv', 'datasets/pred_SI_labels\\\\article645811.labels.tsv', 'datasets/pred_SI_labels\\\\article645844.labels.tsv', 'datasets/pred_SI_labels\\\\article645977.labels.tsv', 'datasets/pred_SI_labels\\\\article646035.labels.tsv', 'datasets/pred_SI_labels\\\\article646053.labels.tsv', 'datasets/pred_SI_labels\\\\article646255.labels.tsv', 'datasets/pred_SI_labels\\\\article646434.labels.tsv', 'datasets/pred_SI_labels\\\\article646460.labels.tsv', 'datasets/pred_SI_labels\\\\article646557.labels.tsv', 'datasets/pred_SI_labels\\\\article646593.labels.tsv', 'datasets/pred_SI_labels\\\\article646653.labels.tsv', 'datasets/pred_SI_labels\\\\article646761.labels.tsv', 'datasets/pred_SI_labels\\\\article646866.labels.tsv', 'datasets/pred_SI_labels\\\\article647048.labels.tsv', 'datasets/pred_SI_labels\\\\article647161.labels.tsv', 'datasets/pred_SI_labels\\\\article647164.labels.tsv', 'datasets/pred_SI_labels\\\\article647174.labels.tsv', 'datasets/pred_SI_labels\\\\article647187.labels.tsv', 'datasets/pred_SI_labels\\\\article647199.labels.tsv', 'datasets/pred_SI_labels\\\\article647279.labels.tsv', 'datasets/pred_SI_labels\\\\article647335.labels.tsv', 'datasets/pred_SI_labels\\\\article647376.labels.tsv', 'datasets/pred_SI_labels\\\\article714627.labels.tsv', 'datasets/pred_SI_labels\\\\article714669.labels.tsv', 'datasets/pred_SI_labels\\\\article714721.labels.tsv', 'datasets/pred_SI_labels\\\\article714729.labels.tsv', 'datasets/pred_SI_labels\\\\article714759.labels.tsv', 'datasets/pred_SI_labels\\\\article714918.labels.tsv', 'datasets/pred_SI_labels\\\\article714943.labels.tsv', 'datasets/pred_SI_labels\\\\article714982.labels.tsv', 'datasets/pred_SI_labels\\\\article715048.labels.tsv', 'datasets/pred_SI_labels\\\\article715117.labels.tsv', 'datasets/pred_SI_labels\\\\article715171.labels.tsv', 'datasets/pred_SI_labels\\\\article715592.labels.tsv', 'datasets/pred_SI_labels\\\\article715770.labels.tsv', 'datasets/pred_SI_labels\\\\article715806.labels.tsv', 'datasets/pred_SI_labels\\\\article716099.labels.tsv', 'datasets/pred_SI_labels\\\\article716138.labels.tsv', 'datasets/pred_SI_labels\\\\article716140.labels.tsv', 'datasets/pred_SI_labels\\\\article716163.labels.tsv', 'datasets/pred_SI_labels\\\\article716214.labels.tsv', 'datasets/pred_SI_labels\\\\article716277.labels.tsv', 'datasets/pred_SI_labels\\\\article716353.labels.tsv', 'datasets/pred_SI_labels\\\\article716354.labels.tsv', 'datasets/pred_SI_labels\\\\article716540.labels.tsv', 'datasets/pred_SI_labels\\\\article716636.labels.tsv', 'datasets/pred_SI_labels\\\\article717056.labels.tsv', 'datasets/pred_SI_labels\\\\article717062.labels.tsv', 'datasets/pred_SI_labels\\\\article717181.labels.tsv', 'datasets/pred_SI_labels\\\\article717315.labels.tsv', 'datasets/pred_SI_labels\\\\article717428.labels.tsv', 'datasets/pred_SI_labels\\\\article717523.labels.tsv', 'datasets/pred_SI_labels\\\\article717533.labels.tsv', 'datasets/pred_SI_labels\\\\article717610.labels.tsv', 'datasets/pred_SI_labels\\\\article717690.labels.tsv', 'datasets/pred_SI_labels\\\\article717871.labels.tsv', 'datasets/pred_SI_labels\\\\article718060.labels.tsv', 'datasets/pred_SI_labels\\\\article718132.labels.tsv', 'datasets/pred_SI_labels\\\\article718142.labels.tsv', 'datasets/pred_SI_labels\\\\article718354.labels.tsv', 'datasets/pred_SI_labels\\\\article742432.labels.tsv', 'datasets/pred_SI_labels\\\\article745402.labels.tsv', 'datasets/pred_SI_labels\\\\article745876.labels.tsv', 'datasets/pred_SI_labels\\\\article745974.labels.tsv', 'datasets/pred_SI_labels\\\\article746033.labels.tsv', 'datasets/pred_SI_labels\\\\article746058.labels.tsv', 'datasets/pred_SI_labels\\\\article746139.labels.tsv', 'datasets/pred_SI_labels\\\\article746169.labels.tsv', 'datasets/pred_SI_labels\\\\article746699.labels.tsv', 'datasets/pred_SI_labels\\\\article747170.labels.tsv', 'datasets/pred_SI_labels\\\\article747198.labels.tsv', 'datasets/pred_SI_labels\\\\article747214.labels.tsv', 'datasets/pred_SI_labels\\\\article747259.labels.tsv', 'datasets/pred_SI_labels\\\\article747283.labels.tsv', 'datasets/pred_SI_labels\\\\article747301.labels.tsv', 'datasets/pred_SI_labels\\\\article747346.labels.tsv', 'datasets/pred_SI_labels\\\\article747353.labels.tsv', 'datasets/pred_SI_labels\\\\article747417.labels.tsv', 'datasets/pred_SI_labels\\\\article747481.labels.tsv', 'datasets/pred_SI_labels\\\\article747489.labels.tsv', 'datasets/pred_SI_labels\\\\article747502.labels.tsv', 'datasets/pred_SI_labels\\\\article772625.labels.tsv', 'datasets/pred_SI_labels\\\\article792284.labels.tsv', 'datasets/pred_SI_labels\\\\article801846.labels.tsv', 'datasets/pred_SI_labels\\\\article801849.labels.tsv', 'datasets/pred_SI_labels\\\\article801904.labels.tsv', 'datasets/pred_SI_labels\\\\article802130.labels.tsv', 'datasets/pred_SI_labels\\\\article802152.labels.tsv', 'datasets/pred_SI_labels\\\\article802156.labels.tsv', 'datasets/pred_SI_labels\\\\article802416.labels.tsv', 'datasets/pred_SI_labels\\\\article802534.labels.tsv', 'datasets/pred_SI_labels\\\\article802635.labels.tsv', 'datasets/pred_SI_labels\\\\article802717.labels.tsv', 'datasets/pred_SI_labels\\\\article802824.labels.tsv', 'datasets/pred_SI_labels\\\\article802873.labels.tsv', 'datasets/pred_SI_labels\\\\article803167.labels.tsv', 'datasets/pred_SI_labels\\\\article803349.labels.tsv', 'datasets/pred_SI_labels\\\\article876018.labels.tsv', 'datasets/pred_SI_labels\\\\article876042.labels.tsv', 'datasets/pred_SI_labels\\\\article876107.labels.tsv', 'datasets/pred_SI_labels\\\\article876114.labels.tsv', 'datasets/pred_SI_labels\\\\article876373.labels.tsv', 'datasets/pred_SI_labels\\\\article876423.labels.tsv', 'datasets/pred_SI_labels\\\\article876440.labels.tsv', 'datasets/pred_SI_labels\\\\article876460.labels.tsv', 'datasets/pred_SI_labels\\\\article876756.labels.tsv', 'datasets/pred_SI_labels\\\\article876788.labels.tsv', 'datasets/pred_SI_labels\\\\article876856.labels.tsv', 'datasets/pred_SI_labels\\\\article877009.labels.tsv', 'datasets/pred_SI_labels\\\\article877225.labels.tsv', 'datasets/pred_SI_labels\\\\article877270.labels.tsv', 'datasets/pred_SI_labels\\\\article877285.labels.tsv', 'datasets/pred_SI_labels\\\\article877549.labels.tsv', 'datasets/pred_SI_labels\\\\article877550.labels.tsv', 'datasets/pred_SI_labels\\\\article877553.labels.tsv', 'datasets/pred_SI_labels\\\\article877660.labels.tsv', 'datasets/pred_SI_labels\\\\article877715.labels.tsv', 'datasets/pred_SI_labels\\\\article891096.labels.tsv', 'datasets/pred_SI_labels\\\\article891286.labels.tsv', 'datasets/pred_SI_labels\\\\article891298.labels.tsv', 'datasets/pred_SI_labels\\\\article891573.labels.tsv', 'datasets/pred_SI_labels\\\\article891635.labels.tsv', 'datasets/pred_SI_labels\\\\article891698.labels.tsv', 'datasets/pred_SI_labels\\\\article891774.labels.tsv', 'datasets/pred_SI_labels\\\\article891809.labels.tsv', 'datasets/pred_SI_labels\\\\article891820.labels.tsv', 'datasets/pred_SI_labels\\\\article892222.labels.tsv', 'datasets/pred_SI_labels\\\\article892319.labels.tsv', 'datasets/pred_SI_labels\\\\article892328.labels.tsv', 'datasets/pred_SI_labels\\\\article892422.labels.tsv', 'datasets/pred_SI_labels\\\\article892462.labels.tsv', 'datasets/pred_SI_labels\\\\article892611.labels.tsv', 'datasets/pred_SI_labels\\\\article892635.labels.tsv', 'datasets/pred_SI_labels\\\\article976074.labels.tsv', 'datasets/pred_SI_labels\\\\article976130.labels.tsv', 'datasets/pred_SI_labels\\\\article976175.labels.tsv', 'datasets/pred_SI_labels\\\\article976196.labels.tsv', 'datasets/pred_SI_labels\\\\article976271.labels.tsv', 'datasets/pred_SI_labels\\\\article976277.labels.tsv', 'datasets/pred_SI_labels\\\\article976282.labels.tsv', 'datasets/pred_SI_labels\\\\article976418.labels.tsv', 'datasets/pred_SI_labels\\\\article976469.labels.tsv', 'datasets/pred_SI_labels\\\\article976483.labels.tsv', 'datasets/pred_SI_labels\\\\article976655.labels.tsv', 'datasets/pred_SI_labels\\\\article976743.labels.tsv', 'datasets/pred_SI_labels\\\\article977061.labels.tsv', 'datasets/pred_SI_labels\\\\article977111.labels.tsv', 'datasets/pred_SI_labels\\\\article977176.labels.tsv', 'datasets/pred_SI_labels\\\\article977216.labels.tsv', 'datasets/pred_SI_labels\\\\article977229.labels.tsv', 'datasets/pred_SI_labels\\\\article977272.labels.tsv', 'datasets/pred_SI_labels\\\\article977341.labels.tsv', 'datasets/pred_SI_labels\\\\article977536.labels.tsv', 'datasets/pred_SI_labels\\\\article977633.labels.tsv', 'datasets/pred_SI_labels\\\\article977771.labels.tsv', 'datasets/pred_SI_labels\\\\article977821.labels.tsv', 'datasets/pred_SI_labels\\\\article995043.labels.tsv', 'datasets/pred_SI_labels\\\\article995233.labels.tsv', 'datasets/pred_SI_labels\\\\article995279.labels.tsv', 'datasets/pred_SI_labels\\\\article995304.labels.tsv', 'datasets/pred_SI_labels\\\\article995414.labels.tsv', 'datasets/pred_SI_labels\\\\article995502.labels.tsv', 'datasets/pred_SI_labels\\\\article995547.labels.tsv', 'datasets/pred_SI_labels\\\\article995599.labels.tsv', 'datasets/pred_SI_labels\\\\article996020.labels.tsv', 'datasets/pred_SI_labels\\\\article996063.labels.tsv', 'datasets/pred_SI_labels\\\\article996076.labels.tsv', 'datasets/pred_SI_labels\\\\article996249.labels.tsv']\n"
     ]
    }
   ],
   "source": [
    "# Open the output file in write mode\n",
    "labels_dir = 'datasets/pred_SI_labels'\n",
    "with open(\"datasets/SI.labels_pred.txt\", 'w', newline='') as f_total:\n",
    "    writer = csv.writer(f_total, delimiter='\\t')\n",
    "    print(f_total)\n",
    "    # Get a sorted list of .txt files in the specified directory\n",
    "    labels_filenames = sorted(glob.glob(os.path.join(labels_dir, \"*.labels.tsv\")))\n",
    "    print(labels_filenames)\n",
    "    # Iterate through each file and write its content to the output file\n",
    "    for filename in labels_filenames:\n",
    "        with open(filename, 'r') as f:\n",
    "            reader = csv.reader(f, delimiter='\\t')\n",
    "            for row in reader:\n",
    "                writer.writerow(row)"
   ],
   "metadata": {
    "collapsed": false,
    "ExecuteTime": {
     "end_time": "2024-05-14T07:33:57.372967100Z",
     "start_time": "2024-05-14T07:33:55.696966500Z"
    }
   },
   "id": "657a4bb1526d5d10",
   "execution_count": 5
  },
  {
   "cell_type": "markdown",
   "source": [
    "#### References:\n",
    "The structure of data preporation is the modification of Henry Kim's [implementation](https://medium.com/@jihwangk/fine-grained-propaganda-detection-and-classification-with-bert-dfad4acaa321).\n",
    "\n",
    "The structure of train() function is a modification of Thilina Rajapakse’s [implementation](https://github.com/ThilinaRajapakse/pytorch-transformers-classification)."
   ],
   "metadata": {
    "collapsed": false
   },
   "id": "2811fbb5ecb11235"
  }
 ],
 "metadata": {
  "kernelspec": {
   "display_name": "Python 3",
   "language": "python",
   "name": "python3"
  },
  "language_info": {
   "codemirror_mode": {
    "name": "ipython",
    "version": 2
   },
   "file_extension": ".py",
   "mimetype": "text/x-python",
   "name": "python",
   "nbconvert_exporter": "python",
   "pygments_lexer": "ipython2",
   "version": "2.7.6"
  }
 },
 "nbformat": 4,
 "nbformat_minor": 5
}
