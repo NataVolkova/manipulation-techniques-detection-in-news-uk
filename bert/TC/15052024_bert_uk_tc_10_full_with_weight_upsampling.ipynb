{
 "cells": [
  {
   "cell_type": "markdown",
   "source": [
    "## Technical level - 10 classes with upsammpling\n",
    "Model: google-bert/bert-base-multilingual-uncased\n",
    "dev: 20%\n",
    "max_seq_length\": 128\n",
    "\"train_batch_size\": 8,\n",
    "\"eval_batch_size\": 8,\n",
    "\"num_train_epochs\": 1 and 5\n",
    "weights: no and with\n"
   ],
   "metadata": {
    "collapsed": false
   },
   "id": "242bb28e0578a4a5"
  },
  {
   "cell_type": "code",
   "execution_count": 1,
   "id": "initial_id",
   "metadata": {
    "collapsed": true,
    "ExecuteTime": {
     "end_time": "2024-05-17T00:06:32.451215700Z",
     "start_time": "2024-05-17T00:06:29.400326100Z"
    }
   },
   "outputs": [],
   "source": [
    "import pandas as pd\n",
    "import torch\n",
    "import os\n",
    "import logging\n",
    "import glob\n",
    "import codecs\n",
    "import numpy as np\n",
    "import csv\n",
    "import math\n",
    "import numpy\n",
    "from tqdm import tqdm, tqdm_notebook, trange\n",
    "import matplotlib.pyplot as plt\n",
    "import seaborn as sns"
   ]
  },
  {
   "cell_type": "code",
   "outputs": [],
   "source": [
    "import torch\n",
    "from torch.utils.data import (DataLoader, RandomSampler, SequentialSampler, TensorDataset, WeightedRandomSampler)\n",
    "from tensorboardX import SummaryWriter\n",
    "from transformers import (BertConfig, AutoTokenizer, BertTokenizer, BertForMaskedLM, AutoModelForMaskedLM, BertForSequenceClassification, AdamW, get_linear_schedule_with_warmup)\n",
    "from sklearn.metrics import classification_report\n",
    "from sklearn.metrics import multilabel_confusion_matrix"
   ],
   "metadata": {
    "collapsed": false,
    "ExecuteTime": {
     "end_time": "2024-05-17T00:06:36.748898400Z",
     "start_time": "2024-05-17T00:06:32.455213700Z"
    }
   },
   "id": "9e354f6c4cd92628",
   "execution_count": 2
  },
  {
   "cell_type": "markdown",
   "source": [
    "## Config"
   ],
   "metadata": {
    "collapsed": false
   },
   "id": "182ba2744f21a010"
  },
  {
   "cell_type": "code",
   "outputs": [],
   "source": [
    "#PATH TO DATA \n",
    "train_articles = \"C:/N/st/UCU/5sem2024_DIPLOMA/Manipulation/code/my_master/datasets/upsampling/train_TC\"\n",
    "#dev_articles = \"C:/N/st/UCU/5sem2024_DIPLOMA/Manipulation/code/my_master/datasets/upsampling/dev_TC\"\n",
    "train_TC_labels = \"C:/N/st/UCU/5sem2024_DIPLOMA/Manipulation/code/my_master/datasets/upsampling/train_TC_labels_10_upsampling\"\n",
    "#dev_TC_template = \"C:/N/st/UCU/5sem2024_DIPLOMA/Manipulation/code/my_master/datasets/upsampling/TC_labels_for_eval_10_upsampling.txt\"  \n",
    "#true_file = \"C:/N/st/UCU/5sem2024_DIPLOMA/Manipulation/code/my_master/datasets/upsampling/TC.labels_true_10_upsampling.txt\"\n",
    "\n",
    "# Dev on no upsampling\n",
    "dev_articles = 'C:/N/st/UCU/5sem2024_DIPLOMA/Manipulation/code/my_master/datasets/dev_new'\n",
    "dev_TC_template = \"C:/N/st/UCU/5sem2024_DIPLOMA/Manipulation/code/my_master/datasets/TC_labels_for_eval.txt\"  \n",
    "true_file = \"C:/N/st/UCU/5sem2024_DIPLOMA/Manipulation/code/my_master/datasets/TC.labels_true.txt\""
   ],
   "metadata": {
    "collapsed": false,
    "ExecuteTime": {
     "end_time": "2024-05-17T00:06:36.769900600Z",
     "start_time": "2024-05-17T00:06:36.753899500Z"
    }
   },
   "id": "5951bb2f432926bc",
   "execution_count": 3
  },
  {
   "cell_type": "code",
   "outputs": [],
   "source": [
    "techniques = \"C:/N/st/UCU/5sem2024_DIPLOMA/Manipulation/code/my_master/propaganda-techniques-names.txt\"\n",
    "PROP_TECH_TO_LABEL = {}  #to dictionary\n",
    "LABEL_TO_PROP_TECH = {}     #to list\n",
    "label = 0\n",
    "with open(techniques, \"r\") as f:\n",
    "  for technique in f:\n",
    "    PROP_TECH_TO_LABEL[technique.replace(\"\\n\", \"\")] = int(label)\n",
    "    LABEL_TO_PROP_TECH[int(label)] = technique.replace(\"\\n\", \"\")\n",
    "    label += 1"
   ],
   "metadata": {
    "collapsed": false,
    "ExecuteTime": {
     "end_time": "2024-05-17T00:06:36.797213800Z",
     "start_time": "2024-05-17T00:06:36.767897800Z"
    }
   },
   "id": "1b1cc9cc7cca1fcc",
   "execution_count": 4
  },
  {
   "cell_type": "code",
   "outputs": [],
   "source": [
    "device = torch.device(\"cuda\")\n",
    "n_gpu = torch.cuda.device_count()\n",
    "logging.basicConfig(level=logging.INFO)\n",
    "logger = logging.getLogger(\"LOG\")"
   ],
   "metadata": {
    "collapsed": false,
    "ExecuteTime": {
     "end_time": "2024-05-17T00:06:37.841826100Z",
     "start_time": "2024-05-17T00:06:36.783896700Z"
    }
   },
   "id": "f7ac9c13fd8fba18",
   "execution_count": 5
  },
  {
   "cell_type": "code",
   "outputs": [],
   "source": [
    "MODEL_CLASSES = {\"bert\": (BertConfig, BertForSequenceClassification, BertTokenizer)}  #BertForMaskedLM\n",
    "args = {\"data_dir\": \"C:/N/st/UCU/5sem2024_DIPLOMA/Manipulation/code/my_master/datasets/upsampling/\",  \n",
    "        \"model_type\": \"bert\", \n",
    "        \"model_name\": \"google-bert/bert-base-multilingual-uncased\",\n",
    "        #\"output_dir\": \"C:/N/st/UCU/5sem2024_DIPLOMA/Manipulation/code/my_master/datasets/upsampling/output_model_TC_10_with_weight_upsampling\",  \n",
    "        \"output_dir\": \"C:/N/st/UCU/5sem2024_DIPLOMA/Manipulation/code/my_master/datasets/upsampling/output_model_TC_10_with_weight_upsampling_dev_no_upsamping\",\n",
    "        \"max_seq_length\": 128,  ###!\n",
    "        \"train_batch_size\": 8,\n",
    "        \"eval_batch_size\": 8,\n",
    "        \"num_train_epochs\": 5, ####!1\n",
    "        \"weight_decay\": 0,\n",
    "        \"learning_rate\": 4e-5,\n",
    "        \"adam_epsilon\": 1e-8,\n",
    "        \"warmup_ratio\": 0.06,\n",
    "        \"warmup_steps\": 0,\n",
    "        \"max_grad_norm\": 1.0,\n",
    "        \"gradient_accumulation_steps\": 1,\n",
    "        \"logging_steps\": 50,\n",
    "        \"save_steps\": 2000,\n",
    "        \"overwrite_output_dir\": False}"
   ],
   "metadata": {
    "collapsed": false,
    "ExecuteTime": {
     "end_time": "2024-05-17T00:06:37.855822300Z",
     "start_time": "2024-05-17T00:06:37.845821600Z"
    }
   },
   "id": "a4ffffe8b2ecd8f2",
   "execution_count": 6
  },
  {
   "cell_type": "markdown",
   "source": [
    "## Preprocess"
   ],
   "metadata": {
    "collapsed": false
   },
   "id": "8bece42e74b332b1"
  },
  {
   "cell_type": "code",
   "outputs": [],
   "source": [
    "# def article_to_sequences(article_id, article, tokenizer):\n",
    "#   \"\"\"\n",
    "#   Divides article into sequences, dividing first by sentences then to powersets\n",
    "#   of the sentences\n",
    "#   \"\"\"\n",
    "#   # Split the lines by sentences\n",
    "#   curr = 0\n",
    "#   lines = article.split(\"\\n\")\n",
    "#   sequences = []\n",
    "#   seq_starts = []\n",
    "#   seq_ends = []\n",
    "# \n",
    "#   # For each lines, do:\n",
    "#   for line in lines:\n",
    "#     # If an empty line, just continue\n",
    "#     if line == \"\":\n",
    "#       curr += 1\n",
    "#       continue\n",
    "# \n",
    "#     # Tokenize the line\n",
    "#     tokenized = tokenizer.tokenize(line)\n",
    "# \n",
    "#     # For each token, do:\n",
    "#     seq_start = 0\n",
    "#     for ind, token in enumerate(tokenized):\n",
    "#       # Get the token without ## sign\n",
    "#       mod_start_token = token.replace(\"##\", \"\")\n",
    "# \n",
    "#       # Find the start of the sequence in line\n",
    "#       seq_start = line.lower().find(mod_start_token, seq_start)\n",
    "# \n",
    "#       # Update the end of the sequence\n",
    "#       seq_end = seq_start\n",
    "# \n",
    "#       # For each following tokens in the line, do\n",
    "#       for iter in range(1, len(tokenized) + 1 - ind):\n",
    "#         # Also modify this token\n",
    "#         mod_end_token = tokenized[ind + iter - 1].replace(\"##\", \"\")\n",
    "#         # Find the end of the token\n",
    "#         seq_end = line.lower().find(mod_end_token, seq_end) + len(mod_end_token)\n",
    "# \n",
    "#         sequences.append(tokenizer.convert_tokens_to_string(tokenized[ind: ind + iter]))\n",
    "#         seq_starts.append(curr + seq_start)\n",
    "#         seq_ends.append(curr + seq_end)\n",
    "# \n",
    "#       # Update the start of the sequence\n",
    "#       seq_start += len(mod_start_token)\n",
    "# \n",
    "#     # Update the current whereabouts\n",
    "#     curr += len(line) + 1\n",
    "# \n",
    "#   dataframe = pd.DataFrame(None, range(len(sequences)), [\"id\", \"seq_starts\", \"seq_ends\", \"label\", \"text\"])\n",
    "#   dataframe[\"id\"] = [article_id] * len(sequences)\n",
    "#   dataframe[\"seq_starts\"] = seq_starts\n",
    "#   dataframe[\"seq_ends\"] = seq_ends\n",
    "#   dataframe[\"label\"] = [0] * len(sequences)\n",
    "#   dataframe[\"text\"] = sequences\n",
    "#   return dataframe"
   ],
   "metadata": {
    "collapsed": false,
    "ExecuteTime": {
     "end_time": "2024-05-15T17:57:57.619729600Z",
     "start_time": "2024-05-15T17:57:57.607730900Z"
    }
   },
   "id": "1146e0cce093f6df",
   "execution_count": 79
  },
  {
   "cell_type": "code",
   "outputs": [],
   "source": [
    "# def article_labels_to_sequences(article, indices_list):\n",
    "#   \"\"\"\n",
    "#   Divides article into sequences, where each are tagged to be propaganda or not\n",
    "#   \"\"\"\n",
    "#   # Start at 0 indices, and split the article into lines\n",
    "#   curr = 0\n",
    "#   lines = article.split(\"\\n\")\n",
    "#   sequences = {}\n",
    "# \n",
    "#   # For each lines, do:\n",
    "#   for line in lines:\n",
    "#     # If an empty line, just continue after adding \\n character\n",
    "#     if line == \"\":\n",
    "#       curr += 1\n",
    "#       continue\n",
    "# \n",
    "#     # If nothing in indices_list or current line is not part of propaganda, \n",
    "#     # just mark it to be none \n",
    "#     elif indices_list == [] or curr + len(line) <= indices_list[0][0]:\n",
    "#       sequences[line] = 0\n",
    "# \n",
    "#     # If current line is part of propaganda, do:\n",
    "#     else:\n",
    "#       # If the propaganda is contained within the line, add it accordingly\n",
    "#       # and pop that indices range\n",
    "#       # If the propaganda span fits entirely within the current line, the line is divided into three parts: before the propaganda, the propaganda span itself, and after the propaganda. Each part is marked with the corresponding label (0 for non-propaganda and 1 for propaganda) in the sequences dictionary.\n",
    "#       if curr + len(line) >= indices_list[0][1]:\n",
    "#         sequences[line[:indices_list[0][0] - curr]] = 0\n",
    "#         sequences[line[indices_list[0][0] - curr:indices_list[0][1] - curr]] = 1\n",
    "#         sequences[line[indices_list[0][1] - curr:]] = 0\n",
    "#         indices_list.pop(0)\n",
    "#       # If the propaganda goes over to the next line, add accordingly and \n",
    "#       # modify that indices range\n",
    "#       #If the propaganda span extends to the next line, the line is divided into two parts: before the propaganda and after the propaganda. The start index of the next propaganda span is adjusted accordingly.\n",
    "#       else:\n",
    "#         sequences[line[:indices_list[0][0] - curr]] = 0\n",
    "#         sequences[line[indices_list[0][0] - curr:]] = 1\n",
    "#         #indices_list[0][0] = curr + len(line) + 2\n",
    "#         indices_list[0] = (curr + len(line) + 2, indices_list[0][1])  #!!!!\n",
    "#         indices_list[0] = tuple(indices_list[0])                        #!!!\n",
    "# \n",
    "#     # Add the current line length plus \\n character\n",
    "#     curr += len(line) + 1\n",
    "# \n",
    "#   dataframe = pd.DataFrame(None, range(len(sequences)), [\"label\", \"text\"])\n",
    "#   dataframe[\"label\"] = sequences.values()\n",
    "#   dataframe[\"label\"] = dataframe[\"label\"].astype(int)\n",
    "#   dataframe[\"text\"] = sequences.keys()\n",
    "#   return dataframe"
   ],
   "metadata": {
    "collapsed": false,
    "ExecuteTime": {
     "end_time": "2024-05-15T17:57:57.942765500Z",
     "start_time": "2024-05-15T17:57:57.918767900Z"
    }
   },
   "id": "c199b9202ca404c1",
   "execution_count": 80
  },
  {
   "cell_type": "code",
   "outputs": [],
   "source": [
    "def articles_to_dataframe(article_folder, label_folder):\n",
    "  \"\"\"\n",
    "  Preprocesses the articles into dataframes with sequences with binary tags\n",
    "  \"\"\"\n",
    "  # First sort the filenames and make sure we have label file for each articles\n",
    "  article_filenames = sorted(glob.glob(os.path.join(article_folder, \"*.txt\")))\n",
    "  label_filenames = sorted(glob.glob(os.path.join(label_folder, \"*.labels.tsv\")))\n",
    "  assert len(article_filenames) == len(label_filenames)\n",
    "\n",
    "  # Initialize sequences\n",
    "  sequences = []\n",
    "\n",
    "  # For each article, do:\n",
    "  for i in range(len(article_filenames)):\n",
    "    # Get the id name\n",
    "    article_id = os.path.basename(article_filenames[i]).split(\".\")[0][7:]\n",
    "\n",
    "    # Read in the article\n",
    "    with codecs.open(article_filenames[i], \"r\", encoding=\"utf8\") as f:\n",
    "      article = f.read()\n",
    "\n",
    "    # Read in the label file and store indices for TC task !!!!\n",
    "    with open(label_filenames[i], \"r\") as f:\n",
    "      reader = csv.reader(f, delimiter=\"\\t\")\n",
    "      article_sequences = []\n",
    "      labels_list = []\n",
    "      for row in reader:\n",
    "        article_sequences.append(article[int(row[2]):int(row[3])])\n",
    "        labels_list.append(PROP_TECH_TO_LABEL[row[1]])\n",
    "\n",
    "    sequence = pd.DataFrame(None, range(len(article_sequences)), [\"label\", \"text\"])\n",
    "    sequence[\"label\"] = labels_list\n",
    "    sequence[\"text\"] = article_sequences   \n",
    "\n",
    "    # Add to the sequences\n",
    "    sequences.append(sequence)\n",
    "\n",
    "  # Concatenate all dataframes\n",
    "  dataframe = pd.concat(sequences, ignore_index=True)\n",
    "\n",
    "  return dataframe"
   ],
   "metadata": {
    "collapsed": false,
    "ExecuteTime": {
     "end_time": "2024-05-17T00:06:41.515034300Z",
     "start_time": "2024-05-17T00:06:41.493998600Z"
    }
   },
   "id": "aa0b5ec20e2474b6",
   "execution_count": 7
  },
  {
   "cell_type": "code",
   "outputs": [],
   "source": [
    "def convert_dataframe_to_features(dataframe, max_seq_length, tokenizer):\n",
    "  \"\"\"\n",
    "  Converts dataframe into features dataframe, where each feature will\n",
    "  take form of [CLS] + A + [SEP]\n",
    "  \"\"\"\n",
    "  # Create features\n",
    "  features = pd.DataFrame(None, range(dataframe.shape[0]), \n",
    "                              [\"input_ids\", \"input_mask\", \"segment_ids\", \"label_ids\"])\n",
    "\n",
    "  # For each sequence, do:\n",
    "  for i in range(len(dataframe)):\n",
    "    # Set first and second part of the sequences\n",
    "    tokens = tokenizer.tokenize(dataframe[\"text\"][i])\n",
    "\n",
    "    # If length of the sequence is greater than max sequence length, truncate it\n",
    "    if len(tokens) > max_seq_length - 2:\n",
    "        tokens = tokens[:(max_seq_length - 2)]\n",
    "\n",
    "    # Concatenate the tokens\n",
    "    tokens = [tokenizer.cls_token] + tokens + [tokenizer.sep_token]\n",
    "\n",
    "    # Compute the ids\n",
    "    segment_ids = [0] * len(tokens)\n",
    "    input_ids = tokenizer.convert_tokens_to_ids(tokens)\n",
    "    input_mask = [1] * len(input_ids)\n",
    "\n",
    "    # Zero-pad up to the sequence length.\n",
    "    padding_length = max_seq_length - len(input_ids)\n",
    "    pad_token = tokenizer.convert_tokens_to_ids([tokenizer.pad_token])[0]\n",
    "    input_ids = input_ids + [pad_token] * padding_length\n",
    "    input_mask = input_mask + [0] * padding_length\n",
    "    segment_ids = segment_ids + [0] * padding_length\n",
    "    label_id = dataframe[\"label\"][i]\n",
    "\n",
    "    # Assert to make sure we have same length\n",
    "    assert len(input_ids) == max_seq_length\n",
    "    assert len(input_mask) == max_seq_length\n",
    "    assert len(segment_ids) == max_seq_length\n",
    "\n",
    "    # Put the data into features dataframe\n",
    "    features[\"input_ids\"][i] = input_ids\n",
    "    features[\"input_mask\"][i] = input_mask\n",
    "    features[\"segment_ids\"][i] = segment_ids\n",
    "    features[\"label_ids\"][i] = int(label_id)    ###!!!\n",
    "    \n",
    "\n",
    "  return features"
   ],
   "metadata": {
    "collapsed": false,
    "ExecuteTime": {
     "end_time": "2024-05-17T00:06:42.141394400Z",
     "start_time": "2024-05-17T00:06:42.106394800Z"
    }
   },
   "id": "6e0efefc17e99462",
   "execution_count": 8
  },
  {
   "cell_type": "code",
   "outputs": [],
   "source": [
    "def generate_training_dataset_from_articles(articles_folders, labels_folders, tokenizer):\n",
    "  \"\"\"\n",
    "  Generates dataset to go into BERT from articles and labels\n",
    "  \"\"\"\n",
    "  # If generating dataset for evaluation, do:\n",
    "  logger.info(\"Generating training dataset...\")\n",
    "    \n",
    "  # For each articles and labels folder set, turn them into dataframes\n",
    "  dataframe_list = []\n",
    "  for i in range(len(articles_folders)):\n",
    "    logger.info(\"Generating dataframe for folder %s\", articles_folders[i])\n",
    "    dataframe_list.append(articles_to_dataframe(articles_folders[i], labels_folders[i]))\n",
    "\n",
    "  # Concatenate the dataframes to make a total dataframe\n",
    "  dataframe = pd.concat(dataframe_list, ignore_index=True)\n",
    "\n",
    "  print(dataframe)\n",
    "  print(dataframe.shape)\n",
    "\n",
    "  # Process into features dataframe\n",
    "  logger.info(\"Creating features from dataframe\")\n",
    "  features = convert_dataframe_to_features(dataframe, args['max_seq_length'], tokenizer) #\n",
    "     \n",
    "  # Creating TensorDataset from features\n",
    "  logger.info(\"Creating TensorDataset from features dataframe\")\n",
    "  all_input_ids = torch.tensor(features[\"input_ids\"], dtype=torch.long)\n",
    "  all_input_mask = torch.tensor(features[\"input_mask\"], dtype=torch.long)\n",
    "  all_segment_ids = torch.tensor(features[\"segment_ids\"], dtype=torch.long)\n",
    "  all_label_ids = torch.tensor(features[\"label_ids\"], dtype=torch.long)\n",
    "\n",
    "  dataset = TensorDataset(all_input_ids, all_input_mask, all_segment_ids, all_label_ids)\n",
    "  \n",
    "  return dataset"
   ],
   "metadata": {
    "collapsed": false,
    "ExecuteTime": {
     "end_time": "2024-05-17T00:06:42.677547600Z",
     "start_time": "2024-05-17T00:06:42.647548400Z"
    }
   },
   "id": "4f8387dcea3489f9",
   "execution_count": 9
  },
  {
   "cell_type": "markdown",
   "source": [
    "## Train "
   ],
   "metadata": {
    "collapsed": false
   },
   "id": "f1b86f90a06d6d1"
  },
  {
   "cell_type": "code",
   "outputs": [],
   "source": [
    "# Without weights\n",
    "def train_with_weights (train_dataset, model, tokenizer):\n",
    "    \"\"\"\n",
    "    Trains the model with training dataset\n",
    "    \"\"\"\n",
    "    # Initialize various necessary objects\n",
    "    tb_writer = SummaryWriter()\n",
    "    #train_sampler = RandomSampler(train_dataset)\n",
    "    \n",
    "    #Take classes from train datasets\n",
    "    label_list = [label.item() for _, _, _, label in train_dataset]\n",
    "    #print(label_list)\n",
    "    # Read class weights from file\n",
    "    class_weights = {}\n",
    "    with open(\"C:/N/st/UCU/5sem2024_DIPLOMA/Manipulation/code/my_master/class_weights_10_numbers.txt\", \"r\") as f:\n",
    "        for line in f:\n",
    "            class_name, weight = line.strip().split(\":\")\n",
    "            class_weights[class_name.strip()] = float(weight.strip())\n",
    "    #print(class_weights)\n",
    "    #Convert classes to int\n",
    "    class_weights = {int(key): value for key, value in class_weights.items()}\n",
    "    #print(class_weights)\n",
    "    weights = [class_weights[label] for label in label_list]\n",
    "    #print(weights)\n",
    "\n",
    "    # Use weighted sampler\n",
    "    train_sampler = WeightedRandomSampler(weights, len(train_dataset), replacement=True)\n",
    "    #train_sampler = RandomSampler(train_dataset)\n",
    "    \n",
    "    train_dataloader = DataLoader(train_dataset, sampler=train_sampler, batch_size=args['train_batch_size']) \n",
    "    \n",
    "    # Compute the total time\n",
    "    t_total = len(train_dataloader) // args['gradient_accumulation_steps'] * args['num_train_epochs']\n",
    "    \n",
    "    # Set the grouped parameters for optimizer\n",
    "    no_decay = ['bias', 'LayerNorm.weight']\n",
    "    optimizer_grouped_parameters = [\n",
    "        {'params': [p for n, p in model.named_parameters() if not any(nd in n for nd in no_decay)], 'weight_decay': args['weight_decay']},\n",
    "        {'params': [p for n, p in model.named_parameters() if any(nd in n for nd in no_decay)], 'weight_decay': 0.0}\n",
    "    ]\n",
    "    \n",
    "    # Compute warmup steps\n",
    "    warmup_steps = math.ceil(t_total * args['warmup_ratio'])\n",
    "    args['warmup_steps'] = warmup_steps if args['warmup_steps'] == 0 else args['warmup_steps']\n",
    "    \n",
    "    # Initialize optimizer as Adam with constant weight decay and a linear scheduler with warmup\n",
    "    optimizer = AdamW(optimizer_grouped_parameters, lr=args['learning_rate'], eps=args['adam_epsilon'])\n",
    "    scheduler = get_linear_schedule_with_warmup(optimizer, num_warmup_steps=args['warmup_steps'], num_training_steps=t_total)\n",
    "\n",
    "    \n",
    "    logger.info(\"***** Running training *****\")\n",
    "    logger.info(\"  Num examples = %d\", len(train_dataset))\n",
    "    logger.info(\"  Num Epochs = %d\", args['num_train_epochs'])\n",
    "    logger.info(\"  Total train batch size  = %d\", args['train_batch_size'])\n",
    "    logger.info(\"  Gradient Accumulation steps = %d\", args['gradient_accumulation_steps'])\n",
    "    logger.info(\"  Total optimization steps = %d\", t_total)\n",
    "\n",
    "    # Initialize variables for training\n",
    "    global_step = 0\n",
    "    tr_loss, logging_loss = 0.0, 0.0\n",
    "    model.zero_grad()\n",
    "    train_iterator = trange(int(args['num_train_epochs']), desc=\"Epoch\")\n",
    "    \n",
    "    # Start training!\n",
    "    for _ in train_iterator:\n",
    "        epoch_iterator = tqdm_notebook(train_dataloader, desc=\"Iteration\")\n",
    "        for step, batch in enumerate(epoch_iterator):\n",
    "            model.train()\n",
    "            batch = tuple(t.to(device) for t in batch)\n",
    "            inputs = {'input_ids':      batch[0],\n",
    "                      'attention_mask': batch[1],\n",
    "                      'token_type_ids': batch[2], \n",
    "                      'labels':         batch[3]}\n",
    "            outputs = model(**inputs)\n",
    "            loss = outputs[0]\n",
    "\n",
    "            if args['gradient_accumulation_steps'] > 1:\n",
    "                loss = loss / args['gradient_accumulation_steps']\n",
    "                \n",
    "            loss.backward()\n",
    "            torch.nn.utils.clip_grad_norm_(model.parameters(), args['max_grad_norm'])\n",
    "\n",
    "            tr_loss += loss.item()\n",
    "            if (step + 1) % args['gradient_accumulation_steps'] == 0:\n",
    "                optimizer.step()\n",
    "                scheduler.step() \n",
    "                model.zero_grad()\n",
    "                global_step += 1\n",
    "\n",
    "                if args['logging_steps'] > 0 and global_step % args['logging_steps'] == 0:\n",
    "                    tb_writer.add_scalar('lr', scheduler.get_lr()[0], global_step)\n",
    "                    tb_writer.add_scalar('loss', (tr_loss - logging_loss)/args['logging_steps'], global_step)\n",
    "                    logging_loss = tr_loss\n",
    "\n",
    "                if args['save_steps'] > 0 and global_step % args['save_steps'] == 0:\n",
    "                    output_dir = os.path.join(args['output_dir'], 'checkpoint-{}'.format(global_step))\n",
    "                    if not os.path.exists(output_dir):\n",
    "                        os.makedirs(output_dir)\n",
    "                    model_to_save = model.module if hasattr(model, 'module') else model\n",
    "                    model_to_save.save_pretrained(output_dir)\n",
    "                    logger.info(\"Saving model checkpoint to %s\", output_dir)\n",
    "\n",
    "    return global_step, tr_loss / global_step"
   ],
   "metadata": {
    "collapsed": false,
    "ExecuteTime": {
     "end_time": "2024-05-17T00:07:33.205509200Z",
     "start_time": "2024-05-17T00:07:33.159514900Z"
    }
   },
   "id": "5703f32dfb8a8528",
   "execution_count": 13
  },
  {
   "cell_type": "markdown",
   "source": [
    "### TC 10"
   ],
   "metadata": {
    "collapsed": false
   },
   "id": "b8d4a1d6354bbb66"
  },
  {
   "cell_type": "code",
   "outputs": [
    {
     "data": {
      "text/plain": "BertForSequenceClassification(\n  (bert): BertModel(\n    (embeddings): BertEmbeddings(\n      (word_embeddings): Embedding(105879, 768, padding_idx=0)\n      (position_embeddings): Embedding(512, 768)\n      (token_type_embeddings): Embedding(2, 768)\n      (LayerNorm): LayerNorm((768,), eps=1e-12, elementwise_affine=True)\n      (dropout): Dropout(p=0.1, inplace=False)\n    )\n    (encoder): BertEncoder(\n      (layer): ModuleList(\n        (0-11): 12 x BertLayer(\n          (attention): BertAttention(\n            (self): BertSelfAttention(\n              (query): Linear(in_features=768, out_features=768, bias=True)\n              (key): Linear(in_features=768, out_features=768, bias=True)\n              (value): Linear(in_features=768, out_features=768, bias=True)\n              (dropout): Dropout(p=0.1, inplace=False)\n            )\n            (output): BertSelfOutput(\n              (dense): Linear(in_features=768, out_features=768, bias=True)\n              (LayerNorm): LayerNorm((768,), eps=1e-12, elementwise_affine=True)\n              (dropout): Dropout(p=0.1, inplace=False)\n            )\n          )\n          (intermediate): BertIntermediate(\n            (dense): Linear(in_features=768, out_features=3072, bias=True)\n            (intermediate_act_fn): GELUActivation()\n          )\n          (output): BertOutput(\n            (dense): Linear(in_features=3072, out_features=768, bias=True)\n            (LayerNorm): LayerNorm((768,), eps=1e-12, elementwise_affine=True)\n            (dropout): Dropout(p=0.1, inplace=False)\n          )\n        )\n      )\n    )\n    (pooler): BertPooler(\n      (dense): Linear(in_features=768, out_features=768, bias=True)\n      (activation): Tanh()\n    )\n  )\n  (dropout): Dropout(p=0.1, inplace=False)\n  (classifier): Linear(in_features=768, out_features=10, bias=True)\n)"
     },
     "execution_count": 11,
     "metadata": {},
     "output_type": "execute_result"
    }
   ],
   "source": [
    "config_class, model_class, tokenizer_class = MODEL_CLASSES[args[\"model_type\"]]\n",
    "config = config_class.from_pretrained(args[\"model_name\"], num_labels=len(PROP_TECH_TO_LABEL))\n",
    "tokenizer = tokenizer_class.from_pretrained(args[\"model_name\"])\n",
    "model = model_class(config)\n",
    "model.to(device)\n"
   ],
   "metadata": {
    "collapsed": false,
    "ExecuteTime": {
     "end_time": "2024-05-17T00:06:50.105982500Z",
     "start_time": "2024-05-17T00:06:47.121015400Z"
    }
   },
   "id": "709c24dabb588a99",
   "execution_count": 11
  },
  {
   "cell_type": "code",
   "outputs": [
    {
     "name": "stderr",
     "output_type": "stream",
     "text": [
      "INFO:LOG:Generating training dataset...\n",
      "INFO:LOG:Generating dataframe for folder C:/N/st/UCU/5sem2024_DIPLOMA/Manipulation/code/my_master/datasets/upsampling/train_TC\n",
      "INFO:LOG:Creating features from dataframe\n"
     ]
    },
    {
     "name": "stdout",
     "output_type": "stream",
     "text": [
      "      label                                               text\n",
      "0         7  чоловік побив її, потім наніс ножові поранення...\n",
      "1         9                                              шален\n",
      "2         9                                           жестяков\n",
      "3         9                                              крути\n",
      "4         0                                  або їх відсутніст\n",
      "...     ...                                                ...\n",
      "4437      9         вітер штормить зі швидкістю швидше за поїз\n",
      "4438      9                                      природа за на\n",
      "4439      6                   швидкість вітру понад 130 км/год\n",
      "4440      6                 йде війна за збереження нашої наці\n",
      "4441      6                повальна мобілізація теж не допомож\n",
      "\n",
      "[4442 rows x 2 columns]\n",
      "(4442, 2)\n"
     ]
    },
    {
     "name": "stderr",
     "output_type": "stream",
     "text": [
      "INFO:LOG:Creating TensorDataset from features dataframe\n"
     ]
    }
   ],
   "source": [
    "train_dataset = generate_training_dataset_from_articles([train_articles], [train_TC_labels], tokenizer)"
   ],
   "metadata": {
    "collapsed": false,
    "ExecuteTime": {
     "end_time": "2024-05-17T00:06:58.527838600Z",
     "start_time": "2024-05-17T00:06:50.767783800Z"
    }
   },
   "id": "a79a196de9f4a0cc",
   "execution_count": 12
  },
  {
   "cell_type": "code",
   "outputs": [
    {
     "name": "stderr",
     "output_type": "stream",
     "text": [
      "C:\\Users\\Ната\\AppData\\Local\\Programs\\Python\\Python310\\lib\\site-packages\\transformers\\optimization.py:521: FutureWarning: This implementation of AdamW is deprecated and will be removed in a future version. Use the PyTorch implementation torch.optim.AdamW instead, or set `no_deprecation_warning=True` to disable this warning\n",
      "  warnings.warn(\n",
      "INFO:LOG:***** Running training *****\n",
      "INFO:LOG:  Num examples = 4442\n",
      "INFO:LOG:  Num Epochs = 5\n",
      "INFO:LOG:  Total train batch size  = 8\n",
      "INFO:LOG:  Gradient Accumulation steps = 1\n",
      "INFO:LOG:  Total optimization steps = 2780\n",
      "Epoch:   0%|          | 0/5 [00:00<?, ?it/s]C:\\Windows\\Temp\\ipykernel_21804\\1280938434.py:66: TqdmDeprecationWarning: This function will be removed in tqdm==5.0.0\n",
      "Please use `tqdm.notebook.tqdm` instead of `tqdm.tqdm_notebook`\n",
      "  epoch_iterator = tqdm_notebook(train_dataloader, desc=\"Iteration\")\n"
     ]
    },
    {
     "data": {
      "text/plain": "Iteration:   0%|          | 0/556 [00:00<?, ?it/s]",
      "application/vnd.jupyter.widget-view+json": {
       "version_major": 2,
       "version_minor": 0,
       "model_id": "973d8b0276124376b2a3b6ec145ca2d1"
      },
      "application/json": {
       "n": 0,
       "total": 556,
       "elapsed": 0.005003213882446289,
       "ncols": null,
       "nrows": null,
       "prefix": "Iteration",
       "ascii": false,
       "unit": "it",
       "unit_scale": false,
       "rate": null,
       "bar_format": null,
       "postfix": null,
       "unit_divisor": 1000,
       "initial": 0,
       "colour": null
      }
     },
     "metadata": {},
     "output_type": "display_data"
    },
    {
     "name": "stderr",
     "output_type": "stream",
     "text": [
      "Epoch:  20%|██        | 1/5 [04:43<18:55, 283.78s/it]"
     ]
    },
    {
     "data": {
      "text/plain": "Iteration:   0%|          | 0/556 [00:00<?, ?it/s]",
      "application/vnd.jupyter.widget-view+json": {
       "version_major": 2,
       "version_minor": 0,
       "model_id": "d895a09bfc4141428baebc69fc48a53a"
      },
      "application/json": {
       "n": 0,
       "total": 556,
       "elapsed": 0.008997201919555664,
       "ncols": null,
       "nrows": null,
       "prefix": "Iteration",
       "ascii": false,
       "unit": "it",
       "unit_scale": false,
       "rate": null,
       "bar_format": null,
       "postfix": null,
       "unit_divisor": 1000,
       "initial": 0,
       "colour": null
      }
     },
     "metadata": {},
     "output_type": "display_data"
    },
    {
     "name": "stderr",
     "output_type": "stream",
     "text": [
      "Epoch:  40%|████      | 2/5 [09:48<14:49, 296.39s/it]"
     ]
    },
    {
     "data": {
      "text/plain": "Iteration:   0%|          | 0/556 [00:00<?, ?it/s]",
      "application/vnd.jupyter.widget-view+json": {
       "version_major": 2,
       "version_minor": 0,
       "model_id": "c40a0dbcc2b64196ade1ea5ad156784f"
      },
      "application/json": {
       "n": 0,
       "total": 556,
       "elapsed": 0.015041589736938477,
       "ncols": null,
       "nrows": null,
       "prefix": "Iteration",
       "ascii": false,
       "unit": "it",
       "unit_scale": false,
       "rate": null,
       "bar_format": null,
       "postfix": null,
       "unit_divisor": 1000,
       "initial": 0,
       "colour": null
      }
     },
     "metadata": {},
     "output_type": "display_data"
    },
    {
     "name": "stderr",
     "output_type": "stream",
     "text": [
      "Epoch:  60%|██████    | 3/5 [15:05<10:10, 305.39s/it]"
     ]
    },
    {
     "data": {
      "text/plain": "Iteration:   0%|          | 0/556 [00:00<?, ?it/s]",
      "application/vnd.jupyter.widget-view+json": {
       "version_major": 2,
       "version_minor": 0,
       "model_id": "f72ca4cc1c18472b8c77533a16adb16e"
      },
      "application/json": {
       "n": 0,
       "total": 556,
       "elapsed": 0.011528730392456055,
       "ncols": null,
       "nrows": null,
       "prefix": "Iteration",
       "ascii": false,
       "unit": "it",
       "unit_scale": false,
       "rate": null,
       "bar_format": null,
       "postfix": null,
       "unit_divisor": 1000,
       "initial": 0,
       "colour": null
      }
     },
     "metadata": {},
     "output_type": "display_data"
    },
    {
     "name": "stderr",
     "output_type": "stream",
     "text": [
      "INFO:LOG:Saving model checkpoint to C:/N/st/UCU/5sem2024_DIPLOMA/Manipulation/code/my_master/datasets/upsampling/output_model_TC_10_with_weight_upsampling_dev_no_upsamping\\checkpoint-2000\n",
      "Epoch:  80%|████████  | 4/5 [20:48<05:20, 320.26s/it]"
     ]
    },
    {
     "data": {
      "text/plain": "Iteration:   0%|          | 0/556 [00:00<?, ?it/s]",
      "application/vnd.jupyter.widget-view+json": {
       "version_major": 2,
       "version_minor": 0,
       "model_id": "7d62b82d2b2640ea89ddfa4f464dbd57"
      },
      "application/json": {
       "n": 0,
       "total": 556,
       "elapsed": 0.010039091110229492,
       "ncols": null,
       "nrows": null,
       "prefix": "Iteration",
       "ascii": false,
       "unit": "it",
       "unit_scale": false,
       "rate": null,
       "bar_format": null,
       "postfix": null,
       "unit_divisor": 1000,
       "initial": 0,
       "colour": null
      }
     },
     "metadata": {},
     "output_type": "display_data"
    },
    {
     "name": "stderr",
     "output_type": "stream",
     "text": [
      "Epoch: 100%|██████████| 5/5 [27:33<00:00, 330.68s/it]\n"
     ]
    }
   ],
   "source": [
    "global_step, tr_loss = train_with_weights(train_dataset, model, tokenizer)"
   ],
   "metadata": {
    "collapsed": false,
    "ExecuteTime": {
     "end_time": "2024-05-17T00:35:12.515574700Z",
     "start_time": "2024-05-17T00:07:38.978570600Z"
    }
   },
   "id": "8f51f3a1c2a68913",
   "execution_count": 14
  },
  {
   "cell_type": "code",
   "outputs": [
    {
     "name": "stderr",
     "output_type": "stream",
     "text": [
      "INFO:LOG: global_step = 2780, average loss = 0.41550041472458904\n",
      "INFO:LOG:Saving model checkpoint to C:/N/st/UCU/5sem2024_DIPLOMA/Manipulation/code/my_master/datasets/upsampling/output_model_TC_10_with_weight_upsampling_dev_no_upsamping\n"
     ]
    }
   ],
   "source": [
    "logger.info(\" global_step = %s, average loss = %s\", global_step, tr_loss)\n",
    "logger.info(\"Saving model checkpoint to %s\", args['output_dir'])\n",
    "model_to_save = model.module if hasattr(model, 'module') else model\n",
    "model_to_save.save_pretrained(args['output_dir'])\n",
    "tokenizer.save_pretrained(args['output_dir'])\n",
    "torch.save(args, os.path.join(args['output_dir'], 'training_args.bin'))"
   ],
   "metadata": {
    "collapsed": false,
    "ExecuteTime": {
     "end_time": "2024-05-17T00:35:13.953727600Z",
     "start_time": "2024-05-17T00:35:12.481348Z"
    }
   },
   "id": "1dfc3a0da2c1c207",
   "execution_count": 15
  },
  {
   "cell_type": "markdown",
   "source": [
    "## Evaluate"
   ],
   "metadata": {
    "collapsed": false
   },
   "id": "d024aa4ad299f1ae"
  },
  {
   "cell_type": "code",
   "outputs": [],
   "source": [
    "def generate_TC_eval_dataset_from_article(article_folder, indices_file, tokenizer):\n",
    "  \"\"\"\n",
    "  Generates TC dataset to go into BERT from articles and labels\n",
    "  \"\"\"\n",
    "  # If generating dataset for evaluation, do:\n",
    "  logger.info(\"Generating evaluation dataset...\")\n",
    "\n",
    "  # First sort the filenames and make sure we have label file for each articles\n",
    "  article_filenames = sorted(glob.glob(os.path.join(article_folder, \"*.txt\")))\n",
    "  articles = {}\n",
    "\n",
    "  # For each article, read them in:\n",
    "  for i in range(len(article_filenames)):\n",
    "    article_id = os.path.basename(article_filenames[i]).split(\".\")[0][7:]\n",
    "    with codecs.open(article_filenames[i], \"r\", encoding=\"utf8\") as f:\n",
    "      articles[article_id] = f.read()\n",
    "\n",
    "  # Read in indices file\n",
    "  with open(indices_file, \"r\") as f:\n",
    "    reader = csv.reader(f, delimiter=\"\\t\")\n",
    "    ids_list = []\n",
    "    seq_starts = []\n",
    "    seq_ends = []\n",
    "    article_sequences = []\n",
    "    for row in reader:\n",
    "      ids_list.append(row[0])\n",
    "      seq_starts.append(row[2])\n",
    "      seq_ends.append(row[3])\n",
    "      article_sequences.append(articles[row[0]][int(row[2]):int(row[3])])\n",
    "\n",
    "  dataframe = pd.DataFrame(None, range(len(ids_list)), [\"id\", \"seq_starts\", \"seq_ends\", \"label\", \"text\"])\n",
    "  dataframe[\"id\"] = ids_list\n",
    "  dataframe[\"seq_starts\"] = seq_starts\n",
    "  dataframe[\"seq_ends\"] = seq_ends\n",
    "  dataframe[\"label\"] = [0] * len(ids_list)\n",
    "  dataframe[\"text\"] = article_sequences\n",
    "\n",
    "  print(dataframe)\n",
    "  print(dataframe.shape)\n",
    "\n",
    "  # Process into features dataframe\n",
    "  logger.info(\"Creating features from dataframe\")\n",
    "  features = convert_dataframe_to_features(dataframe, args['max_seq_length'], tokenizer)\n",
    "      \n",
    "  # Creating TensorDataset from features\n",
    "  logger.info(\"Creating TensorDataset from features dataframe\")\n",
    "  all_input_ids = torch.tensor(features[\"input_ids\"], dtype=torch.long)\n",
    "  all_input_mask = torch.tensor(features[\"input_mask\"], dtype=torch.long)\n",
    "  all_segment_ids = torch.tensor(features[\"segment_ids\"], dtype=torch.long)\n",
    "  all_label_ids = torch.tensor(features[\"label_ids\"], dtype=torch.long)\n",
    "\n",
    "  dataset = TensorDataset(all_input_ids, all_input_mask, all_segment_ids, all_label_ids)\n",
    "  return dataset, dataframe"
   ],
   "metadata": {
    "collapsed": false,
    "ExecuteTime": {
     "end_time": "2024-05-17T00:35:14.030755900Z",
     "start_time": "2024-05-17T00:35:13.968725800Z"
    }
   },
   "id": "ba2e7fc6aa760b8",
   "execution_count": 16
  },
  {
   "cell_type": "code",
   "outputs": [],
   "source": [
    "def classify_techniques(eval_dataframe, eval_dataset, model, tokenizer):\n",
    "  \"\"\"\n",
    "  Classifies a single article dataset and returns article id with indices list\n",
    "  \"\"\"\n",
    "  # Load the eval data and initialize sampler\n",
    "  eval_sampler = SequentialSampler(eval_dataset)\n",
    "  eval_dataloader = DataLoader(eval_dataset, sampler=eval_sampler, batch_size=args['eval_batch_size'])\n",
    "\n",
    "  # Start Classification\n",
    "  logger.info(\"***** Running classification for article {} *****\".format(eval_dataframe[\"id\"][0]))\n",
    "  logger.info(\"  Num sequences = %d\", len(eval_dataset))\n",
    "  logger.info(\"  Batch size = %d\", args['eval_batch_size'])\n",
    "  preds = None\n",
    "\n",
    "  # For each batch, evaluate\n",
    "  for batch in tqdm_notebook(eval_dataloader, desc=\"Evaluating\"):\n",
    "    model.eval()\n",
    "    batch = tuple(t.to(device) for t in batch)\n",
    "\n",
    "    with torch.no_grad():\n",
    "      inputs = {'input_ids':      batch[0],\n",
    "                'attention_mask': batch[1],\n",
    "                'token_type_ids': batch[2],\n",
    "                'labels':         batch[3]}\n",
    "      outputs = model(**inputs)\n",
    "      logits = outputs[1]\n",
    "\n",
    "    # Get predictions\n",
    "    if preds is None:\n",
    "      preds = logits.detach().cpu().numpy()\n",
    "    else:\n",
    "      preds = numpy.append(preds, logits.detach().cpu().numpy(), axis=0)\n",
    "\n",
    "  # Get the most probable prediction\n",
    "  preds = numpy.argmax(preds, axis=1)\n",
    "\n",
    "  return preds"
   ],
   "metadata": {
    "collapsed": false,
    "ExecuteTime": {
     "end_time": "2024-05-17T00:35:14.078712300Z",
     "start_time": "2024-05-17T00:35:13.998708400Z"
    }
   },
   "id": "2a9362a68934816f",
   "execution_count": 17
  },
  {
   "cell_type": "code",
   "outputs": [
    {
     "name": "stderr",
     "output_type": "stream",
     "text": [
      "INFO:LOG:Generating evaluation dataset...\n",
      "INFO:LOG:Creating features from dataframe\n"
     ]
    },
    {
     "name": "stdout",
     "output_type": "stream",
     "text": [
      "           id seq_starts seq_ends  label  \\\n",
      "0      209813          0        3      0   \n",
      "1      209813         19       36      0   \n",
      "2      209813         49       65      0   \n",
      "3      209813        235      249      0   \n",
      "4      210028          0        6      0   \n",
      "...       ...        ...      ...    ...   \n",
      "1027  1633033         68       80      0   \n",
      "1028  1636639        325      376      0   \n",
      "1029  1636685        879      885      0   \n",
      "1030  1636685        968     1051      0   \n",
      "1031  1636685       1183     1219      0   \n",
      "\n",
      "                                                   text  \n",
      "0                                                   ска  \n",
      "1                                     продовжує ширитис  \n",
      "2                                      крейзі-пухнастик  \n",
      "3                                        головний прико  \n",
      "4                                                виродк  \n",
      "...                                                 ...  \n",
      "1027                                       проживає в р  \n",
      "1028  і це бля в той час, коли на фронті дефіцит сна...  \n",
      "1029                                             гостри  \n",
      "1030  але чи означає це, що на деякий час українсько...  \n",
      "1031               як це доводилося чути києву у вересн  \n",
      "\n",
      "[1032 rows x 5 columns]\n",
      "(1032, 5)\n"
     ]
    },
    {
     "name": "stderr",
     "output_type": "stream",
     "text": [
      "INFO:LOG:Creating TensorDataset from features dataframe\n",
      "INFO:LOG:***** Running classification for article 209813 *****\n",
      "INFO:LOG:  Num sequences = 1032\n",
      "INFO:LOG:  Batch size = 8\n",
      "C:\\Windows\\Temp\\ipykernel_21804\\3392312430.py:16: TqdmDeprecationWarning: This function will be removed in tqdm==5.0.0\n",
      "Please use `tqdm.notebook.tqdm` instead of `tqdm.tqdm_notebook`\n",
      "  for batch in tqdm_notebook(eval_dataloader, desc=\"Evaluating\"):\n"
     ]
    },
    {
     "data": {
      "text/plain": "Evaluating:   0%|          | 0/129 [00:00<?, ?it/s]",
      "application/vnd.jupyter.widget-view+json": {
       "version_major": 2,
       "version_minor": 0,
       "model_id": "4bd140aba12e4bb1b3ce759088d071f3"
      },
      "application/json": {
       "n": 0,
       "total": 129,
       "elapsed": 0.008994102478027344,
       "ncols": null,
       "nrows": null,
       "prefix": "Evaluating",
       "ascii": false,
       "unit": "it",
       "unit_scale": false,
       "rate": null,
       "bar_format": null,
       "postfix": null,
       "unit_divisor": 1000,
       "initial": 0,
       "colour": null
      }
     },
     "metadata": {},
     "output_type": "display_data"
    }
   ],
   "source": [
    "# Dev with no synthetis data\n",
    "\n",
    "article_filenames = sorted(glob.glob(os.path.join(dev_articles, \"*.txt\")))\n",
    "\n",
    "#output_dir = \"datasets\"\n",
    "output_file = 'C:/N/st/UCU/5sem2024_DIPLOMA/Manipulation/code/my_master/datasets/upsampling/TC.labels_pred_10_with_weight_upsampling_dev_no_upsampling_5epoch.txt'\n",
    "f = open(output_file, 'w', newline='')\n",
    "writer = csv.writer(f, delimiter='\\t')\n",
    "eval_dataset, eval_dataframe = generate_TC_eval_dataset_from_article(dev_articles, dev_TC_template, tokenizer)\n",
    "predictions = classify_techniques(eval_dataframe, eval_dataset, model, tokenizer)\n",
    "for i in range(len(predictions)):\n",
    "  writer.writerow([eval_dataframe[\"id\"][i], LABEL_TO_PROP_TECH[predictions[i]], eval_dataframe[\"seq_starts\"][i], eval_dataframe[\"seq_ends\"][i]])\n",
    "f.close()"
   ],
   "metadata": {
    "collapsed": false,
    "ExecuteTime": {
     "end_time": "2024-05-17T00:35:54.340522200Z",
     "start_time": "2024-05-17T00:35:14.016751200Z"
    }
   },
   "id": "8b265cbb9e69aa99",
   "execution_count": 18
  },
  {
   "cell_type": "code",
   "outputs": [],
   "source": [
    "# Read contents of template.labels_pred.txt\n",
    "#pred_file = \"C:/N/st/UCU/5sem2024_DIPLOMA/Manipulation/code/my_master/datasets/upsampling/TC.labels_pred_10_no_weight_upsampling_5epoch.txt\"\n",
    "#pred_file = \"C:/N/st/UCU/5sem2024_DIPLOMA/Manipulation/code/my_master/datasets/upsampling/TC.labels_pred_10_with_weight_upsampling.txt\"\n",
    "pred_file = \"C:/N/st/UCU/5sem2024_DIPLOMA/Manipulation/code/my_master/datasets/upsampling/TC.labels_pred_10_with_weight_upsampling_dev_no_upsampling_5epoch.txt\"\n",
    "#true_file = \"C:/N/st/UCU/5sem2024_DIPLOMA/Manipulation/code/my_master/datasets/upsampling/TC.labels_true_10_upsampling.txt\"\n",
    "\n",
    "# Initialize dictionaries to store IDs and techniques\n",
    "pred_dict = {}\n",
    "true_dict = {}\n",
    "\n",
    "# Read contents of TC.labels_pred.txt\n",
    "with open(pred_file, \"r\") as pred_f:\n",
    "    pred_reader = csv.reader(pred_f, delimiter=\"\\t\")\n",
    "    for row in pred_reader:\n",
    "        id_ = row[0]\n",
    "        technique = row[1]\n",
    "        if id_ not in pred_dict:\n",
    "            pred_dict[id_] = [technique]\n",
    "        else:\n",
    "            pred_dict[id_].append(technique)\n",
    "\n",
    "# Read contents of TC.labels_true.txt\n",
    "with open(true_file, \"r\") as true_f:\n",
    "    true_reader = csv.reader(true_f, delimiter=\"\\t\")\n",
    "    for row in true_reader:\n",
    "        id_ = row[0]\n",
    "        technique = row[1]\n",
    "        if id_ not in true_dict:\n",
    "            true_dict[id_] = [technique]\n",
    "        else:\n",
    "            true_dict[id_].append(technique)"
   ],
   "metadata": {
    "collapsed": false,
    "ExecuteTime": {
     "end_time": "2024-05-17T00:35:54.433513400Z",
     "start_time": "2024-05-17T00:35:54.351011Z"
    }
   },
   "id": "89bbb2db32585981",
   "execution_count": 19
  },
  {
   "cell_type": "markdown",
   "source": [
    "# 1 epoch"
   ],
   "metadata": {
    "collapsed": false
   },
   "id": "85055d9f253b5584"
  },
  {
   "cell_type": "code",
   "outputs": [
    {
     "name": "stdout",
     "output_type": "stream",
     "text": [
      "                      precision    recall  f1-score   support\n",
      "\n",
      "         Black_White       0.63      0.66      0.64       108\n",
      "         Doubts_Army       0.00      0.00      0.00        99\n",
      "   Doubts_government       0.28      0.33      0.30       115\n",
      "        Doubts_media       0.46      0.68      0.55       106\n",
      "        Doubts_other       0.62      0.64      0.63        83\n",
      "     Doubts_partners       0.37      0.78      0.50        81\n",
      "       Emotion_Anger       0.00      0.00      0.00       100\n",
      "        Emotion_Fear       0.34      0.43      0.38       138\n",
      "Emotion_Hate_Disgust       0.00      0.00      0.00        87\n",
      "       Emotion_other       0.53      0.73      0.62       207\n",
      "\n",
      "            accuracy                           0.45      1124\n",
      "           macro avg       0.32      0.42      0.36      1124\n",
      "        weighted avg       0.34      0.45      0.39      1124\n"
     ]
    },
    {
     "name": "stderr",
     "output_type": "stream",
     "text": [
      "C:\\Users\\Ната\\AppData\\Local\\Programs\\Python\\Python310\\lib\\site-packages\\sklearn\\metrics\\_classification.py:1469: UndefinedMetricWarning: Precision and F-score are ill-defined and being set to 0.0 in labels with no predicted samples. Use `zero_division` parameter to control this behavior.\n",
      "  _warn_prf(average, modifier, msg_start, len(result))\n",
      "C:\\Users\\Ната\\AppData\\Local\\Programs\\Python\\Python310\\lib\\site-packages\\sklearn\\metrics\\_classification.py:1469: UndefinedMetricWarning: Precision and F-score are ill-defined and being set to 0.0 in labels with no predicted samples. Use `zero_division` parameter to control this behavior.\n",
      "  _warn_prf(average, modifier, msg_start, len(result))\n",
      "C:\\Users\\Ната\\AppData\\Local\\Programs\\Python\\Python310\\lib\\site-packages\\sklearn\\metrics\\_classification.py:1469: UndefinedMetricWarning: Precision and F-score are ill-defined and being set to 0.0 in labels with no predicted samples. Use `zero_division` parameter to control this behavior.\n",
      "  _warn_prf(average, modifier, msg_start, len(result))\n"
     ]
    }
   ],
   "source": [
    "# Initialize lists to store true and predicted labels\n",
    "true_labels = []\n",
    "predicted_labels = []\n",
    "\n",
    "# Iterate through the keys of the dictionaries\n",
    "for key in true_dict.keys():\n",
    "    # Check if the key exists in both dictionaries\n",
    "    if key in pred_dict:\n",
    "        # Append true and predicted labels\n",
    "        true_labels.extend(true_dict[key])\n",
    "        predicted_labels.extend(pred_dict[key])\n",
    "\n",
    "# Generate classification report\n",
    "report = classification_report(true_labels, predicted_labels)\n",
    "\n",
    "# Print classification report\n",
    "print(report)"
   ],
   "metadata": {
    "collapsed": false,
    "ExecuteTime": {
     "end_time": "2024-05-15T14:25:12.501664300Z",
     "start_time": "2024-05-15T14:25:12.430654600Z"
    }
   },
   "id": "ee084941ca7250d1",
   "execution_count": 23
  },
  {
   "cell_type": "code",
   "outputs": [
    {
     "name": "stdout",
     "output_type": "stream",
     "text": [
      "Overall Accuracy: 0.45195729537366547\n",
      "Overall Precision: 0.3218451023603121\n",
      "Overall Recall: 0.4245255216472489\n",
      "Overall F1-score: 0.36129100746611087\n"
     ]
    },
    {
     "name": "stderr",
     "output_type": "stream",
     "text": [
      "C:\\Windows\\Temp\\ipykernel_14732\\231912716.py:41: RuntimeWarning: invalid value encountered in scalar divide\n",
      "  precision = tp / (tp + fp)\n",
      "C:\\Users\\Ната\\AppData\\Local\\Programs\\Python\\Python310\\lib\\site-packages\\sklearn\\metrics\\_classification.py:1469: UndefinedMetricWarning: Precision is ill-defined and being set to 0.0 in labels with no predicted samples. Use `zero_division` parameter to control this behavior.\n",
      "  _warn_prf(average, modifier, msg_start, len(result))\n"
     ]
    }
   ],
   "source": [
    "# Compute multilabel confusion matrix\n",
    "from sklearn.metrics import multilabel_confusion_matrix, accuracy_score, precision_score, recall_score, f1_score\n",
    "\n",
    "class_names = [\"Doubts_government\", \n",
    "               \"Doubts_Army\",\n",
    "               \"Doubts_media\",\n",
    "               \"Doubts_partners\",\n",
    "               \"Doubts_other\",\n",
    "               \"Black_White\",\n",
    "               \"Emotion_Fear\",\n",
    "               \"Emotion_Anger\",\n",
    "               \"Emotion_Hate_Disgust\",\n",
    "               \"Emotion_other\"]\n",
    "\n",
    "mcm = multilabel_confusion_matrix(true_labels, predicted_labels, labels = class_names)\n",
    "\n",
    "# Print confusion matrix\n",
    "# print(\"Confusion Matrix:\")\n",
    "# for i, confusion_matrix in enumerate(mcm):\n",
    "#     print(f\"Class {class_names[i]}:\")\n",
    "#     print(confusion_matrix)\n",
    "#     print()\n",
    "# Compute multilabel confusion matrix with class names\n",
    "\n",
    "\n",
    "# Initialize lists to store metrics for each class\n",
    "accuracy_scores = []\n",
    "precision_scores = []\n",
    "recall_scores = []\n",
    "f1_scores = []\n",
    "\n",
    "# Compute metrics for each class\n",
    "for i, confusion_matrix in enumerate(mcm):\n",
    "    tn, fp, fn, tp = confusion_matrix.ravel()\n",
    "    \n",
    "    # Compute accuracy\n",
    "    accuracy = (tp + tn) / (tp + tn + fp + fn)\n",
    "    accuracy_scores.append(accuracy)\n",
    "    \n",
    "    # Compute precision\n",
    "    precision = tp / (tp + fp)\n",
    "    precision_scores.append(precision)\n",
    "    \n",
    "    # Compute recall\n",
    "    recall = tp / (tp + fn)\n",
    "    recall_scores.append(recall)\n",
    "    \n",
    "    # Compute F1-score\n",
    "    f1 = 2 * (precision * recall) / (precision + recall)\n",
    "    f1_scores.append(f1)\n",
    "\n",
    "# Aggregate metrics\n",
    "overall_accuracy = accuracy_score(true_labels, predicted_labels)\n",
    "overall_precision = precision_score(true_labels, predicted_labels, average='macro')\n",
    "overall_recall = recall_score(true_labels, predicted_labels, average='macro')\n",
    "overall_f1 = f1_score(true_labels, predicted_labels, average='macro')\n",
    "\n",
    "# Print or use the computed metrics as needed\n",
    "print(\"Overall Accuracy:\", overall_accuracy)\n",
    "print(\"Overall Precision:\", overall_precision)\n",
    "print(\"Overall Recall:\", overall_recall)\n",
    "print(\"Overall F1-score:\", overall_f1)"
   ],
   "metadata": {
    "collapsed": false,
    "ExecuteTime": {
     "end_time": "2024-05-15T14:32:11.918225700Z",
     "start_time": "2024-05-15T14:32:11.866226600Z"
    }
   },
   "id": "bc956454e360d03c",
   "execution_count": 30
  },
  {
   "cell_type": "code",
   "outputs": [
    {
     "name": "stderr",
     "output_type": "stream",
     "text": [
      "C:\\Windows\\Temp\\ipykernel_14732\\4176344692.py:10: MatplotlibDeprecationWarning: Auto-removal of grids by pcolor() and pcolormesh() is deprecated since 3.5 and will be removed two minor releases later; please call grid(False) first.\n",
      "  plt.colorbar()\n"
     ]
    },
    {
     "data": {
      "text/plain": "<Figure size 1080x720 with 20 Axes>",
      "image/png": "[encoded data removed]"
     },
     "metadata": {},
     "output_type": "display_data"
    }
   ],
   "source": [
    "plt.figure(figsize=(15, 10))\n",
    "\n",
    "# Iterate through the confusion matrices and plot them in a single plot\n",
    "for i, confusion_matrix in enumerate(mcm):\n",
    "    tn, fp, fn, tp = confusion_matrix.ravel()\n",
    "    matrix = np.array([[tn, fp], [fn, tp]])\n",
    "    plt.subplot(3, 4, i + 1)\n",
    "    plt.imshow(matrix, interpolation='nearest', cmap=plt.cm.Blues)\n",
    "    plt.title(f'Class {class_names[i]}:')\n",
    "    plt.colorbar()\n",
    "    tick_marks = np.arange(2)\n",
    "    plt.xticks(tick_marks, ['Predicted 0', 'Predicted 1'])\n",
    "    plt.yticks(tick_marks, ['Actual 0', 'Actual 1'])\n",
    "\n",
    "# Adjust layout and labels\n",
    "plt.tight_layout()\n",
    "plt.ylabel('True label')\n",
    "plt.xlabel('Predicted label')\n",
    "plt.show()\n"
   ],
   "metadata": {
    "collapsed": false,
    "ExecuteTime": {
     "end_time": "2024-05-15T14:25:49.610693800Z",
     "start_time": "2024-05-15T14:25:48.357729900Z"
    }
   },
   "id": "c0328f61d813b126",
   "execution_count": 25
  },
  {
   "cell_type": "code",
   "outputs": [
    {
     "data": {
      "text/plain": "<Figure size 720x576 with 2 Axes>",
      "image/png": "[encoded data removed]"
     },
     "metadata": {},
     "output_type": "display_data"
    }
   ],
   "source": [
    "# Compute multilabel confusion matrix with class names\n",
    "mcm = multilabel_confusion_matrix(true_labels, predicted_labels, labels=class_names)\n",
    "\n",
    "# Create an empty confusion matrix to accumulate values\n",
    "confusion_matrix_heatmap = np.zeros((len(class_names), len(class_names)), dtype=int)\n",
    "\n",
    "# Populate the confusion matrix heatmap with the values from the multilabel confusion matrix\n",
    "for i, confusion_matrix in enumerate(mcm):\n",
    "    tn, fp, fn, tp = confusion_matrix.ravel()\n",
    "    confusion_matrix_heatmap[i, i] = tn + tp  # Diagonal contains true negatives and true positives\n",
    "    for j in range(len(class_names)):\n",
    "        if j != i:\n",
    "            confusion_matrix_heatmap[i, j] = fp + fn  # Off-diagonal contains false positives and false negatives\n",
    "\n",
    "# Create a heatmap using seaborn\n",
    "plt.figure(figsize=(10, 8))\n",
    "sns.heatmap(confusion_matrix_heatmap, annot=True, fmt='d', cmap='Blues', xticklabels=class_names, yticklabels=class_names)\n",
    "plt.xlabel('Predicted Class')\n",
    "plt.ylabel('True Class')\n",
    "plt.title('Confusion Matrix Heatmap')\n",
    "plt.show()\n"
   ],
   "metadata": {
    "collapsed": false,
    "ExecuteTime": {
     "end_time": "2024-05-15T14:25:53.058118800Z",
     "start_time": "2024-05-15T14:25:52.296122900Z"
    }
   },
   "id": "59ab1abcb68001f6",
   "execution_count": 26
  },
  {
   "cell_type": "markdown",
   "source": [
    "5 epoch"
   ],
   "metadata": {
    "collapsed": false
   },
   "id": "2d872242647f2bc9"
  },
  {
   "cell_type": "code",
   "outputs": [
    {
     "name": "stdout",
     "output_type": "stream",
     "text": [
      "                      precision    recall  f1-score   support\n",
      "\n",
      "         Black_White       0.86      0.85      0.86       108\n",
      "         Doubts_Army       0.94      0.88      0.91        99\n",
      "   Doubts_government       0.42      0.40      0.41       115\n",
      "        Doubts_media       0.93      0.95      0.94       106\n",
      "        Doubts_other       0.93      0.95      0.94        83\n",
      "     Doubts_partners       0.85      0.85      0.85        81\n",
      "       Emotion_Anger       0.27      0.39      0.32       100\n",
      "        Emotion_Fear       0.48      0.49      0.48       138\n",
      "Emotion_Hate_Disgust       0.21      0.06      0.09        87\n",
      "       Emotion_other       0.57      0.64      0.60       207\n",
      "\n",
      "            accuracy                           0.64      1124\n",
      "           macro avg       0.65      0.65      0.64      1124\n",
      "        weighted avg       0.63      0.64      0.63      1124\n"
     ]
    }
   ],
   "source": [
    "# Initialize lists to store true and predicted labels\n",
    "true_labels = []\n",
    "predicted_labels = []\n",
    "\n",
    "# Iterate through the keys of the dictionaries\n",
    "for key in true_dict.keys():\n",
    "    # Check if the key exists in both dictionaries\n",
    "    if key in pred_dict:\n",
    "        # Append true and predicted labels\n",
    "        true_labels.extend(true_dict[key])\n",
    "        predicted_labels.extend(pred_dict[key])\n",
    "\n",
    "# Generate classification report\n",
    "report = classification_report(true_labels, predicted_labels)\n",
    "\n",
    "# Print classification report\n",
    "print(report)"
   ],
   "metadata": {
    "collapsed": false,
    "ExecuteTime": {
     "end_time": "2024-05-15T15:30:10.955323900Z",
     "start_time": "2024-05-15T15:30:10.895323800Z"
    }
   },
   "id": "2a4accc031d16faf",
   "execution_count": 57
  },
  {
   "cell_type": "code",
   "outputs": [
    {
     "data": {
      "text/plain": "<Figure size 720x576 with 2 Axes>",
      "image/png": "[encoded data removed]"
     },
     "metadata": {},
     "output_type": "display_data"
    }
   ],
   "source": [
    "# Compute multilabel confusion matrix with class names\n",
    "mcm = multilabel_confusion_matrix(true_labels, predicted_labels, labels=class_names)\n",
    "\n",
    "# Create an empty confusion matrix to accumulate values\n",
    "confusion_matrix_heatmap = np.zeros((len(class_names), len(class_names)), dtype=int)\n",
    "\n",
    "# Populate the confusion matrix heatmap with the values from the multilabel confusion matrix\n",
    "for i, confusion_matrix in enumerate(mcm):\n",
    "    tn, fp, fn, tp = confusion_matrix.ravel()\n",
    "    confusion_matrix_heatmap[i, i] = tn + tp  # Diagonal contains true negatives and true positives\n",
    "    for j in range(len(class_names)):\n",
    "        if j != i:\n",
    "            confusion_matrix_heatmap[i, j] = fp + fn  # Off-diagonal contains false positives and false negatives\n",
    "\n",
    "# Create a heatmap using seaborn\n",
    "plt.figure(figsize=(10, 8))\n",
    "sns.heatmap(confusion_matrix_heatmap, annot=True, fmt='d', cmap='Blues', xticklabels=class_names, yticklabels=class_names)\n",
    "plt.xlabel('Predicted Class')\n",
    "plt.ylabel('True Class')\n",
    "plt.title('Confusion Matrix Heatmap')\n",
    "plt.show()"
   ],
   "metadata": {
    "collapsed": false,
    "ExecuteTime": {
     "end_time": "2024-05-15T15:31:05.225812Z",
     "start_time": "2024-05-15T15:31:04.446845Z"
    }
   },
   "id": "6ccc5c4b4a05cb6",
   "execution_count": 58
  },
  {
   "cell_type": "markdown",
   "source": [
    "#### 5 epoch no weight"
   ],
   "metadata": {
    "collapsed": false
   },
   "id": "6c10634f6561ab46"
  },
  {
   "cell_type": "code",
   "outputs": [
    {
     "name": "stdout",
     "output_type": "stream",
     "text": [
      "                      precision    recall  f1-score   support\n",
      "\n",
      "         Black_White       0.86      0.88      0.87       108\n",
      "         Doubts_Army       0.98      0.86      0.91        99\n",
      "   Doubts_government       0.39      0.36      0.37       115\n",
      "        Doubts_media       0.94      0.93      0.94       106\n",
      "        Doubts_other       0.95      0.93      0.94        83\n",
      "     Doubts_partners       0.87      0.85      0.86        81\n",
      "       Emotion_Anger       0.31      0.29      0.30       100\n",
      "        Emotion_Fear       0.43      0.51      0.47       138\n",
      "Emotion_Hate_Disgust       0.19      0.03      0.06        87\n",
      "       Emotion_other       0.55      0.75      0.64       207\n",
      "\n",
      "            accuracy                           0.64      1124\n",
      "           macro avg       0.65      0.64      0.64      1124\n",
      "        weighted avg       0.63      0.64      0.63      1124\n"
     ]
    }
   ],
   "source": [
    "# Initialize lists to store true and predicted labels\n",
    "true_labels = []\n",
    "predicted_labels = []\n",
    "\n",
    "# Iterate through the keys of the dictionaries\n",
    "for key in true_dict.keys():\n",
    "    # Check if the key exists in both dictionaries\n",
    "    if key in pred_dict:\n",
    "        # Append true and predicted labels\n",
    "        true_labels.extend(true_dict[key])\n",
    "        predicted_labels.extend(pred_dict[key])\n",
    "\n",
    "# Generate classification report\n",
    "report = classification_report(true_labels, predicted_labels)\n",
    "\n",
    "# Print classification report\n",
    "print(report)"
   ],
   "metadata": {
    "collapsed": false,
    "ExecuteTime": {
     "end_time": "2024-05-16T21:15:17.624382800Z",
     "start_time": "2024-05-16T21:15:17.584382800Z"
    }
   },
   "id": "57050e9398528fcc",
   "execution_count": 4
  },
  {
   "cell_type": "code",
   "outputs": [],
   "source": [
    "import pandas as pd\n",
    "import seaborn as sns\n",
    "import matplotlib.pyplot as plt\n",
    "from sklearn.metrics import confusion_matrix"
   ],
   "metadata": {
    "collapsed": false,
    "ExecuteTime": {
     "end_time": "2024-05-16T21:43:30.968667800Z",
     "start_time": "2024-05-16T21:43:30.933651400Z"
    }
   },
   "id": "f51a3bfa4914e48c",
   "execution_count": 16
  },
  {
   "cell_type": "code",
   "outputs": [
    {
     "data": {
      "text/plain": "<Figure size 720x576 with 2 Axes>",
      "image/png": "[encoded data removed]"
     },
     "metadata": {},
     "output_type": "display_data"
    },
    {
     "name": "stdout",
     "output_type": "stream",
     "text": [
      "Predictions when true label is 'Emotion_Hate':\n",
      "Doubts_government        9\n",
      "Doubts_Army              0\n",
      "Doubts_media             0\n",
      "Doubts_partners          1\n",
      "Doubts_other             0\n",
      "Black_White              0\n",
      "Emotion_Fear            13\n",
      "Emotion_Anger            7\n",
      "Emotion_Hate_Disgust     3\n",
      "Emotion_other           54\n",
      "Name: Emotion_Hate_Disgust, dtype: int64\n"
     ]
    }
   ],
   "source": [
    "# Confuse class Emotion_Hate_Disgust\n",
    "class_names = [\"Doubts_government\", \n",
    "               \"Doubts_Army\",\n",
    "               \"Doubts_media\",\n",
    "               \"Doubts_partners\",\n",
    "               \"Doubts_other\",\n",
    "               \"Black_White\",\n",
    "               \"Emotion_Fear\",\n",
    "               \"Emotion_Anger\",\n",
    "               \"Emotion_Hate_Disgust\",\n",
    "               \"Emotion_other\"]\n",
    "\n",
    "# Generate the confusion matrix\n",
    "conf_matrix = confusion_matrix(true_labels, predicted_labels, labels=class_names)\n",
    "\n",
    "# Convert confusion matrix to DataFrame for better readability\n",
    "conf_matrix_df = pd.DataFrame(conf_matrix, index=class_names, columns=class_names)\n",
    "\n",
    "# Extract the row corresponding to 'Emotion_Hate'\n",
    "emotion_hate_row = conf_matrix_df.loc['Emotion_Hate_Disgust']\n",
    "\n",
    "# Plot the confusion matrix\n",
    "plt.figure(figsize=(10, 8))\n",
    "sns.heatmap(conf_matrix_df, annot=True, fmt='d', cmap='Blues', xticklabels=class_names, yticklabels=class_names)\n",
    "plt.xlabel('Predicted Class')\n",
    "plt.ylabel('True Class')\n",
    "plt.title('With upsampling')\n",
    "plt.show()\n",
    "\n",
    "# Display the predictions when true label is 'Emotion_Hate'\n",
    "print(f\"Predictions when true label is 'Emotion_Hate':\")\n",
    "print(emotion_hate_row)"
   ],
   "metadata": {
    "collapsed": false,
    "ExecuteTime": {
     "end_time": "2024-05-16T21:56:28.369188Z",
     "start_time": "2024-05-16T21:56:27.694677900Z"
    }
   },
   "id": "c54c545e5617e259",
   "execution_count": 20
  },
  {
   "cell_type": "markdown",
   "source": [
    "# 5 epoch no weight dev with no upsample"
   ],
   "metadata": {
    "collapsed": false
   },
   "id": "80fbd36a210fbe08"
  },
  {
   "cell_type": "code",
   "outputs": [
    {
     "name": "stdout",
     "output_type": "stream",
     "text": [
      "                      precision    recall  f1-score   support\n",
      "\n",
      "         Black_White       0.63      0.92      0.75        37\n",
      "         Doubts_Army       1.00      0.10      0.19        29\n",
      "   Doubts_government       0.57      0.68      0.62       144\n",
      "        Doubts_media       1.00      0.81      0.90        27\n",
      "        Doubts_other       0.00      0.00      0.00         2\n",
      "     Doubts_partners       0.67      0.62      0.64        13\n",
      "       Emotion_Anger       0.50      0.32      0.39       158\n",
      "        Emotion_Fear       0.55      0.78      0.65       179\n",
      "Emotion_Hate_Disgust       0.23      0.03      0.05       105\n",
      "       Emotion_other       0.74      0.88      0.80       338\n",
      "\n",
      "            accuracy                           0.63      1032\n",
      "           macro avg       0.59      0.51      0.50      1032\n",
      "        weighted avg       0.60      0.63      0.59      1032\n"
     ]
    }
   ],
   "source": [
    "# Initialize lists to store true and predicted labels\n",
    "true_labels = []\n",
    "predicted_labels = []\n",
    "\n",
    "# Iterate through the keys of the dictionaries\n",
    "for key in true_dict.keys():\n",
    "    # Check if the key exists in both dictionaries\n",
    "    if key in pred_dict:\n",
    "        # Append true and predicted labels\n",
    "        true_labels.extend(true_dict[key])\n",
    "        predicted_labels.extend(pred_dict[key])\n",
    "\n",
    "# Generate classification report\n",
    "report = classification_report(true_labels, predicted_labels)\n",
    "\n",
    "# Print classification report\n",
    "print(report)"
   ],
   "metadata": {
    "collapsed": false,
    "ExecuteTime": {
     "end_time": "2024-05-16T23:48:38.032424600Z",
     "start_time": "2024-05-16T23:48:37.975370500Z"
    }
   },
   "id": "2a456a535e576ba1",
   "execution_count": 39
  },
  {
   "cell_type": "code",
   "outputs": [
    {
     "data": {
      "text/plain": "<Figure size 720x576 with 2 Axes>",
      "image/png": "[encoded data removed]"
     },
     "metadata": {},
     "output_type": "display_data"
    },
    {
     "name": "stdout",
     "output_type": "stream",
     "text": [
      "Predictions when true label is 'Emotion_Hate':\n",
      "Doubts_government        7\n",
      "Doubts_Army              0\n",
      "Doubts_media             0\n",
      "Doubts_partners          0\n",
      "Doubts_other             0\n",
      "Black_White              0\n",
      "Emotion_Fear            22\n",
      "Emotion_Anger            9\n",
      "Emotion_Hate_Disgust     3\n",
      "Emotion_other           64\n",
      "Name: Emotion_Hate_Disgust, dtype: int64\n"
     ]
    }
   ],
   "source": [
    "# Confuse class Emotion_Hate_Disgust\n",
    "class_names = [\"Doubts_government\", \n",
    "               \"Doubts_Army\",\n",
    "               \"Doubts_media\",\n",
    "               \"Doubts_partners\",\n",
    "               \"Doubts_other\",\n",
    "               \"Black_White\",\n",
    "               \"Emotion_Fear\",\n",
    "               \"Emotion_Anger\",\n",
    "               \"Emotion_Hate_Disgust\",\n",
    "               \"Emotion_other\"]\n",
    "\n",
    "# Generate the confusion matrix\n",
    "conf_matrix = confusion_matrix(true_labels, predicted_labels, labels=class_names)\n",
    "\n",
    "# Convert confusion matrix to DataFrame for better readability\n",
    "conf_matrix_df = pd.DataFrame(conf_matrix, index=class_names, columns=class_names)\n",
    "\n",
    "# Extract the row corresponding to 'Emotion_Hate'\n",
    "emotion_hate_row = conf_matrix_df.loc['Emotion_Hate_Disgust']\n",
    "\n",
    "# Plot the confusion matrix\n",
    "plt.figure(figsize=(10, 8))\n",
    "sns.heatmap(conf_matrix_df, annot=True, fmt='d', cmap='Blues', xticklabels=class_names, yticklabels=class_names)\n",
    "plt.xlabel('Predicted Class')\n",
    "plt.ylabel('True Class')\n",
    "plt.title('With upsampling')\n",
    "plt.show()\n",
    "\n",
    "# Display the predictions when true label is 'Emotion_Hate'\n",
    "print(f\"Predictions when true label is 'Emotion_Hate':\")\n",
    "print(emotion_hate_row)"
   ],
   "metadata": {
    "collapsed": false,
    "ExecuteTime": {
     "end_time": "2024-05-16T23:49:47.749377600Z",
     "start_time": "2024-05-16T23:49:46.622980900Z"
    }
   },
   "id": "708de77ebc9a93e4",
   "execution_count": 40
  },
  {
   "cell_type": "code",
   "outputs": [],
   "source": [],
   "metadata": {
    "collapsed": false
   },
   "id": "c300ef6abd306d3f"
  },
  {
   "cell_type": "markdown",
   "source": [
    "# 5 epoch with weight dev with no upsample"
   ],
   "metadata": {
    "collapsed": false
   },
   "id": "d779c319aef58edc"
  },
  {
   "cell_type": "code",
   "outputs": [
    {
     "name": "stdout",
     "output_type": "stream",
     "text": [
      "                      precision    recall  f1-score   support\n",
      "\n",
      "         Black_White       0.46      0.68      0.55        37\n",
      "         Doubts_Army       0.39      0.38      0.39        29\n",
      "   Doubts_government       0.14      0.03      0.06       144\n",
      "        Doubts_media       0.59      0.85      0.70        27\n",
      "        Doubts_other       0.50      1.00      0.67         2\n",
      "     Doubts_partners       0.22      1.00      0.37        13\n",
      "       Emotion_Anger       0.00      0.00      0.00       158\n",
      "        Emotion_Fear       0.28      0.60      0.38       179\n",
      "Emotion_Hate_Disgust       0.00      0.00      0.00       105\n",
      "       Emotion_other       0.63      0.79      0.70       338\n",
      "\n",
      "            accuracy                           0.44      1032\n",
      "           macro avg       0.32      0.53      0.38      1032\n",
      "        weighted avg       0.32      0.44      0.36      1032\n"
     ]
    },
    {
     "name": "stderr",
     "output_type": "stream",
     "text": [
      "C:\\Users\\Ната\\AppData\\Local\\Programs\\Python\\Python310\\lib\\site-packages\\sklearn\\metrics\\_classification.py:1469: UndefinedMetricWarning: Precision and F-score are ill-defined and being set to 0.0 in labels with no predicted samples. Use `zero_division` parameter to control this behavior.\n",
      "  _warn_prf(average, modifier, msg_start, len(result))\n",
      "C:\\Users\\Ната\\AppData\\Local\\Programs\\Python\\Python310\\lib\\site-packages\\sklearn\\metrics\\_classification.py:1469: UndefinedMetricWarning: Precision and F-score are ill-defined and being set to 0.0 in labels with no predicted samples. Use `zero_division` parameter to control this behavior.\n",
      "  _warn_prf(average, modifier, msg_start, len(result))\n",
      "C:\\Users\\Ната\\AppData\\Local\\Programs\\Python\\Python310\\lib\\site-packages\\sklearn\\metrics\\_classification.py:1469: UndefinedMetricWarning: Precision and F-score are ill-defined and being set to 0.0 in labels with no predicted samples. Use `zero_division` parameter to control this behavior.\n",
      "  _warn_prf(average, modifier, msg_start, len(result))\n"
     ]
    }
   ],
   "source": [
    "# Initialize lists to store true and predicted labels\n",
    "true_labels = []\n",
    "predicted_labels = []\n",
    "\n",
    "# Iterate through the keys of the dictionaries\n",
    "for key in true_dict.keys():\n",
    "    # Check if the key exists in both dictionaries\n",
    "    if key in pred_dict:\n",
    "        # Append true and predicted labels\n",
    "        true_labels.extend(true_dict[key])\n",
    "        predicted_labels.extend(pred_dict[key])\n",
    "\n",
    "# Generate classification report\n",
    "report = classification_report(true_labels, predicted_labels)\n",
    "\n",
    "# Print classification report\n",
    "print(report)"
   ],
   "metadata": {
    "collapsed": false,
    "ExecuteTime": {
     "end_time": "2024-05-17T00:35:54.523502100Z",
     "start_time": "2024-05-17T00:35:54.419508400Z"
    }
   },
   "id": "597f7b7a518e2482",
   "execution_count": 20
  },
  {
   "cell_type": "code",
   "outputs": [],
   "source": [],
   "metadata": {
    "collapsed": false
   },
   "id": "cdbe9b3f50d8c50c"
  }
 ],
 "metadata": {
  "kernelspec": {
   "display_name": "Python 3",
   "language": "python",
   "name": "python3"
  },
  "language_info": {
   "codemirror_mode": {
    "name": "ipython",
    "version": 2
   },
   "file_extension": ".py",
   "mimetype": "text/x-python",
   "name": "python",
   "nbconvert_exporter": "python",
   "pygments_lexer": "ipython2",
   "version": "2.7.6"
  }
 },
 "nbformat": 4,
 "nbformat_minor": 5
}
