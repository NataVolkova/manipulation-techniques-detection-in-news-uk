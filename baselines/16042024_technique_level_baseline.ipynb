{
 "cells": [
  {
   "cell_type": "markdown",
   "source": [
    "### Technique level baseline\n",
    "Multilabel problem\n",
    "N dataset: 2310\n",
    "N for test: 20% - 462\n",
    "N of manipulation technique in test data - 10\n",
    "Overall accuracy for most popular class: 0.44\n",
    "Overall accuracy for 3 classes: 0.26\n",
    "Overall accuracy for 4 classes: 0.25\n",
    "Overall accuracy for 10 classes: 0.10"
   ],
   "metadata": {
    "collapsed": false
   },
   "id": "14ab17d956300425"
  },
  {
   "cell_type": "code",
   "execution_count": 10,
   "id": "initial_id",
   "metadata": {
    "collapsed": true,
    "ExecuteTime": {
     "end_time": "2024-05-16T22:26:22.508378300Z",
     "start_time": "2024-05-16T22:26:22.484386500Z"
    }
   },
   "outputs": [],
   "source": [
    "import numpy as np\n",
    "import pandas as pd\n",
    "import os\n",
    "import random\n",
    "import ast\n",
    "import csv\n",
    "from collections import Counter"
   ]
  },
  {
   "cell_type": "code",
   "outputs": [],
   "source": [
    "# # path = 'C:/N/st/UCU/5sem2024_DIPLOMA/Manipulation/code/my_master'\n",
    "# # df = pd.read_csv(os.path.join(path, '15042024_export_tuples.csv'))\n",
    "# df = pd.read_csv(\"C:/N/st/UCU/5sem2024_DIPLOMA/Manipulation/code/my_master/datasets/input_dev.csv\")\n",
    "# df"
   ],
   "metadata": {
    "collapsed": false,
    "ExecuteTime": {
     "end_time": "2024-05-16T22:26:33.926990100Z",
     "start_time": "2024-05-16T22:26:33.900018Z"
    }
   },
   "id": "487d516e85fb3617",
   "execution_count": 11
  },
  {
   "cell_type": "code",
   "outputs": [],
   "source": [
    "# # The frequency of manipulation technique\n",
    "# # Flatten the list of dictionaries and extract the \"name\" values\n",
    "# x_test['annotations'] = x_test['annotations'].apply(ast.literal_eval)  # Solved TypeError: list indices must be integers or slices, not str\n",
    "# all_techniques = x_test['annotations'].apply(lambda x: [item['name'] for item in x]).explode()\n",
    "# \n",
    "# # Count the occurrences of each manipulation technique\n",
    "# technique_counts = Counter(all_techniques)\n",
    "# technique_counts"
   ],
   "metadata": {
    "collapsed": false,
    "ExecuteTime": {
     "end_time": "2024-05-16T22:23:09.880768500Z",
     "start_time": "2024-05-16T22:23:09.838770Z"
    }
   },
   "id": "10fa566cc018105f",
   "execution_count": 3
  },
  {
   "cell_type": "markdown",
   "source": [
    "#### Generate random 10 classes"
   ],
   "metadata": {
    "collapsed": false
   },
   "id": "fa83354360b1e60d"
  },
  {
   "cell_type": "code",
   "outputs": [],
   "source": [
    "techniques_list = [\n",
    "    'Doubts_government',\n",
    "    'Doubts_Army',\n",
    "    'Doubts_media',\n",
    "    'Doubts_partners',\n",
    "    'Doubts_other',\n",
    "    'Black_White',\n",
    "    'Emotion_Fear',\n",
    "    'Emotion_Anger',\n",
    "    'Emotion_Hate_Disgust',\n",
    "    'Emotion_other'\n",
    "]"
   ],
   "metadata": {
    "collapsed": false,
    "ExecuteTime": {
     "end_time": "2024-05-16T22:23:13.221136400Z",
     "start_time": "2024-05-16T22:23:13.212139700Z"
    }
   },
   "id": "3aa9d796395649c6",
   "execution_count": 4
  },
  {
   "cell_type": "code",
   "outputs": [
    {
     "data": {
      "text/plain": "'Doubts_government'"
     },
     "execution_count": 5,
     "metadata": {},
     "output_type": "execute_result"
    }
   ],
   "source": [
    "technique = random.choice(techniques_list)\n",
    "technique"
   ],
   "metadata": {
    "collapsed": false,
    "ExecuteTime": {
     "end_time": "2024-05-16T22:23:17.667770Z",
     "start_time": "2024-05-16T22:23:17.652769700Z"
    }
   },
   "id": "824baa972ea171bc",
   "execution_count": 5
  },
  {
   "cell_type": "code",
   "outputs": [],
   "source": [
    "# Test\n",
    "\n",
    "# random.seed(118)\n",
    "# accuracies = []\n",
    "# \n",
    "# true_spans_str = \"[{'name': 'Doubts_government', 'token': 'Це якийсь новий тендерний тренд?', 'start': 382, 'end': 413}, {'name': 'Doubts_government', 'token': 'Управління', 'start': 289, 'end': 298}, {'name': 'Emotion_other', 'token': 'тендерний тренд?', 'start': 398, 'end': 413}]\"\n",
    "# true_technique = ast.literal_eval(true_spans_str)\n",
    "# \n",
    "# \n",
    "# technique = random.choice(techniques_list)\n",
    "# \n",
    "# \n",
    "# # Compare the generation and truth\n",
    "# for true_span in true_technique:   \n",
    "#     name = true_span[\"name\"]\n",
    "#     if technique == name:\n",
    "#         print(\"Correct\")    # Span correctly predicted\n",
    "#         accuracies.append(1)\n",
    "#     else:\n",
    "#         print(\"Incorrect\")\n",
    "#         accuracies.append(0)\n",
    "# \n",
    "#     \n",
    "# #Calculate the overall accuracy\n",
    "# accurracy = sum(accuracies) / len(accuracies)\n",
    "# print(len(accuracies))\n",
    "# print(technique)\n",
    "# print(f\"Overall accuracy for exact match: {accurracy}\")"
   ],
   "metadata": {
    "collapsed": false,
    "ExecuteTime": {
     "end_time": "2024-05-16T22:40:51.233132800Z",
     "start_time": "2024-05-16T22:40:51.199132100Z"
    }
   },
   "id": "e3ce9d00229db614",
   "execution_count": 18
  },
  {
   "cell_type": "code",
   "outputs": [
    {
     "data": {
      "text/plain": "{'209813': ['Emotion_Fear', 'Emotion_Fear', 'Emotion_other', 'Emotion_other'],\n '210028': ['Emotion_other'],\n '210117': ['Emotion_other'],\n '210306': ['Emotion_Fear'],\n '210365': ['Emotion_Fear'],\n '210441': ['Emotion_Fear'],\n '210456': ['Emotion_other', 'Emotion_other', 'Emotion_Anger'],\n '210467': ['Doubts_government'],\n '210735': ['Emotion_other', 'Emotion_Anger'],\n '210911': ['Emotion_Hate_Disgust'],\n '210965': ['Emotion_Anger', 'Emotion_Anger'],\n '211009': ['Emotion_other'],\n '211048': ['Emotion_other', 'Doubts_government'],\n '211326': ['Emotion_other'],\n '211371': ['Emotion_Anger'],\n '211402': ['Emotion_other'],\n '211495': ['Doubts_government',\n  'Emotion_other',\n  'Emotion_other',\n  'Doubts_government',\n  'Emotion_other',\n  'Doubts_government',\n  'Doubts_government'],\n '211632': ['Emotion_Anger', 'Emotion_Hate_Disgust'],\n '211885': ['Emotion_other'],\n '212018': ['Emotion_other', 'Emotion_other'],\n '212074': ['Emotion_Anger', 'Emotion_Hate_Disgust'],\n '212219': ['Emotion_Anger'],\n '212307': ['Emotion_Fear'],\n '212315': ['Emotion_Hate_Disgust'],\n '315106': ['Emotion_Fear', 'Emotion_Fear', 'Emotion_other'],\n '315181': ['Doubts_government', 'Doubts_government'],\n '315382': ['Doubts_government'],\n '315387': ['Emotion_other', 'Emotion_other'],\n '315445': ['Doubts_government'],\n '315453': ['Emotion_Fear'],\n '315491': ['Emotion_other'],\n '315628': ['Doubts_government', 'Doubts_government'],\n '315663': ['Emotion_Fear', 'Emotion_Anger', 'Emotion_Fear'],\n '315684': ['Doubts_government'],\n '315688': ['Doubts_government', 'Doubts_government', 'Doubts_government'],\n '315803': ['Doubts_Army', 'Black_White'],\n '315848': ['Emotion_other'],\n '315987': ['Doubts_government'],\n '315995': ['Emotion_other',\n  'Doubts_government',\n  'Doubts_government',\n  'Doubts_government',\n  'Emotion_other',\n  'Emotion_Hate_Disgust'],\n '316047': ['Emotion_other', 'Emotion_other', 'Emotion_other'],\n '316205': ['Emotion_Fear'],\n '316222': ['Doubts_government'],\n '316248': ['Doubts_media', 'Doubts_media', 'Emotion_Anger', 'Doubts_media'],\n '316544': ['Doubts_government'],\n '316603': ['Emotion_other'],\n '316633': ['Doubts_government'],\n '316676': ['Doubts_government'],\n '316698': ['Emotion_Anger', 'Emotion_other'],\n '316714': ['Emotion_Fear'],\n '316750': ['Doubts_government', 'Emotion_Anger'],\n '316808': ['Emotion_other', 'Emotion_Anger'],\n '321562': ['Emotion_Anger'],\n '321591': ['Doubts_government'],\n '321703': ['Emotion_Fear'],\n '321730': ['Emotion_Fear'],\n '321742': ['Doubts_Army', 'Doubts_Army'],\n '321848': ['Doubts_government', 'Doubts_government', 'Doubts_media'],\n '321907': ['Emotion_other'],\n '322088': ['Emotion_other',\n  'Doubts_government',\n  'Doubts_government',\n  'Doubts_government',\n  'Doubts_government'],\n '322192': ['Emotion_Fear'],\n '322289': ['Emotion_Fear'],\n '322316': ['Emotion_Fear', 'Doubts_Army', 'Doubts_Army'],\n '322364': ['Doubts_Army'],\n '322446': ['Emotion_Fear', 'Doubts_government', 'Doubts_government'],\n '322522': ['Emotion_Fear'],\n '322533': ['Emotion_Fear', 'Emotion_other', 'Emotion_other'],\n '322649': ['Doubts_media', 'Doubts_media', 'Doubts_media'],\n '322723': ['Emotion_other', 'Emotion_other'],\n '322805': ['Emotion_other', 'Emotion_Fear'],\n '322838': ['Emotion_other', 'Emotion_other'],\n '322869': ['Black_White', 'Emotion_other', 'Emotion_other'],\n '322926': ['Emotion_Fear', 'Emotion_Anger'],\n '322958': ['Emotion_other'],\n '323009': ['Emotion_other', 'Doubts_government'],\n '323118': ['Emotion_Fear',\n  'Emotion_Fear',\n  'Emotion_Fear',\n  'Emotion_Fear',\n  'Emotion_Fear'],\n '323295': ['Emotion_Fear'],\n '323357': ['Emotion_Fear'],\n '327768': ['Black_White'],\n '334548': ['Emotion_Hate_Disgust', 'Emotion_Hate_Disgust', 'Black_White'],\n '337785': ['Emotion_other',\n  'Emotion_other',\n  'Emotion_Anger',\n  'Emotion_Anger'],\n '358912': ['Emotion_other'],\n '371408': ['Emotion_other', 'Emotion_other', 'Emotion_other'],\n '395098': ['Doubts_government',\n  'Doubts_government',\n  'Doubts_government',\n  'Doubts_government',\n  'Emotion_Fear',\n  'Emotion_Hate_Disgust'],\n '397105': ['Emotion_other'],\n '425206': ['Emotion_other'],\n '435253': ['Emotion_other', 'Emotion_other', 'Emotion_other'],\n '443311': ['Emotion_other'],\n '451532': ['Emotion_other'],\n '477269': ['Emotion_Fear'],\n '477463': ['Emotion_Anger'],\n '477558': ['Emotion_Fear'],\n '477620': ['Emotion_Fear', 'Emotion_Fear'],\n '477855': ['Emotion_Fear'],\n '477883': ['Doubts_government'],\n '478037': ['Doubts_government', 'Doubts_government'],\n '478051': ['Emotion_Fear'],\n '478449': ['Emotion_other'],\n '478533': ['Emotion_Hate_Disgust'],\n '478668': ['Emotion_Fear', 'Doubts_government'],\n '478691': ['Emotion_Fear', 'Emotion_Fear'],\n '479027': ['Emotion_Anger'],\n '479109': ['Emotion_Fear'],\n '479145': ['Black_White'],\n '479193': ['Doubts_government'],\n '479330': ['Emotion_Fear'],\n '479331': ['Emotion_Fear'],\n '543214': ['Emotion_Fear', 'Emotion_Anger', 'Emotion_other', 'Emotion_Anger'],\n '543353': ['Emotion_other'],\n '543426': ['Emotion_other', 'Emotion_other', 'Emotion_other'],\n '543450': ['Black_White', 'Emotion_other', 'Emotion_Hate_Disgust'],\n '543590': ['Emotion_other', 'Emotion_other', 'Emotion_other'],\n '543604': ['Emotion_Anger'],\n '543780': ['Black_White'],\n '543811': ['Black_White',\n  'Emotion_other',\n  'Emotion_other',\n  'Emotion_other',\n  'Doubts_government'],\n '543890': ['Emotion_other', 'Emotion_Hate_Disgust', 'Emotion_other'],\n '544073': ['Emotion_Anger', 'Emotion_Anger', 'Emotion_other'],\n '544105': ['Doubts_partners'],\n '544108': ['Emotion_Hate_Disgust'],\n '544496': ['Doubts_partners'],\n '544498': ['Emotion_Fear'],\n '544562': ['Emotion_other', 'Doubts_Army', 'Doubts_Army'],\n '544995': ['Emotion_other', 'Emotion_other', 'Emotion_other'],\n '545232': ['Emotion_Fear'],\n '545688': ['Emotion_other', 'Emotion_other', 'Emotion_other'],\n '545839': ['Emotion_Fear'],\n '546097': ['Emotion_Fear', 'Emotion_Fear'],\n '546121': ['Emotion_Hate_Disgust'],\n '645632': ['Black_White'],\n '645656': ['Emotion_Fear'],\n '645733': ['Emotion_other', 'Emotion_Anger', 'Emotion_other'],\n '645749': ['Doubts_government'],\n '646004': ['Emotion_other', 'Emotion_Hate_Disgust'],\n '646074': ['Doubts_media', 'Doubts_media'],\n '646187': ['Emotion_other', 'Emotion_Fear', 'Emotion_Fear'],\n '646280': ['Emotion_Anger'],\n '646444': ['Emotion_Fear', 'Emotion_other'],\n '646593': ['Emotion_other'],\n '646770': ['Emotion_Fear'],\n '646907': ['Emotion_Fear', 'Emotion_Fear'],\n '646971': ['Doubts_government', 'Emotion_Anger'],\n '647147': ['Emotion_other', 'Emotion_other'],\n '647164': ['Emotion_Fear', 'Emotion_other'],\n '647279': ['Doubts_government'],\n '647343': ['Emotion_other'],\n '647369': ['Emotion_Fear'],\n '647435': ['Emotion_other', 'Emotion_other'],\n '714532': ['Emotion_Fear', 'Emotion_Fear'],\n '714557': ['Doubts_government'],\n '714564': ['Emotion_Anger', 'Emotion_Anger', 'Emotion_Anger'],\n '714627': ['Emotion_Anger',\n  'Emotion_Anger',\n  'Doubts_partners',\n  'Emotion_Anger'],\n '714721': ['Emotion_Fear'],\n '714759': ['Emotion_Anger', 'Emotion_Anger'],\n '714918': ['Emotion_Hate_Disgust',\n  'Emotion_Anger',\n  'Emotion_Anger',\n  'Emotion_Anger',\n  'Doubts_government',\n  'Emotion_Hate_Disgust',\n  'Emotion_Anger'],\n '715048': ['Emotion_Fear'],\n '715087': ['Emotion_other'],\n '715117': ['Emotion_other',\n  'Emotion_other',\n  'Emotion_other',\n  'Emotion_other'],\n '715171': ['Emotion_Fear'],\n '715282': ['Emotion_Fear'],\n '715464': ['Doubts_government', 'Emotion_Anger'],\n '715546': ['Emotion_other'],\n '715558': ['Emotion_Fear'],\n '715649': ['Emotion_other'],\n '715688': ['Emotion_other', 'Emotion_other', 'Emotion_Fear'],\n '716007': ['Emotion_Fear'],\n '716078': ['Emotion_other'],\n '716084': ['Emotion_other', 'Emotion_Hate_Disgust', 'Emotion_other'],\n '716140': ['Emotion_other', 'Emotion_other', 'Emotion_Anger', 'Emotion_Fear'],\n '716163': ['Emotion_other', 'Emotion_Fear', 'Emotion_Fear', 'Emotion_Fear'],\n '716283': ['Emotion_Fear'],\n '716353': ['Emotion_Anger'],\n '716476': ['Emotion_Fear'],\n '716512': ['Doubts_government'],\n '716540': ['Emotion_Anger', 'Emotion_other'],\n '716723': ['Emotion_Fear'],\n '716991': ['Emotion_Fear'],\n '717181': ['Doubts_government', 'Doubts_government'],\n '717208': ['Emotion_Hate_Disgust'],\n '717325': ['Emotion_Anger'],\n '717479': ['Emotion_Anger'],\n '717871': ['Emotion_Fear'],\n '717912': ['Emotion_Anger', 'Emotion_Hate_Disgust'],\n '717994': ['Emotion_other', 'Emotion_other'],\n '718083': ['Doubts_media', 'Emotion_other'],\n '718354': ['Emotion_Anger', 'Emotion_other', 'Emotion_other'],\n '718434': ['Emotion_Fear', 'Emotion_Fear', 'Emotion_other'],\n '742432': ['Doubts_government',\n  'Doubts_government',\n  'Doubts_government',\n  'Doubts_government',\n  'Doubts_government'],\n '745402': ['Emotion_Anger'],\n '745472': ['Emotion_Fear', 'Emotion_other'],\n '745912': ['Doubts_media', 'Doubts_media'],\n '746033': ['Emotion_other', 'Emotion_Fear'],\n '746058': ['Emotion_Fear'],\n '746169': ['Emotion_Fear'],\n '746306': ['Emotion_Anger', 'Emotion_Anger'],\n '746728': ['Emotion_other', 'Emotion_other', 'Emotion_other'],\n '746768': ['Emotion_other'],\n '746869': ['Emotion_Fear'],\n '746933': ['Emotion_other'],\n '746954': ['Emotion_Fear'],\n '746961': ['Emotion_other'],\n '746989': ['Emotion_Hate_Disgust', 'Doubts_government'],\n '747173': ['Emotion_Anger'],\n '747489': ['Emotion_Fear'],\n '747549': ['Emotion_other', 'Emotion_Anger'],\n '758303': ['Black_White', 'Emotion_other', 'Black_White'],\n '777238': ['Emotion_other', 'Emotion_other'],\n '792284': ['Emotion_other'],\n '794630': ['Doubts_government', 'Doubts_government'],\n '797047': ['Emotion_other', 'Emotion_other'],\n '801796': ['Doubts_Army'],\n '801846': ['Emotion_Fear'],\n '801877': ['Doubts_government'],\n '802043': ['Emotion_Fear'],\n '802156': ['Doubts_partners'],\n '802186': ['Doubts_media', 'Doubts_media'],\n '802416': ['Doubts_government', 'Doubts_government'],\n '802455': ['Emotion_Fear'],\n '802588': ['Doubts_government', 'Doubts_government'],\n '802654': ['Doubts_government'],\n '802688': ['Emotion_Anger',\n  'Emotion_Anger',\n  'Emotion_other',\n  'Emotion_other'],\n '802717': ['Emotion_Fear'],\n '802841': ['Black_White', 'Doubts_Army'],\n '802910': ['Doubts_media', 'Doubts_media', 'Emotion_Anger'],\n '803053': ['Emotion_Hate_Disgust'],\n '803277': ['Emotion_Fear'],\n '803349': ['Emotion_Anger'],\n '876011': ['Doubts_Army'],\n '876405': ['Black_White', 'Black_White'],\n '876435': ['Doubts_media', 'Doubts_media'],\n '876440': ['Black_White'],\n '876460': ['Doubts_media', 'Doubts_media', 'Emotion_other', 'Doubts_media'],\n '876473': ['Emotion_Anger'],\n '876676': ['Emotion_Fear'],\n '876756': ['Emotion_Fear', 'Emotion_Fear'],\n '876983': ['Emotion_Fear'],\n '877206': ['Emotion_other'],\n '877285': ['Emotion_other', 'Emotion_other'],\n '877338': ['Emotion_other'],\n '877432': ['Emotion_Anger'],\n '877446': ['Emotion_Anger'],\n '877499': ['Emotion_Anger'],\n '877549': ['Emotion_other'],\n '877553': ['Emotion_Fear'],\n '877583': ['Emotion_Fear', 'Emotion_Hate_Disgust'],\n '891507': ['Emotion_Anger'],\n '891798': ['Emotion_other', 'Emotion_other'],\n '891809': ['Emotion_Fear'],\n '892072': ['Emotion_other', 'Emotion_other', 'Emotion_other'],\n '892319': ['Emotion_Anger', 'Emotion_Fear'],\n '892328': ['Emotion_other'],\n '892422': ['Emotion_Fear'],\n '892576': ['Emotion_Fear'],\n '892597': ['Emotion_other', 'Emotion_Anger'],\n '892605': ['Emotion_other'],\n '892611': ['Emotion_Fear'],\n '976198': ['Emotion_Hate_Disgust'],\n '976215': ['Doubts_government',\n  'Emotion_Anger',\n  'Doubts_government',\n  'Emotion_Anger'],\n '976263': ['Emotion_Fear', 'Emotion_other'],\n '976277': ['Emotion_Fear', 'Emotion_Fear'],\n '976469': ['Emotion_Fear'],\n '976563': ['Emotion_other'],\n '976800': ['Emotion_Fear'],\n '976803': ['Emotion_other', 'Emotion_Anger'],\n '976804': ['Emotion_Anger', 'Emotion_Anger'],\n '977061': ['Doubts_government', 'Doubts_government', 'Emotion_Hate_Disgust'],\n '977143': ['Emotion_Fear', 'Emotion_Fear', 'Emotion_other'],\n '977229': ['Emotion_Fear', 'Emotion_other'],\n '977272': ['Emotion_Fear', 'Emotion_other', 'Emotion_other'],\n '977350': ['Doubts_government'],\n '977633': ['Emotion_Fear', 'Emotion_other'],\n '977821': ['Doubts_government', 'Doubts_government'],\n '994944': ['Emotion_Fear'],\n '994945': ['Emotion_Anger'],\n '994950': ['Doubts_other', 'Emotion_other'],\n '994959': ['Doubts_government'],\n '995043': ['Emotion_Fear'],\n '995095': ['Emotion_Fear', 'Emotion_Anger', 'Emotion_Anger', 'Emotion_other'],\n '995233': ['Emotion_Hate_Disgust'],\n '995259': ['Black_White'],\n '995303': ['Emotion_Anger'],\n '995365': ['Doubts_Army', 'Doubts_Army', 'Doubts_Army'],\n '995481': ['Emotion_Fear', 'Emotion_Fear'],\n '995502': ['Emotion_other', 'Emotion_other'],\n '995698': ['Doubts_partners',\n  'Doubts_partners',\n  'Doubts_partners',\n  'Emotion_other'],\n '995736': ['Emotion_Anger'],\n '995781': ['Emotion_Fear'],\n '995921': ['Emotion_other'],\n '996020': ['Emotion_Hate_Disgust', 'Emotion_other', 'Emotion_Hate_Disgust'],\n '996071': ['Doubts_government', 'Doubts_government', 'Doubts_government'],\n '996136': ['Emotion_Anger'],\n '1062476': ['Black_White', 'Doubts_media', 'Emotion_other'],\n '1062649': ['Doubts_government'],\n '1062744': ['Emotion_other'],\n '1062751': ['Doubts_media', 'Doubts_media'],\n '1063001': ['Emotion_other', 'Emotion_other'],\n '1063058': ['Emotion_Anger'],\n '1063082': ['Emotion_Anger', 'Emotion_Anger'],\n '1063217': ['Emotion_Anger', 'Emotion_Anger'],\n '1063340': ['Emotion_Fear', 'Emotion_Anger'],\n '1063449': ['Emotion_Fear'],\n '1063878': ['Doubts_government'],\n '1063972': ['Emotion_other', 'Emotion_Fear', 'Emotion_other'],\n '1063974': ['Emotion_other'],\n '1064259': ['Emotion_Fear', 'Emotion_other'],\n '1064583': ['Emotion_Anger'],\n '1064621': ['Emotion_Fear'],\n '1064686': ['Emotion_other', 'Emotion_other'],\n '1064697': ['Doubts_government', 'Emotion_Anger'],\n '1064793': ['Emotion_other'],\n '1064924': ['Emotion_other'],\n '1064979': ['Emotion_other'],\n '1065013': ['Emotion_Anger'],\n '1065132': ['Emotion_other'],\n '1065183': ['Emotion_Anger'],\n '1065286': ['Emotion_Hate_Disgust'],\n '1065320': ['Emotion_other', 'Emotion_other', 'Emotion_other'],\n '1065537': ['Emotion_Fear'],\n '1065542': ['Emotion_other'],\n '1065588': ['Black_White', 'Emotion_Anger'],\n '1065806': ['Emotion_Hate_Disgust'],\n '1066016': ['Emotion_other', 'Emotion_other'],\n '1066110': ['Emotion_other'],\n '1066201': ['Doubts_government'],\n '1066310': ['Emotion_other'],\n '1066327': ['Emotion_Fear', 'Emotion_Fear', 'Emotion_other'],\n '1066644': ['Emotion_Fear', 'Emotion_other'],\n '1066957': ['Emotion_Anger', 'Emotion_Hate_Disgust', 'Emotion_other'],\n '1066977': ['Emotion_Fear', 'Emotion_other'],\n '1067103': ['Emotion_other'],\n '1067184': ['Doubts_government'],\n '1067215': ['Emotion_Anger'],\n '1067344': ['Emotion_Anger', 'Emotion_other'],\n '1067452': ['Emotion_Fear'],\n '1067455': ['Emotion_Hate_Disgust'],\n '1067594': ['Emotion_Fear', 'Emotion_Anger'],\n '1067731': ['Emotion_Hate_Disgust'],\n '1067807': ['Doubts_government'],\n '1067892': ['Emotion_Hate_Disgust', 'Emotion_other', 'Emotion_other'],\n '1067966': ['Emotion_Anger', 'Emotion_Anger'],\n '1067977': ['Emotion_Anger', 'Emotion_Anger'],\n '1068004': ['Emotion_Anger'],\n '1068196': ['Doubts_government', 'Emotion_Anger'],\n '1068244': ['Emotion_Fear'],\n '1068288': ['Emotion_Hate_Disgust'],\n '1068350': ['Emotion_Fear', 'Emotion_Hate_Disgust'],\n '1068454': ['Emotion_Hate_Disgust'],\n '1074902': ['Doubts_government', 'Emotion_Anger'],\n '1074939': ['Doubts_government',\n  'Emotion_Hate_Disgust',\n  'Black_White',\n  'Doubts_government',\n  'Doubts_government'],\n '1074947': ['Emotion_other'],\n '1075036': ['Doubts_government'],\n '1075127': ['Doubts_government', 'Doubts_government'],\n '1075163': ['Emotion_Anger'],\n '1075194': ['Black_White', 'Black_White'],\n '1075263': ['Emotion_Fear'],\n '1075278': ['Emotion_other'],\n '1075286': ['Emotion_other'],\n '1075301': ['Emotion_other', 'Emotion_other'],\n '1075304': ['Emotion_Fear'],\n '1075334': ['Emotion_Fear'],\n '1075434': ['Emotion_Fear'],\n '1075471': ['Emotion_Anger'],\n '1075584': ['Emotion_Anger', 'Doubts_government'],\n '1075637': ['Emotion_Fear'],\n '1075659': ['Doubts_government'],\n '1075766': ['Emotion_other', 'Emotion_Anger', 'Emotion_Anger'],\n '1075797': ['Emotion_Hate_Disgust'],\n '1075801': ['Emotion_Anger', 'Doubts_government', 'Emotion_Anger'],\n '1075982': ['Emotion_Anger',\n  'Emotion_other',\n  'Emotion_other',\n  'Emotion_Anger'],\n '1076104': ['Emotion_other', 'Emotion_other'],\n '1076138': ['Emotion_Fear'],\n '1076195': ['Emotion_Anger'],\n '1076236': ['Emotion_Hate_Disgust'],\n '1076258': ['Emotion_other'],\n '1076406': ['Emotion_Anger'],\n '1079786': ['Emotion_Fear', 'Emotion_Anger'],\n '1079815': ['Emotion_Fear', 'Emotion_Fear', 'Emotion_Fear'],\n '1079855': ['Doubts_government'],\n '1079893': ['Emotion_other'],\n '1079958': ['Emotion_Anger'],\n '1080029': ['Black_White'],\n '1080050': ['Emotion_Hate_Disgust'],\n '1080157': ['Emotion_Hate_Disgust', 'Emotion_Anger', 'Emotion_Hate_Disgust'],\n '1080679': ['Emotion_Hate_Disgust',\n  'Emotion_Hate_Disgust',\n  'Emotion_Hate_Disgust'],\n '1080700': ['Doubts_government'],\n '1080725': ['Emotion_Anger'],\n '1080847': ['Emotion_Hate_Disgust', 'Emotion_Hate_Disgust'],\n '1080962': ['Emotion_Hate_Disgust'],\n '1082585': ['Emotion_Hate_Disgust'],\n '1082713': ['Emotion_other'],\n '1082931': ['Black_White'],\n '1082998': ['Emotion_Anger'],\n '1083107': ['Emotion_Anger'],\n '1083120': ['Doubts_government', 'Emotion_other'],\n '1083357': ['Emotion_Fear', 'Emotion_other'],\n '1083498': ['Emotion_other', 'Emotion_other', 'Black_White'],\n '1083568': ['Emotion_other', 'Emotion_other', 'Black_White'],\n '1083606': ['Emotion_Anger'],\n '1083638': ['Doubts_partners', 'Doubts_government'],\n '1083733': ['Emotion_Anger'],\n '1083810': ['Emotion_Anger'],\n '1083934': ['Emotion_Fear'],\n '1084067': ['Doubts_government'],\n '1084781': ['Emotion_other', 'Emotion_Anger'],\n '1110222': ['Black_White', 'Emotion_other'],\n '1110254': ['Black_White', 'Emotion_other', 'Emotion_other'],\n '1110282': ['Emotion_Hate_Disgust', 'Emotion_Hate_Disgust'],\n '1110351': ['Emotion_other', 'Emotion_other'],\n '1110358': ['Doubts_government',\n  'Emotion_other',\n  'Doubts_government',\n  'Emotion_other'],\n '1110466': ['Emotion_other'],\n '1110599': ['Emotion_Hate_Disgust', 'Emotion_Hate_Disgust'],\n '1110627': ['Emotion_Hate_Disgust'],\n '1110629': ['Emotion_Fear'],\n '1110651': ['Emotion_other'],\n '1110715': ['Emotion_other'],\n '1110792': ['Doubts_Army', 'Doubts_Army'],\n '1110937': ['Emotion_other', 'Emotion_Fear'],\n '1110946': ['Emotion_other', 'Emotion_Fear'],\n '1111034': ['Emotion_other', 'Emotion_Fear'],\n '1111052': ['Emotion_other',\n  'Emotion_other',\n  'Emotion_other',\n  'Emotion_other'],\n '1111115': ['Emotion_other', 'Emotion_other'],\n '1111260': ['Emotion_Hate_Disgust', 'Emotion_Anger'],\n '1111279': ['Emotion_Hate_Disgust',\n  'Emotion_other',\n  'Emotion_Anger',\n  'Doubts_other',\n  'Emotion_Anger'],\n '1111384': ['Emotion_Fear', 'Emotion_other', 'Emotion_other'],\n '1111460': ['Emotion_other', 'Emotion_Hate_Disgust'],\n '1113785': ['Doubts_government'],\n '1114018': ['Emotion_other', 'Emotion_other', 'Emotion_Anger'],\n '1114030': ['Emotion_Fear', 'Emotion_Fear', 'Emotion_Anger'],\n '1114060': ['Emotion_other'],\n '1114071': ['Emotion_Anger', 'Emotion_other'],\n '1114176': ['Emotion_Fear'],\n '1114299': ['Emotion_Hate_Disgust'],\n '1114652': ['Emotion_Hate_Disgust', 'Emotion_Anger'],\n '1115375': ['Emotion_other'],\n '1115671': ['Emotion_Fear', 'Emotion_other'],\n '1115716': ['Emotion_Anger'],\n '1115975': ['Emotion_other'],\n '1115991': ['Emotion_Fear', 'Emotion_other', 'Emotion_other'],\n '1116073': ['Emotion_Fear'],\n '1116321': ['Emotion_Fear'],\n '1116370': ['Doubts_government'],\n '1116372': ['Emotion_other', 'Emotion_Fear'],\n '1116602': ['Emotion_other', 'Emotion_Anger'],\n '1116670': ['Emotion_Hate_Disgust', 'Emotion_Hate_Disgust', 'Emotion_other'],\n '1116673': ['Emotion_Anger', 'Emotion_other', 'Emotion_Hate_Disgust'],\n '1116920': ['Emotion_Hate_Disgust', 'Emotion_Hate_Disgust'],\n '1116926': ['Emotion_Hate_Disgust',\n  'Emotion_Hate_Disgust',\n  'Emotion_Hate_Disgust'],\n '1117149': ['Emotion_other', 'Emotion_Hate_Disgust', 'Emotion_Hate_Disgust'],\n '1117185': ['Emotion_Fear'],\n '1117246': ['Emotion_Hate_Disgust'],\n '1117560': ['Emotion_other'],\n '1117730': ['Doubts_government'],\n '1117770': ['Emotion_Fear', 'Emotion_Fear'],\n '1117804': ['Emotion_Fear'],\n '1117902': ['Doubts_government'],\n '1117978': ['Doubts_partners'],\n '1118015': ['Emotion_Fear', 'Emotion_Anger'],\n '1118016': ['Emotion_other', 'Doubts_government'],\n '1118019': ['Emotion_Anger'],\n '1118029': ['Emotion_other', 'Emotion_other'],\n '1118036': ['Emotion_other'],\n '1118048': ['Emotion_Hate_Disgust', 'Emotion_Hate_Disgust'],\n '1128308': ['Emotion_other', 'Emotion_Anger'],\n '1128353': ['Emotion_Hate_Disgust'],\n '1128438': ['Black_White', 'Emotion_other', 'Emotion_other'],\n '1128521': ['Doubts_government'],\n '1128588': ['Black_White', 'Black_White'],\n '1128743': ['Emotion_Fear'],\n '1128754': ['Emotion_Anger'],\n '1128817': ['Emotion_Fear', 'Emotion_other'],\n '1128845': ['Emotion_Fear'],\n '1128875': ['Emotion_Fear', 'Emotion_other'],\n '1129020': ['Doubts_government', 'Emotion_other'],\n '1129038': ['Emotion_Fear'],\n '1129158': ['Emotion_other', 'Emotion_other'],\n '1129172': ['Emotion_other', 'Emotion_other', 'Doubts_government'],\n '1129422': ['Emotion_Hate_Disgust'],\n '1129525': ['Emotion_other'],\n '1129629': ['Doubts_government'],\n '1129764': ['Emotion_Fear'],\n '1129902': ['Emotion_Fear'],\n '1155514': ['Emotion_Hate_Disgust',\n  'Emotion_Hate_Disgust',\n  'Emotion_Hate_Disgust',\n  'Emotion_Hate_Disgust',\n  'Emotion_Hate_Disgust'],\n '1161134': ['Doubts_Army', 'Emotion_other', 'Doubts_Army', 'Doubts_Army'],\n '1162452': ['Emotion_other'],\n '1223264': ['Doubts_government',\n  'Doubts_government',\n  'Emotion_Anger',\n  'Doubts_government',\n  'Emotion_other',\n  'Doubts_government',\n  'Doubts_government',\n  'Emotion_other',\n  'Emotion_other',\n  'Emotion_other',\n  'Doubts_government',\n  'Black_White',\n  'Doubts_government'],\n '1223448': ['Emotion_other'],\n '1223457': ['Emotion_other',\n  'Emotion_other',\n  'Emotion_other',\n  'Emotion_other'],\n '1223659': ['Emotion_other', 'Emotion_Fear', 'Emotion_other'],\n '1223660': ['Doubts_Army', 'Doubts_Army', 'Emotion_other'],\n '1223747': ['Emotion_Fear'],\n '1223801': ['Emotion_other',\n  'Emotion_Hate_Disgust',\n  'Emotion_other',\n  'Emotion_other'],\n '1223843': ['Emotion_other',\n  'Emotion_other',\n  'Emotion_other',\n  'Emotion_other',\n  'Emotion_Hate_Disgust'],\n '1223873': ['Emotion_Fear', 'Emotion_Anger'],\n '1224012': ['Emotion_other', 'Emotion_other', 'Emotion_Hate_Disgust'],\n '1224063': ['Emotion_other',\n  'Emotion_Hate_Disgust',\n  'Emotion_other',\n  'Emotion_Hate_Disgust',\n  'Emotion_other',\n  'Black_White',\n  'Emotion_other'],\n '1224080': ['Doubts_government'],\n '1224198': ['Doubts_government'],\n '1224231': ['Doubts_government', 'Emotion_Hate_Disgust'],\n '1224608': ['Emotion_Anger'],\n '1224622': ['Emotion_Anger',\n  'Emotion_other',\n  'Doubts_government',\n  'Emotion_other'],\n '1224688': ['Emotion_Hate_Disgust', 'Emotion_other'],\n '1224881': ['Doubts_government',\n  'Doubts_government',\n  'Doubts_government',\n  'Emotion_Anger',\n  'Emotion_Anger'],\n '1224959': ['Emotion_Hate_Disgust', 'Emotion_Hate_Disgust'],\n '1225092': ['Emotion_Hate_Disgust', 'Emotion_other', 'Emotion_other'],\n '1225188': ['Emotion_Hate_Disgust',\n  'Emotion_Hate_Disgust',\n  'Emotion_Hate_Disgust'],\n '1330117': ['Doubts_government'],\n '1330328': ['Emotion_Anger', 'Doubts_government', 'Emotion_other'],\n '1330345': ['Doubts_government'],\n '1330349': ['Emotion_Anger', 'Emotion_other'],\n '1330489': ['Doubts_Army',\n  'Emotion_Hate_Disgust',\n  'Emotion_Anger',\n  'Doubts_Army',\n  'Doubts_Army',\n  'Doubts_Army'],\n '1330578': ['Emotion_Hate_Disgust'],\n '1331060': ['Emotion_Hate_Disgust', 'Emotion_Hate_Disgust', 'Emotion_other'],\n '1331161': ['Emotion_Anger', 'Emotion_Anger'],\n '1331264': ['Emotion_Hate_Disgust'],\n '1335179': ['Doubts_government', 'Doubts_government'],\n '1336028': ['Emotion_Hate_Disgust'],\n '1365474': ['Emotion_Anger'],\n '1368856': ['Doubts_Army', 'Emotion_Fear'],\n '1371784': ['Emotion_other'],\n '1494526': ['Emotion_other'],\n '1500974': ['Emotion_Anger'],\n '1512748': ['Doubts_government'],\n '1512844': ['Doubts_government',\n  'Doubts_government',\n  'Doubts_government',\n  'Emotion_other',\n  'Emotion_other'],\n '1519503': ['Emotion_other'],\n '1526071': ['Emotion_other', 'Emotion_other', 'Emotion_other'],\n '1528744': ['Emotion_other'],\n '1530894': ['Emotion_other'],\n '1534112': ['Emotion_other', 'Emotion_other'],\n '1538810': ['Emotion_Fear'],\n '1539029': ['Emotion_Fear'],\n '1539105': ['Emotion_other', 'Emotion_Fear'],\n '1539119': ['Doubts_government', 'Doubts_government'],\n '1539192': ['Emotion_other'],\n '1539234': ['Emotion_Anger', 'Emotion_other'],\n '1539312': ['Emotion_Anger', 'Doubts_partners'],\n '1539446': ['Emotion_Anger'],\n '1539657': ['Emotion_Anger',\n  'Emotion_Anger',\n  'Black_White',\n  'Doubts_government'],\n '1539700': ['Emotion_Fear',\n  'Emotion_other',\n  'Emotion_other',\n  'Emotion_other',\n  'Emotion_Fear'],\n '1539710': ['Emotion_Fear', 'Emotion_other', 'Emotion_Hate_Disgust'],\n '1539862': ['Emotion_other', 'Emotion_other'],\n '1539954': ['Emotion_Anger',\n  'Emotion_Hate_Disgust',\n  'Emotion_Hate_Disgust',\n  'Emotion_Hate_Disgust'],\n '1539963': ['Emotion_Fear', 'Emotion_other'],\n '1539965': ['Doubts_government'],\n '1540144': ['Doubts_government'],\n '1540219': ['Emotion_other', 'Emotion_other'],\n '1545208': ['Doubts_Army', 'Doubts_Army'],\n '1546289': ['Emotion_other',\n  'Emotion_Hate_Disgust',\n  'Emotion_other',\n  'Emotion_other',\n  'Emotion_Hate_Disgust',\n  'Emotion_other'],\n '1547276': ['Emotion_other'],\n '1547861': ['Emotion_other'],\n '1567516': ['Doubts_Army'],\n '1569884': ['Doubts_media', 'Emotion_other'],\n '1573118': ['Emotion_other', 'Emotion_Anger'],\n '1609677': ['Emotion_Anger', 'Emotion_Anger'],\n '1624078': ['Emotion_other',\n  'Doubts_government',\n  'Emotion_Anger',\n  'Emotion_Anger'],\n '1624645': ['Black_White',\n  'Emotion_other',\n  'Emotion_other',\n  'Emotion_other',\n  'Black_White'],\n '1627219': ['Doubts_media', 'Doubts_media', 'Emotion_Anger'],\n '1631344': ['Emotion_Hate_Disgust'],\n '1631492': ['Emotion_other', 'Emotion_other', 'Doubts_government'],\n '1632762': ['Black_White'],\n '1632850': ['Emotion_other',\n  'Doubts_partners',\n  'Black_White',\n  'Emotion_other'],\n '1633033': ['Doubts_government', 'Doubts_government', 'Emotion_Anger'],\n '1636639': ['Emotion_Anger'],\n '1636685': ['Emotion_other', 'Doubts_partners', 'Doubts_partners']}"
     },
     "execution_count": 12,
     "metadata": {},
     "output_type": "execute_result"
    }
   ],
   "source": [
    "true_file = \"datasets/TC.labels_true.txt\"\n",
    "\n",
    "# Initialize dictionaries to store IDs and techniques\n",
    "true_dict = {}\n",
    "\n",
    "# Read contents of TC.labels_true.txt\n",
    "with open(true_file, \"r\") as true_f:\n",
    "    true_reader = csv.reader(true_f, delimiter=\"\\t\")\n",
    "    for row in true_reader:\n",
    "        id_ = row[0]\n",
    "        technique = row[1]\n",
    "        if id_ not in true_dict:\n",
    "            true_dict[id_] = [technique]\n",
    "        else:\n",
    "            true_dict[id_].append(technique)\n",
    "true_dict"
   ],
   "metadata": {
    "collapsed": false,
    "ExecuteTime": {
     "end_time": "2024-05-16T22:26:52.656548900Z",
     "start_time": "2024-05-16T22:26:52.607549700Z"
    }
   },
   "id": "9ce2ca09e00da0af",
   "execution_count": 12
  },
  {
   "cell_type": "code",
   "outputs": [
    {
     "data": {
      "text/plain": "{'209813': ['Emotion_other',\n  'Doubts_other',\n  'Emotion_Hate_Disgust',\n  'Doubts_other'],\n '210028': ['Doubts_partners'],\n '210117': ['Doubts_partners'],\n '210306': ['Doubts_Army'],\n '210365': ['Emotion_Anger'],\n '210441': ['Doubts_Army'],\n '210456': ['Doubts_government', 'Doubts_media', 'Doubts_Army'],\n '210467': ['Doubts_partners'],\n '210735': ['Black_White', 'Emotion_other'],\n '210911': ['Emotion_Anger'],\n '210965': ['Doubts_media', 'Doubts_media'],\n '211009': ['Doubts_partners'],\n '211048': ['Emotion_Anger', 'Doubts_Army'],\n '211326': ['Doubts_media'],\n '211371': ['Doubts_media'],\n '211402': ['Doubts_other'],\n '211495': ['Emotion_Fear',\n  'Doubts_Army',\n  'Black_White',\n  'Doubts_partners',\n  'Doubts_other',\n  'Emotion_Fear',\n  'Doubts_other'],\n '211632': ['Emotion_Fear', 'Doubts_partners'],\n '211885': ['Doubts_government'],\n '212018': ['Doubts_other', 'Doubts_Army'],\n '212074': ['Black_White', 'Emotion_other'],\n '212219': ['Doubts_media'],\n '212307': ['Doubts_government'],\n '212315': ['Black_White'],\n '315106': ['Doubts_media', 'Emotion_Fear', 'Emotion_Hate_Disgust'],\n '315181': ['Emotion_other', 'Black_White'],\n '315382': ['Emotion_Anger'],\n '315387': ['Black_White', 'Doubts_government'],\n '315445': ['Emotion_Anger'],\n '315453': ['Doubts_other'],\n '315491': ['Emotion_Anger'],\n '315628': ['Black_White', 'Doubts_media'],\n '315663': ['Doubts_other', 'Doubts_Army', 'Black_White'],\n '315684': ['Black_White'],\n '315688': ['Emotion_Fear', 'Black_White', 'Black_White'],\n '315803': ['Emotion_other', 'Doubts_partners'],\n '315848': ['Emotion_Fear'],\n '315987': ['Doubts_other'],\n '315995': ['Emotion_Anger',\n  'Doubts_partners',\n  'Doubts_media',\n  'Emotion_Fear',\n  'Emotion_Anger',\n  'Emotion_Hate_Disgust'],\n '316047': ['Doubts_other', 'Emotion_Hate_Disgust', 'Doubts_partners'],\n '316205': ['Doubts_other'],\n '316222': ['Doubts_media'],\n '316248': ['Emotion_Hate_Disgust',\n  'Doubts_partners',\n  'Doubts_other',\n  'Doubts_partners'],\n '316544': ['Emotion_Hate_Disgust'],\n '316603': ['Doubts_media'],\n '316633': ['Emotion_Fear'],\n '316676': ['Doubts_media'],\n '316698': ['Doubts_government', 'Emotion_other'],\n '316714': ['Doubts_media'],\n '316750': ['Black_White', 'Doubts_government'],\n '316808': ['Black_White', 'Black_White'],\n '321562': ['Doubts_other'],\n '321591': ['Doubts_partners'],\n '321703': ['Emotion_Fear'],\n '321730': ['Doubts_partners'],\n '321742': ['Doubts_government', 'Emotion_Hate_Disgust'],\n '321848': ['Doubts_government', 'Emotion_other', 'Black_White'],\n '321907': ['Emotion_Hate_Disgust'],\n '322088': ['Emotion_Fear',\n  'Emotion_Fear',\n  'Doubts_Army',\n  'Doubts_Army',\n  'Black_White'],\n '322192': ['Doubts_media'],\n '322289': ['Emotion_Fear'],\n '322316': ['Doubts_media', 'Doubts_partners', 'Doubts_government'],\n '322364': ['Emotion_Fear'],\n '322446': ['Doubts_partners', 'Emotion_Fear', 'Doubts_media'],\n '322522': ['Black_White'],\n '322533': ['Doubts_government', 'Black_White', 'Doubts_media'],\n '322649': ['Doubts_Army', 'Doubts_Army', 'Doubts_government'],\n '322723': ['Emotion_other', 'Doubts_partners'],\n '322805': ['Emotion_other', 'Emotion_other'],\n '322838': ['Doubts_media', 'Doubts_other'],\n '322869': ['Doubts_media', 'Doubts_Army', 'Emotion_other'],\n '322926': ['Doubts_partners', 'Doubts_government'],\n '322958': ['Doubts_other'],\n '323009': ['Emotion_Hate_Disgust', 'Doubts_government'],\n '323118': ['Emotion_Hate_Disgust',\n  'Black_White',\n  'Doubts_other',\n  'Doubts_partners',\n  'Doubts_other'],\n '323295': ['Doubts_other'],\n '323357': ['Black_White'],\n '327768': ['Doubts_partners'],\n '334548': ['Emotion_Fear', 'Emotion_other', 'Doubts_partners'],\n '337785': ['Doubts_government',\n  'Emotion_other',\n  'Doubts_partners',\n  'Doubts_government'],\n '358912': ['Emotion_Hate_Disgust'],\n '371408': ['Doubts_media', 'Doubts_media', 'Doubts_partners'],\n '395098': ['Doubts_media',\n  'Emotion_Fear',\n  'Doubts_other',\n  'Emotion_Anger',\n  'Emotion_Hate_Disgust',\n  'Doubts_Army'],\n '397105': ['Doubts_other'],\n '425206': ['Doubts_other'],\n '435253': ['Doubts_media', 'Doubts_media', 'Doubts_government'],\n '443311': ['Doubts_media'],\n '451532': ['Doubts_media'],\n '477269': ['Black_White'],\n '477463': ['Doubts_partners'],\n '477558': ['Emotion_Hate_Disgust'],\n '477620': ['Emotion_Hate_Disgust', 'Emotion_Fear'],\n '477855': ['Doubts_government'],\n '477883': ['Doubts_media'],\n '478037': ['Doubts_other', 'Doubts_partners'],\n '478051': ['Black_White'],\n '478449': ['Emotion_other'],\n '478533': ['Doubts_government'],\n '478668': ['Emotion_Fear', 'Emotion_other'],\n '478691': ['Emotion_Hate_Disgust', 'Emotion_Fear'],\n '479027': ['Black_White'],\n '479109': ['Doubts_government'],\n '479145': ['Doubts_other'],\n '479193': ['Emotion_Fear'],\n '479330': ['Emotion_Anger'],\n '479331': ['Doubts_partners'],\n '543214': ['Doubts_Army', 'Black_White', 'Emotion_other', 'Doubts_partners'],\n '543353': ['Doubts_Army'],\n '543426': ['Doubts_partners', 'Doubts_media', 'Black_White'],\n '543450': ['Emotion_other', 'Doubts_government', 'Emotion_Hate_Disgust'],\n '543590': ['Doubts_other', 'Doubts_Army', 'Emotion_Fear'],\n '543604': ['Black_White'],\n '543780': ['Black_White'],\n '543811': ['Emotion_Fear',\n  'Black_White',\n  'Emotion_Hate_Disgust',\n  'Doubts_Army',\n  'Doubts_media'],\n '543890': ['Doubts_partners', 'Black_White', 'Emotion_other'],\n '544073': ['Doubts_media', 'Doubts_partners', 'Doubts_media'],\n '544105': ['Doubts_partners'],\n '544108': ['Doubts_media'],\n '544496': ['Doubts_other'],\n '544498': ['Doubts_media'],\n '544562': ['Doubts_partners', 'Doubts_government', 'Emotion_Anger'],\n '544995': ['Emotion_Hate_Disgust', 'Emotion_Fear', 'Doubts_government'],\n '545232': ['Doubts_media'],\n '545688': ['Doubts_media', 'Emotion_Fear', 'Emotion_Hate_Disgust'],\n '545839': ['Doubts_government'],\n '546097': ['Emotion_Hate_Disgust', 'Black_White'],\n '546121': ['Black_White'],\n '645632': ['Doubts_other'],\n '645656': ['Emotion_Hate_Disgust'],\n '645733': ['Doubts_government', 'Black_White', 'Emotion_Hate_Disgust'],\n '645749': ['Black_White'],\n '646004': ['Doubts_other', 'Emotion_Hate_Disgust'],\n '646074': ['Emotion_other', 'Doubts_government'],\n '646187': ['Emotion_Hate_Disgust', 'Emotion_other', 'Black_White'],\n '646280': ['Emotion_Hate_Disgust'],\n '646444': ['Emotion_other', 'Doubts_partners'],\n '646593': ['Emotion_Anger'],\n '646770': ['Doubts_media'],\n '646907': ['Emotion_other', 'Black_White'],\n '646971': ['Doubts_government', 'Emotion_Fear'],\n '647147': ['Emotion_Fear', 'Emotion_Hate_Disgust'],\n '647164': ['Doubts_government', 'Doubts_government'],\n '647279': ['Doubts_partners'],\n '647343': ['Doubts_partners'],\n '647369': ['Doubts_other'],\n '647435': ['Emotion_other', 'Doubts_other'],\n '714532': ['Doubts_other', 'Doubts_partners'],\n '714557': ['Doubts_other'],\n '714564': ['Black_White', 'Black_White', 'Doubts_other'],\n '714627': ['Emotion_Anger',\n  'Emotion_Hate_Disgust',\n  'Emotion_Fear',\n  'Emotion_other'],\n '714721': ['Doubts_government'],\n '714759': ['Doubts_partners', 'Doubts_other'],\n '714918': ['Doubts_Army',\n  'Emotion_Anger',\n  'Doubts_partners',\n  'Emotion_Hate_Disgust',\n  'Black_White',\n  'Emotion_Hate_Disgust',\n  'Emotion_Fear'],\n '715048': ['Doubts_government'],\n '715087': ['Emotion_Anger'],\n '715117': ['Doubts_other', 'Black_White', 'Emotion_Anger', 'Emotion_Anger'],\n '715171': ['Emotion_Anger'],\n '715282': ['Doubts_government'],\n '715464': ['Doubts_other', 'Doubts_partners'],\n '715546': ['Doubts_partners'],\n '715558': ['Doubts_Army'],\n '715649': ['Black_White'],\n '715688': ['Black_White', 'Doubts_Army', 'Doubts_partners'],\n '716007': ['Doubts_partners'],\n '716078': ['Doubts_other'],\n '716084': ['Doubts_partners', 'Doubts_government', 'Emotion_Anger'],\n '716140': ['Black_White', 'Doubts_Army', 'Doubts_Army', 'Emotion_Anger'],\n '716163': ['Doubts_government',\n  'Emotion_Anger',\n  'Emotion_other',\n  'Emotion_Hate_Disgust'],\n '716283': ['Emotion_Fear'],\n '716353': ['Black_White'],\n '716476': ['Doubts_Army'],\n '716512': ['Doubts_partners'],\n '716540': ['Doubts_other', 'Emotion_Anger'],\n '716723': ['Doubts_media'],\n '716991': ['Emotion_Fear'],\n '717181': ['Doubts_government', 'Emotion_Anger'],\n '717208': ['Doubts_government'],\n '717325': ['Black_White'],\n '717479': ['Emotion_other'],\n '717871': ['Doubts_media'],\n '717912': ['Emotion_Fear', 'Emotion_Fear'],\n '717994': ['Emotion_Anger', 'Black_White'],\n '718083': ['Emotion_Hate_Disgust', 'Emotion_Hate_Disgust'],\n '718354': ['Doubts_Army', 'Emotion_Fear', 'Doubts_Army'],\n '718434': ['Emotion_other', 'Emotion_Hate_Disgust', 'Black_White'],\n '742432': ['Emotion_other',\n  'Doubts_government',\n  'Emotion_other',\n  'Black_White',\n  'Doubts_government'],\n '745402': ['Black_White'],\n '745472': ['Emotion_Anger', 'Doubts_partners'],\n '745912': ['Doubts_partners', 'Doubts_partners'],\n '746033': ['Doubts_partners', 'Doubts_partners'],\n '746058': ['Doubts_partners'],\n '746169': ['Doubts_government'],\n '746306': ['Doubts_government', 'Doubts_Army'],\n '746728': ['Emotion_Hate_Disgust', 'Doubts_other', 'Emotion_Hate_Disgust'],\n '746768': ['Doubts_other'],\n '746869': ['Doubts_partners'],\n '746933': ['Doubts_other'],\n '746954': ['Black_White'],\n '746961': ['Doubts_government'],\n '746989': ['Doubts_partners', 'Doubts_government'],\n '747173': ['Emotion_Anger'],\n '747489': ['Doubts_government'],\n '747549': ['Emotion_Hate_Disgust', 'Emotion_other'],\n '758303': ['Doubts_Army', 'Black_White', 'Doubts_government'],\n '777238': ['Doubts_other', 'Emotion_other'],\n '792284': ['Black_White'],\n '794630': ['Emotion_Anger', 'Doubts_media'],\n '797047': ['Doubts_other', 'Emotion_other'],\n '801796': ['Doubts_government'],\n '801846': ['Doubts_government'],\n '801877': ['Doubts_government'],\n '802043': ['Emotion_Anger'],\n '802156': ['Emotion_Hate_Disgust'],\n '802186': ['Doubts_media', 'Emotion_other'],\n '802416': ['Black_White', 'Emotion_Hate_Disgust'],\n '802455': ['Black_White'],\n '802588': ['Doubts_partners', 'Doubts_government'],\n '802654': ['Doubts_other'],\n '802688': ['Doubts_media', 'Doubts_Army', 'Emotion_Anger', 'Doubts_other'],\n '802717': ['Doubts_Army'],\n '802841': ['Emotion_Hate_Disgust', 'Doubts_other'],\n '802910': ['Doubts_other', 'Black_White', 'Emotion_other'],\n '803053': ['Emotion_Fear'],\n '803277': ['Doubts_media'],\n '803349': ['Doubts_partners'],\n '876011': ['Emotion_Hate_Disgust'],\n '876405': ['Emotion_Hate_Disgust', 'Doubts_government'],\n '876435': ['Emotion_Fear', 'Doubts_partners'],\n '876440': ['Doubts_partners'],\n '876460': ['Doubts_government',\n  'Doubts_other',\n  'Doubts_other',\n  'Black_White'],\n '876473': ['Doubts_government'],\n '876676': ['Doubts_media'],\n '876756': ['Doubts_partners', 'Doubts_Army'],\n '876983': ['Emotion_Hate_Disgust'],\n '877206': ['Emotion_Hate_Disgust'],\n '877285': ['Emotion_Hate_Disgust', 'Emotion_Anger'],\n '877338': ['Emotion_Anger'],\n '877432': ['Doubts_other'],\n '877446': ['Emotion_other'],\n '877499': ['Black_White'],\n '877549': ['Doubts_other'],\n '877553': ['Doubts_government'],\n '877583': ['Doubts_other', 'Emotion_Anger'],\n '891507': ['Emotion_Fear'],\n '891798': ['Emotion_Hate_Disgust', 'Emotion_Anger'],\n '891809': ['Doubts_Army'],\n '892072': ['Doubts_partners', 'Doubts_government', 'Emotion_Hate_Disgust'],\n '892319': ['Emotion_Fear', 'Doubts_media'],\n '892328': ['Black_White'],\n '892422': ['Black_White'],\n '892576': ['Emotion_Hate_Disgust'],\n '892597': ['Doubts_other', 'Doubts_Army'],\n '892605': ['Doubts_other'],\n '892611': ['Emotion_Hate_Disgust'],\n '976198': ['Emotion_Anger'],\n '976215': ['Doubts_Army',\n  'Doubts_media',\n  'Doubts_government',\n  'Emotion_Anger'],\n '976263': ['Black_White', 'Doubts_partners'],\n '976277': ['Emotion_other', 'Emotion_Fear'],\n '976469': ['Emotion_Fear'],\n '976563': ['Doubts_Army'],\n '976800': ['Doubts_Army'],\n '976803': ['Emotion_Anger', 'Doubts_media'],\n '976804': ['Emotion_Anger', 'Emotion_Anger'],\n '977061': ['Emotion_other', 'Emotion_Anger', 'Doubts_other'],\n '977143': ['Emotion_Fear', 'Emotion_other', 'Doubts_government'],\n '977229': ['Emotion_Fear', 'Doubts_other'],\n '977272': ['Doubts_media', 'Doubts_media', 'Doubts_government'],\n '977350': ['Doubts_government'],\n '977633': ['Doubts_other', 'Emotion_Hate_Disgust'],\n '977821': ['Doubts_media', 'Doubts_other'],\n '994944': ['Emotion_Hate_Disgust'],\n '994945': ['Emotion_Fear'],\n '994950': ['Emotion_Hate_Disgust', 'Doubts_other'],\n '994959': ['Doubts_partners'],\n '995043': ['Emotion_Hate_Disgust'],\n '995095': ['Emotion_other',\n  'Doubts_government',\n  'Doubts_government',\n  'Black_White'],\n '995233': ['Emotion_Anger'],\n '995259': ['Emotion_Fear'],\n '995303': ['Emotion_Anger'],\n '995365': ['Emotion_other', 'Doubts_partners', 'Emotion_other'],\n '995481': ['Black_White', 'Doubts_government'],\n '995502': ['Doubts_government', 'Emotion_Hate_Disgust'],\n '995698': ['Doubts_other', 'Doubts_Army', 'Emotion_Fear', 'Black_White'],\n '995736': ['Emotion_Fear'],\n '995781': ['Doubts_partners'],\n '995921': ['Black_White'],\n '996020': ['Doubts_media', 'Doubts_government', 'Emotion_Hate_Disgust'],\n '996071': ['Emotion_Fear', 'Emotion_Anger', 'Emotion_Anger'],\n '996136': ['Doubts_Army'],\n '1062476': ['Emotion_Hate_Disgust', 'Doubts_government', 'Emotion_Anger'],\n '1062649': ['Emotion_Anger'],\n '1062744': ['Emotion_other'],\n '1062751': ['Doubts_Army', 'Doubts_Army'],\n '1063001': ['Doubts_Army', 'Doubts_government'],\n '1063058': ['Doubts_media'],\n '1063082': ['Doubts_Army', 'Emotion_Hate_Disgust'],\n '1063217': ['Emotion_Fear', 'Doubts_government'],\n '1063340': ['Emotion_Anger', 'Doubts_partners'],\n '1063449': ['Emotion_Anger'],\n '1063878': ['Doubts_Army'],\n '1063972': ['Doubts_other', 'Black_White', 'Emotion_Fear'],\n '1063974': ['Doubts_Army'],\n '1064259': ['Emotion_Fear', 'Doubts_Army'],\n '1064583': ['Black_White'],\n '1064621': ['Emotion_Fear'],\n '1064686': ['Doubts_partners', 'Black_White'],\n '1064697': ['Emotion_Hate_Disgust', 'Doubts_government'],\n '1064793': ['Emotion_other'],\n '1064924': ['Doubts_Army'],\n '1064979': ['Doubts_other'],\n '1065013': ['Doubts_government'],\n '1065132': ['Emotion_Fear'],\n '1065183': ['Doubts_government'],\n '1065286': ['Doubts_Army'],\n '1065320': ['Emotion_Fear', 'Emotion_Hate_Disgust', 'Emotion_Anger'],\n '1065537': ['Emotion_Fear'],\n '1065542': ['Emotion_Fear'],\n '1065588': ['Doubts_Army', 'Doubts_government'],\n '1065806': ['Emotion_Fear'],\n '1066016': ['Doubts_partners', 'Doubts_media'],\n '1066110': ['Emotion_other'],\n '1066201': ['Black_White'],\n '1066310': ['Emotion_Fear'],\n '1066327': ['Doubts_government', 'Doubts_media', 'Doubts_other'],\n '1066644': ['Doubts_government', 'Black_White'],\n '1066957': ['Black_White', 'Doubts_Army', 'Emotion_Anger'],\n '1066977': ['Doubts_media', 'Emotion_Fear'],\n '1067103': ['Emotion_Hate_Disgust'],\n '1067184': ['Emotion_Anger'],\n '1067215': ['Doubts_Army'],\n '1067344': ['Emotion_Hate_Disgust', 'Emotion_Hate_Disgust'],\n '1067452': ['Doubts_partners'],\n '1067455': ['Doubts_partners'],\n '1067594': ['Doubts_government', 'Emotion_other'],\n '1067731': ['Emotion_Anger'],\n '1067807': ['Emotion_Fear'],\n '1067892': ['Doubts_government', 'Doubts_government', 'Emotion_other'],\n '1067966': ['Emotion_Hate_Disgust', 'Emotion_Anger'],\n '1067977': ['Emotion_Fear', 'Emotion_Anger'],\n '1068004': ['Emotion_other'],\n '1068196': ['Emotion_Fear', 'Emotion_Hate_Disgust'],\n '1068244': ['Emotion_other'],\n '1068288': ['Doubts_partners'],\n '1068350': ['Doubts_other', 'Emotion_other'],\n '1068454': ['Doubts_media'],\n '1074902': ['Doubts_media', 'Emotion_Anger'],\n '1074939': ['Doubts_partners',\n  'Emotion_Hate_Disgust',\n  'Doubts_other',\n  'Doubts_government',\n  'Doubts_other'],\n '1074947': ['Black_White'],\n '1075036': ['Emotion_Fear'],\n '1075127': ['Doubts_Army', 'Emotion_Anger'],\n '1075163': ['Emotion_Hate_Disgust'],\n '1075194': ['Black_White', 'Doubts_Army'],\n '1075263': ['Emotion_Anger'],\n '1075278': ['Doubts_Army'],\n '1075286': ['Doubts_other'],\n '1075301': ['Doubts_government', 'Emotion_Fear'],\n '1075304': ['Emotion_Fear'],\n '1075334': ['Doubts_Army'],\n '1075434': ['Doubts_partners'],\n '1075471': ['Doubts_other'],\n '1075584': ['Doubts_Army', 'Doubts_other'],\n '1075637': ['Black_White'],\n '1075659': ['Emotion_Hate_Disgust'],\n '1075766': ['Black_White', 'Black_White', 'Doubts_government'],\n '1075797': ['Doubts_government'],\n '1075801': ['Doubts_media', 'Emotion_Anger', 'Emotion_other'],\n '1075982': ['Doubts_partners',\n  'Doubts_other',\n  'Emotion_Anger',\n  'Emotion_Anger'],\n '1076104': ['Doubts_Army', 'Emotion_other'],\n '1076138': ['Doubts_partners'],\n '1076195': ['Doubts_partners'],\n '1076236': ['Doubts_other'],\n '1076258': ['Doubts_media'],\n '1076406': ['Emotion_Anger'],\n '1079786': ['Emotion_Anger', 'Emotion_Fear'],\n '1079815': ['Doubts_other', 'Emotion_Hate_Disgust', 'Doubts_government'],\n '1079855': ['Doubts_partners'],\n '1079893': ['Doubts_media'],\n '1079958': ['Emotion_Hate_Disgust'],\n '1080029': ['Emotion_Fear'],\n '1080050': ['Doubts_media'],\n '1080157': ['Doubts_other', 'Emotion_other', 'Doubts_partners'],\n '1080679': ['Emotion_Fear', 'Doubts_Army', 'Emotion_Anger'],\n '1080700': ['Emotion_Anger'],\n '1080725': ['Emotion_Anger'],\n '1080847': ['Emotion_Fear', 'Doubts_Army'],\n '1080962': ['Emotion_Anger'],\n '1082585': ['Doubts_partners'],\n '1082713': ['Doubts_Army'],\n '1082931': ['Doubts_government'],\n '1082998': ['Doubts_media'],\n '1083107': ['Doubts_media'],\n '1083120': ['Doubts_partners', 'Doubts_media'],\n '1083357': ['Doubts_media', 'Emotion_Anger'],\n '1083498': ['Doubts_Army', 'Doubts_partners', 'Doubts_media'],\n '1083568': ['Emotion_other', 'Doubts_partners', 'Emotion_Fear'],\n '1083606': ['Doubts_Army'],\n '1083638': ['Doubts_partners', 'Doubts_Army'],\n '1083733': ['Emotion_Anger'],\n '1083810': ['Doubts_other'],\n '1083934': ['Emotion_Anger'],\n '1084067': ['Emotion_Hate_Disgust'],\n '1084781': ['Emotion_Anger', 'Emotion_other'],\n '1110222': ['Doubts_other', 'Emotion_Fear'],\n '1110254': ['Doubts_other', 'Doubts_partners', 'Doubts_partners'],\n '1110282': ['Emotion_Anger', 'Doubts_media'],\n '1110351': ['Black_White', 'Emotion_Fear'],\n '1110358': ['Doubts_media',\n  'Emotion_other',\n  'Emotion_Hate_Disgust',\n  'Emotion_Anger'],\n '1110466': ['Doubts_media'],\n '1110599': ['Doubts_government', 'Doubts_Army'],\n '1110627': ['Emotion_Hate_Disgust'],\n '1110629': ['Doubts_media'],\n '1110651': ['Emotion_Hate_Disgust'],\n '1110715': ['Doubts_other'],\n '1110792': ['Doubts_media', 'Black_White'],\n '1110937': ['Emotion_Hate_Disgust', 'Emotion_other'],\n '1110946': ['Doubts_Army', 'Emotion_other'],\n '1111034': ['Emotion_Fear', 'Emotion_Anger'],\n '1111052': ['Doubts_government',\n  'Doubts_media',\n  'Doubts_media',\n  'Black_White'],\n '1111115': ['Emotion_Anger', 'Emotion_other'],\n '1111260': ['Doubts_other', 'Doubts_government'],\n '1111279': ['Emotion_Hate_Disgust',\n  'Doubts_government',\n  'Doubts_Army',\n  'Black_White',\n  'Emotion_other'],\n '1111384': ['Doubts_partners', 'Emotion_Fear', 'Emotion_Fear'],\n '1111460': ['Doubts_other', 'Black_White'],\n '1113785': ['Emotion_Hate_Disgust'],\n '1114018': ['Doubts_government', 'Doubts_government', 'Emotion_Fear'],\n '1114030': ['Doubts_government', 'Emotion_Fear', 'Doubts_Army'],\n '1114060': ['Doubts_partners'],\n '1114071': ['Emotion_other', 'Emotion_Hate_Disgust'],\n '1114176': ['Emotion_other'],\n '1114299': ['Doubts_government'],\n '1114652': ['Doubts_government', 'Doubts_Army'],\n '1115375': ['Emotion_Fear'],\n '1115671': ['Black_White', 'Emotion_Hate_Disgust'],\n '1115716': ['Emotion_other'],\n '1115975': ['Doubts_media'],\n '1115991': ['Doubts_government', 'Emotion_Fear', 'Doubts_media'],\n '1116073': ['Black_White'],\n '1116321': ['Emotion_Fear'],\n '1116370': ['Doubts_government'],\n '1116372': ['Emotion_Anger', 'Emotion_Hate_Disgust'],\n '1116602': ['Doubts_other', 'Doubts_media'],\n '1116670': ['Emotion_other', 'Emotion_Hate_Disgust', 'Emotion_Hate_Disgust'],\n '1116673': ['Emotion_Anger', 'Emotion_Anger', 'Emotion_other'],\n '1116920': ['Emotion_Hate_Disgust', 'Emotion_Hate_Disgust'],\n '1116926': ['Emotion_Fear', 'Emotion_other', 'Emotion_other'],\n '1117149': ['Emotion_Fear', 'Black_White', 'Doubts_partners'],\n '1117185': ['Emotion_Fear'],\n '1117246': ['Doubts_other'],\n '1117560': ['Emotion_Fear'],\n '1117730': ['Doubts_media'],\n '1117770': ['Doubts_other', 'Doubts_media'],\n '1117804': ['Doubts_government'],\n '1117902': ['Emotion_Fear'],\n '1117978': ['Doubts_partners'],\n '1118015': ['Emotion_Anger', 'Emotion_Anger'],\n '1118016': ['Emotion_Hate_Disgust', 'Black_White'],\n '1118019': ['Doubts_media'],\n '1118029': ['Doubts_government', 'Doubts_media'],\n '1118036': ['Black_White'],\n '1118048': ['Emotion_Anger', 'Doubts_media'],\n '1128308': ['Emotion_Hate_Disgust', 'Doubts_partners'],\n '1128353': ['Black_White'],\n '1128438': ['Doubts_government', 'Doubts_media', 'Emotion_Anger'],\n '1128521': ['Emotion_Hate_Disgust'],\n '1128588': ['Black_White', 'Doubts_government'],\n '1128743': ['Doubts_Army'],\n '1128754': ['Black_White'],\n '1128817': ['Emotion_other', 'Doubts_government'],\n '1128845': ['Emotion_Hate_Disgust'],\n '1128875': ['Emotion_Fear', 'Black_White'],\n '1129020': ['Black_White', 'Emotion_Fear'],\n '1129038': ['Emotion_Fear'],\n '1129158': ['Emotion_Hate_Disgust', 'Emotion_Anger'],\n '1129172': ['Emotion_Anger', 'Doubts_partners', 'Doubts_government'],\n '1129422': ['Emotion_Fear'],\n '1129525': ['Doubts_government'],\n '1129629': ['Emotion_other'],\n '1129764': ['Doubts_partners'],\n '1129902': ['Doubts_partners'],\n '1155514': ['Emotion_Fear',\n  'Doubts_media',\n  'Doubts_partners',\n  'Emotion_other',\n  'Doubts_Army'],\n '1161134': ['Emotion_other',\n  'Doubts_media',\n  'Emotion_Anger',\n  'Doubts_government'],\n '1162452': ['Emotion_Anger'],\n '1223264': ['Doubts_other',\n  'Doubts_media',\n  'Emotion_Fear',\n  'Doubts_media',\n  'Doubts_Army',\n  'Doubts_media',\n  'Doubts_other',\n  'Doubts_partners',\n  'Black_White',\n  'Doubts_other',\n  'Doubts_Army',\n  'Emotion_Anger',\n  'Doubts_Army'],\n '1223448': ['Doubts_other'],\n '1223457': ['Emotion_Anger',\n  'Doubts_partners',\n  'Doubts_Army',\n  'Emotion_Anger'],\n '1223659': ['Black_White', 'Emotion_Hate_Disgust', 'Doubts_Army'],\n '1223660': ['Doubts_media', 'Emotion_Fear', 'Emotion_Hate_Disgust'],\n '1223747': ['Doubts_partners'],\n '1223801': ['Emotion_Anger',\n  'Emotion_Anger',\n  'Emotion_Hate_Disgust',\n  'Doubts_media'],\n '1223843': ['Black_White',\n  'Doubts_partners',\n  'Doubts_Army',\n  'Emotion_Anger',\n  'Emotion_Fear'],\n '1223873': ['Doubts_media', 'Black_White'],\n '1224012': ['Doubts_Army', 'Emotion_Anger', 'Doubts_Army'],\n '1224063': ['Doubts_other',\n  'Doubts_Army',\n  'Doubts_media',\n  'Doubts_government',\n  'Doubts_partners',\n  'Doubts_other',\n  'Doubts_government'],\n '1224080': ['Emotion_Hate_Disgust'],\n '1224198': ['Emotion_other'],\n '1224231': ['Emotion_other', 'Emotion_Hate_Disgust'],\n '1224608': ['Doubts_media'],\n '1224622': ['Emotion_other',\n  'Doubts_partners',\n  'Doubts_other',\n  'Black_White'],\n '1224688': ['Doubts_other', 'Emotion_other'],\n '1224881': ['Emotion_Anger',\n  'Emotion_other',\n  'Doubts_government',\n  'Emotion_Hate_Disgust',\n  'Emotion_Fear'],\n '1224959': ['Emotion_Anger', 'Doubts_media'],\n '1225092': ['Doubts_media', 'Doubts_media', 'Black_White'],\n '1225188': ['Emotion_other', 'Doubts_government', 'Black_White'],\n '1330117': ['Emotion_other'],\n '1330328': ['Doubts_Army', 'Emotion_other', 'Doubts_other'],\n '1330345': ['Black_White'],\n '1330349': ['Doubts_media', 'Emotion_Hate_Disgust'],\n '1330489': ['Black_White',\n  'Black_White',\n  'Doubts_Army',\n  'Emotion_Fear',\n  'Black_White',\n  'Doubts_Army'],\n '1330578': ['Doubts_partners'],\n '1331060': ['Doubts_other', 'Black_White', 'Emotion_other'],\n '1331161': ['Black_White', 'Emotion_Anger'],\n '1331264': ['Black_White'],\n '1335179': ['Emotion_Hate_Disgust', 'Emotion_other'],\n '1336028': ['Doubts_media'],\n '1365474': ['Emotion_Fear'],\n '1368856': ['Emotion_Anger', 'Doubts_partners'],\n '1371784': ['Black_White'],\n '1494526': ['Emotion_Fear'],\n '1500974': ['Doubts_other'],\n '1512748': ['Doubts_Army'],\n '1512844': ['Doubts_other',\n  'Doubts_partners',\n  'Black_White',\n  'Doubts_Army',\n  'Emotion_Fear'],\n '1519503': ['Emotion_Anger'],\n '1526071': ['Doubts_other', 'Emotion_Anger', 'Emotion_Hate_Disgust'],\n '1528744': ['Emotion_Hate_Disgust'],\n '1530894': ['Emotion_other'],\n '1534112': ['Emotion_Hate_Disgust', 'Emotion_Fear'],\n '1538810': ['Emotion_other'],\n '1539029': ['Doubts_other'],\n '1539105': ['Doubts_Army', 'Doubts_government'],\n '1539119': ['Emotion_other', 'Emotion_other'],\n '1539192': ['Emotion_other'],\n '1539234': ['Emotion_Fear', 'Doubts_partners'],\n '1539312': ['Doubts_government', 'Doubts_Army'],\n '1539446': ['Doubts_media'],\n '1539657': ['Doubts_other',\n  'Doubts_partners',\n  'Doubts_government',\n  'Emotion_Fear'],\n '1539700': ['Emotion_Anger',\n  'Doubts_media',\n  'Emotion_Hate_Disgust',\n  'Emotion_Anger',\n  'Emotion_Hate_Disgust'],\n '1539710': ['Doubts_Army', 'Black_White', 'Black_White'],\n '1539862': ['Doubts_government', 'Emotion_other'],\n '1539954': ['Doubts_other',\n  'Emotion_Fear',\n  'Doubts_government',\n  'Emotion_other'],\n '1539963': ['Doubts_media', 'Doubts_media'],\n '1539965': ['Emotion_other'],\n '1540144': ['Emotion_Hate_Disgust'],\n '1540219': ['Doubts_Army', 'Emotion_Anger'],\n '1545208': ['Emotion_Hate_Disgust', 'Black_White'],\n '1546289': ['Doubts_government',\n  'Emotion_Fear',\n  'Doubts_media',\n  'Emotion_Fear',\n  'Emotion_Hate_Disgust',\n  'Doubts_Army'],\n '1547276': ['Emotion_Fear'],\n '1547861': ['Doubts_other'],\n '1567516': ['Doubts_other'],\n '1569884': ['Doubts_Army', 'Black_White'],\n '1573118': ['Doubts_other', 'Doubts_other'],\n '1609677': ['Doubts_media', 'Doubts_media'],\n '1624078': ['Emotion_Fear', 'Doubts_other', 'Doubts_media', 'Emotion_other'],\n '1624645': ['Doubts_Army',\n  'Doubts_Army',\n  'Doubts_media',\n  'Doubts_partners',\n  'Doubts_media'],\n '1627219': ['Doubts_partners',\n  'Emotion_Hate_Disgust',\n  'Emotion_Hate_Disgust'],\n '1631344': ['Black_White'],\n '1631492': ['Emotion_Fear', 'Emotion_other', 'Doubts_Army'],\n '1632762': ['Emotion_other'],\n '1632850': ['Doubts_partners',\n  'Emotion_Anger',\n  'Doubts_other',\n  'Doubts_Army'],\n '1633033': ['Doubts_Army', 'Doubts_other', 'Doubts_Army'],\n '1636639': ['Doubts_media'],\n '1636685': ['Doubts_other', 'Emotion_other', 'Emotion_Hate_Disgust']}"
     },
     "execution_count": 28,
     "metadata": {},
     "output_type": "execute_result"
    }
   ],
   "source": [
    "# Random generated\n",
    "# Load the indices from the file\n",
    "with open('datasets/TC_labels_for_eval.txt', 'r') as file:\n",
    "    lines = file.readlines()\n",
    "predicted_labels = {}\n",
    "\n",
    "# Iterate over the lines in the file\n",
    "for line in lines:\n",
    "    # Parse the line to extract the ID and question mark indices\n",
    "    id_, _, start, end = line.strip().split()\n",
    "    start, end = int(start), int(end)\n",
    "    \n",
    "    # Randomly select a manipulation technique\n",
    "    selected_technique = random.choice(techniques_list)\n",
    "    if id_ in predicted_labels:\n",
    "        predicted_labels[id_].append(selected_technique)\n",
    "    else:\n",
    "        predicted_labels[id_] = [selected_technique]\n",
    "\n",
    "    # Print the replaced text (optional)\n",
    "    replaced_text = line[:start] + selected_technique + line[end:]\n",
    "    \n",
    "    # Append the ID and technique to the list\n",
    "    #id_technique_list.append({id_, selected_technique})\n",
    "\n",
    "\n",
    "# Print the list of ID and technique pairs\n",
    "predicted_labels"
   ],
   "metadata": {
    "collapsed": false,
    "ExecuteTime": {
     "end_time": "2024-05-16T22:56:02.291156800Z",
     "start_time": "2024-05-16T22:56:02.256157300Z"
    }
   },
   "id": "34ca1001e2cb7e0f",
   "execution_count": 28
  },
  {
   "cell_type": "code",
   "outputs": [],
   "source": [
    "from sklearn.metrics import confusion_matrix, classification_report"
   ],
   "metadata": {
    "collapsed": false,
    "ExecuteTime": {
     "end_time": "2024-05-16T22:52:24.614985400Z",
     "start_time": "2024-05-16T22:52:24.475678500Z"
    }
   },
   "id": "14c510b73284b500",
   "execution_count": 25
  },
  {
   "cell_type": "code",
   "outputs": [
    {
     "name": "stdout",
     "output_type": "stream",
     "text": [
      "                      precision    recall  f1-score   support\n",
      "\n",
      "         Black_White       0.03      0.08      0.04        37\n",
      "         Doubts_Army       0.01      0.03      0.02        29\n",
      "   Doubts_government       0.14      0.10      0.12       144\n",
      "        Doubts_media       0.01      0.04      0.01        27\n",
      "        Doubts_other       0.00      0.00      0.00         2\n",
      "     Doubts_partners       0.03      0.23      0.05        13\n",
      "       Emotion_Anger       0.17      0.11      0.13       158\n",
      "        Emotion_Fear       0.20      0.12      0.15       179\n",
      "Emotion_Hate_Disgust       0.12      0.12      0.12       105\n",
      "       Emotion_other       0.27      0.07      0.12       338\n",
      "\n",
      "            accuracy                           0.10      1032\n",
      "           macro avg       0.10      0.09      0.08      1032\n",
      "        weighted avg       0.18      0.10      0.12      1032\n"
     ]
    }
   ],
   "source": [
    "# Random 10 technique\n",
    "true_labels = []\n",
    "predicted = []\n",
    "\n",
    "\n",
    "# Iterate through the keys of the dictionaries\n",
    "# for key in true_dict.keys():\n",
    "#     # Check if the key exists in both dictionaries\n",
    "#     if key in technique:\n",
    "#         # Append true and predicted labels\n",
    "#         true_labels.extend(true_dict[key])\n",
    "#         predicted_labels.extend(technique[key])\n",
    "\n",
    "for id_, true_techniques in true_dict.items():\n",
    "    # Get the corresponding predicted techniques from id_technique_dict\n",
    "    #predicted_techniques = predicted_labels.get(id_, [])\n",
    "    predicted_techniques = predicted_labels[id_] if id_ in predicted_labels else []\n",
    "    \n",
    "    # Add true and predicted labels to the respective lists\n",
    "    true_labels.extend(true_techniques)\n",
    "    predicted.extend(predicted_techniques)\n",
    "\n",
    "# Generate classification report\n",
    "report = classification_report(true_labels, predicted)\n",
    "\n",
    "# Print classification report\n",
    "print(report)"
   ],
   "metadata": {
    "collapsed": false,
    "ExecuteTime": {
     "end_time": "2024-05-16T23:00:52.006963400Z",
     "start_time": "2024-05-16T23:00:51.964966500Z"
    }
   },
   "id": "14b93b3a269016dd",
   "execution_count": 31
  },
  {
   "cell_type": "code",
   "outputs": [
    {
     "name": "stdout",
     "output_type": "stream",
     "text": [
      "                      precision    recall  f1-score   support\n",
      "\n",
      "         Black_White       0.00      0.00      0.00        37\n",
      "         Doubts_Army       0.00      0.00      0.00        29\n",
      "   Doubts_government       0.00      0.00      0.00       144\n",
      "        Doubts_media       0.00      0.00      0.00        27\n",
      "        Doubts_other       0.00      0.00      0.00         2\n",
      "     Doubts_partners       0.00      0.00      0.00        13\n",
      "       Emotion_Anger       0.00      0.00      0.00       158\n",
      "        Emotion_Fear       0.00      0.00      0.00       179\n",
      "Emotion_Hate_Disgust       0.00      0.00      0.00       105\n",
      "       Emotion_other       0.33      1.00      0.49       338\n",
      "\n",
      "            accuracy                           0.33      1032\n",
      "           macro avg       0.03      0.10      0.05      1032\n",
      "        weighted avg       0.11      0.33      0.16      1032\n"
     ]
    },
    {
     "name": "stderr",
     "output_type": "stream",
     "text": [
      "C:\\Users\\Ната\\AppData\\Local\\Programs\\Python\\Python310\\lib\\site-packages\\sklearn\\metrics\\_classification.py:1469: UndefinedMetricWarning: Precision and F-score are ill-defined and being set to 0.0 in labels with no predicted samples. Use `zero_division` parameter to control this behavior.\n",
      "  _warn_prf(average, modifier, msg_start, len(result))\n",
      "C:\\Users\\Ната\\AppData\\Local\\Programs\\Python\\Python310\\lib\\site-packages\\sklearn\\metrics\\_classification.py:1469: UndefinedMetricWarning: Precision and F-score are ill-defined and being set to 0.0 in labels with no predicted samples. Use `zero_division` parameter to control this behavior.\n",
      "  _warn_prf(average, modifier, msg_start, len(result))\n",
      "C:\\Users\\Ната\\AppData\\Local\\Programs\\Python\\Python310\\lib\\site-packages\\sklearn\\metrics\\_classification.py:1469: UndefinedMetricWarning: Precision and F-score are ill-defined and being set to 0.0 in labels with no predicted samples. Use `zero_division` parameter to control this behavior.\n",
      "  _warn_prf(average, modifier, msg_start, len(result))\n"
     ]
    }
   ],
   "source": [
    "# Majoity class\n",
    "true_labels = []\n",
    "predicted_labels = []\n",
    "\n",
    "# Iterate over the keys (IDs) in true_dict\n",
    "for id_, true_techniques in true_dict.items():\n",
    "    # Define the predicted technique\n",
    "    predicted_technique = \"Emotion_other\"\n",
    "    \n",
    "    # Add true and predicted labels to the respective lists\n",
    "    true_labels.extend(true_techniques)\n",
    "    predicted_labels.extend([predicted_technique] * len(true_techniques))\n",
    "\n",
    "# Generate a classification report\n",
    "report = classification_report(true_labels, predicted_labels)\n",
    "\n",
    "# Print the classification report\n",
    "print(report)"
   ],
   "metadata": {
    "collapsed": false,
    "ExecuteTime": {
     "end_time": "2024-05-16T23:03:33.913285Z",
     "start_time": "2024-05-16T23:03:33.877243700Z"
    }
   },
   "id": "c40746d31c9d93df",
   "execution_count": 33
  },
  {
   "cell_type": "code",
   "outputs": [
    {
     "ename": "TypeError",
     "evalue": "string indices must be integers",
     "output_type": "error",
     "traceback": [
      "\u001B[1;31m---------------------------------------------------------------------------\u001B[0m",
      "\u001B[1;31mTypeError\u001B[0m                                 Traceback (most recent call last)",
      "Input \u001B[1;32mIn [8]\u001B[0m, in \u001B[0;36m<cell line: 4>\u001B[1;34m()\u001B[0m\n\u001B[0;32m     11\u001B[0m \u001B[38;5;66;03m# Compare the generation and truth\u001B[39;00m\n\u001B[0;32m     12\u001B[0m \u001B[38;5;28;01mfor\u001B[39;00m true_technique \u001B[38;5;129;01min\u001B[39;00m true_spans:   \n\u001B[1;32m---> 13\u001B[0m     true_technique \u001B[38;5;241m=\u001B[39m \u001B[43mtrue_technique\u001B[49m\u001B[43m[\u001B[49m\u001B[38;5;124;43m\"\u001B[39;49m\u001B[38;5;124;43mname\u001B[39;49m\u001B[38;5;124;43m\"\u001B[39;49m\u001B[43m]\u001B[49m\n\u001B[0;32m     15\u001B[0m     \u001B[38;5;28;01mif\u001B[39;00m technique \u001B[38;5;241m==\u001B[39m true_technique:\n\u001B[0;32m     16\u001B[0m         accuracies\u001B[38;5;241m.\u001B[39mappend(\u001B[38;5;241m1\u001B[39m)    \u001B[38;5;66;03m# Span correctly predicted\u001B[39;00m\n",
      "\u001B[1;31mTypeError\u001B[0m: string indices must be integers"
     ]
    }
   ],
   "source": [
    "# random.seed(118)\n",
    "# accuracies = []\n",
    "# \n",
    "# for index, row in df.iterrows():\n",
    "#     text = row[\"message_id\"]\n",
    "#     true_spans = row[\"annotation_new\"]\n",
    "#         \n",
    "#     # Randomly generate the technique\n",
    "#     technique = random.choice(techniques_list)\n",
    "#     \n",
    "#     # Compare the generation and truth\n",
    "#     for true_technique in true_spans:   \n",
    "#         true_technique = true_technique[\"name\"]\n",
    "#         \n",
    "#         if technique == true_technique:\n",
    "#             accuracies.append(1)    # Span correctly predicted\n",
    "#         else:\n",
    "#             accuracies.append(0)\n",
    "#     \n",
    "# \n",
    "# #Calculate the overall accuracy\n",
    "# accurracy10 = sum(accuracies) / len(accuracies)\n",
    "# print(\"The prediction of 10 classes\")\n",
    "# print(f\"Number of spans\", len(accuracies))\n",
    "# print(f\"Number of accuracies\", sum(accuracies))\n",
    "# print(f\"Overall accuracy for 10 classes: {accurracy10}\")"
   ],
   "metadata": {
    "collapsed": false,
    "ExecuteTime": {
     "end_time": "2024-05-16T22:24:19.795393100Z",
     "start_time": "2024-05-16T22:24:19.784394900Z"
    }
   },
   "id": "4be83c0294c07053",
   "execution_count": 8
  },
  {
   "cell_type": "markdown",
   "source": [
    "#### Generate random 4 classes"
   ],
   "metadata": {
    "collapsed": false
   },
   "id": "c55a8fcb915bba02"
  },
  {
   "cell_type": "code",
   "outputs": [],
   "source": [
    "techniques_list4 = [\n",
    "    'Doubts',\n",
    "    'Black_White',\n",
    "    'Emotion_Fear',\n",
    "    'Loaded language',\n",
    "]"
   ],
   "metadata": {
    "collapsed": false,
    "ExecuteTime": {
     "end_time": "2024-04-16T15:48:56.119896800Z",
     "start_time": "2024-04-16T15:48:56.103987300Z"
    }
   },
   "id": "9a6f68012677fb28",
   "execution_count": 6
  },
  {
   "cell_type": "code",
   "outputs": [],
   "source": [
    "mapping = {\n",
    "    'Doubts_government': 'Doubts',\n",
    "    'Doubts_Army': 'Doubts',\n",
    "    'Doubts_media': 'Doubts',\n",
    "    'Doubts_partners': 'Doubts',\n",
    "    'Doubts_other': 'Doubts',\n",
    "    'Emotion_Anger': 'Loaded language',\n",
    "    'Emotion_Hate_Disgust': 'Loaded language',\n",
    "    'Emotion_other': 'Loaded language'\n",
    "}"
   ],
   "metadata": {
    "collapsed": false,
    "ExecuteTime": {
     "end_time": "2024-04-16T15:48:56.942674700Z",
     "start_time": "2024-04-16T15:48:56.924627600Z"
    }
   },
   "id": "cfd61fd51d7256c",
   "execution_count": 7
  },
  {
   "cell_type": "code",
   "outputs": [],
   "source": [
    "# TODO: ast.iteral_eval does not work for emoji in 'token'\n",
    "# Convert str to list of dictionaries\n",
    "x_test['filtered_annotations'] = x_test['filtered_annotations'].apply(ast.literal_eval)"
   ],
   "metadata": {
    "collapsed": false,
    "ExecuteTime": {
     "end_time": "2024-04-16T15:49:19.937387100Z",
     "start_time": "2024-04-16T15:49:19.897370400Z"
    }
   },
   "id": "324fdac521a50824",
   "execution_count": 10
  },
  {
   "cell_type": "code",
   "outputs": [],
   "source": [
    "def map_name(annotation_list):\n",
    "    mapped_annotations = []\n",
    "    for annotation in annotation_list:\n",
    "        name = annotation['tag']\n",
    "        if name in mapping:\n",
    "            annotation['tag'] = mapping[name]\n",
    "        mapped_annotations.append(annotation)\n",
    "    return mapped_annotations"
   ],
   "metadata": {
    "collapsed": false,
    "ExecuteTime": {
     "end_time": "2024-04-16T15:49:20.901647900Z",
     "start_time": "2024-04-16T15:49:20.875611600Z"
    }
   },
   "id": "2eece964ca181591",
   "execution_count": 11
  },
  {
   "cell_type": "code",
   "outputs": [
    {
     "data": {
      "text/plain": "      message_id                                    message_content  \\\n209       316550  🔥Розпочали зйомки фільму жахів «Конотопська ві...   \n122       315414  Фірма очільника Сумської облради виграла тенде...   \n1890     1117560  ❗️Найсильніша магнітна буря накриє Землю вже с...   \n2220     1538686  🤯ПОТУЖНІ магнітні бурі накриють франківців.\\n\\...   \n11        210416  🔥Тенісистка Еліна Світоліна зустрілась з війсь...   \n...          ...                                                ...   \n2177     1330265  🤬В Києві підлітки розгорнули прапор зі свастик...   \n720       717509  В Україні близько 60% людей мають зайву масу т...   \n1698     1110502  ❄️Ожеледиця та мокрий сніг: оголосили штормове...   \n1878     1117203  Віднесла немовля до пологового та покинула😱\\n\\...   \n719       717486  🔴🌉280 млн грн на завершення ремону Троїцького ...   \n\n                                            annotations  \\\n209   [{'name': 'Emotion_other', 'token': 'Дивитимет...   \n122   [{'name': 'Doubts_government', 'token': 'Завтр...   \n1890  [{'name': 'Emotion_other', 'token': '❗️Найсиль...   \n2220  [{'name': 'Emotion_Fear', 'token': '🤯ПОТУЖНІ',...   \n11    [{'name': 'Emotion_other', 'token': 'найкращі'...   \n...                                                 ...   \n2177  [{'name': 'Emotion_Anger', 'token': '🤬В Києві ...   \n720   [{'name': 'Emotion_other', 'token': 'Це – один...   \n1698  [{'name': 'Emotion_Fear', 'token': 'штормове п...   \n1878  [{'name': 'Emotion_Anger', 'token': 'Віднесла ...   \n719   [{'name': 'Doubts_government', 'token': '280 л...   \n\n                                   filtered_annotations  \\\n209   [{'start': 200, 'end': 221, 'tag': 'Loaded lan...   \n122       [{'start': 155, 'end': 204, 'tag': 'Doubts'}]   \n1890  [{'start': 11, 'end': 37, 'tag': 'Loaded langu...   \n2220  [{'start': 11, 'end': 19, 'tag': 'Emotion_Fear...   \n11    [{'start': 301, 'end': 308, 'tag': 'Loaded lan...   \n...                                                 ...   \n2177  [{'start': 11, 'end': 89, 'tag': 'Loaded langu...   \n720   [{'start': 164, 'end': 195, 'tag': 'Loaded lan...   \n1698  [{'start': 49, 'end': 69, 'tag': 'Emotion_Fear...   \n1878  [{'start': 11, 'end': 54, 'tag': 'Loaded langu...   \n719       [{'start': 327, 'end': 371, 'tag': 'Doubts'}]   \n\n                                  message_content_clean  \\\n209   Розпочали зйомки фільму жахів «Конотопська від...   \n122   Фірма очільника Сумської облради виграла тенде...   \n1890  ️Найсильніша магнітна буря накриє Землю вже сь...   \n2220  ПОТУЖНІ магнітні бурі накриють франківців.\\n\\n...   \n11    Тенісистка Еліна Світоліна зустрілась з військ...   \n...                                                 ...   \n2177  В Києві підлітки розгорнули прапор зі свастико...   \n720   В Україні близько 60% людей мають зайву масу т...   \n1698  ️Ожеледиця та мокрий сніг: оголосили штормове ...   \n1878  Віднесла немовля до пологового та покинула\\n\\n...   \n719   280 млн грн на завершення ремону Троїцького мо...   \n\n                                           4_techniques  \n209   [{'start': 200, 'end': 221, 'tag': 'Loaded lan...  \n122       [{'start': 155, 'end': 204, 'tag': 'Doubts'}]  \n1890  [{'start': 11, 'end': 37, 'tag': 'Loaded langu...  \n2220  [{'start': 11, 'end': 19, 'tag': 'Emotion_Fear...  \n11    [{'start': 301, 'end': 308, 'tag': 'Loaded lan...  \n...                                                 ...  \n2177  [{'start': 11, 'end': 89, 'tag': 'Loaded langu...  \n720   [{'start': 164, 'end': 195, 'tag': 'Loaded lan...  \n1698  [{'start': 49, 'end': 69, 'tag': 'Emotion_Fear...  \n1878  [{'start': 11, 'end': 54, 'tag': 'Loaded langu...  \n719       [{'start': 327, 'end': 371, 'tag': 'Doubts'}]  \n\n[462 rows x 6 columns]",
      "text/html": "<div>\n<style scoped>\n    .dataframe tbody tr th:only-of-type {\n        vertical-align: middle;\n    }\n\n    .dataframe tbody tr th {\n        vertical-align: top;\n    }\n\n    .dataframe thead th {\n        text-align: right;\n    }\n</style>\n<table border=\"1\" class=\"dataframe\">\n  <thead>\n    <tr style=\"text-align: right;\">\n      <th></th>\n      <th>message_id</th>\n      <th>message_content</th>\n      <th>annotations</th>\n      <th>filtered_annotations</th>\n      <th>message_content_clean</th>\n      <th>4_techniques</th>\n    </tr>\n  </thead>\n  <tbody>\n    <tr>\n      <th>209</th>\n      <td>316550</td>\n      <td>🔥Розпочали зйомки фільму жахів «Конотопська ві...</td>\n      <td>[{'name': 'Emotion_other', 'token': 'Дивитимет...</td>\n      <td>[{'start': 200, 'end': 221, 'tag': 'Loaded lan...</td>\n      <td>Розпочали зйомки фільму жахів «Конотопська від...</td>\n      <td>[{'start': 200, 'end': 221, 'tag': 'Loaded lan...</td>\n    </tr>\n    <tr>\n      <th>122</th>\n      <td>315414</td>\n      <td>Фірма очільника Сумської облради виграла тенде...</td>\n      <td>[{'name': 'Doubts_government', 'token': 'Завтр...</td>\n      <td>[{'start': 155, 'end': 204, 'tag': 'Doubts'}]</td>\n      <td>Фірма очільника Сумської облради виграла тенде...</td>\n      <td>[{'start': 155, 'end': 204, 'tag': 'Doubts'}]</td>\n    </tr>\n    <tr>\n      <th>1890</th>\n      <td>1117560</td>\n      <td>❗️Найсильніша магнітна буря накриє Землю вже с...</td>\n      <td>[{'name': 'Emotion_other', 'token': '❗️Найсиль...</td>\n      <td>[{'start': 11, 'end': 37, 'tag': 'Loaded langu...</td>\n      <td>️Найсильніша магнітна буря накриє Землю вже сь...</td>\n      <td>[{'start': 11, 'end': 37, 'tag': 'Loaded langu...</td>\n    </tr>\n    <tr>\n      <th>2220</th>\n      <td>1538686</td>\n      <td>🤯ПОТУЖНІ магнітні бурі накриють франківців.\\n\\...</td>\n      <td>[{'name': 'Emotion_Fear', 'token': '🤯ПОТУЖНІ',...</td>\n      <td>[{'start': 11, 'end': 19, 'tag': 'Emotion_Fear...</td>\n      <td>ПОТУЖНІ магнітні бурі накриють франківців.\\n\\n...</td>\n      <td>[{'start': 11, 'end': 19, 'tag': 'Emotion_Fear...</td>\n    </tr>\n    <tr>\n      <th>11</th>\n      <td>210416</td>\n      <td>🔥Тенісистка Еліна Світоліна зустрілась з війсь...</td>\n      <td>[{'name': 'Emotion_other', 'token': 'найкращі'...</td>\n      <td>[{'start': 301, 'end': 308, 'tag': 'Loaded lan...</td>\n      <td>Тенісистка Еліна Світоліна зустрілась з військ...</td>\n      <td>[{'start': 301, 'end': 308, 'tag': 'Loaded lan...</td>\n    </tr>\n    <tr>\n      <th>...</th>\n      <td>...</td>\n      <td>...</td>\n      <td>...</td>\n      <td>...</td>\n      <td>...</td>\n      <td>...</td>\n    </tr>\n    <tr>\n      <th>2177</th>\n      <td>1330265</td>\n      <td>🤬В Києві підлітки розгорнули прапор зі свастик...</td>\n      <td>[{'name': 'Emotion_Anger', 'token': '🤬В Києві ...</td>\n      <td>[{'start': 11, 'end': 89, 'tag': 'Loaded langu...</td>\n      <td>В Києві підлітки розгорнули прапор зі свастико...</td>\n      <td>[{'start': 11, 'end': 89, 'tag': 'Loaded langu...</td>\n    </tr>\n    <tr>\n      <th>720</th>\n      <td>717509</td>\n      <td>В Україні близько 60% людей мають зайву масу т...</td>\n      <td>[{'name': 'Emotion_other', 'token': 'Це – один...</td>\n      <td>[{'start': 164, 'end': 195, 'tag': 'Loaded lan...</td>\n      <td>В Україні близько 60% людей мають зайву масу т...</td>\n      <td>[{'start': 164, 'end': 195, 'tag': 'Loaded lan...</td>\n    </tr>\n    <tr>\n      <th>1698</th>\n      <td>1110502</td>\n      <td>❄️Ожеледиця та мокрий сніг: оголосили штормове...</td>\n      <td>[{'name': 'Emotion_Fear', 'token': 'штормове п...</td>\n      <td>[{'start': 49, 'end': 69, 'tag': 'Emotion_Fear...</td>\n      <td>️Ожеледиця та мокрий сніг: оголосили штормове ...</td>\n      <td>[{'start': 49, 'end': 69, 'tag': 'Emotion_Fear...</td>\n    </tr>\n    <tr>\n      <th>1878</th>\n      <td>1117203</td>\n      <td>Віднесла немовля до пологового та покинула😱\\n\\...</td>\n      <td>[{'name': 'Emotion_Anger', 'token': 'Віднесла ...</td>\n      <td>[{'start': 11, 'end': 54, 'tag': 'Loaded langu...</td>\n      <td>Віднесла немовля до пологового та покинула\\n\\n...</td>\n      <td>[{'start': 11, 'end': 54, 'tag': 'Loaded langu...</td>\n    </tr>\n    <tr>\n      <th>719</th>\n      <td>717486</td>\n      <td>🔴🌉280 млн грн на завершення ремону Троїцького ...</td>\n      <td>[{'name': 'Doubts_government', 'token': '280 л...</td>\n      <td>[{'start': 327, 'end': 371, 'tag': 'Doubts'}]</td>\n      <td>280 млн грн на завершення ремону Троїцького мо...</td>\n      <td>[{'start': 327, 'end': 371, 'tag': 'Doubts'}]</td>\n    </tr>\n  </tbody>\n</table>\n<p>462 rows × 6 columns</p>\n</div>"
     },
     "execution_count": 12,
     "metadata": {},
     "output_type": "execute_result"
    }
   ],
   "source": [
    "x_test['4_techniques'] = x_test['filtered_annotations'].apply(map_name)\n",
    "x_test"
   ],
   "metadata": {
    "collapsed": false,
    "ExecuteTime": {
     "end_time": "2024-04-16T15:49:21.843804800Z",
     "start_time": "2024-04-16T15:49:21.787789Z"
    }
   },
   "id": "babd79162c201383",
   "execution_count": 12
  },
  {
   "cell_type": "code",
   "outputs": [
    {
     "name": "stdout",
     "output_type": "stream",
     "text": [
      "The prediction of 4 classes\n",
      "Number of spans 952\n",
      "Number of accuracies 241\n",
      "Overall accuracy for 4 classes: 0.25315126050420167\n"
     ]
    }
   ],
   "source": [
    "random.seed(118)\n",
    "accuracies = []\n",
    "\n",
    "for index, row in x_test.iterrows():\n",
    "    text = row[\"message_id\"]\n",
    "    true_spans = row[\"4_techniques\"]\n",
    "        \n",
    "    # Randomly generate the technique\n",
    "    technique = random.choice(techniques_list4)\n",
    "    \n",
    "    # Compare the generation and truth\n",
    "    for true_technique in true_spans:   \n",
    "        true_technique = true_technique[\"tag\"]\n",
    "        \n",
    "        if technique == true_technique:\n",
    "            accuracies.append(1)    # Span correctly predicted\n",
    "        else:\n",
    "            accuracies.append(0)\n",
    "    \n",
    "\n",
    "#Calculate the overall accuracy\n",
    "accurracy4 = sum(accuracies) / len(accuracies)\n",
    "print(\"The prediction of 4 classes\")\n",
    "print(f\"Number of spans\", len(accuracies))\n",
    "print(f\"Number of accuracies\", sum(accuracies))\n",
    "print(f\"Overall accuracy for 4 classes: {accurracy4}\")"
   ],
   "metadata": {
    "collapsed": false,
    "ExecuteTime": {
     "end_time": "2024-04-16T16:02:29.702395200Z",
     "start_time": "2024-04-16T16:02:29.046844600Z"
    }
   },
   "id": "b7f0e41a31922b96",
   "execution_count": 18
  },
  {
   "cell_type": "markdown",
   "source": [
    "#### Generate random 4 classes "
   ],
   "metadata": {
    "collapsed": false
   },
   "id": "8b776b32c9646a9b"
  },
  {
   "cell_type": "code",
   "outputs": [],
   "source": [
    "techniques_list3 = [\n",
    "    'Doubts',\n",
    "    'Black_White',\n",
    "    'Loaded language',\n",
    "]"
   ],
   "metadata": {
    "collapsed": false,
    "ExecuteTime": {
     "end_time": "2024-04-16T16:05:56.837294200Z",
     "start_time": "2024-04-16T16:05:56.814256700Z"
    }
   },
   "id": "fb90abed61fdf293",
   "execution_count": 20
  },
  {
   "cell_type": "code",
   "outputs": [],
   "source": [
    "mapping = {\n",
    "    'Doubts_government': 'Doubts',\n",
    "    'Doubts_Army': 'Doubts',\n",
    "    'Doubts_media': 'Doubts',\n",
    "    'Doubts_partners': 'Doubts',\n",
    "    'Doubts_other': 'Doubts',\n",
    "    'Emotion_Fear': 'Loaded language',\n",
    "    'Emotion_Anger': 'Loaded language',\n",
    "    'Emotion_Hate_Disgust': 'Loaded language',\n",
    "    'Emotion_other': 'Loaded language'\n",
    "}"
   ],
   "metadata": {
    "collapsed": false,
    "ExecuteTime": {
     "end_time": "2024-04-16T16:05:57.492730200Z",
     "start_time": "2024-04-16T16:05:57.422676800Z"
    }
   },
   "id": "8340d804a356cd74",
   "execution_count": 21
  },
  {
   "cell_type": "code",
   "outputs": [],
   "source": [
    "def map_name(annotation_list):\n",
    "    mapped_annotations = []\n",
    "    for annotation in annotation_list:\n",
    "        name = annotation['tag']\n",
    "        if name in mapping:\n",
    "            annotation['tag'] = mapping[name]\n",
    "        mapped_annotations.append(annotation)\n",
    "    return mapped_annotations"
   ],
   "metadata": {
    "collapsed": false,
    "ExecuteTime": {
     "end_time": "2024-04-16T16:05:58.383008400Z",
     "start_time": "2024-04-16T16:05:58.300014800Z"
    }
   },
   "id": "e4cfe094fdcfdfab",
   "execution_count": 22
  },
  {
   "cell_type": "code",
   "outputs": [],
   "source": [
    "x_test['3_techniques'] = x_test['filtered_annotations'].apply(map_name)"
   ],
   "metadata": {
    "collapsed": false,
    "ExecuteTime": {
     "end_time": "2024-04-16T16:05:59.150734700Z",
     "start_time": "2024-04-16T16:05:59.086670200Z"
    }
   },
   "id": "4a9d300f1f8c1048",
   "execution_count": 23
  },
  {
   "cell_type": "code",
   "outputs": [
    {
     "name": "stdout",
     "output_type": "stream",
     "text": [
      "The prediction of 3 classes\n",
      "Number of spans 952\n",
      "Number of accuracies 246\n",
      "Overall accuracy for 3 classes: 0.25840336134453784\n"
     ]
    }
   ],
   "source": [
    "random.seed(118)\n",
    "accuracies = []\n",
    "\n",
    "for index, row in x_test.iterrows():\n",
    "    text = row[\"message_id\"]\n",
    "    true_spans = row[\"3_techniques\"]\n",
    "        \n",
    "    # Randomly generate the technique\n",
    "    technique = random.choice(techniques_list4)\n",
    "    \n",
    "    # Compare the generation and truth\n",
    "    for true_technique in true_spans:   \n",
    "        true_technique = true_technique[\"tag\"]\n",
    "        \n",
    "        if technique == true_technique:\n",
    "            accuracies.append(1)    # Span correctly predicted\n",
    "        else:\n",
    "            accuracies.append(0)\n",
    "    \n",
    "\n",
    "#Calculate the overall accuracy\n",
    "accurracy3 = sum(accuracies) / len(accuracies)\n",
    "print(\"The prediction of 3 classes\")\n",
    "print(f\"Number of spans\", len(accuracies))\n",
    "print(f\"Number of accuracies\", sum(accuracies))\n",
    "print(f\"Overall accuracy for 3 classes: {accurracy3}\")"
   ],
   "metadata": {
    "collapsed": false,
    "ExecuteTime": {
     "end_time": "2024-04-16T16:12:16.712317200Z",
     "start_time": "2024-04-16T16:12:16.686291300Z"
    }
   },
   "id": "e618f07831a5170",
   "execution_count": 32
  },
  {
   "cell_type": "markdown",
   "source": [
    "#### Compare with the most popular class"
   ],
   "metadata": {
    "collapsed": false
   },
   "id": "7c97dd73d15922f5"
  },
  {
   "cell_type": "code",
   "outputs": [
    {
     "name": "stdout",
     "output_type": "stream",
     "text": [
      "The prediction of most populat class\n",
      "Number of spans 952\n",
      "Number of accuracies 421\n",
      "Overall accuracy for most popular class: 0.4422268907563025\n"
     ]
    }
   ],
   "source": [
    "random.seed(118)\n",
    "accuracies = []\n",
    "\n",
    "for index, row in x_test.iterrows():\n",
    "    text = row[\"message_id\"]\n",
    "    true_spans = ast.literal_eval(row[\"annotations\"])\n",
    "        \n",
    "    # Randomly generate the technique\n",
    "    technique = 'Emotion_other'\n",
    "    \n",
    "    # Compare the generation and truth\n",
    "    for true_technique in true_spans:   \n",
    "        true_technique = true_technique[\"name\"]\n",
    "        \n",
    "        if technique == true_technique:\n",
    "            accuracies.append(1)    # Span correctly predicted\n",
    "        else:\n",
    "            accuracies.append(0)\n",
    "    \n",
    "\n",
    "#Calculate the overall accuracy\n",
    "accurracy1 = sum(accuracies) / len(accuracies)\n",
    "print(\"The prediction of most populat class\")\n",
    "print(f\"Number of spans\", len(accuracies))\n",
    "print(f\"Number of accuracies\", sum(accuracies))\n",
    "print(f\"Overall accuracy for most popular class: {accurracy1}\")"
   ],
   "metadata": {
    "collapsed": false,
    "ExecuteTime": {
     "end_time": "2024-04-16T16:08:49.230184400Z",
     "start_time": "2024-04-16T16:08:49.164148100Z"
    }
   },
   "id": "43755ef3b326ee56",
   "execution_count": 26
  },
  {
   "cell_type": "markdown",
   "source": [
    "#### Comparison"
   ],
   "metadata": {
    "collapsed": false
   },
   "id": "18b02d6036b93905"
  },
  {
   "cell_type": "code",
   "outputs": [
    {
     "name": "stdout",
     "output_type": "stream",
     "text": [
      "Overall accuracy for most popular class: 0.44\n",
      "Overall accuracy for 3 classes: 0.26\n",
      "Overall accuracy for 4 classes: 0.25\n",
      "Overall accuracy for 10 classes: 0.10\n"
     ]
    }
   ],
   "source": [
    "print(f\"Overall accuracy for most popular class: {accurracy1:.2f}\")\n",
    "print(f\"Overall accuracy for 3 classes: {accurracy3:.2f}\")\n",
    "print(f\"Overall accuracy for 4 classes: {accurracy4:.2f}\")\n",
    "print(f\"Overall accuracy for 10 classes: {accurracy10:.2f}\")"
   ],
   "metadata": {
    "collapsed": false,
    "ExecuteTime": {
     "end_time": "2024-04-16T16:11:58.226391700Z",
     "start_time": "2024-04-16T16:11:58.207391600Z"
    }
   },
   "id": "d4cd379b71fe90cd",
   "execution_count": 31
  },
  {
   "cell_type": "code",
   "outputs": [],
   "source": [],
   "metadata": {
    "collapsed": false
   },
   "id": "b76a32031730dd91"
  }
 ],
 "metadata": {
  "kernelspec": {
   "display_name": "Python 3",
   "language": "python",
   "name": "python3"
  },
  "language_info": {
   "codemirror_mode": {
    "name": "ipython",
    "version": 2
   },
   "file_extension": ".py",
   "mimetype": "text/x-python",
   "name": "python",
   "nbconvert_exporter": "python",
   "pygments_lexer": "ipython2",
   "version": "2.7.6"
  }
 },
 "nbformat": 4,
 "nbformat_minor": 5
}
