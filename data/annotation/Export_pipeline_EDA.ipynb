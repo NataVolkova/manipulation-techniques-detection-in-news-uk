{
 "cells": [
  {
   "cell_type": "markdown",
   "source": [
    "## Export pipeline and EDA od the labeled data"
   ],
   "metadata": {
    "collapsed": false
   },
   "id": "7052a0926cc06932"
  },
  {
   "cell_type": "markdown",
   "source": [
    "The corpus has 1,877 posts out of 7,394 posts with at least one manipulation technique. \n",
    "The total number of manipulation technique instances found in the posts is 3,472. \n",
    "\n",
    "The most common manipulation techniques are Loaded Language and other Emotions (1,119 instances), Appeal to Fear (633 instances), Doubts in Government (544 instances), and Appeal to Anger (501 instances). \n",
    "\n",
    "The least common techniques are Other Doubts in Ukraine (12 instances) and Doubts in Partners’ help (35 instances). \n",
    "\n",
    "The average length of the manipulation fragment is 30 characters. On average, the longest technique is the Black-and-white fallacy with 68 characters, while the shortest is the Loaded Language and other Emotions technique with 14 characters.\n"
   ],
   "metadata": {
    "collapsed": false
   },
   "id": "d7b5b2e6ef77355a"
  },
  {
   "cell_type": "code",
   "execution_count": 2,
   "id": "initial_id",
   "metadata": {
    "collapsed": true,
    "ExecuteTime": {
     "end_time": "2024-05-15T09:52:49.248846600Z",
     "start_time": "2024-05-15T09:52:45.877704400Z"
    }
   },
   "outputs": [],
   "source": [
    "import pandas as pd\n",
    "import re\n",
    "import os\n",
    "import ast\n",
    "from tqdm import tqdm\n",
    "import matplotlib.pyplot as plt\n",
    "from sklearn.model_selection import train_test_split"
   ]
  },
  {
   "cell_type": "markdown",
   "source": [
    "#### Data load"
   ],
   "metadata": {
    "collapsed": false
   },
   "id": "4a97b965bb3b3ccc"
  },
  {
   "cell_type": "code",
   "outputs": [
    {
     "data": {
      "text/plain": "                                            data_row  \\\n0  {'id': 'clt5q7yum1tgh0717mgwq59fv', 'external_...   \n1  {'id': 'clt5q7yum1tgi0717y9u4a6uo', 'external_...   \n2  {'id': 'clt5q7yum1tgj0717e5d1j0r2', 'external_...   \n3  {'id': 'clt5q7yum1tgk0717xbh9cv5e', 'external_...   \n4  {'id': 'clt5q7yum1tgl0717tkpf0mvf', 'external_...   \n\n              media_attributes  \\\n0  {'mime_type': 'text/plain'}   \n1  {'mime_type': 'text/plain'}   \n2  {'mime_type': 'text/plain'}   \n3  {'mime_type': 'text/plain'}   \n4  {'mime_type': 'text/plain'}   \n\n                                            projects  \n0  {'clt5ogjql006j07wifgvvbeyq': {'name': 'annota...  \n1  {'clt5ogjql006j07wifgvvbeyq': {'name': 'annota...  \n2  {'clt5ogjql006j07wifgvvbeyq': {'name': 'annota...  \n3  {'clt5ogjql006j07wifgvvbeyq': {'name': 'annota...  \n4  {'clt5ogjql006j07wifgvvbeyq': {'name': 'annota...  ",
      "text/html": "<div>\n<style scoped>\n    .dataframe tbody tr th:only-of-type {\n        vertical-align: middle;\n    }\n\n    .dataframe tbody tr th {\n        vertical-align: top;\n    }\n\n    .dataframe thead th {\n        text-align: right;\n    }\n</style>\n<table border=\"1\" class=\"dataframe\">\n  <thead>\n    <tr style=\"text-align: right;\">\n      <th></th>\n      <th>data_row</th>\n      <th>media_attributes</th>\n      <th>projects</th>\n    </tr>\n  </thead>\n  <tbody>\n    <tr>\n      <th>0</th>\n      <td>{'id': 'clt5q7yum1tgh0717mgwq59fv', 'external_...</td>\n      <td>{'mime_type': 'text/plain'}</td>\n      <td>{'clt5ogjql006j07wifgvvbeyq': {'name': 'annota...</td>\n    </tr>\n    <tr>\n      <th>1</th>\n      <td>{'id': 'clt5q7yum1tgi0717y9u4a6uo', 'external_...</td>\n      <td>{'mime_type': 'text/plain'}</td>\n      <td>{'clt5ogjql006j07wifgvvbeyq': {'name': 'annota...</td>\n    </tr>\n    <tr>\n      <th>2</th>\n      <td>{'id': 'clt5q7yum1tgj0717e5d1j0r2', 'external_...</td>\n      <td>{'mime_type': 'text/plain'}</td>\n      <td>{'clt5ogjql006j07wifgvvbeyq': {'name': 'annota...</td>\n    </tr>\n    <tr>\n      <th>3</th>\n      <td>{'id': 'clt5q7yum1tgk0717xbh9cv5e', 'external_...</td>\n      <td>{'mime_type': 'text/plain'}</td>\n      <td>{'clt5ogjql006j07wifgvvbeyq': {'name': 'annota...</td>\n    </tr>\n    <tr>\n      <th>4</th>\n      <td>{'id': 'clt5q7yum1tgl0717tkpf0mvf', 'external_...</td>\n      <td>{'mime_type': 'text/plain'}</td>\n      <td>{'clt5ogjql006j07wifgvvbeyq': {'name': 'annota...</td>\n    </tr>\n  </tbody>\n</table>\n</div>"
     },
     "execution_count": 13,
     "metadata": {},
     "output_type": "execute_result"
    }
   ],
   "source": [
    "file_path = 'C:/N/st/UCU/5sem2024_DIPLOMA/Manipulation/data/annotation/exports'\n",
    "df_export = pd.read_json((os.path.join(file_path, \"annotation_manipulation_techniques_8000_with_correction_C.ndjson\")), lines = True)\n",
    "df_export.head()"
   ],
   "metadata": {
    "collapsed": false,
    "ExecuteTime": {
     "end_time": "2024-05-15T10:01:45.208327600Z",
     "start_time": "2024-05-15T10:01:26.042329700Z"
    }
   },
   "id": "15e16033cf764a3b",
   "execution_count": 13
  },
  {
   "cell_type": "code",
   "outputs": [],
   "source": [
    "# Extract annotations\n",
    "def extract_annotations(projects):\n",
    "  annotations = []\n",
    "  for project_id, project_data in projects.items():\n",
    "    for label_data in project_data['labels']:\n",
    "      for annotation in label_data['annotations']['objects']:\n",
    "        annotation_info={\n",
    "            'name': annotation['name'],\n",
    "            'token': annotation['location']['token'],\n",
    "            'start': annotation['location']['start'],\n",
    "            'end': annotation['location']['end'],\n",
    "        }\n",
    "        annotations.append(annotation_info)\n",
    "  return annotations"
   ],
   "metadata": {
    "collapsed": false,
    "ExecuteTime": {
     "end_time": "2024-05-15T10:01:45.244326700Z",
     "start_time": "2024-05-15T10:01:45.205341700Z"
    }
   },
   "id": "e6eaf746b995bf31",
   "execution_count": 14
  },
  {
   "cell_type": "code",
   "outputs": [],
   "source": [
    "def extract_is_manipulation(projects):\n",
    "    is_manipulated = False\n",
    "    for project_id, project_data in projects.items():\n",
    "        for label_data in project_data['labels']:\n",
    "            for i in label_data['annotations']['classifications']:        \n",
    "        # Extracting the first value and converting to boolean\n",
    "                is_manipulated = i['radio_answer']['name'] == 'Так'\n",
    "        # Break the loop after extracting the first value\n",
    "                break\n",
    "            if is_manipulated:\n",
    "                break\n",
    "        if is_manipulated:\n",
    "            break\n",
    "          \n",
    "    return is_manipulated"
   ],
   "metadata": {
    "collapsed": false,
    "ExecuteTime": {
     "end_time": "2024-05-15T10:01:45.272327400Z",
     "start_time": "2024-05-15T10:01:45.222329200Z"
    }
   },
   "id": "ef83ae5864756886",
   "execution_count": 15
  },
  {
   "cell_type": "code",
   "outputs": [],
   "source": [
    "# Extract message id \n",
    "df_export[\"message_id\"] = df_export[\"data_row\"].apply(lambda x: x[\"external_id\"].replace('message_', '').replace('.txt', ''))\n",
    "#Convert message_id ti int\n",
    "df_export[\"message_id\"] = df_export[\"message_id\"].apply(ast.literal_eval)\n",
    "# Extract annotations\n",
    "df_export['annotations'] = df_export[\"projects\"].apply(extract_annotations)\n",
    "# Extract wheteher is text is manipulations\n",
    "df_export[\"is_manipulation\"]= df_export['projects'].apply(extract_is_manipulation)\n",
    "df_export = df_export[[\"message_id\", \"annotations\", \"is_manipulation\"]]"
   ],
   "metadata": {
    "collapsed": false,
    "ExecuteTime": {
     "end_time": "2024-05-15T10:01:45.378328500Z",
     "start_time": "2024-05-15T10:01:45.236326800Z"
    }
   },
   "id": "a719da4dddc6c537",
   "execution_count": 16
  },
  {
   "cell_type": "code",
   "outputs": [
    {
     "data": {
      "text/plain": "   message_id                                        annotations  \\\n0      209742                                                 []   \n1      209744                                                 []   \n2      209751  [{'name': 'Emotion_other', 'token': 'легендарн...   \n3      209753                                                 []   \n4      209760                                                 []   \n\n   is_manipulation  \n0            False  \n1            False  \n2             True  \n3            False  \n4            False  ",
      "text/html": "<div>\n<style scoped>\n    .dataframe tbody tr th:only-of-type {\n        vertical-align: middle;\n    }\n\n    .dataframe tbody tr th {\n        vertical-align: top;\n    }\n\n    .dataframe thead th {\n        text-align: right;\n    }\n</style>\n<table border=\"1\" class=\"dataframe\">\n  <thead>\n    <tr style=\"text-align: right;\">\n      <th></th>\n      <th>message_id</th>\n      <th>annotations</th>\n      <th>is_manipulation</th>\n    </tr>\n  </thead>\n  <tbody>\n    <tr>\n      <th>0</th>\n      <td>209742</td>\n      <td>[]</td>\n      <td>False</td>\n    </tr>\n    <tr>\n      <th>1</th>\n      <td>209744</td>\n      <td>[]</td>\n      <td>False</td>\n    </tr>\n    <tr>\n      <th>2</th>\n      <td>209751</td>\n      <td>[{'name': 'Emotion_other', 'token': 'легендарн...</td>\n      <td>True</td>\n    </tr>\n    <tr>\n      <th>3</th>\n      <td>209753</td>\n      <td>[]</td>\n      <td>False</td>\n    </tr>\n    <tr>\n      <th>4</th>\n      <td>209760</td>\n      <td>[]</td>\n      <td>False</td>\n    </tr>\n  </tbody>\n</table>\n</div>"
     },
     "execution_count": 17,
     "metadata": {},
     "output_type": "execute_result"
    }
   ],
   "source": [
    "df_export.head()"
   ],
   "metadata": {
    "collapsed": false,
    "ExecuteTime": {
     "end_time": "2024-05-15T10:01:45.387327Z",
     "start_time": "2024-05-15T10:01:45.336328100Z"
    }
   },
   "id": "cf2197517289ce2",
   "execution_count": 17
  },
  {
   "cell_type": "markdown",
   "source": [
    "#### Remove ads (if any)"
   ],
   "metadata": {
    "collapsed": false
   },
   "id": "6752856c6a830fc7"
  },
  {
   "cell_type": "code",
   "outputs": [
    {
     "data": {
      "text/plain": "   message_id                                    message_content  \\\n0      209742  Цигарки блоками  за най нижчими цінами в Украї...   \n1      209744  ⚡️Окупанти завдали 6 ударів ракетами С-300, – ...   \n2      209751  ➡️ «Доброго вечора, ми з України» – легендарни...   \n3      209753  Новий стінопис з військовим зʼявився на стінах...   \n4      209760  ✨Чуєте святковий настрій? Новорічні знижки у с...   \n\n                                         annotations  is_manipulation  \n0                                                 []            False  \n1                                                 []            False  \n2  [{'name': 'Emotion_other', 'token': 'легендарн...             True  \n3                                                 []            False  \n4                                                 []            False  ",
      "text/html": "<div>\n<style scoped>\n    .dataframe tbody tr th:only-of-type {\n        vertical-align: middle;\n    }\n\n    .dataframe tbody tr th {\n        vertical-align: top;\n    }\n\n    .dataframe thead th {\n        text-align: right;\n    }\n</style>\n<table border=\"1\" class=\"dataframe\">\n  <thead>\n    <tr style=\"text-align: right;\">\n      <th></th>\n      <th>message_id</th>\n      <th>message_content</th>\n      <th>annotations</th>\n      <th>is_manipulation</th>\n    </tr>\n  </thead>\n  <tbody>\n    <tr>\n      <th>0</th>\n      <td>209742</td>\n      <td>Цигарки блоками  за най нижчими цінами в Украї...</td>\n      <td>[]</td>\n      <td>False</td>\n    </tr>\n    <tr>\n      <th>1</th>\n      <td>209744</td>\n      <td>⚡️Окупанти завдали 6 ударів ракетами С-300, – ...</td>\n      <td>[]</td>\n      <td>False</td>\n    </tr>\n    <tr>\n      <th>2</th>\n      <td>209751</td>\n      <td>➡️ «Доброго вечора, ми з України» – легендарни...</td>\n      <td>[{'name': 'Emotion_other', 'token': 'легендарн...</td>\n      <td>True</td>\n    </tr>\n    <tr>\n      <th>3</th>\n      <td>209753</td>\n      <td>Новий стінопис з військовим зʼявився на стінах...</td>\n      <td>[]</td>\n      <td>False</td>\n    </tr>\n    <tr>\n      <th>4</th>\n      <td>209760</td>\n      <td>✨Чуєте святковий настрій? Новорічні знижки у с...</td>\n      <td>[]</td>\n      <td>False</td>\n    </tr>\n  </tbody>\n</table>\n</div>"
     },
     "execution_count": 19,
     "metadata": {},
     "output_type": "execute_result"
    }
   ],
   "source": [
    "# Download dataset with text\n",
    "df_text = pd.read_csv('C:/N/st/UCU/5sem2024_DIPLOMA/Manipulation/code/teleg_news_channels/data_preprocessed.csv')\n",
    "# Choose only post in Ukrainian\n",
    "df_text = df_text[df_text[\"lang\"] == 'uk']\n",
    "df_text.rename(columns={\"Unnamed: 0\" : \"message_id\"}, inplace=True)\n",
    "# Add texts\n",
    "df_with_text = pd.merge(df_text, df_export, on='message_id', how='inner') \n",
    "selected_columns = [\"message_id\", \"message_content\", \"annotations\", \"is_manipulation\"]\n",
    "df_with_text = df_with_text[selected_columns]\n",
    "df_with_text.head()"
   ],
   "metadata": {
    "collapsed": false,
    "ExecuteTime": {
     "end_time": "2024-05-15T10:02:55.922329400Z",
     "start_time": "2024-05-15T10:02:12.325327400Z"
    }
   },
   "id": "9b0d07d950845eaa",
   "execution_count": 19
  },
  {
   "cell_type": "code",
   "outputs": [],
   "source": [
    "# Clean all text from advertizing\n",
    "ad_key_words = [\"#реклама\", \"UPG\", \"Що подивитися на вихідних\", \"заплатимо тобі гроші\", \"у вас є крутий відос або фото?\", \"Терміново знімайте та надсилайте мені!\", \"ПЛАТИТЬ ГРОШІ ЗА КОНТЕНТ\", \"#хвостатий_вечір\", \"фільмів\", \"Куди піти\", \"WOG\", \"заклад працює\", \"Ми знаходимось\", \"Вакансія\"]\n",
    "mask = df_with_text[\"message_content\"].str.contains('|'.join(ad_key_words), case=True)  #case=True - case sensitive, exactly\n",
    "ads= df_with_text[mask] # add"
   ],
   "metadata": {
    "collapsed": false,
    "ExecuteTime": {
     "end_time": "2024-05-15T10:09:27.248209200Z",
     "start_time": "2024-05-15T10:09:27.224205Z"
    }
   },
   "id": "18bb63718a9694f2",
   "execution_count": 20
  },
  {
   "cell_type": "code",
   "outputs": [],
   "source": [
    "# Remove what does not need\n",
    "ads.loc[ads['message_id'] == 1128494, 'is_manipulation'] = False\n",
    "ads.loc[ads['message_id'] == 315402, 'is_manipulation'] = False\n",
    "\n",
    "ads = ads[ads[\"is_manipulation\"]==False]"
   ],
   "metadata": {
    "collapsed": false,
    "ExecuteTime": {
     "end_time": "2024-05-15T10:09:28.802207300Z",
     "start_time": "2024-05-15T10:09:28.765207100Z"
    }
   },
   "id": "2d3cd78f1f09b82d",
   "execution_count": 21
  },
  {
   "cell_type": "code",
   "outputs": [
    {
     "name": "stdout",
     "output_type": "stream",
     "text": [
      "The Number of posts: 7394\n"
     ]
    }
   ],
   "source": [
    "# Remove advertising if any\n",
    "df_with_text= df_with_text[~mask] # remove\n",
    "print(\"The Number of posts:\", len(df_with_text))"
   ],
   "metadata": {
    "collapsed": false,
    "ExecuteTime": {
     "end_time": "2024-05-15T10:09:31.052206700Z",
     "start_time": "2024-05-15T10:09:31.025203900Z"
    }
   },
   "id": "e0ad1d7c4ceae26b",
   "execution_count": 22
  },
  {
   "cell_type": "markdown",
   "source": [
    "#### Choose only rows with any annotations"
   ],
   "metadata": {
    "collapsed": false
   },
   "id": "8634402ebb23fe75"
  },
  {
   "cell_type": "code",
   "outputs": [
    {
     "name": "stdout",
     "output_type": "stream",
     "text": [
      "There are texts with empty annotations in True\n"
     ]
    }
   ],
   "source": [
    "# Choose only rows with any annotations\n",
    "df_ismanipulation = df_with_text[df_with_text[\"is_manipulation\"]== True]\n",
    "\n",
    "#check if ismanipulation status is correct\n",
    "annotations_non_empty = df_ismanipulation['annotations'].apply(lambda x: isinstance(x, list) and len(x) > 0)\n",
    "if annotations_non_empty.all():\n",
    "    print(\"All True texts have non-empty annotations\")\n",
    "else:\n",
    "    print(\"There are texts with empty annotations in True\")"
   ],
   "metadata": {
    "collapsed": false,
    "ExecuteTime": {
     "end_time": "2024-05-15T10:09:35.194206Z",
     "start_time": "2024-05-15T10:09:35.168203900Z"
    }
   },
   "id": "c48093f3983f51a1",
   "execution_count": 23
  },
  {
   "cell_type": "code",
   "outputs": [],
   "source": [
    "# If there are\n",
    "# Filter the DataFrame to include only rows where the \"annotations\" column contains empty lists\n",
    "\n",
    "ismanipulation_df_with_empty_annotations = df_ismanipulation[~annotations_non_empty]\n",
    "need_to_be_changed_ids_to_false = ismanipulation_df_with_empty_annotations[\"message_id\"].tolist()"
   ],
   "metadata": {
    "collapsed": false,
    "ExecuteTime": {
     "end_time": "2024-05-15T10:09:36.375233Z",
     "start_time": "2024-05-15T10:09:36.353203900Z"
    }
   },
   "id": "a6eae03a49d5cceb",
   "execution_count": 24
  },
  {
   "cell_type": "code",
   "outputs": [
    {
     "name": "stdout",
     "output_type": "stream",
     "text": [
      "All True texts have non-empty annotations\n"
     ]
    }
   ],
   "source": [
    "# Change the status to the right one if changes are needed\n",
    "df_with_text.loc[df_with_text['message_id'].isin(need_to_be_changed_ids_to_false), 'is_manipulation'] = False\n",
    "# Choose only rows with any annotations\n",
    "df_ismanipulation = df_with_text[df_with_text[\"is_manipulation\"]== True]\n",
    "\n",
    "#check if ismanipulation status is correct\n",
    "annotations_non_empty = df_ismanipulation['annotations'].apply(lambda x: isinstance(x, list) and len(x) > 0)\n",
    "if annotations_non_empty.all():\n",
    "    print(\"All True texts have non-empty annotations\")\n",
    "else:\n",
    "    print(\"There are texts with empty annotations in True\")"
   ],
   "metadata": {
    "collapsed": false,
    "ExecuteTime": {
     "end_time": "2024-05-15T10:09:38.233203100Z",
     "start_time": "2024-05-15T10:09:38.192203600Z"
    }
   },
   "id": "cddd871f33f438f7",
   "execution_count": 25
  },
  {
   "cell_type": "code",
   "outputs": [
    {
     "name": "stdout",
     "output_type": "stream",
     "text": [
      "All texts have empty annotations in False\n"
     ]
    }
   ],
   "source": [
    "# Choose only rows with zero annotations\n",
    "df_notmanipulation = df_export[df_export[\"is_manipulation\"]== False]\n",
    "\n",
    "#check if ismanipulation status is correct\n",
    "annotations_empty = df_notmanipulation['annotations'].apply(lambda x: isinstance(x, list) and len(x) > 0)\n",
    "if annotations_empty.all():\n",
    "    print(\"There are non-empty annotations in False\")\n",
    "else:\n",
    "    print(\"All texts have empty annotations in False\")"
   ],
   "metadata": {
    "collapsed": false,
    "ExecuteTime": {
     "end_time": "2024-05-15T10:09:40.419203800Z",
     "start_time": "2024-05-15T10:09:40.391205700Z"
    }
   },
   "id": "d35464a86cb4860f",
   "execution_count": 26
  },
  {
   "cell_type": "code",
   "outputs": [
    {
     "name": "stdout",
     "output_type": "stream",
     "text": [
      "Number of the posts with manipulation: 1877\n"
     ]
    }
   ],
   "source": [
    "print(\"Number of the posts with manipulation:\", len(df_ismanipulation))"
   ],
   "metadata": {
    "collapsed": false,
    "ExecuteTime": {
     "end_time": "2024-05-15T10:09:41.526203Z",
     "start_time": "2024-05-15T10:09:41.494204600Z"
    }
   },
   "id": "30c9781d989e157f",
   "execution_count": 27
  },
  {
   "cell_type": "code",
   "outputs": [
    {
     "data": {
      "text/plain": "<Figure size 432x432 with 1 Axes>",
      "image/png": "[encoded data removed]"
     },
     "metadata": {
      "needs_background": "light"
     },
     "output_type": "display_data"
    }
   ],
   "source": [
    "# Count the occurrences of each class\n",
    "is_manipulation = df_with_text[\"is_manipulation\"].value_counts()\n",
    "\n",
    "# Plot the frequency of each class\n",
    "plt.figure(figsize=(6, 6))\n",
    "ax = is_manipulation.plot(kind='bar')\n",
    "plt.title('The distribution of the manipulation status')\n",
    "plt.xlabel('Class')\n",
    "plt.ylabel('Frequency')\n",
    "plt.xticks(rotation=45, ha='right')\n",
    "\n",
    "# Add numbers on top of the bar\n",
    "for i, v in enumerate(is_manipulation):\n",
    "    ax.text(i, v+10, str(v), ha='center')\n",
    "plt.tight_layout()\n",
    "plt.show()"
   ],
   "metadata": {
    "collapsed": false,
    "ExecuteTime": {
     "end_time": "2024-05-15T10:09:44.175202800Z",
     "start_time": "2024-05-15T10:09:43.974203600Z"
    }
   },
   "id": "5c2449934f7909d3",
   "execution_count": 28
  },
  {
   "cell_type": "markdown",
   "source": [
    "#### Add texts"
   ],
   "metadata": {
    "collapsed": false
   },
   "id": "92e00e5554ea7d58"
  },
  {
   "cell_type": "code",
   "outputs": [],
   "source": [
    "# Remove everything except for text, numbers and punctuation\n",
    "punctuation = \"!*(),-.–:;?%/\"\n",
    "russian_letters = u\"абвгдеёжзийклмнопрстуфхцчшщъыьэюяАБВГДЕЁЖЗИЙКЛМНОПРСТУФХЦЧШЩЪЫЬЭЮЯ\"\n",
    "ukrainian_alphabet = u\"АБВГҐДЕЄЖЗИІЇЙКЛМНОПРСТУФХЦЧШЩЬЮЯабвгґдеєжзиіїйклмнопрстуфхцчшщьюя\"\n",
    "latin_letters_numbers = \"1234567890abcdefghijklmnopqrstuvwxyzABCDEFGHIJKLMNOPQRSTUVWXYZ \"\n",
    "allowed_symbols = ukrainian_alphabet+russian_letters+latin_letters_numbers+punctuation\n",
    "\n",
    "def clean_text(text, allowed_symbols=\"\"):\n",
    "    # Remove newline characters, carriage returns, and repr symbols\n",
    "    cleaned_text = re.sub(r'[\\n\\r\\t\\\\]+', ' ', text)\n",
    "    # Remove multiple spaces \n",
    "    cleaned_text = re.sub(r'\\s+', ' ', cleaned_text)\n",
    "    # Clean the messages from all emojis\n",
    "    pattern = r'[\\U0001F300-\\U0001F5FF\\U0001F600-\\U0001F64F\\U0001F680-\\U0001F6FF\\U0001F700-\\U0001F77F\\U0001F780-\\U0001F7FF\\U0001F800-\\U0001F8FF\\U0001F900-\\U0001F9FF\\U0001FA00-\\U0001FA6F\\U0001FA70-\\U0001FAFF\\U00002702-\\U000027B0\\U000024C2-\\U0001F251&&[^\\uFF01-\\uFF5E]]+'\n",
    "    cleaned_text = re.sub(pattern, '', cleaned_text)\n",
    "    # Remove URLs\n",
    "    cleaned_text = re.sub(r'http[s]?://\\S+', '', cleaned_text)\n",
    "    # Remove everything except for allowed symbols if specified\n",
    "    if allowed_symbols:\n",
    "        cleaned_text = ''.join(char for char in cleaned_text if char in allowed_symbols)\n",
    "    cleaned_text = cleaned_text.lower()\n",
    "    cleaned_text = re.sub(r'\\s+', ' ', cleaned_text)\n",
    "    return cleaned_text"
   ],
   "metadata": {
    "collapsed": false,
    "ExecuteTime": {
     "end_time": "2024-05-15T10:09:48.099211500Z",
     "start_time": "2024-05-15T10:09:48.072205300Z"
    }
   },
   "id": "c239b2b9091aae18",
   "execution_count": 29
  },
  {
   "cell_type": "code",
   "outputs": [
    {
     "name": "stderr",
     "output_type": "stream",
     "text": [
      "C:\\Windows\\Temp\\ipykernel_15188\\1771681459.py:15: FutureWarning: Possible set intersection at position 232\n",
      "  cleaned_text = re.sub(pattern, '', cleaned_text)\n",
      "C:\\Windows\\Temp\\ipykernel_15188\\2771992391.py:2: SettingWithCopyWarning: \n",
      "A value is trying to be set on a copy of a slice from a DataFrame.\n",
      "Try using .loc[row_indexer,col_indexer] = value instead\n",
      "\n",
      "See the caveats in the documentation: https://pandas.pydata.org/pandas-docs/stable/user_guide/indexing.html#returning-a-view-versus-a-copy\n",
      "  df_ismanipulation[\"message_clean\"] = df_ismanipulation[\"message_content\"].apply(lambda x: clean_text(x,allowed_symbols))\n"
     ]
    }
   ],
   "source": [
    "# Clean messages text\n",
    "df_ismanipulation[\"message_clean\"] = df_ismanipulation[\"message_content\"].apply(lambda x: clean_text(x,allowed_symbols))"
   ],
   "metadata": {
    "collapsed": false,
    "ExecuteTime": {
     "end_time": "2024-05-15T10:09:51.446239200Z",
     "start_time": "2024-05-15T10:09:51.250215700Z"
    }
   },
   "id": "20494b1a93b85e77",
   "execution_count": 30
  },
  {
   "cell_type": "code",
   "outputs": [
    {
     "data": {
      "text/plain": "False    1877\nName: message_clean, dtype: int64"
     },
     "execution_count": 31,
     "metadata": {},
     "output_type": "execute_result"
    }
   ],
   "source": [
    "df_ismanipulation[\"message_clean\"].isna().value_counts()"
   ],
   "metadata": {
    "collapsed": false,
    "ExecuteTime": {
     "end_time": "2024-05-15T10:09:53.810205300Z",
     "start_time": "2024-05-15T10:09:53.782209100Z"
    }
   },
   "id": "ea7a76085ae95dbe",
   "execution_count": 31
  },
  {
   "cell_type": "markdown",
   "source": [
    "#### Extract name and token"
   ],
   "metadata": {
    "collapsed": false
   },
   "id": "df41b4a75f3ec5d3"
  },
  {
   "cell_type": "code",
   "outputs": [
    {
     "name": "stderr",
     "output_type": "stream",
     "text": [
      "C:\\Windows\\Temp\\ipykernel_15188\\3458851843.py:2: SettingWithCopyWarning: \n",
      "A value is trying to be set on a copy of a slice from a DataFrame.\n",
      "Try using .loc[row_indexer,col_indexer] = value instead\n",
      "\n",
      "See the caveats in the documentation: https://pandas.pydata.org/pandas-docs/stable/user_guide/indexing.html#returning-a-view-versus-a-copy\n",
      "  df_ismanipulation[\"annotations_exploded\"] = df_ismanipulation[\"annotations\"]\n"
     ]
    },
    {
     "data": {
      "text/plain": "   message_id                                    message_content  \\\n2      209751  ➡️ «Доброго вечора, ми з України» – легендарни...   \n2      209751  ➡️ «Доброго вечора, ми з України» – легендарни...   \n5      209779  😱Мільйон гривень за шкільний туалет витратять ...   \n5      209779  😱Мільйон гривень за шкільний туалет витратять ...   \n7      209784  ❗️Вручення повісток у спортзалах є законним: «...   \n\n                                         annotations  is_manipulation  \\\n2  [{'name': 'Emotion_other', 'token': 'легендарн...             True   \n2  [{'name': 'Emotion_other', 'token': 'легендарн...             True   \n5  [{'name': 'Doubts_government', 'token': 'Це як...             True   \n5  [{'name': 'Doubts_government', 'token': 'Це як...             True   \n7  [{'name': 'Black_White', 'token': '«Чоловіки п...             True   \n\n                                       message_clean               name  \\\n2   доброго вечора, ми з україни – легендарний ви...      Emotion_other   \n2   доброго вечора, ми з україни – легендарний ви...       Doubts_media   \n5  мільйон гривень за шкільний туалет витратять у...  Doubts_government   \n5  мільйон гривень за шкільний туалет витратять у...  Doubts_government   \n7  вручення повісток у спортзалах є законним: кач...        Black_White   \n\n                                               token  start  end  \n2                                        легендарний     46   56  \n2                 те, що не покажуть звичайні новини    209  242  \n5                   Це якийсь новий тендерний тренд?    382  413  \n5                   Це якийсь новий тендерний тренд?    382  413  \n7  «Чоловіки призовного віку, які свідомо уникаюч...     93  284  ",
      "text/html": "<div>\n<style scoped>\n    .dataframe tbody tr th:only-of-type {\n        vertical-align: middle;\n    }\n\n    .dataframe tbody tr th {\n        vertical-align: top;\n    }\n\n    .dataframe thead th {\n        text-align: right;\n    }\n</style>\n<table border=\"1\" class=\"dataframe\">\n  <thead>\n    <tr style=\"text-align: right;\">\n      <th></th>\n      <th>message_id</th>\n      <th>message_content</th>\n      <th>annotations</th>\n      <th>is_manipulation</th>\n      <th>message_clean</th>\n      <th>name</th>\n      <th>token</th>\n      <th>start</th>\n      <th>end</th>\n    </tr>\n  </thead>\n  <tbody>\n    <tr>\n      <th>2</th>\n      <td>209751</td>\n      <td>➡️ «Доброго вечора, ми з України» – легендарни...</td>\n      <td>[{'name': 'Emotion_other', 'token': 'легендарн...</td>\n      <td>True</td>\n      <td>доброго вечора, ми з україни – легендарний ви...</td>\n      <td>Emotion_other</td>\n      <td>легендарний</td>\n      <td>46</td>\n      <td>56</td>\n    </tr>\n    <tr>\n      <th>2</th>\n      <td>209751</td>\n      <td>➡️ «Доброго вечора, ми з України» – легендарни...</td>\n      <td>[{'name': 'Emotion_other', 'token': 'легендарн...</td>\n      <td>True</td>\n      <td>доброго вечора, ми з україни – легендарний ви...</td>\n      <td>Doubts_media</td>\n      <td>те, що не покажуть звичайні новини</td>\n      <td>209</td>\n      <td>242</td>\n    </tr>\n    <tr>\n      <th>5</th>\n      <td>209779</td>\n      <td>😱Мільйон гривень за шкільний туалет витратять ...</td>\n      <td>[{'name': 'Doubts_government', 'token': 'Це як...</td>\n      <td>True</td>\n      <td>мільйон гривень за шкільний туалет витратять у...</td>\n      <td>Doubts_government</td>\n      <td>Це якийсь новий тендерний тренд?</td>\n      <td>382</td>\n      <td>413</td>\n    </tr>\n    <tr>\n      <th>5</th>\n      <td>209779</td>\n      <td>😱Мільйон гривень за шкільний туалет витратять ...</td>\n      <td>[{'name': 'Doubts_government', 'token': 'Це як...</td>\n      <td>True</td>\n      <td>мільйон гривень за шкільний туалет витратять у...</td>\n      <td>Doubts_government</td>\n      <td>Це якийсь новий тендерний тренд?</td>\n      <td>382</td>\n      <td>413</td>\n    </tr>\n    <tr>\n      <th>7</th>\n      <td>209784</td>\n      <td>❗️Вручення повісток у спортзалах є законним: «...</td>\n      <td>[{'name': 'Black_White', 'token': '«Чоловіки п...</td>\n      <td>True</td>\n      <td>вручення повісток у спортзалах є законним: кач...</td>\n      <td>Black_White</td>\n      <td>«Чоловіки призовного віку, які свідомо уникаюч...</td>\n      <td>93</td>\n      <td>284</td>\n    </tr>\n  </tbody>\n</table>\n</div>"
     },
     "execution_count": 32,
     "metadata": {},
     "output_type": "execute_result"
    }
   ],
   "source": [
    "# Explode the rows\n",
    "df_ismanipulation[\"annotations_exploded\"] = df_ismanipulation[\"annotations\"]\n",
    "df_ismanipulation = df_ismanipulation.explode(\"annotations_exploded\")\n",
    "# Convert 'annotations' to DataFrame\n",
    "df_an = pd.DataFrame(df_ismanipulation['annotations_exploded'].tolist(), index=df_ismanipulation.index)\n",
    "# Merge with original DataFrame on index to retain 'message_id'\n",
    "df_ismanipulation = pd.concat([df_ismanipulation.drop(columns=\"annotations_exploded\"), df_an], axis=1)\n",
    "df_ismanipulation.head()"
   ],
   "metadata": {
    "collapsed": false,
    "ExecuteTime": {
     "end_time": "2024-05-15T10:09:57.542438Z",
     "start_time": "2024-05-15T10:09:57.471409100Z"
    }
   },
   "id": "e8a89ecf92238734",
   "execution_count": 32
  },
  {
   "cell_type": "code",
   "outputs": [
    {
     "data": {
      "text/plain": "      message_id                                    message_content  \\\n156       211006  Поранив хлопця ножем в голову😨\\n\\nПоліція огол...   \n188       211361  🤬 С-300 русня атакувала Харківщину сьогодні.\\n...   \n525       316700  Випадок захворювання на лептоспіроз зафіксувал...   \n2016      716140  Пздц! ТРУЯТЬ собак на Стрілецькій 🤯\\n\\n#меніпи...   \n4291     1066327  ❗️Нова ПАНДЕМІЯ? Китайські вчені відкрили вісі...   \n\n                                            annotations  is_manipulation  \\\n156   [{'name': 'Emotion_other', 'token': 'Який треш...             True   \n188   [{'name': 'Emotion_Anger', 'token': '🤬', 'star...             True   \n525   [{'name': 'Emotion_Fear', 'token': '🤯', 'start...             True   \n2016  [{'name': 'Emotion_other', 'token': 'Пздц', 's...             True   \n4291  [{'name': 'Emotion_Fear', 'token': '🤯', 'start...             True   \n\n                                          message_clean           name token  \\\n156   поранив хлопця ножем в голову поліція оголосил...  Emotion_Anger     🤬   \n188    с-300 русня атакувала харківщину сьогодні. пр...  Emotion_Anger     🤬   \n525   випадок захворювання на лептоспіроз зафіксувал...   Emotion_Fear     🤯   \n2016  пздц! труять собак на стрілецькій меніпишуть н...  Emotion_other     🤯   \n4291  нова пандемія? китайські вчені відкрили вісім ...   Emotion_Fear     🤯   \n\n      start  end token_clean  \n156     212  213              \n188      10   11              \n525      69   70              \n2016     44   45              \n4291     85   86              ",
      "text/html": "<div>\n<style scoped>\n    .dataframe tbody tr th:only-of-type {\n        vertical-align: middle;\n    }\n\n    .dataframe tbody tr th {\n        vertical-align: top;\n    }\n\n    .dataframe thead th {\n        text-align: right;\n    }\n</style>\n<table border=\"1\" class=\"dataframe\">\n  <thead>\n    <tr style=\"text-align: right;\">\n      <th></th>\n      <th>message_id</th>\n      <th>message_content</th>\n      <th>annotations</th>\n      <th>is_manipulation</th>\n      <th>message_clean</th>\n      <th>name</th>\n      <th>token</th>\n      <th>start</th>\n      <th>end</th>\n      <th>token_clean</th>\n    </tr>\n  </thead>\n  <tbody>\n    <tr>\n      <th>156</th>\n      <td>211006</td>\n      <td>Поранив хлопця ножем в голову😨\\n\\nПоліція огол...</td>\n      <td>[{'name': 'Emotion_other', 'token': 'Який треш...</td>\n      <td>True</td>\n      <td>поранив хлопця ножем в голову поліція оголосил...</td>\n      <td>Emotion_Anger</td>\n      <td>🤬</td>\n      <td>212</td>\n      <td>213</td>\n      <td></td>\n    </tr>\n    <tr>\n      <th>188</th>\n      <td>211361</td>\n      <td>🤬 С-300 русня атакувала Харківщину сьогодні.\\n...</td>\n      <td>[{'name': 'Emotion_Anger', 'token': '🤬', 'star...</td>\n      <td>True</td>\n      <td>с-300 русня атакувала харківщину сьогодні. пр...</td>\n      <td>Emotion_Anger</td>\n      <td>🤬</td>\n      <td>10</td>\n      <td>11</td>\n      <td></td>\n    </tr>\n    <tr>\n      <th>525</th>\n      <td>316700</td>\n      <td>Випадок захворювання на лептоспіроз зафіксувал...</td>\n      <td>[{'name': 'Emotion_Fear', 'token': '🤯', 'start...</td>\n      <td>True</td>\n      <td>випадок захворювання на лептоспіроз зафіксувал...</td>\n      <td>Emotion_Fear</td>\n      <td>🤯</td>\n      <td>69</td>\n      <td>70</td>\n      <td></td>\n    </tr>\n    <tr>\n      <th>2016</th>\n      <td>716140</td>\n      <td>Пздц! ТРУЯТЬ собак на Стрілецькій 🤯\\n\\n#меніпи...</td>\n      <td>[{'name': 'Emotion_other', 'token': 'Пздц', 's...</td>\n      <td>True</td>\n      <td>пздц! труять собак на стрілецькій меніпишуть н...</td>\n      <td>Emotion_other</td>\n      <td>🤯</td>\n      <td>44</td>\n      <td>45</td>\n      <td></td>\n    </tr>\n    <tr>\n      <th>4291</th>\n      <td>1066327</td>\n      <td>❗️Нова ПАНДЕМІЯ? Китайські вчені відкрили вісі...</td>\n      <td>[{'name': 'Emotion_Fear', 'token': '🤯', 'start...</td>\n      <td>True</td>\n      <td>нова пандемія? китайські вчені відкрили вісім ...</td>\n      <td>Emotion_Fear</td>\n      <td>🤯</td>\n      <td>85</td>\n      <td>86</td>\n      <td></td>\n    </tr>\n  </tbody>\n</table>\n</div>"
     },
     "execution_count": 33,
     "metadata": {},
     "output_type": "execute_result"
    }
   ],
   "source": [
    "# Change End and Start with mo emoji and spaces\n",
    "# Clean messages text\n",
    "df_ismanipulation[\"token_clean\"] = df_ismanipulation[\"token\"].apply(lambda x: clean_text(x,allowed_symbols))\n",
    "# Check if there are empty token_clean \n",
    "remove = df_ismanipulation[df_ismanipulation[\"token_clean\"] == \"\"]\n",
    "remove.head()"
   ],
   "metadata": {
    "collapsed": false,
    "ExecuteTime": {
     "end_time": "2024-05-15T10:10:01.477434200Z",
     "start_time": "2024-05-15T10:10:01.399407Z"
    }
   },
   "id": "5102e0b5046e837e",
   "execution_count": 33
  },
  {
   "cell_type": "code",
   "outputs": [],
   "source": [
    "# Remove token_clean if there are empty\n",
    "df_ismanipulation = df_ismanipulation[df_ismanipulation['token_clean'].apply(clean_text).str.strip() != \"\"]"
   ],
   "metadata": {
    "collapsed": false,
    "ExecuteTime": {
     "end_time": "2024-05-15T10:10:04.756404200Z",
     "start_time": "2024-05-15T10:10:04.702409100Z"
    }
   },
   "id": "77abc014ba1f0429",
   "execution_count": 34
  },
  {
   "cell_type": "code",
   "outputs": [],
   "source": [
    "# Change start and end\n",
    "start_indices =[]\n",
    "end_indices  =[]\n",
    "\n",
    "for index, row in df_ismanipulation.iterrows():\n",
    "    token = row[\"token_clean\"]\n",
    "    message =  row[\"message_clean\"]\n",
    "    start = message.find(token)\n",
    "    end = start +len(token) -1\n",
    "    start_indices .append(start)\n",
    "    end_indices.append(end)\n",
    "\n",
    "\n",
    "df_ismanipulation[\"start_new\"] = start_indices\n",
    "df_ismanipulation[\"end_new\"] = end_indices"
   ],
   "metadata": {
    "collapsed": false,
    "ExecuteTime": {
     "end_time": "2024-05-15T10:10:05.691406Z",
     "start_time": "2024-05-15T10:10:05.518404700Z"
    }
   },
   "id": "70f1de9d33e2cd8f",
   "execution_count": 35
  },
  {
   "cell_type": "code",
   "outputs": [
    {
     "data": {
      "text/plain": "False    4260\nName: end_new, dtype: int64"
     },
     "execution_count": 36,
     "metadata": {},
     "output_type": "execute_result"
    }
   ],
   "source": [
    "df_ismanipulation[\"end_new\"].isnull().value_counts()"
   ],
   "metadata": {
    "collapsed": false,
    "ExecuteTime": {
     "end_time": "2024-05-15T10:10:07.418405Z",
     "start_time": "2024-05-15T10:10:07.352408900Z"
    }
   },
   "id": "32cd1d66db7122eb",
   "execution_count": 36
  },
  {
   "cell_type": "code",
   "outputs": [
    {
     "name": "stdout",
     "output_type": "stream",
     "text": [
      "Lenght: 4260\n"
     ]
    },
    {
     "data": {
      "text/plain": "   message_id                                    message_content  \\\n2      209751  ➡️ «Доброго вечора, ми з України» – легендарни...   \n2      209751  ➡️ «Доброго вечора, ми з України» – легендарни...   \n5      209779  😱Мільйон гривень за шкільний туалет витратять ...   \n5      209779  😱Мільйон гривень за шкільний туалет витратять ...   \n7      209784  ❗️Вручення повісток у спортзалах є законним: «...   \n\n                                         annotations  is_manipulation  \\\n2  [{'name': 'Emotion_other', 'token': 'легендарн...             True   \n2  [{'name': 'Emotion_other', 'token': 'легендарн...             True   \n5  [{'name': 'Doubts_government', 'token': 'Це як...             True   \n5  [{'name': 'Doubts_government', 'token': 'Це як...             True   \n7  [{'name': 'Black_White', 'token': '«Чоловіки п...             True   \n\n                                       message_clean               name  \\\n2   доброго вечора, ми з україни – легендарний ви...      Emotion_other   \n2   доброго вечора, ми з україни – легендарний ви...       Doubts_media   \n5  мільйон гривень за шкільний туалет витратять у...  Doubts_government   \n5  мільйон гривень за шкільний туалет витратять у...  Doubts_government   \n7  вручення повісток у спортзалах є законним: кач...        Black_White   \n\n                                               token  start  end  \\\n2                                        легендарний     46   56   \n2                 те, що не покажуть звичайні новини    209  242   \n5                   Це якийсь новий тендерний тренд?    382  413   \n5                   Це якийсь новий тендерний тренд?    382  413   \n7  «Чоловіки призовного віку, які свідомо уникаюч...     93  284   \n\n                                         token_clean  start_new  end_new  \n2                                        легендарний         32       42  \n2                 те, що не покажуть звичайні новини        192      225  \n5                   це якийсь новий тендерний тренд?        358      389  \n5                   це якийсь новий тендерний тренд?        358      389  \n7  чоловіки призовного віку, які свідомо уникаючи...         76      264  ",
      "text/html": "<div>\n<style scoped>\n    .dataframe tbody tr th:only-of-type {\n        vertical-align: middle;\n    }\n\n    .dataframe tbody tr th {\n        vertical-align: top;\n    }\n\n    .dataframe thead th {\n        text-align: right;\n    }\n</style>\n<table border=\"1\" class=\"dataframe\">\n  <thead>\n    <tr style=\"text-align: right;\">\n      <th></th>\n      <th>message_id</th>\n      <th>message_content</th>\n      <th>annotations</th>\n      <th>is_manipulation</th>\n      <th>message_clean</th>\n      <th>name</th>\n      <th>token</th>\n      <th>start</th>\n      <th>end</th>\n      <th>token_clean</th>\n      <th>start_new</th>\n      <th>end_new</th>\n    </tr>\n  </thead>\n  <tbody>\n    <tr>\n      <th>2</th>\n      <td>209751</td>\n      <td>➡️ «Доброго вечора, ми з України» – легендарни...</td>\n      <td>[{'name': 'Emotion_other', 'token': 'легендарн...</td>\n      <td>True</td>\n      <td>доброго вечора, ми з україни – легендарний ви...</td>\n      <td>Emotion_other</td>\n      <td>легендарний</td>\n      <td>46</td>\n      <td>56</td>\n      <td>легендарний</td>\n      <td>32</td>\n      <td>42</td>\n    </tr>\n    <tr>\n      <th>2</th>\n      <td>209751</td>\n      <td>➡️ «Доброго вечора, ми з України» – легендарни...</td>\n      <td>[{'name': 'Emotion_other', 'token': 'легендарн...</td>\n      <td>True</td>\n      <td>доброго вечора, ми з україни – легендарний ви...</td>\n      <td>Doubts_media</td>\n      <td>те, що не покажуть звичайні новини</td>\n      <td>209</td>\n      <td>242</td>\n      <td>те, що не покажуть звичайні новини</td>\n      <td>192</td>\n      <td>225</td>\n    </tr>\n    <tr>\n      <th>5</th>\n      <td>209779</td>\n      <td>😱Мільйон гривень за шкільний туалет витратять ...</td>\n      <td>[{'name': 'Doubts_government', 'token': 'Це як...</td>\n      <td>True</td>\n      <td>мільйон гривень за шкільний туалет витратять у...</td>\n      <td>Doubts_government</td>\n      <td>Це якийсь новий тендерний тренд?</td>\n      <td>382</td>\n      <td>413</td>\n      <td>це якийсь новий тендерний тренд?</td>\n      <td>358</td>\n      <td>389</td>\n    </tr>\n    <tr>\n      <th>5</th>\n      <td>209779</td>\n      <td>😱Мільйон гривень за шкільний туалет витратять ...</td>\n      <td>[{'name': 'Doubts_government', 'token': 'Це як...</td>\n      <td>True</td>\n      <td>мільйон гривень за шкільний туалет витратять у...</td>\n      <td>Doubts_government</td>\n      <td>Це якийсь новий тендерний тренд?</td>\n      <td>382</td>\n      <td>413</td>\n      <td>це якийсь новий тендерний тренд?</td>\n      <td>358</td>\n      <td>389</td>\n    </tr>\n    <tr>\n      <th>7</th>\n      <td>209784</td>\n      <td>❗️Вручення повісток у спортзалах є законним: «...</td>\n      <td>[{'name': 'Black_White', 'token': '«Чоловіки п...</td>\n      <td>True</td>\n      <td>вручення повісток у спортзалах є законним: кач...</td>\n      <td>Black_White</td>\n      <td>«Чоловіки призовного віку, які свідомо уникаюч...</td>\n      <td>93</td>\n      <td>284</td>\n      <td>чоловіки призовного віку, які свідомо уникаючи...</td>\n      <td>76</td>\n      <td>264</td>\n    </tr>\n  </tbody>\n</table>\n</div>"
     },
     "execution_count": 38,
     "metadata": {},
     "output_type": "execute_result"
    }
   ],
   "source": [
    "print(\"Lenght:\", len(df_ismanipulation))\n",
    "df_ismanipulation.head()"
   ],
   "metadata": {
    "collapsed": false,
    "ExecuteTime": {
     "end_time": "2024-05-15T10:10:27.434406200Z",
     "start_time": "2024-05-15T10:10:27.392405900Z"
    }
   },
   "id": "694502ed22a58a0e",
   "execution_count": 38
  },
  {
   "cell_type": "markdown",
   "source": [
    "#### Remove duplicates for posts with consensus"
   ],
   "metadata": {
    "collapsed": false
   },
   "id": "6099c1c23f59fd1b"
  },
  {
   "cell_type": "code",
   "outputs": [
    {
     "data": {
      "text/plain": "[209779,\n 210009,\n 210028,\n 210588,\n 210590,\n 210878,\n 210911,\n 211048,\n 211070,\n 211122,\n 211431,\n 212018,\n 212123,\n 212152,\n 212298,\n 315326,\n 315353,\n 315384,\n 315445,\n 315493,\n 315497,\n 315533,\n 315535,\n 315564,\n 315684,\n 315716,\n 315800,\n 315960,\n 315987,\n 315993,\n 316025,\n 316138,\n 316139,\n 316157,\n 316210,\n 316250,\n 316384,\n 316645,\n 316676,\n 316698,\n 316701,\n 316745,\n 316750,\n 316754,\n 316812,\n 321591,\n 321596,\n 321618,\n 321641,\n 321703,\n 321756,\n 321798,\n 321817,\n 321855,\n 322155,\n 322179,\n 322192,\n 322346,\n 322364,\n 322443,\n 322560,\n 322594,\n 322723,\n 322817,\n 322838,\n 322997,\n 323265,\n 334747,\n 357519,\n 373775,\n 379915,\n 386616,\n 395098,\n 398162,\n 401299,\n 406390,\n 406613,\n 410220,\n 416563,\n 445031,\n 477294,\n 477454,\n 477523,\n 477651,\n 477853,\n 477883,\n 477920,\n 478037,\n 478237,\n 478286,\n 478441,\n 478442,\n 478632,\n 478668,\n 478835,\n 478916,\n 479027,\n 479045,\n 479193,\n 479210,\n 479338,\n 543177,\n 543210,\n 543315,\n 543316,\n 543353,\n 543458,\n 543780,\n 543811,\n 544053,\n 544498,\n 544532,\n 544657,\n 544745,\n 544912,\n 545133,\n 545194,\n 545315,\n 545494,\n 545767,\n 645654,\n 645656,\n 645749,\n 645756,\n 645805,\n 645844,\n 646006,\n 646035,\n 646255,\n 646444,\n 646557,\n 646596,\n 646907,\n 646976,\n 647147,\n 647279,\n 647335,\n 647343,\n 647376,\n 714669,\n 714754,\n 714904,\n 715008,\n 715482,\n 715558,\n 716014,\n 716062,\n 716084,\n 716087,\n 716182,\n 716353,\n 716476,\n 716512,\n 716723,\n 716896,\n 716991,\n 717316,\n 717574,\n 717610,\n 717871,\n 717994,\n 718142,\n 745841,\n 745876,\n 745912,\n 746139,\n 746342,\n 746611,\n 746933,\n 746989,\n 747502,\n 747549,\n 747615,\n 758303,\n 777238,\n 794630,\n 801953,\n 802062,\n 802156,\n 802316,\n 802455,\n 802511,\n 802534,\n 803053,\n 803184,\n 876107,\n 876114,\n 876143,\n 876435,\n 876440,\n 876442,\n 876471,\n 876632,\n 876756,\n 876788,\n 876855,\n 876884,\n 877180,\n 877285,\n 877432,\n 877549,\n 877583,\n 877715,\n 891119,\n 891298,\n 891435,\n 891573,\n 891640,\n 891912,\n 892183,\n 892321,\n 892328,\n 892555,\n 892576,\n 892605,\n 892635,\n 954603,\n 976282,\n 976346,\n 976483,\n 976644,\n 976655,\n 976803,\n 977011,\n 977061,\n 977216,\n 977350,\n 977511,\n 977622,\n 977709,\n 995016,\n 995095,\n 995141,\n 995165,\n 995365,\n 995699,\n 996241,\n 996250,\n 1062402,\n 1062649,\n 1062718,\n 1062744,\n 1062916,\n 1063170,\n 1063445,\n 1063725,\n 1063782,\n 1063974,\n 1064382,\n 1064621,\n 1064692,\n 1064727,\n 1064793,\n 1065063,\n 1065168,\n 1065183,\n 1065320,\n 1065588,\n 1065870,\n 1065871,\n 1065982,\n 1066110,\n 1066142,\n 1066201,\n 1066360,\n 1066438,\n 1066616,\n 1066929,\n 1067012,\n 1067103,\n 1067124,\n 1067313,\n 1067365,\n 1067657,\n 1067681,\n 1067836,\n 1068004,\n 1068118,\n 1068148,\n 1068281,\n 1068350,\n 1074853,\n 1074939,\n 1074973,\n 1075055,\n 1075146,\n 1075194,\n 1075278,\n 1075414,\n 1075559,\n 1075584,\n 1075603,\n 1075659,\n 1075781,\n 1075801,\n 1075831,\n 1076104,\n 1076133,\n 1076195,\n 1076231,\n 1076320,\n 1079574,\n 1079698,\n 1080157,\n 1080231,\n 1080255,\n 1082713,\n 1082841,\n 1082931,\n 1083357,\n 1083482,\n 1083921,\n 1110010,\n 1110018,\n 1110028,\n 1110114,\n 1110222,\n 1110254,\n 1110255,\n 1110275,\n 1110282,\n 1110290,\n 1110358,\n 1110431,\n 1110599,\n 1110627,\n 1110700,\n 1110886,\n 1111115,\n 1111185,\n 1111192,\n 1111450,\n 1113802,\n 1113896,\n 1114071,\n 1114497,\n 1114718,\n 1114731,\n 1115170,\n 1115207,\n 1115965,\n 1116073,\n 1116391,\n 1116555,\n 1116682,\n 1116687,\n 1116823,\n 1116927,\n 1117252,\n 1117411,\n 1117908,\n 1118048,\n 1128313,\n 1128438,\n 1128485,\n 1128742,\n 1128753,\n 1128784,\n 1128786,\n 1128831,\n 1128991,\n 1129105,\n 1129120,\n 1129158,\n 1129172,\n 1129216,\n 1129252,\n 1129375,\n 1129422,\n 1129447,\n 1129476,\n 1129482,\n 1129550,\n 1129629,\n 1129829,\n 1129957,\n 1129975,\n 1149989,\n 1161134,\n 1223448,\n 1223660,\n 1223702,\n 1223810,\n 1223830,\n 1223873,\n 1223885,\n 1224063,\n 1224080,\n 1224134,\n 1224231,\n 1224258,\n 1224435,\n 1224552,\n 1224622,\n 1224811,\n 1225276,\n 1225344,\n 1225391,\n 1225626,\n 1329224,\n 1329535,\n 1329822,\n 1330290,\n 1330489,\n 1331199,\n 1333774,\n 1364299,\n 1465858,\n 1512748,\n 1526071,\n 1528619,\n 1538686,\n 1538810,\n 1538961,\n 1539026,\n 1539105,\n 1539312,\n 1539396,\n 1539557,\n 1539710,\n 1539778,\n 1540037,\n 1543339,\n 1544958,\n 1567516,\n 1570541,\n 1588137,\n 1598322,\n 1613210,\n 1617813,\n 1624416,\n 1627280,\n 1627584,\n 1633033,\n 1633035,\n 1636641,\n 1636679,\n 1637606]"
     },
     "execution_count": 39,
     "metadata": {},
     "output_type": "execute_result"
    }
   ],
   "source": [
    "# Find posts with duplicades in list of posts with consensus\n",
    "list = pd.read_csv(\"C:/N/st/UCU/5sem2024_DIPLOMA/Manipulation/code/my_master/list_with_consensus_post.csv\")\n",
    "list = list[\"message_id\"]\n",
    "list = list.values.tolist()\n",
    "list"
   ],
   "metadata": {
    "collapsed": false,
    "ExecuteTime": {
     "end_time": "2024-05-15T10:10:41.858963700Z",
     "start_time": "2024-05-15T10:10:41.761949800Z"
    }
   },
   "id": "a931f52618d40e07",
   "execution_count": 39
  },
  {
   "cell_type": "code",
   "outputs": [
    {
     "name": "stdout",
     "output_type": "stream",
     "text": [
      "Lenght: 3471\n"
     ]
    },
    {
     "data": {
      "text/plain": "   message_id                                    message_content  \\\n2      209751  ➡️ «Доброго вечора, ми з України» – легендарни...   \n2      209751  ➡️ «Доброго вечора, ми з України» – легендарни...   \n5      209779  😱Мільйон гривень за шкільний туалет витратять ...   \n5      209779  😱Мільйон гривень за шкільний туалет витратять ...   \n7      209784  ❗️Вручення повісток у спортзалах є законним: «...   \n\n                                         annotations  is_manipulation  \\\n2  [{'name': 'Emotion_other', 'token': 'легендарн...             True   \n2  [{'name': 'Emotion_other', 'token': 'легендарн...             True   \n5  [{'name': 'Doubts_government', 'token': 'Це як...             True   \n5  [{'name': 'Doubts_government', 'token': 'Це як...             True   \n7  [{'name': 'Black_White', 'token': '«Чоловіки п...             True   \n\n                                       message_clean               name  \\\n2   доброго вечора, ми з україни – легендарний ви...      Emotion_other   \n2   доброго вечора, ми з україни – легендарний ви...       Doubts_media   \n5  мільйон гривень за шкільний туалет витратять у...  Doubts_government   \n5  мільйон гривень за шкільний туалет витратять у...  Doubts_government   \n7  вручення повісток у спортзалах є законним: кач...        Black_White   \n\n                                               token  start  end  \\\n2                                        легендарний     46   56   \n2                 те, що не покажуть звичайні новини    209  242   \n5                   Це якийсь новий тендерний тренд?    382  413   \n5                   Це якийсь новий тендерний тренд?    382  413   \n7  «Чоловіки призовного віку, які свідомо уникаюч...     93  284   \n\n                                         token_clean  start_new  end_new  \n2                                        легендарний         32       42  \n2                 те, що не покажуть звичайні новини        192      225  \n5                   це якийсь новий тендерний тренд?        358      389  \n5                   це якийсь новий тендерний тренд?        358      389  \n7  чоловіки призовного віку, які свідомо уникаючи...         76      264  ",
      "text/html": "<div>\n<style scoped>\n    .dataframe tbody tr th:only-of-type {\n        vertical-align: middle;\n    }\n\n    .dataframe tbody tr th {\n        vertical-align: top;\n    }\n\n    .dataframe thead th {\n        text-align: right;\n    }\n</style>\n<table border=\"1\" class=\"dataframe\">\n  <thead>\n    <tr style=\"text-align: right;\">\n      <th></th>\n      <th>message_id</th>\n      <th>message_content</th>\n      <th>annotations</th>\n      <th>is_manipulation</th>\n      <th>message_clean</th>\n      <th>name</th>\n      <th>token</th>\n      <th>start</th>\n      <th>end</th>\n      <th>token_clean</th>\n      <th>start_new</th>\n      <th>end_new</th>\n    </tr>\n  </thead>\n  <tbody>\n    <tr>\n      <th>2</th>\n      <td>209751</td>\n      <td>➡️ «Доброго вечора, ми з України» – легендарни...</td>\n      <td>[{'name': 'Emotion_other', 'token': 'легендарн...</td>\n      <td>True</td>\n      <td>доброго вечора, ми з україни – легендарний ви...</td>\n      <td>Emotion_other</td>\n      <td>легендарний</td>\n      <td>46</td>\n      <td>56</td>\n      <td>легендарний</td>\n      <td>32</td>\n      <td>42</td>\n    </tr>\n    <tr>\n      <th>2</th>\n      <td>209751</td>\n      <td>➡️ «Доброго вечора, ми з України» – легендарни...</td>\n      <td>[{'name': 'Emotion_other', 'token': 'легендарн...</td>\n      <td>True</td>\n      <td>доброго вечора, ми з україни – легендарний ви...</td>\n      <td>Doubts_media</td>\n      <td>те, що не покажуть звичайні новини</td>\n      <td>209</td>\n      <td>242</td>\n      <td>те, що не покажуть звичайні новини</td>\n      <td>192</td>\n      <td>225</td>\n    </tr>\n    <tr>\n      <th>5</th>\n      <td>209779</td>\n      <td>😱Мільйон гривень за шкільний туалет витратять ...</td>\n      <td>[{'name': 'Doubts_government', 'token': 'Це як...</td>\n      <td>True</td>\n      <td>мільйон гривень за шкільний туалет витратять у...</td>\n      <td>Doubts_government</td>\n      <td>Це якийсь новий тендерний тренд?</td>\n      <td>382</td>\n      <td>413</td>\n      <td>це якийсь новий тендерний тренд?</td>\n      <td>358</td>\n      <td>389</td>\n    </tr>\n    <tr>\n      <th>5</th>\n      <td>209779</td>\n      <td>😱Мільйон гривень за шкільний туалет витратять ...</td>\n      <td>[{'name': 'Doubts_government', 'token': 'Це як...</td>\n      <td>True</td>\n      <td>мільйон гривень за шкільний туалет витратять у...</td>\n      <td>Doubts_government</td>\n      <td>Це якийсь новий тендерний тренд?</td>\n      <td>382</td>\n      <td>413</td>\n      <td>це якийсь новий тендерний тренд?</td>\n      <td>358</td>\n      <td>389</td>\n    </tr>\n    <tr>\n      <th>7</th>\n      <td>209784</td>\n      <td>❗️Вручення повісток у спортзалах є законним: «...</td>\n      <td>[{'name': 'Black_White', 'token': '«Чоловіки п...</td>\n      <td>True</td>\n      <td>вручення повісток у спортзалах є законним: кач...</td>\n      <td>Black_White</td>\n      <td>«Чоловіки призовного віку, які свідомо уникаюч...</td>\n      <td>93</td>\n      <td>284</td>\n      <td>чоловіки призовного віку, які свідомо уникаючи...</td>\n      <td>76</td>\n      <td>264</td>\n    </tr>\n  </tbody>\n</table>\n</div>"
     },
     "execution_count": 40,
     "metadata": {},
     "output_type": "execute_result"
    }
   ],
   "source": [
    "# Remove duplicates\n",
    "# Split the DataFrame into two parts: those with ids in ids_list and those without\n",
    "df_to_deduplicate = df_ismanipulation[df_ismanipulation['message_id'].isin(list)]\n",
    "df_remaining = df_ismanipulation[~df_ismanipulation['message_id'].isin(list)]\n",
    "\n",
    "# Remove duplicates based on 'id' and 'token' for the filtered df\n",
    "df_to_deduplicate_no_duplicates = df_to_deduplicate.drop_duplicates(subset=['message_id', 'token_clean'])\n",
    "\n",
    "# Combine the deduplicated part with the remaining part of the original df\n",
    "df_ismanipulation_final = pd.concat([df_to_deduplicate_no_duplicates, df_remaining], ignore_index=True)\n",
    "print(\"Lenght:\", len(df_ismanipulation_final))\n",
    "df_ismanipulation.head()"
   ],
   "metadata": {
    "collapsed": false,
    "ExecuteTime": {
     "end_time": "2024-05-15T10:11:00.841963Z",
     "start_time": "2024-05-15T10:11:00.786967100Z"
    }
   },
   "id": "cfbad9ac1c5b152d",
   "execution_count": 40
  },
  {
   "cell_type": "markdown",
   "source": [
    "#### EDA"
   ],
   "metadata": {
    "collapsed": false
   },
   "id": "2658ea9589f5fd72"
  },
  {
   "cell_type": "code",
   "outputs": [
    {
     "name": "stdout",
     "output_type": "stream",
     "text": [
      "                      frequency  average_length\n",
      "Black_White                 105           67.48\n",
      "Doubts_Army                  81           53.59\n",
      "Doubts_government           544           42.71\n",
      "Doubts_media                 61           45.31\n",
      "Doubts_other                 12           51.75\n",
      "Doubts_partners              35           52.20\n",
      "Emotion_Anger               501           37.12\n",
      "Emotion_Fear                633           34.48\n",
      "Emotion_Hate_Disgust        380           19.79\n",
      "Emotion_other              1119           13.52\n",
      "Total                      3471           29.66\n"
     ]
    }
   ],
   "source": [
    "# Count the avr lenght for each class\n",
    "df_ismanipulation_final['length'] = df_ismanipulation_final['token'].str.len()\n",
    "\n",
    "classes = df_ismanipulation_final[\"name\"].value_counts()\n",
    "average_lengths = df_ismanipulation_final.groupby(\"name\")[\"length\"].mean().round(2)\n",
    "result = pd.DataFrame({\n",
    "    'frequency': classes,\n",
    "    'average_length': average_lengths\n",
    "})\n",
    "\n",
    "# Calculate the total frequency and average length\n",
    "total_frequency = df_ismanipulation_final.shape[0]\n",
    "total_average_length = df_ismanipulation_final[\"length\"].mean().round(2)\n",
    "\n",
    "# Append the \"Total\" row to the result DataFrame\n",
    "total_row = pd.DataFrame({\n",
    "    'frequency': [total_frequency],\n",
    "    'average_length': [total_average_length]\n",
    "}, index=['Total'])\n",
    "\n",
    "result = pd.concat([result, total_row])\n",
    "\n",
    "print(result)"
   ],
   "metadata": {
    "collapsed": false,
    "ExecuteTime": {
     "end_time": "2024-05-15T10:11:04.547964400Z",
     "start_time": "2024-05-15T10:11:04.503966500Z"
    }
   },
   "id": "da6739f5fc43f763",
   "execution_count": 41
  },
  {
   "cell_type": "code",
   "outputs": [
    {
     "data": {
      "text/plain": "<Figure size 720x432 with 1 Axes>",
      "image/png": "[encoded data removed]"
     },
     "metadata": {
      "needs_background": "light"
     },
     "output_type": "display_data"
    }
   ],
   "source": [
    "# Count the occurrences of each class\n",
    "classes = df_ismanipulation_final[\"name\"].value_counts()\n",
    "\n",
    "# Plot the frequency of each class\n",
    "plt.figure(figsize=(10, 6))\n",
    "ax = classes.plot(kind='bar')\n",
    "plt.title('Frequency of manipulation techniques')\n",
    "plt.xlabel('Class')\n",
    "plt.ylabel('Frequency')\n",
    "plt.xticks(rotation=45, ha='right')\n",
    "\n",
    "# Add numbers on top of the bar\n",
    "for i, v in enumerate(classes):\n",
    "    ax.text(i, v+10, str(v), ha='center')\n",
    "    \n",
    "# Add red line\n",
    "plt.axhline(y=400, color='r', linestyle='--', linewidth=2)\n",
    "\n",
    "plt.tight_layout()\n",
    "plt.show()"
   ],
   "metadata": {
    "collapsed": false,
    "ExecuteTime": {
     "end_time": "2024-05-15T10:11:09.991963100Z",
     "start_time": "2024-05-15T10:11:09.828965300Z"
    }
   },
   "id": "c89628a888833633",
   "execution_count": 42
  },
  {
   "cell_type": "markdown",
   "source": [
    "### Convert to the proper format"
   ],
   "metadata": {
    "collapsed": false
   },
   "id": "1895dd6368dce39"
  },
  {
   "cell_type": "code",
   "outputs": [],
   "source": [
    "# Combine values into a dictionary and create the new column\n",
    "df_ismanipulation_final['annotation_new'] = df_ismanipulation_final.apply(lambda row: {'name': row['name'], 'start': row['start_new'], 'end': row['end_new']}, axis=1)"
   ],
   "metadata": {
    "collapsed": false,
    "ExecuteTime": {
     "end_time": "2024-05-15T10:11:16.509284300Z",
     "start_time": "2024-05-15T10:11:16.441284900Z"
    }
   },
   "id": "777302f1ad46c31e",
   "execution_count": 43
  },
  {
   "cell_type": "code",
   "outputs": [
    {
     "data": {
      "text/plain": "   message_id                                      message_clean  \\\n0      209751   доброго вечора, ми з україни – легендарний ви...   \n1      209779  мільйон гривень за шкільний туалет витратять у...   \n2      209784  вручення повісток у спортзалах є законним: кач...   \n3      209785  окупанти продовжують терор мирного населення х...   \n4      209789  загинув чоловік через обстріл вовчанська, – ов...   \n\n                                      annotation_new  \n0  [{'name': 'Emotion_other', 'start': 32, 'end':...  \n1  [{'name': 'Doubts_government', 'start': 358, '...  \n2  [{'name': 'Black_White', 'start': 76, 'end': 2...  \n3  [{'name': 'Emotion_Fear', 'start': 21, 'end': ...  \n4  [{'name': 'Emotion_Fear', 'start': 215, 'end':...  ",
      "text/html": "<div>\n<style scoped>\n    .dataframe tbody tr th:only-of-type {\n        vertical-align: middle;\n    }\n\n    .dataframe tbody tr th {\n        vertical-align: top;\n    }\n\n    .dataframe thead th {\n        text-align: right;\n    }\n</style>\n<table border=\"1\" class=\"dataframe\">\n  <thead>\n    <tr style=\"text-align: right;\">\n      <th></th>\n      <th>message_id</th>\n      <th>message_clean</th>\n      <th>annotation_new</th>\n    </tr>\n  </thead>\n  <tbody>\n    <tr>\n      <th>0</th>\n      <td>209751</td>\n      <td>доброго вечора, ми з україни – легендарний ви...</td>\n      <td>[{'name': 'Emotion_other', 'start': 32, 'end':...</td>\n    </tr>\n    <tr>\n      <th>1</th>\n      <td>209779</td>\n      <td>мільйон гривень за шкільний туалет витратять у...</td>\n      <td>[{'name': 'Doubts_government', 'start': 358, '...</td>\n    </tr>\n    <tr>\n      <th>2</th>\n      <td>209784</td>\n      <td>вручення повісток у спортзалах є законним: кач...</td>\n      <td>[{'name': 'Black_White', 'start': 76, 'end': 2...</td>\n    </tr>\n    <tr>\n      <th>3</th>\n      <td>209785</td>\n      <td>окупанти продовжують терор мирного населення х...</td>\n      <td>[{'name': 'Emotion_Fear', 'start': 21, 'end': ...</td>\n    </tr>\n    <tr>\n      <th>4</th>\n      <td>209789</td>\n      <td>загинув чоловік через обстріл вовчанська, – ов...</td>\n      <td>[{'name': 'Emotion_Fear', 'start': 215, 'end':...</td>\n    </tr>\n  </tbody>\n</table>\n</div>"
     },
     "execution_count": 44,
     "metadata": {},
     "output_type": "execute_result"
    }
   ],
   "source": [
    "df_pred = df_ismanipulation_final[['message_id', 'message_clean', 'annotation_new']]\n",
    "merged_df = df_pred.groupby('message_id').agg({'message_clean': 'first', 'annotation_new': lambda x: x.tolist()}).reset_index()\n",
    "merged_df.head()"
   ],
   "metadata": {
    "collapsed": false,
    "ExecuteTime": {
     "end_time": "2024-05-15T10:11:19.192284900Z",
     "start_time": "2024-05-15T10:11:19.125287600Z"
    }
   },
   "id": "8c9dea57a661952e",
   "execution_count": 44
  },
  {
   "cell_type": "code",
   "outputs": [],
   "source": [
    "# Save \n",
    "merged_df.to_csv(\"C:/N/st/UCU/5sem2024_DIPLOMA/Manipulation/code/my_master/datasets/input_only_manipulations_clean_full.csv\", index=False)"
   ],
   "metadata": {
    "collapsed": false,
    "ExecuteTime": {
     "end_time": "2024-05-14T21:28:48.132534300Z",
     "start_time": "2024-05-14T21:28:48.080534700Z"
    }
   },
   "id": "a2c7333c91788b3b",
   "execution_count": 44
  },
  {
   "cell_type": "markdown",
   "source": [
    "#### Devide to train and dev "
   ],
   "metadata": {
    "collapsed": false
   },
   "id": "c837681c86a708e3"
  },
  {
   "cell_type": "code",
   "outputs": [
    {
     "name": "stdout",
     "output_type": "stream",
     "text": [
      "Length of the train: 1308\n",
      "Length of the dev: 561\n"
     ]
    }
   ],
   "source": [
    "train_ids, dev_ids = train_test_split(merged_df[\"message_id\"].unique(), test_size=0.3, random_state=108)\n",
    "# Filter the data based on the train and test IDs\n",
    "train_df = merged_df[merged_df['message_id'].isin(train_ids)]\n",
    "dev_df = merged_df[merged_df['message_id'].isin(dev_ids)]\n",
    "print(\"Length of the train:\", len(train_df))\n",
    "print(\"Length of the dev:\", len(dev_df))"
   ],
   "metadata": {
    "collapsed": false,
    "ExecuteTime": {
     "end_time": "2024-05-15T10:11:23.825283700Z",
     "start_time": "2024-05-15T10:11:23.796287100Z"
    }
   },
   "id": "f8259f2d9f1fad3e",
   "execution_count": 45
  },
  {
   "cell_type": "code",
   "outputs": [
    {
     "name": "stdout",
     "output_type": "stream",
     "text": [
      "In the train dataset:\n",
      "Emotion_other           0.320213\n",
      "Emotion_Fear            0.186142\n",
      "Doubts_government       0.164002\n",
      "Emotion_Anger           0.140631\n",
      "Emotion_Hate_Disgust    0.112751\n",
      "Black_White             0.027880\n",
      "Doubts_Army             0.021320\n",
      "Doubts_media            0.013940\n",
      "Doubts_partners         0.009020\n",
      "Doubts_other            0.004100\n",
      "dtype: float64\n"
     ]
    }
   ],
   "source": [
    "# Check the frequences of each class in train df\n",
    "all_names = [item['name'] for sublist in train_df['annotation_new'] for item in sublist]\n",
    "\n",
    "# Count occurrences of each unique 'name'\n",
    "name_counts = pd.Series(all_names).value_counts(normalize=True)\n",
    "print(\"In the train dataset:\")\n",
    "print(name_counts)"
   ],
   "metadata": {
    "collapsed": false,
    "ExecuteTime": {
     "end_time": "2024-05-15T10:11:26.696284700Z",
     "start_time": "2024-05-15T10:11:26.654285900Z"
    }
   },
   "id": "f9fe3f18a039a273",
   "execution_count": 46
  },
  {
   "cell_type": "code",
   "outputs": [
    {
     "name": "stdout",
     "output_type": "stream",
     "text": [
      "In the dev dataset:\n",
      "Emotion_other           0.327519\n",
      "Emotion_Fear            0.173450\n",
      "Emotion_Anger           0.153101\n",
      "Doubts_government       0.139535\n",
      "Emotion_Hate_Disgust    0.101744\n",
      "Black_White             0.035853\n",
      "Doubts_Army             0.028101\n",
      "Doubts_media            0.026163\n",
      "Doubts_partners         0.012597\n",
      "Doubts_other            0.001938\n",
      "dtype: float64\n"
     ]
    }
   ],
   "source": [
    "# Check the frequences of each class in dev df\n",
    "all_names = [item['name'] for sublist in dev_df['annotation_new'] for item in sublist]\n",
    "\n",
    "# Count occurrences of each unique 'name'\n",
    "name_counts = pd.Series(all_names).value_counts(normalize=True)\n",
    "print(\"In the dev dataset:\")\n",
    "print(name_counts)"
   ],
   "metadata": {
    "collapsed": false,
    "ExecuteTime": {
     "end_time": "2024-05-15T10:11:29.520313700Z",
     "start_time": "2024-05-15T10:11:29.482288100Z"
    }
   },
   "id": "6f6edf9a727693b0",
   "execution_count": 47
  },
  {
   "cell_type": "markdown",
   "source": [
    "#### Calculate weights for each class in train df"
   ],
   "metadata": {
    "collapsed": false
   },
   "id": "c8f671b1664f505d"
  },
  {
   "cell_type": "code",
   "outputs": [],
   "source": [
    "techniques = \"C:/N/st/UCU/5sem2024_DIPLOMA/Manipulation/code/my_master/propaganda-techniques-names.txt\"\n",
    "class_dict = {}  #to dictionary\n",
    "label = 0\n",
    "with open(techniques, \"r\") as f:\n",
    "  for technique in f:\n",
    "    class_dict[technique.replace(\"\\n\", \"\")] = int(label)\n",
    "    label += 1"
   ],
   "metadata": {
    "collapsed": false,
    "ExecuteTime": {
     "end_time": "2024-05-14T21:29:55.165432200Z",
     "start_time": "2024-05-14T21:29:55.130402900Z"
    }
   },
   "id": "1c03629d1fdb5a3",
   "execution_count": 48
  },
  {
   "cell_type": "code",
   "outputs": [
    {
     "data": {
      "text/plain": "9      3.053254\n6      5.765363\n7      6.531646\n0      7.166667\n8      9.828571\n5     27.891892\n1     35.586207\n2     38.222222\n3     79.384615\n4    516.000000\nName: Class, dtype: float64"
     },
     "execution_count": 49,
     "metadata": {},
     "output_type": "execute_result"
    }
   ],
   "source": [
    "def calculate_class_weights(df):\n",
    "    \"\"\"\n",
    "    Calculates class weights based on the frequency of each class in the dataset\n",
    "    \"\"\"\n",
    "    class_counts = df.value_counts()\n",
    "    total_samples = len(df)\n",
    "    class_weights = total_samples / class_counts\n",
    "    return class_weights\n",
    "\n",
    "# Calculate class weights\n",
    "df_fr = pd.DataFrame(all_names, columns=['Class'])\n",
    "df_fr['Class'] = df_fr['Class'].map(class_dict)\n",
    "class_weights = calculate_class_weights(df_fr['Class'])\n",
    "class_weights"
   ],
   "metadata": {
    "collapsed": false,
    "ExecuteTime": {
     "end_time": "2024-05-14T21:29:55.901401700Z",
     "start_time": "2024-05-14T21:29:55.860404200Z"
    }
   },
   "id": "87516acc45bf7f47",
   "execution_count": 49
  },
  {
   "cell_type": "code",
   "outputs": [],
   "source": [
    "# Save class weights to a text file\n",
    "with open('C:/N/st/UCU/5sem2024_DIPLOMA/Manipulation/code/my_master/class_weights_10_numbers.txt', 'w') as f:\n",
    "    for class_name, weight in class_weights.items():\n",
    "        f.write(f\"{class_name}: {weight}\\n\")"
   ],
   "metadata": {
    "collapsed": false,
    "ExecuteTime": {
     "end_time": "2024-05-14T21:31:03.271679500Z",
     "start_time": "2024-05-14T21:31:03.219662200Z"
    }
   },
   "id": "115f1e553e947301",
   "execution_count": 50
  },
  {
   "cell_type": "markdown",
   "source": [
    "#### Save train and dev datasets"
   ],
   "metadata": {
    "collapsed": false
   },
   "id": "b1a45f04f637b9dd"
  },
  {
   "cell_type": "code",
   "outputs": [],
   "source": [
    "# Save train and def\n",
    "train_df.to_csv(\"C:/N/st/UCU/5sem2024_DIPLOMA/Manipulation/code/my_master/datasets/input_train_new.csv\", index=False)\n",
    "dev_df.to_csv(\"C:/N/st/UCU/5sem2024_DIPLOMA/Manipulation/code/my_master/datasets/input_dev_new.csv\", index=False)"
   ],
   "metadata": {
    "collapsed": false,
    "ExecuteTime": {
     "end_time": "2024-05-14T21:32:05.977261400Z",
     "start_time": "2024-05-14T21:32:05.925260800Z"
    }
   },
   "id": "ce46b3c4624e5b55",
   "execution_count": 51
  },
  {
   "cell_type": "code",
   "outputs": [
    {
     "name": "stderr",
     "output_type": "stream",
     "text": [
      "Saving Files:  85%|████████▌ | 1118/1308 [00:00<00:00, 1876.51it/s]"
     ]
    },
    {
     "name": "stdout",
     "output_type": "stream",
     "text": [
      "All files are saved.\n"
     ]
    }
   ],
   "source": [
    "# Save text for train \n",
    "output_dir = \"C:/N/st/UCU/5sem2024_DIPLOMA/Manipulation/code/my_master/datasets/train_new\"\n",
    "\n",
    "# Initialize tqdm progress bar\n",
    "pbar = tqdm(total=len(train_df), desc='Saving Files')\n",
    "\n",
    "# Iterate over each row in the DataFrame\n",
    "for _, row in train_df.iterrows():\n",
    "    # Extract message_id\n",
    "    message_id = row[\"message_id\"]\n",
    "    text = row[\"message_clean\"]\n",
    "\n",
    "    # Create file name\n",
    "    file_name = f\"article{message_id}.txt\"\n",
    "    \n",
    "    # Write the content to a file\n",
    "    with open(os.path.join(output_dir, file_name), \"w\", encoding='utf-8') as file:\n",
    "        file.write(text)\n",
    "        \n",
    "    # Update tqdm progress bar\n",
    "    pbar.update(1)\n",
    "\n",
    "print(\"All files are saved.\")"
   ],
   "metadata": {
    "collapsed": false,
    "ExecuteTime": {
     "end_time": "2024-05-14T21:32:51.375398800Z",
     "start_time": "2024-05-14T21:32:50.653411900Z"
    }
   },
   "id": "386d19796e0ae496",
   "execution_count": 52
  },
  {
   "cell_type": "code",
   "outputs": [
    {
     "name": "stderr",
     "output_type": "stream",
     "text": [
      "\n",
      "Saving Files: 100%|██████████| 1308/1308 [00:14<00:00, 88.20it/s]  \n",
      "\n",
      "Saving Files:  36%|███▌      | 202/561 [00:00<00:00, 2019.98it/s]\u001B[A\n",
      "Saving Files:  72%|███████▏  | 404/561 [00:00<00:00, 1996.51it/s]\u001B[A"
     ]
    },
    {
     "name": "stdout",
     "output_type": "stream",
     "text": [
      "All files are saved.\n"
     ]
    }
   ],
   "source": [
    "# Save text for dev \n",
    "output_dir = \"C:/N/st/UCU/5sem2024_DIPLOMA/Manipulation/code/my_master/datasets/dev_new\"\n",
    "\n",
    "# Initialize tqdm progress bar\n",
    "pbar = tqdm(total=len(dev_df), desc='Saving Files')\n",
    "\n",
    "# Iterate over each row in the DataFrame\n",
    "for _, row in dev_df.iterrows():\n",
    "    # Extract message_id\n",
    "    message_id = row[\"message_id\"]\n",
    "    text = row[\"message_clean\"]\n",
    "\n",
    "    # Create file name\n",
    "    file_name = f\"article{message_id}.txt\"\n",
    "    \n",
    "    # Write the content to a file\n",
    "    with open(os.path.join(output_dir, file_name), \"w\", encoding='utf-8') as file:\n",
    "        file.write(text)\n",
    "        \n",
    "    # Update tqdm progress bar\n",
    "    pbar.update(1)\n",
    "\n",
    "print(\"All files are saved.\")"
   ],
   "metadata": {
    "collapsed": false,
    "ExecuteTime": {
     "end_time": "2024-05-14T21:33:05.772551500Z",
     "start_time": "2024-05-14T21:33:05.484566700Z"
    }
   },
   "id": "6a59faa8ae3d7c13",
   "execution_count": 53
  },
  {
   "cell_type": "markdown",
   "source": [
    "#### SI task"
   ],
   "metadata": {
    "collapsed": false
   },
   "id": "48433e6f9357803f"
  },
  {
   "cell_type": "code",
   "outputs": [
    {
     "name": "stderr",
     "output_type": "stream",
     "text": [
      "Saving Files: 100%|██████████| 572/572 [00:06<00:00, 94.04it/s]  \n",
      "Saving Files:  93%|█████████▎| 1242/1333 [00:00<00:00, 1712.22it/s]"
     ]
    },
    {
     "name": "stdout",
     "output_type": "stream",
     "text": [
      "All files are saved.\n"
     ]
    }
   ],
   "source": [
    "# Save labels for train for SI\n",
    "output_dir = \"C:/N/st/UCU/5sem2024_DIPLOMA/Manipulation/code/my_master/datasets/train_SI_labels\"\n",
    "\n",
    "# Initialize tqdm progress bar\n",
    "pbar = tqdm(total=len(train_df), desc='Saving Files')\n",
    "\n",
    "# Iterate over each row in the DataFrame\n",
    "for _, row in train_df.iterrows():\n",
    "    # Extract message_id\n",
    "    message_id = row[\"message_id\"]\n",
    "    \n",
    "    # Create an empty list to store the lines to be written to the file\n",
    "    lines = []\n",
    "\n",
    "    # Iterate over each annotation in the 'annotations' column\n",
    "    for annotation in row[\"annotation_new\"]:\n",
    "        # Extract information from the annotation\n",
    "        start = annotation[\"start\"]\n",
    "        end = annotation[\"end\"]\n",
    "        \n",
    "        # Construct the line to be written to the file\n",
    "        line = f\"{message_id}\\t{start}\\t{end}\"\n",
    "        \n",
    "        # Append the line to the list\n",
    "        lines.append(line)\n",
    "\n",
    "\n",
    "    # Join all lines with newline characters to create the content of the file\n",
    "    file_content = \"\\n\".join(lines)\n",
    "    # Create file name\n",
    "    file_name = f\"article{message_id}.labels.tsv\"\n",
    "    \n",
    "    # Write the content to a file\n",
    "    with open(os.path.join(output_dir, file_name), \"w\", encoding='utf-8') as file:\n",
    "        file.write(file_content)\n",
    "        \n",
    "    # Update tqdm progress bar\n",
    "    pbar.update(1)\n",
    "\n",
    "print(\"All files are saved.\")"
   ],
   "metadata": {
    "collapsed": false,
    "ExecuteTime": {
     "end_time": "2024-05-09T07:50:15.886733700Z",
     "start_time": "2024-05-09T07:50:15.089678900Z"
    }
   },
   "id": "88f263b4fa32f2a3",
   "execution_count": 41
  },
  {
   "cell_type": "code",
   "outputs": [
    {
     "name": "stderr",
     "output_type": "stream",
     "text": [
      "\n",
      "Saving Files: 100%|██████████| 1333/1333 [00:02<00:00, 604.79it/s] \n",
      "\n",
      "Saving Files:  35%|███▌      | 202/572 [00:00<00:00, 2000.37it/s]\u001B[A\n",
      "Saving Files:  72%|███████▏  | 414/572 [00:00<00:00, 2058.46it/s]\u001B[A"
     ]
    },
    {
     "name": "stdout",
     "output_type": "stream",
     "text": [
      "All files are saved.\n"
     ]
    }
   ],
   "source": [
    "# Save labels for dev for SI\n",
    "output_dir = \"C:/N/st/UCU/5sem2024_DIPLOMA/Manipulation/code/my_master/datasets/dev_SI_labels\"\n",
    "\n",
    "# Initialize tqdm progress bar\n",
    "pbar = tqdm(total=len(dev_df), desc='Saving Files')\n",
    "\n",
    "# Iterate over each row in the DataFrame\n",
    "for _, row in dev_df.iterrows():\n",
    "    # Extract message_id\n",
    "    message_id = row[\"message_id\"]\n",
    "    \n",
    "    # Create an empty list to store the lines to be written to the file\n",
    "    lines = []\n",
    "\n",
    "    # Iterate over each annotation in the 'annotations' column\n",
    "    for annotation in row[\"annotation_new\"]:\n",
    "        # Extract information from the annotation\n",
    "        start = annotation[\"start\"]\n",
    "        end = annotation[\"end\"]\n",
    "        \n",
    "        # Construct the line to be written to the file\n",
    "        line = f\"{message_id}\\t{start}\\t{end}\"\n",
    "        \n",
    "        # Append the line to the list\n",
    "        lines.append(line)\n",
    "\n",
    "\n",
    "    # Join all lines with newline characters to create the content of the file\n",
    "    file_content = \"\\n\".join(lines)\n",
    "    # Create file name\n",
    "    file_name = f\"article{message_id}.labels.tsv\"\n",
    "    \n",
    "    # Write the content to a file\n",
    "    with open(os.path.join(output_dir, file_name), \"w\", encoding='utf-8') as file:\n",
    "        file.write(file_content)\n",
    "        \n",
    "    # Update tqdm progress bar\n",
    "    pbar.update(1)\n",
    "\n",
    "print(\"All files are saved.\")"
   ],
   "metadata": {
    "collapsed": false,
    "ExecuteTime": {
     "end_time": "2024-05-09T07:50:17.586712900Z",
     "start_time": "2024-05-09T07:50:17.290718700Z"
    }
   },
   "id": "cdc9aca0513638ea",
   "execution_count": 42
  },
  {
   "cell_type": "code",
   "outputs": [],
   "source": [
    "# Save truth labels  for techniques\n",
    "output_dir = \"C:/N/st/UCU/5sem2024_DIPLOMA/Manipulation/code/my_master/datasets\"\n",
    "\n",
    "lines = []\n",
    "# Iterate over each row in the DataFrame\n",
    "for _, row in dev_df.iterrows():\n",
    "    # Extract message_id\n",
    "    message_id = row[\"message_id\"]\n",
    "\n",
    "    # Iterate over each annotation in the 'annotations' column\n",
    "    for annotation in row[\"annotation_new\"]:\n",
    "        # Extract information from the annotation\n",
    "        start = annotation[\"start\"]\n",
    "        #name = annotation[\"name\"]\n",
    "        end = annotation[\"end\"]\n",
    "        \n",
    "        # Construct the line to be written to the file\n",
    "        line = f\"{message_id}\\t{start}\\t{end}\"\n",
    "        \n",
    "        # Append the line to the list\n",
    "        lines.append(line)\n",
    "\n",
    "# Join all lines with newline characters to create the content of the file\n",
    "file_content = \"\\n\".join(lines)\n",
    "    \n",
    "# Write the content to a file\n",
    "with open(os.path.join(output_dir, \"SI.labels_true.txt\"), \"w\", encoding='utf-8') as file:\n",
    "        file.write(file_content)"
   ],
   "metadata": {
    "collapsed": false,
    "ExecuteTime": {
     "end_time": "2024-05-09T07:50:18.736830800Z",
     "start_time": "2024-05-09T07:50:18.695564Z"
    }
   },
   "id": "cd7a82ea86e6a38a",
   "execution_count": 43
  },
  {
   "cell_type": "markdown",
   "source": [
    "#### TC 10 task"
   ],
   "metadata": {
    "collapsed": false
   },
   "id": "a096c6ddfed70435"
  },
  {
   "cell_type": "code",
   "outputs": [
    {
     "name": "stderr",
     "output_type": "stream",
     "text": [
      "Saving Files: 100%|██████████| 561/561 [01:06<00:00,  8.38it/s]  \n",
      "Saving Files:  97%|█████████▋| 1274/1308 [00:00<00:00, 2121.09it/s]"
     ]
    },
    {
     "name": "stdout",
     "output_type": "stream",
     "text": [
      "All files are saved.\n"
     ]
    }
   ],
   "source": [
    "# Save labels for train for TC\n",
    "output_dir = \"C:/N/st/UCU/5sem2024_DIPLOMA/Manipulation/code/my_master/datasets/train_TC_labels\"\n",
    "\n",
    "# Initialize tqdm progress bar\n",
    "pbar = tqdm(total=len(train_df), desc='Saving Files')\n",
    "\n",
    "# Iterate over each row in the DataFrame\n",
    "for _, row in train_df.iterrows():\n",
    "    # Extract message_id\n",
    "    message_id = row[\"message_id\"]\n",
    "    \n",
    "    # Create an empty list to store the lines to be written to the file\n",
    "    lines = []\n",
    "\n",
    "    # Iterate over each annotation in the 'annotations' column\n",
    "    for annotation in row[\"annotation_new\"]:\n",
    "        # Extract information from the annotation\n",
    "        name = annotation[\"name\"]\n",
    "        #token = annotation[\"token\"]\n",
    "        start = annotation[\"start\"]\n",
    "        end = annotation[\"end\"]\n",
    "        \n",
    "        # Construct the line to be written to the file\n",
    "        line = f\"{message_id}\\t{name}\\t{start}\\t{end}\"\n",
    "        \n",
    "        # Append the line to the list\n",
    "        lines.append(line)\n",
    "\n",
    "\n",
    "    # Join all lines with newline characters to create the content of the file\n",
    "    file_content = \"\\n\".join(lines)\n",
    "    # Create file name\n",
    "    file_name = f\"article{message_id}.labels.tsv\"\n",
    "    \n",
    "    # Write the content to a file\n",
    "    with open(os.path.join(output_dir, file_name), \"w\", encoding='utf-8') as file:\n",
    "        file.write(file_content)\n",
    "        \n",
    "    # Update tqdm progress bar\n",
    "    pbar.update(1)\n",
    "\n",
    "print(\"All files are saved.\")"
   ],
   "metadata": {
    "collapsed": false,
    "ExecuteTime": {
     "end_time": "2024-05-14T21:34:13.095828200Z",
     "start_time": "2024-05-14T21:34:12.444828200Z"
    }
   },
   "id": "5b6121c9b659504d",
   "execution_count": 54
  },
  {
   "cell_type": "code",
   "outputs": [],
   "source": [
    "# Save template for techniques pred\n",
    "output_dir = \"C:/N/st/UCU/5sem2024_DIPLOMA/Manipulation/code/my_master/datasets\"\n",
    "\n",
    "lines = []\n",
    "# Iterate over each row in the DataFrame\n",
    "for _, row in dev_df.iterrows():\n",
    "    # Extract message_id\n",
    "    message_id = row[\"message_id\"]\n",
    "\n",
    "    # Iterate over each annotation in the 'annotations' column\n",
    "    for annotation in row[\"annotation_new\"]:\n",
    "        # Extract information from the annotation\n",
    "        start = annotation[\"start\"]\n",
    "        end = annotation[\"end\"]\n",
    "        \n",
    "        # Construct the line to be written to the file\n",
    "        line = f\"{message_id}\\t?\\t{start}\\t{end}\"\n",
    "        \n",
    "        # Append the line to the list\n",
    "        lines.append(line)\n",
    "\n",
    "# Join all lines with newline characters to create the content of the file\n",
    "file_content = \"\\n\".join(lines)\n",
    "    \n",
    "# Write the content to a file\n",
    "with open(os.path.join(output_dir, \"TC_labels_for_eval.txt\"), \"w\", encoding='utf-8') as file:\n",
    "        file.write(file_content)"
   ],
   "metadata": {
    "collapsed": false,
    "ExecuteTime": {
     "end_time": "2024-05-14T21:35:08.821412100Z",
     "start_time": "2024-05-14T21:35:08.805417700Z"
    }
   },
   "id": "a73afae8977f8",
   "execution_count": 55
  },
  {
   "cell_type": "code",
   "outputs": [],
   "source": [
    "# Save truth labels  for techniques\n",
    "output_dir = \"C:/N/st/UCU/5sem2024_DIPLOMA/Manipulation/code/my_master/datasets\"\n",
    "\n",
    "lines = []\n",
    "# Iterate over each row in the DataFrame\n",
    "for _, row in dev_df.iterrows():\n",
    "    # Extract message_id\n",
    "    message_id = row[\"message_id\"]\n",
    "\n",
    "    # Iterate over each annotation in the 'annotations' column\n",
    "    for annotation in row[\"annotation_new\"]:\n",
    "        # Extract information from the annotation\n",
    "        start = annotation[\"start\"]\n",
    "        name = annotation[\"name\"]\n",
    "        end = annotation[\"end\"]\n",
    "        \n",
    "        # Construct the line to be written to the file\n",
    "        line = f\"{message_id}\\t{name}\\t{start}\\t{end}\"\n",
    "        \n",
    "        # Append the line to the list\n",
    "        lines.append(line)\n",
    "\n",
    "# Join all lines with newline characters to create the content of the file\n",
    "file_content = \"\\n\".join(lines)\n",
    "    \n",
    "# Write the content to a file\n",
    "with open(os.path.join(output_dir, \"TC.labels_true.txt\"), \"w\", encoding='utf-8') as file:\n",
    "        file.write(file_content)"
   ],
   "metadata": {
    "collapsed": false,
    "ExecuteTime": {
     "end_time": "2024-05-14T21:35:36.933966600Z",
     "start_time": "2024-05-14T21:35:36.913970300Z"
    }
   },
   "id": "a369a45b3ebd652a",
   "execution_count": 56
  }
 ],
 "metadata": {
  "kernelspec": {
   "display_name": "Python 3",
   "language": "python",
   "name": "python3"
  },
  "language_info": {
   "codemirror_mode": {
    "name": "ipython",
    "version": 2
   },
   "file_extension": ".py",
   "mimetype": "text/x-python",
   "name": "python",
   "nbconvert_exporter": "python",
   "pygments_lexer": "ipython2",
   "version": "2.7.6"
  }
 },
 "nbformat": 4,
 "nbformat_minor": 5
}
