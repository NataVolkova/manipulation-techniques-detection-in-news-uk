{
 "cells": [
  {
   "cell_type": "code",
   "execution_count": 1,
   "id": "initial_id",
   "metadata": {
    "collapsed": true,
    "ExecuteTime": {
     "end_time": "2024-05-15T13:01:22.285655500Z",
     "start_time": "2024-05-15T13:01:16.325425300Z"
    }
   },
   "outputs": [],
   "source": [
    "import pandas as pd\n",
    "import re\n",
    "import os\n",
    "import ast\n",
    "from tqdm import tqdm\n",
    "import matplotlib.pyplot as plt\n",
    "from sklearn.model_selection import train_test_split"
   ]
  },
  {
   "cell_type": "markdown",
   "source": [
    "## Export files preprocessing"
   ],
   "metadata": {
    "collapsed": false
   },
   "id": "4a97b965bb3b3ccc"
  },
  {
   "cell_type": "code",
   "outputs": [],
   "source": [
    "df_labled = pd.read_csv(\"C:/N/st/UCU/5sem2024_DIPLOMA/Manipulation/code/my_master/datasets/upsampling/labeled_data.csv\")\n",
    "df_generated = pd.read_csv(\"C:/N/st/UCU/5sem2024_DIPLOMA/Manipulation/code/labels/generated_texts/generated_texts.csv\")"
   ],
   "metadata": {
    "collapsed": false,
    "ExecuteTime": {
     "end_time": "2024-05-15T13:01:22.363654300Z",
     "start_time": "2024-05-15T13:01:22.287656600Z"
    }
   },
   "id": "15e16033cf764a3b",
   "execution_count": 2
  },
  {
   "cell_type": "code",
   "outputs": [
    {
     "data": {
      "text/plain": "      message_id                                      message_clean  \\\n0          60010   або водії дотримуються правил дорожнього руху...   \n1          60020   якщо не ремонтувати дорогу, то автомобілісти ...   \n2          60030   чи люди будуть стояти в заторах далі, чи можн...   \n3          60040  у харкові планується витратити мільйон гривень...   \n4          60050  громадський активіст заявив, що ремонт туалету...   \n...          ...                                                ...   \n2089       54010   українці періодично просять притулку в європі...   \n2090       54020   українці знову просять притулку в європі, але...   \n2091       54030   українці як завжди звертаються за притулком в...   \n2092       54040   українці звичайно знову звертаються за притул...   \n2093       54050   українці періодично знову звертаються за прит...   \n\n                                         annotation_new          name  \n0        {'name': 'Black_White', 'start': 0, 'end': 84}   Black_White  \n1       {'name': 'Black_White', 'start': 0, 'end': 122}   Black_White  \n2        {'name': 'Black_White', 'start': 0, 'end': 69}   Black_White  \n3     {'name': 'Black_White', 'start': 160, 'end': 260}   Black_White  \n4     {'name': 'Black_White', 'start': 107, 'end': 196}   Black_White  \n...                                                 ...           ...  \n2089    {'name': 'Doubts_other', 'start': 0, 'end': 86}  Doubts_other  \n2090    {'name': 'Doubts_other', 'start': 0, 'end': 66}  Doubts_other  \n2091    {'name': 'Doubts_other', 'start': 0, 'end': 93}  Doubts_other  \n2092    {'name': 'Doubts_other', 'start': 0, 'end': 83}  Doubts_other  \n2093   {'name': 'Doubts_other', 'start': 0, 'end': 100}  Doubts_other  \n\n[2094 rows x 4 columns]",
      "text/html": "<div>\n<style scoped>\n    .dataframe tbody tr th:only-of-type {\n        vertical-align: middle;\n    }\n\n    .dataframe tbody tr th {\n        vertical-align: top;\n    }\n\n    .dataframe thead th {\n        text-align: right;\n    }\n</style>\n<table border=\"1\" class=\"dataframe\">\n  <thead>\n    <tr style=\"text-align: right;\">\n      <th></th>\n      <th>message_id</th>\n      <th>message_clean</th>\n      <th>annotation_new</th>\n      <th>name</th>\n    </tr>\n  </thead>\n  <tbody>\n    <tr>\n      <th>0</th>\n      <td>60010</td>\n      <td>або водії дотримуються правил дорожнього руху...</td>\n      <td>{'name': 'Black_White', 'start': 0, 'end': 84}</td>\n      <td>Black_White</td>\n    </tr>\n    <tr>\n      <th>1</th>\n      <td>60020</td>\n      <td>якщо не ремонтувати дорогу, то автомобілісти ...</td>\n      <td>{'name': 'Black_White', 'start': 0, 'end': 122}</td>\n      <td>Black_White</td>\n    </tr>\n    <tr>\n      <th>2</th>\n      <td>60030</td>\n      <td>чи люди будуть стояти в заторах далі, чи можн...</td>\n      <td>{'name': 'Black_White', 'start': 0, 'end': 69}</td>\n      <td>Black_White</td>\n    </tr>\n    <tr>\n      <th>3</th>\n      <td>60040</td>\n      <td>у харкові планується витратити мільйон гривень...</td>\n      <td>{'name': 'Black_White', 'start': 160, 'end': 260}</td>\n      <td>Black_White</td>\n    </tr>\n    <tr>\n      <th>4</th>\n      <td>60050</td>\n      <td>громадський активіст заявив, що ремонт туалету...</td>\n      <td>{'name': 'Black_White', 'start': 107, 'end': 196}</td>\n      <td>Black_White</td>\n    </tr>\n    <tr>\n      <th>...</th>\n      <td>...</td>\n      <td>...</td>\n      <td>...</td>\n      <td>...</td>\n    </tr>\n    <tr>\n      <th>2089</th>\n      <td>54010</td>\n      <td>українці періодично просять притулку в європі...</td>\n      <td>{'name': 'Doubts_other', 'start': 0, 'end': 86}</td>\n      <td>Doubts_other</td>\n    </tr>\n    <tr>\n      <th>2090</th>\n      <td>54020</td>\n      <td>українці знову просять притулку в європі, але...</td>\n      <td>{'name': 'Doubts_other', 'start': 0, 'end': 66}</td>\n      <td>Doubts_other</td>\n    </tr>\n    <tr>\n      <th>2091</th>\n      <td>54030</td>\n      <td>українці як завжди звертаються за притулком в...</td>\n      <td>{'name': 'Doubts_other', 'start': 0, 'end': 93}</td>\n      <td>Doubts_other</td>\n    </tr>\n    <tr>\n      <th>2092</th>\n      <td>54040</td>\n      <td>українці звичайно знову звертаються за притул...</td>\n      <td>{'name': 'Doubts_other', 'start': 0, 'end': 83}</td>\n      <td>Doubts_other</td>\n    </tr>\n    <tr>\n      <th>2093</th>\n      <td>54050</td>\n      <td>українці періодично знову звертаються за прит...</td>\n      <td>{'name': 'Doubts_other', 'start': 0, 'end': 100}</td>\n      <td>Doubts_other</td>\n    </tr>\n  </tbody>\n</table>\n<p>2094 rows × 4 columns</p>\n</div>"
     },
     "execution_count": 3,
     "metadata": {},
     "output_type": "execute_result"
    }
   ],
   "source": [
    "df_generated"
   ],
   "metadata": {
    "collapsed": false,
    "ExecuteTime": {
     "end_time": "2024-05-15T13:01:22.380653300Z",
     "start_time": "2024-05-15T13:01:22.366654100Z"
    }
   },
   "id": "eb7d91584ab5c69f",
   "execution_count": 3
  },
  {
   "cell_type": "code",
   "outputs": [],
   "source": [
    "df = pd.concat([df_generated, df_labled], ignore_index=True)"
   ],
   "metadata": {
    "collapsed": false,
    "ExecuteTime": {
     "end_time": "2024-05-15T13:01:22.407653500Z",
     "start_time": "2024-05-15T13:01:22.381653500Z"
    }
   },
   "id": "a69eee2d9d38b615",
   "execution_count": 4
  },
  {
   "cell_type": "code",
   "outputs": [
    {
     "data": {
      "text/plain": "      message_id                                      message_clean  \\\n0          60010   або водії дотримуються правил дорожнього руху...   \n1          60020   якщо не ремонтувати дорогу, то автомобілісти ...   \n2          60030   чи люди будуть стояти в заторах далі, чи можн...   \n3          60040  у харкові планується витратити мільйон гривень...   \n4          60050  громадський активіст заявив, що ремонт туалету...   \n...          ...                                                ...   \n5561     1636685  польща голосує за зміну влади: що це означає і...   \n5562     1636685  польща голосує за зміну влади: що це означає і...   \n5563     1636698  \"орбан\" із гааги: чи зможе противник допомоги ...   \n5564     1636698  \"орбан\" із гааги: чи зможе противник допомоги ...   \n5565     1637879  отруйний газ скидають в окопи зсу окупанти на ...   \n\n                                         annotation_new             name  \n0        {'name': 'Black_White', 'start': 0, 'end': 84}      Black_White  \n1       {'name': 'Black_White', 'start': 0, 'end': 122}      Black_White  \n2        {'name': 'Black_White', 'start': 0, 'end': 69}      Black_White  \n3     {'name': 'Black_White', 'start': 160, 'end': 260}      Black_White  \n4     {'name': 'Black_White', 'start': 107, 'end': 196}      Black_White  \n...                                                 ...              ...  \n5561  {'name': 'Doubts_partners', 'start': 968, 'end...  Doubts_partners  \n5562  {'name': 'Doubts_partners', 'start': 1183, 'en...  Doubts_partners  \n5563  {'name': 'Emotion_other', 'start': 413, 'end':...    Emotion_other  \n5564  {'name': 'Emotion_other', 'start': 413, 'end':...    Emotion_other  \n5565    {'name': 'Emotion_Fear', 'start': 0, 'end': 28}     Emotion_Fear  \n\n[5566 rows x 4 columns]",
      "text/html": "<div>\n<style scoped>\n    .dataframe tbody tr th:only-of-type {\n        vertical-align: middle;\n    }\n\n    .dataframe tbody tr th {\n        vertical-align: top;\n    }\n\n    .dataframe thead th {\n        text-align: right;\n    }\n</style>\n<table border=\"1\" class=\"dataframe\">\n  <thead>\n    <tr style=\"text-align: right;\">\n      <th></th>\n      <th>message_id</th>\n      <th>message_clean</th>\n      <th>annotation_new</th>\n      <th>name</th>\n    </tr>\n  </thead>\n  <tbody>\n    <tr>\n      <th>0</th>\n      <td>60010</td>\n      <td>або водії дотримуються правил дорожнього руху...</td>\n      <td>{'name': 'Black_White', 'start': 0, 'end': 84}</td>\n      <td>Black_White</td>\n    </tr>\n    <tr>\n      <th>1</th>\n      <td>60020</td>\n      <td>якщо не ремонтувати дорогу, то автомобілісти ...</td>\n      <td>{'name': 'Black_White', 'start': 0, 'end': 122}</td>\n      <td>Black_White</td>\n    </tr>\n    <tr>\n      <th>2</th>\n      <td>60030</td>\n      <td>чи люди будуть стояти в заторах далі, чи можн...</td>\n      <td>{'name': 'Black_White', 'start': 0, 'end': 69}</td>\n      <td>Black_White</td>\n    </tr>\n    <tr>\n      <th>3</th>\n      <td>60040</td>\n      <td>у харкові планується витратити мільйон гривень...</td>\n      <td>{'name': 'Black_White', 'start': 160, 'end': 260}</td>\n      <td>Black_White</td>\n    </tr>\n    <tr>\n      <th>4</th>\n      <td>60050</td>\n      <td>громадський активіст заявив, що ремонт туалету...</td>\n      <td>{'name': 'Black_White', 'start': 107, 'end': 196}</td>\n      <td>Black_White</td>\n    </tr>\n    <tr>\n      <th>...</th>\n      <td>...</td>\n      <td>...</td>\n      <td>...</td>\n      <td>...</td>\n    </tr>\n    <tr>\n      <th>5561</th>\n      <td>1636685</td>\n      <td>польща голосує за зміну влади: що це означає і...</td>\n      <td>{'name': 'Doubts_partners', 'start': 968, 'end...</td>\n      <td>Doubts_partners</td>\n    </tr>\n    <tr>\n      <th>5562</th>\n      <td>1636685</td>\n      <td>польща голосує за зміну влади: що це означає і...</td>\n      <td>{'name': 'Doubts_partners', 'start': 1183, 'en...</td>\n      <td>Doubts_partners</td>\n    </tr>\n    <tr>\n      <th>5563</th>\n      <td>1636698</td>\n      <td>\"орбан\" із гааги: чи зможе противник допомоги ...</td>\n      <td>{'name': 'Emotion_other', 'start': 413, 'end':...</td>\n      <td>Emotion_other</td>\n    </tr>\n    <tr>\n      <th>5564</th>\n      <td>1636698</td>\n      <td>\"орбан\" із гааги: чи зможе противник допомоги ...</td>\n      <td>{'name': 'Emotion_other', 'start': 413, 'end':...</td>\n      <td>Emotion_other</td>\n    </tr>\n    <tr>\n      <th>5565</th>\n      <td>1637879</td>\n      <td>отруйний газ скидають в окопи зсу окупанти на ...</td>\n      <td>{'name': 'Emotion_Fear', 'start': 0, 'end': 28}</td>\n      <td>Emotion_Fear</td>\n    </tr>\n  </tbody>\n</table>\n<p>5566 rows × 4 columns</p>\n</div>"
     },
     "execution_count": 5,
     "metadata": {},
     "output_type": "execute_result"
    }
   ],
   "source": [
    "df"
   ],
   "metadata": {
    "collapsed": false,
    "ExecuteTime": {
     "end_time": "2024-05-15T13:01:22.426652800Z",
     "start_time": "2024-05-15T13:01:22.396654100Z"
    }
   },
   "id": "392b3f5ccb7fbbfa",
   "execution_count": 5
  },
  {
   "cell_type": "code",
   "outputs": [
    {
     "name": "stdout",
     "output_type": "stream",
     "text": [
      "True\n"
     ]
    }
   ],
   "source": [
    "print(len(df) == len(df_generated)+len(df_labled))"
   ],
   "metadata": {
    "collapsed": false,
    "ExecuteTime": {
     "end_time": "2024-05-15T13:01:23.888664100Z",
     "start_time": "2024-05-15T13:01:23.857650Z"
    }
   },
   "id": "67b6abc1b83cb2e",
   "execution_count": 6
  },
  {
   "cell_type": "code",
   "outputs": [
    {
     "data": {
      "text/plain": "<Figure size 720x432 with 1 Axes>",
      "image/png": "[encoded data removed]"
     },
     "metadata": {
      "needs_background": "light"
     },
     "output_type": "display_data"
    }
   ],
   "source": [
    "# Count the occurrences of each class\n",
    "classes = df[\"name\"].value_counts()\n",
    "\n",
    "# Plot the frequency of each class\n",
    "plt.figure(figsize=(10, 6))\n",
    "ax = classes.plot(kind='bar')\n",
    "plt.title('Frequency of manipulation techniques')\n",
    "plt.xlabel('Class')\n",
    "plt.ylabel('Frequency')\n",
    "plt.xticks(rotation=45, ha='right')\n",
    "\n",
    "# Add numbers on top of the bar\n",
    "for i, v in enumerate(classes):\n",
    "    ax.text(i, v+10, str(v), ha='center')\n",
    "    \n",
    "# Add red line\n",
    "plt.axhline(y=400, color='r', linestyle='--', linewidth=2)\n",
    "\n",
    "plt.tight_layout()\n",
    "plt.show()"
   ],
   "metadata": {
    "collapsed": false,
    "ExecuteTime": {
     "end_time": "2024-05-15T13:01:25.102780300Z",
     "start_time": "2024-05-15T13:01:24.896792700Z"
    }
   },
   "id": "c89628a888833633",
   "execution_count": 7
  },
  {
   "cell_type": "code",
   "outputs": [],
   "source": [
    "# Function to convert string representations to dictionaries\n",
    "def convert_to_dict(annotation):\n",
    "    return ast.literal_eval(annotation)\n",
    "\n",
    "# Convert string representations to dictionaries\n",
    "df['annotation_new'] = df['annotation_new'].apply(convert_to_dict)\n",
    "\n",
    "# Function to convert dictionary values to integers\n",
    "def convert_to_int(annotation):\n",
    "    return {'name': annotation['name'], 'start': int(annotation['start']), 'end': int(annotation['end'])}\n",
    "\n",
    "# Apply the function to the 'annotation_new' column\n",
    "df['annotation_new'] = df['annotation_new'].apply(convert_to_int)"
   ],
   "metadata": {
    "collapsed": false,
    "ExecuteTime": {
     "end_time": "2024-05-15T13:01:29.770908500Z",
     "start_time": "2024-05-15T13:01:29.734914100Z"
    }
   },
   "id": "2613c8ecd86eb27",
   "execution_count": 8
  },
  {
   "cell_type": "code",
   "outputs": [
    {
     "data": {
      "text/plain": "      message_id                                      message_clean  \\\n0          60010   або водії дотримуються правил дорожнього руху...   \n1          60020   якщо не ремонтувати дорогу, то автомобілісти ...   \n2          60030   чи люди будуть стояти в заторах далі, чи можн...   \n3          60040  у харкові планується витратити мільйон гривень...   \n4          60050  громадський активіст заявив, що ремонт туалету...   \n...          ...                                                ...   \n5561     1636685  польща голосує за зміну влади: що це означає і...   \n5562     1636685  польща голосує за зміну влади: що це означає і...   \n5563     1636698  \"орбан\" із гааги: чи зможе противник допомоги ...   \n5564     1636698  \"орбан\" із гааги: чи зможе противник допомоги ...   \n5565     1637879  отруйний газ скидають в окопи зсу окупанти на ...   \n\n                                         annotation_new             name  \n0        {'name': 'Black_White', 'start': 0, 'end': 84}      Black_White  \n1       {'name': 'Black_White', 'start': 0, 'end': 122}      Black_White  \n2        {'name': 'Black_White', 'start': 0, 'end': 69}      Black_White  \n3     {'name': 'Black_White', 'start': 160, 'end': 260}      Black_White  \n4     {'name': 'Black_White', 'start': 107, 'end': 196}      Black_White  \n...                                                 ...              ...  \n5561  {'name': 'Doubts_partners', 'start': 968, 'end...  Doubts_partners  \n5562  {'name': 'Doubts_partners', 'start': 1183, 'en...  Doubts_partners  \n5563  {'name': 'Emotion_other', 'start': 413, 'end':...    Emotion_other  \n5564  {'name': 'Emotion_other', 'start': 413, 'end':...    Emotion_other  \n5565    {'name': 'Emotion_Fear', 'start': 0, 'end': 28}     Emotion_Fear  \n\n[5566 rows x 4 columns]",
      "text/html": "<div>\n<style scoped>\n    .dataframe tbody tr th:only-of-type {\n        vertical-align: middle;\n    }\n\n    .dataframe tbody tr th {\n        vertical-align: top;\n    }\n\n    .dataframe thead th {\n        text-align: right;\n    }\n</style>\n<table border=\"1\" class=\"dataframe\">\n  <thead>\n    <tr style=\"text-align: right;\">\n      <th></th>\n      <th>message_id</th>\n      <th>message_clean</th>\n      <th>annotation_new</th>\n      <th>name</th>\n    </tr>\n  </thead>\n  <tbody>\n    <tr>\n      <th>0</th>\n      <td>60010</td>\n      <td>або водії дотримуються правил дорожнього руху...</td>\n      <td>{'name': 'Black_White', 'start': 0, 'end': 84}</td>\n      <td>Black_White</td>\n    </tr>\n    <tr>\n      <th>1</th>\n      <td>60020</td>\n      <td>якщо не ремонтувати дорогу, то автомобілісти ...</td>\n      <td>{'name': 'Black_White', 'start': 0, 'end': 122}</td>\n      <td>Black_White</td>\n    </tr>\n    <tr>\n      <th>2</th>\n      <td>60030</td>\n      <td>чи люди будуть стояти в заторах далі, чи можн...</td>\n      <td>{'name': 'Black_White', 'start': 0, 'end': 69}</td>\n      <td>Black_White</td>\n    </tr>\n    <tr>\n      <th>3</th>\n      <td>60040</td>\n      <td>у харкові планується витратити мільйон гривень...</td>\n      <td>{'name': 'Black_White', 'start': 160, 'end': 260}</td>\n      <td>Black_White</td>\n    </tr>\n    <tr>\n      <th>4</th>\n      <td>60050</td>\n      <td>громадський активіст заявив, що ремонт туалету...</td>\n      <td>{'name': 'Black_White', 'start': 107, 'end': 196}</td>\n      <td>Black_White</td>\n    </tr>\n    <tr>\n      <th>...</th>\n      <td>...</td>\n      <td>...</td>\n      <td>...</td>\n      <td>...</td>\n    </tr>\n    <tr>\n      <th>5561</th>\n      <td>1636685</td>\n      <td>польща голосує за зміну влади: що це означає і...</td>\n      <td>{'name': 'Doubts_partners', 'start': 968, 'end...</td>\n      <td>Doubts_partners</td>\n    </tr>\n    <tr>\n      <th>5562</th>\n      <td>1636685</td>\n      <td>польща голосує за зміну влади: що це означає і...</td>\n      <td>{'name': 'Doubts_partners', 'start': 1183, 'en...</td>\n      <td>Doubts_partners</td>\n    </tr>\n    <tr>\n      <th>5563</th>\n      <td>1636698</td>\n      <td>\"орбан\" із гааги: чи зможе противник допомоги ...</td>\n      <td>{'name': 'Emotion_other', 'start': 413, 'end':...</td>\n      <td>Emotion_other</td>\n    </tr>\n    <tr>\n      <th>5564</th>\n      <td>1636698</td>\n      <td>\"орбан\" із гааги: чи зможе противник допомоги ...</td>\n      <td>{'name': 'Emotion_other', 'start': 413, 'end':...</td>\n      <td>Emotion_other</td>\n    </tr>\n    <tr>\n      <th>5565</th>\n      <td>1637879</td>\n      <td>отруйний газ скидають в окопи зсу окупанти на ...</td>\n      <td>{'name': 'Emotion_Fear', 'start': 0, 'end': 28}</td>\n      <td>Emotion_Fear</td>\n    </tr>\n  </tbody>\n</table>\n<p>5566 rows × 4 columns</p>\n</div>"
     },
     "execution_count": 10,
     "metadata": {},
     "output_type": "execute_result"
    }
   ],
   "source": [
    "df"
   ],
   "metadata": {
    "collapsed": false,
    "ExecuteTime": {
     "end_time": "2024-05-15T13:11:58.622675Z",
     "start_time": "2024-05-15T13:11:58.584682200Z"
    }
   },
   "id": "a871652018423da4",
   "execution_count": 10
  },
  {
   "cell_type": "code",
   "outputs": [
    {
     "data": {
      "text/plain": "      message_id                                      message_clean  \\\n0          20010   знову зявилися сумніви щодо ефективності кері...   \n1          20020   чи то керівництво зсу спеціально неприділяє у...   \n2          20030   знову поступають повідомлення про втечі війсь...   \n3          20040   скоріше за все, керівництво зсу знову не пікл...   \n4          20050  ветерани війни в україні знову звернуться із з...   \n...          ...                                                ...   \n3958     1636679  що розповів зеленський на пресконференції? зіб...   \n3959     1636685  польща голосує за зміну влади: що це означає і...   \n3960     1636698  \"орбан\" із гааги: чи зможе противник допомоги ...   \n3961     1637606  скандал із співробітником віськомату в запоріж...   \n3962     1637879  отруйний газ скидають в окопи зсу окупанти на ...   \n\n                                         annotation_new  \n0     [{'name': 'Doubts_Army', 'start': 0, 'end': 303}]  \n1     [{'name': 'Doubts_Army', 'start': 0, 'end': 234}]  \n2     [{'name': 'Doubts_Army', 'start': 0, 'end': 232}]  \n3     [{'name': 'Doubts_Army', 'start': 0, 'end': 236}]  \n4     [{'name': 'Doubts_Army', 'start': 106, 'end': ...  \n...                                                 ...  \n3958  [{'name': 'Doubts_government', 'start': 800, '...  \n3959  [{'name': 'Emotion_other', 'start': 879, 'end'...  \n3960  [{'name': 'Emotion_other', 'start': 413, 'end'...  \n3961  [{'name': 'Doubts_Army', 'start': 0, 'end': 35...  \n3962  [{'name': 'Emotion_Fear', 'start': 0, 'end': 28}]  \n\n[3963 rows x 3 columns]",
      "text/html": "<div>\n<style scoped>\n    .dataframe tbody tr th:only-of-type {\n        vertical-align: middle;\n    }\n\n    .dataframe tbody tr th {\n        vertical-align: top;\n    }\n\n    .dataframe thead th {\n        text-align: right;\n    }\n</style>\n<table border=\"1\" class=\"dataframe\">\n  <thead>\n    <tr style=\"text-align: right;\">\n      <th></th>\n      <th>message_id</th>\n      <th>message_clean</th>\n      <th>annotation_new</th>\n    </tr>\n  </thead>\n  <tbody>\n    <tr>\n      <th>0</th>\n      <td>20010</td>\n      <td>знову зявилися сумніви щодо ефективності кері...</td>\n      <td>[{'name': 'Doubts_Army', 'start': 0, 'end': 303}]</td>\n    </tr>\n    <tr>\n      <th>1</th>\n      <td>20020</td>\n      <td>чи то керівництво зсу спеціально неприділяє у...</td>\n      <td>[{'name': 'Doubts_Army', 'start': 0, 'end': 234}]</td>\n    </tr>\n    <tr>\n      <th>2</th>\n      <td>20030</td>\n      <td>знову поступають повідомлення про втечі війсь...</td>\n      <td>[{'name': 'Doubts_Army', 'start': 0, 'end': 232}]</td>\n    </tr>\n    <tr>\n      <th>3</th>\n      <td>20040</td>\n      <td>скоріше за все, керівництво зсу знову не пікл...</td>\n      <td>[{'name': 'Doubts_Army', 'start': 0, 'end': 236}]</td>\n    </tr>\n    <tr>\n      <th>4</th>\n      <td>20050</td>\n      <td>ветерани війни в україні знову звернуться із з...</td>\n      <td>[{'name': 'Doubts_Army', 'start': 106, 'end': ...</td>\n    </tr>\n    <tr>\n      <th>...</th>\n      <td>...</td>\n      <td>...</td>\n      <td>...</td>\n    </tr>\n    <tr>\n      <th>3958</th>\n      <td>1636679</td>\n      <td>що розповів зеленський на пресконференції? зіб...</td>\n      <td>[{'name': 'Doubts_government', 'start': 800, '...</td>\n    </tr>\n    <tr>\n      <th>3959</th>\n      <td>1636685</td>\n      <td>польща голосує за зміну влади: що це означає і...</td>\n      <td>[{'name': 'Emotion_other', 'start': 879, 'end'...</td>\n    </tr>\n    <tr>\n      <th>3960</th>\n      <td>1636698</td>\n      <td>\"орбан\" із гааги: чи зможе противник допомоги ...</td>\n      <td>[{'name': 'Emotion_other', 'start': 413, 'end'...</td>\n    </tr>\n    <tr>\n      <th>3961</th>\n      <td>1637606</td>\n      <td>скандал із співробітником віськомату в запоріж...</td>\n      <td>[{'name': 'Doubts_Army', 'start': 0, 'end': 35...</td>\n    </tr>\n    <tr>\n      <th>3962</th>\n      <td>1637879</td>\n      <td>отруйний газ скидають в окопи зсу окупанти на ...</td>\n      <td>[{'name': 'Emotion_Fear', 'start': 0, 'end': 28}]</td>\n    </tr>\n  </tbody>\n</table>\n<p>3963 rows × 3 columns</p>\n</div>"
     },
     "execution_count": 11,
     "metadata": {},
     "output_type": "execute_result"
    }
   ],
   "source": [
    "df = df[[\"message_id\", \"message_clean\", \"annotation_new\"]]\n",
    "merged_df = df.groupby('message_id').agg({'message_clean': 'first', 'annotation_new': lambda x: x.tolist()}).reset_index()\n",
    "merged_df"
   ],
   "metadata": {
    "collapsed": false,
    "ExecuteTime": {
     "end_time": "2024-05-15T13:12:00.406906500Z",
     "start_time": "2024-05-15T13:12:00.324907700Z"
    }
   },
   "id": "a2c7333c91788b3b",
   "execution_count": 11
  },
  {
   "cell_type": "code",
   "outputs": [
    {
     "data": {
      "text/plain": "3963"
     },
     "execution_count": 12,
     "metadata": {},
     "output_type": "execute_result"
    }
   ],
   "source": [
    "merged_df[\"message_id\"].nunique()"
   ],
   "metadata": {
    "collapsed": false,
    "ExecuteTime": {
     "end_time": "2024-05-15T13:12:05.844619500Z",
     "start_time": "2024-05-15T13:12:05.778611100Z"
    }
   },
   "id": "572bbb6594a01383",
   "execution_count": 12
  },
  {
   "cell_type": "markdown",
   "source": [
    "## Devide to train and dev "
   ],
   "metadata": {
    "collapsed": false
   },
   "id": "c837681c86a708e3"
  },
  {
   "cell_type": "code",
   "outputs": [
    {
     "name": "stdout",
     "output_type": "stream",
     "text": [
      "3368\n",
      "595\n"
     ]
    }
   ],
   "source": [
    "train_ids, dev_ids = train_test_split(merged_df[\"message_id\"].unique(), test_size=0.15, random_state=108)\n",
    "# Filter the data based on the train and test IDs\n",
    "train_df = merged_df[merged_df['message_id'].isin(train_ids)]\n",
    "dev_df = merged_df[merged_df['message_id'].isin(dev_ids)]\n",
    "print(len(train_df))\n",
    "print(len(dev_df))"
   ],
   "metadata": {
    "collapsed": false,
    "ExecuteTime": {
     "end_time": "2024-05-15T13:12:08.788712200Z",
     "start_time": "2024-05-15T13:12:08.758734800Z"
    }
   },
   "id": "f8259f2d9f1fad3e",
   "execution_count": 13
  },
  {
   "cell_type": "code",
   "outputs": [
    {
     "name": "stdout",
     "output_type": "stream",
     "text": [
      "Emotion_other           0.203006\n",
      "Emotion_Fear            0.113675\n",
      "Doubts_government       0.099280\n",
      "Doubts_media            0.095047\n",
      "Black_White             0.092295\n",
      "Emotion_Anger           0.089543\n",
      "Doubts_Army             0.087849\n",
      "Doubts_partners         0.079805\n",
      "Doubts_other            0.074725\n",
      "Emotion_Hate_Disgust    0.064776\n",
      "dtype: float64\n"
     ]
    }
   ],
   "source": [
    "# # Check the frequences of each class in train df\n",
    "all_names = [item['name'] for sublist in train_df['annotation_new'] for item in sublist]\n",
    "\n",
    "# Count occurrences of each unique 'name'\n",
    "name_counts = pd.Series(all_names).value_counts(normalize=True)\n",
    "print(name_counts)"
   ],
   "metadata": {
    "collapsed": false,
    "ExecuteTime": {
     "end_time": "2024-05-15T13:12:10.620190700Z",
     "start_time": "2024-05-15T13:12:10.597183200Z"
    }
   },
   "id": "f9fe3f18a039a273",
   "execution_count": 14
  },
  {
   "cell_type": "code",
   "outputs": [
    {
     "name": "stdout",
     "output_type": "stream",
     "text": [
      "Emotion_other           0.190024\n",
      "Emotion_Fear            0.114014\n",
      "Black_White             0.098575\n",
      "Emotion_Anger           0.092637\n",
      "Doubts_Army             0.089074\n",
      "Doubts_government       0.089074\n",
      "Emotion_Hate_Disgust    0.087886\n",
      "Doubts_media            0.086698\n",
      "Doubts_partners         0.076010\n",
      "Doubts_other            0.076010\n",
      "dtype: float64\n"
     ]
    }
   ],
   "source": [
    "# # Check the frequences of each class in dev df\n",
    "all_names = [item['name'] for sublist in dev_df['annotation_new'] for item in sublist]\n",
    "\n",
    "# Count occurrences of each unique 'name'\n",
    "name_counts = pd.Series(all_names).value_counts(normalize=True)\n",
    "print(name_counts)"
   ],
   "metadata": {
    "collapsed": false,
    "ExecuteTime": {
     "end_time": "2024-05-15T13:12:11.339934400Z",
     "start_time": "2024-05-15T13:12:11.314992400Z"
    }
   },
   "id": "6f6edf9a727693b0",
   "execution_count": 15
  },
  {
   "cell_type": "markdown",
   "source": [
    "#### Calculate weights for each class in train df"
   ],
   "metadata": {
    "collapsed": false
   },
   "id": "c8f671b1664f505d"
  },
  {
   "cell_type": "code",
   "outputs": [],
   "source": [
    "techniques = \"C:/N/st/UCU/5sem2024_DIPLOMA/Manipulation/code/my_master/propaganda-techniques-names.txt\"\n",
    "class_dict = {}  #to dictionary\n",
    "label = 0\n",
    "with open(techniques, \"r\") as f:\n",
    "  for technique in f:\n",
    "    class_dict[technique.replace(\"\\n\", \"\")] = int(label)\n",
    "    label += 1"
   ],
   "metadata": {
    "collapsed": false,
    "ExecuteTime": {
     "end_time": "2024-05-15T13:12:22.164457500Z",
     "start_time": "2024-05-15T13:12:22.139461500Z"
    }
   },
   "id": "1c03629d1fdb5a3",
   "execution_count": 16
  },
  {
   "cell_type": "code",
   "outputs": [
    {
     "data": {
      "text/plain": "9     5.262500\n6     8.770833\n5    10.144578\n7    10.794872\n1    11.226667\n0    11.226667\n8    11.378378\n2    11.534247\n3    13.156250\n4    13.156250\nName: Class, dtype: float64"
     },
     "execution_count": 17,
     "metadata": {},
     "output_type": "execute_result"
    }
   ],
   "source": [
    "def calculate_class_weights(df):\n",
    "    \"\"\"\n",
    "    Calculates class weights based on the frequency of each class in the dataset\n",
    "    \"\"\"\n",
    "    class_counts = df.value_counts()\n",
    "    total_samples = len(df)\n",
    "    class_weights = total_samples / class_counts\n",
    "    return class_weights\n",
    "\n",
    "# Calculate class weights\n",
    "df_fr = pd.DataFrame(all_names, columns=['Class'])\n",
    "df_fr['Class'] = df_fr['Class'].map(class_dict)\n",
    "class_weights = calculate_class_weights(df_fr['Class'])\n",
    "class_weights"
   ],
   "metadata": {
    "collapsed": false,
    "ExecuteTime": {
     "end_time": "2024-05-15T13:12:26.097464Z",
     "start_time": "2024-05-15T13:12:26.066463200Z"
    }
   },
   "id": "87516acc45bf7f47",
   "execution_count": 17
  },
  {
   "cell_type": "code",
   "outputs": [],
   "source": [
    "# # Save class weights to a text file\n",
    "with open('C:/N/st/UCU/5sem2024_DIPLOMA/Manipulation/code/my_master/datasets/upsampling/class_weights_10_numbers_upsampling.txt', 'w') as f:\n",
    "    for class_name, weight in class_weights.items():\n",
    "        f.write(f\"{class_name}: {weight}\\n\")"
   ],
   "metadata": {
    "collapsed": false,
    "ExecuteTime": {
     "end_time": "2024-05-15T13:12:47.414669300Z",
     "start_time": "2024-05-15T13:12:47.376639Z"
    }
   },
   "id": "115f1e553e947301",
   "execution_count": 18
  },
  {
   "cell_type": "markdown",
   "source": [
    "## Save train and dev datasets"
   ],
   "metadata": {
    "collapsed": false
   },
   "id": "b1a45f04f637b9dd"
  },
  {
   "cell_type": "code",
   "outputs": [],
   "source": [
    "# Save train and def\n",
    "train_df.to_csv(\"C:/N/st/UCU/5sem2024_DIPLOMA/Manipulation/code/my_master/datasets/upsampling/input_train_new.csv\", index=False)\n",
    "dev_df.to_csv(\"C:/N/st/UCU/5sem2024_DIPLOMA/Manipulation/code/my_master/datasets/upsampling/input_dev_new.csv\", index=False)"
   ],
   "metadata": {
    "collapsed": false,
    "ExecuteTime": {
     "end_time": "2024-05-14T22:44:09.828434800Z",
     "start_time": "2024-05-14T22:44:09.761437800Z"
    }
   },
   "id": "ce46b3c4624e5b55",
   "execution_count": 105
  },
  {
   "cell_type": "code",
   "outputs": [
    {
     "name": "stderr",
     "output_type": "stream",
     "text": [
      "Saving Files: 100%|██████████| 595/595 [20:35<00:00,  2.08s/it]  \n",
      "Saving Files:  98%|█████████▊| 3314/3368 [00:01<00:00, 2057.48it/s]"
     ]
    },
    {
     "name": "stdout",
     "output_type": "stream",
     "text": [
      "All files are saved.\n"
     ]
    }
   ],
   "source": [
    "# Save text for train \n",
    "output_dir = \"C:/N/st/UCU/5sem2024_DIPLOMA/Manipulation/code/my_master/datasets/upsampling/train\"\n",
    "\n",
    "# Initialize tqdm progress bar\n",
    "pbar = tqdm(total=len(train_df), desc='Saving Files')\n",
    "\n",
    "# Iterate over each row in the DataFrame\n",
    "for _, row in train_df.iterrows():\n",
    "    # Extract message_id\n",
    "    message_id = row[\"message_id\"]\n",
    "    text = row[\"message_clean\"]\n",
    "\n",
    "    # Create file name\n",
    "    file_name = f\"article{message_id}.txt\"\n",
    "    \n",
    "    # Write the content to a file\n",
    "    with open(os.path.join(output_dir, file_name), \"w\", encoding='utf-8') as file:\n",
    "        file.write(text)\n",
    "        \n",
    "    # Update tqdm progress bar\n",
    "    pbar.update(1)\n",
    "\n",
    "print(\"All files are saved.\")"
   ],
   "metadata": {
    "collapsed": false,
    "ExecuteTime": {
     "end_time": "2024-05-14T22:44:42.204298900Z",
     "start_time": "2024-05-14T22:44:40.537521200Z"
    }
   },
   "id": "386d19796e0ae496",
   "execution_count": 106
  },
  {
   "cell_type": "code",
   "outputs": [
    {
     "name": "stderr",
     "output_type": "stream",
     "text": [
      "\n",
      "Saving Files: 100%|██████████| 3368/3368 [00:11<00:00, 292.84it/s] \n",
      "\n",
      "Saving Files:  27%|██▋       | 159/595 [00:00<00:00, 1589.95it/s]\u001B[A\n",
      "Saving Files:  53%|█████▎    | 318/595 [00:00<00:00, 1393.29it/s]\u001B[A\n",
      "Saving Files:  78%|███████▊  | 466/595 [00:00<00:00, 1424.03it/s]\u001B[A"
     ]
    },
    {
     "name": "stdout",
     "output_type": "stream",
     "text": [
      "All files are saved.\n"
     ]
    }
   ],
   "source": [
    "# Save text for dev \n",
    "output_dir = \"C:/N/st/UCU/5sem2024_DIPLOMA/Manipulation/code/my_master/datasets/upsampling/dev\"\n",
    "\n",
    "# Initialize tqdm progress bar\n",
    "pbar = tqdm(total=len(dev_df), desc='Saving Files')\n",
    "\n",
    "# Iterate over each row in the DataFrame\n",
    "for _, row in dev_df.iterrows():\n",
    "    # Extract message_id\n",
    "    message_id = row[\"message_id\"]\n",
    "    text = row[\"message_clean\"]\n",
    "\n",
    "    # Create file name\n",
    "    file_name = f\"article{message_id}.txt\"\n",
    "    \n",
    "    # Write the content to a file\n",
    "    with open(os.path.join(output_dir, file_name), \"w\", encoding='utf-8') as file:\n",
    "        file.write(text)\n",
    "        \n",
    "    # Update tqdm progress bar\n",
    "    pbar.update(1)\n",
    "\n",
    "print(\"All files are saved.\")"
   ],
   "metadata": {
    "collapsed": false,
    "ExecuteTime": {
     "end_time": "2024-05-14T22:44:52.476669600Z",
     "start_time": "2024-05-14T22:44:52.037671400Z"
    }
   },
   "id": "6a59faa8ae3d7c13",
   "execution_count": 107
  },
  {
   "cell_type": "markdown",
   "source": [
    "#### SI"
   ],
   "metadata": {
    "collapsed": false
   },
   "id": "48433e6f9357803f"
  },
  {
   "cell_type": "code",
   "outputs": [
    {
     "name": "stderr",
     "output_type": "stream",
     "text": [
      "Saving Files: 100%|██████████| 595/595 [00:29<00:00, 19.88it/s]  \n",
      "Saving Files:  96%|█████████▋| 3249/3368 [00:01<00:00, 1447.03it/s]"
     ]
    },
    {
     "name": "stdout",
     "output_type": "stream",
     "text": [
      "All files are saved.\n"
     ]
    }
   ],
   "source": [
    "# Save labels for train for SI\n",
    "output_dir = \"C:/N/st/UCU/5sem2024_DIPLOMA/Manipulation/code/my_master/datasets/upsampling/train_SI_labels\"\n",
    "\n",
    "# Initialize tqdm progress bar\n",
    "pbar = tqdm(total=len(train_df), desc='Saving Files')\n",
    "\n",
    "# Iterate over each row in the DataFrame\n",
    "for _, row in train_df.iterrows():\n",
    "    # Extract message_id\n",
    "    message_id = row[\"message_id\"]\n",
    "    \n",
    "    # Create an empty list to store the lines to be written to the file\n",
    "    lines = []\n",
    "\n",
    "    # Iterate over each annotation in the 'annotations' column\n",
    "    for annotation in row[\"annotation_new\"]:\n",
    "        # Extract information from the annotation\n",
    "        start = annotation[\"start\"]\n",
    "        end = annotation[\"end\"]\n",
    "        \n",
    "        # Construct the line to be written to the file\n",
    "        line = f\"{message_id}\\t{start}\\t{end}\"\n",
    "        \n",
    "        # Append the line to the list\n",
    "        lines.append(line)\n",
    "\n",
    "\n",
    "    # Join all lines with newline characters to create the content of the file\n",
    "    file_content = \"\\n\".join(lines)\n",
    "    # Create file name\n",
    "    file_name = f\"article{message_id}.labels.tsv\"\n",
    "    \n",
    "    # Write the content to a file\n",
    "    with open(os.path.join(output_dir, file_name), \"w\", encoding='utf-8') as file:\n",
    "        file.write(file_content)\n",
    "        \n",
    "    # Update tqdm progress bar\n",
    "    pbar.update(1)\n",
    "\n",
    "print(\"All files are saved.\")"
   ],
   "metadata": {
    "collapsed": false,
    "ExecuteTime": {
     "end_time": "2024-05-14T22:45:24.079614200Z",
     "start_time": "2024-05-14T22:45:21.964596200Z"
    }
   },
   "id": "88f263b4fa32f2a3",
   "execution_count": 108
  },
  {
   "cell_type": "code",
   "outputs": [
    {
     "name": "stderr",
     "output_type": "stream",
     "text": [
      "\n",
      "Saving Files: 100%|██████████| 3368/3368 [00:18<00:00, 184.51it/s] \n",
      "\n",
      "Saving Files:  27%|██▋       | 160/595 [00:00<00:00, 1599.98it/s]\u001B[A\n",
      "Saving Files:  54%|█████▍    | 320/595 [00:00<00:00, 1373.73it/s]\u001B[A\n",
      "Saving Files:  77%|███████▋  | 460/595 [00:00<00:00, 1373.24it/s]\u001B[A"
     ]
    },
    {
     "name": "stdout",
     "output_type": "stream",
     "text": [
      "All files are saved.\n"
     ]
    }
   ],
   "source": [
    "# Save labels for dev for SI\n",
    "output_dir = \"C:/N/st/UCU/5sem2024_DIPLOMA/Manipulation/code/my_master/datasets/upsampling/dev_SI_labels\"\n",
    "\n",
    "# Initialize tqdm progress bar\n",
    "pbar = tqdm(total=len(dev_df), desc='Saving Files')\n",
    "\n",
    "# Iterate over each row in the DataFrame\n",
    "for _, row in dev_df.iterrows():\n",
    "    # Extract message_id\n",
    "    message_id = row[\"message_id\"]\n",
    "    \n",
    "    # Create an empty list to store the lines to be written to the file\n",
    "    lines = []\n",
    "\n",
    "    # Iterate over each annotation in the 'annotations' column\n",
    "    for annotation in row[\"annotation_new\"]:\n",
    "        # Extract information from the annotation\n",
    "        start = annotation[\"start\"]\n",
    "        end = annotation[\"end\"]\n",
    "        \n",
    "        # Construct the line to be written to the file\n",
    "        line = f\"{message_id}\\t{start}\\t{end}\"\n",
    "        \n",
    "        # Append the line to the list\n",
    "        lines.append(line)\n",
    "\n",
    "\n",
    "    # Join all lines with newline characters to create the content of the file\n",
    "    file_content = \"\\n\".join(lines)\n",
    "    # Create file name\n",
    "    file_name = f\"article{message_id}.labels.tsv\"\n",
    "    \n",
    "    # Write the content to a file\n",
    "    with open(os.path.join(output_dir, file_name), \"w\", encoding='utf-8') as file:\n",
    "        file.write(file_content)\n",
    "        \n",
    "    # Update tqdm progress bar\n",
    "    pbar.update(1)\n",
    "\n",
    "print(\"All files are saved.\")"
   ],
   "metadata": {
    "collapsed": false,
    "ExecuteTime": {
     "end_time": "2024-05-14T22:45:40.655403Z",
     "start_time": "2024-05-14T22:45:40.216354100Z"
    }
   },
   "id": "cdc9aca0513638ea",
   "execution_count": 109
  },
  {
   "cell_type": "code",
   "outputs": [],
   "source": [
    "# Save truth labels  for techniques\n",
    "output_dir = \"C:/N/st/UCU/5sem2024_DIPLOMA/Manipulation/code/my_master/datasets/upsampling\"\n",
    "\n",
    "lines = []\n",
    "# Iterate over each row in the DataFrame\n",
    "for _, row in dev_df.iterrows():\n",
    "    # Extract message_id\n",
    "    message_id = row[\"message_id\"]\n",
    "\n",
    "    # Iterate over each annotation in the 'annotations' column\n",
    "    for annotation in row[\"annotation_new\"]:\n",
    "        # Extract information from the annotation\n",
    "        start = annotation[\"start\"]\n",
    "        #name = annotation[\"name\"]\n",
    "        end = annotation[\"end\"]\n",
    "        \n",
    "        # Construct the line to be written to the file\n",
    "        line = f\"{message_id}\\t{start}\\t{end}\"\n",
    "        \n",
    "        # Append the line to the list\n",
    "        lines.append(line)\n",
    "\n",
    "# Join all lines with newline characters to create the content of the file\n",
    "file_content = \"\\n\".join(lines)\n",
    "    \n",
    "# Write the content to a file\n",
    "with open(os.path.join(output_dir, \"SI.labels_true.txt\"), \"w\", encoding='utf-8') as file:\n",
    "        file.write(file_content)"
   ],
   "metadata": {
    "collapsed": false,
    "ExecuteTime": {
     "end_time": "2024-05-14T22:45:57.322002900Z",
     "start_time": "2024-05-14T22:45:57.309993800Z"
    }
   },
   "id": "cd7a82ea86e6a38a",
   "execution_count": 110
  },
  {
   "cell_type": "markdown",
   "source": [
    "#### TC 10"
   ],
   "metadata": {
    "collapsed": false
   },
   "id": "a096c6ddfed70435"
  },
  {
   "cell_type": "code",
   "outputs": [
    {
     "name": "stderr",
     "output_type": "stream",
     "text": [
      "Saving Files:  99%|█████████▉| 3328/3368 [00:01<00:00, 2060.77it/s]"
     ]
    },
    {
     "name": "stdout",
     "output_type": "stream",
     "text": [
      "All files are saved.\n"
     ]
    }
   ],
   "source": [
    "# Save labels for train for TC\n",
    "output_dir = \"C:/N/st/UCU/5sem2024_DIPLOMA/Manipulation/code/my_master/datasets/upsampling/train_TC_labels_10_upsampling\"\n",
    "\n",
    "# Initialize tqdm progress bar\n",
    "pbar = tqdm(total=len(train_df), desc='Saving Files')\n",
    "\n",
    "# Iterate over each row in the DataFrame\n",
    "for _, row in train_df.iterrows():\n",
    "    # Extract message_id\n",
    "    message_id = row[\"message_id\"]\n",
    "    \n",
    "    # Create an empty list to store the lines to be written to the file\n",
    "    lines = []\n",
    "\n",
    "    # Iterate over each annotation in the 'annotations' column\n",
    "    for annotation in row[\"annotation_new\"]:\n",
    "        # Extract information from the annotation\n",
    "        name = annotation[\"name\"]\n",
    "        #token = annotation[\"token\"]\n",
    "        start = annotation[\"start\"]\n",
    "        end = annotation[\"end\"]\n",
    "        \n",
    "        # Construct the line to be written to the file\n",
    "        line = f\"{message_id}\\t{name}\\t{start}\\t{end}\"\n",
    "        \n",
    "        # Append the line to the list\n",
    "        lines.append(line)\n",
    "\n",
    "\n",
    "    # Join all lines with newline characters to create the content of the file\n",
    "    file_content = \"\\n\".join(lines)\n",
    "    # Create file name\n",
    "    file_name = f\"article{message_id}.labels.tsv\"\n",
    "    \n",
    "    # Write the content to a file\n",
    "    with open(os.path.join(output_dir, file_name), \"w\", encoding='utf-8') as file:\n",
    "        file.write(file_content)\n",
    "        \n",
    "    # Update tqdm progress bar\n",
    "    pbar.update(1)\n",
    "\n",
    "print(\"All files are saved.\")"
   ],
   "metadata": {
    "collapsed": false,
    "ExecuteTime": {
     "end_time": "2024-05-15T13:13:09.481016300Z",
     "start_time": "2024-05-15T13:13:07.881017700Z"
    }
   },
   "id": "5b6121c9b659504d",
   "execution_count": 19
  },
  {
   "cell_type": "code",
   "outputs": [],
   "source": [
    "# Save template for techniques pred\n",
    "output_dir = \"C:/N/st/UCU/5sem2024_DIPLOMA/Manipulation/code/my_master/datasets/upsampling/\"\n",
    "\n",
    "lines = []\n",
    "# Iterate over each row in the DataFrame\n",
    "for _, row in dev_df.iterrows():\n",
    "    # Extract message_id\n",
    "    message_id = row[\"message_id\"]\n",
    "\n",
    "    # Iterate over each annotation in the 'annotations' column\n",
    "    for annotation in row[\"annotation_new\"]:\n",
    "        # Extract information from the annotation\n",
    "        start = annotation[\"start\"]\n",
    "        end = annotation[\"end\"]\n",
    "        \n",
    "        # Construct the line to be written to the file\n",
    "        line = f\"{message_id}\\t?\\t{start}\\t{end}\"\n",
    "        \n",
    "        # Append the line to the list\n",
    "        lines.append(line)\n",
    "\n",
    "# Join all lines with newline characters to create the content of the file\n",
    "file_content = \"\\n\".join(lines)\n",
    "    \n",
    "# Write the content to a file\n",
    "with open(os.path.join(output_dir, \"TC_labels_for_eval_10_upsampling.txt\"), \"w\", encoding='utf-8') as file:\n",
    "        file.write(file_content)"
   ],
   "metadata": {
    "collapsed": false,
    "ExecuteTime": {
     "end_time": "2024-05-15T13:13:55.654743800Z",
     "start_time": "2024-05-15T13:13:55.637745500Z"
    }
   },
   "id": "a73afae8977f8",
   "execution_count": 20
  },
  {
   "cell_type": "code",
   "outputs": [],
   "source": [
    "# Save truth labels  for techniques\n",
    "output_dir = \"C:/N/st/UCU/5sem2024_DIPLOMA/Manipulation/code/my_master/datasets/upsampling/\"\n",
    "\n",
    "lines = []\n",
    "# Iterate over each row in the DataFrame\n",
    "for _, row in dev_df.iterrows():\n",
    "    # Extract message_id\n",
    "    message_id = row[\"message_id\"]\n",
    "\n",
    "    # Iterate over each annotation in the 'annotations' column\n",
    "    for annotation in row[\"annotation_new\"]:\n",
    "        # Extract information from the annotation\n",
    "        start = annotation[\"start\"]\n",
    "        name = annotation[\"name\"]\n",
    "        end = annotation[\"end\"]\n",
    "        \n",
    "        # Construct the line to be written to the file\n",
    "        line = f\"{message_id}\\t{name}\\t{start}\\t{end}\"\n",
    "        \n",
    "        # Append the line to the list\n",
    "        lines.append(line)\n",
    "\n",
    "# Join all lines with newline characters to create the content of the file\n",
    "file_content = \"\\n\".join(lines)\n",
    "    \n",
    "# Write the content to a file\n",
    "with open(os.path.join(output_dir, \"TC.labels_true_10_upsampling.txt\"), \"w\", encoding='utf-8') as file:\n",
    "        file.write(file_content)"
   ],
   "metadata": {
    "collapsed": false,
    "ExecuteTime": {
     "end_time": "2024-05-15T13:15:12.914817400Z",
     "start_time": "2024-05-15T13:15:12.896816700Z"
    }
   },
   "id": "a369a45b3ebd652a",
   "execution_count": 21
  },
  {
   "cell_type": "code",
   "outputs": [],
   "source": [],
   "metadata": {
    "collapsed": false
   },
   "id": "f0e41e78e14d7044"
  }
 ],
 "metadata": {
  "kernelspec": {
   "display_name": "Python 3",
   "language": "python",
   "name": "python3"
  },
  "language_info": {
   "codemirror_mode": {
    "name": "ipython",
    "version": 2
   },
   "file_extension": ".py",
   "mimetype": "text/x-python",
   "name": "python",
   "nbconvert_exporter": "python",
   "pygments_lexer": "ipython2",
   "version": "2.7.6"
  }
 },
 "nbformat": 4,
 "nbformat_minor": 5
}
